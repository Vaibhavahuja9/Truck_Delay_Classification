{
 "cells": [
  {
   "cell_type": "markdown",
   "id": "3b631d86-60e6-4f34-9356-8b7366222054",
   "metadata": {},
   "source": [
    "# **Truck Delay Classification**\n",
    "\n",
    "In Part 2, we delve deeper into the machine-learning pipeline. Focusing on data retrieval from the feature store, train-validation-test split, one-hot encoding, scaling numerical features, and leveraging Weights and Biases for model experimentation, we will build our pipeline for model building with logistic regression, random forest, and XGBoost models. \n",
    "\n",
    "Further, we explore hyperparameter tuning with sweeps, discuss grid and random search, and, ultimately, the deployment of a Streamlit application on AWS."
   ]
  },
  {
   "cell_type": "markdown",
   "id": "2f4586f1-1060-48bd-b892-6095127a868a",
   "metadata": {},
   "source": [
    "## **Data Retrivel from Hopsworks**"
   ]
  },
  {
   "cell_type": "code",
   "execution_count": 1,
   "id": "c2ed3b1d-b1ed-4bc6-b719-3a8db1489faa",
   "metadata": {},
   "outputs": [],
   "source": [
    "import hopsworks"
   ]
  },
  {
   "cell_type": "code",
   "execution_count": 2,
   "id": "3f4facf6-b393-4136-9d9c-f10a345d6cda",
   "metadata": {},
   "outputs": [],
   "source": [
    "import pandas as pd"
   ]
  },
  {
   "cell_type": "code",
   "execution_count": 3,
   "id": "d521d46f-fff5-40b6-a198-b73137a13a57",
   "metadata": {},
   "outputs": [
    {
     "name": "stdout",
     "output_type": "stream",
     "text": [
      "2024-12-29 17:05:05,663 INFO: Initializing external client\n",
      "2024-12-29 17:05:05,663 INFO: Base URL: https://c.app.hopsworks.ai:443\n",
      "2024-12-29 17:05:07,159 INFO: Python Engine initialized.\n",
      "\n",
      "Logged in to project, explore it here https://c.app.hopsworks.ai:443/p/1208501\n"
     ]
    }
   ],
   "source": [
    "project = hopsworks.login()"
   ]
  },
  {
   "cell_type": "code",
   "execution_count": 4,
   "id": "ccea6d6c-40f7-4c96-8293-3ffb167cbbaf",
   "metadata": {},
   "outputs": [],
   "source": [
    "fs = project.get_feature_store()"
   ]
  },
  {
   "cell_type": "code",
   "execution_count": 5,
   "id": "d9018c5f-4059-4b75-9295-35bab07b0ace",
   "metadata": {},
   "outputs": [],
   "source": [
    "final_data = fs.get_feature_group('final_data', version = 1)"
   ]
  },
  {
   "cell_type": "code",
   "execution_count": 6,
   "id": "459bda88-88b2-4604-9b5d-34b8c2226e11",
   "metadata": {},
   "outputs": [],
   "source": [
    "query = final_data.select_all()"
   ]
  },
  {
   "cell_type": "code",
   "execution_count": 7,
   "id": "84e11c58-5221-48e2-b68c-e32093b045e3",
   "metadata": {},
   "outputs": [
    {
     "name": "stdout",
     "output_type": "stream",
     "text": [
      "Finished: Reading data from Hopsworks, using Hopsworks Feature Query Service (0.79s) \n"
     ]
    }
   ],
   "source": [
    "final_merge = query.read()"
   ]
  },
  {
   "cell_type": "code",
   "execution_count": 8,
   "id": "0c85072a-6fa1-4269-b105-2f76762fa898",
   "metadata": {},
   "outputs": [
    {
     "data": {
      "text/html": [
       "<div>\n",
       "<style scoped>\n",
       "    .dataframe tbody tr th:only-of-type {\n",
       "        vertical-align: middle;\n",
       "    }\n",
       "\n",
       "    .dataframe tbody tr th {\n",
       "        vertical-align: top;\n",
       "    }\n",
       "\n",
       "    .dataframe thead th {\n",
       "        text-align: right;\n",
       "    }\n",
       "</style>\n",
       "<table border=\"1\" class=\"dataframe\">\n",
       "  <thead>\n",
       "    <tr style=\"text-align: right;\">\n",
       "      <th></th>\n",
       "      <th>unique_id</th>\n",
       "      <th>truck_id</th>\n",
       "      <th>route_id</th>\n",
       "      <th>departure_date</th>\n",
       "      <th>estimated_arrival</th>\n",
       "      <th>delay</th>\n",
       "      <th>route_avg_temp</th>\n",
       "      <th>route_avg_wind_speed</th>\n",
       "      <th>route_avg_precip</th>\n",
       "      <th>route_avg_humidity</th>\n",
       "      <th>...</th>\n",
       "      <th>driver_id</th>\n",
       "      <th>name</th>\n",
       "      <th>gender</th>\n",
       "      <th>age</th>\n",
       "      <th>experience</th>\n",
       "      <th>driving_style</th>\n",
       "      <th>ratings</th>\n",
       "      <th>vehicle_no</th>\n",
       "      <th>average_speed_mph</th>\n",
       "      <th>is_midnight</th>\n",
       "    </tr>\n",
       "  </thead>\n",
       "  <tbody>\n",
       "    <tr>\n",
       "      <th>0</th>\n",
       "      <td>7223</td>\n",
       "      <td>42839716</td>\n",
       "      <td>R-936011ac</td>\n",
       "      <td>2019-01-19 07:00:00+00:00</td>\n",
       "      <td>2019-01-26 07:54:00+00:00</td>\n",
       "      <td>1</td>\n",
       "      <td>83.066667</td>\n",
       "      <td>8.200</td>\n",
       "      <td>0.0000</td>\n",
       "      <td>75.333333</td>\n",
       "      <td>...</td>\n",
       "      <td>a7c336d9-2</td>\n",
       "      <td>Jason Figueroa</td>\n",
       "      <td>male</td>\n",
       "      <td>48</td>\n",
       "      <td>13</td>\n",
       "      <td>proactive</td>\n",
       "      <td>5</td>\n",
       "      <td>42839716</td>\n",
       "      <td>59.82</td>\n",
       "      <td>1</td>\n",
       "    </tr>\n",
       "    <tr>\n",
       "      <th>1</th>\n",
       "      <td>11943</td>\n",
       "      <td>14316933</td>\n",
       "      <td>R-7278d1fc</td>\n",
       "      <td>2019-02-12 07:00:00+00:00</td>\n",
       "      <td>2019-02-12 19:45:00+00:00</td>\n",
       "      <td>0</td>\n",
       "      <td>60.750000</td>\n",
       "      <td>4.250</td>\n",
       "      <td>0.0000</td>\n",
       "      <td>57.250000</td>\n",
       "      <td>...</td>\n",
       "      <td>000546f3-a</td>\n",
       "      <td>Joshua Hayes</td>\n",
       "      <td>male</td>\n",
       "      <td>37</td>\n",
       "      <td>3</td>\n",
       "      <td>Unknown</td>\n",
       "      <td>7</td>\n",
       "      <td>14316933</td>\n",
       "      <td>60.67</td>\n",
       "      <td>0</td>\n",
       "    </tr>\n",
       "    <tr>\n",
       "      <th>2</th>\n",
       "      <td>6490</td>\n",
       "      <td>69577118</td>\n",
       "      <td>R-63bd6f39</td>\n",
       "      <td>2019-01-22 07:00:00+00:00</td>\n",
       "      <td>2019-01-23 01:52:48+00:00</td>\n",
       "      <td>1</td>\n",
       "      <td>78.800000</td>\n",
       "      <td>7.400</td>\n",
       "      <td>0.0000</td>\n",
       "      <td>74.800000</td>\n",
       "      <td>...</td>\n",
       "      <td>b2555587-8</td>\n",
       "      <td>Brendan Jacobs</td>\n",
       "      <td>male</td>\n",
       "      <td>44</td>\n",
       "      <td>10</td>\n",
       "      <td>proactive</td>\n",
       "      <td>2</td>\n",
       "      <td>69577118</td>\n",
       "      <td>59.82</td>\n",
       "      <td>1</td>\n",
       "    </tr>\n",
       "    <tr>\n",
       "      <th>3</th>\n",
       "      <td>6448</td>\n",
       "      <td>31295807</td>\n",
       "      <td>R-ab336987</td>\n",
       "      <td>2019-01-22 07:00:00+00:00</td>\n",
       "      <td>2019-01-23 00:01:48+00:00</td>\n",
       "      <td>1</td>\n",
       "      <td>66.800000</td>\n",
       "      <td>7.400</td>\n",
       "      <td>0.0000</td>\n",
       "      <td>55.400000</td>\n",
       "      <td>...</td>\n",
       "      <td>a484098f-c</td>\n",
       "      <td>Brendan Mcdowell</td>\n",
       "      <td>male</td>\n",
       "      <td>52</td>\n",
       "      <td>16</td>\n",
       "      <td>conservative</td>\n",
       "      <td>7</td>\n",
       "      <td>31295807</td>\n",
       "      <td>54.78</td>\n",
       "      <td>1</td>\n",
       "    </tr>\n",
       "    <tr>\n",
       "      <th>4</th>\n",
       "      <td>11469</td>\n",
       "      <td>32053728</td>\n",
       "      <td>R-34c87f19</td>\n",
       "      <td>2019-02-10 07:00:00+00:00</td>\n",
       "      <td>2019-02-11 18:36:00+00:00</td>\n",
       "      <td>1</td>\n",
       "      <td>63.375000</td>\n",
       "      <td>7.375</td>\n",
       "      <td>0.0125</td>\n",
       "      <td>56.125000</td>\n",
       "      <td>...</td>\n",
       "      <td>c157ada0-b</td>\n",
       "      <td>Ronald Smith</td>\n",
       "      <td>male</td>\n",
       "      <td>44</td>\n",
       "      <td>21</td>\n",
       "      <td>conservative</td>\n",
       "      <td>6</td>\n",
       "      <td>32053728</td>\n",
       "      <td>29.22</td>\n",
       "      <td>1</td>\n",
       "    </tr>\n",
       "  </tbody>\n",
       "</table>\n",
       "<p>5 rows × 49 columns</p>\n",
       "</div>"
      ],
      "text/plain": [
       "   unique_id  truck_id    route_id            departure_date  \\\n",
       "0       7223  42839716  R-936011ac 2019-01-19 07:00:00+00:00   \n",
       "1      11943  14316933  R-7278d1fc 2019-02-12 07:00:00+00:00   \n",
       "2       6490  69577118  R-63bd6f39 2019-01-22 07:00:00+00:00   \n",
       "3       6448  31295807  R-ab336987 2019-01-22 07:00:00+00:00   \n",
       "4      11469  32053728  R-34c87f19 2019-02-10 07:00:00+00:00   \n",
       "\n",
       "          estimated_arrival  delay  route_avg_temp  route_avg_wind_speed  \\\n",
       "0 2019-01-26 07:54:00+00:00      1       83.066667                 8.200   \n",
       "1 2019-02-12 19:45:00+00:00      0       60.750000                 4.250   \n",
       "2 2019-01-23 01:52:48+00:00      1       78.800000                 7.400   \n",
       "3 2019-01-23 00:01:48+00:00      1       66.800000                 7.400   \n",
       "4 2019-02-11 18:36:00+00:00      1       63.375000                 7.375   \n",
       "\n",
       "   route_avg_precip  route_avg_humidity  ...   driver_id              name  \\\n",
       "0            0.0000           75.333333  ...  a7c336d9-2    Jason Figueroa   \n",
       "1            0.0000           57.250000  ...  000546f3-a      Joshua Hayes   \n",
       "2            0.0000           74.800000  ...  b2555587-8    Brendan Jacobs   \n",
       "3            0.0000           55.400000  ...  a484098f-c  Brendan Mcdowell   \n",
       "4            0.0125           56.125000  ...  c157ada0-b      Ronald Smith   \n",
       "\n",
       "  gender age experience driving_style ratings  vehicle_no  average_speed_mph  \\\n",
       "0   male  48         13     proactive       5    42839716              59.82   \n",
       "1   male  37          3       Unknown       7    14316933              60.67   \n",
       "2   male  44         10     proactive       2    69577118              59.82   \n",
       "3   male  52         16  conservative       7    31295807              54.78   \n",
       "4   male  44         21  conservative       6    32053728              29.22   \n",
       "\n",
       "   is_midnight  \n",
       "0            1  \n",
       "1            0  \n",
       "2            1  \n",
       "3            1  \n",
       "4            1  \n",
       "\n",
       "[5 rows x 49 columns]"
      ]
     },
     "execution_count": 8,
     "metadata": {},
     "output_type": "execute_result"
    }
   ],
   "source": [
    "final_merge.head()"
   ]
  },
  {
   "cell_type": "markdown",
   "id": "5d256c38-0092-4524-9635-3b769526af59",
   "metadata": {},
   "source": [
    "## Data Preprocessing"
   ]
  },
  {
   "cell_type": "code",
   "execution_count": 9,
   "id": "84d4a303-b655-47f5-a2da-3b38675be345",
   "metadata": {},
   "outputs": [
    {
     "name": "stdout",
     "output_type": "stream",
     "text": [
      "<class 'pandas.core.frame.DataFrame'>\n",
      "RangeIndex: 12308 entries, 0 to 12307\n",
      "Data columns (total 49 columns):\n",
      " #   Column                          Non-Null Count  Dtype                  \n",
      "---  ------                          --------------  -----                  \n",
      " 0   unique_id                       12308 non-null  int32                  \n",
      " 1   truck_id                        12308 non-null  int64                  \n",
      " 2   route_id                        12308 non-null  object                 \n",
      " 3   departure_date                  12308 non-null  datetime64[us, Etc/UTC]\n",
      " 4   estimated_arrival               12308 non-null  datetime64[us, Etc/UTC]\n",
      " 5   delay                           12308 non-null  int64                  \n",
      " 6   route_avg_temp                  12308 non-null  float64                \n",
      " 7   route_avg_wind_speed            12308 non-null  float64                \n",
      " 8   route_avg_precip                12308 non-null  float64                \n",
      " 9   route_avg_humidity              12308 non-null  float64                \n",
      " 10  route_avg_visibility            12308 non-null  float64                \n",
      " 11  route_avg_pressure              12308 non-null  float64                \n",
      " 12  route_description               12308 non-null  object                 \n",
      " 13  estimated_arrival_nearest_hour  12308 non-null  datetime64[us, Etc/UTC]\n",
      " 14  departure_date_nearest_hour     12308 non-null  datetime64[us, Etc/UTC]\n",
      " 15  origin_id                       12308 non-null  object                 \n",
      " 16  destination_id                  12308 non-null  object                 \n",
      " 17  distance                        12308 non-null  float64                \n",
      " 18  average_hours                   12308 non-null  float64                \n",
      " 19  origin_temp                     12304 non-null  float64                \n",
      " 20  origin_wind_speed               12304 non-null  float64                \n",
      " 21  origin_description              12308 non-null  object                 \n",
      " 22  origin_precip                   12304 non-null  float64                \n",
      " 23  origin_humidity                 12304 non-null  float64                \n",
      " 24  origin_visibility               12304 non-null  float64                \n",
      " 25  origin_pressure                 12304 non-null  float64                \n",
      " 26  destination_temp                12308 non-null  float64                \n",
      " 27  destination_wind_speed          12308 non-null  float64                \n",
      " 28  destination_description         12308 non-null  object                 \n",
      " 29  destination_precip              12308 non-null  float64                \n",
      " 30  destination_humidity            12308 non-null  int64                  \n",
      " 31  destination_visibility          12308 non-null  float64                \n",
      " 32  destination_pressure            12308 non-null  float64                \n",
      " 33  avg_no_of_vehicles              12308 non-null  float64                \n",
      " 34  accident                        12308 non-null  int64                  \n",
      " 35  truck_age                       12308 non-null  int64                  \n",
      " 36  load_capacity_pounds            11704 non-null  float64                \n",
      " 37  mileage_mpg                     12308 non-null  int64                  \n",
      " 38  fuel_type                       12308 non-null  object                 \n",
      " 39  driver_id                       12308 non-null  object                 \n",
      " 40  name                            12308 non-null  object                 \n",
      " 41  gender                          12308 non-null  object                 \n",
      " 42  age                             12308 non-null  int64                  \n",
      " 43  experience                      12308 non-null  int64                  \n",
      " 44  driving_style                   12308 non-null  object                 \n",
      " 45  ratings                         12308 non-null  int64                  \n",
      " 46  vehicle_no                      12308 non-null  int64                  \n",
      " 47  average_speed_mph               12308 non-null  float64                \n",
      " 48  is_midnight                     12308 non-null  int64                  \n",
      "dtypes: datetime64[us, Etc/UTC](4), float64(22), int32(1), int64(11), object(11)\n",
      "memory usage: 4.6+ MB\n"
     ]
    }
   ],
   "source": [
    "final_merge.info()"
   ]
  },
  {
   "cell_type": "code",
   "execution_count": 10,
   "id": "c7ef6b2f-b79f-4261-a6ec-09c5342912e5",
   "metadata": {},
   "outputs": [
    {
     "name": "stdout",
     "output_type": "stream",
     "text": [
      "<class 'pandas.core.frame.DataFrame'>\n",
      "RangeIndex: 12308 entries, 0 to 12307\n",
      "Data columns (total 49 columns):\n",
      " #   Column                          Non-Null Count  Dtype         \n",
      "---  ------                          --------------  -----         \n",
      " 0   unique_id                       12308 non-null  int32         \n",
      " 1   truck_id                        12308 non-null  int64         \n",
      " 2   route_id                        12308 non-null  object        \n",
      " 3   departure_date                  12308 non-null  datetime64[us]\n",
      " 4   estimated_arrival               12308 non-null  datetime64[us]\n",
      " 5   delay                           12308 non-null  int64         \n",
      " 6   route_avg_temp                  12308 non-null  float64       \n",
      " 7   route_avg_wind_speed            12308 non-null  float64       \n",
      " 8   route_avg_precip                12308 non-null  float64       \n",
      " 9   route_avg_humidity              12308 non-null  float64       \n",
      " 10  route_avg_visibility            12308 non-null  float64       \n",
      " 11  route_avg_pressure              12308 non-null  float64       \n",
      " 12  route_description               12308 non-null  object        \n",
      " 13  estimated_arrival_nearest_hour  12308 non-null  datetime64[us]\n",
      " 14  departure_date_nearest_hour     12308 non-null  datetime64[us]\n",
      " 15  origin_id                       12308 non-null  object        \n",
      " 16  destination_id                  12308 non-null  object        \n",
      " 17  distance                        12308 non-null  float64       \n",
      " 18  average_hours                   12308 non-null  float64       \n",
      " 19  origin_temp                     12304 non-null  float64       \n",
      " 20  origin_wind_speed               12304 non-null  float64       \n",
      " 21  origin_description              12308 non-null  object        \n",
      " 22  origin_precip                   12304 non-null  float64       \n",
      " 23  origin_humidity                 12304 non-null  float64       \n",
      " 24  origin_visibility               12304 non-null  float64       \n",
      " 25  origin_pressure                 12304 non-null  float64       \n",
      " 26  destination_temp                12308 non-null  float64       \n",
      " 27  destination_wind_speed          12308 non-null  float64       \n",
      " 28  destination_description         12308 non-null  object        \n",
      " 29  destination_precip              12308 non-null  float64       \n",
      " 30  destination_humidity            12308 non-null  int64         \n",
      " 31  destination_visibility          12308 non-null  float64       \n",
      " 32  destination_pressure            12308 non-null  float64       \n",
      " 33  avg_no_of_vehicles              12308 non-null  float64       \n",
      " 34  accident                        12308 non-null  int64         \n",
      " 35  truck_age                       12308 non-null  int64         \n",
      " 36  load_capacity_pounds            11704 non-null  float64       \n",
      " 37  mileage_mpg                     12308 non-null  int64         \n",
      " 38  fuel_type                       12308 non-null  object        \n",
      " 39  driver_id                       12308 non-null  object        \n",
      " 40  name                            12308 non-null  object        \n",
      " 41  gender                          12308 non-null  object        \n",
      " 42  age                             12308 non-null  int64         \n",
      " 43  experience                      12308 non-null  int64         \n",
      " 44  driving_style                   12308 non-null  object        \n",
      " 45  ratings                         12308 non-null  int64         \n",
      " 46  vehicle_no                      12308 non-null  int64         \n",
      " 47  average_speed_mph               12308 non-null  float64       \n",
      " 48  is_midnight                     12308 non-null  int64         \n",
      "dtypes: datetime64[us](4), float64(22), int32(1), int64(11), object(11)\n",
      "memory usage: 4.6+ MB\n",
      "None\n"
     ]
    }
   ],
   "source": [
    "datetime_columns = [\n",
    "    \"departure_date\",\n",
    "    \"estimated_arrival\",\n",
    "    \"estimated_arrival_nearest_hour\",\n",
    "    \"departure_date_nearest_hour\"\n",
    "]\n",
    "\n",
    "for column in datetime_columns:\n",
    "    final_merge[column] = final_merge[column].dt.tz_localize(None)\n",
    "\n",
    "print(final_merge.info())"
   ]
  },
  {
   "cell_type": "code",
   "execution_count": 11,
   "id": "18fd8788-5c3b-42ee-84c2-0f66d0909407",
   "metadata": {},
   "outputs": [
    {
     "data": {
      "text/plain": [
       "unique_id                           0\n",
       "truck_id                            0\n",
       "route_id                            0\n",
       "departure_date                      0\n",
       "estimated_arrival                   0\n",
       "delay                               0\n",
       "route_avg_temp                      0\n",
       "route_avg_wind_speed                0\n",
       "route_avg_precip                    0\n",
       "route_avg_humidity                  0\n",
       "route_avg_visibility                0\n",
       "route_avg_pressure                  0\n",
       "route_description                   0\n",
       "estimated_arrival_nearest_hour      0\n",
       "departure_date_nearest_hour         0\n",
       "origin_id                           0\n",
       "destination_id                      0\n",
       "distance                            0\n",
       "average_hours                       0\n",
       "origin_temp                         4\n",
       "origin_wind_speed                   4\n",
       "origin_description                  0\n",
       "origin_precip                       4\n",
       "origin_humidity                     4\n",
       "origin_visibility                   4\n",
       "origin_pressure                     4\n",
       "destination_temp                    0\n",
       "destination_wind_speed              0\n",
       "destination_description             0\n",
       "destination_precip                  0\n",
       "destination_humidity                0\n",
       "destination_visibility              0\n",
       "destination_pressure                0\n",
       "avg_no_of_vehicles                  0\n",
       "accident                            0\n",
       "truck_age                           0\n",
       "load_capacity_pounds              604\n",
       "mileage_mpg                         0\n",
       "fuel_type                           0\n",
       "driver_id                           0\n",
       "name                                0\n",
       "gender                              0\n",
       "age                                 0\n",
       "experience                          0\n",
       "driving_style                       0\n",
       "ratings                             0\n",
       "vehicle_no                          0\n",
       "average_speed_mph                   0\n",
       "is_midnight                         0\n",
       "dtype: int64"
      ]
     },
     "execution_count": 11,
     "metadata": {},
     "output_type": "execute_result"
    }
   ],
   "source": [
    "final_merge.isna().sum()"
   ]
  },
  {
   "cell_type": "code",
   "execution_count": 12,
   "id": "82fc6196-dab7-46b1-b00e-2cf4de2ae1c8",
   "metadata": {},
   "outputs": [
    {
     "data": {
      "text/html": [
       "<div>\n",
       "<style scoped>\n",
       "    .dataframe tbody tr th:only-of-type {\n",
       "        vertical-align: middle;\n",
       "    }\n",
       "\n",
       "    .dataframe tbody tr th {\n",
       "        vertical-align: top;\n",
       "    }\n",
       "\n",
       "    .dataframe thead th {\n",
       "        text-align: right;\n",
       "    }\n",
       "</style>\n",
       "<table border=\"1\" class=\"dataframe\">\n",
       "  <thead>\n",
       "    <tr style=\"text-align: right;\">\n",
       "      <th></th>\n",
       "      <th>unique_id</th>\n",
       "      <th>truck_id</th>\n",
       "      <th>route_id</th>\n",
       "      <th>departure_date</th>\n",
       "      <th>estimated_arrival</th>\n",
       "      <th>delay</th>\n",
       "      <th>route_avg_temp</th>\n",
       "      <th>route_avg_wind_speed</th>\n",
       "      <th>route_avg_precip</th>\n",
       "      <th>route_avg_humidity</th>\n",
       "      <th>...</th>\n",
       "      <th>driver_id</th>\n",
       "      <th>name</th>\n",
       "      <th>gender</th>\n",
       "      <th>age</th>\n",
       "      <th>experience</th>\n",
       "      <th>driving_style</th>\n",
       "      <th>ratings</th>\n",
       "      <th>vehicle_no</th>\n",
       "      <th>average_speed_mph</th>\n",
       "      <th>is_midnight</th>\n",
       "    </tr>\n",
       "  </thead>\n",
       "  <tbody>\n",
       "    <tr>\n",
       "      <th>1608</th>\n",
       "      <td>7322</td>\n",
       "      <td>18091756</td>\n",
       "      <td>R-112b790b</td>\n",
       "      <td>2019-01-25 07:00:00</td>\n",
       "      <td>2019-01-27 02:40:48</td>\n",
       "      <td>1</td>\n",
       "      <td>66.555556</td>\n",
       "      <td>6.888889</td>\n",
       "      <td>0.000000</td>\n",
       "      <td>90.888889</td>\n",
       "      <td>...</td>\n",
       "      <td>e975a383-c</td>\n",
       "      <td>Neil Herring</td>\n",
       "      <td>male</td>\n",
       "      <td>45</td>\n",
       "      <td>7</td>\n",
       "      <td>proactive</td>\n",
       "      <td>3</td>\n",
       "      <td>18091756</td>\n",
       "      <td>58.02</td>\n",
       "      <td>1</td>\n",
       "    </tr>\n",
       "    <tr>\n",
       "      <th>4483</th>\n",
       "      <td>7505</td>\n",
       "      <td>24746768</td>\n",
       "      <td>R-b5f9418a</td>\n",
       "      <td>2019-01-25 07:00:00</td>\n",
       "      <td>2019-01-27 14:35:24</td>\n",
       "      <td>0</td>\n",
       "      <td>47.454545</td>\n",
       "      <td>9.090909</td>\n",
       "      <td>0.000000</td>\n",
       "      <td>70.636364</td>\n",
       "      <td>...</td>\n",
       "      <td>3d91387f-2</td>\n",
       "      <td>William Anderson III</td>\n",
       "      <td>male</td>\n",
       "      <td>50</td>\n",
       "      <td>0</td>\n",
       "      <td>conservative</td>\n",
       "      <td>4</td>\n",
       "      <td>24746768</td>\n",
       "      <td>40.69</td>\n",
       "      <td>1</td>\n",
       "    </tr>\n",
       "    <tr>\n",
       "      <th>6058</th>\n",
       "      <td>7607</td>\n",
       "      <td>22916520</td>\n",
       "      <td>R-78ee1f97</td>\n",
       "      <td>2019-01-25 07:00:00</td>\n",
       "      <td>2019-01-28 10:08:24</td>\n",
       "      <td>0</td>\n",
       "      <td>57.500000</td>\n",
       "      <td>10.142857</td>\n",
       "      <td>0.000000</td>\n",
       "      <td>78.214286</td>\n",
       "      <td>...</td>\n",
       "      <td>ffedbf74-a</td>\n",
       "      <td>Thomas Ochoa</td>\n",
       "      <td>male</td>\n",
       "      <td>57</td>\n",
       "      <td>19</td>\n",
       "      <td>proactive</td>\n",
       "      <td>6</td>\n",
       "      <td>22916520</td>\n",
       "      <td>63.64</td>\n",
       "      <td>1</td>\n",
       "    </tr>\n",
       "    <tr>\n",
       "      <th>7917</th>\n",
       "      <td>7537</td>\n",
       "      <td>24654257</td>\n",
       "      <td>R-21472caf</td>\n",
       "      <td>2019-01-25 07:00:00</td>\n",
       "      <td>2019-01-27 16:50:24</td>\n",
       "      <td>0</td>\n",
       "      <td>69.000000</td>\n",
       "      <td>12.363636</td>\n",
       "      <td>0.018182</td>\n",
       "      <td>79.181818</td>\n",
       "      <td>...</td>\n",
       "      <td>f110642c-1</td>\n",
       "      <td>Marc Walters</td>\n",
       "      <td>male</td>\n",
       "      <td>47</td>\n",
       "      <td>5</td>\n",
       "      <td>proactive</td>\n",
       "      <td>3</td>\n",
       "      <td>24654257</td>\n",
       "      <td>61.93</td>\n",
       "      <td>1</td>\n",
       "    </tr>\n",
       "  </tbody>\n",
       "</table>\n",
       "<p>4 rows × 49 columns</p>\n",
       "</div>"
      ],
      "text/plain": [
       "      unique_id  truck_id    route_id      departure_date   estimated_arrival  \\\n",
       "1608       7322  18091756  R-112b790b 2019-01-25 07:00:00 2019-01-27 02:40:48   \n",
       "4483       7505  24746768  R-b5f9418a 2019-01-25 07:00:00 2019-01-27 14:35:24   \n",
       "6058       7607  22916520  R-78ee1f97 2019-01-25 07:00:00 2019-01-28 10:08:24   \n",
       "7917       7537  24654257  R-21472caf 2019-01-25 07:00:00 2019-01-27 16:50:24   \n",
       "\n",
       "      delay  route_avg_temp  route_avg_wind_speed  route_avg_precip  \\\n",
       "1608      1       66.555556              6.888889          0.000000   \n",
       "4483      0       47.454545              9.090909          0.000000   \n",
       "6058      0       57.500000             10.142857          0.000000   \n",
       "7917      0       69.000000             12.363636          0.018182   \n",
       "\n",
       "      route_avg_humidity  ...   driver_id                  name gender age  \\\n",
       "1608           90.888889  ...  e975a383-c          Neil Herring   male  45   \n",
       "4483           70.636364  ...  3d91387f-2  William Anderson III   male  50   \n",
       "6058           78.214286  ...  ffedbf74-a          Thomas Ochoa   male  57   \n",
       "7917           79.181818  ...  f110642c-1          Marc Walters   male  47   \n",
       "\n",
       "     experience driving_style ratings  vehicle_no  average_speed_mph  \\\n",
       "1608          7     proactive       3    18091756              58.02   \n",
       "4483          0  conservative       4    24746768              40.69   \n",
       "6058         19     proactive       6    22916520              63.64   \n",
       "7917          5     proactive       3    24654257              61.93   \n",
       "\n",
       "      is_midnight  \n",
       "1608            1  \n",
       "4483            1  \n",
       "6058            1  \n",
       "7917            1  \n",
       "\n",
       "[4 rows x 49 columns]"
      ]
     },
     "execution_count": 12,
     "metadata": {},
     "output_type": "execute_result"
    }
   ],
   "source": [
    "# Let's check the rows where origin temp is null\n",
    "final_merge[final_merge['origin_temp'].isnull()]"
   ]
  },
  {
   "cell_type": "code",
   "execution_count": 13,
   "id": "fa446247-ff76-47e6-9b60-a2bbe64bd196",
   "metadata": {},
   "outputs": [
    {
     "data": {
      "text/html": [
       "<div>\n",
       "<style scoped>\n",
       "    .dataframe tbody tr th:only-of-type {\n",
       "        vertical-align: middle;\n",
       "    }\n",
       "\n",
       "    .dataframe tbody tr th {\n",
       "        vertical-align: top;\n",
       "    }\n",
       "\n",
       "    .dataframe thead th {\n",
       "        text-align: right;\n",
       "    }\n",
       "</style>\n",
       "<table border=\"1\" class=\"dataframe\">\n",
       "  <thead>\n",
       "    <tr style=\"text-align: right;\">\n",
       "      <th></th>\n",
       "      <th>unique_id</th>\n",
       "      <th>truck_id</th>\n",
       "      <th>route_id</th>\n",
       "      <th>departure_date</th>\n",
       "      <th>estimated_arrival</th>\n",
       "      <th>delay</th>\n",
       "      <th>route_avg_temp</th>\n",
       "      <th>route_avg_wind_speed</th>\n",
       "      <th>route_avg_precip</th>\n",
       "      <th>route_avg_humidity</th>\n",
       "      <th>...</th>\n",
       "      <th>driver_id</th>\n",
       "      <th>name</th>\n",
       "      <th>gender</th>\n",
       "      <th>age</th>\n",
       "      <th>experience</th>\n",
       "      <th>driving_style</th>\n",
       "      <th>ratings</th>\n",
       "      <th>vehicle_no</th>\n",
       "      <th>average_speed_mph</th>\n",
       "      <th>is_midnight</th>\n",
       "    </tr>\n",
       "  </thead>\n",
       "  <tbody>\n",
       "    <tr>\n",
       "      <th>1608</th>\n",
       "      <td>7322</td>\n",
       "      <td>18091756</td>\n",
       "      <td>R-112b790b</td>\n",
       "      <td>2019-01-25 07:00:00</td>\n",
       "      <td>2019-01-27 02:40:48</td>\n",
       "      <td>1</td>\n",
       "      <td>66.555556</td>\n",
       "      <td>6.888889</td>\n",
       "      <td>0.000000</td>\n",
       "      <td>90.888889</td>\n",
       "      <td>...</td>\n",
       "      <td>e975a383-c</td>\n",
       "      <td>Neil Herring</td>\n",
       "      <td>male</td>\n",
       "      <td>45</td>\n",
       "      <td>7</td>\n",
       "      <td>proactive</td>\n",
       "      <td>3</td>\n",
       "      <td>18091756</td>\n",
       "      <td>58.02</td>\n",
       "      <td>1</td>\n",
       "    </tr>\n",
       "    <tr>\n",
       "      <th>4483</th>\n",
       "      <td>7505</td>\n",
       "      <td>24746768</td>\n",
       "      <td>R-b5f9418a</td>\n",
       "      <td>2019-01-25 07:00:00</td>\n",
       "      <td>2019-01-27 14:35:24</td>\n",
       "      <td>0</td>\n",
       "      <td>47.454545</td>\n",
       "      <td>9.090909</td>\n",
       "      <td>0.000000</td>\n",
       "      <td>70.636364</td>\n",
       "      <td>...</td>\n",
       "      <td>3d91387f-2</td>\n",
       "      <td>William Anderson III</td>\n",
       "      <td>male</td>\n",
       "      <td>50</td>\n",
       "      <td>0</td>\n",
       "      <td>conservative</td>\n",
       "      <td>4</td>\n",
       "      <td>24746768</td>\n",
       "      <td>40.69</td>\n",
       "      <td>1</td>\n",
       "    </tr>\n",
       "    <tr>\n",
       "      <th>6058</th>\n",
       "      <td>7607</td>\n",
       "      <td>22916520</td>\n",
       "      <td>R-78ee1f97</td>\n",
       "      <td>2019-01-25 07:00:00</td>\n",
       "      <td>2019-01-28 10:08:24</td>\n",
       "      <td>0</td>\n",
       "      <td>57.500000</td>\n",
       "      <td>10.142857</td>\n",
       "      <td>0.000000</td>\n",
       "      <td>78.214286</td>\n",
       "      <td>...</td>\n",
       "      <td>ffedbf74-a</td>\n",
       "      <td>Thomas Ochoa</td>\n",
       "      <td>male</td>\n",
       "      <td>57</td>\n",
       "      <td>19</td>\n",
       "      <td>proactive</td>\n",
       "      <td>6</td>\n",
       "      <td>22916520</td>\n",
       "      <td>63.64</td>\n",
       "      <td>1</td>\n",
       "    </tr>\n",
       "    <tr>\n",
       "      <th>7917</th>\n",
       "      <td>7537</td>\n",
       "      <td>24654257</td>\n",
       "      <td>R-21472caf</td>\n",
       "      <td>2019-01-25 07:00:00</td>\n",
       "      <td>2019-01-27 16:50:24</td>\n",
       "      <td>0</td>\n",
       "      <td>69.000000</td>\n",
       "      <td>12.363636</td>\n",
       "      <td>0.018182</td>\n",
       "      <td>79.181818</td>\n",
       "      <td>...</td>\n",
       "      <td>f110642c-1</td>\n",
       "      <td>Marc Walters</td>\n",
       "      <td>male</td>\n",
       "      <td>47</td>\n",
       "      <td>5</td>\n",
       "      <td>proactive</td>\n",
       "      <td>3</td>\n",
       "      <td>24654257</td>\n",
       "      <td>61.93</td>\n",
       "      <td>1</td>\n",
       "    </tr>\n",
       "  </tbody>\n",
       "</table>\n",
       "<p>4 rows × 49 columns</p>\n",
       "</div>"
      ],
      "text/plain": [
       "      unique_id  truck_id    route_id      departure_date   estimated_arrival  \\\n",
       "1608       7322  18091756  R-112b790b 2019-01-25 07:00:00 2019-01-27 02:40:48   \n",
       "4483       7505  24746768  R-b5f9418a 2019-01-25 07:00:00 2019-01-27 14:35:24   \n",
       "6058       7607  22916520  R-78ee1f97 2019-01-25 07:00:00 2019-01-28 10:08:24   \n",
       "7917       7537  24654257  R-21472caf 2019-01-25 07:00:00 2019-01-27 16:50:24   \n",
       "\n",
       "      delay  route_avg_temp  route_avg_wind_speed  route_avg_precip  \\\n",
       "1608      1       66.555556              6.888889          0.000000   \n",
       "4483      0       47.454545              9.090909          0.000000   \n",
       "6058      0       57.500000             10.142857          0.000000   \n",
       "7917      0       69.000000             12.363636          0.018182   \n",
       "\n",
       "      route_avg_humidity  ...   driver_id                  name gender age  \\\n",
       "1608           90.888889  ...  e975a383-c          Neil Herring   male  45   \n",
       "4483           70.636364  ...  3d91387f-2  William Anderson III   male  50   \n",
       "6058           78.214286  ...  ffedbf74-a          Thomas Ochoa   male  57   \n",
       "7917           79.181818  ...  f110642c-1          Marc Walters   male  47   \n",
       "\n",
       "     experience driving_style ratings  vehicle_no  average_speed_mph  \\\n",
       "1608          7     proactive       3    18091756              58.02   \n",
       "4483          0  conservative       4    24746768              40.69   \n",
       "6058         19     proactive       6    22916520              63.64   \n",
       "7917          5     proactive       3    24654257              61.93   \n",
       "\n",
       "      is_midnight  \n",
       "1608            1  \n",
       "4483            1  \n",
       "6058            1  \n",
       "7917            1  \n",
       "\n",
       "[4 rows x 49 columns]"
      ]
     },
     "execution_count": 13,
     "metadata": {},
     "output_type": "execute_result"
    }
   ],
   "source": [
    "# Let's check the rows where origin humidity is null\n",
    "# Looks like we have null values in the same rows, let's find out which origin city is this\n",
    "final_merge[final_merge['origin_humidity'].isnull()]"
   ]
  },
  {
   "cell_type": "code",
   "execution_count": 14,
   "id": "89b15d0f-fe0c-47f5-aa85-0cfdb5c04cce",
   "metadata": {},
   "outputs": [
    {
     "name": "stdout",
     "output_type": "stream",
     "text": [
      "Finished: Reading data from Hopsworks, using Hopsworks Feature Query Service (0.34s) \n"
     ]
    }
   ],
   "source": [
    "# Fetch the routes data\n",
    "routes_data = fs.get_feature_group('routes_details_fg', version=1)\n",
    "\n",
    "routes_data_query = routes_data.select_all()\n",
    "\n",
    "routes_df = routes_data_query.read(read_options={\"use_hive\": True})"
   ]
  },
  {
   "cell_type": "code",
   "execution_count": 15,
   "id": "071d816c-2718-4133-a249-1d76a254ea53",
   "metadata": {},
   "outputs": [
    {
     "data": {
      "text/html": [
       "<div>\n",
       "<style scoped>\n",
       "    .dataframe tbody tr th:only-of-type {\n",
       "        vertical-align: middle;\n",
       "    }\n",
       "\n",
       "    .dataframe tbody tr th {\n",
       "        vertical-align: top;\n",
       "    }\n",
       "\n",
       "    .dataframe thead th {\n",
       "        text-align: right;\n",
       "    }\n",
       "</style>\n",
       "<table border=\"1\" class=\"dataframe\">\n",
       "  <thead>\n",
       "    <tr style=\"text-align: right;\">\n",
       "      <th></th>\n",
       "      <th>route_id</th>\n",
       "      <th>origin_id</th>\n",
       "      <th>destination_id</th>\n",
       "      <th>distance</th>\n",
       "      <th>average_hours</th>\n",
       "      <th>event_time</th>\n",
       "    </tr>\n",
       "  </thead>\n",
       "  <tbody>\n",
       "    <tr>\n",
       "      <th>6</th>\n",
       "      <td>R-b5f9418a</td>\n",
       "      <td>C-f8f01604</td>\n",
       "      <td>C-4fe0fa24</td>\n",
       "      <td>2779.33</td>\n",
       "      <td>55.59</td>\n",
       "      <td>2023-08-23 00:00:00+00:00</td>\n",
       "    </tr>\n",
       "    <tr>\n",
       "      <th>438</th>\n",
       "      <td>R-21472caf</td>\n",
       "      <td>C-f8f01604</td>\n",
       "      <td>C-2e349ccd</td>\n",
       "      <td>2892.14</td>\n",
       "      <td>57.84</td>\n",
       "      <td>2023-08-23 00:00:00+00:00</td>\n",
       "    </tr>\n",
       "    <tr>\n",
       "      <th>702</th>\n",
       "      <td>R-112b790b</td>\n",
       "      <td>C-f8f01604</td>\n",
       "      <td>C-d3bb431c</td>\n",
       "      <td>2183.94</td>\n",
       "      <td>43.68</td>\n",
       "      <td>2023-08-23 00:00:00+00:00</td>\n",
       "    </tr>\n",
       "    <tr>\n",
       "      <th>1289</th>\n",
       "      <td>R-78ee1f97</td>\n",
       "      <td>C-f8f01604</td>\n",
       "      <td>C-f5ed4c15</td>\n",
       "      <td>3757.02</td>\n",
       "      <td>75.14</td>\n",
       "      <td>2023-08-23 00:00:00+00:00</td>\n",
       "    </tr>\n",
       "  </tbody>\n",
       "</table>\n",
       "</div>"
      ],
      "text/plain": [
       "        route_id   origin_id destination_id  distance  average_hours  \\\n",
       "6     R-b5f9418a  C-f8f01604     C-4fe0fa24   2779.33          55.59   \n",
       "438   R-21472caf  C-f8f01604     C-2e349ccd   2892.14          57.84   \n",
       "702   R-112b790b  C-f8f01604     C-d3bb431c   2183.94          43.68   \n",
       "1289  R-78ee1f97  C-f8f01604     C-f5ed4c15   3757.02          75.14   \n",
       "\n",
       "                    event_time  \n",
       "6    2023-08-23 00:00:00+00:00  \n",
       "438  2023-08-23 00:00:00+00:00  \n",
       "702  2023-08-23 00:00:00+00:00  \n",
       "1289 2023-08-23 00:00:00+00:00  "
      ]
     },
     "execution_count": 15,
     "metadata": {},
     "output_type": "execute_result"
    }
   ],
   "source": [
    "# Find the rows with the routes ids which has no info on origin city's weather on 25th jan\n",
    "# Only 1 city is there in all these rows\n",
    "routes_df[routes_df.route_id.isin(['R-112b790b', 'R-78ee1f97','R-b5f9418a', 'R-21472caf'])]"
   ]
  },
  {
   "cell_type": "code",
   "execution_count": 16,
   "id": "e633a42b-f52e-435d-8859-9d673e778677",
   "metadata": {},
   "outputs": [
    {
     "name": "stdout",
     "output_type": "stream",
     "text": [
      "Finished: Reading data from Hopsworks, using Hopsworks Feature Query Service (1.14s) \n"
     ]
    }
   ],
   "source": [
    "# Let's check if we have any information on this city\n",
    "# Fetching the weather data\n",
    "weather_data = fs.get_feature_group('city_weather_details_fg', version=1)\n",
    "\n",
    "weather_query = weather_data.select_all()\n",
    "\n",
    "weather_df = weather_query.read(read_options={\"use_hive\": True})"
   ]
  },
  {
   "cell_type": "code",
   "execution_count": 17,
   "id": "d2c6263d-1825-4226-87e7-dd5bb7cc2d35",
   "metadata": {},
   "outputs": [
    {
     "data": {
      "text/html": [
       "<div>\n",
       "<style scoped>\n",
       "    .dataframe tbody tr th:only-of-type {\n",
       "        vertical-align: middle;\n",
       "    }\n",
       "\n",
       "    .dataframe tbody tr th {\n",
       "        vertical-align: top;\n",
       "    }\n",
       "\n",
       "    .dataframe thead th {\n",
       "        text-align: right;\n",
       "    }\n",
       "</style>\n",
       "<table border=\"1\" class=\"dataframe\">\n",
       "  <thead>\n",
       "    <tr style=\"text-align: right;\">\n",
       "      <th></th>\n",
       "      <th>city_id</th>\n",
       "      <th>date</th>\n",
       "      <th>hour</th>\n",
       "      <th>temp</th>\n",
       "      <th>wind_speed</th>\n",
       "      <th>description</th>\n",
       "      <th>precip</th>\n",
       "      <th>humidity</th>\n",
       "      <th>visibility</th>\n",
       "      <th>pressure</th>\n",
       "      <th>chanceofrain</th>\n",
       "      <th>chanceoffog</th>\n",
       "      <th>chanceofsnow</th>\n",
       "      <th>chanceofthunder</th>\n",
       "    </tr>\n",
       "  </thead>\n",
       "  <tbody>\n",
       "  </tbody>\n",
       "</table>\n",
       "</div>"
      ],
      "text/plain": [
       "Empty DataFrame\n",
       "Columns: [city_id, date, hour, temp, wind_speed, description, precip, humidity, visibility, pressure, chanceofrain, chanceoffog, chanceofsnow, chanceofthunder]\n",
       "Index: []"
      ]
     },
     "execution_count": 17,
     "metadata": {},
     "output_type": "execute_result"
    }
   ],
   "source": [
    "# Filter the weather data with city and date\n",
    "# We don't have any information on this, we will remove these rows\n",
    "# It is important to check with the business regarding the information though \n",
    "weather_df[(weather_df.city_id=='C-f8f01604')&(weather_df.date==pd.to_datetime('2019-01-25'))]"
   ]
  },
  {
   "cell_type": "code",
   "execution_count": 18,
   "id": "3beb28c2-8864-494d-bc71-c0758df2d7c6",
   "metadata": {},
   "outputs": [],
   "source": [
    "# Drop the rows\n",
    "\n",
    "final_merge=final_merge.dropna(subset =  ['origin_temp', 'origin_wind_speed', 'origin_precip',\n",
    "                                'origin_humidity', 'origin_visibility', 'origin_pressure' ] ).reset_index(drop=True)"
   ]
  },
  {
   "cell_type": "code",
   "execution_count": 19,
   "id": "105a1288-b64d-4831-b438-42fab9b9dea5",
   "metadata": {},
   "outputs": [
    {
     "data": {
      "text/plain": [
       "unique_id                           0\n",
       "truck_id                            0\n",
       "route_id                            0\n",
       "departure_date                      0\n",
       "estimated_arrival                   0\n",
       "delay                               0\n",
       "route_avg_temp                      0\n",
       "route_avg_wind_speed                0\n",
       "route_avg_precip                    0\n",
       "route_avg_humidity                  0\n",
       "route_avg_visibility                0\n",
       "route_avg_pressure                  0\n",
       "route_description                   0\n",
       "estimated_arrival_nearest_hour      0\n",
       "departure_date_nearest_hour         0\n",
       "origin_id                           0\n",
       "destination_id                      0\n",
       "distance                            0\n",
       "average_hours                       0\n",
       "origin_temp                         0\n",
       "origin_wind_speed                   0\n",
       "origin_description                  0\n",
       "origin_precip                       0\n",
       "origin_humidity                     0\n",
       "origin_visibility                   0\n",
       "origin_pressure                     0\n",
       "destination_temp                    0\n",
       "destination_wind_speed              0\n",
       "destination_description             0\n",
       "destination_precip                  0\n",
       "destination_humidity                0\n",
       "destination_visibility              0\n",
       "destination_pressure                0\n",
       "avg_no_of_vehicles                  0\n",
       "accident                            0\n",
       "truck_age                           0\n",
       "load_capacity_pounds              604\n",
       "mileage_mpg                         0\n",
       "fuel_type                           0\n",
       "driver_id                           0\n",
       "name                                0\n",
       "gender                              0\n",
       "age                                 0\n",
       "experience                          0\n",
       "driving_style                       0\n",
       "ratings                             0\n",
       "vehicle_no                          0\n",
       "average_speed_mph                   0\n",
       "is_midnight                         0\n",
       "dtype: int64"
      ]
     },
     "execution_count": 19,
     "metadata": {},
     "output_type": "execute_result"
    }
   ],
   "source": [
    "# Let's verify the dropped null values\n",
    "final_merge.isna().sum()"
   ]
  },
  {
   "cell_type": "code",
   "execution_count": 20,
   "id": "9e97bb8c-c9ca-4593-a504-fe858bd9e2e3",
   "metadata": {},
   "outputs": [
    {
     "data": {
      "text/html": [
       "<div>\n",
       "<style scoped>\n",
       "    .dataframe tbody tr th:only-of-type {\n",
       "        vertical-align: middle;\n",
       "    }\n",
       "\n",
       "    .dataframe tbody tr th {\n",
       "        vertical-align: top;\n",
       "    }\n",
       "\n",
       "    .dataframe thead th {\n",
       "        text-align: right;\n",
       "    }\n",
       "</style>\n",
       "<table border=\"1\" class=\"dataframe\">\n",
       "  <thead>\n",
       "    <tr style=\"text-align: right;\">\n",
       "      <th></th>\n",
       "      <th>unique_id</th>\n",
       "      <th>truck_id</th>\n",
       "      <th>route_id</th>\n",
       "      <th>departure_date</th>\n",
       "      <th>estimated_arrival</th>\n",
       "      <th>delay</th>\n",
       "      <th>route_avg_temp</th>\n",
       "      <th>route_avg_wind_speed</th>\n",
       "      <th>route_avg_precip</th>\n",
       "      <th>route_avg_humidity</th>\n",
       "      <th>...</th>\n",
       "      <th>driver_id</th>\n",
       "      <th>name</th>\n",
       "      <th>gender</th>\n",
       "      <th>age</th>\n",
       "      <th>experience</th>\n",
       "      <th>driving_style</th>\n",
       "      <th>ratings</th>\n",
       "      <th>vehicle_no</th>\n",
       "      <th>average_speed_mph</th>\n",
       "      <th>is_midnight</th>\n",
       "    </tr>\n",
       "  </thead>\n",
       "  <tbody>\n",
       "    <tr>\n",
       "      <th>0</th>\n",
       "      <td>7223</td>\n",
       "      <td>42839716</td>\n",
       "      <td>R-936011ac</td>\n",
       "      <td>2019-01-19 07:00:00</td>\n",
       "      <td>2019-01-26 07:54:00</td>\n",
       "      <td>1</td>\n",
       "      <td>83.066667</td>\n",
       "      <td>8.200</td>\n",
       "      <td>0.0000</td>\n",
       "      <td>75.333333</td>\n",
       "      <td>...</td>\n",
       "      <td>a7c336d9-2</td>\n",
       "      <td>Jason Figueroa</td>\n",
       "      <td>male</td>\n",
       "      <td>48</td>\n",
       "      <td>13</td>\n",
       "      <td>proactive</td>\n",
       "      <td>5</td>\n",
       "      <td>42839716</td>\n",
       "      <td>59.82</td>\n",
       "      <td>1</td>\n",
       "    </tr>\n",
       "    <tr>\n",
       "      <th>1</th>\n",
       "      <td>11943</td>\n",
       "      <td>14316933</td>\n",
       "      <td>R-7278d1fc</td>\n",
       "      <td>2019-02-12 07:00:00</td>\n",
       "      <td>2019-02-12 19:45:00</td>\n",
       "      <td>0</td>\n",
       "      <td>60.750000</td>\n",
       "      <td>4.250</td>\n",
       "      <td>0.0000</td>\n",
       "      <td>57.250000</td>\n",
       "      <td>...</td>\n",
       "      <td>000546f3-a</td>\n",
       "      <td>Joshua Hayes</td>\n",
       "      <td>male</td>\n",
       "      <td>37</td>\n",
       "      <td>3</td>\n",
       "      <td>Unknown</td>\n",
       "      <td>7</td>\n",
       "      <td>14316933</td>\n",
       "      <td>60.67</td>\n",
       "      <td>0</td>\n",
       "    </tr>\n",
       "    <tr>\n",
       "      <th>2</th>\n",
       "      <td>6490</td>\n",
       "      <td>69577118</td>\n",
       "      <td>R-63bd6f39</td>\n",
       "      <td>2019-01-22 07:00:00</td>\n",
       "      <td>2019-01-23 01:52:48</td>\n",
       "      <td>1</td>\n",
       "      <td>78.800000</td>\n",
       "      <td>7.400</td>\n",
       "      <td>0.0000</td>\n",
       "      <td>74.800000</td>\n",
       "      <td>...</td>\n",
       "      <td>b2555587-8</td>\n",
       "      <td>Brendan Jacobs</td>\n",
       "      <td>male</td>\n",
       "      <td>44</td>\n",
       "      <td>10</td>\n",
       "      <td>proactive</td>\n",
       "      <td>2</td>\n",
       "      <td>69577118</td>\n",
       "      <td>59.82</td>\n",
       "      <td>1</td>\n",
       "    </tr>\n",
       "    <tr>\n",
       "      <th>3</th>\n",
       "      <td>6448</td>\n",
       "      <td>31295807</td>\n",
       "      <td>R-ab336987</td>\n",
       "      <td>2019-01-22 07:00:00</td>\n",
       "      <td>2019-01-23 00:01:48</td>\n",
       "      <td>1</td>\n",
       "      <td>66.800000</td>\n",
       "      <td>7.400</td>\n",
       "      <td>0.0000</td>\n",
       "      <td>55.400000</td>\n",
       "      <td>...</td>\n",
       "      <td>a484098f-c</td>\n",
       "      <td>Brendan Mcdowell</td>\n",
       "      <td>male</td>\n",
       "      <td>52</td>\n",
       "      <td>16</td>\n",
       "      <td>conservative</td>\n",
       "      <td>7</td>\n",
       "      <td>31295807</td>\n",
       "      <td>54.78</td>\n",
       "      <td>1</td>\n",
       "    </tr>\n",
       "    <tr>\n",
       "      <th>4</th>\n",
       "      <td>11469</td>\n",
       "      <td>32053728</td>\n",
       "      <td>R-34c87f19</td>\n",
       "      <td>2019-02-10 07:00:00</td>\n",
       "      <td>2019-02-11 18:36:00</td>\n",
       "      <td>1</td>\n",
       "      <td>63.375000</td>\n",
       "      <td>7.375</td>\n",
       "      <td>0.0125</td>\n",
       "      <td>56.125000</td>\n",
       "      <td>...</td>\n",
       "      <td>c157ada0-b</td>\n",
       "      <td>Ronald Smith</td>\n",
       "      <td>male</td>\n",
       "      <td>44</td>\n",
       "      <td>21</td>\n",
       "      <td>conservative</td>\n",
       "      <td>6</td>\n",
       "      <td>32053728</td>\n",
       "      <td>29.22</td>\n",
       "      <td>1</td>\n",
       "    </tr>\n",
       "    <tr>\n",
       "      <th>...</th>\n",
       "      <td>...</td>\n",
       "      <td>...</td>\n",
       "      <td>...</td>\n",
       "      <td>...</td>\n",
       "      <td>...</td>\n",
       "      <td>...</td>\n",
       "      <td>...</td>\n",
       "      <td>...</td>\n",
       "      <td>...</td>\n",
       "      <td>...</td>\n",
       "      <td>...</td>\n",
       "      <td>...</td>\n",
       "      <td>...</td>\n",
       "      <td>...</td>\n",
       "      <td>...</td>\n",
       "      <td>...</td>\n",
       "      <td>...</td>\n",
       "      <td>...</td>\n",
       "      <td>...</td>\n",
       "      <td>...</td>\n",
       "      <td>...</td>\n",
       "    </tr>\n",
       "    <tr>\n",
       "      <th>12299</th>\n",
       "      <td>3551</td>\n",
       "      <td>22239531</td>\n",
       "      <td>R-18b58420</td>\n",
       "      <td>2019-01-13 07:00:00</td>\n",
       "      <td>2019-01-13 11:03:36</td>\n",
       "      <td>0</td>\n",
       "      <td>60.000000</td>\n",
       "      <td>5.500</td>\n",
       "      <td>0.0000</td>\n",
       "      <td>79.000000</td>\n",
       "      <td>...</td>\n",
       "      <td>7efdb081-c</td>\n",
       "      <td>Tyler Smith</td>\n",
       "      <td>male</td>\n",
       "      <td>47</td>\n",
       "      <td>11</td>\n",
       "      <td>proactive</td>\n",
       "      <td>5</td>\n",
       "      <td>22239531</td>\n",
       "      <td>56.31</td>\n",
       "      <td>0</td>\n",
       "    </tr>\n",
       "    <tr>\n",
       "      <th>12300</th>\n",
       "      <td>4912</td>\n",
       "      <td>20946964</td>\n",
       "      <td>R-b27b0bae</td>\n",
       "      <td>2019-01-17 07:00:00</td>\n",
       "      <td>2019-01-18 22:15:36</td>\n",
       "      <td>1</td>\n",
       "      <td>50.250000</td>\n",
       "      <td>5.875</td>\n",
       "      <td>0.0000</td>\n",
       "      <td>73.250000</td>\n",
       "      <td>...</td>\n",
       "      <td>a2927162-a</td>\n",
       "      <td>Phillip Escobar</td>\n",
       "      <td>male</td>\n",
       "      <td>39</td>\n",
       "      <td>6</td>\n",
       "      <td>proactive</td>\n",
       "      <td>7</td>\n",
       "      <td>20946964</td>\n",
       "      <td>63.96</td>\n",
       "      <td>1</td>\n",
       "    </tr>\n",
       "    <tr>\n",
       "      <th>12301</th>\n",
       "      <td>1042</td>\n",
       "      <td>28529541</td>\n",
       "      <td>R-e9be806f</td>\n",
       "      <td>2019-01-04 07:00:00</td>\n",
       "      <td>2019-01-04 12:55:12</td>\n",
       "      <td>0</td>\n",
       "      <td>78.666667</td>\n",
       "      <td>7.000</td>\n",
       "      <td>0.0000</td>\n",
       "      <td>55.666667</td>\n",
       "      <td>...</td>\n",
       "      <td>f7b58246-e</td>\n",
       "      <td>Brian Goodwin</td>\n",
       "      <td>male</td>\n",
       "      <td>39</td>\n",
       "      <td>6</td>\n",
       "      <td>Unknown</td>\n",
       "      <td>7</td>\n",
       "      <td>28529541</td>\n",
       "      <td>59.09</td>\n",
       "      <td>0</td>\n",
       "    </tr>\n",
       "    <tr>\n",
       "      <th>12302</th>\n",
       "      <td>9703</td>\n",
       "      <td>27799951</td>\n",
       "      <td>R-48ee4120</td>\n",
       "      <td>2019-02-03 07:00:00</td>\n",
       "      <td>2019-02-04 02:36:36</td>\n",
       "      <td>0</td>\n",
       "      <td>46.200000</td>\n",
       "      <td>11.400</td>\n",
       "      <td>0.0000</td>\n",
       "      <td>59.600000</td>\n",
       "      <td>...</td>\n",
       "      <td>2f2e8d57-9</td>\n",
       "      <td>Joshua Martinez</td>\n",
       "      <td>male</td>\n",
       "      <td>46</td>\n",
       "      <td>9</td>\n",
       "      <td>conservative</td>\n",
       "      <td>3</td>\n",
       "      <td>27799951</td>\n",
       "      <td>38.87</td>\n",
       "      <td>1</td>\n",
       "    </tr>\n",
       "    <tr>\n",
       "      <th>12303</th>\n",
       "      <td>11019</td>\n",
       "      <td>31889845</td>\n",
       "      <td>R-46993433</td>\n",
       "      <td>2019-02-09 07:00:00</td>\n",
       "      <td>2019-02-09 19:03:00</td>\n",
       "      <td>0</td>\n",
       "      <td>55.750000</td>\n",
       "      <td>9.000</td>\n",
       "      <td>0.0250</td>\n",
       "      <td>92.250000</td>\n",
       "      <td>...</td>\n",
       "      <td>1613697d-4</td>\n",
       "      <td>Joshua Martinez</td>\n",
       "      <td>male</td>\n",
       "      <td>46</td>\n",
       "      <td>16</td>\n",
       "      <td>proactive</td>\n",
       "      <td>7</td>\n",
       "      <td>31889845</td>\n",
       "      <td>59.85</td>\n",
       "      <td>0</td>\n",
       "    </tr>\n",
       "  </tbody>\n",
       "</table>\n",
       "<p>12304 rows × 49 columns</p>\n",
       "</div>"
      ],
      "text/plain": [
       "       unique_id  truck_id    route_id      departure_date  \\\n",
       "0           7223  42839716  R-936011ac 2019-01-19 07:00:00   \n",
       "1          11943  14316933  R-7278d1fc 2019-02-12 07:00:00   \n",
       "2           6490  69577118  R-63bd6f39 2019-01-22 07:00:00   \n",
       "3           6448  31295807  R-ab336987 2019-01-22 07:00:00   \n",
       "4          11469  32053728  R-34c87f19 2019-02-10 07:00:00   \n",
       "...          ...       ...         ...                 ...   \n",
       "12299       3551  22239531  R-18b58420 2019-01-13 07:00:00   \n",
       "12300       4912  20946964  R-b27b0bae 2019-01-17 07:00:00   \n",
       "12301       1042  28529541  R-e9be806f 2019-01-04 07:00:00   \n",
       "12302       9703  27799951  R-48ee4120 2019-02-03 07:00:00   \n",
       "12303      11019  31889845  R-46993433 2019-02-09 07:00:00   \n",
       "\n",
       "        estimated_arrival  delay  route_avg_temp  route_avg_wind_speed  \\\n",
       "0     2019-01-26 07:54:00      1       83.066667                 8.200   \n",
       "1     2019-02-12 19:45:00      0       60.750000                 4.250   \n",
       "2     2019-01-23 01:52:48      1       78.800000                 7.400   \n",
       "3     2019-01-23 00:01:48      1       66.800000                 7.400   \n",
       "4     2019-02-11 18:36:00      1       63.375000                 7.375   \n",
       "...                   ...    ...             ...                   ...   \n",
       "12299 2019-01-13 11:03:36      0       60.000000                 5.500   \n",
       "12300 2019-01-18 22:15:36      1       50.250000                 5.875   \n",
       "12301 2019-01-04 12:55:12      0       78.666667                 7.000   \n",
       "12302 2019-02-04 02:36:36      0       46.200000                11.400   \n",
       "12303 2019-02-09 19:03:00      0       55.750000                 9.000   \n",
       "\n",
       "       route_avg_precip  route_avg_humidity  ...   driver_id  \\\n",
       "0                0.0000           75.333333  ...  a7c336d9-2   \n",
       "1                0.0000           57.250000  ...  000546f3-a   \n",
       "2                0.0000           74.800000  ...  b2555587-8   \n",
       "3                0.0000           55.400000  ...  a484098f-c   \n",
       "4                0.0125           56.125000  ...  c157ada0-b   \n",
       "...                 ...                 ...  ...         ...   \n",
       "12299            0.0000           79.000000  ...  7efdb081-c   \n",
       "12300            0.0000           73.250000  ...  a2927162-a   \n",
       "12301            0.0000           55.666667  ...  f7b58246-e   \n",
       "12302            0.0000           59.600000  ...  2f2e8d57-9   \n",
       "12303            0.0250           92.250000  ...  1613697d-4   \n",
       "\n",
       "                   name gender age experience driving_style ratings  \\\n",
       "0        Jason Figueroa   male  48         13     proactive       5   \n",
       "1          Joshua Hayes   male  37          3       Unknown       7   \n",
       "2        Brendan Jacobs   male  44         10     proactive       2   \n",
       "3      Brendan Mcdowell   male  52         16  conservative       7   \n",
       "4          Ronald Smith   male  44         21  conservative       6   \n",
       "...                 ...    ...  ..        ...           ...     ...   \n",
       "12299       Tyler Smith   male  47         11     proactive       5   \n",
       "12300   Phillip Escobar   male  39          6     proactive       7   \n",
       "12301     Brian Goodwin   male  39          6       Unknown       7   \n",
       "12302   Joshua Martinez   male  46          9  conservative       3   \n",
       "12303   Joshua Martinez   male  46         16     proactive       7   \n",
       "\n",
       "       vehicle_no  average_speed_mph  is_midnight  \n",
       "0        42839716              59.82            1  \n",
       "1        14316933              60.67            0  \n",
       "2        69577118              59.82            1  \n",
       "3        31295807              54.78            1  \n",
       "4        32053728              29.22            1  \n",
       "...           ...                ...          ...  \n",
       "12299    22239531              56.31            0  \n",
       "12300    20946964              63.96            1  \n",
       "12301    28529541              59.09            0  \n",
       "12302    27799951              38.87            1  \n",
       "12303    31889845              59.85            0  \n",
       "\n",
       "[12304 rows x 49 columns]"
      ]
     },
     "execution_count": 20,
     "metadata": {},
     "output_type": "execute_result"
    }
   ],
   "source": [
    "final_merge"
   ]
  },
  {
   "cell_type": "markdown",
   "id": "68babfe2-02c8-4992-8651-cb64467860a4",
   "metadata": {},
   "source": [
    "### **Train - Validation -  Test split**"
   ]
  },
  {
   "cell_type": "code",
   "execution_count": 22,
   "id": "17448a91-3366-4988-a886-a46f1d07235a",
   "metadata": {},
   "outputs": [],
   "source": [
    "#selecting necessary columns and removing id columns\n",
    "\n",
    "cts_cols=['route_avg_temp', 'route_avg_wind_speed',\n",
    "       'route_avg_precip', 'route_avg_humidity', 'route_avg_visibility',\n",
    "       'route_avg_pressure', 'distance', 'average_hours',\n",
    "       'origin_temp', 'origin_wind_speed', 'origin_precip', 'origin_humidity',\n",
    "       'origin_visibility', 'origin_pressure',\n",
    "       'destination_temp','destination_wind_speed','destination_precip',\n",
    "       'destination_humidity', 'destination_visibility','destination_pressure',\n",
    "        'avg_no_of_vehicles', 'truck_age','load_capacity_pounds', 'mileage_mpg',\n",
    "        'age', 'experience','average_speed_mph']\n",
    "\n",
    "\n",
    "cat_cols=['route_description',\n",
    "       'origin_description', 'destination_description',\n",
    "        'accident', 'fuel_type',\n",
    "       'gender', 'driving_style', 'ratings','is_midnight']\n",
    "\n",
    "\n",
    "target=['delay']\n",
    "\n"
   ]
  },
  {
   "cell_type": "code",
   "execution_count": 23,
   "id": "2ea40210-eb37-4e00-8978-ab0e9a55de52",
   "metadata": {},
   "outputs": [
    {
     "data": {
      "text/plain": [
       "(Timestamp('2019-01-01 07:04:48'), Timestamp('2019-02-14 16:06:00'))"
      ]
     },
     "execution_count": 23,
     "metadata": {},
     "output_type": "execute_result"
    }
   ],
   "source": [
    "# Checking the date range\n",
    "final_merge['estimated_arrival'].min(), final_merge['estimated_arrival'].max()"
   ]
  },
  {
   "cell_type": "code",
   "execution_count": 24,
   "id": "ebf46998-942e-43f0-bcac-6e5fdf3835c5",
   "metadata": {},
   "outputs": [],
   "source": [
    "# Splitting the data into training, validation, and test sets based on date\n",
    "\n",
    "train_df = final_merge[final_merge['estimated_arrival'] <= pd.to_datetime('2019-01-30')]\n",
    "\n",
    "validation_df = final_merge[(final_merge['estimated_arrival'] > pd.to_datetime('2019-01-30')) &\n",
    "\n",
    "                            (final_merge['estimated_arrival'] <= pd.to_datetime('2019-02-07'))]\n",
    "\n",
    "test_df = final_merge[final_merge['estimated_arrival'] > pd.to_datetime('2019-02-07')]"
   ]
  },
  {
   "cell_type": "code",
   "execution_count": 25,
   "id": "f388b621-5f47-4dfd-95f3-71eee8e4a43a",
   "metadata": {},
   "outputs": [],
   "source": [
    "X_train=train_df[cts_cols+cat_cols]\n",
    "\n",
    "y_train=train_df['delay']\n",
    "\n"
   ]
  },
  {
   "cell_type": "code",
   "execution_count": 26,
   "id": "450a298d-2ec3-4e97-a215-c643f4202f5e",
   "metadata": {},
   "outputs": [],
   "source": [
    "X_valid = validation_df[cts_cols + cat_cols]\n",
    "\n",
    "y_valid = validation_df['delay']\n",
    "\n",
    "X_test=test_df[cts_cols+cat_cols]\n",
    "\n",
    "y_test=test_df['delay']"
   ]
  },
  {
   "cell_type": "markdown",
   "id": "9ec7d77d-9ae5-45e2-bb87-9bd29f12f83a",
   "metadata": {},
   "source": [
    "### Data Preprocessing"
   ]
  },
  {
   "cell_type": "code",
   "execution_count": 28,
   "id": "d684bdff-389a-405b-a964-83bbac575e47",
   "metadata": {},
   "outputs": [
    {
     "data": {
      "text/plain": [
       "0    3000.0\n",
       "Name: load_capacity_pounds, dtype: float64"
      ]
     },
     "execution_count": 28,
     "metadata": {},
     "output_type": "execute_result"
    }
   ],
   "source": [
    "load_capacity_mode = X_train['load_capacity_pounds'].mode()\n",
    "\n",
    "load_capacity_mode"
   ]
  },
  {
   "cell_type": "code",
   "execution_count": 29,
   "id": "8beccf7d-edd6-48b6-87d1-8c98aabfe746",
   "metadata": {},
   "outputs": [
    {
     "name": "stderr",
     "output_type": "stream",
     "text": [
      "SettingWithCopyWarning: \n",
      "A value is trying to be set on a copy of a slice from a DataFrame.\n",
      "Try using .loc[row_indexer,col_indexer] = value instead\n",
      "\n",
      "See the caveats in the documentation: https://pandas.pydata.org/pandas-docs/stable/user_guide/indexing.html#returning-a-view-versus-a-copy\n",
      "SettingWithCopyWarning: \n",
      "A value is trying to be set on a copy of a slice from a DataFrame.\n",
      "Try using .loc[row_indexer,col_indexer] = value instead\n",
      "\n",
      "See the caveats in the documentation: https://pandas.pydata.org/pandas-docs/stable/user_guide/indexing.html#returning-a-view-versus-a-copy\n",
      "SettingWithCopyWarning: \n",
      "A value is trying to be set on a copy of a slice from a DataFrame.\n",
      "Try using .loc[row_indexer,col_indexer] = value instead\n",
      "\n",
      "See the caveats in the documentation: https://pandas.pydata.org/pandas-docs/stable/user_guide/indexing.html#returning-a-view-versus-a-copy\n"
     ]
    }
   ],
   "source": [
    "X_train['load_capacity_pounds']=X_train['load_capacity_pounds'].fillna(load_capacity_mode.iloc[0])\n",
    "X_valid['load_capacity_pounds']=X_valid['load_capacity_pounds'].fillna(load_capacity_mode.iloc[0])\n",
    "X_test['load_capacity_pounds']=X_test['load_capacity_pounds'].fillna(load_capacity_mode.iloc[0])"
   ]
  },
  {
   "cell_type": "code",
   "execution_count": 30,
   "id": "5e5ab3a8-9cf4-496b-8d1a-76c6d1dc5610",
   "metadata": {},
   "outputs": [
    {
     "data": {
      "text/plain": [
       "route_avg_temp             0\n",
       "route_avg_wind_speed       0\n",
       "route_avg_precip           0\n",
       "route_avg_humidity         0\n",
       "route_avg_visibility       0\n",
       "route_avg_pressure         0\n",
       "distance                   0\n",
       "average_hours              0\n",
       "origin_temp                0\n",
       "origin_wind_speed          0\n",
       "origin_precip              0\n",
       "origin_humidity            0\n",
       "origin_visibility          0\n",
       "origin_pressure            0\n",
       "destination_temp           0\n",
       "destination_wind_speed     0\n",
       "destination_precip         0\n",
       "destination_humidity       0\n",
       "destination_visibility     0\n",
       "destination_pressure       0\n",
       "avg_no_of_vehicles         0\n",
       "truck_age                  0\n",
       "load_capacity_pounds       0\n",
       "mileage_mpg                0\n",
       "age                        0\n",
       "experience                 0\n",
       "average_speed_mph          0\n",
       "route_description          0\n",
       "origin_description         0\n",
       "destination_description    0\n",
       "accident                   0\n",
       "fuel_type                  0\n",
       "gender                     0\n",
       "driving_style              0\n",
       "ratings                    0\n",
       "is_midnight                0\n",
       "dtype: int64"
      ]
     },
     "execution_count": 30,
     "metadata": {},
     "output_type": "execute_result"
    }
   ],
   "source": [
    "X_train.isna().sum()"
   ]
  },
  {
   "cell_type": "code",
   "execution_count": 31,
   "id": "902bbac2-ce3d-462f-ba2a-4ab64acfe54d",
   "metadata": {},
   "outputs": [
    {
     "data": {
      "text/plain": [
       "route_avg_temp             0\n",
       "route_avg_wind_speed       0\n",
       "route_avg_precip           0\n",
       "route_avg_humidity         0\n",
       "route_avg_visibility       0\n",
       "route_avg_pressure         0\n",
       "distance                   0\n",
       "average_hours              0\n",
       "origin_temp                0\n",
       "origin_wind_speed          0\n",
       "origin_precip              0\n",
       "origin_humidity            0\n",
       "origin_visibility          0\n",
       "origin_pressure            0\n",
       "destination_temp           0\n",
       "destination_wind_speed     0\n",
       "destination_precip         0\n",
       "destination_humidity       0\n",
       "destination_visibility     0\n",
       "destination_pressure       0\n",
       "avg_no_of_vehicles         0\n",
       "truck_age                  0\n",
       "load_capacity_pounds       0\n",
       "mileage_mpg                0\n",
       "age                        0\n",
       "experience                 0\n",
       "average_speed_mph          0\n",
       "route_description          0\n",
       "origin_description         0\n",
       "destination_description    0\n",
       "accident                   0\n",
       "fuel_type                  0\n",
       "gender                     0\n",
       "driving_style              0\n",
       "ratings                    0\n",
       "is_midnight                0\n",
       "dtype: int64"
      ]
     },
     "execution_count": 31,
     "metadata": {},
     "output_type": "execute_result"
    }
   ],
   "source": [
    "X_valid.isna().sum()"
   ]
  },
  {
   "cell_type": "code",
   "execution_count": 32,
   "id": "9294d80a-cd7b-4a55-9e27-f8602d1302ab",
   "metadata": {},
   "outputs": [
    {
     "data": {
      "text/plain": [
       "route_avg_temp             0\n",
       "route_avg_wind_speed       0\n",
       "route_avg_precip           0\n",
       "route_avg_humidity         0\n",
       "route_avg_visibility       0\n",
       "route_avg_pressure         0\n",
       "distance                   0\n",
       "average_hours              0\n",
       "origin_temp                0\n",
       "origin_wind_speed          0\n",
       "origin_precip              0\n",
       "origin_humidity            0\n",
       "origin_visibility          0\n",
       "origin_pressure            0\n",
       "destination_temp           0\n",
       "destination_wind_speed     0\n",
       "destination_precip         0\n",
       "destination_humidity       0\n",
       "destination_visibility     0\n",
       "destination_pressure       0\n",
       "avg_no_of_vehicles         0\n",
       "truck_age                  0\n",
       "load_capacity_pounds       0\n",
       "mileage_mpg                0\n",
       "age                        0\n",
       "experience                 0\n",
       "average_speed_mph          0\n",
       "route_description          0\n",
       "origin_description         0\n",
       "destination_description    0\n",
       "accident                   0\n",
       "fuel_type                  0\n",
       "gender                     0\n",
       "driving_style              0\n",
       "ratings                    0\n",
       "is_midnight                0\n",
       "dtype: int64"
      ]
     },
     "execution_count": 32,
     "metadata": {},
     "output_type": "execute_result"
    }
   ],
   "source": [
    "X_test.isna().sum()\n"
   ]
  },
  {
   "cell_type": "markdown",
   "id": "27e3aed6-92ef-48d2-a5d4-37066d104d14",
   "metadata": {},
   "source": [
    "### Encoding"
   ]
  },
  {
   "cell_type": "code",
   "execution_count": 34,
   "id": "63a03eba-997c-40fc-a578-724bfd74e9e3",
   "metadata": {},
   "outputs": [],
   "source": [
    "# Importing Standard Scaler and One-Hot Encoder\n",
    "from sklearn.preprocessing import OneHotEncoder\n",
    "from pickle import dump"
   ]
  },
  {
   "cell_type": "code",
   "execution_count": 35,
   "id": "5c6fc11e-e00e-472b-9934-6077572c0893",
   "metadata": {},
   "outputs": [],
   "source": [
    "# Creating the One-Hot Encoder\n",
    "encoder = OneHotEncoder(sparse_output=False, handle_unknown='ignore')"
   ]
  },
  {
   "cell_type": "code",
   "execution_count": 36,
   "id": "85ee5860-a2ec-4767-8a10-ccee81713871",
   "metadata": {},
   "outputs": [
    {
     "data": {
      "text/html": [
       "<div>\n",
       "<style scoped>\n",
       "    .dataframe tbody tr th:only-of-type {\n",
       "        vertical-align: middle;\n",
       "    }\n",
       "\n",
       "    .dataframe tbody tr th {\n",
       "        vertical-align: top;\n",
       "    }\n",
       "\n",
       "    .dataframe thead th {\n",
       "        text-align: right;\n",
       "    }\n",
       "</style>\n",
       "<table border=\"1\" class=\"dataframe\">\n",
       "  <thead>\n",
       "    <tr style=\"text-align: right;\">\n",
       "      <th></th>\n",
       "      <th>unique_id</th>\n",
       "      <th>truck_id</th>\n",
       "      <th>route_id</th>\n",
       "      <th>departure_date</th>\n",
       "      <th>estimated_arrival</th>\n",
       "      <th>delay</th>\n",
       "      <th>route_avg_temp</th>\n",
       "      <th>route_avg_wind_speed</th>\n",
       "      <th>route_avg_precip</th>\n",
       "      <th>route_avg_humidity</th>\n",
       "      <th>...</th>\n",
       "      <th>driver_id</th>\n",
       "      <th>name</th>\n",
       "      <th>gender</th>\n",
       "      <th>age</th>\n",
       "      <th>experience</th>\n",
       "      <th>driving_style</th>\n",
       "      <th>ratings</th>\n",
       "      <th>vehicle_no</th>\n",
       "      <th>average_speed_mph</th>\n",
       "      <th>is_midnight</th>\n",
       "    </tr>\n",
       "  </thead>\n",
       "  <tbody>\n",
       "    <tr>\n",
       "      <th>0</th>\n",
       "      <td>7223</td>\n",
       "      <td>42839716</td>\n",
       "      <td>R-936011ac</td>\n",
       "      <td>2019-01-19 07:00:00</td>\n",
       "      <td>2019-01-26 07:54:00</td>\n",
       "      <td>1</td>\n",
       "      <td>83.066667</td>\n",
       "      <td>8.20</td>\n",
       "      <td>0.0</td>\n",
       "      <td>75.333333</td>\n",
       "      <td>...</td>\n",
       "      <td>a7c336d9-2</td>\n",
       "      <td>Jason Figueroa</td>\n",
       "      <td>male</td>\n",
       "      <td>48</td>\n",
       "      <td>13</td>\n",
       "      <td>proactive</td>\n",
       "      <td>5</td>\n",
       "      <td>42839716</td>\n",
       "      <td>59.82</td>\n",
       "      <td>1</td>\n",
       "    </tr>\n",
       "    <tr>\n",
       "      <th>1</th>\n",
       "      <td>11943</td>\n",
       "      <td>14316933</td>\n",
       "      <td>R-7278d1fc</td>\n",
       "      <td>2019-02-12 07:00:00</td>\n",
       "      <td>2019-02-12 19:45:00</td>\n",
       "      <td>0</td>\n",
       "      <td>60.750000</td>\n",
       "      <td>4.25</td>\n",
       "      <td>0.0</td>\n",
       "      <td>57.250000</td>\n",
       "      <td>...</td>\n",
       "      <td>000546f3-a</td>\n",
       "      <td>Joshua Hayes</td>\n",
       "      <td>male</td>\n",
       "      <td>37</td>\n",
       "      <td>3</td>\n",
       "      <td>Unknown</td>\n",
       "      <td>7</td>\n",
       "      <td>14316933</td>\n",
       "      <td>60.67</td>\n",
       "      <td>0</td>\n",
       "    </tr>\n",
       "  </tbody>\n",
       "</table>\n",
       "<p>2 rows × 49 columns</p>\n",
       "</div>"
      ],
      "text/plain": [
       "   unique_id  truck_id    route_id      departure_date   estimated_arrival  \\\n",
       "0       7223  42839716  R-936011ac 2019-01-19 07:00:00 2019-01-26 07:54:00   \n",
       "1      11943  14316933  R-7278d1fc 2019-02-12 07:00:00 2019-02-12 19:45:00   \n",
       "\n",
       "   delay  route_avg_temp  route_avg_wind_speed  route_avg_precip  \\\n",
       "0      1       83.066667                  8.20               0.0   \n",
       "1      0       60.750000                  4.25               0.0   \n",
       "\n",
       "   route_avg_humidity  ...   driver_id            name gender age experience  \\\n",
       "0           75.333333  ...  a7c336d9-2  Jason Figueroa   male  48         13   \n",
       "1           57.250000  ...  000546f3-a    Joshua Hayes   male  37          3   \n",
       "\n",
       "  driving_style ratings  vehicle_no  average_speed_mph  is_midnight  \n",
       "0     proactive       5    42839716              59.82            1  \n",
       "1       Unknown       7    14316933              60.67            0  \n",
       "\n",
       "[2 rows x 49 columns]"
      ]
     },
     "execution_count": 36,
     "metadata": {},
     "output_type": "execute_result"
    }
   ],
   "source": [
    "final_merge.head(2)"
   ]
  },
  {
   "cell_type": "code",
   "execution_count": 37,
   "id": "5d010806-2880-4f97-b1e1-7c6d58abbed1",
   "metadata": {},
   "outputs": [],
   "source": [
    "encode_columns = ['route_description', 'origin_description', 'destination_description', 'fuel_type', 'gender', 'driving_style']"
   ]
  },
  {
   "cell_type": "code",
   "execution_count": 38,
   "id": "ab671ddf-1f43-4e11-814e-d878c36cdd8f",
   "metadata": {},
   "outputs": [
    {
     "data": {
      "text/html": [
       "<style>#sk-container-id-1 {\n",
       "  /* Definition of color scheme common for light and dark mode */\n",
       "  --sklearn-color-text: black;\n",
       "  --sklearn-color-line: gray;\n",
       "  /* Definition of color scheme for unfitted estimators */\n",
       "  --sklearn-color-unfitted-level-0: #fff5e6;\n",
       "  --sklearn-color-unfitted-level-1: #f6e4d2;\n",
       "  --sklearn-color-unfitted-level-2: #ffe0b3;\n",
       "  --sklearn-color-unfitted-level-3: chocolate;\n",
       "  /* Definition of color scheme for fitted estimators */\n",
       "  --sklearn-color-fitted-level-0: #f0f8ff;\n",
       "  --sklearn-color-fitted-level-1: #d4ebff;\n",
       "  --sklearn-color-fitted-level-2: #b3dbfd;\n",
       "  --sklearn-color-fitted-level-3: cornflowerblue;\n",
       "\n",
       "  /* Specific color for light theme */\n",
       "  --sklearn-color-text-on-default-background: var(--sg-text-color, var(--theme-code-foreground, var(--jp-content-font-color1, black)));\n",
       "  --sklearn-color-background: var(--sg-background-color, var(--theme-background, var(--jp-layout-color0, white)));\n",
       "  --sklearn-color-border-box: var(--sg-text-color, var(--theme-code-foreground, var(--jp-content-font-color1, black)));\n",
       "  --sklearn-color-icon: #696969;\n",
       "\n",
       "  @media (prefers-color-scheme: dark) {\n",
       "    /* Redefinition of color scheme for dark theme */\n",
       "    --sklearn-color-text-on-default-background: var(--sg-text-color, var(--theme-code-foreground, var(--jp-content-font-color1, white)));\n",
       "    --sklearn-color-background: var(--sg-background-color, var(--theme-background, var(--jp-layout-color0, #111)));\n",
       "    --sklearn-color-border-box: var(--sg-text-color, var(--theme-code-foreground, var(--jp-content-font-color1, white)));\n",
       "    --sklearn-color-icon: #878787;\n",
       "  }\n",
       "}\n",
       "\n",
       "#sk-container-id-1 {\n",
       "  color: var(--sklearn-color-text);\n",
       "}\n",
       "\n",
       "#sk-container-id-1 pre {\n",
       "  padding: 0;\n",
       "}\n",
       "\n",
       "#sk-container-id-1 input.sk-hidden--visually {\n",
       "  border: 0;\n",
       "  clip: rect(1px 1px 1px 1px);\n",
       "  clip: rect(1px, 1px, 1px, 1px);\n",
       "  height: 1px;\n",
       "  margin: -1px;\n",
       "  overflow: hidden;\n",
       "  padding: 0;\n",
       "  position: absolute;\n",
       "  width: 1px;\n",
       "}\n",
       "\n",
       "#sk-container-id-1 div.sk-dashed-wrapped {\n",
       "  border: 1px dashed var(--sklearn-color-line);\n",
       "  margin: 0 0.4em 0.5em 0.4em;\n",
       "  box-sizing: border-box;\n",
       "  padding-bottom: 0.4em;\n",
       "  background-color: var(--sklearn-color-background);\n",
       "}\n",
       "\n",
       "#sk-container-id-1 div.sk-container {\n",
       "  /* jupyter's `normalize.less` sets `[hidden] { display: none; }`\n",
       "     but bootstrap.min.css set `[hidden] { display: none !important; }`\n",
       "     so we also need the `!important` here to be able to override the\n",
       "     default hidden behavior on the sphinx rendered scikit-learn.org.\n",
       "     See: https://github.com/scikit-learn/scikit-learn/issues/21755 */\n",
       "  display: inline-block !important;\n",
       "  position: relative;\n",
       "}\n",
       "\n",
       "#sk-container-id-1 div.sk-text-repr-fallback {\n",
       "  display: none;\n",
       "}\n",
       "\n",
       "div.sk-parallel-item,\n",
       "div.sk-serial,\n",
       "div.sk-item {\n",
       "  /* draw centered vertical line to link estimators */\n",
       "  background-image: linear-gradient(var(--sklearn-color-text-on-default-background), var(--sklearn-color-text-on-default-background));\n",
       "  background-size: 2px 100%;\n",
       "  background-repeat: no-repeat;\n",
       "  background-position: center center;\n",
       "}\n",
       "\n",
       "/* Parallel-specific style estimator block */\n",
       "\n",
       "#sk-container-id-1 div.sk-parallel-item::after {\n",
       "  content: \"\";\n",
       "  width: 100%;\n",
       "  border-bottom: 2px solid var(--sklearn-color-text-on-default-background);\n",
       "  flex-grow: 1;\n",
       "}\n",
       "\n",
       "#sk-container-id-1 div.sk-parallel {\n",
       "  display: flex;\n",
       "  align-items: stretch;\n",
       "  justify-content: center;\n",
       "  background-color: var(--sklearn-color-background);\n",
       "  position: relative;\n",
       "}\n",
       "\n",
       "#sk-container-id-1 div.sk-parallel-item {\n",
       "  display: flex;\n",
       "  flex-direction: column;\n",
       "}\n",
       "\n",
       "#sk-container-id-1 div.sk-parallel-item:first-child::after {\n",
       "  align-self: flex-end;\n",
       "  width: 50%;\n",
       "}\n",
       "\n",
       "#sk-container-id-1 div.sk-parallel-item:last-child::after {\n",
       "  align-self: flex-start;\n",
       "  width: 50%;\n",
       "}\n",
       "\n",
       "#sk-container-id-1 div.sk-parallel-item:only-child::after {\n",
       "  width: 0;\n",
       "}\n",
       "\n",
       "/* Serial-specific style estimator block */\n",
       "\n",
       "#sk-container-id-1 div.sk-serial {\n",
       "  display: flex;\n",
       "  flex-direction: column;\n",
       "  align-items: center;\n",
       "  background-color: var(--sklearn-color-background);\n",
       "  padding-right: 1em;\n",
       "  padding-left: 1em;\n",
       "}\n",
       "\n",
       "\n",
       "/* Toggleable style: style used for estimator/Pipeline/ColumnTransformer box that is\n",
       "clickable and can be expanded/collapsed.\n",
       "- Pipeline and ColumnTransformer use this feature and define the default style\n",
       "- Estimators will overwrite some part of the style using the `sk-estimator` class\n",
       "*/\n",
       "\n",
       "/* Pipeline and ColumnTransformer style (default) */\n",
       "\n",
       "#sk-container-id-1 div.sk-toggleable {\n",
       "  /* Default theme specific background. It is overwritten whether we have a\n",
       "  specific estimator or a Pipeline/ColumnTransformer */\n",
       "  background-color: var(--sklearn-color-background);\n",
       "}\n",
       "\n",
       "/* Toggleable label */\n",
       "#sk-container-id-1 label.sk-toggleable__label {\n",
       "  cursor: pointer;\n",
       "  display: block;\n",
       "  width: 100%;\n",
       "  margin-bottom: 0;\n",
       "  padding: 0.5em;\n",
       "  box-sizing: border-box;\n",
       "  text-align: center;\n",
       "}\n",
       "\n",
       "#sk-container-id-1 label.sk-toggleable__label-arrow:before {\n",
       "  /* Arrow on the left of the label */\n",
       "  content: \"▸\";\n",
       "  float: left;\n",
       "  margin-right: 0.25em;\n",
       "  color: var(--sklearn-color-icon);\n",
       "}\n",
       "\n",
       "#sk-container-id-1 label.sk-toggleable__label-arrow:hover:before {\n",
       "  color: var(--sklearn-color-text);\n",
       "}\n",
       "\n",
       "/* Toggleable content - dropdown */\n",
       "\n",
       "#sk-container-id-1 div.sk-toggleable__content {\n",
       "  max-height: 0;\n",
       "  max-width: 0;\n",
       "  overflow: hidden;\n",
       "  text-align: left;\n",
       "  /* unfitted */\n",
       "  background-color: var(--sklearn-color-unfitted-level-0);\n",
       "}\n",
       "\n",
       "#sk-container-id-1 div.sk-toggleable__content.fitted {\n",
       "  /* fitted */\n",
       "  background-color: var(--sklearn-color-fitted-level-0);\n",
       "}\n",
       "\n",
       "#sk-container-id-1 div.sk-toggleable__content pre {\n",
       "  margin: 0.2em;\n",
       "  border-radius: 0.25em;\n",
       "  color: var(--sklearn-color-text);\n",
       "  /* unfitted */\n",
       "  background-color: var(--sklearn-color-unfitted-level-0);\n",
       "}\n",
       "\n",
       "#sk-container-id-1 div.sk-toggleable__content.fitted pre {\n",
       "  /* unfitted */\n",
       "  background-color: var(--sklearn-color-fitted-level-0);\n",
       "}\n",
       "\n",
       "#sk-container-id-1 input.sk-toggleable__control:checked~div.sk-toggleable__content {\n",
       "  /* Expand drop-down */\n",
       "  max-height: 200px;\n",
       "  max-width: 100%;\n",
       "  overflow: auto;\n",
       "}\n",
       "\n",
       "#sk-container-id-1 input.sk-toggleable__control:checked~label.sk-toggleable__label-arrow:before {\n",
       "  content: \"▾\";\n",
       "}\n",
       "\n",
       "/* Pipeline/ColumnTransformer-specific style */\n",
       "\n",
       "#sk-container-id-1 div.sk-label input.sk-toggleable__control:checked~label.sk-toggleable__label {\n",
       "  color: var(--sklearn-color-text);\n",
       "  background-color: var(--sklearn-color-unfitted-level-2);\n",
       "}\n",
       "\n",
       "#sk-container-id-1 div.sk-label.fitted input.sk-toggleable__control:checked~label.sk-toggleable__label {\n",
       "  background-color: var(--sklearn-color-fitted-level-2);\n",
       "}\n",
       "\n",
       "/* Estimator-specific style */\n",
       "\n",
       "/* Colorize estimator box */\n",
       "#sk-container-id-1 div.sk-estimator input.sk-toggleable__control:checked~label.sk-toggleable__label {\n",
       "  /* unfitted */\n",
       "  background-color: var(--sklearn-color-unfitted-level-2);\n",
       "}\n",
       "\n",
       "#sk-container-id-1 div.sk-estimator.fitted input.sk-toggleable__control:checked~label.sk-toggleable__label {\n",
       "  /* fitted */\n",
       "  background-color: var(--sklearn-color-fitted-level-2);\n",
       "}\n",
       "\n",
       "#sk-container-id-1 div.sk-label label.sk-toggleable__label,\n",
       "#sk-container-id-1 div.sk-label label {\n",
       "  /* The background is the default theme color */\n",
       "  color: var(--sklearn-color-text-on-default-background);\n",
       "}\n",
       "\n",
       "/* On hover, darken the color of the background */\n",
       "#sk-container-id-1 div.sk-label:hover label.sk-toggleable__label {\n",
       "  color: var(--sklearn-color-text);\n",
       "  background-color: var(--sklearn-color-unfitted-level-2);\n",
       "}\n",
       "\n",
       "/* Label box, darken color on hover, fitted */\n",
       "#sk-container-id-1 div.sk-label.fitted:hover label.sk-toggleable__label.fitted {\n",
       "  color: var(--sklearn-color-text);\n",
       "  background-color: var(--sklearn-color-fitted-level-2);\n",
       "}\n",
       "\n",
       "/* Estimator label */\n",
       "\n",
       "#sk-container-id-1 div.sk-label label {\n",
       "  font-family: monospace;\n",
       "  font-weight: bold;\n",
       "  display: inline-block;\n",
       "  line-height: 1.2em;\n",
       "}\n",
       "\n",
       "#sk-container-id-1 div.sk-label-container {\n",
       "  text-align: center;\n",
       "}\n",
       "\n",
       "/* Estimator-specific */\n",
       "#sk-container-id-1 div.sk-estimator {\n",
       "  font-family: monospace;\n",
       "  border: 1px dotted var(--sklearn-color-border-box);\n",
       "  border-radius: 0.25em;\n",
       "  box-sizing: border-box;\n",
       "  margin-bottom: 0.5em;\n",
       "  /* unfitted */\n",
       "  background-color: var(--sklearn-color-unfitted-level-0);\n",
       "}\n",
       "\n",
       "#sk-container-id-1 div.sk-estimator.fitted {\n",
       "  /* fitted */\n",
       "  background-color: var(--sklearn-color-fitted-level-0);\n",
       "}\n",
       "\n",
       "/* on hover */\n",
       "#sk-container-id-1 div.sk-estimator:hover {\n",
       "  /* unfitted */\n",
       "  background-color: var(--sklearn-color-unfitted-level-2);\n",
       "}\n",
       "\n",
       "#sk-container-id-1 div.sk-estimator.fitted:hover {\n",
       "  /* fitted */\n",
       "  background-color: var(--sklearn-color-fitted-level-2);\n",
       "}\n",
       "\n",
       "/* Specification for estimator info (e.g. \"i\" and \"?\") */\n",
       "\n",
       "/* Common style for \"i\" and \"?\" */\n",
       "\n",
       ".sk-estimator-doc-link,\n",
       "a:link.sk-estimator-doc-link,\n",
       "a:visited.sk-estimator-doc-link {\n",
       "  float: right;\n",
       "  font-size: smaller;\n",
       "  line-height: 1em;\n",
       "  font-family: monospace;\n",
       "  background-color: var(--sklearn-color-background);\n",
       "  border-radius: 1em;\n",
       "  height: 1em;\n",
       "  width: 1em;\n",
       "  text-decoration: none !important;\n",
       "  margin-left: 1ex;\n",
       "  /* unfitted */\n",
       "  border: var(--sklearn-color-unfitted-level-1) 1pt solid;\n",
       "  color: var(--sklearn-color-unfitted-level-1);\n",
       "}\n",
       "\n",
       ".sk-estimator-doc-link.fitted,\n",
       "a:link.sk-estimator-doc-link.fitted,\n",
       "a:visited.sk-estimator-doc-link.fitted {\n",
       "  /* fitted */\n",
       "  border: var(--sklearn-color-fitted-level-1) 1pt solid;\n",
       "  color: var(--sklearn-color-fitted-level-1);\n",
       "}\n",
       "\n",
       "/* On hover */\n",
       "div.sk-estimator:hover .sk-estimator-doc-link:hover,\n",
       ".sk-estimator-doc-link:hover,\n",
       "div.sk-label-container:hover .sk-estimator-doc-link:hover,\n",
       ".sk-estimator-doc-link:hover {\n",
       "  /* unfitted */\n",
       "  background-color: var(--sklearn-color-unfitted-level-3);\n",
       "  color: var(--sklearn-color-background);\n",
       "  text-decoration: none;\n",
       "}\n",
       "\n",
       "div.sk-estimator.fitted:hover .sk-estimator-doc-link.fitted:hover,\n",
       ".sk-estimator-doc-link.fitted:hover,\n",
       "div.sk-label-container:hover .sk-estimator-doc-link.fitted:hover,\n",
       ".sk-estimator-doc-link.fitted:hover {\n",
       "  /* fitted */\n",
       "  background-color: var(--sklearn-color-fitted-level-3);\n",
       "  color: var(--sklearn-color-background);\n",
       "  text-decoration: none;\n",
       "}\n",
       "\n",
       "/* Span, style for the box shown on hovering the info icon */\n",
       ".sk-estimator-doc-link span {\n",
       "  display: none;\n",
       "  z-index: 9999;\n",
       "  position: relative;\n",
       "  font-weight: normal;\n",
       "  right: .2ex;\n",
       "  padding: .5ex;\n",
       "  margin: .5ex;\n",
       "  width: min-content;\n",
       "  min-width: 20ex;\n",
       "  max-width: 50ex;\n",
       "  color: var(--sklearn-color-text);\n",
       "  box-shadow: 2pt 2pt 4pt #999;\n",
       "  /* unfitted */\n",
       "  background: var(--sklearn-color-unfitted-level-0);\n",
       "  border: .5pt solid var(--sklearn-color-unfitted-level-3);\n",
       "}\n",
       "\n",
       ".sk-estimator-doc-link.fitted span {\n",
       "  /* fitted */\n",
       "  background: var(--sklearn-color-fitted-level-0);\n",
       "  border: var(--sklearn-color-fitted-level-3);\n",
       "}\n",
       "\n",
       ".sk-estimator-doc-link:hover span {\n",
       "  display: block;\n",
       "}\n",
       "\n",
       "/* \"?\"-specific style due to the `<a>` HTML tag */\n",
       "\n",
       "#sk-container-id-1 a.estimator_doc_link {\n",
       "  float: right;\n",
       "  font-size: 1rem;\n",
       "  line-height: 1em;\n",
       "  font-family: monospace;\n",
       "  background-color: var(--sklearn-color-background);\n",
       "  border-radius: 1rem;\n",
       "  height: 1rem;\n",
       "  width: 1rem;\n",
       "  text-decoration: none;\n",
       "  /* unfitted */\n",
       "  color: var(--sklearn-color-unfitted-level-1);\n",
       "  border: var(--sklearn-color-unfitted-level-1) 1pt solid;\n",
       "}\n",
       "\n",
       "#sk-container-id-1 a.estimator_doc_link.fitted {\n",
       "  /* fitted */\n",
       "  border: var(--sklearn-color-fitted-level-1) 1pt solid;\n",
       "  color: var(--sklearn-color-fitted-level-1);\n",
       "}\n",
       "\n",
       "/* On hover */\n",
       "#sk-container-id-1 a.estimator_doc_link:hover {\n",
       "  /* unfitted */\n",
       "  background-color: var(--sklearn-color-unfitted-level-3);\n",
       "  color: var(--sklearn-color-background);\n",
       "  text-decoration: none;\n",
       "}\n",
       "\n",
       "#sk-container-id-1 a.estimator_doc_link.fitted:hover {\n",
       "  /* fitted */\n",
       "  background-color: var(--sklearn-color-fitted-level-3);\n",
       "}\n",
       "</style><div id=\"sk-container-id-1\" class=\"sk-top-container\"><div class=\"sk-text-repr-fallback\"><pre>OneHotEncoder(handle_unknown=&#x27;ignore&#x27;, sparse_output=False)</pre><b>In a Jupyter environment, please rerun this cell to show the HTML representation or trust the notebook. <br />On GitHub, the HTML representation is unable to render, please try loading this page with nbviewer.org.</b></div><div class=\"sk-container\" hidden><div class=\"sk-item\"><div class=\"sk-estimator fitted sk-toggleable\"><input class=\"sk-toggleable__control sk-hidden--visually\" id=\"sk-estimator-id-1\" type=\"checkbox\" checked><label for=\"sk-estimator-id-1\" class=\"sk-toggleable__label fitted sk-toggleable__label-arrow fitted\">&nbsp;&nbsp;OneHotEncoder<a class=\"sk-estimator-doc-link fitted\" rel=\"noreferrer\" target=\"_blank\" href=\"https://scikit-learn.org/1.5/modules/generated/sklearn.preprocessing.OneHotEncoder.html\">?<span>Documentation for OneHotEncoder</span></a><span class=\"sk-estimator-doc-link fitted\">i<span>Fitted</span></span></label><div class=\"sk-toggleable__content fitted\"><pre>OneHotEncoder(handle_unknown=&#x27;ignore&#x27;, sparse_output=False)</pre></div> </div></div></div></div>"
      ],
      "text/plain": [
       "OneHotEncoder(handle_unknown='ignore', sparse_output=False)"
      ]
     },
     "execution_count": 38,
     "metadata": {},
     "output_type": "execute_result"
    }
   ],
   "source": [
    "# Fitting the encoder on the training data\n",
    "encoder.fit(X_train[encode_columns])"
   ]
  },
  {
   "cell_type": "code",
   "execution_count": 39,
   "id": "956d4b9e-cd51-4839-8315-18759bfbd786",
   "metadata": {},
   "outputs": [],
   "source": [
    "# Generating names for the new one-hot encoded features\n",
    "encoded_features = list(encoder.get_feature_names_out(encode_columns))"
   ]
  },
  {
   "cell_type": "code",
   "execution_count": 40,
   "id": "b89f9bec-08e2-4d46-9dd5-001277d7813b",
   "metadata": {},
   "outputs": [
    {
     "data": {
      "text/plain": [
       "['route_description_Blizzard',\n",
       " 'route_description_Blowing snow',\n",
       " 'route_description_Clear',\n",
       " 'route_description_Cloudy',\n",
       " 'route_description_Fog',\n",
       " 'route_description_Freezing drizzle',\n",
       " 'route_description_Freezing fog',\n",
       " 'route_description_Heavy rain',\n",
       " 'route_description_Heavy rain at times',\n",
       " 'route_description_Heavy snow',\n",
       " 'route_description_Light drizzle',\n",
       " 'route_description_Light freezing rain',\n",
       " 'route_description_Light rain',\n",
       " 'route_description_Light rain shower',\n",
       " 'route_description_Light sleet',\n",
       " 'route_description_Light sleet showers',\n",
       " 'route_description_Light snow',\n",
       " 'route_description_Mist',\n",
       " 'route_description_Moderate or heavy freezing rain',\n",
       " 'route_description_Moderate or heavy rain shower',\n",
       " 'route_description_Moderate or heavy rain with thunder',\n",
       " 'route_description_Moderate or heavy sleet',\n",
       " 'route_description_Moderate or heavy sleet showers',\n",
       " 'route_description_Moderate or heavy snow showers',\n",
       " 'route_description_Moderate or heavy snow with thunder',\n",
       " 'route_description_Moderate rain',\n",
       " 'route_description_Moderate rain at times',\n",
       " 'route_description_Moderate snow',\n",
       " 'route_description_Overcast',\n",
       " 'route_description_Partly cloudy',\n",
       " 'route_description_Patchy heavy snow',\n",
       " 'route_description_Patchy light drizzle',\n",
       " 'route_description_Patchy light rain',\n",
       " 'route_description_Patchy light rain with thunder',\n",
       " 'route_description_Patchy light snow',\n",
       " 'route_description_Patchy light snow with thunder',\n",
       " 'route_description_Patchy moderate snow',\n",
       " 'route_description_Patchy rain possible',\n",
       " 'route_description_Patchy sleet possible',\n",
       " 'route_description_Patchy snow possible',\n",
       " 'route_description_Sunny',\n",
       " 'route_description_Thundery outbreaks possible',\n",
       " 'route_description_Torrential rain shower',\n",
       " 'origin_description_Blizzard',\n",
       " 'origin_description_Blowing snow',\n",
       " 'origin_description_Cloudy',\n",
       " 'origin_description_Heavy freezing drizzle',\n",
       " 'origin_description_Heavy rain',\n",
       " 'origin_description_Heavy snow',\n",
       " 'origin_description_Ice pellets',\n",
       " 'origin_description_Light drizzle',\n",
       " 'origin_description_Light freezing rain',\n",
       " 'origin_description_Light rain',\n",
       " 'origin_description_Light rain shower',\n",
       " 'origin_description_Light snow',\n",
       " 'origin_description_Mist',\n",
       " 'origin_description_Moderate or heavy freezing rain',\n",
       " 'origin_description_Moderate or heavy rain shower',\n",
       " 'origin_description_Moderate or heavy rain with thunder',\n",
       " 'origin_description_Moderate rain',\n",
       " 'origin_description_Moderate rain at times',\n",
       " 'origin_description_Moderate snow',\n",
       " 'origin_description_Overcast',\n",
       " 'origin_description_Partly cloudy',\n",
       " 'origin_description_Patchy heavy snow',\n",
       " 'origin_description_Patchy light drizzle',\n",
       " 'origin_description_Patchy light rain',\n",
       " 'origin_description_Patchy light snow',\n",
       " 'origin_description_Patchy moderate snow',\n",
       " 'origin_description_Patchy rain possible',\n",
       " 'origin_description_Patchy snow possible',\n",
       " 'origin_description_Sunny',\n",
       " 'origin_description_Torrential rain shower',\n",
       " 'destination_description_Blizzard',\n",
       " 'destination_description_Blowing snow',\n",
       " 'destination_description_Clear',\n",
       " 'destination_description_Cloudy',\n",
       " 'destination_description_Fog',\n",
       " 'destination_description_Freezing fog',\n",
       " 'destination_description_Heavy freezing drizzle',\n",
       " 'destination_description_Heavy rain',\n",
       " 'destination_description_Heavy rain at times',\n",
       " 'destination_description_Heavy snow',\n",
       " 'destination_description_Ice pellets',\n",
       " 'destination_description_Light drizzle',\n",
       " 'destination_description_Light freezing rain',\n",
       " 'destination_description_Light rain',\n",
       " 'destination_description_Light rain shower',\n",
       " 'destination_description_Light sleet',\n",
       " 'destination_description_Light snow',\n",
       " 'destination_description_Light snow showers',\n",
       " 'destination_description_Mist',\n",
       " 'destination_description_Moderate or heavy freezing rain',\n",
       " 'destination_description_Moderate or heavy rain shower',\n",
       " 'destination_description_Moderate or heavy rain with thunder',\n",
       " 'destination_description_Moderate or heavy showers of ice pellets',\n",
       " 'destination_description_Moderate or heavy sleet',\n",
       " 'destination_description_Moderate or heavy snow showers',\n",
       " 'destination_description_Moderate rain',\n",
       " 'destination_description_Moderate rain at times',\n",
       " 'destination_description_Moderate snow',\n",
       " 'destination_description_Overcast',\n",
       " 'destination_description_Partly cloudy',\n",
       " 'destination_description_Patchy heavy snow',\n",
       " 'destination_description_Patchy light drizzle',\n",
       " 'destination_description_Patchy light rain',\n",
       " 'destination_description_Patchy light snow',\n",
       " 'destination_description_Patchy moderate snow',\n",
       " 'destination_description_Patchy rain possible',\n",
       " 'destination_description_Patchy sleet possible',\n",
       " 'destination_description_Patchy snow possible',\n",
       " 'destination_description_Sunny',\n",
       " 'destination_description_Torrential rain shower',\n",
       " 'fuel_type_Unknown',\n",
       " 'fuel_type_diesel',\n",
       " 'fuel_type_gas',\n",
       " 'gender_Unknown',\n",
       " 'gender_female',\n",
       " 'gender_male',\n",
       " 'driving_style_Unknown',\n",
       " 'driving_style_conservative',\n",
       " 'driving_style_proactive']"
      ]
     },
     "execution_count": 40,
     "metadata": {},
     "output_type": "execute_result"
    }
   ],
   "source": [
    "encoded_features"
   ]
  },
  {
   "cell_type": "code",
   "execution_count": 41,
   "id": "300ec42c-010d-400c-9d91-85a349104f01",
   "metadata": {
    "scrolled": true
   },
   "outputs": [
    {
     "name": "stderr",
     "output_type": "stream",
     "text": [
      "SettingWithCopyWarning: \n",
      "A value is trying to be set on a copy of a slice from a DataFrame.\n",
      "Try using .loc[row_indexer,col_indexer] = value instead\n",
      "\n",
      "See the caveats in the documentation: https://pandas.pydata.org/pandas-docs/stable/user_guide/indexing.html#returning-a-view-versus-a-copy\n",
      "SettingWithCopyWarning: \n",
      "A value is trying to be set on a copy of a slice from a DataFrame.\n",
      "Try using .loc[row_indexer,col_indexer] = value instead\n",
      "\n",
      "See the caveats in the documentation: https://pandas.pydata.org/pandas-docs/stable/user_guide/indexing.html#returning-a-view-versus-a-copy\n",
      "SettingWithCopyWarning: \n",
      "A value is trying to be set on a copy of a slice from a DataFrame.\n",
      "Try using .loc[row_indexer,col_indexer] = value instead\n",
      "\n",
      "See the caveats in the documentation: https://pandas.pydata.org/pandas-docs/stable/user_guide/indexing.html#returning-a-view-versus-a-copy\n",
      "SettingWithCopyWarning: \n",
      "A value is trying to be set on a copy of a slice from a DataFrame.\n",
      "Try using .loc[row_indexer,col_indexer] = value instead\n",
      "\n",
      "See the caveats in the documentation: https://pandas.pydata.org/pandas-docs/stable/user_guide/indexing.html#returning-a-view-versus-a-copy\n",
      "SettingWithCopyWarning: \n",
      "A value is trying to be set on a copy of a slice from a DataFrame.\n",
      "Try using .loc[row_indexer,col_indexer] = value instead\n",
      "\n",
      "See the caveats in the documentation: https://pandas.pydata.org/pandas-docs/stable/user_guide/indexing.html#returning-a-view-versus-a-copy\n",
      "SettingWithCopyWarning: \n",
      "A value is trying to be set on a copy of a slice from a DataFrame.\n",
      "Try using .loc[row_indexer,col_indexer] = value instead\n",
      "\n",
      "See the caveats in the documentation: https://pandas.pydata.org/pandas-docs/stable/user_guide/indexing.html#returning-a-view-versus-a-copy\n",
      "SettingWithCopyWarning: \n",
      "A value is trying to be set on a copy of a slice from a DataFrame.\n",
      "Try using .loc[row_indexer,col_indexer] = value instead\n",
      "\n",
      "See the caveats in the documentation: https://pandas.pydata.org/pandas-docs/stable/user_guide/indexing.html#returning-a-view-versus-a-copy\n",
      "SettingWithCopyWarning: \n",
      "A value is trying to be set on a copy of a slice from a DataFrame.\n",
      "Try using .loc[row_indexer,col_indexer] = value instead\n",
      "\n",
      "See the caveats in the documentation: https://pandas.pydata.org/pandas-docs/stable/user_guide/indexing.html#returning-a-view-versus-a-copy\n",
      "SettingWithCopyWarning: \n",
      "A value is trying to be set on a copy of a slice from a DataFrame.\n",
      "Try using .loc[row_indexer,col_indexer] = value instead\n",
      "\n",
      "See the caveats in the documentation: https://pandas.pydata.org/pandas-docs/stable/user_guide/indexing.html#returning-a-view-versus-a-copy\n",
      "SettingWithCopyWarning: \n",
      "A value is trying to be set on a copy of a slice from a DataFrame.\n",
      "Try using .loc[row_indexer,col_indexer] = value instead\n",
      "\n",
      "See the caveats in the documentation: https://pandas.pydata.org/pandas-docs/stable/user_guide/indexing.html#returning-a-view-versus-a-copy\n",
      "SettingWithCopyWarning: \n",
      "A value is trying to be set on a copy of a slice from a DataFrame.\n",
      "Try using .loc[row_indexer,col_indexer] = value instead\n",
      "\n",
      "See the caveats in the documentation: https://pandas.pydata.org/pandas-docs/stable/user_guide/indexing.html#returning-a-view-versus-a-copy\n",
      "SettingWithCopyWarning: \n",
      "A value is trying to be set on a copy of a slice from a DataFrame.\n",
      "Try using .loc[row_indexer,col_indexer] = value instead\n",
      "\n",
      "See the caveats in the documentation: https://pandas.pydata.org/pandas-docs/stable/user_guide/indexing.html#returning-a-view-versus-a-copy\n",
      "PerformanceWarning: DataFrame is highly fragmented.  This is usually the result of calling `frame.insert` many times, which has poor performance.  Consider joining all columns at once using pd.concat(axis=1) instead. To get a de-fragmented frame, use `newframe = frame.copy()`\n",
      "PerformanceWarning: DataFrame is highly fragmented.  This is usually the result of calling `frame.insert` many times, which has poor performance.  Consider joining all columns at once using pd.concat(axis=1) instead. To get a de-fragmented frame, use `newframe = frame.copy()`\n",
      "PerformanceWarning: DataFrame is highly fragmented.  This is usually the result of calling `frame.insert` many times, which has poor performance.  Consider joining all columns at once using pd.concat(axis=1) instead. To get a de-fragmented frame, use `newframe = frame.copy()`\n",
      "PerformanceWarning: DataFrame is highly fragmented.  This is usually the result of calling `frame.insert` many times, which has poor performance.  Consider joining all columns at once using pd.concat(axis=1) instead. To get a de-fragmented frame, use `newframe = frame.copy()`\n",
      "PerformanceWarning: DataFrame is highly fragmented.  This is usually the result of calling `frame.insert` many times, which has poor performance.  Consider joining all columns at once using pd.concat(axis=1) instead. To get a de-fragmented frame, use `newframe = frame.copy()`\n",
      "PerformanceWarning: DataFrame is highly fragmented.  This is usually the result of calling `frame.insert` many times, which has poor performance.  Consider joining all columns at once using pd.concat(axis=1) instead. To get a de-fragmented frame, use `newframe = frame.copy()`\n",
      "PerformanceWarning: DataFrame is highly fragmented.  This is usually the result of calling `frame.insert` many times, which has poor performance.  Consider joining all columns at once using pd.concat(axis=1) instead. To get a de-fragmented frame, use `newframe = frame.copy()`\n",
      "PerformanceWarning: DataFrame is highly fragmented.  This is usually the result of calling `frame.insert` many times, which has poor performance.  Consider joining all columns at once using pd.concat(axis=1) instead. To get a de-fragmented frame, use `newframe = frame.copy()`\n",
      "PerformanceWarning: DataFrame is highly fragmented.  This is usually the result of calling `frame.insert` many times, which has poor performance.  Consider joining all columns at once using pd.concat(axis=1) instead. To get a de-fragmented frame, use `newframe = frame.copy()`\n",
      "PerformanceWarning: DataFrame is highly fragmented.  This is usually the result of calling `frame.insert` many times, which has poor performance.  Consider joining all columns at once using pd.concat(axis=1) instead. To get a de-fragmented frame, use `newframe = frame.copy()`\n",
      "PerformanceWarning: DataFrame is highly fragmented.  This is usually the result of calling `frame.insert` many times, which has poor performance.  Consider joining all columns at once using pd.concat(axis=1) instead. To get a de-fragmented frame, use `newframe = frame.copy()`\n",
      "PerformanceWarning: DataFrame is highly fragmented.  This is usually the result of calling `frame.insert` many times, which has poor performance.  Consider joining all columns at once using pd.concat(axis=1) instead. To get a de-fragmented frame, use `newframe = frame.copy()`\n",
      "PerformanceWarning: DataFrame is highly fragmented.  This is usually the result of calling `frame.insert` many times, which has poor performance.  Consider joining all columns at once using pd.concat(axis=1) instead. To get a de-fragmented frame, use `newframe = frame.copy()`\n",
      "PerformanceWarning: DataFrame is highly fragmented.  This is usually the result of calling `frame.insert` many times, which has poor performance.  Consider joining all columns at once using pd.concat(axis=1) instead. To get a de-fragmented frame, use `newframe = frame.copy()`\n",
      "PerformanceWarning: DataFrame is highly fragmented.  This is usually the result of calling `frame.insert` many times, which has poor performance.  Consider joining all columns at once using pd.concat(axis=1) instead. To get a de-fragmented frame, use `newframe = frame.copy()`\n",
      "PerformanceWarning: DataFrame is highly fragmented.  This is usually the result of calling `frame.insert` many times, which has poor performance.  Consider joining all columns at once using pd.concat(axis=1) instead. To get a de-fragmented frame, use `newframe = frame.copy()`\n",
      "PerformanceWarning: DataFrame is highly fragmented.  This is usually the result of calling `frame.insert` many times, which has poor performance.  Consider joining all columns at once using pd.concat(axis=1) instead. To get a de-fragmented frame, use `newframe = frame.copy()`\n",
      "PerformanceWarning: DataFrame is highly fragmented.  This is usually the result of calling `frame.insert` many times, which has poor performance.  Consider joining all columns at once using pd.concat(axis=1) instead. To get a de-fragmented frame, use `newframe = frame.copy()`\n",
      "PerformanceWarning: DataFrame is highly fragmented.  This is usually the result of calling `frame.insert` many times, which has poor performance.  Consider joining all columns at once using pd.concat(axis=1) instead. To get a de-fragmented frame, use `newframe = frame.copy()`\n",
      "PerformanceWarning: DataFrame is highly fragmented.  This is usually the result of calling `frame.insert` many times, which has poor performance.  Consider joining all columns at once using pd.concat(axis=1) instead. To get a de-fragmented frame, use `newframe = frame.copy()`\n",
      "PerformanceWarning: DataFrame is highly fragmented.  This is usually the result of calling `frame.insert` many times, which has poor performance.  Consider joining all columns at once using pd.concat(axis=1) instead. To get a de-fragmented frame, use `newframe = frame.copy()`\n",
      "PerformanceWarning: DataFrame is highly fragmented.  This is usually the result of calling `frame.insert` many times, which has poor performance.  Consider joining all columns at once using pd.concat(axis=1) instead. To get a de-fragmented frame, use `newframe = frame.copy()`\n",
      "PerformanceWarning: DataFrame is highly fragmented.  This is usually the result of calling `frame.insert` many times, which has poor performance.  Consider joining all columns at once using pd.concat(axis=1) instead. To get a de-fragmented frame, use `newframe = frame.copy()`\n",
      "PerformanceWarning: DataFrame is highly fragmented.  This is usually the result of calling `frame.insert` many times, which has poor performance.  Consider joining all columns at once using pd.concat(axis=1) instead. To get a de-fragmented frame, use `newframe = frame.copy()`\n",
      "PerformanceWarning: DataFrame is highly fragmented.  This is usually the result of calling `frame.insert` many times, which has poor performance.  Consider joining all columns at once using pd.concat(axis=1) instead. To get a de-fragmented frame, use `newframe = frame.copy()`\n",
      "PerformanceWarning: DataFrame is highly fragmented.  This is usually the result of calling `frame.insert` many times, which has poor performance.  Consider joining all columns at once using pd.concat(axis=1) instead. To get a de-fragmented frame, use `newframe = frame.copy()`\n",
      "PerformanceWarning: DataFrame is highly fragmented.  This is usually the result of calling `frame.insert` many times, which has poor performance.  Consider joining all columns at once using pd.concat(axis=1) instead. To get a de-fragmented frame, use `newframe = frame.copy()`\n",
      "SettingWithCopyWarning: \n",
      "A value is trying to be set on a copy of a slice from a DataFrame.\n",
      "Try using .loc[row_indexer,col_indexer] = value instead\n",
      "\n",
      "See the caveats in the documentation: https://pandas.pydata.org/pandas-docs/stable/user_guide/indexing.html#returning-a-view-versus-a-copy\n",
      "SettingWithCopyWarning: \n",
      "A value is trying to be set on a copy of a slice from a DataFrame.\n",
      "Try using .loc[row_indexer,col_indexer] = value instead\n",
      "\n",
      "See the caveats in the documentation: https://pandas.pydata.org/pandas-docs/stable/user_guide/indexing.html#returning-a-view-versus-a-copy\n",
      "SettingWithCopyWarning: \n",
      "A value is trying to be set on a copy of a slice from a DataFrame.\n",
      "Try using .loc[row_indexer,col_indexer] = value instead\n",
      "\n",
      "See the caveats in the documentation: https://pandas.pydata.org/pandas-docs/stable/user_guide/indexing.html#returning-a-view-versus-a-copy\n",
      "SettingWithCopyWarning: \n",
      "A value is trying to be set on a copy of a slice from a DataFrame.\n",
      "Try using .loc[row_indexer,col_indexer] = value instead\n",
      "\n",
      "See the caveats in the documentation: https://pandas.pydata.org/pandas-docs/stable/user_guide/indexing.html#returning-a-view-versus-a-copy\n",
      "SettingWithCopyWarning: \n",
      "A value is trying to be set on a copy of a slice from a DataFrame.\n",
      "Try using .loc[row_indexer,col_indexer] = value instead\n",
      "\n",
      "See the caveats in the documentation: https://pandas.pydata.org/pandas-docs/stable/user_guide/indexing.html#returning-a-view-versus-a-copy\n",
      "SettingWithCopyWarning: \n",
      "A value is trying to be set on a copy of a slice from a DataFrame.\n",
      "Try using .loc[row_indexer,col_indexer] = value instead\n",
      "\n",
      "See the caveats in the documentation: https://pandas.pydata.org/pandas-docs/stable/user_guide/indexing.html#returning-a-view-versus-a-copy\n",
      "SettingWithCopyWarning: \n",
      "A value is trying to be set on a copy of a slice from a DataFrame.\n",
      "Try using .loc[row_indexer,col_indexer] = value instead\n",
      "\n",
      "See the caveats in the documentation: https://pandas.pydata.org/pandas-docs/stable/user_guide/indexing.html#returning-a-view-versus-a-copy\n",
      "SettingWithCopyWarning: \n",
      "A value is trying to be set on a copy of a slice from a DataFrame.\n",
      "Try using .loc[row_indexer,col_indexer] = value instead\n",
      "\n",
      "See the caveats in the documentation: https://pandas.pydata.org/pandas-docs/stable/user_guide/indexing.html#returning-a-view-versus-a-copy\n",
      "SettingWithCopyWarning: \n",
      "A value is trying to be set on a copy of a slice from a DataFrame.\n",
      "Try using .loc[row_indexer,col_indexer] = value instead\n",
      "\n",
      "See the caveats in the documentation: https://pandas.pydata.org/pandas-docs/stable/user_guide/indexing.html#returning-a-view-versus-a-copy\n",
      "SettingWithCopyWarning: \n",
      "A value is trying to be set on a copy of a slice from a DataFrame.\n",
      "Try using .loc[row_indexer,col_indexer] = value instead\n",
      "\n",
      "See the caveats in the documentation: https://pandas.pydata.org/pandas-docs/stable/user_guide/indexing.html#returning-a-view-versus-a-copy\n",
      "SettingWithCopyWarning: \n",
      "A value is trying to be set on a copy of a slice from a DataFrame.\n",
      "Try using .loc[row_indexer,col_indexer] = value instead\n",
      "\n",
      "See the caveats in the documentation: https://pandas.pydata.org/pandas-docs/stable/user_guide/indexing.html#returning-a-view-versus-a-copy\n",
      "SettingWithCopyWarning: \n",
      "A value is trying to be set on a copy of a slice from a DataFrame.\n",
      "Try using .loc[row_indexer,col_indexer] = value instead\n",
      "\n",
      "See the caveats in the documentation: https://pandas.pydata.org/pandas-docs/stable/user_guide/indexing.html#returning-a-view-versus-a-copy\n",
      "PerformanceWarning: DataFrame is highly fragmented.  This is usually the result of calling `frame.insert` many times, which has poor performance.  Consider joining all columns at once using pd.concat(axis=1) instead. To get a de-fragmented frame, use `newframe = frame.copy()`\n",
      "PerformanceWarning: DataFrame is highly fragmented.  This is usually the result of calling `frame.insert` many times, which has poor performance.  Consider joining all columns at once using pd.concat(axis=1) instead. To get a de-fragmented frame, use `newframe = frame.copy()`\n",
      "PerformanceWarning: DataFrame is highly fragmented.  This is usually the result of calling `frame.insert` many times, which has poor performance.  Consider joining all columns at once using pd.concat(axis=1) instead. To get a de-fragmented frame, use `newframe = frame.copy()`\n",
      "PerformanceWarning: DataFrame is highly fragmented.  This is usually the result of calling `frame.insert` many times, which has poor performance.  Consider joining all columns at once using pd.concat(axis=1) instead. To get a de-fragmented frame, use `newframe = frame.copy()`\n",
      "PerformanceWarning: DataFrame is highly fragmented.  This is usually the result of calling `frame.insert` many times, which has poor performance.  Consider joining all columns at once using pd.concat(axis=1) instead. To get a de-fragmented frame, use `newframe = frame.copy()`\n",
      "PerformanceWarning: DataFrame is highly fragmented.  This is usually the result of calling `frame.insert` many times, which has poor performance.  Consider joining all columns at once using pd.concat(axis=1) instead. To get a de-fragmented frame, use `newframe = frame.copy()`\n",
      "PerformanceWarning: DataFrame is highly fragmented.  This is usually the result of calling `frame.insert` many times, which has poor performance.  Consider joining all columns at once using pd.concat(axis=1) instead. To get a de-fragmented frame, use `newframe = frame.copy()`\n",
      "PerformanceWarning: DataFrame is highly fragmented.  This is usually the result of calling `frame.insert` many times, which has poor performance.  Consider joining all columns at once using pd.concat(axis=1) instead. To get a de-fragmented frame, use `newframe = frame.copy()`\n",
      "PerformanceWarning: DataFrame is highly fragmented.  This is usually the result of calling `frame.insert` many times, which has poor performance.  Consider joining all columns at once using pd.concat(axis=1) instead. To get a de-fragmented frame, use `newframe = frame.copy()`\n",
      "PerformanceWarning: DataFrame is highly fragmented.  This is usually the result of calling `frame.insert` many times, which has poor performance.  Consider joining all columns at once using pd.concat(axis=1) instead. To get a de-fragmented frame, use `newframe = frame.copy()`\n",
      "PerformanceWarning: DataFrame is highly fragmented.  This is usually the result of calling `frame.insert` many times, which has poor performance.  Consider joining all columns at once using pd.concat(axis=1) instead. To get a de-fragmented frame, use `newframe = frame.copy()`\n",
      "PerformanceWarning: DataFrame is highly fragmented.  This is usually the result of calling `frame.insert` many times, which has poor performance.  Consider joining all columns at once using pd.concat(axis=1) instead. To get a de-fragmented frame, use `newframe = frame.copy()`\n",
      "PerformanceWarning: DataFrame is highly fragmented.  This is usually the result of calling `frame.insert` many times, which has poor performance.  Consider joining all columns at once using pd.concat(axis=1) instead. To get a de-fragmented frame, use `newframe = frame.copy()`\n",
      "PerformanceWarning: DataFrame is highly fragmented.  This is usually the result of calling `frame.insert` many times, which has poor performance.  Consider joining all columns at once using pd.concat(axis=1) instead. To get a de-fragmented frame, use `newframe = frame.copy()`\n",
      "PerformanceWarning: DataFrame is highly fragmented.  This is usually the result of calling `frame.insert` many times, which has poor performance.  Consider joining all columns at once using pd.concat(axis=1) instead. To get a de-fragmented frame, use `newframe = frame.copy()`\n",
      "PerformanceWarning: DataFrame is highly fragmented.  This is usually the result of calling `frame.insert` many times, which has poor performance.  Consider joining all columns at once using pd.concat(axis=1) instead. To get a de-fragmented frame, use `newframe = frame.copy()`\n",
      "PerformanceWarning: DataFrame is highly fragmented.  This is usually the result of calling `frame.insert` many times, which has poor performance.  Consider joining all columns at once using pd.concat(axis=1) instead. To get a de-fragmented frame, use `newframe = frame.copy()`\n",
      "PerformanceWarning: DataFrame is highly fragmented.  This is usually the result of calling `frame.insert` many times, which has poor performance.  Consider joining all columns at once using pd.concat(axis=1) instead. To get a de-fragmented frame, use `newframe = frame.copy()`\n",
      "PerformanceWarning: DataFrame is highly fragmented.  This is usually the result of calling `frame.insert` many times, which has poor performance.  Consider joining all columns at once using pd.concat(axis=1) instead. To get a de-fragmented frame, use `newframe = frame.copy()`\n",
      "PerformanceWarning: DataFrame is highly fragmented.  This is usually the result of calling `frame.insert` many times, which has poor performance.  Consider joining all columns at once using pd.concat(axis=1) instead. To get a de-fragmented frame, use `newframe = frame.copy()`\n",
      "PerformanceWarning: DataFrame is highly fragmented.  This is usually the result of calling `frame.insert` many times, which has poor performance.  Consider joining all columns at once using pd.concat(axis=1) instead. To get a de-fragmented frame, use `newframe = frame.copy()`\n",
      "PerformanceWarning: DataFrame is highly fragmented.  This is usually the result of calling `frame.insert` many times, which has poor performance.  Consider joining all columns at once using pd.concat(axis=1) instead. To get a de-fragmented frame, use `newframe = frame.copy()`\n",
      "PerformanceWarning: DataFrame is highly fragmented.  This is usually the result of calling `frame.insert` many times, which has poor performance.  Consider joining all columns at once using pd.concat(axis=1) instead. To get a de-fragmented frame, use `newframe = frame.copy()`\n",
      "PerformanceWarning: DataFrame is highly fragmented.  This is usually the result of calling `frame.insert` many times, which has poor performance.  Consider joining all columns at once using pd.concat(axis=1) instead. To get a de-fragmented frame, use `newframe = frame.copy()`\n",
      "PerformanceWarning: DataFrame is highly fragmented.  This is usually the result of calling `frame.insert` many times, which has poor performance.  Consider joining all columns at once using pd.concat(axis=1) instead. To get a de-fragmented frame, use `newframe = frame.copy()`\n",
      "PerformanceWarning: DataFrame is highly fragmented.  This is usually the result of calling `frame.insert` many times, which has poor performance.  Consider joining all columns at once using pd.concat(axis=1) instead. To get a de-fragmented frame, use `newframe = frame.copy()`\n",
      "PerformanceWarning: DataFrame is highly fragmented.  This is usually the result of calling `frame.insert` many times, which has poor performance.  Consider joining all columns at once using pd.concat(axis=1) instead. To get a de-fragmented frame, use `newframe = frame.copy()`\n",
      "SettingWithCopyWarning: \n",
      "A value is trying to be set on a copy of a slice from a DataFrame.\n",
      "Try using .loc[row_indexer,col_indexer] = value instead\n",
      "\n",
      "See the caveats in the documentation: https://pandas.pydata.org/pandas-docs/stable/user_guide/indexing.html#returning-a-view-versus-a-copy\n",
      "SettingWithCopyWarning: \n",
      "A value is trying to be set on a copy of a slice from a DataFrame.\n",
      "Try using .loc[row_indexer,col_indexer] = value instead\n",
      "\n",
      "See the caveats in the documentation: https://pandas.pydata.org/pandas-docs/stable/user_guide/indexing.html#returning-a-view-versus-a-copy\n",
      "SettingWithCopyWarning: \n",
      "A value is trying to be set on a copy of a slice from a DataFrame.\n",
      "Try using .loc[row_indexer,col_indexer] = value instead\n",
      "\n",
      "See the caveats in the documentation: https://pandas.pydata.org/pandas-docs/stable/user_guide/indexing.html#returning-a-view-versus-a-copy\n",
      "SettingWithCopyWarning: \n",
      "A value is trying to be set on a copy of a slice from a DataFrame.\n",
      "Try using .loc[row_indexer,col_indexer] = value instead\n",
      "\n",
      "See the caveats in the documentation: https://pandas.pydata.org/pandas-docs/stable/user_guide/indexing.html#returning-a-view-versus-a-copy\n",
      "SettingWithCopyWarning: \n",
      "A value is trying to be set on a copy of a slice from a DataFrame.\n",
      "Try using .loc[row_indexer,col_indexer] = value instead\n",
      "\n",
      "See the caveats in the documentation: https://pandas.pydata.org/pandas-docs/stable/user_guide/indexing.html#returning-a-view-versus-a-copy\n",
      "SettingWithCopyWarning: \n",
      "A value is trying to be set on a copy of a slice from a DataFrame.\n",
      "Try using .loc[row_indexer,col_indexer] = value instead\n",
      "\n",
      "See the caveats in the documentation: https://pandas.pydata.org/pandas-docs/stable/user_guide/indexing.html#returning-a-view-versus-a-copy\n",
      "SettingWithCopyWarning: \n",
      "A value is trying to be set on a copy of a slice from a DataFrame.\n",
      "Try using .loc[row_indexer,col_indexer] = value instead\n",
      "\n",
      "See the caveats in the documentation: https://pandas.pydata.org/pandas-docs/stable/user_guide/indexing.html#returning-a-view-versus-a-copy\n",
      "SettingWithCopyWarning: \n",
      "A value is trying to be set on a copy of a slice from a DataFrame.\n",
      "Try using .loc[row_indexer,col_indexer] = value instead\n",
      "\n",
      "See the caveats in the documentation: https://pandas.pydata.org/pandas-docs/stable/user_guide/indexing.html#returning-a-view-versus-a-copy\n",
      "SettingWithCopyWarning: \n",
      "A value is trying to be set on a copy of a slice from a DataFrame.\n",
      "Try using .loc[row_indexer,col_indexer] = value instead\n",
      "\n",
      "See the caveats in the documentation: https://pandas.pydata.org/pandas-docs/stable/user_guide/indexing.html#returning-a-view-versus-a-copy\n",
      "SettingWithCopyWarning: \n",
      "A value is trying to be set on a copy of a slice from a DataFrame.\n",
      "Try using .loc[row_indexer,col_indexer] = value instead\n",
      "\n",
      "See the caveats in the documentation: https://pandas.pydata.org/pandas-docs/stable/user_guide/indexing.html#returning-a-view-versus-a-copy\n",
      "SettingWithCopyWarning: \n",
      "A value is trying to be set on a copy of a slice from a DataFrame.\n",
      "Try using .loc[row_indexer,col_indexer] = value instead\n",
      "\n",
      "See the caveats in the documentation: https://pandas.pydata.org/pandas-docs/stable/user_guide/indexing.html#returning-a-view-versus-a-copy\n",
      "SettingWithCopyWarning: \n",
      "A value is trying to be set on a copy of a slice from a DataFrame.\n",
      "Try using .loc[row_indexer,col_indexer] = value instead\n",
      "\n",
      "See the caveats in the documentation: https://pandas.pydata.org/pandas-docs/stable/user_guide/indexing.html#returning-a-view-versus-a-copy\n",
      "PerformanceWarning: DataFrame is highly fragmented.  This is usually the result of calling `frame.insert` many times, which has poor performance.  Consider joining all columns at once using pd.concat(axis=1) instead. To get a de-fragmented frame, use `newframe = frame.copy()`\n",
      "PerformanceWarning: DataFrame is highly fragmented.  This is usually the result of calling `frame.insert` many times, which has poor performance.  Consider joining all columns at once using pd.concat(axis=1) instead. To get a de-fragmented frame, use `newframe = frame.copy()`\n",
      "PerformanceWarning: DataFrame is highly fragmented.  This is usually the result of calling `frame.insert` many times, which has poor performance.  Consider joining all columns at once using pd.concat(axis=1) instead. To get a de-fragmented frame, use `newframe = frame.copy()`\n",
      "PerformanceWarning: DataFrame is highly fragmented.  This is usually the result of calling `frame.insert` many times, which has poor performance.  Consider joining all columns at once using pd.concat(axis=1) instead. To get a de-fragmented frame, use `newframe = frame.copy()`\n",
      "PerformanceWarning: DataFrame is highly fragmented.  This is usually the result of calling `frame.insert` many times, which has poor performance.  Consider joining all columns at once using pd.concat(axis=1) instead. To get a de-fragmented frame, use `newframe = frame.copy()`\n",
      "PerformanceWarning: DataFrame is highly fragmented.  This is usually the result of calling `frame.insert` many times, which has poor performance.  Consider joining all columns at once using pd.concat(axis=1) instead. To get a de-fragmented frame, use `newframe = frame.copy()`\n",
      "PerformanceWarning: DataFrame is highly fragmented.  This is usually the result of calling `frame.insert` many times, which has poor performance.  Consider joining all columns at once using pd.concat(axis=1) instead. To get a de-fragmented frame, use `newframe = frame.copy()`\n",
      "PerformanceWarning: DataFrame is highly fragmented.  This is usually the result of calling `frame.insert` many times, which has poor performance.  Consider joining all columns at once using pd.concat(axis=1) instead. To get a de-fragmented frame, use `newframe = frame.copy()`\n",
      "PerformanceWarning: DataFrame is highly fragmented.  This is usually the result of calling `frame.insert` many times, which has poor performance.  Consider joining all columns at once using pd.concat(axis=1) instead. To get a de-fragmented frame, use `newframe = frame.copy()`\n",
      "PerformanceWarning: DataFrame is highly fragmented.  This is usually the result of calling `frame.insert` many times, which has poor performance.  Consider joining all columns at once using pd.concat(axis=1) instead. To get a de-fragmented frame, use `newframe = frame.copy()`\n",
      "PerformanceWarning: DataFrame is highly fragmented.  This is usually the result of calling `frame.insert` many times, which has poor performance.  Consider joining all columns at once using pd.concat(axis=1) instead. To get a de-fragmented frame, use `newframe = frame.copy()`\n",
      "PerformanceWarning: DataFrame is highly fragmented.  This is usually the result of calling `frame.insert` many times, which has poor performance.  Consider joining all columns at once using pd.concat(axis=1) instead. To get a de-fragmented frame, use `newframe = frame.copy()`\n",
      "PerformanceWarning: DataFrame is highly fragmented.  This is usually the result of calling `frame.insert` many times, which has poor performance.  Consider joining all columns at once using pd.concat(axis=1) instead. To get a de-fragmented frame, use `newframe = frame.copy()`\n",
      "PerformanceWarning: DataFrame is highly fragmented.  This is usually the result of calling `frame.insert` many times, which has poor performance.  Consider joining all columns at once using pd.concat(axis=1) instead. To get a de-fragmented frame, use `newframe = frame.copy()`\n",
      "PerformanceWarning: DataFrame is highly fragmented.  This is usually the result of calling `frame.insert` many times, which has poor performance.  Consider joining all columns at once using pd.concat(axis=1) instead. To get a de-fragmented frame, use `newframe = frame.copy()`\n",
      "PerformanceWarning: DataFrame is highly fragmented.  This is usually the result of calling `frame.insert` many times, which has poor performance.  Consider joining all columns at once using pd.concat(axis=1) instead. To get a de-fragmented frame, use `newframe = frame.copy()`\n",
      "PerformanceWarning: DataFrame is highly fragmented.  This is usually the result of calling `frame.insert` many times, which has poor performance.  Consider joining all columns at once using pd.concat(axis=1) instead. To get a de-fragmented frame, use `newframe = frame.copy()`\n",
      "PerformanceWarning: DataFrame is highly fragmented.  This is usually the result of calling `frame.insert` many times, which has poor performance.  Consider joining all columns at once using pd.concat(axis=1) instead. To get a de-fragmented frame, use `newframe = frame.copy()`\n",
      "PerformanceWarning: DataFrame is highly fragmented.  This is usually the result of calling `frame.insert` many times, which has poor performance.  Consider joining all columns at once using pd.concat(axis=1) instead. To get a de-fragmented frame, use `newframe = frame.copy()`\n",
      "PerformanceWarning: DataFrame is highly fragmented.  This is usually the result of calling `frame.insert` many times, which has poor performance.  Consider joining all columns at once using pd.concat(axis=1) instead. To get a de-fragmented frame, use `newframe = frame.copy()`\n",
      "PerformanceWarning: DataFrame is highly fragmented.  This is usually the result of calling `frame.insert` many times, which has poor performance.  Consider joining all columns at once using pd.concat(axis=1) instead. To get a de-fragmented frame, use `newframe = frame.copy()`\n",
      "PerformanceWarning: DataFrame is highly fragmented.  This is usually the result of calling `frame.insert` many times, which has poor performance.  Consider joining all columns at once using pd.concat(axis=1) instead. To get a de-fragmented frame, use `newframe = frame.copy()`\n",
      "PerformanceWarning: DataFrame is highly fragmented.  This is usually the result of calling `frame.insert` many times, which has poor performance.  Consider joining all columns at once using pd.concat(axis=1) instead. To get a de-fragmented frame, use `newframe = frame.copy()`\n",
      "PerformanceWarning: DataFrame is highly fragmented.  This is usually the result of calling `frame.insert` many times, which has poor performance.  Consider joining all columns at once using pd.concat(axis=1) instead. To get a de-fragmented frame, use `newframe = frame.copy()`\n",
      "PerformanceWarning: DataFrame is highly fragmented.  This is usually the result of calling `frame.insert` many times, which has poor performance.  Consider joining all columns at once using pd.concat(axis=1) instead. To get a de-fragmented frame, use `newframe = frame.copy()`\n",
      "PerformanceWarning: DataFrame is highly fragmented.  This is usually the result of calling `frame.insert` many times, which has poor performance.  Consider joining all columns at once using pd.concat(axis=1) instead. To get a de-fragmented frame, use `newframe = frame.copy()`\n",
      "PerformanceWarning: DataFrame is highly fragmented.  This is usually the result of calling `frame.insert` many times, which has poor performance.  Consider joining all columns at once using pd.concat(axis=1) instead. To get a de-fragmented frame, use `newframe = frame.copy()`\n"
     ]
    }
   ],
   "source": [
    "# Transforming the training, validation, and test sets\n",
    "\n",
    "X_train[encoded_features] = encoder.transform(X_train[encode_columns])\n",
    "\n",
    "X_valid[encoded_features] = encoder.transform(X_valid[encode_columns])\n",
    "\n",
    "X_test[encoded_features] = encoder.transform(X_test[encode_columns])"
   ]
  },
  {
   "cell_type": "code",
   "execution_count": 42,
   "id": "b181ea9a-6d22-41c3-ae8b-4cb828f482d8",
   "metadata": {},
   "outputs": [],
   "source": [
    "# Dumping the encoder for future use\n",
    "dump(encoder, open('truck_data_encoder.pkl', 'wb'))"
   ]
  },
  {
   "cell_type": "code",
   "execution_count": 43,
   "id": "77662158-0132-430c-a79c-ce37fd0fe5c8",
   "metadata": {},
   "outputs": [],
   "source": [
    "# Dropping the original categorical features\n",
    "\n",
    "X_train = X_train.drop(encode_columns, axis=1)\n",
    "\n",
    "X_valid = X_valid.drop(encode_columns, axis=1)\n",
    "\n",
    "X_test = X_test.drop(encode_columns, axis=1)"
   ]
  },
  {
   "cell_type": "markdown",
   "id": "39da5d24-cd31-4abb-9bdf-559817ff1879",
   "metadata": {},
   "source": [
    "### Scaling numerical features"
   ]
  },
  {
   "cell_type": "code",
   "execution_count": 45,
   "id": "639f54cb-19b5-44ec-8683-89f7f969e8fe",
   "metadata": {},
   "outputs": [],
   "source": [
    "# Import Scaler\n",
    "from sklearn.preprocessing import StandardScaler"
   ]
  },
  {
   "cell_type": "code",
   "execution_count": 46,
   "id": "ba41b5fd-ed21-4747-8638-4eee6529ef83",
   "metadata": {},
   "outputs": [],
   "source": [
    "scaler = StandardScaler()\n",
    "X_train[cts_cols] = scaler.fit_transform(X_train[cts_cols])\n",
    "X_valid[cts_cols] = scaler.transform(X_valid[cts_cols])\n",
    "X_test[cts_cols] = scaler.transform(X_test[cts_cols])"
   ]
  },
  {
   "cell_type": "code",
   "execution_count": 47,
   "id": "cca1e1fa-e6b1-4731-8412-43d9aca24b87",
   "metadata": {},
   "outputs": [],
   "source": [
    "# Dump the scaler to use in transforming test data\n",
    "\n",
    "dump(scaler, open('truck_data_scaler.pkl', 'wb'))"
   ]
  },
  {
   "cell_type": "markdown",
   "id": "20f0ee19-dcb0-4171-a5dd-0f92aab21842",
   "metadata": {},
   "source": [
    "## **Model Building and Experimentation**\n",
    "\n",
    "Experiment tracking involves organizing and documenting the details of each model experiment, such as hyperparameters, performance metrics, and data versions.\n",
    "Benefits: Ensures reproducibility, simplifies model comparisons, fosters collaboration, and supports data-driven decision-making.\n",
    "\n",
    "\n",
    "A Model Registry serves as a centralized platform for managing, versioning, and monitoring machine learning models throughout their lifecycle.\n",
    "Benefits: Facilitates version control, enhances collaboration, offers deployment capabilities, preserves metadata, and improves reproducibility."
   ]
  },
  {
   "cell_type": "markdown",
   "id": "ca96a272-8c1e-40da-9761-0617da8fad41",
   "metadata": {},
   "source": [
    "## **Connecting to W&B (Weights and Biases)**\n",
    "\n",
    "Weights and Biases (W&B) is a collaborative platform designed to assist machine learning practitioners in tracking, visualizing, and analyzing experiments. It offers robust tools for experiment management, performance visualization, and team collaboration. Key features include:\n",
    "\n",
    "* Experiment Tracking:\n",
    "  W&B enables logging of parameters, metrics, and artifacts for machine learning experiments, such as hyperparameters, model architectures, training metrics, evaluation results, and visualizations.\n",
    "\n",
    "* Visualization:\n",
    "Create detailed visualizations like charts, graphs, and plots to analyze experiment results and observe how parameter changes affect model performance over time.\n",
    "\n",
    "* Hyperparameter Sweeps:\n",
    "Automate hyperparameter tuning by defining ranges of values. W&B conducts multiple experiments with different combinations, helping identify the best hyperparameter configuration.\n",
    "\n",
    "* Collaboration and Reproducibility:\n",
    "Share and reproduce experiment results easily within teams, ensuring that all members can replicate and understand each other's work.\n",
    "\n",
    "* Model Registry:\n",
    "Use W&B’s model registry to version, organize, and compare trained models, facilitating consistent tracking and deployment.\n",
    "\n",
    "* Integrations:\n",
    "W&B integrates seamlessly with popular machine learning frameworks like TensorFlow, PyTorch, and Scikit-learn, making it adaptable to various workflows."
   ]
  },
  {
   "cell_type": "code",
   "execution_count": 49,
   "id": "bca3280a-69bf-4c80-9a05-ac5dfb6272ea",
   "metadata": {},
   "outputs": [
    {
     "name": "stdout",
     "output_type": "stream",
     "text": [
      "Requirement already satisfied: wandb in c:\\users\\ahuja\\anaconda3\\lib\\site-packages (0.19.1)\n",
      "Requirement already satisfied: click!=8.0.0,>=7.1 in c:\\users\\ahuja\\anaconda3\\lib\\site-packages (from wandb) (8.1.7)\n",
      "Requirement already satisfied: docker-pycreds>=0.4.0 in c:\\users\\ahuja\\anaconda3\\lib\\site-packages (from wandb) (0.4.0)\n",
      "Requirement already satisfied: gitpython!=3.1.29,>=1.0.0 in c:\\users\\ahuja\\anaconda3\\lib\\site-packages (from wandb) (3.1.43)\n",
      "Requirement already satisfied: platformdirs in c:\\users\\ahuja\\appdata\\roaming\\python\\python312\\site-packages (from wandb) (4.3.6)\n",
      "Requirement already satisfied: protobuf!=4.21.0,!=5.28.0,<6,>=3.19.0 in c:\\users\\ahuja\\anaconda3\\lib\\site-packages (from wandb) (4.25.5)\n",
      "Requirement already satisfied: psutil>=5.0.0 in c:\\users\\ahuja\\appdata\\roaming\\python\\python312\\site-packages (from wandb) (6.0.0)\n",
      "Requirement already satisfied: pydantic<3,>=2.6 in c:\\users\\ahuja\\anaconda3\\lib\\site-packages (from wandb) (2.8.2)\n",
      "Requirement already satisfied: pyyaml in c:\\users\\ahuja\\anaconda3\\lib\\site-packages (from wandb) (6.0.1)\n",
      "Requirement already satisfied: requests<3,>=2.0.0 in c:\\users\\ahuja\\anaconda3\\lib\\site-packages (from wandb) (2.32.3)\n",
      "Requirement already satisfied: sentry-sdk>=2.0.0 in c:\\users\\ahuja\\anaconda3\\lib\\site-packages (from wandb) (2.19.2)\n",
      "Requirement already satisfied: setproctitle in c:\\users\\ahuja\\anaconda3\\lib\\site-packages (from wandb) (1.3.4)\n",
      "Requirement already satisfied: setuptools in c:\\users\\ahuja\\anaconda3\\lib\\site-packages (from wandb) (75.1.0)\n",
      "Requirement already satisfied: colorama in c:\\users\\ahuja\\appdata\\roaming\\python\\python312\\site-packages (from click!=8.0.0,>=7.1->wandb) (0.4.6)\n",
      "Requirement already satisfied: six>=1.4.0 in c:\\users\\ahuja\\appdata\\roaming\\python\\python312\\site-packages (from docker-pycreds>=0.4.0->wandb) (1.16.0)\n",
      "Requirement already satisfied: gitdb<5,>=4.0.1 in c:\\users\\ahuja\\anaconda3\\lib\\site-packages (from gitpython!=3.1.29,>=1.0.0->wandb) (4.0.7)\n",
      "Requirement already satisfied: annotated-types>=0.4.0 in c:\\users\\ahuja\\anaconda3\\lib\\site-packages (from pydantic<3,>=2.6->wandb) (0.6.0)\n",
      "Requirement already satisfied: pydantic-core==2.20.1 in c:\\users\\ahuja\\anaconda3\\lib\\site-packages (from pydantic<3,>=2.6->wandb) (2.20.1)\n",
      "Requirement already satisfied: typing-extensions>=4.6.1 in c:\\users\\ahuja\\anaconda3\\lib\\site-packages (from pydantic<3,>=2.6->wandb) (4.11.0)\n",
      "Requirement already satisfied: charset-normalizer<4,>=2 in c:\\users\\ahuja\\anaconda3\\lib\\site-packages (from requests<3,>=2.0.0->wandb) (3.3.2)\n",
      "Requirement already satisfied: idna<4,>=2.5 in c:\\users\\ahuja\\anaconda3\\lib\\site-packages (from requests<3,>=2.0.0->wandb) (3.7)\n",
      "Requirement already satisfied: urllib3<3,>=1.21.1 in c:\\users\\ahuja\\anaconda3\\lib\\site-packages (from requests<3,>=2.0.0->wandb) (2.2.3)\n",
      "Requirement already satisfied: certifi>=2017.4.17 in c:\\users\\ahuja\\anaconda3\\lib\\site-packages (from requests<3,>=2.0.0->wandb) (2024.8.30)\n",
      "Requirement already satisfied: smmap<5,>=3.0.1 in c:\\users\\ahuja\\anaconda3\\lib\\site-packages (from gitdb<5,>=4.0.1->gitpython!=3.1.29,>=1.0.0->wandb) (4.0.0)\n",
      "Note: you may need to restart the kernel to use updated packages.\n"
     ]
    }
   ],
   "source": [
    "pip install wandb"
   ]
  },
  {
   "cell_type": "code",
   "execution_count": 50,
   "id": "d3281b72-697f-46a7-88d9-e9630a7679c4",
   "metadata": {},
   "outputs": [],
   "source": [
    "# Import Libraries\n",
    "import wandb\n",
    "import joblib\n",
    "import os"
   ]
  },
  {
   "cell_type": "code",
   "execution_count": 83,
   "id": "d986873a-1f5a-47c2-b9d3-c39cafc49f17",
   "metadata": {},
   "outputs": [
    {
     "data": {
      "text/plain": [
       "True"
      ]
     },
     "execution_count": 83,
     "metadata": {},
     "output_type": "execute_result"
    }
   ],
   "source": [
    "wandb.login()"
   ]
  },
  {
   "cell_type": "code",
   "execution_count": 52,
   "id": "8dc78a83-5e11-43b6-83df-5d6c29426e65",
   "metadata": {},
   "outputs": [],
   "source": [
    "USER_NAME = \"ahujavaibhav2001-st-lawrence-college-org\"\n",
    "\n",
    "PROJECT_NAME = \"Truck Delay Classification\""
   ]
  },
  {
   "cell_type": "markdown",
   "id": "a7462fa3-12b7-439d-9f29-62b1080921bb",
   "metadata": {},
   "source": [
    "### Classification Evaluation Metrics"
   ]
  },
  {
   "cell_type": "code",
   "execution_count": 54,
   "id": "48041053-8e06-4772-a71f-130f7299572b",
   "metadata": {},
   "outputs": [],
   "source": [
    "# Importing training libraries and evaluation metrics\n",
    "\n",
    "from sklearn.metrics import f1_score, recall_score, confusion_matrix, roc_auc_score\n",
    "\n",
    "from sklearn.linear_model import LogisticRegression\n",
    "\n",
    "from sklearn.model_selection import train_test_split\n",
    "\n",
    "from sklearn.ensemble import RandomForestClassifier\n",
    "\n",
    "from xgboost import XGBClassifier\n",
    "\n",
    "from sklearn.model_selection import GridSearchCV"
   ]
  },
  {
   "cell_type": "code",
   "execution_count": 55,
   "id": "089e51bd-ec58-40b2-b959-e49cc633214d",
   "metadata": {},
   "outputs": [],
   "source": [
    "# Evaluation function\n",
    "# #Columns needed to compare metrics\n",
    "comparison_columns = ['Model_Name', 'Train_F1score', 'Train_Recall', 'Valid_F1score', 'Valid_Recall', 'Test_F1score', 'Test_Recall']\n",
    "\n",
    "comparison_df = pd.DataFrame()\n",
    "\n",
    "\n",
    "\n",
    "def evaluate_models(model_name, model_defined_var, X_train, y_train, X_valid, y_valid, X_test, y_test):\n",
    "  ''' This function predicts and evaluates various models for classification'''\n",
    "\n",
    "  # train predictions\n",
    "  y_train_pred = model_defined_var.predict(X_train)\n",
    "  # train performance\n",
    "  train_f1_score = f1_score(y_train, y_train_pred)\n",
    "  train_recall = recall_score(y_train, y_train_pred)\n",
    "\n",
    "  # validation predictions\n",
    "  y_valid_pred = model_defined_var.predict(X_valid)\n",
    "  # validation performance\n",
    "  valid_f1_score = f1_score(y_valid, y_valid_pred)\n",
    "  valid_recall = recall_score(y_valid, y_valid_pred)\n",
    "\n",
    "  # test predictions\n",
    "  y_pred = model_defined_var.predict(X_test)\n",
    "  # test performance\n",
    "  test_f1_score = f1_score(y_test, y_pred)\n",
    "  test_recall = recall_score(y_test, y_pred)\n",
    "\n",
    "  # Printing performance\n",
    "  print(\"Train Results\")\n",
    "  print(f'F1 Score: {train_f1_score}')\n",
    "  print(f'Recall Score: {train_recall}')\n",
    "  print(f'Confusion Matrix: \\n{confusion_matrix(y_train, y_train_pred)}')\n",
    "  print(f'Area Under Curve: {roc_auc_score(y_train, y_train_pred)}')\n",
    "\n",
    "  print(\" \")\n",
    "\n",
    "  print(\"Validation Results\")\n",
    "  print(f'F1 Score: {valid_f1_score}')\n",
    "  print(f'Recall Score: {valid_recall}')\n",
    "  print(f'Confusion Matrix: \\n{confusion_matrix(y_valid, y_valid_pred)}')\n",
    "  print(f'Area Under Curve: {roc_auc_score(y_valid, y_valid_pred)}')\n",
    "\n",
    "  print(\" \")\n",
    "\n",
    "  print(\"Test Results\")\n",
    "  print(f'F1 Score: {test_f1_score}')\n",
    "  print(f'Recall Score: {test_recall}')\n",
    "  print(f'Confusion Matrix: \\n{confusion_matrix(y_test, y_pred)}')\n",
    "  print(f'Area Under Curve: {roc_auc_score(y_test, y_pred)}')\n",
    "\n",
    "  # Saving our results\n",
    "  global comparison_columns\n",
    "  metric_scores = [model_name, train_f1_score, train_recall, valid_f1_score, valid_recall, test_f1_score, test_recall]\n",
    "  final_dict = dict(zip(comparison_columns, metric_scores))\n",
    "  return final_dict\n",
    "\n",
    "\n",
    "final_list = []\n",
    "def add_dic_to_final_df(final_dict):\n",
    "  global final_list\n",
    "  final_list.append(final_dict)\n",
    "  global comparison_df\n",
    "  comparison_df = pd.DataFrame(final_list, columns=comparison_columns)\n"
   ]
  },
  {
   "cell_type": "markdown",
   "id": "848bbe7e-1be9-4e61-afa8-e9923f22d1a8",
   "metadata": {},
   "source": [
    "### Logistic Regression"
   ]
  },
  {
   "cell_type": "code",
   "execution_count": 57,
   "id": "7b1d0af8-71d2-4bd7-8cdb-cf024acc4435",
   "metadata": {},
   "outputs": [
    {
     "data": {
      "text/plain": [
       "2651"
      ]
     },
     "execution_count": 57,
     "metadata": {},
     "output_type": "execute_result"
    }
   ],
   "source": [
    "y_train.value_counts().to_dict()[1]"
   ]
  },
  {
   "cell_type": "code",
   "execution_count": 58,
   "id": "94ea3338-3e0a-43ee-899c-d451a5d488d4",
   "metadata": {},
   "outputs": [
    {
     "data": {
      "text/plain": [
       "(0.7387858043595749, 1.5469634100339495)"
      ]
     },
     "execution_count": 58,
     "metadata": {},
     "output_type": "execute_result"
    }
   ],
   "source": [
    "weights = len(X_train)/(2*(y_train.value_counts().to_dict()[0])), len(X_train)/(2*(y_train.value_counts().to_dict()[1]))\n",
    "weights"
   ]
  },
  {
   "cell_type": "code",
   "execution_count": 59,
   "id": "03b5fec8-26e3-4c88-8181-0e84fec65d4b",
   "metadata": {},
   "outputs": [
    {
     "name": "stderr",
     "output_type": "stream",
     "text": [
      "ConvergenceWarning: lbfgs failed to converge (status=1):\n",
      "STOP: TOTAL NO. of ITERATIONS REACHED LIMIT.\n",
      "\n",
      "Increase the number of iterations (max_iter) or scale the data as shown in:\n",
      "    https://scikit-learn.org/stable/modules/preprocessing.html\n",
      "Please also refer to the documentation for alternative solver options:\n",
      "    https://scikit-learn.org/stable/modules/linear_model.html#logistic-regression\n"
     ]
    },
    {
     "data": {
      "text/html": [
       "<style>#sk-container-id-2 {\n",
       "  /* Definition of color scheme common for light and dark mode */\n",
       "  --sklearn-color-text: black;\n",
       "  --sklearn-color-line: gray;\n",
       "  /* Definition of color scheme for unfitted estimators */\n",
       "  --sklearn-color-unfitted-level-0: #fff5e6;\n",
       "  --sklearn-color-unfitted-level-1: #f6e4d2;\n",
       "  --sklearn-color-unfitted-level-2: #ffe0b3;\n",
       "  --sklearn-color-unfitted-level-3: chocolate;\n",
       "  /* Definition of color scheme for fitted estimators */\n",
       "  --sklearn-color-fitted-level-0: #f0f8ff;\n",
       "  --sklearn-color-fitted-level-1: #d4ebff;\n",
       "  --sklearn-color-fitted-level-2: #b3dbfd;\n",
       "  --sklearn-color-fitted-level-3: cornflowerblue;\n",
       "\n",
       "  /* Specific color for light theme */\n",
       "  --sklearn-color-text-on-default-background: var(--sg-text-color, var(--theme-code-foreground, var(--jp-content-font-color1, black)));\n",
       "  --sklearn-color-background: var(--sg-background-color, var(--theme-background, var(--jp-layout-color0, white)));\n",
       "  --sklearn-color-border-box: var(--sg-text-color, var(--theme-code-foreground, var(--jp-content-font-color1, black)));\n",
       "  --sklearn-color-icon: #696969;\n",
       "\n",
       "  @media (prefers-color-scheme: dark) {\n",
       "    /* Redefinition of color scheme for dark theme */\n",
       "    --sklearn-color-text-on-default-background: var(--sg-text-color, var(--theme-code-foreground, var(--jp-content-font-color1, white)));\n",
       "    --sklearn-color-background: var(--sg-background-color, var(--theme-background, var(--jp-layout-color0, #111)));\n",
       "    --sklearn-color-border-box: var(--sg-text-color, var(--theme-code-foreground, var(--jp-content-font-color1, white)));\n",
       "    --sklearn-color-icon: #878787;\n",
       "  }\n",
       "}\n",
       "\n",
       "#sk-container-id-2 {\n",
       "  color: var(--sklearn-color-text);\n",
       "}\n",
       "\n",
       "#sk-container-id-2 pre {\n",
       "  padding: 0;\n",
       "}\n",
       "\n",
       "#sk-container-id-2 input.sk-hidden--visually {\n",
       "  border: 0;\n",
       "  clip: rect(1px 1px 1px 1px);\n",
       "  clip: rect(1px, 1px, 1px, 1px);\n",
       "  height: 1px;\n",
       "  margin: -1px;\n",
       "  overflow: hidden;\n",
       "  padding: 0;\n",
       "  position: absolute;\n",
       "  width: 1px;\n",
       "}\n",
       "\n",
       "#sk-container-id-2 div.sk-dashed-wrapped {\n",
       "  border: 1px dashed var(--sklearn-color-line);\n",
       "  margin: 0 0.4em 0.5em 0.4em;\n",
       "  box-sizing: border-box;\n",
       "  padding-bottom: 0.4em;\n",
       "  background-color: var(--sklearn-color-background);\n",
       "}\n",
       "\n",
       "#sk-container-id-2 div.sk-container {\n",
       "  /* jupyter's `normalize.less` sets `[hidden] { display: none; }`\n",
       "     but bootstrap.min.css set `[hidden] { display: none !important; }`\n",
       "     so we also need the `!important` here to be able to override the\n",
       "     default hidden behavior on the sphinx rendered scikit-learn.org.\n",
       "     See: https://github.com/scikit-learn/scikit-learn/issues/21755 */\n",
       "  display: inline-block !important;\n",
       "  position: relative;\n",
       "}\n",
       "\n",
       "#sk-container-id-2 div.sk-text-repr-fallback {\n",
       "  display: none;\n",
       "}\n",
       "\n",
       "div.sk-parallel-item,\n",
       "div.sk-serial,\n",
       "div.sk-item {\n",
       "  /* draw centered vertical line to link estimators */\n",
       "  background-image: linear-gradient(var(--sklearn-color-text-on-default-background), var(--sklearn-color-text-on-default-background));\n",
       "  background-size: 2px 100%;\n",
       "  background-repeat: no-repeat;\n",
       "  background-position: center center;\n",
       "}\n",
       "\n",
       "/* Parallel-specific style estimator block */\n",
       "\n",
       "#sk-container-id-2 div.sk-parallel-item::after {\n",
       "  content: \"\";\n",
       "  width: 100%;\n",
       "  border-bottom: 2px solid var(--sklearn-color-text-on-default-background);\n",
       "  flex-grow: 1;\n",
       "}\n",
       "\n",
       "#sk-container-id-2 div.sk-parallel {\n",
       "  display: flex;\n",
       "  align-items: stretch;\n",
       "  justify-content: center;\n",
       "  background-color: var(--sklearn-color-background);\n",
       "  position: relative;\n",
       "}\n",
       "\n",
       "#sk-container-id-2 div.sk-parallel-item {\n",
       "  display: flex;\n",
       "  flex-direction: column;\n",
       "}\n",
       "\n",
       "#sk-container-id-2 div.sk-parallel-item:first-child::after {\n",
       "  align-self: flex-end;\n",
       "  width: 50%;\n",
       "}\n",
       "\n",
       "#sk-container-id-2 div.sk-parallel-item:last-child::after {\n",
       "  align-self: flex-start;\n",
       "  width: 50%;\n",
       "}\n",
       "\n",
       "#sk-container-id-2 div.sk-parallel-item:only-child::after {\n",
       "  width: 0;\n",
       "}\n",
       "\n",
       "/* Serial-specific style estimator block */\n",
       "\n",
       "#sk-container-id-2 div.sk-serial {\n",
       "  display: flex;\n",
       "  flex-direction: column;\n",
       "  align-items: center;\n",
       "  background-color: var(--sklearn-color-background);\n",
       "  padding-right: 1em;\n",
       "  padding-left: 1em;\n",
       "}\n",
       "\n",
       "\n",
       "/* Toggleable style: style used for estimator/Pipeline/ColumnTransformer box that is\n",
       "clickable and can be expanded/collapsed.\n",
       "- Pipeline and ColumnTransformer use this feature and define the default style\n",
       "- Estimators will overwrite some part of the style using the `sk-estimator` class\n",
       "*/\n",
       "\n",
       "/* Pipeline and ColumnTransformer style (default) */\n",
       "\n",
       "#sk-container-id-2 div.sk-toggleable {\n",
       "  /* Default theme specific background. It is overwritten whether we have a\n",
       "  specific estimator or a Pipeline/ColumnTransformer */\n",
       "  background-color: var(--sklearn-color-background);\n",
       "}\n",
       "\n",
       "/* Toggleable label */\n",
       "#sk-container-id-2 label.sk-toggleable__label {\n",
       "  cursor: pointer;\n",
       "  display: block;\n",
       "  width: 100%;\n",
       "  margin-bottom: 0;\n",
       "  padding: 0.5em;\n",
       "  box-sizing: border-box;\n",
       "  text-align: center;\n",
       "}\n",
       "\n",
       "#sk-container-id-2 label.sk-toggleable__label-arrow:before {\n",
       "  /* Arrow on the left of the label */\n",
       "  content: \"▸\";\n",
       "  float: left;\n",
       "  margin-right: 0.25em;\n",
       "  color: var(--sklearn-color-icon);\n",
       "}\n",
       "\n",
       "#sk-container-id-2 label.sk-toggleable__label-arrow:hover:before {\n",
       "  color: var(--sklearn-color-text);\n",
       "}\n",
       "\n",
       "/* Toggleable content - dropdown */\n",
       "\n",
       "#sk-container-id-2 div.sk-toggleable__content {\n",
       "  max-height: 0;\n",
       "  max-width: 0;\n",
       "  overflow: hidden;\n",
       "  text-align: left;\n",
       "  /* unfitted */\n",
       "  background-color: var(--sklearn-color-unfitted-level-0);\n",
       "}\n",
       "\n",
       "#sk-container-id-2 div.sk-toggleable__content.fitted {\n",
       "  /* fitted */\n",
       "  background-color: var(--sklearn-color-fitted-level-0);\n",
       "}\n",
       "\n",
       "#sk-container-id-2 div.sk-toggleable__content pre {\n",
       "  margin: 0.2em;\n",
       "  border-radius: 0.25em;\n",
       "  color: var(--sklearn-color-text);\n",
       "  /* unfitted */\n",
       "  background-color: var(--sklearn-color-unfitted-level-0);\n",
       "}\n",
       "\n",
       "#sk-container-id-2 div.sk-toggleable__content.fitted pre {\n",
       "  /* unfitted */\n",
       "  background-color: var(--sklearn-color-fitted-level-0);\n",
       "}\n",
       "\n",
       "#sk-container-id-2 input.sk-toggleable__control:checked~div.sk-toggleable__content {\n",
       "  /* Expand drop-down */\n",
       "  max-height: 200px;\n",
       "  max-width: 100%;\n",
       "  overflow: auto;\n",
       "}\n",
       "\n",
       "#sk-container-id-2 input.sk-toggleable__control:checked~label.sk-toggleable__label-arrow:before {\n",
       "  content: \"▾\";\n",
       "}\n",
       "\n",
       "/* Pipeline/ColumnTransformer-specific style */\n",
       "\n",
       "#sk-container-id-2 div.sk-label input.sk-toggleable__control:checked~label.sk-toggleable__label {\n",
       "  color: var(--sklearn-color-text);\n",
       "  background-color: var(--sklearn-color-unfitted-level-2);\n",
       "}\n",
       "\n",
       "#sk-container-id-2 div.sk-label.fitted input.sk-toggleable__control:checked~label.sk-toggleable__label {\n",
       "  background-color: var(--sklearn-color-fitted-level-2);\n",
       "}\n",
       "\n",
       "/* Estimator-specific style */\n",
       "\n",
       "/* Colorize estimator box */\n",
       "#sk-container-id-2 div.sk-estimator input.sk-toggleable__control:checked~label.sk-toggleable__label {\n",
       "  /* unfitted */\n",
       "  background-color: var(--sklearn-color-unfitted-level-2);\n",
       "}\n",
       "\n",
       "#sk-container-id-2 div.sk-estimator.fitted input.sk-toggleable__control:checked~label.sk-toggleable__label {\n",
       "  /* fitted */\n",
       "  background-color: var(--sklearn-color-fitted-level-2);\n",
       "}\n",
       "\n",
       "#sk-container-id-2 div.sk-label label.sk-toggleable__label,\n",
       "#sk-container-id-2 div.sk-label label {\n",
       "  /* The background is the default theme color */\n",
       "  color: var(--sklearn-color-text-on-default-background);\n",
       "}\n",
       "\n",
       "/* On hover, darken the color of the background */\n",
       "#sk-container-id-2 div.sk-label:hover label.sk-toggleable__label {\n",
       "  color: var(--sklearn-color-text);\n",
       "  background-color: var(--sklearn-color-unfitted-level-2);\n",
       "}\n",
       "\n",
       "/* Label box, darken color on hover, fitted */\n",
       "#sk-container-id-2 div.sk-label.fitted:hover label.sk-toggleable__label.fitted {\n",
       "  color: var(--sklearn-color-text);\n",
       "  background-color: var(--sklearn-color-fitted-level-2);\n",
       "}\n",
       "\n",
       "/* Estimator label */\n",
       "\n",
       "#sk-container-id-2 div.sk-label label {\n",
       "  font-family: monospace;\n",
       "  font-weight: bold;\n",
       "  display: inline-block;\n",
       "  line-height: 1.2em;\n",
       "}\n",
       "\n",
       "#sk-container-id-2 div.sk-label-container {\n",
       "  text-align: center;\n",
       "}\n",
       "\n",
       "/* Estimator-specific */\n",
       "#sk-container-id-2 div.sk-estimator {\n",
       "  font-family: monospace;\n",
       "  border: 1px dotted var(--sklearn-color-border-box);\n",
       "  border-radius: 0.25em;\n",
       "  box-sizing: border-box;\n",
       "  margin-bottom: 0.5em;\n",
       "  /* unfitted */\n",
       "  background-color: var(--sklearn-color-unfitted-level-0);\n",
       "}\n",
       "\n",
       "#sk-container-id-2 div.sk-estimator.fitted {\n",
       "  /* fitted */\n",
       "  background-color: var(--sklearn-color-fitted-level-0);\n",
       "}\n",
       "\n",
       "/* on hover */\n",
       "#sk-container-id-2 div.sk-estimator:hover {\n",
       "  /* unfitted */\n",
       "  background-color: var(--sklearn-color-unfitted-level-2);\n",
       "}\n",
       "\n",
       "#sk-container-id-2 div.sk-estimator.fitted:hover {\n",
       "  /* fitted */\n",
       "  background-color: var(--sklearn-color-fitted-level-2);\n",
       "}\n",
       "\n",
       "/* Specification for estimator info (e.g. \"i\" and \"?\") */\n",
       "\n",
       "/* Common style for \"i\" and \"?\" */\n",
       "\n",
       ".sk-estimator-doc-link,\n",
       "a:link.sk-estimator-doc-link,\n",
       "a:visited.sk-estimator-doc-link {\n",
       "  float: right;\n",
       "  font-size: smaller;\n",
       "  line-height: 1em;\n",
       "  font-family: monospace;\n",
       "  background-color: var(--sklearn-color-background);\n",
       "  border-radius: 1em;\n",
       "  height: 1em;\n",
       "  width: 1em;\n",
       "  text-decoration: none !important;\n",
       "  margin-left: 1ex;\n",
       "  /* unfitted */\n",
       "  border: var(--sklearn-color-unfitted-level-1) 1pt solid;\n",
       "  color: var(--sklearn-color-unfitted-level-1);\n",
       "}\n",
       "\n",
       ".sk-estimator-doc-link.fitted,\n",
       "a:link.sk-estimator-doc-link.fitted,\n",
       "a:visited.sk-estimator-doc-link.fitted {\n",
       "  /* fitted */\n",
       "  border: var(--sklearn-color-fitted-level-1) 1pt solid;\n",
       "  color: var(--sklearn-color-fitted-level-1);\n",
       "}\n",
       "\n",
       "/* On hover */\n",
       "div.sk-estimator:hover .sk-estimator-doc-link:hover,\n",
       ".sk-estimator-doc-link:hover,\n",
       "div.sk-label-container:hover .sk-estimator-doc-link:hover,\n",
       ".sk-estimator-doc-link:hover {\n",
       "  /* unfitted */\n",
       "  background-color: var(--sklearn-color-unfitted-level-3);\n",
       "  color: var(--sklearn-color-background);\n",
       "  text-decoration: none;\n",
       "}\n",
       "\n",
       "div.sk-estimator.fitted:hover .sk-estimator-doc-link.fitted:hover,\n",
       ".sk-estimator-doc-link.fitted:hover,\n",
       "div.sk-label-container:hover .sk-estimator-doc-link.fitted:hover,\n",
       ".sk-estimator-doc-link.fitted:hover {\n",
       "  /* fitted */\n",
       "  background-color: var(--sklearn-color-fitted-level-3);\n",
       "  color: var(--sklearn-color-background);\n",
       "  text-decoration: none;\n",
       "}\n",
       "\n",
       "/* Span, style for the box shown on hovering the info icon */\n",
       ".sk-estimator-doc-link span {\n",
       "  display: none;\n",
       "  z-index: 9999;\n",
       "  position: relative;\n",
       "  font-weight: normal;\n",
       "  right: .2ex;\n",
       "  padding: .5ex;\n",
       "  margin: .5ex;\n",
       "  width: min-content;\n",
       "  min-width: 20ex;\n",
       "  max-width: 50ex;\n",
       "  color: var(--sklearn-color-text);\n",
       "  box-shadow: 2pt 2pt 4pt #999;\n",
       "  /* unfitted */\n",
       "  background: var(--sklearn-color-unfitted-level-0);\n",
       "  border: .5pt solid var(--sklearn-color-unfitted-level-3);\n",
       "}\n",
       "\n",
       ".sk-estimator-doc-link.fitted span {\n",
       "  /* fitted */\n",
       "  background: var(--sklearn-color-fitted-level-0);\n",
       "  border: var(--sklearn-color-fitted-level-3);\n",
       "}\n",
       "\n",
       ".sk-estimator-doc-link:hover span {\n",
       "  display: block;\n",
       "}\n",
       "\n",
       "/* \"?\"-specific style due to the `<a>` HTML tag */\n",
       "\n",
       "#sk-container-id-2 a.estimator_doc_link {\n",
       "  float: right;\n",
       "  font-size: 1rem;\n",
       "  line-height: 1em;\n",
       "  font-family: monospace;\n",
       "  background-color: var(--sklearn-color-background);\n",
       "  border-radius: 1rem;\n",
       "  height: 1rem;\n",
       "  width: 1rem;\n",
       "  text-decoration: none;\n",
       "  /* unfitted */\n",
       "  color: var(--sklearn-color-unfitted-level-1);\n",
       "  border: var(--sklearn-color-unfitted-level-1) 1pt solid;\n",
       "}\n",
       "\n",
       "#sk-container-id-2 a.estimator_doc_link.fitted {\n",
       "  /* fitted */\n",
       "  border: var(--sklearn-color-fitted-level-1) 1pt solid;\n",
       "  color: var(--sklearn-color-fitted-level-1);\n",
       "}\n",
       "\n",
       "/* On hover */\n",
       "#sk-container-id-2 a.estimator_doc_link:hover {\n",
       "  /* unfitted */\n",
       "  background-color: var(--sklearn-color-unfitted-level-3);\n",
       "  color: var(--sklearn-color-background);\n",
       "  text-decoration: none;\n",
       "}\n",
       "\n",
       "#sk-container-id-2 a.estimator_doc_link.fitted:hover {\n",
       "  /* fitted */\n",
       "  background-color: var(--sklearn-color-fitted-level-3);\n",
       "}\n",
       "</style><div id=\"sk-container-id-2\" class=\"sk-top-container\"><div class=\"sk-text-repr-fallback\"><pre>LogisticRegression(class_weight={0: 0.7387858043595749, 1: 1.5469634100339495},\n",
       "                   random_state=13)</pre><b>In a Jupyter environment, please rerun this cell to show the HTML representation or trust the notebook. <br />On GitHub, the HTML representation is unable to render, please try loading this page with nbviewer.org.</b></div><div class=\"sk-container\" hidden><div class=\"sk-item\"><div class=\"sk-estimator fitted sk-toggleable\"><input class=\"sk-toggleable__control sk-hidden--visually\" id=\"sk-estimator-id-2\" type=\"checkbox\" checked><label for=\"sk-estimator-id-2\" class=\"sk-toggleable__label fitted sk-toggleable__label-arrow fitted\">&nbsp;&nbsp;LogisticRegression<a class=\"sk-estimator-doc-link fitted\" rel=\"noreferrer\" target=\"_blank\" href=\"https://scikit-learn.org/1.5/modules/generated/sklearn.linear_model.LogisticRegression.html\">?<span>Documentation for LogisticRegression</span></a><span class=\"sk-estimator-doc-link fitted\">i<span>Fitted</span></span></label><div class=\"sk-toggleable__content fitted\"><pre>LogisticRegression(class_weight={0: 0.7387858043595749, 1: 1.5469634100339495},\n",
       "                   random_state=13)</pre></div> </div></div></div></div>"
      ],
      "text/plain": [
       "LogisticRegression(class_weight={0: 0.7387858043595749, 1: 1.5469634100339495},\n",
       "                   random_state=13)"
      ]
     },
     "execution_count": 59,
     "metadata": {},
     "output_type": "execute_result"
    }
   ],
   "source": [
    "# Define model\n",
    "log_reg = LogisticRegression(random_state=13, class_weight={0:weights[0], 1:weights[1]})\n",
    "# fit it\n",
    "log_reg.fit(X_train,y_train)"
   ]
  },
  {
   "cell_type": "code",
   "execution_count": 60,
   "id": "a5b74b62-d926-485c-9943-6d529ea1deb7",
   "metadata": {},
   "outputs": [
    {
     "name": "stdout",
     "output_type": "stream",
     "text": [
      "Train Results\n",
      "F1 Score: 0.5748006379585326\n",
      "Recall Score: 0.6797434930215013\n",
      "Confusion Matrix: \n",
      "[[3734 1817]\n",
      " [ 849 1802]]\n",
      "Area Under Curve: 0.6762075418629394\n",
      " \n",
      "Validation Results\n",
      "F1 Score: 0.6087408949011447\n",
      "Recall Score: 0.6956004756242569\n",
      "Confusion Matrix: \n",
      "[[999 496]\n",
      " [256 585]]\n",
      "Area Under Curve: 0.6819139501867103\n",
      " \n",
      "Test Results\n",
      "F1 Score: 0.7251675807434491\n",
      "Recall Score: 0.7428214731585518\n",
      "Confusion Matrix: \n",
      "[[720 245]\n",
      " [206 595]]\n",
      "Area Under Curve: 0.7444677313979288\n"
     ]
    }
   ],
   "source": [
    "logistic_results = evaluate_models(\"Logistic Regression\", log_reg, X_train, y_train, X_valid, y_valid, X_test, y_test)\n",
    "\n",
    "add_dic_to_final_df(logistic_results)"
   ]
  },
  {
   "cell_type": "markdown",
   "id": "bb797fe7-3016-4a1c-be8a-a99d6d6114cb",
   "metadata": {},
   "source": [
    "### Logistic Regression - Experiment Tracking"
   ]
  },
  {
   "cell_type": "code",
   "execution_count": 150,
   "id": "490d91a7-ccda-464d-afbc-299d3d64bc58",
   "metadata": {},
   "outputs": [],
   "source": [
    "import joblib\n",
    "\n",
    "w = {0: weights[0], 1: weights[1]}\n",
    "\n",
    "def train_logistic_model(X_train=X_train, y_train=y_train, X_valid=X_valid, y_valid=y_valid, X_test=X_test, y_test=y_test):\n",
    "    features = X_train.columns\n",
    "\n",
    "    with wandb.init(project=PROJECT_NAME) as run:\n",
    "        config = wandb.config\n",
    "        params= {\"random_state\":13,\n",
    "    \"class_weight\":w}\n",
    "\n",
    "        model = LogisticRegression(**params)\n",
    "\n",
    "        model.fit(X_train, y_train)\n",
    "        \n",
    "        # train predictions\n",
    "        y_train_pred = model.predict(X_train)\n",
    "        # train performance\n",
    "        train_f1_score = f1_score(y_train, y_train_pred)\n",
    "\n",
    "\n",
    "        # validation predictions\n",
    "        y_valid_pred = model.predict(X_valid)\n",
    "        # validation performance\n",
    "        valid_f1_score = f1_score(y_valid, y_valid_pred)\n",
    "\n",
    "        \n",
    "        # test predictions\n",
    "        y_preds = model.predict(X_test)\n",
    "        y_probas = model.predict_proba(X_test)\n",
    "\n",
    "        score = f1_score(y_test, y_preds)\n",
    "        print(f\"F1_score Train: {round(train_f1_score, 4)}\")\n",
    "        print(f\"F1_score Valid: {round(valid_f1_score, 4)}\")\n",
    "        print(f\"F1_score Test: {round(score, 4)}\")\n",
    "\n",
    "\n",
    "        wandb.log({\"f1_score_train\": train_f1_score})\n",
    "        wandb.log({\"f1_score_valid\": valid_f1_score})\n",
    "        wandb.log({\"f1_score\": score})\n",
    "\n",
    "        wandb.sklearn.plot_classifier(model, X_train, X_test, y_train, y_test,\n",
    "                                            y_preds, y_probas, labels= None, model_name='LogisticRegression', feature_names=features)\n",
    "\n",
    "        model_artifact = wandb.Artifact(\n",
    "                    \"LogisticRegression\", type=\"model\",metadata=dict(config))\n",
    "\n",
    "        joblib.dump(model, \"log-truck-model.pkl\")\n",
    "        model_artifact.add_file(\"log-truck-model.pkl\")\n",
    "\n",
    "        # Log the artifact to wandb\n",
    "        run.log_artifact(model_artifact)"
   ]
  },
  {
   "cell_type": "code",
   "execution_count": 152,
   "id": "530affe1-40be-4bfc-bbc9-94ce9001558e",
   "metadata": {},
   "outputs": [
    {
     "data": {
      "text/html": [
       "Changes to your `wandb` environment variables will be ignored because your `wandb` session has already started. For more information on how to modify your settings with `wandb.init()` arguments, please refer to <a href='https://wandb.me/wandb-init' target=\"_blank\">the W&B docs</a>."
      ],
      "text/plain": [
       "<IPython.core.display.HTML object>"
      ]
     },
     "metadata": {},
     "output_type": "display_data"
    },
    {
     "name": "stderr",
     "output_type": "stream",
     "text": [
      "wandb: WARNING Ignoring project 'Truck Delay Classification' when running a sweep.\n"
     ]
    },
    {
     "data": {
      "text/html": [
       "Tracking run with wandb version 0.19.1"
      ],
      "text/plain": [
       "<IPython.core.display.HTML object>"
      ]
     },
     "metadata": {},
     "output_type": "display_data"
    },
    {
     "data": {
      "text/html": [
       "Run data is saved locally in <code>C:\\Users\\ahuja\\wandb\\run-20241229_192612-rgyx4uez</code>"
      ],
      "text/plain": [
       "<IPython.core.display.HTML object>"
      ]
     },
     "metadata": {},
     "output_type": "display_data"
    },
    {
     "data": {
      "text/html": [
       "Syncing run <strong><a href='https://wandb.ai/ahujavaibhav2001-st-lawrence-college/Truck%20Delay%20Classification/runs/rgyx4uez' target=\"_blank\">skilled-sweep-80</a></strong> to <a href='https://wandb.ai/ahujavaibhav2001-st-lawrence-college/Truck%20Delay%20Classification' target=\"_blank\">Weights & Biases</a> (<a href='https://wandb.me/developer-guide' target=\"_blank\">docs</a>)<br>Sweep page: <a href='https://wandb.ai/ahujavaibhav2001-st-lawrence-college/Truck%20Delay%20Classification/sweeps/9mnowi7x' target=\"_blank\">https://wandb.ai/ahujavaibhav2001-st-lawrence-college/Truck%20Delay%20Classification/sweeps/9mnowi7x</a>"
      ],
      "text/plain": [
       "<IPython.core.display.HTML object>"
      ]
     },
     "metadata": {},
     "output_type": "display_data"
    },
    {
     "data": {
      "text/html": [
       " View project at <a href='https://wandb.ai/ahujavaibhav2001-st-lawrence-college/Truck%20Delay%20Classification' target=\"_blank\">https://wandb.ai/ahujavaibhav2001-st-lawrence-college/Truck%20Delay%20Classification</a>"
      ],
      "text/plain": [
       "<IPython.core.display.HTML object>"
      ]
     },
     "metadata": {},
     "output_type": "display_data"
    },
    {
     "data": {
      "text/html": [
       " View sweep at <a href='https://wandb.ai/ahujavaibhav2001-st-lawrence-college/Truck%20Delay%20Classification/sweeps/9mnowi7x' target=\"_blank\">https://wandb.ai/ahujavaibhav2001-st-lawrence-college/Truck%20Delay%20Classification/sweeps/9mnowi7x</a>"
      ],
      "text/plain": [
       "<IPython.core.display.HTML object>"
      ]
     },
     "metadata": {},
     "output_type": "display_data"
    },
    {
     "data": {
      "text/html": [
       " View run at <a href='https://wandb.ai/ahujavaibhav2001-st-lawrence-college/Truck%20Delay%20Classification/runs/rgyx4uez' target=\"_blank\">https://wandb.ai/ahujavaibhav2001-st-lawrence-college/Truck%20Delay%20Classification/runs/rgyx4uez</a>"
      ],
      "text/plain": [
       "<IPython.core.display.HTML object>"
      ]
     },
     "metadata": {},
     "output_type": "display_data"
    },
    {
     "name": "stderr",
     "output_type": "stream",
     "text": [
      "ConvergenceWarning: lbfgs failed to converge (status=1):\n",
      "STOP: TOTAL NO. of ITERATIONS REACHED LIMIT.\n",
      "\n",
      "Increase the number of iterations (max_iter) or scale the data as shown in:\n",
      "    https://scikit-learn.org/stable/modules/preprocessing.html\n",
      "Please also refer to the documentation for alternative solver options:\n",
      "    https://scikit-learn.org/stable/modules/linear_model.html#logistic-regression\n"
     ]
    },
    {
     "name": "stdout",
     "output_type": "stream",
     "text": [
      "F1_score Train: 0.5748\n",
      "F1_score Valid: 0.6087\n",
      "F1_score Test: 0.7252\n"
     ]
    },
    {
     "name": "stderr",
     "output_type": "stream",
     "text": [
      "wandb: \n",
      "wandb: Plotting LogisticRegression.\n",
      "UserWarning: X does not have valid feature names, but LogisticRegression was fitted with feature names\n",
      "wandb: Logged feature importances.\n",
      "wandb: Logged confusion matrix.\n",
      "UserWarning: X does not have valid feature names, but LogisticRegression was fitted with feature names\n",
      "wandb: Logged summary metrics.\n",
      "wandb: Logged class proportions.\n",
      "UserWarning: X does not have valid feature names, but LogisticRegression was fitted with feature names\n",
      "ConvergenceWarning: lbfgs failed to converge (status=1):\n",
      "STOP: TOTAL NO. of ITERATIONS REACHED LIMIT.\n",
      "\n",
      "Increase the number of iterations (max_iter) or scale the data as shown in:\n",
      "    https://scikit-learn.org/stable/modules/preprocessing.html\n",
      "Please also refer to the documentation for alternative solver options:\n",
      "    https://scikit-learn.org/stable/modules/linear_model.html#logistic-regression\n",
      "wandb: Logged calibration curve.\n",
      "wandb: Logged roc curve.\n",
      "wandb: Logged precision-recall curve.\n"
     ]
    },
    {
     "data": {
      "text/html": [],
      "text/plain": [
       "<IPython.core.display.HTML object>"
      ]
     },
     "metadata": {},
     "output_type": "display_data"
    },
    {
     "data": {
      "text/html": [
       "<br>    <style><br>        .wandb-row {<br>            display: flex;<br>            flex-direction: row;<br>            flex-wrap: wrap;<br>            justify-content: flex-start;<br>            width: 100%;<br>        }<br>        .wandb-col {<br>            display: flex;<br>            flex-direction: column;<br>            flex-basis: 100%;<br>            flex: 1;<br>            padding: 10px;<br>        }<br>    </style><br><div class=\"wandb-row\"><div class=\"wandb-col\"><h3>Run history:</h3><br/><table class=\"wandb\"><tr><td>f1_score</td><td>▁</td></tr><tr><td>f1_score_train</td><td>▁</td></tr><tr><td>f1_score_valid</td><td>▁</td></tr></table><br/></div><div class=\"wandb-col\"><h3>Run summary:</h3><br/><table class=\"wandb\"><tr><td>f1_score</td><td>0.72517</td></tr><tr><td>f1_score_train</td><td>0.5748</td></tr><tr><td>f1_score_valid</td><td>0.60874</td></tr></table><br/></div></div>"
      ],
      "text/plain": [
       "<IPython.core.display.HTML object>"
      ]
     },
     "metadata": {},
     "output_type": "display_data"
    },
    {
     "data": {
      "text/html": [
       " View run <strong style=\"color:#cdcd00\">skilled-sweep-80</strong> at: <a href='https://wandb.ai/ahujavaibhav2001-st-lawrence-college/Truck%20Delay%20Classification/runs/rgyx4uez' target=\"_blank\">https://wandb.ai/ahujavaibhav2001-st-lawrence-college/Truck%20Delay%20Classification/runs/rgyx4uez</a><br> View project at: <a href='https://wandb.ai/ahujavaibhav2001-st-lawrence-college/Truck%20Delay%20Classification' target=\"_blank\">https://wandb.ai/ahujavaibhav2001-st-lawrence-college/Truck%20Delay%20Classification</a><br>Synced 5 W&B file(s), 0 media file(s), 12 artifact file(s) and 7 other file(s)"
      ],
      "text/plain": [
       "<IPython.core.display.HTML object>"
      ]
     },
     "metadata": {},
     "output_type": "display_data"
    },
    {
     "data": {
      "text/html": [
       "Find logs at: <code>.\\wandb\\run-20241229_192612-rgyx4uez\\logs</code>"
      ],
      "text/plain": [
       "<IPython.core.display.HTML object>"
      ]
     },
     "metadata": {},
     "output_type": "display_data"
    }
   ],
   "source": [
    "train_logistic_model(X_train, y_train,X_valid, y_valid, X_test, y_test)"
   ]
  },
  {
   "cell_type": "markdown",
   "id": "03a842b7-57fd-45ef-8711-8026ae114f7e",
   "metadata": {},
   "source": [
    "### Decision Trees"
   ]
  },
  {
   "cell_type": "code",
   "execution_count": 91,
   "id": "1b4e2217-bcef-4103-a01b-dd286ff5f013",
   "metadata": {},
   "outputs": [
    {
     "name": "stdout",
     "output_type": "stream",
     "text": [
      "Train Results\n",
      "F1 Score: 0.9925897776933308\n",
      "Recall Score: 0.985288570350811\n",
      "Confusion Matrix: \n",
      "[[5551    0]\n",
      " [  39 2612]]\n",
      "Area Under Curve: 0.9926442851754055\n",
      " \n",
      "Validation Results\n",
      "F1 Score: 0.525984251968504\n",
      "Recall Score: 0.3971462544589774\n",
      "Confusion Matrix: \n",
      "[[1400   95]\n",
      " [ 507  334]]\n",
      "Area Under Curve: 0.6668005519786526\n",
      " \n",
      "Test Results\n",
      "F1 Score: 0.6245059288537549\n",
      "Recall Score: 0.49313358302122345\n",
      "Confusion Matrix: \n",
      "[[896  69]\n",
      " [406 395]]\n",
      "Area Under Curve: 0.7108154961738242\n"
     ]
    }
   ],
   "source": [
    "# define model\n",
    "w = {0: weights[0], 1: weights[1]}\n",
    "random_f = RandomForestClassifier(n_estimators=20, class_weight=w, random_state=7)\n",
    "random_f.fit(X_train, y_train)\n",
    "\n",
    "randomf_results = evaluate_models(\"Random Forest\", random_f,X_train, y_train, X_valid, y_valid, X_test, y_test)\n",
    "add_dic_to_final_df(randomf_results)"
   ]
  },
  {
   "cell_type": "code",
   "execution_count": 166,
   "id": "8cc774a1-7fd8-4f95-b797-ceaf70da473f",
   "metadata": {},
   "outputs": [],
   "source": [
    "\n",
    "\n",
    "def train_random_forest(X_train=X_train, y_train=y_train, X_valid=X_valid, y_valid=y_valid, X_test=X_test, y_test=y_test):\n",
    "  features = X_train.columns\n",
    "  labels=[\"delay\"]\n",
    "\n",
    "  with wandb.init(project=PROJECT_NAME) as run:\n",
    "      config = wandb.config\n",
    "\n",
    "      rand_model = RandomForestClassifier(n_estimators=20, class_weight=w, random_state=7)\n",
    "\n",
    "      rand_model.fit(X_train, y_train)\n",
    "      # train predictions\n",
    "      y_train_pred = rand_model.predict(X_train)\n",
    "      # train performance\n",
    "      train_f1_score = f1_score(y_train, y_train_pred)\n",
    "\n",
    "\n",
    "      # validation predictions\n",
    "      y_valid_pred = rand_model.predict(X_valid)\n",
    "      # validation performance\n",
    "      valid_f1_score = f1_score(y_valid, y_valid_pred)\n",
    "\n",
    "\n",
    "      # test predictions\n",
    "      y_preds = rand_model.predict(X_test)\n",
    "      y_probas = rand_model.predict_proba(X_test)\n",
    "\n",
    "      score = f1_score(y_test, y_preds)\n",
    "      print(f\"F1_score Train: {round(train_f1_score, 4)}\")\n",
    "      print(f\"F1_score Valid: {round(valid_f1_score, 4)}\")\n",
    "      print(f\"F1_score Test: {round(score, 4)}\")\n",
    "\n",
    "\n",
    "      wandb.log({\"f1_score_train\": train_f1_score})\n",
    "      wandb.log({\"f1_score_valid\": valid_f1_score})\n",
    "      wandb.log({\"f1_score\": score})\n",
    "\n",
    "\n",
    "\n",
    "      wandb.sklearn.plot_classifier(rand_model, X_train, X_test, y_train, y_test, y_preds, y_probas, labels=None,\n",
    "                                                          model_name='RandomForestClassifier', feature_names=features)\n",
    "\n",
    "      model_artifact = wandb.Artifact(\n",
    "                  \"RandomForestClassifier\", type=\"model\",metadata=dict(config))\n",
    "\n",
    "      joblib.dump(rand_model, \"rand-truck-model.pkl\")\n",
    "      model_artifact.add_file(\"rand-truck-model.pkl\")\n",
    "\n",
    "        # Log the artifact to wandb\n",
    "      run.log_artifact(model_artifact)"
   ]
  },
  {
   "cell_type": "code",
   "execution_count": 168,
   "id": "24c334f0-ba07-4531-96a0-ee9c28e359ef",
   "metadata": {},
   "outputs": [
    {
     "data": {
      "text/html": [
       "Changes to your `wandb` environment variables will be ignored because your `wandb` session has already started. For more information on how to modify your settings with `wandb.init()` arguments, please refer to <a href='https://wandb.me/wandb-init' target=\"_blank\">the W&B docs</a>."
      ],
      "text/plain": [
       "<IPython.core.display.HTML object>"
      ]
     },
     "metadata": {},
     "output_type": "display_data"
    },
    {
     "name": "stderr",
     "output_type": "stream",
     "text": [
      "wandb: WARNING Ignoring project 'Truck Delay Classification' when running a sweep.\n"
     ]
    },
    {
     "data": {
      "text/html": [
       "Tracking run with wandb version 0.19.1"
      ],
      "text/plain": [
       "<IPython.core.display.HTML object>"
      ]
     },
     "metadata": {},
     "output_type": "display_data"
    },
    {
     "data": {
      "text/html": [
       "Run data is saved locally in <code>C:\\Users\\ahuja\\wandb\\run-20241229_192753-rgyx4uez</code>"
      ],
      "text/plain": [
       "<IPython.core.display.HTML object>"
      ]
     },
     "metadata": {},
     "output_type": "display_data"
    },
    {
     "data": {
      "text/html": [
       "Syncing run <strong><a href='https://wandb.ai/ahujavaibhav2001-st-lawrence-college/Truck%20Delay%20Classification/runs/rgyx4uez' target=\"_blank\">skilled-sweep-80</a></strong> to <a href='https://wandb.ai/ahujavaibhav2001-st-lawrence-college/Truck%20Delay%20Classification' target=\"_blank\">Weights & Biases</a> (<a href='https://wandb.me/developer-guide' target=\"_blank\">docs</a>)<br>Sweep page: <a href='https://wandb.ai/ahujavaibhav2001-st-lawrence-college/Truck%20Delay%20Classification/sweeps/9mnowi7x' target=\"_blank\">https://wandb.ai/ahujavaibhav2001-st-lawrence-college/Truck%20Delay%20Classification/sweeps/9mnowi7x</a>"
      ],
      "text/plain": [
       "<IPython.core.display.HTML object>"
      ]
     },
     "metadata": {},
     "output_type": "display_data"
    },
    {
     "data": {
      "text/html": [
       " View project at <a href='https://wandb.ai/ahujavaibhav2001-st-lawrence-college/Truck%20Delay%20Classification' target=\"_blank\">https://wandb.ai/ahujavaibhav2001-st-lawrence-college/Truck%20Delay%20Classification</a>"
      ],
      "text/plain": [
       "<IPython.core.display.HTML object>"
      ]
     },
     "metadata": {},
     "output_type": "display_data"
    },
    {
     "data": {
      "text/html": [
       " View sweep at <a href='https://wandb.ai/ahujavaibhav2001-st-lawrence-college/Truck%20Delay%20Classification/sweeps/9mnowi7x' target=\"_blank\">https://wandb.ai/ahujavaibhav2001-st-lawrence-college/Truck%20Delay%20Classification/sweeps/9mnowi7x</a>"
      ],
      "text/plain": [
       "<IPython.core.display.HTML object>"
      ]
     },
     "metadata": {},
     "output_type": "display_data"
    },
    {
     "data": {
      "text/html": [
       " View run at <a href='https://wandb.ai/ahujavaibhav2001-st-lawrence-college/Truck%20Delay%20Classification/runs/rgyx4uez' target=\"_blank\">https://wandb.ai/ahujavaibhav2001-st-lawrence-college/Truck%20Delay%20Classification/runs/rgyx4uez</a>"
      ],
      "text/plain": [
       "<IPython.core.display.HTML object>"
      ]
     },
     "metadata": {},
     "output_type": "display_data"
    },
    {
     "name": "stdout",
     "output_type": "stream",
     "text": [
      "F1_score Train: 0.9926\n",
      "F1_score Valid: 0.526\n",
      "F1_score Test: 0.6245\n"
     ]
    },
    {
     "name": "stderr",
     "output_type": "stream",
     "text": [
      "wandb: \n",
      "wandb: Plotting RandomForestClassifier.\n",
      "UserWarning: X does not have valid feature names, but RandomForestClassifier was fitted with feature names\n",
      "wandb: Logged feature importances.\n",
      "wandb: Logged confusion matrix.\n",
      "UserWarning: X does not have valid feature names, but RandomForestClassifier was fitted with feature names\n",
      "wandb: Logged summary metrics.\n",
      "wandb: Logged class proportions.\n",
      "UserWarning: X does not have valid feature names, but RandomForestClassifier was fitted with feature names\n",
      "ConvergenceWarning: lbfgs failed to converge (status=1):\n",
      "STOP: TOTAL NO. of ITERATIONS REACHED LIMIT.\n",
      "\n",
      "Increase the number of iterations (max_iter) or scale the data as shown in:\n",
      "    https://scikit-learn.org/stable/modules/preprocessing.html\n",
      "Please also refer to the documentation for alternative solver options:\n",
      "    https://scikit-learn.org/stable/modules/linear_model.html#logistic-regression\n",
      "wandb: Logged calibration curve.\n",
      "wandb: Logged roc curve.\n",
      "wandb: Logged precision-recall curve.\n"
     ]
    },
    {
     "data": {
      "text/html": [],
      "text/plain": [
       "<IPython.core.display.HTML object>"
      ]
     },
     "metadata": {},
     "output_type": "display_data"
    },
    {
     "data": {
      "text/html": [
       "<br>    <style><br>        .wandb-row {<br>            display: flex;<br>            flex-direction: row;<br>            flex-wrap: wrap;<br>            justify-content: flex-start;<br>            width: 100%;<br>        }<br>        .wandb-col {<br>            display: flex;<br>            flex-direction: column;<br>            flex-basis: 100%;<br>            flex: 1;<br>            padding: 10px;<br>        }<br>    </style><br><div class=\"wandb-row\"><div class=\"wandb-col\"><h3>Run history:</h3><br/><table class=\"wandb\"><tr><td>f1_score</td><td>▁</td></tr><tr><td>f1_score_train</td><td>▁</td></tr><tr><td>f1_score_valid</td><td>▁</td></tr></table><br/></div><div class=\"wandb-col\"><h3>Run summary:</h3><br/><table class=\"wandb\"><tr><td>f1_score</td><td>0.62451</td></tr><tr><td>f1_score_train</td><td>0.99259</td></tr><tr><td>f1_score_valid</td><td>0.52598</td></tr></table><br/></div></div>"
      ],
      "text/plain": [
       "<IPython.core.display.HTML object>"
      ]
     },
     "metadata": {},
     "output_type": "display_data"
    },
    {
     "data": {
      "text/html": [
       " View run <strong style=\"color:#cdcd00\">skilled-sweep-80</strong> at: <a href='https://wandb.ai/ahujavaibhav2001-st-lawrence-college/Truck%20Delay%20Classification/runs/rgyx4uez' target=\"_blank\">https://wandb.ai/ahujavaibhav2001-st-lawrence-college/Truck%20Delay%20Classification/runs/rgyx4uez</a><br> View project at: <a href='https://wandb.ai/ahujavaibhav2001-st-lawrence-college/Truck%20Delay%20Classification' target=\"_blank\">https://wandb.ai/ahujavaibhav2001-st-lawrence-college/Truck%20Delay%20Classification</a><br>Synced 5 W&B file(s), 0 media file(s), 0 artifact file(s) and 7 other file(s)"
      ],
      "text/plain": [
       "<IPython.core.display.HTML object>"
      ]
     },
     "metadata": {},
     "output_type": "display_data"
    },
    {
     "data": {
      "text/html": [
       "Find logs at: <code>.\\wandb\\run-20241229_192753-rgyx4uez\\logs</code>"
      ],
      "text/plain": [
       "<IPython.core.display.HTML object>"
      ]
     },
     "metadata": {},
     "output_type": "display_data"
    }
   ],
   "source": [
    "train_random_forest(X_train, y_train,X_valid, y_valid, X_test, y_test)"
   ]
  },
  {
   "cell_type": "markdown",
   "id": "75c98ddd-3298-47b6-943e-8619350020ec",
   "metadata": {},
   "source": [
    "### XGBoost"
   ]
  },
  {
   "cell_type": "code",
   "execution_count": 104,
   "id": "8fe440e5-76e2-4538-80d8-b13ed6849e53",
   "metadata": {},
   "outputs": [
    {
     "name": "stdout",
     "output_type": "stream",
     "text": [
      "[0]\tvalidation-mlogloss:0.61447\n",
      "[1]\tvalidation-mlogloss:0.57315\n",
      "[2]\tvalidation-mlogloss:0.54766\n",
      "[3]\tvalidation-mlogloss:0.53639\n",
      "[4]\tvalidation-mlogloss:0.53454\n",
      "[5]\tvalidation-mlogloss:0.52965\n",
      "[6]\tvalidation-mlogloss:0.52972\n",
      "[7]\tvalidation-mlogloss:0.53009\n",
      "[8]\tvalidation-mlogloss:0.53387\n",
      "[9]\tvalidation-mlogloss:0.53433\n",
      "[10]\tvalidation-mlogloss:0.53538\n",
      "[11]\tvalidation-mlogloss:0.53662\n",
      "[12]\tvalidation-mlogloss:0.53636\n",
      "[13]\tvalidation-mlogloss:0.53512\n",
      "[14]\tvalidation-mlogloss:0.53708\n",
      "Train Results\n",
      "F1 Score: 0.7110494683310218\n",
      "Recall Score: 0.5801584307808374\n",
      "Confusion Matrix: \n",
      "[[5414  137]\n",
      " [1113 1538]]\n",
      "Area Under Curve: 0.7777390964929227\n",
      " \n",
      "Validation Results\n",
      "F1 Score: 0.5916542473919523\n",
      "Recall Score: 0.47205707491082044\n",
      "Confusion Matrix: \n",
      "[[1391  104]\n",
      " [ 444  397]]\n",
      "Area Under Curve: 0.701245928759758\n",
      " \n",
      "Test Results\n",
      "F1 Score: 0.6825633383010432\n",
      "Recall Score: 0.5717852684144819\n",
      "Confusion Matrix: \n",
      "[[882  83]\n",
      " [343 458]]\n",
      "Area Under Curve: 0.7428874528600907\n"
     ]
    }
   ],
   "source": [
    "# import xgboost\n",
    "import xgboost as xgb\n",
    "\n",
    "# Convert training and test sets to DMatrix\n",
    "dtrain = xgb.DMatrix(X_train, label=y_train)\n",
    "dvalid = xgb.DMatrix(X_valid, label=y_valid)\n",
    "dtest = xgb.DMatrix(X_test, label=y_test)\n",
    "\n",
    "# Train initial model\n",
    "params = {'objective': 'multi:softmax', 'num_class': 2, 'seed': 7}\n",
    "num_rounds = 30\n",
    "xgbmodel = xgb.train(params, dtrain, num_rounds, evals=[(dvalid, 'validation')], early_stopping_rounds=10)\n",
    "\n",
    "xgb_results = evaluate_models(\"XGB\", xgbmodel, dtrain, y_train, dvalid, y_valid, dtest, y_test)\n",
    "add_dic_to_final_df(xgb_results)"
   ]
  },
  {
   "cell_type": "code",
   "execution_count": 142,
   "id": "b8e3648d-ad90-411d-9197-5f63171ab4cf",
   "metadata": {},
   "outputs": [],
   "source": [
    "import joblib\n",
    "import xgboost as xgb\n",
    "\n",
    "def train_xgb_model(X_train=X_train, y_train=y_train, X_valid=X_valid, y_valid=y_valid, X_test=X_test, y_test=y_test):\n",
    "  features = X_train.columns\n",
    "  labels=[\"delay\"]\n",
    "\n",
    "  with wandb.init(project=PROJECT_NAME) as run:\n",
    "      config = wandb.config\n",
    "\n",
    "\n",
    "      # Convert training and test sets to DMatrix\n",
    "      dtrain = xgb.DMatrix(X_train, label=y_train)\n",
    "      dvalid = xgb.DMatrix(X_valid, label=y_valid)\n",
    "      dtest = xgb.DMatrix(X_test, label=y_test)\n",
    "\n",
    "      # Train initial model\n",
    "      params = {'objective': 'multi:softmax', 'num_class': 2}\n",
    "      num_rounds = 30\n",
    "      xgbmodel = xgb.train(params, dtrain, num_rounds, evals=[(dvalid, 'validation')], early_stopping_rounds=10)\n",
    "        \n",
    "      # train predictions\n",
    "      y_train_pred = xgbmodel.predict(dtrain)\n",
    "      # train performance\n",
    "      train_f1_score = f1_score(y_train, y_train_pred)\n",
    "\n",
    "\n",
    "      # validation predictions\n",
    "      y_valid_pred = xgbmodel.predict(dvalid)\n",
    "      # validation performance\n",
    "      valid_f1_score = f1_score(y_valid, y_valid_pred)\n",
    "\n",
    "\n",
    "      # test predictions\n",
    "      y_preds = xgbmodel.predict(dtest)\n",
    "      score = f1_score(y_test, y_preds)\n",
    "      print(f\"F1_score Train: {round(train_f1_score, 4)}\")\n",
    "      print(f\"F1_score Valid: {round(valid_f1_score, 4)}\")\n",
    "      print(f\"F1_score Test: {round(score, 4)}\")\n",
    "\n",
    "\n",
    "      wandb.log({\"f1_score_train\": train_f1_score})\n",
    "      wandb.log({\"f1_score_valid\": valid_f1_score})\n",
    "      wandb.log({\"f1_score\": score})\n",
    "\n",
    "\n",
    "      model_artifact = wandb.Artifact(\n",
    "                  \"XGBoost\", type=\"model\",metadata=dict(config))\n",
    "\n",
    "      joblib.dump(xgbmodel, \"xgb-truck-model.pkl\")\n",
    "      model_artifact.add_file(\"xgb-truck-model.pkl\")\n",
    "\n",
    "        # Log the artifact to wandb\n",
    "      run.log_artifact(model_artifact)"
   ]
  },
  {
   "cell_type": "code",
   "execution_count": 144,
   "id": "47686ce5-7eb9-43e0-b73e-595708a67033",
   "metadata": {},
   "outputs": [
    {
     "data": {
      "text/html": [
       "Changes to your `wandb` environment variables will be ignored because your `wandb` session has already started. For more information on how to modify your settings with `wandb.init()` arguments, please refer to <a href='https://wandb.me/wandb-init' target=\"_blank\">the W&B docs</a>."
      ],
      "text/plain": [
       "<IPython.core.display.HTML object>"
      ]
     },
     "metadata": {},
     "output_type": "display_data"
    },
    {
     "name": "stderr",
     "output_type": "stream",
     "text": [
      "wandb: WARNING Ignoring project 'Truck Delay Classification' when running a sweep.\n"
     ]
    },
    {
     "data": {
      "text/html": [
       "Tracking run with wandb version 0.19.1"
      ],
      "text/plain": [
       "<IPython.core.display.HTML object>"
      ]
     },
     "metadata": {},
     "output_type": "display_data"
    },
    {
     "data": {
      "text/html": [
       "Run data is saved locally in <code>C:\\Users\\ahuja\\wandb\\run-20241229_192358-rgyx4uez</code>"
      ],
      "text/plain": [
       "<IPython.core.display.HTML object>"
      ]
     },
     "metadata": {},
     "output_type": "display_data"
    },
    {
     "data": {
      "text/html": [
       "Syncing run <strong><a href='https://wandb.ai/ahujavaibhav2001-st-lawrence-college/Truck%20Delay%20Classification/runs/rgyx4uez' target=\"_blank\">skilled-sweep-80</a></strong> to <a href='https://wandb.ai/ahujavaibhav2001-st-lawrence-college/Truck%20Delay%20Classification' target=\"_blank\">Weights & Biases</a> (<a href='https://wandb.me/developer-guide' target=\"_blank\">docs</a>)<br>Sweep page: <a href='https://wandb.ai/ahujavaibhav2001-st-lawrence-college/Truck%20Delay%20Classification/sweeps/9mnowi7x' target=\"_blank\">https://wandb.ai/ahujavaibhav2001-st-lawrence-college/Truck%20Delay%20Classification/sweeps/9mnowi7x</a>"
      ],
      "text/plain": [
       "<IPython.core.display.HTML object>"
      ]
     },
     "metadata": {},
     "output_type": "display_data"
    },
    {
     "data": {
      "text/html": [
       " View project at <a href='https://wandb.ai/ahujavaibhav2001-st-lawrence-college/Truck%20Delay%20Classification' target=\"_blank\">https://wandb.ai/ahujavaibhav2001-st-lawrence-college/Truck%20Delay%20Classification</a>"
      ],
      "text/plain": [
       "<IPython.core.display.HTML object>"
      ]
     },
     "metadata": {},
     "output_type": "display_data"
    },
    {
     "data": {
      "text/html": [
       " View sweep at <a href='https://wandb.ai/ahujavaibhav2001-st-lawrence-college/Truck%20Delay%20Classification/sweeps/9mnowi7x' target=\"_blank\">https://wandb.ai/ahujavaibhav2001-st-lawrence-college/Truck%20Delay%20Classification/sweeps/9mnowi7x</a>"
      ],
      "text/plain": [
       "<IPython.core.display.HTML object>"
      ]
     },
     "metadata": {},
     "output_type": "display_data"
    },
    {
     "data": {
      "text/html": [
       " View run at <a href='https://wandb.ai/ahujavaibhav2001-st-lawrence-college/Truck%20Delay%20Classification/runs/rgyx4uez' target=\"_blank\">https://wandb.ai/ahujavaibhav2001-st-lawrence-college/Truck%20Delay%20Classification/runs/rgyx4uez</a>"
      ],
      "text/plain": [
       "<IPython.core.display.HTML object>"
      ]
     },
     "metadata": {},
     "output_type": "display_data"
    },
    {
     "name": "stdout",
     "output_type": "stream",
     "text": [
      "[0]\tvalidation-mlogloss:0.61447\n",
      "[1]\tvalidation-mlogloss:0.57315\n",
      "[2]\tvalidation-mlogloss:0.54766\n",
      "[3]\tvalidation-mlogloss:0.53639\n",
      "[4]\tvalidation-mlogloss:0.53454\n",
      "[5]\tvalidation-mlogloss:0.52965\n",
      "[6]\tvalidation-mlogloss:0.52972\n",
      "[7]\tvalidation-mlogloss:0.53009\n",
      "[8]\tvalidation-mlogloss:0.53387\n",
      "[9]\tvalidation-mlogloss:0.53433\n",
      "[10]\tvalidation-mlogloss:0.53538\n",
      "[11]\tvalidation-mlogloss:0.53662\n",
      "[12]\tvalidation-mlogloss:0.53636\n",
      "[13]\tvalidation-mlogloss:0.53512\n",
      "[14]\tvalidation-mlogloss:0.53708\n",
      "F1_score Train: 0.711\n",
      "F1_score Valid: 0.5917\n",
      "F1_score Test: 0.6826\n"
     ]
    },
    {
     "data": {
      "text/html": [],
      "text/plain": [
       "<IPython.core.display.HTML object>"
      ]
     },
     "metadata": {},
     "output_type": "display_data"
    },
    {
     "data": {
      "text/html": [
       "<br>    <style><br>        .wandb-row {<br>            display: flex;<br>            flex-direction: row;<br>            flex-wrap: wrap;<br>            justify-content: flex-start;<br>            width: 100%;<br>        }<br>        .wandb-col {<br>            display: flex;<br>            flex-direction: column;<br>            flex-basis: 100%;<br>            flex: 1;<br>            padding: 10px;<br>        }<br>    </style><br><div class=\"wandb-row\"><div class=\"wandb-col\"><h3>Run history:</h3><br/><table class=\"wandb\"><tr><td>f1_score</td><td>▁</td></tr><tr><td>f1_score_train</td><td>▁</td></tr><tr><td>f1_score_valid</td><td>▁</td></tr></table><br/></div><div class=\"wandb-col\"><h3>Run summary:</h3><br/><table class=\"wandb\"><tr><td>f1_score</td><td>0.68256</td></tr><tr><td>f1_score_train</td><td>0.71105</td></tr><tr><td>f1_score_valid</td><td>0.59165</td></tr></table><br/></div></div>"
      ],
      "text/plain": [
       "<IPython.core.display.HTML object>"
      ]
     },
     "metadata": {},
     "output_type": "display_data"
    },
    {
     "data": {
      "text/html": [
       " View run <strong style=\"color:#cdcd00\">skilled-sweep-80</strong> at: <a href='https://wandb.ai/ahujavaibhav2001-st-lawrence-college/Truck%20Delay%20Classification/runs/rgyx4uez' target=\"_blank\">https://wandb.ai/ahujavaibhav2001-st-lawrence-college/Truck%20Delay%20Classification/runs/rgyx4uez</a><br> View project at: <a href='https://wandb.ai/ahujavaibhav2001-st-lawrence-college/Truck%20Delay%20Classification' target=\"_blank\">https://wandb.ai/ahujavaibhav2001-st-lawrence-college/Truck%20Delay%20Classification</a><br>Synced 5 W&B file(s), 0 media file(s), 0 artifact file(s) and 0 other file(s)"
      ],
      "text/plain": [
       "<IPython.core.display.HTML object>"
      ]
     },
     "metadata": {},
     "output_type": "display_data"
    },
    {
     "data": {
      "text/html": [
       "Find logs at: <code>.\\wandb\\run-20241229_192358-rgyx4uez\\logs</code>"
      ],
      "text/plain": [
       "<IPython.core.display.HTML object>"
      ]
     },
     "metadata": {},
     "output_type": "display_data"
    }
   ],
   "source": [
    "train_xgb_model(X_train, y_train,X_valid, y_valid, X_test, y_test)"
   ]
  },
  {
   "cell_type": "code",
   "execution_count": 122,
   "id": "378a801e-1908-4d96-9c0d-29a74520013c",
   "metadata": {},
   "outputs": [
    {
     "data": {
      "text/html": [
       "<div>\n",
       "<style scoped>\n",
       "    .dataframe tbody tr th:only-of-type {\n",
       "        vertical-align: middle;\n",
       "    }\n",
       "\n",
       "    .dataframe tbody tr th {\n",
       "        vertical-align: top;\n",
       "    }\n",
       "\n",
       "    .dataframe thead th {\n",
       "        text-align: right;\n",
       "    }\n",
       "</style>\n",
       "<table border=\"1\" class=\"dataframe\">\n",
       "  <thead>\n",
       "    <tr style=\"text-align: right;\">\n",
       "      <th></th>\n",
       "      <th>Model_Name</th>\n",
       "      <th>Train_F1score</th>\n",
       "      <th>Train_Recall</th>\n",
       "      <th>Valid_F1score</th>\n",
       "      <th>Valid_Recall</th>\n",
       "      <th>Test_F1score</th>\n",
       "      <th>Test_Recall</th>\n",
       "    </tr>\n",
       "  </thead>\n",
       "  <tbody>\n",
       "    <tr>\n",
       "      <th>0</th>\n",
       "      <td>Logistic Regression</td>\n",
       "      <td>0.574801</td>\n",
       "      <td>0.679743</td>\n",
       "      <td>0.608741</td>\n",
       "      <td>0.695600</td>\n",
       "      <td>0.725168</td>\n",
       "      <td>0.742821</td>\n",
       "    </tr>\n",
       "    <tr>\n",
       "      <th>1</th>\n",
       "      <td>Random Forest</td>\n",
       "      <td>0.992590</td>\n",
       "      <td>0.985289</td>\n",
       "      <td>0.525984</td>\n",
       "      <td>0.397146</td>\n",
       "      <td>0.624506</td>\n",
       "      <td>0.493134</td>\n",
       "    </tr>\n",
       "    <tr>\n",
       "      <th>2</th>\n",
       "      <td>XGB</td>\n",
       "      <td>0.711049</td>\n",
       "      <td>0.580158</td>\n",
       "      <td>0.591654</td>\n",
       "      <td>0.472057</td>\n",
       "      <td>0.682563</td>\n",
       "      <td>0.571785</td>\n",
       "    </tr>\n",
       "  </tbody>\n",
       "</table>\n",
       "</div>"
      ],
      "text/plain": [
       "            Model_Name  Train_F1score  Train_Recall  Valid_F1score  \\\n",
       "0  Logistic Regression       0.574801      0.679743       0.608741   \n",
       "1        Random Forest       0.992590      0.985289       0.525984   \n",
       "2                  XGB       0.711049      0.580158       0.591654   \n",
       "\n",
       "   Valid_Recall  Test_F1score  Test_Recall  \n",
       "0      0.695600      0.725168     0.742821  \n",
       "1      0.397146      0.624506     0.493134  \n",
       "2      0.472057      0.682563     0.571785  "
      ]
     },
     "execution_count": 122,
     "metadata": {},
     "output_type": "execute_result"
    }
   ],
   "source": [
    "comparison_df"
   ]
  },
  {
   "cell_type": "markdown",
   "id": "8863783a-81fa-404e-9053-dbfab97ed8a7",
   "metadata": {},
   "source": [
    "### **Model Building Summary**\n",
    "\n",
    "Logistic Regression:\n",
    "\n",
    "* The F1 score and recall on the training set are relatively low, indicating that the model might not fit the training data well.\n",
    "* The F1 score and recall on the validation and test sets are high but we'll have to look for consistency of  the model results over high scores.\n",
    "\n",
    "Random Forest:\n",
    "\n",
    "* The Random Forest model has very high F1 scores and recall on the training set, indicating a potential overfitting issue.\n",
    "* On the validation set, the F1 score is lower than on the training set, which is expected, but it's still relatively high.\n",
    "* The model performs well on the test set with a better F1 score and recall.\n",
    "* To address potential overfitting, we can experiment with reducing the complexity of the Random Forest model, by limiting the depth of the trees.\n",
    "\n",
    "XGBoost:\n",
    "\n",
    "* XGBoost shows good F1 scores and recall on the training set, indicating a reasonable fit to the training data.\n",
    "* On the validation set, the F1 score is reasonable, suggesting decent generalization.\n",
    "* The model performs well on the test set with a high F1 score and recall, indicating good generalization to unseen data.\n",
    "* XGBoost seems to be the most promising model, we can do hyperparameter tuning to see if we can improve its performance even more."
   ]
  },
  {
   "cell_type": "markdown",
   "id": "d5bce207-88ec-4ba2-9641-c758e5c64664",
   "metadata": {},
   "source": [
    "### Hyperparameter Sweeps"
   ]
  },
  {
   "cell_type": "code",
   "execution_count": 125,
   "id": "36d307b1-a7bd-448d-ac4e-581b231298d6",
   "metadata": {},
   "outputs": [],
   "source": [
    "import joblib\n",
    "w = {0: weights[0], 1: weights[1]}\n",
    "def train_rf_model(X_train=X_train, y_train=y_train, X_valid=X_valid,y_valid=y_valid, X_test=X_test, y_test=y_test):\n",
    "    features = X_train.columns\n",
    "\n",
    "    with wandb.init(\n",
    "        project=PROJECT_NAME ) as run:\n",
    "        config = wandb.config\n",
    "\n",
    "        model = RandomForestClassifier(\n",
    "            n_estimators=config[\"n_estimators\"],\n",
    "            max_depth=config[\"max_depth\"],\n",
    "            min_samples_split=config[\"min_samples_split\"],\n",
    "            random_state=7,\n",
    "            class_weight=w\n",
    "        )\n",
    "        model.fit(X_train, y_train)\n",
    "        \n",
    "        # train predictions\n",
    "        y_train_pred = model.predict(X_train)\n",
    "        # train performance\n",
    "        train_f1_score = f1_score(y_train, y_train_pred)\n",
    "        \n",
    "\n",
    "        # validation predictions\n",
    "        y_valid_pred = model.predict(X_valid)\n",
    "        # validation performance\n",
    "        valid_f1_score = f1_score(y_valid, y_valid_pred)\n",
    "      \n",
    "\n",
    "        y_preds = model.predict(X_test)\n",
    "        y_probas = model.predict_proba(X_test)\n",
    "\n",
    "        score = f1_score(y_test, y_preds)\n",
    "        print(f\"F1_score Train: {round(train_f1_score, 4)}\")\n",
    "        print(f\"F1_score Valid: {round(valid_f1_score, 4)}\")\n",
    "        print(f\"F1_score Test: {round(score, 4)}\")\n",
    "\n",
    "\n",
    "        wandb.log({\"f1_score_train\": train_f1_score})\n",
    "        wandb.log({\"f1_score_valid\": valid_f1_score})\n",
    "        wandb.log({\"f1_score\": score})\n",
    "\n",
    "        wandb.sklearn.plot_classifier(model, X_train, X_test, y_train, y_test, y_preds, y_probas, labels=None,\n",
    "                                                          model_name='RandomForestClassifier', feature_names=features)\n",
    "\n",
    "        model_artifact = wandb.Artifact(\n",
    "            \"RandomForestClassifier\", type=\"model\",metadata=dict(config))\n",
    "        joblib.dump(model, \"random_f_tuned.pkl\")\n",
    "        model_artifact.add_file(\"random_f_tuned.pkl\")\n",
    "        run.log_artifact(model_artifact)"
   ]
  },
  {
   "cell_type": "code",
   "execution_count": 127,
   "id": "af8c39ea-6dde-422c-9c75-c3b3461c380e",
   "metadata": {},
   "outputs": [
    {
     "data": {
      "text/plain": [
       "{'bootstrap': True,\n",
       " 'ccp_alpha': 0.0,\n",
       " 'class_weight': {0: 0.7387858043595749, 1: 1.5469634100339495},\n",
       " 'criterion': 'gini',\n",
       " 'max_depth': None,\n",
       " 'max_features': 'sqrt',\n",
       " 'max_leaf_nodes': None,\n",
       " 'max_samples': None,\n",
       " 'min_impurity_decrease': 0.0,\n",
       " 'min_samples_leaf': 1,\n",
       " 'min_samples_split': 2,\n",
       " 'min_weight_fraction_leaf': 0.0,\n",
       " 'monotonic_cst': None,\n",
       " 'n_estimators': 20,\n",
       " 'n_jobs': None,\n",
       " 'oob_score': False,\n",
       " 'random_state': 7,\n",
       " 'verbose': 0,\n",
       " 'warm_start': False}"
      ]
     },
     "execution_count": 127,
     "metadata": {},
     "output_type": "execute_result"
    }
   ],
   "source": [
    "random_f.get_params()"
   ]
  },
  {
   "cell_type": "code",
   "execution_count": 129,
   "id": "e9d795b9-446f-4255-8c3b-fe650d2ad397",
   "metadata": {
    "scrolled": true
   },
   "outputs": [
    {
     "name": "stdout",
     "output_type": "stream",
     "text": [
      "Create sweep with ID: 9mnowi7x\n",
      "Sweep URL: https://wandb.ai/ahujavaibhav2001-st-lawrence-college/Truck%20Delay%20Classification/sweeps/9mnowi7x\n"
     ]
    },
    {
     "name": "stderr",
     "output_type": "stream",
     "text": [
      "wandb: Agent Starting Run: 0mvgc8vn with config:\n",
      "wandb: \tmax_depth: None\n",
      "wandb: \tmin_samples_split: 2\n",
      "wandb: \tn_estimators: 8\n",
      "wandb: WARNING Ignoring project 'Truck Delay Classification' when running a sweep.\n"
     ]
    },
    {
     "data": {
      "text/html": [
       "Tracking run with wandb version 0.19.1"
      ],
      "text/plain": [
       "<IPython.core.display.HTML object>"
      ]
     },
     "metadata": {},
     "output_type": "display_data"
    },
    {
     "data": {
      "text/html": [
       "Run data is saved locally in <code>C:\\Users\\ahuja\\wandb\\run-20241229_171940-0mvgc8vn</code>"
      ],
      "text/plain": [
       "<IPython.core.display.HTML object>"
      ]
     },
     "metadata": {},
     "output_type": "display_data"
    },
    {
     "data": {
      "text/html": [
       "Syncing run <strong><a href='https://wandb.ai/ahujavaibhav2001-st-lawrence-college/Truck%20Delay%20Classification/runs/0mvgc8vn' target=\"_blank\">splendid-sweep-1</a></strong> to <a href='https://wandb.ai/ahujavaibhav2001-st-lawrence-college/Truck%20Delay%20Classification' target=\"_blank\">Weights & Biases</a> (<a href='https://wandb.me/developer-guide' target=\"_blank\">docs</a>)<br>Sweep page: <a href='https://wandb.ai/ahujavaibhav2001-st-lawrence-college/Truck%20Delay%20Classification/sweeps/9mnowi7x' target=\"_blank\">https://wandb.ai/ahujavaibhav2001-st-lawrence-college/Truck%20Delay%20Classification/sweeps/9mnowi7x</a>"
      ],
      "text/plain": [
       "<IPython.core.display.HTML object>"
      ]
     },
     "metadata": {},
     "output_type": "display_data"
    },
    {
     "data": {
      "text/html": [
       " View project at <a href='https://wandb.ai/ahujavaibhav2001-st-lawrence-college/Truck%20Delay%20Classification' target=\"_blank\">https://wandb.ai/ahujavaibhav2001-st-lawrence-college/Truck%20Delay%20Classification</a>"
      ],
      "text/plain": [
       "<IPython.core.display.HTML object>"
      ]
     },
     "metadata": {},
     "output_type": "display_data"
    },
    {
     "data": {
      "text/html": [
       " View sweep at <a href='https://wandb.ai/ahujavaibhav2001-st-lawrence-college/Truck%20Delay%20Classification/sweeps/9mnowi7x' target=\"_blank\">https://wandb.ai/ahujavaibhav2001-st-lawrence-college/Truck%20Delay%20Classification/sweeps/9mnowi7x</a>"
      ],
      "text/plain": [
       "<IPython.core.display.HTML object>"
      ]
     },
     "metadata": {},
     "output_type": "display_data"
    },
    {
     "data": {
      "text/html": [
       " View run at <a href='https://wandb.ai/ahujavaibhav2001-st-lawrence-college/Truck%20Delay%20Classification/runs/0mvgc8vn' target=\"_blank\">https://wandb.ai/ahujavaibhav2001-st-lawrence-college/Truck%20Delay%20Classification/runs/0mvgc8vn</a>"
      ],
      "text/plain": [
       "<IPython.core.display.HTML object>"
      ]
     },
     "metadata": {},
     "output_type": "display_data"
    },
    {
     "name": "stdout",
     "output_type": "stream",
     "text": [
      "F1_score Train: 0.9587\n",
      "F1_score Valid: 0.5023\n",
      "F1_score Test: 0.5928\n"
     ]
    },
    {
     "name": "stderr",
     "output_type": "stream",
     "text": [
      "wandb: \n",
      "wandb: Plotting RandomForestClassifier.\n",
      "UserWarning: X does not have valid feature names, but RandomForestClassifier was fitted with feature names\n",
      "wandb: Logged feature importances.\n",
      "wandb: Logged confusion matrix.\n",
      "UserWarning: X does not have valid feature names, but RandomForestClassifier was fitted with feature names\n",
      "wandb: Logged summary metrics.\n",
      "wandb: Logged class proportions.\n",
      "UserWarning: X does not have valid feature names, but RandomForestClassifier was fitted with feature names\n",
      "ConvergenceWarning: lbfgs failed to converge (status=1):\n",
      "STOP: TOTAL NO. of ITERATIONS REACHED LIMIT.\n",
      "\n",
      "Increase the number of iterations (max_iter) or scale the data as shown in:\n",
      "    https://scikit-learn.org/stable/modules/preprocessing.html\n",
      "Please also refer to the documentation for alternative solver options:\n",
      "    https://scikit-learn.org/stable/modules/linear_model.html#logistic-regression\n",
      "wandb: Logged calibration curve.\n",
      "wandb: Logged roc curve.\n",
      "wandb: Logged precision-recall curve.\n"
     ]
    },
    {
     "data": {
      "text/html": [],
      "text/plain": [
       "<IPython.core.display.HTML object>"
      ]
     },
     "metadata": {},
     "output_type": "display_data"
    },
    {
     "data": {
      "text/html": [
       "<br>    <style><br>        .wandb-row {<br>            display: flex;<br>            flex-direction: row;<br>            flex-wrap: wrap;<br>            justify-content: flex-start;<br>            width: 100%;<br>        }<br>        .wandb-col {<br>            display: flex;<br>            flex-direction: column;<br>            flex-basis: 100%;<br>            flex: 1;<br>            padding: 10px;<br>        }<br>    </style><br><div class=\"wandb-row\"><div class=\"wandb-col\"><h3>Run history:</h3><br/><table class=\"wandb\"><tr><td>f1_score</td><td>▁</td></tr><tr><td>f1_score_train</td><td>▁</td></tr><tr><td>f1_score_valid</td><td>▁</td></tr></table><br/></div><div class=\"wandb-col\"><h3>Run summary:</h3><br/><table class=\"wandb\"><tr><td>f1_score</td><td>0.59277</td></tr><tr><td>f1_score_train</td><td>0.95865</td></tr><tr><td>f1_score_valid</td><td>0.50233</td></tr></table><br/></div></div>"
      ],
      "text/plain": [
       "<IPython.core.display.HTML object>"
      ]
     },
     "metadata": {},
     "output_type": "display_data"
    },
    {
     "data": {
      "text/html": [
       " View run <strong style=\"color:#cdcd00\">splendid-sweep-1</strong> at: <a href='https://wandb.ai/ahujavaibhav2001-st-lawrence-college/Truck%20Delay%20Classification/runs/0mvgc8vn' target=\"_blank\">https://wandb.ai/ahujavaibhav2001-st-lawrence-college/Truck%20Delay%20Classification/runs/0mvgc8vn</a><br> View project at: <a href='https://wandb.ai/ahujavaibhav2001-st-lawrence-college/Truck%20Delay%20Classification' target=\"_blank\">https://wandb.ai/ahujavaibhav2001-st-lawrence-college/Truck%20Delay%20Classification</a><br>Synced 5 W&B file(s), 0 media file(s), 16 artifact file(s) and 7 other file(s)"
      ],
      "text/plain": [
       "<IPython.core.display.HTML object>"
      ]
     },
     "metadata": {},
     "output_type": "display_data"
    },
    {
     "data": {
      "text/html": [
       "Find logs at: <code>.\\wandb\\run-20241229_171940-0mvgc8vn\\logs</code>"
      ],
      "text/plain": [
       "<IPython.core.display.HTML object>"
      ]
     },
     "metadata": {},
     "output_type": "display_data"
    },
    {
     "name": "stderr",
     "output_type": "stream",
     "text": [
      "wandb: Agent Starting Run: y8wlz40v with config:\n",
      "wandb: \tmax_depth: None\n",
      "wandb: \tmin_samples_split: 2\n",
      "wandb: \tn_estimators: 12\n",
      "wandb: WARNING Ignoring project 'Truck Delay Classification' when running a sweep.\n"
     ]
    },
    {
     "data": {
      "text/html": [
       "Tracking run with wandb version 0.19.1"
      ],
      "text/plain": [
       "<IPython.core.display.HTML object>"
      ]
     },
     "metadata": {},
     "output_type": "display_data"
    },
    {
     "data": {
      "text/html": [
       "Run data is saved locally in <code>C:\\Users\\ahuja\\wandb\\run-20241229_171951-y8wlz40v</code>"
      ],
      "text/plain": [
       "<IPython.core.display.HTML object>"
      ]
     },
     "metadata": {},
     "output_type": "display_data"
    },
    {
     "data": {
      "text/html": [
       "Syncing run <strong><a href='https://wandb.ai/ahujavaibhav2001-st-lawrence-college/Truck%20Delay%20Classification/runs/y8wlz40v' target=\"_blank\">treasured-sweep-2</a></strong> to <a href='https://wandb.ai/ahujavaibhav2001-st-lawrence-college/Truck%20Delay%20Classification' target=\"_blank\">Weights & Biases</a> (<a href='https://wandb.me/developer-guide' target=\"_blank\">docs</a>)<br>Sweep page: <a href='https://wandb.ai/ahujavaibhav2001-st-lawrence-college/Truck%20Delay%20Classification/sweeps/9mnowi7x' target=\"_blank\">https://wandb.ai/ahujavaibhav2001-st-lawrence-college/Truck%20Delay%20Classification/sweeps/9mnowi7x</a>"
      ],
      "text/plain": [
       "<IPython.core.display.HTML object>"
      ]
     },
     "metadata": {},
     "output_type": "display_data"
    },
    {
     "data": {
      "text/html": [
       " View project at <a href='https://wandb.ai/ahujavaibhav2001-st-lawrence-college/Truck%20Delay%20Classification' target=\"_blank\">https://wandb.ai/ahujavaibhav2001-st-lawrence-college/Truck%20Delay%20Classification</a>"
      ],
      "text/plain": [
       "<IPython.core.display.HTML object>"
      ]
     },
     "metadata": {},
     "output_type": "display_data"
    },
    {
     "data": {
      "text/html": [
       " View sweep at <a href='https://wandb.ai/ahujavaibhav2001-st-lawrence-college/Truck%20Delay%20Classification/sweeps/9mnowi7x' target=\"_blank\">https://wandb.ai/ahujavaibhav2001-st-lawrence-college/Truck%20Delay%20Classification/sweeps/9mnowi7x</a>"
      ],
      "text/plain": [
       "<IPython.core.display.HTML object>"
      ]
     },
     "metadata": {},
     "output_type": "display_data"
    },
    {
     "data": {
      "text/html": [
       " View run at <a href='https://wandb.ai/ahujavaibhav2001-st-lawrence-college/Truck%20Delay%20Classification/runs/y8wlz40v' target=\"_blank\">https://wandb.ai/ahujavaibhav2001-st-lawrence-college/Truck%20Delay%20Classification/runs/y8wlz40v</a>"
      ],
      "text/plain": [
       "<IPython.core.display.HTML object>"
      ]
     },
     "metadata": {},
     "output_type": "display_data"
    },
    {
     "name": "stdout",
     "output_type": "stream",
     "text": [
      "F1_score Train: 0.9765\n",
      "F1_score Valid: 0.5313\n",
      "F1_score Test: 0.622\n"
     ]
    },
    {
     "name": "stderr",
     "output_type": "stream",
     "text": [
      "wandb: \n",
      "wandb: Plotting RandomForestClassifier.\n",
      "UserWarning: X does not have valid feature names, but RandomForestClassifier was fitted with feature names\n",
      "wandb: Logged feature importances.\n",
      "wandb: Logged confusion matrix.\n",
      "UserWarning: X does not have valid feature names, but RandomForestClassifier was fitted with feature names\n",
      "wandb: Logged summary metrics.\n",
      "wandb: Logged class proportions.\n",
      "UserWarning: X does not have valid feature names, but RandomForestClassifier was fitted with feature names\n",
      "ConvergenceWarning: lbfgs failed to converge (status=1):\n",
      "STOP: TOTAL NO. of ITERATIONS REACHED LIMIT.\n",
      "\n",
      "Increase the number of iterations (max_iter) or scale the data as shown in:\n",
      "    https://scikit-learn.org/stable/modules/preprocessing.html\n",
      "Please also refer to the documentation for alternative solver options:\n",
      "    https://scikit-learn.org/stable/modules/linear_model.html#logistic-regression\n",
      "wandb: Logged calibration curve.\n",
      "wandb: Logged roc curve.\n",
      "wandb: Logged precision-recall curve.\n"
     ]
    },
    {
     "data": {
      "text/html": [],
      "text/plain": [
       "<IPython.core.display.HTML object>"
      ]
     },
     "metadata": {},
     "output_type": "display_data"
    },
    {
     "data": {
      "text/html": [
       "<br>    <style><br>        .wandb-row {<br>            display: flex;<br>            flex-direction: row;<br>            flex-wrap: wrap;<br>            justify-content: flex-start;<br>            width: 100%;<br>        }<br>        .wandb-col {<br>            display: flex;<br>            flex-direction: column;<br>            flex-basis: 100%;<br>            flex: 1;<br>            padding: 10px;<br>        }<br>    </style><br><div class=\"wandb-row\"><div class=\"wandb-col\"><h3>Run history:</h3><br/><table class=\"wandb\"><tr><td>f1_score</td><td>▁</td></tr><tr><td>f1_score_train</td><td>▁</td></tr><tr><td>f1_score_valid</td><td>▁</td></tr></table><br/></div><div class=\"wandb-col\"><h3>Run summary:</h3><br/><table class=\"wandb\"><tr><td>f1_score</td><td>0.62205</td></tr><tr><td>f1_score_train</td><td>0.97646</td></tr><tr><td>f1_score_valid</td><td>0.53135</td></tr></table><br/></div></div>"
      ],
      "text/plain": [
       "<IPython.core.display.HTML object>"
      ]
     },
     "metadata": {},
     "output_type": "display_data"
    },
    {
     "data": {
      "text/html": [
       " View run <strong style=\"color:#cdcd00\">treasured-sweep-2</strong> at: <a href='https://wandb.ai/ahujavaibhav2001-st-lawrence-college/Truck%20Delay%20Classification/runs/y8wlz40v' target=\"_blank\">https://wandb.ai/ahujavaibhav2001-st-lawrence-college/Truck%20Delay%20Classification/runs/y8wlz40v</a><br> View project at: <a href='https://wandb.ai/ahujavaibhav2001-st-lawrence-college/Truck%20Delay%20Classification' target=\"_blank\">https://wandb.ai/ahujavaibhav2001-st-lawrence-college/Truck%20Delay%20Classification</a><br>Synced 5 W&B file(s), 0 media file(s), 16 artifact file(s) and 7 other file(s)"
      ],
      "text/plain": [
       "<IPython.core.display.HTML object>"
      ]
     },
     "metadata": {},
     "output_type": "display_data"
    },
    {
     "data": {
      "text/html": [
       "Find logs at: <code>.\\wandb\\run-20241229_171951-y8wlz40v\\logs</code>"
      ],
      "text/plain": [
       "<IPython.core.display.HTML object>"
      ]
     },
     "metadata": {},
     "output_type": "display_data"
    },
    {
     "name": "stderr",
     "output_type": "stream",
     "text": [
      "wandb: Agent Starting Run: 7smg0nv7 with config:\n",
      "wandb: \tmax_depth: None\n",
      "wandb: \tmin_samples_split: 2\n",
      "wandb: \tn_estimators: 16\n",
      "wandb: WARNING Ignoring project 'Truck Delay Classification' when running a sweep.\n"
     ]
    },
    {
     "data": {
      "text/html": [
       "Tracking run with wandb version 0.19.1"
      ],
      "text/plain": [
       "<IPython.core.display.HTML object>"
      ]
     },
     "metadata": {},
     "output_type": "display_data"
    },
    {
     "data": {
      "text/html": [
       "Run data is saved locally in <code>C:\\Users\\ahuja\\wandb\\run-20241229_172001-7smg0nv7</code>"
      ],
      "text/plain": [
       "<IPython.core.display.HTML object>"
      ]
     },
     "metadata": {},
     "output_type": "display_data"
    },
    {
     "data": {
      "text/html": [
       "Syncing run <strong><a href='https://wandb.ai/ahujavaibhav2001-st-lawrence-college/Truck%20Delay%20Classification/runs/7smg0nv7' target=\"_blank\">curious-sweep-3</a></strong> to <a href='https://wandb.ai/ahujavaibhav2001-st-lawrence-college/Truck%20Delay%20Classification' target=\"_blank\">Weights & Biases</a> (<a href='https://wandb.me/developer-guide' target=\"_blank\">docs</a>)<br>Sweep page: <a href='https://wandb.ai/ahujavaibhav2001-st-lawrence-college/Truck%20Delay%20Classification/sweeps/9mnowi7x' target=\"_blank\">https://wandb.ai/ahujavaibhav2001-st-lawrence-college/Truck%20Delay%20Classification/sweeps/9mnowi7x</a>"
      ],
      "text/plain": [
       "<IPython.core.display.HTML object>"
      ]
     },
     "metadata": {},
     "output_type": "display_data"
    },
    {
     "data": {
      "text/html": [
       " View project at <a href='https://wandb.ai/ahujavaibhav2001-st-lawrence-college/Truck%20Delay%20Classification' target=\"_blank\">https://wandb.ai/ahujavaibhav2001-st-lawrence-college/Truck%20Delay%20Classification</a>"
      ],
      "text/plain": [
       "<IPython.core.display.HTML object>"
      ]
     },
     "metadata": {},
     "output_type": "display_data"
    },
    {
     "data": {
      "text/html": [
       " View sweep at <a href='https://wandb.ai/ahujavaibhav2001-st-lawrence-college/Truck%20Delay%20Classification/sweeps/9mnowi7x' target=\"_blank\">https://wandb.ai/ahujavaibhav2001-st-lawrence-college/Truck%20Delay%20Classification/sweeps/9mnowi7x</a>"
      ],
      "text/plain": [
       "<IPython.core.display.HTML object>"
      ]
     },
     "metadata": {},
     "output_type": "display_data"
    },
    {
     "data": {
      "text/html": [
       " View run at <a href='https://wandb.ai/ahujavaibhav2001-st-lawrence-college/Truck%20Delay%20Classification/runs/7smg0nv7' target=\"_blank\">https://wandb.ai/ahujavaibhav2001-st-lawrence-college/Truck%20Delay%20Classification/runs/7smg0nv7</a>"
      ],
      "text/plain": [
       "<IPython.core.display.HTML object>"
      ]
     },
     "metadata": {},
     "output_type": "display_data"
    },
    {
     "name": "stdout",
     "output_type": "stream",
     "text": [
      "F1_score Train: 0.9872\n",
      "F1_score Valid: 0.5182\n",
      "F1_score Test: 0.6144\n"
     ]
    },
    {
     "name": "stderr",
     "output_type": "stream",
     "text": [
      "wandb: \n",
      "wandb: Plotting RandomForestClassifier.\n",
      "UserWarning: X does not have valid feature names, but RandomForestClassifier was fitted with feature names\n",
      "wandb: Logged feature importances.\n",
      "wandb: Logged confusion matrix.\n",
      "UserWarning: X does not have valid feature names, but RandomForestClassifier was fitted with feature names\n",
      "wandb: Logged summary metrics.\n",
      "wandb: Logged class proportions.\n",
      "UserWarning: X does not have valid feature names, but RandomForestClassifier was fitted with feature names\n",
      "ConvergenceWarning: lbfgs failed to converge (status=1):\n",
      "STOP: TOTAL NO. of ITERATIONS REACHED LIMIT.\n",
      "\n",
      "Increase the number of iterations (max_iter) or scale the data as shown in:\n",
      "    https://scikit-learn.org/stable/modules/preprocessing.html\n",
      "Please also refer to the documentation for alternative solver options:\n",
      "    https://scikit-learn.org/stable/modules/linear_model.html#logistic-regression\n",
      "wandb: Logged calibration curve.\n",
      "wandb: Logged roc curve.\n",
      "wandb: Logged precision-recall curve.\n"
     ]
    },
    {
     "data": {
      "text/html": [],
      "text/plain": [
       "<IPython.core.display.HTML object>"
      ]
     },
     "metadata": {},
     "output_type": "display_data"
    },
    {
     "data": {
      "text/html": [
       "<br>    <style><br>        .wandb-row {<br>            display: flex;<br>            flex-direction: row;<br>            flex-wrap: wrap;<br>            justify-content: flex-start;<br>            width: 100%;<br>        }<br>        .wandb-col {<br>            display: flex;<br>            flex-direction: column;<br>            flex-basis: 100%;<br>            flex: 1;<br>            padding: 10px;<br>        }<br>    </style><br><div class=\"wandb-row\"><div class=\"wandb-col\"><h3>Run history:</h3><br/><table class=\"wandb\"><tr><td>f1_score</td><td>▁</td></tr><tr><td>f1_score_train</td><td>▁</td></tr><tr><td>f1_score_valid</td><td>▁</td></tr></table><br/></div><div class=\"wandb-col\"><h3>Run summary:</h3><br/><table class=\"wandb\"><tr><td>f1_score</td><td>0.61441</td></tr><tr><td>f1_score_train</td><td>0.9872</td></tr><tr><td>f1_score_valid</td><td>0.51817</td></tr></table><br/></div></div>"
      ],
      "text/plain": [
       "<IPython.core.display.HTML object>"
      ]
     },
     "metadata": {},
     "output_type": "display_data"
    },
    {
     "data": {
      "text/html": [
       " View run <strong style=\"color:#cdcd00\">curious-sweep-3</strong> at: <a href='https://wandb.ai/ahujavaibhav2001-st-lawrence-college/Truck%20Delay%20Classification/runs/7smg0nv7' target=\"_blank\">https://wandb.ai/ahujavaibhav2001-st-lawrence-college/Truck%20Delay%20Classification/runs/7smg0nv7</a><br> View project at: <a href='https://wandb.ai/ahujavaibhav2001-st-lawrence-college/Truck%20Delay%20Classification' target=\"_blank\">https://wandb.ai/ahujavaibhav2001-st-lawrence-college/Truck%20Delay%20Classification</a><br>Synced 5 W&B file(s), 0 media file(s), 16 artifact file(s) and 7 other file(s)"
      ],
      "text/plain": [
       "<IPython.core.display.HTML object>"
      ]
     },
     "metadata": {},
     "output_type": "display_data"
    },
    {
     "data": {
      "text/html": [
       "Find logs at: <code>.\\wandb\\run-20241229_172001-7smg0nv7\\logs</code>"
      ],
      "text/plain": [
       "<IPython.core.display.HTML object>"
      ]
     },
     "metadata": {},
     "output_type": "display_data"
    },
    {
     "name": "stderr",
     "output_type": "stream",
     "text": [
      "wandb: Agent Starting Run: hnt0d1aj with config:\n",
      "wandb: \tmax_depth: None\n",
      "wandb: \tmin_samples_split: 2\n",
      "wandb: \tn_estimators: 20\n",
      "wandb: WARNING Ignoring project 'Truck Delay Classification' when running a sweep.\n"
     ]
    },
    {
     "data": {
      "text/html": [
       "Tracking run with wandb version 0.19.1"
      ],
      "text/plain": [
       "<IPython.core.display.HTML object>"
      ]
     },
     "metadata": {},
     "output_type": "display_data"
    },
    {
     "data": {
      "text/html": [
       "Run data is saved locally in <code>C:\\Users\\ahuja\\wandb\\run-20241229_172011-hnt0d1aj</code>"
      ],
      "text/plain": [
       "<IPython.core.display.HTML object>"
      ]
     },
     "metadata": {},
     "output_type": "display_data"
    },
    {
     "data": {
      "text/html": [
       "Syncing run <strong><a href='https://wandb.ai/ahujavaibhav2001-st-lawrence-college/Truck%20Delay%20Classification/runs/hnt0d1aj' target=\"_blank\">silver-sweep-4</a></strong> to <a href='https://wandb.ai/ahujavaibhav2001-st-lawrence-college/Truck%20Delay%20Classification' target=\"_blank\">Weights & Biases</a> (<a href='https://wandb.me/developer-guide' target=\"_blank\">docs</a>)<br>Sweep page: <a href='https://wandb.ai/ahujavaibhav2001-st-lawrence-college/Truck%20Delay%20Classification/sweeps/9mnowi7x' target=\"_blank\">https://wandb.ai/ahujavaibhav2001-st-lawrence-college/Truck%20Delay%20Classification/sweeps/9mnowi7x</a>"
      ],
      "text/plain": [
       "<IPython.core.display.HTML object>"
      ]
     },
     "metadata": {},
     "output_type": "display_data"
    },
    {
     "data": {
      "text/html": [
       " View project at <a href='https://wandb.ai/ahujavaibhav2001-st-lawrence-college/Truck%20Delay%20Classification' target=\"_blank\">https://wandb.ai/ahujavaibhav2001-st-lawrence-college/Truck%20Delay%20Classification</a>"
      ],
      "text/plain": [
       "<IPython.core.display.HTML object>"
      ]
     },
     "metadata": {},
     "output_type": "display_data"
    },
    {
     "data": {
      "text/html": [
       " View sweep at <a href='https://wandb.ai/ahujavaibhav2001-st-lawrence-college/Truck%20Delay%20Classification/sweeps/9mnowi7x' target=\"_blank\">https://wandb.ai/ahujavaibhav2001-st-lawrence-college/Truck%20Delay%20Classification/sweeps/9mnowi7x</a>"
      ],
      "text/plain": [
       "<IPython.core.display.HTML object>"
      ]
     },
     "metadata": {},
     "output_type": "display_data"
    },
    {
     "data": {
      "text/html": [
       " View run at <a href='https://wandb.ai/ahujavaibhav2001-st-lawrence-college/Truck%20Delay%20Classification/runs/hnt0d1aj' target=\"_blank\">https://wandb.ai/ahujavaibhav2001-st-lawrence-college/Truck%20Delay%20Classification/runs/hnt0d1aj</a>"
      ],
      "text/plain": [
       "<IPython.core.display.HTML object>"
      ]
     },
     "metadata": {},
     "output_type": "display_data"
    },
    {
     "name": "stdout",
     "output_type": "stream",
     "text": [
      "F1_score Train: 0.9926\n",
      "F1_score Valid: 0.526\n",
      "F1_score Test: 0.6245\n"
     ]
    },
    {
     "name": "stderr",
     "output_type": "stream",
     "text": [
      "wandb: \n",
      "wandb: Plotting RandomForestClassifier.\n",
      "UserWarning: X does not have valid feature names, but RandomForestClassifier was fitted with feature names\n",
      "wandb: Logged feature importances.\n",
      "wandb: Logged confusion matrix.\n",
      "UserWarning: X does not have valid feature names, but RandomForestClassifier was fitted with feature names\n",
      "wandb: Logged summary metrics.\n",
      "wandb: Logged class proportions.\n",
      "UserWarning: X does not have valid feature names, but RandomForestClassifier was fitted with feature names\n",
      "ConvergenceWarning: lbfgs failed to converge (status=1):\n",
      "STOP: TOTAL NO. of ITERATIONS REACHED LIMIT.\n",
      "\n",
      "Increase the number of iterations (max_iter) or scale the data as shown in:\n",
      "    https://scikit-learn.org/stable/modules/preprocessing.html\n",
      "Please also refer to the documentation for alternative solver options:\n",
      "    https://scikit-learn.org/stable/modules/linear_model.html#logistic-regression\n",
      "wandb: Logged calibration curve.\n",
      "wandb: Logged roc curve.\n",
      "wandb: Logged precision-recall curve.\n"
     ]
    },
    {
     "data": {
      "text/html": [],
      "text/plain": [
       "<IPython.core.display.HTML object>"
      ]
     },
     "metadata": {},
     "output_type": "display_data"
    },
    {
     "data": {
      "text/html": [
       "<br>    <style><br>        .wandb-row {<br>            display: flex;<br>            flex-direction: row;<br>            flex-wrap: wrap;<br>            justify-content: flex-start;<br>            width: 100%;<br>        }<br>        .wandb-col {<br>            display: flex;<br>            flex-direction: column;<br>            flex-basis: 100%;<br>            flex: 1;<br>            padding: 10px;<br>        }<br>    </style><br><div class=\"wandb-row\"><div class=\"wandb-col\"><h3>Run history:</h3><br/><table class=\"wandb\"><tr><td>f1_score</td><td>▁</td></tr><tr><td>f1_score_train</td><td>▁</td></tr><tr><td>f1_score_valid</td><td>▁</td></tr></table><br/></div><div class=\"wandb-col\"><h3>Run summary:</h3><br/><table class=\"wandb\"><tr><td>f1_score</td><td>0.62451</td></tr><tr><td>f1_score_train</td><td>0.99259</td></tr><tr><td>f1_score_valid</td><td>0.52598</td></tr></table><br/></div></div>"
      ],
      "text/plain": [
       "<IPython.core.display.HTML object>"
      ]
     },
     "metadata": {},
     "output_type": "display_data"
    },
    {
     "data": {
      "text/html": [
       " View run <strong style=\"color:#cdcd00\">silver-sweep-4</strong> at: <a href='https://wandb.ai/ahujavaibhav2001-st-lawrence-college/Truck%20Delay%20Classification/runs/hnt0d1aj' target=\"_blank\">https://wandb.ai/ahujavaibhav2001-st-lawrence-college/Truck%20Delay%20Classification/runs/hnt0d1aj</a><br> View project at: <a href='https://wandb.ai/ahujavaibhav2001-st-lawrence-college/Truck%20Delay%20Classification' target=\"_blank\">https://wandb.ai/ahujavaibhav2001-st-lawrence-college/Truck%20Delay%20Classification</a><br>Synced 5 W&B file(s), 0 media file(s), 16 artifact file(s) and 7 other file(s)"
      ],
      "text/plain": [
       "<IPython.core.display.HTML object>"
      ]
     },
     "metadata": {},
     "output_type": "display_data"
    },
    {
     "data": {
      "text/html": [
       "Find logs at: <code>.\\wandb\\run-20241229_172011-hnt0d1aj\\logs</code>"
      ],
      "text/plain": [
       "<IPython.core.display.HTML object>"
      ]
     },
     "metadata": {},
     "output_type": "display_data"
    },
    {
     "name": "stderr",
     "output_type": "stream",
     "text": [
      "wandb: Agent Starting Run: 46t64y1y with config:\n",
      "wandb: \tmax_depth: None\n",
      "wandb: \tmin_samples_split: 4\n",
      "wandb: \tn_estimators: 8\n",
      "wandb: WARNING Ignoring project 'Truck Delay Classification' when running a sweep.\n"
     ]
    },
    {
     "data": {
      "text/html": [
       "Tracking run with wandb version 0.19.1"
      ],
      "text/plain": [
       "<IPython.core.display.HTML object>"
      ]
     },
     "metadata": {},
     "output_type": "display_data"
    },
    {
     "data": {
      "text/html": [
       "Run data is saved locally in <code>C:\\Users\\ahuja\\wandb\\run-20241229_172022-46t64y1y</code>"
      ],
      "text/plain": [
       "<IPython.core.display.HTML object>"
      ]
     },
     "metadata": {},
     "output_type": "display_data"
    },
    {
     "data": {
      "text/html": [
       "Syncing run <strong><a href='https://wandb.ai/ahujavaibhav2001-st-lawrence-college/Truck%20Delay%20Classification/runs/46t64y1y' target=\"_blank\">fiery-sweep-5</a></strong> to <a href='https://wandb.ai/ahujavaibhav2001-st-lawrence-college/Truck%20Delay%20Classification' target=\"_blank\">Weights & Biases</a> (<a href='https://wandb.me/developer-guide' target=\"_blank\">docs</a>)<br>Sweep page: <a href='https://wandb.ai/ahujavaibhav2001-st-lawrence-college/Truck%20Delay%20Classification/sweeps/9mnowi7x' target=\"_blank\">https://wandb.ai/ahujavaibhav2001-st-lawrence-college/Truck%20Delay%20Classification/sweeps/9mnowi7x</a>"
      ],
      "text/plain": [
       "<IPython.core.display.HTML object>"
      ]
     },
     "metadata": {},
     "output_type": "display_data"
    },
    {
     "data": {
      "text/html": [
       " View project at <a href='https://wandb.ai/ahujavaibhav2001-st-lawrence-college/Truck%20Delay%20Classification' target=\"_blank\">https://wandb.ai/ahujavaibhav2001-st-lawrence-college/Truck%20Delay%20Classification</a>"
      ],
      "text/plain": [
       "<IPython.core.display.HTML object>"
      ]
     },
     "metadata": {},
     "output_type": "display_data"
    },
    {
     "data": {
      "text/html": [
       " View sweep at <a href='https://wandb.ai/ahujavaibhav2001-st-lawrence-college/Truck%20Delay%20Classification/sweeps/9mnowi7x' target=\"_blank\">https://wandb.ai/ahujavaibhav2001-st-lawrence-college/Truck%20Delay%20Classification/sweeps/9mnowi7x</a>"
      ],
      "text/plain": [
       "<IPython.core.display.HTML object>"
      ]
     },
     "metadata": {},
     "output_type": "display_data"
    },
    {
     "data": {
      "text/html": [
       " View run at <a href='https://wandb.ai/ahujavaibhav2001-st-lawrence-college/Truck%20Delay%20Classification/runs/46t64y1y' target=\"_blank\">https://wandb.ai/ahujavaibhav2001-st-lawrence-college/Truck%20Delay%20Classification/runs/46t64y1y</a>"
      ],
      "text/plain": [
       "<IPython.core.display.HTML object>"
      ]
     },
     "metadata": {},
     "output_type": "display_data"
    },
    {
     "name": "stdout",
     "output_type": "stream",
     "text": [
      "F1_score Train: 0.9528\n",
      "F1_score Valid: 0.5234\n",
      "F1_score Test: 0.5981\n"
     ]
    },
    {
     "name": "stderr",
     "output_type": "stream",
     "text": [
      "wandb: \n",
      "wandb: Plotting RandomForestClassifier.\n",
      "UserWarning: X does not have valid feature names, but RandomForestClassifier was fitted with feature names\n",
      "wandb: Logged feature importances.\n",
      "wandb: Logged confusion matrix.\n",
      "UserWarning: X does not have valid feature names, but RandomForestClassifier was fitted with feature names\n",
      "wandb: Logged summary metrics.\n",
      "wandb: Logged class proportions.\n",
      "UserWarning: X does not have valid feature names, but RandomForestClassifier was fitted with feature names\n",
      "ConvergenceWarning: lbfgs failed to converge (status=1):\n",
      "STOP: TOTAL NO. of ITERATIONS REACHED LIMIT.\n",
      "\n",
      "Increase the number of iterations (max_iter) or scale the data as shown in:\n",
      "    https://scikit-learn.org/stable/modules/preprocessing.html\n",
      "Please also refer to the documentation for alternative solver options:\n",
      "    https://scikit-learn.org/stable/modules/linear_model.html#logistic-regression\n",
      "wandb: Logged calibration curve.\n",
      "wandb: Logged roc curve.\n",
      "wandb: Logged precision-recall curve.\n"
     ]
    },
    {
     "data": {
      "text/html": [],
      "text/plain": [
       "<IPython.core.display.HTML object>"
      ]
     },
     "metadata": {},
     "output_type": "display_data"
    },
    {
     "data": {
      "text/html": [
       "<br>    <style><br>        .wandb-row {<br>            display: flex;<br>            flex-direction: row;<br>            flex-wrap: wrap;<br>            justify-content: flex-start;<br>            width: 100%;<br>        }<br>        .wandb-col {<br>            display: flex;<br>            flex-direction: column;<br>            flex-basis: 100%;<br>            flex: 1;<br>            padding: 10px;<br>        }<br>    </style><br><div class=\"wandb-row\"><div class=\"wandb-col\"><h3>Run history:</h3><br/><table class=\"wandb\"><tr><td>f1_score</td><td>▁</td></tr><tr><td>f1_score_train</td><td>▁</td></tr><tr><td>f1_score_valid</td><td>▁</td></tr></table><br/></div><div class=\"wandb-col\"><h3>Run summary:</h3><br/><table class=\"wandb\"><tr><td>f1_score</td><td>0.59813</td></tr><tr><td>f1_score_train</td><td>0.95279</td></tr><tr><td>f1_score_valid</td><td>0.52345</td></tr></table><br/></div></div>"
      ],
      "text/plain": [
       "<IPython.core.display.HTML object>"
      ]
     },
     "metadata": {},
     "output_type": "display_data"
    },
    {
     "data": {
      "text/html": [
       " View run <strong style=\"color:#cdcd00\">fiery-sweep-5</strong> at: <a href='https://wandb.ai/ahujavaibhav2001-st-lawrence-college/Truck%20Delay%20Classification/runs/46t64y1y' target=\"_blank\">https://wandb.ai/ahujavaibhav2001-st-lawrence-college/Truck%20Delay%20Classification/runs/46t64y1y</a><br> View project at: <a href='https://wandb.ai/ahujavaibhav2001-st-lawrence-college/Truck%20Delay%20Classification' target=\"_blank\">https://wandb.ai/ahujavaibhav2001-st-lawrence-college/Truck%20Delay%20Classification</a><br>Synced 5 W&B file(s), 0 media file(s), 16 artifact file(s) and 7 other file(s)"
      ],
      "text/plain": [
       "<IPython.core.display.HTML object>"
      ]
     },
     "metadata": {},
     "output_type": "display_data"
    },
    {
     "data": {
      "text/html": [
       "Find logs at: <code>.\\wandb\\run-20241229_172022-46t64y1y\\logs</code>"
      ],
      "text/plain": [
       "<IPython.core.display.HTML object>"
      ]
     },
     "metadata": {},
     "output_type": "display_data"
    },
    {
     "name": "stderr",
     "output_type": "stream",
     "text": [
      "wandb: Agent Starting Run: 3dyvw5os with config:\n",
      "wandb: \tmax_depth: None\n",
      "wandb: \tmin_samples_split: 4\n",
      "wandb: \tn_estimators: 12\n",
      "wandb: WARNING Ignoring project 'Truck Delay Classification' when running a sweep.\n"
     ]
    },
    {
     "data": {
      "text/html": [
       "Tracking run with wandb version 0.19.1"
      ],
      "text/plain": [
       "<IPython.core.display.HTML object>"
      ]
     },
     "metadata": {},
     "output_type": "display_data"
    },
    {
     "data": {
      "text/html": [
       "Run data is saved locally in <code>C:\\Users\\ahuja\\wandb\\run-20241229_172032-3dyvw5os</code>"
      ],
      "text/plain": [
       "<IPython.core.display.HTML object>"
      ]
     },
     "metadata": {},
     "output_type": "display_data"
    },
    {
     "data": {
      "text/html": [
       "Syncing run <strong><a href='https://wandb.ai/ahujavaibhav2001-st-lawrence-college/Truck%20Delay%20Classification/runs/3dyvw5os' target=\"_blank\">fiery-sweep-6</a></strong> to <a href='https://wandb.ai/ahujavaibhav2001-st-lawrence-college/Truck%20Delay%20Classification' target=\"_blank\">Weights & Biases</a> (<a href='https://wandb.me/developer-guide' target=\"_blank\">docs</a>)<br>Sweep page: <a href='https://wandb.ai/ahujavaibhav2001-st-lawrence-college/Truck%20Delay%20Classification/sweeps/9mnowi7x' target=\"_blank\">https://wandb.ai/ahujavaibhav2001-st-lawrence-college/Truck%20Delay%20Classification/sweeps/9mnowi7x</a>"
      ],
      "text/plain": [
       "<IPython.core.display.HTML object>"
      ]
     },
     "metadata": {},
     "output_type": "display_data"
    },
    {
     "data": {
      "text/html": [
       " View project at <a href='https://wandb.ai/ahujavaibhav2001-st-lawrence-college/Truck%20Delay%20Classification' target=\"_blank\">https://wandb.ai/ahujavaibhav2001-st-lawrence-college/Truck%20Delay%20Classification</a>"
      ],
      "text/plain": [
       "<IPython.core.display.HTML object>"
      ]
     },
     "metadata": {},
     "output_type": "display_data"
    },
    {
     "data": {
      "text/html": [
       " View sweep at <a href='https://wandb.ai/ahujavaibhav2001-st-lawrence-college/Truck%20Delay%20Classification/sweeps/9mnowi7x' target=\"_blank\">https://wandb.ai/ahujavaibhav2001-st-lawrence-college/Truck%20Delay%20Classification/sweeps/9mnowi7x</a>"
      ],
      "text/plain": [
       "<IPython.core.display.HTML object>"
      ]
     },
     "metadata": {},
     "output_type": "display_data"
    },
    {
     "data": {
      "text/html": [
       " View run at <a href='https://wandb.ai/ahujavaibhav2001-st-lawrence-college/Truck%20Delay%20Classification/runs/3dyvw5os' target=\"_blank\">https://wandb.ai/ahujavaibhav2001-st-lawrence-college/Truck%20Delay%20Classification/runs/3dyvw5os</a>"
      ],
      "text/plain": [
       "<IPython.core.display.HTML object>"
      ]
     },
     "metadata": {},
     "output_type": "display_data"
    },
    {
     "name": "stdout",
     "output_type": "stream",
     "text": [
      "F1_score Train: 0.9686\n",
      "F1_score Valid: 0.5628\n",
      "F1_score Test: 0.638\n"
     ]
    },
    {
     "name": "stderr",
     "output_type": "stream",
     "text": [
      "wandb: \n",
      "wandb: Plotting RandomForestClassifier.\n",
      "UserWarning: X does not have valid feature names, but RandomForestClassifier was fitted with feature names\n",
      "wandb: Logged feature importances.\n",
      "wandb: Logged confusion matrix.\n",
      "UserWarning: X does not have valid feature names, but RandomForestClassifier was fitted with feature names\n",
      "wandb: Logged summary metrics.\n",
      "wandb: Logged class proportions.\n",
      "UserWarning: X does not have valid feature names, but RandomForestClassifier was fitted with feature names\n",
      "ConvergenceWarning: lbfgs failed to converge (status=1):\n",
      "STOP: TOTAL NO. of ITERATIONS REACHED LIMIT.\n",
      "\n",
      "Increase the number of iterations (max_iter) or scale the data as shown in:\n",
      "    https://scikit-learn.org/stable/modules/preprocessing.html\n",
      "Please also refer to the documentation for alternative solver options:\n",
      "    https://scikit-learn.org/stable/modules/linear_model.html#logistic-regression\n",
      "wandb: Logged calibration curve.\n",
      "wandb: Logged roc curve.\n",
      "wandb: Logged precision-recall curve.\n"
     ]
    },
    {
     "data": {
      "text/html": [],
      "text/plain": [
       "<IPython.core.display.HTML object>"
      ]
     },
     "metadata": {},
     "output_type": "display_data"
    },
    {
     "data": {
      "text/html": [
       "<br>    <style><br>        .wandb-row {<br>            display: flex;<br>            flex-direction: row;<br>            flex-wrap: wrap;<br>            justify-content: flex-start;<br>            width: 100%;<br>        }<br>        .wandb-col {<br>            display: flex;<br>            flex-direction: column;<br>            flex-basis: 100%;<br>            flex: 1;<br>            padding: 10px;<br>        }<br>    </style><br><div class=\"wandb-row\"><div class=\"wandb-col\"><h3>Run history:</h3><br/><table class=\"wandb\"><tr><td>f1_score</td><td>▁</td></tr><tr><td>f1_score_train</td><td>▁</td></tr><tr><td>f1_score_valid</td><td>▁</td></tr></table><br/></div><div class=\"wandb-col\"><h3>Run summary:</h3><br/><table class=\"wandb\"><tr><td>f1_score</td><td>0.63804</td></tr><tr><td>f1_score_train</td><td>0.96858</td></tr><tr><td>f1_score_valid</td><td>0.56278</td></tr></table><br/></div></div>"
      ],
      "text/plain": [
       "<IPython.core.display.HTML object>"
      ]
     },
     "metadata": {},
     "output_type": "display_data"
    },
    {
     "data": {
      "text/html": [
       " View run <strong style=\"color:#cdcd00\">fiery-sweep-6</strong> at: <a href='https://wandb.ai/ahujavaibhav2001-st-lawrence-college/Truck%20Delay%20Classification/runs/3dyvw5os' target=\"_blank\">https://wandb.ai/ahujavaibhav2001-st-lawrence-college/Truck%20Delay%20Classification/runs/3dyvw5os</a><br> View project at: <a href='https://wandb.ai/ahujavaibhav2001-st-lawrence-college/Truck%20Delay%20Classification' target=\"_blank\">https://wandb.ai/ahujavaibhav2001-st-lawrence-college/Truck%20Delay%20Classification</a><br>Synced 5 W&B file(s), 0 media file(s), 16 artifact file(s) and 7 other file(s)"
      ],
      "text/plain": [
       "<IPython.core.display.HTML object>"
      ]
     },
     "metadata": {},
     "output_type": "display_data"
    },
    {
     "data": {
      "text/html": [
       "Find logs at: <code>.\\wandb\\run-20241229_172032-3dyvw5os\\logs</code>"
      ],
      "text/plain": [
       "<IPython.core.display.HTML object>"
      ]
     },
     "metadata": {},
     "output_type": "display_data"
    },
    {
     "name": "stderr",
     "output_type": "stream",
     "text": [
      "wandb: Agent Starting Run: ary915c5 with config:\n",
      "wandb: \tmax_depth: None\n",
      "wandb: \tmin_samples_split: 4\n",
      "wandb: \tn_estimators: 16\n",
      "wandb: WARNING Ignoring project 'Truck Delay Classification' when running a sweep.\n"
     ]
    },
    {
     "data": {
      "text/html": [
       "Tracking run with wandb version 0.19.1"
      ],
      "text/plain": [
       "<IPython.core.display.HTML object>"
      ]
     },
     "metadata": {},
     "output_type": "display_data"
    },
    {
     "data": {
      "text/html": [
       "Run data is saved locally in <code>C:\\Users\\ahuja\\wandb\\run-20241229_172042-ary915c5</code>"
      ],
      "text/plain": [
       "<IPython.core.display.HTML object>"
      ]
     },
     "metadata": {},
     "output_type": "display_data"
    },
    {
     "data": {
      "text/html": [
       "Syncing run <strong><a href='https://wandb.ai/ahujavaibhav2001-st-lawrence-college/Truck%20Delay%20Classification/runs/ary915c5' target=\"_blank\">serene-sweep-7</a></strong> to <a href='https://wandb.ai/ahujavaibhav2001-st-lawrence-college/Truck%20Delay%20Classification' target=\"_blank\">Weights & Biases</a> (<a href='https://wandb.me/developer-guide' target=\"_blank\">docs</a>)<br>Sweep page: <a href='https://wandb.ai/ahujavaibhav2001-st-lawrence-college/Truck%20Delay%20Classification/sweeps/9mnowi7x' target=\"_blank\">https://wandb.ai/ahujavaibhav2001-st-lawrence-college/Truck%20Delay%20Classification/sweeps/9mnowi7x</a>"
      ],
      "text/plain": [
       "<IPython.core.display.HTML object>"
      ]
     },
     "metadata": {},
     "output_type": "display_data"
    },
    {
     "data": {
      "text/html": [
       " View project at <a href='https://wandb.ai/ahujavaibhav2001-st-lawrence-college/Truck%20Delay%20Classification' target=\"_blank\">https://wandb.ai/ahujavaibhav2001-st-lawrence-college/Truck%20Delay%20Classification</a>"
      ],
      "text/plain": [
       "<IPython.core.display.HTML object>"
      ]
     },
     "metadata": {},
     "output_type": "display_data"
    },
    {
     "data": {
      "text/html": [
       " View sweep at <a href='https://wandb.ai/ahujavaibhav2001-st-lawrence-college/Truck%20Delay%20Classification/sweeps/9mnowi7x' target=\"_blank\">https://wandb.ai/ahujavaibhav2001-st-lawrence-college/Truck%20Delay%20Classification/sweeps/9mnowi7x</a>"
      ],
      "text/plain": [
       "<IPython.core.display.HTML object>"
      ]
     },
     "metadata": {},
     "output_type": "display_data"
    },
    {
     "data": {
      "text/html": [
       " View run at <a href='https://wandb.ai/ahujavaibhav2001-st-lawrence-college/Truck%20Delay%20Classification/runs/ary915c5' target=\"_blank\">https://wandb.ai/ahujavaibhav2001-st-lawrence-college/Truck%20Delay%20Classification/runs/ary915c5</a>"
      ],
      "text/plain": [
       "<IPython.core.display.HTML object>"
      ]
     },
     "metadata": {},
     "output_type": "display_data"
    },
    {
     "name": "stdout",
     "output_type": "stream",
     "text": [
      "F1_score Train: 0.9807\n",
      "F1_score Valid: 0.5811\n",
      "F1_score Test: 0.6539\n"
     ]
    },
    {
     "name": "stderr",
     "output_type": "stream",
     "text": [
      "wandb: \n",
      "wandb: Plotting RandomForestClassifier.\n",
      "UserWarning: X does not have valid feature names, but RandomForestClassifier was fitted with feature names\n",
      "wandb: Logged feature importances.\n",
      "wandb: Logged confusion matrix.\n",
      "UserWarning: X does not have valid feature names, but RandomForestClassifier was fitted with feature names\n",
      "wandb: Logged summary metrics.\n",
      "wandb: Logged class proportions.\n",
      "UserWarning: X does not have valid feature names, but RandomForestClassifier was fitted with feature names\n",
      "ConvergenceWarning: lbfgs failed to converge (status=1):\n",
      "STOP: TOTAL NO. of ITERATIONS REACHED LIMIT.\n",
      "\n",
      "Increase the number of iterations (max_iter) or scale the data as shown in:\n",
      "    https://scikit-learn.org/stable/modules/preprocessing.html\n",
      "Please also refer to the documentation for alternative solver options:\n",
      "    https://scikit-learn.org/stable/modules/linear_model.html#logistic-regression\n",
      "wandb: Logged calibration curve.\n",
      "wandb: Logged roc curve.\n",
      "wandb: Logged precision-recall curve.\n"
     ]
    },
    {
     "data": {
      "text/html": [],
      "text/plain": [
       "<IPython.core.display.HTML object>"
      ]
     },
     "metadata": {},
     "output_type": "display_data"
    },
    {
     "data": {
      "text/html": [
       "<br>    <style><br>        .wandb-row {<br>            display: flex;<br>            flex-direction: row;<br>            flex-wrap: wrap;<br>            justify-content: flex-start;<br>            width: 100%;<br>        }<br>        .wandb-col {<br>            display: flex;<br>            flex-direction: column;<br>            flex-basis: 100%;<br>            flex: 1;<br>            padding: 10px;<br>        }<br>    </style><br><div class=\"wandb-row\"><div class=\"wandb-col\"><h3>Run history:</h3><br/><table class=\"wandb\"><tr><td>f1_score</td><td>▁</td></tr><tr><td>f1_score_train</td><td>▁</td></tr><tr><td>f1_score_valid</td><td>▁</td></tr></table><br/></div><div class=\"wandb-col\"><h3>Run summary:</h3><br/><table class=\"wandb\"><tr><td>f1_score</td><td>0.65393</td></tr><tr><td>f1_score_train</td><td>0.98066</td></tr><tr><td>f1_score_valid</td><td>0.58108</td></tr></table><br/></div></div>"
      ],
      "text/plain": [
       "<IPython.core.display.HTML object>"
      ]
     },
     "metadata": {},
     "output_type": "display_data"
    },
    {
     "data": {
      "text/html": [
       " View run <strong style=\"color:#cdcd00\">serene-sweep-7</strong> at: <a href='https://wandb.ai/ahujavaibhav2001-st-lawrence-college/Truck%20Delay%20Classification/runs/ary915c5' target=\"_blank\">https://wandb.ai/ahujavaibhav2001-st-lawrence-college/Truck%20Delay%20Classification/runs/ary915c5</a><br> View project at: <a href='https://wandb.ai/ahujavaibhav2001-st-lawrence-college/Truck%20Delay%20Classification' target=\"_blank\">https://wandb.ai/ahujavaibhav2001-st-lawrence-college/Truck%20Delay%20Classification</a><br>Synced 5 W&B file(s), 0 media file(s), 16 artifact file(s) and 7 other file(s)"
      ],
      "text/plain": [
       "<IPython.core.display.HTML object>"
      ]
     },
     "metadata": {},
     "output_type": "display_data"
    },
    {
     "data": {
      "text/html": [
       "Find logs at: <code>.\\wandb\\run-20241229_172042-ary915c5\\logs</code>"
      ],
      "text/plain": [
       "<IPython.core.display.HTML object>"
      ]
     },
     "metadata": {},
     "output_type": "display_data"
    },
    {
     "name": "stderr",
     "output_type": "stream",
     "text": [
      "wandb: Agent Starting Run: 42niig9g with config:\n",
      "wandb: \tmax_depth: None\n",
      "wandb: \tmin_samples_split: 4\n",
      "wandb: \tn_estimators: 20\n",
      "wandb: WARNING Ignoring project 'Truck Delay Classification' when running a sweep.\n"
     ]
    },
    {
     "data": {
      "text/html": [
       "Tracking run with wandb version 0.19.1"
      ],
      "text/plain": [
       "<IPython.core.display.HTML object>"
      ]
     },
     "metadata": {},
     "output_type": "display_data"
    },
    {
     "data": {
      "text/html": [
       "Run data is saved locally in <code>C:\\Users\\ahuja\\wandb\\run-20241229_172053-42niig9g</code>"
      ],
      "text/plain": [
       "<IPython.core.display.HTML object>"
      ]
     },
     "metadata": {},
     "output_type": "display_data"
    },
    {
     "data": {
      "text/html": [
       "Syncing run <strong><a href='https://wandb.ai/ahujavaibhav2001-st-lawrence-college/Truck%20Delay%20Classification/runs/42niig9g' target=\"_blank\">vivid-sweep-8</a></strong> to <a href='https://wandb.ai/ahujavaibhav2001-st-lawrence-college/Truck%20Delay%20Classification' target=\"_blank\">Weights & Biases</a> (<a href='https://wandb.me/developer-guide' target=\"_blank\">docs</a>)<br>Sweep page: <a href='https://wandb.ai/ahujavaibhav2001-st-lawrence-college/Truck%20Delay%20Classification/sweeps/9mnowi7x' target=\"_blank\">https://wandb.ai/ahujavaibhav2001-st-lawrence-college/Truck%20Delay%20Classification/sweeps/9mnowi7x</a>"
      ],
      "text/plain": [
       "<IPython.core.display.HTML object>"
      ]
     },
     "metadata": {},
     "output_type": "display_data"
    },
    {
     "data": {
      "text/html": [
       " View project at <a href='https://wandb.ai/ahujavaibhav2001-st-lawrence-college/Truck%20Delay%20Classification' target=\"_blank\">https://wandb.ai/ahujavaibhav2001-st-lawrence-college/Truck%20Delay%20Classification</a>"
      ],
      "text/plain": [
       "<IPython.core.display.HTML object>"
      ]
     },
     "metadata": {},
     "output_type": "display_data"
    },
    {
     "data": {
      "text/html": [
       " View sweep at <a href='https://wandb.ai/ahujavaibhav2001-st-lawrence-college/Truck%20Delay%20Classification/sweeps/9mnowi7x' target=\"_blank\">https://wandb.ai/ahujavaibhav2001-st-lawrence-college/Truck%20Delay%20Classification/sweeps/9mnowi7x</a>"
      ],
      "text/plain": [
       "<IPython.core.display.HTML object>"
      ]
     },
     "metadata": {},
     "output_type": "display_data"
    },
    {
     "data": {
      "text/html": [
       " View run at <a href='https://wandb.ai/ahujavaibhav2001-st-lawrence-college/Truck%20Delay%20Classification/runs/42niig9g' target=\"_blank\">https://wandb.ai/ahujavaibhav2001-st-lawrence-college/Truck%20Delay%20Classification/runs/42niig9g</a>"
      ],
      "text/plain": [
       "<IPython.core.display.HTML object>"
      ]
     },
     "metadata": {},
     "output_type": "display_data"
    },
    {
     "name": "stdout",
     "output_type": "stream",
     "text": [
      "F1_score Train: 0.9886\n",
      "F1_score Valid: 0.5816\n",
      "F1_score Test: 0.6641\n"
     ]
    },
    {
     "name": "stderr",
     "output_type": "stream",
     "text": [
      "wandb: \n",
      "wandb: Plotting RandomForestClassifier.\n",
      "UserWarning: X does not have valid feature names, but RandomForestClassifier was fitted with feature names\n",
      "wandb: Logged feature importances.\n",
      "wandb: Logged confusion matrix.\n",
      "UserWarning: X does not have valid feature names, but RandomForestClassifier was fitted with feature names\n",
      "wandb: Logged summary metrics.\n",
      "wandb: Logged class proportions.\n",
      "UserWarning: X does not have valid feature names, but RandomForestClassifier was fitted with feature names\n",
      "ConvergenceWarning: lbfgs failed to converge (status=1):\n",
      "STOP: TOTAL NO. of ITERATIONS REACHED LIMIT.\n",
      "\n",
      "Increase the number of iterations (max_iter) or scale the data as shown in:\n",
      "    https://scikit-learn.org/stable/modules/preprocessing.html\n",
      "Please also refer to the documentation for alternative solver options:\n",
      "    https://scikit-learn.org/stable/modules/linear_model.html#logistic-regression\n",
      "wandb: Logged calibration curve.\n",
      "wandb: Logged roc curve.\n",
      "wandb: Logged precision-recall curve.\n"
     ]
    },
    {
     "data": {
      "text/html": [],
      "text/plain": [
       "<IPython.core.display.HTML object>"
      ]
     },
     "metadata": {},
     "output_type": "display_data"
    },
    {
     "data": {
      "text/html": [
       "<br>    <style><br>        .wandb-row {<br>            display: flex;<br>            flex-direction: row;<br>            flex-wrap: wrap;<br>            justify-content: flex-start;<br>            width: 100%;<br>        }<br>        .wandb-col {<br>            display: flex;<br>            flex-direction: column;<br>            flex-basis: 100%;<br>            flex: 1;<br>            padding: 10px;<br>        }<br>    </style><br><div class=\"wandb-row\"><div class=\"wandb-col\"><h3>Run history:</h3><br/><table class=\"wandb\"><tr><td>f1_score</td><td>▁</td></tr><tr><td>f1_score_train</td><td>▁</td></tr><tr><td>f1_score_valid</td><td>▁</td></tr></table><br/></div><div class=\"wandb-col\"><h3>Run summary:</h3><br/><table class=\"wandb\"><tr><td>f1_score</td><td>0.66412</td></tr><tr><td>f1_score_train</td><td>0.98859</td></tr><tr><td>f1_score_valid</td><td>0.58157</td></tr></table><br/></div></div>"
      ],
      "text/plain": [
       "<IPython.core.display.HTML object>"
      ]
     },
     "metadata": {},
     "output_type": "display_data"
    },
    {
     "data": {
      "text/html": [
       " View run <strong style=\"color:#cdcd00\">vivid-sweep-8</strong> at: <a href='https://wandb.ai/ahujavaibhav2001-st-lawrence-college/Truck%20Delay%20Classification/runs/42niig9g' target=\"_blank\">https://wandb.ai/ahujavaibhav2001-st-lawrence-college/Truck%20Delay%20Classification/runs/42niig9g</a><br> View project at: <a href='https://wandb.ai/ahujavaibhav2001-st-lawrence-college/Truck%20Delay%20Classification' target=\"_blank\">https://wandb.ai/ahujavaibhav2001-st-lawrence-college/Truck%20Delay%20Classification</a><br>Synced 5 W&B file(s), 0 media file(s), 16 artifact file(s) and 7 other file(s)"
      ],
      "text/plain": [
       "<IPython.core.display.HTML object>"
      ]
     },
     "metadata": {},
     "output_type": "display_data"
    },
    {
     "data": {
      "text/html": [
       "Find logs at: <code>.\\wandb\\run-20241229_172053-42niig9g\\logs</code>"
      ],
      "text/plain": [
       "<IPython.core.display.HTML object>"
      ]
     },
     "metadata": {},
     "output_type": "display_data"
    },
    {
     "name": "stderr",
     "output_type": "stream",
     "text": [
      "wandb: Agent Starting Run: fffub3o0 with config:\n",
      "wandb: \tmax_depth: None\n",
      "wandb: \tmin_samples_split: 8\n",
      "wandb: \tn_estimators: 8\n",
      "wandb: WARNING Ignoring project 'Truck Delay Classification' when running a sweep.\n"
     ]
    },
    {
     "data": {
      "text/html": [
       "Tracking run with wandb version 0.19.1"
      ],
      "text/plain": [
       "<IPython.core.display.HTML object>"
      ]
     },
     "metadata": {},
     "output_type": "display_data"
    },
    {
     "data": {
      "text/html": [
       "Run data is saved locally in <code>C:\\Users\\ahuja\\wandb\\run-20241229_172103-fffub3o0</code>"
      ],
      "text/plain": [
       "<IPython.core.display.HTML object>"
      ]
     },
     "metadata": {},
     "output_type": "display_data"
    },
    {
     "data": {
      "text/html": [
       "Syncing run <strong><a href='https://wandb.ai/ahujavaibhav2001-st-lawrence-college/Truck%20Delay%20Classification/runs/fffub3o0' target=\"_blank\">comic-sweep-9</a></strong> to <a href='https://wandb.ai/ahujavaibhav2001-st-lawrence-college/Truck%20Delay%20Classification' target=\"_blank\">Weights & Biases</a> (<a href='https://wandb.me/developer-guide' target=\"_blank\">docs</a>)<br>Sweep page: <a href='https://wandb.ai/ahujavaibhav2001-st-lawrence-college/Truck%20Delay%20Classification/sweeps/9mnowi7x' target=\"_blank\">https://wandb.ai/ahujavaibhav2001-st-lawrence-college/Truck%20Delay%20Classification/sweeps/9mnowi7x</a>"
      ],
      "text/plain": [
       "<IPython.core.display.HTML object>"
      ]
     },
     "metadata": {},
     "output_type": "display_data"
    },
    {
     "data": {
      "text/html": [
       " View project at <a href='https://wandb.ai/ahujavaibhav2001-st-lawrence-college/Truck%20Delay%20Classification' target=\"_blank\">https://wandb.ai/ahujavaibhav2001-st-lawrence-college/Truck%20Delay%20Classification</a>"
      ],
      "text/plain": [
       "<IPython.core.display.HTML object>"
      ]
     },
     "metadata": {},
     "output_type": "display_data"
    },
    {
     "data": {
      "text/html": [
       " View sweep at <a href='https://wandb.ai/ahujavaibhav2001-st-lawrence-college/Truck%20Delay%20Classification/sweeps/9mnowi7x' target=\"_blank\">https://wandb.ai/ahujavaibhav2001-st-lawrence-college/Truck%20Delay%20Classification/sweeps/9mnowi7x</a>"
      ],
      "text/plain": [
       "<IPython.core.display.HTML object>"
      ]
     },
     "metadata": {},
     "output_type": "display_data"
    },
    {
     "data": {
      "text/html": [
       " View run at <a href='https://wandb.ai/ahujavaibhav2001-st-lawrence-college/Truck%20Delay%20Classification/runs/fffub3o0' target=\"_blank\">https://wandb.ai/ahujavaibhav2001-st-lawrence-college/Truck%20Delay%20Classification/runs/fffub3o0</a>"
      ],
      "text/plain": [
       "<IPython.core.display.HTML object>"
      ]
     },
     "metadata": {},
     "output_type": "display_data"
    },
    {
     "name": "stdout",
     "output_type": "stream",
     "text": [
      "F1_score Train: 0.9273\n",
      "F1_score Valid: 0.5517\n",
      "F1_score Test: 0.6738\n"
     ]
    },
    {
     "name": "stderr",
     "output_type": "stream",
     "text": [
      "wandb: \n",
      "wandb: Plotting RandomForestClassifier.\n",
      "UserWarning: X does not have valid feature names, but RandomForestClassifier was fitted with feature names\n",
      "wandb: Logged feature importances.\n",
      "wandb: Logged confusion matrix.\n",
      "UserWarning: X does not have valid feature names, but RandomForestClassifier was fitted with feature names\n",
      "wandb: Logged summary metrics.\n",
      "wandb: Logged class proportions.\n",
      "UserWarning: X does not have valid feature names, but RandomForestClassifier was fitted with feature names\n",
      "ConvergenceWarning: lbfgs failed to converge (status=1):\n",
      "STOP: TOTAL NO. of ITERATIONS REACHED LIMIT.\n",
      "\n",
      "Increase the number of iterations (max_iter) or scale the data as shown in:\n",
      "    https://scikit-learn.org/stable/modules/preprocessing.html\n",
      "Please also refer to the documentation for alternative solver options:\n",
      "    https://scikit-learn.org/stable/modules/linear_model.html#logistic-regression\n",
      "wandb: Logged calibration curve.\n",
      "wandb: Logged roc curve.\n",
      "wandb: Logged precision-recall curve.\n"
     ]
    },
    {
     "data": {
      "text/html": [],
      "text/plain": [
       "<IPython.core.display.HTML object>"
      ]
     },
     "metadata": {},
     "output_type": "display_data"
    },
    {
     "data": {
      "text/html": [
       "<br>    <style><br>        .wandb-row {<br>            display: flex;<br>            flex-direction: row;<br>            flex-wrap: wrap;<br>            justify-content: flex-start;<br>            width: 100%;<br>        }<br>        .wandb-col {<br>            display: flex;<br>            flex-direction: column;<br>            flex-basis: 100%;<br>            flex: 1;<br>            padding: 10px;<br>        }<br>    </style><br><div class=\"wandb-row\"><div class=\"wandb-col\"><h3>Run history:</h3><br/><table class=\"wandb\"><tr><td>f1_score</td><td>▁</td></tr><tr><td>f1_score_train</td><td>▁</td></tr><tr><td>f1_score_valid</td><td>▁</td></tr></table><br/></div><div class=\"wandb-col\"><h3>Run summary:</h3><br/><table class=\"wandb\"><tr><td>f1_score</td><td>0.67376</td></tr><tr><td>f1_score_train</td><td>0.92731</td></tr><tr><td>f1_score_valid</td><td>0.55168</td></tr></table><br/></div></div>"
      ],
      "text/plain": [
       "<IPython.core.display.HTML object>"
      ]
     },
     "metadata": {},
     "output_type": "display_data"
    },
    {
     "data": {
      "text/html": [
       " View run <strong style=\"color:#cdcd00\">comic-sweep-9</strong> at: <a href='https://wandb.ai/ahujavaibhav2001-st-lawrence-college/Truck%20Delay%20Classification/runs/fffub3o0' target=\"_blank\">https://wandb.ai/ahujavaibhav2001-st-lawrence-college/Truck%20Delay%20Classification/runs/fffub3o0</a><br> View project at: <a href='https://wandb.ai/ahujavaibhav2001-st-lawrence-college/Truck%20Delay%20Classification' target=\"_blank\">https://wandb.ai/ahujavaibhav2001-st-lawrence-college/Truck%20Delay%20Classification</a><br>Synced 5 W&B file(s), 0 media file(s), 16 artifact file(s) and 7 other file(s)"
      ],
      "text/plain": [
       "<IPython.core.display.HTML object>"
      ]
     },
     "metadata": {},
     "output_type": "display_data"
    },
    {
     "data": {
      "text/html": [
       "Find logs at: <code>.\\wandb\\run-20241229_172103-fffub3o0\\logs</code>"
      ],
      "text/plain": [
       "<IPython.core.display.HTML object>"
      ]
     },
     "metadata": {},
     "output_type": "display_data"
    },
    {
     "name": "stderr",
     "output_type": "stream",
     "text": [
      "wandb: Agent Starting Run: 70onpre9 with config:\n",
      "wandb: \tmax_depth: None\n",
      "wandb: \tmin_samples_split: 8\n",
      "wandb: \tn_estimators: 12\n",
      "wandb: WARNING Ignoring project 'Truck Delay Classification' when running a sweep.\n"
     ]
    },
    {
     "data": {
      "text/html": [
       "Tracking run with wandb version 0.19.1"
      ],
      "text/plain": [
       "<IPython.core.display.HTML object>"
      ]
     },
     "metadata": {},
     "output_type": "display_data"
    },
    {
     "data": {
      "text/html": [
       "Run data is saved locally in <code>C:\\Users\\ahuja\\wandb\\run-20241229_172113-70onpre9</code>"
      ],
      "text/plain": [
       "<IPython.core.display.HTML object>"
      ]
     },
     "metadata": {},
     "output_type": "display_data"
    },
    {
     "data": {
      "text/html": [
       "Syncing run <strong><a href='https://wandb.ai/ahujavaibhav2001-st-lawrence-college/Truck%20Delay%20Classification/runs/70onpre9' target=\"_blank\">stellar-sweep-10</a></strong> to <a href='https://wandb.ai/ahujavaibhav2001-st-lawrence-college/Truck%20Delay%20Classification' target=\"_blank\">Weights & Biases</a> (<a href='https://wandb.me/developer-guide' target=\"_blank\">docs</a>)<br>Sweep page: <a href='https://wandb.ai/ahujavaibhav2001-st-lawrence-college/Truck%20Delay%20Classification/sweeps/9mnowi7x' target=\"_blank\">https://wandb.ai/ahujavaibhav2001-st-lawrence-college/Truck%20Delay%20Classification/sweeps/9mnowi7x</a>"
      ],
      "text/plain": [
       "<IPython.core.display.HTML object>"
      ]
     },
     "metadata": {},
     "output_type": "display_data"
    },
    {
     "data": {
      "text/html": [
       " View project at <a href='https://wandb.ai/ahujavaibhav2001-st-lawrence-college/Truck%20Delay%20Classification' target=\"_blank\">https://wandb.ai/ahujavaibhav2001-st-lawrence-college/Truck%20Delay%20Classification</a>"
      ],
      "text/plain": [
       "<IPython.core.display.HTML object>"
      ]
     },
     "metadata": {},
     "output_type": "display_data"
    },
    {
     "data": {
      "text/html": [
       " View sweep at <a href='https://wandb.ai/ahujavaibhav2001-st-lawrence-college/Truck%20Delay%20Classification/sweeps/9mnowi7x' target=\"_blank\">https://wandb.ai/ahujavaibhav2001-st-lawrence-college/Truck%20Delay%20Classification/sweeps/9mnowi7x</a>"
      ],
      "text/plain": [
       "<IPython.core.display.HTML object>"
      ]
     },
     "metadata": {},
     "output_type": "display_data"
    },
    {
     "data": {
      "text/html": [
       " View run at <a href='https://wandb.ai/ahujavaibhav2001-st-lawrence-college/Truck%20Delay%20Classification/runs/70onpre9' target=\"_blank\">https://wandb.ai/ahujavaibhav2001-st-lawrence-college/Truck%20Delay%20Classification/runs/70onpre9</a>"
      ],
      "text/plain": [
       "<IPython.core.display.HTML object>"
      ]
     },
     "metadata": {},
     "output_type": "display_data"
    },
    {
     "name": "stdout",
     "output_type": "stream",
     "text": [
      "F1_score Train: 0.9502\n",
      "F1_score Valid: 0.5776\n",
      "F1_score Test: 0.6812\n"
     ]
    },
    {
     "name": "stderr",
     "output_type": "stream",
     "text": [
      "wandb: \n",
      "wandb: Plotting RandomForestClassifier.\n",
      "UserWarning: X does not have valid feature names, but RandomForestClassifier was fitted with feature names\n",
      "wandb: Logged feature importances.\n",
      "wandb: Logged confusion matrix.\n",
      "UserWarning: X does not have valid feature names, but RandomForestClassifier was fitted with feature names\n",
      "wandb: Logged summary metrics.\n",
      "wandb: Logged class proportions.\n",
      "UserWarning: X does not have valid feature names, but RandomForestClassifier was fitted with feature names\n",
      "ConvergenceWarning: lbfgs failed to converge (status=1):\n",
      "STOP: TOTAL NO. of ITERATIONS REACHED LIMIT.\n",
      "\n",
      "Increase the number of iterations (max_iter) or scale the data as shown in:\n",
      "    https://scikit-learn.org/stable/modules/preprocessing.html\n",
      "Please also refer to the documentation for alternative solver options:\n",
      "    https://scikit-learn.org/stable/modules/linear_model.html#logistic-regression\n",
      "wandb: Logged calibration curve.\n",
      "wandb: Logged roc curve.\n",
      "wandb: Logged precision-recall curve.\n"
     ]
    },
    {
     "data": {
      "text/html": [],
      "text/plain": [
       "<IPython.core.display.HTML object>"
      ]
     },
     "metadata": {},
     "output_type": "display_data"
    },
    {
     "data": {
      "text/html": [
       "<br>    <style><br>        .wandb-row {<br>            display: flex;<br>            flex-direction: row;<br>            flex-wrap: wrap;<br>            justify-content: flex-start;<br>            width: 100%;<br>        }<br>        .wandb-col {<br>            display: flex;<br>            flex-direction: column;<br>            flex-basis: 100%;<br>            flex: 1;<br>            padding: 10px;<br>        }<br>    </style><br><div class=\"wandb-row\"><div class=\"wandb-col\"><h3>Run history:</h3><br/><table class=\"wandb\"><tr><td>f1_score</td><td>▁</td></tr><tr><td>f1_score_train</td><td>▁</td></tr><tr><td>f1_score_valid</td><td>▁</td></tr></table><br/></div><div class=\"wandb-col\"><h3>Run summary:</h3><br/><table class=\"wandb\"><tr><td>f1_score</td><td>0.68119</td></tr><tr><td>f1_score_train</td><td>0.95021</td></tr><tr><td>f1_score_valid</td><td>0.57756</td></tr></table><br/></div></div>"
      ],
      "text/plain": [
       "<IPython.core.display.HTML object>"
      ]
     },
     "metadata": {},
     "output_type": "display_data"
    },
    {
     "data": {
      "text/html": [
       " View run <strong style=\"color:#cdcd00\">stellar-sweep-10</strong> at: <a href='https://wandb.ai/ahujavaibhav2001-st-lawrence-college/Truck%20Delay%20Classification/runs/70onpre9' target=\"_blank\">https://wandb.ai/ahujavaibhav2001-st-lawrence-college/Truck%20Delay%20Classification/runs/70onpre9</a><br> View project at: <a href='https://wandb.ai/ahujavaibhav2001-st-lawrence-college/Truck%20Delay%20Classification' target=\"_blank\">https://wandb.ai/ahujavaibhav2001-st-lawrence-college/Truck%20Delay%20Classification</a><br>Synced 5 W&B file(s), 0 media file(s), 16 artifact file(s) and 7 other file(s)"
      ],
      "text/plain": [
       "<IPython.core.display.HTML object>"
      ]
     },
     "metadata": {},
     "output_type": "display_data"
    },
    {
     "data": {
      "text/html": [
       "Find logs at: <code>.\\wandb\\run-20241229_172113-70onpre9\\logs</code>"
      ],
      "text/plain": [
       "<IPython.core.display.HTML object>"
      ]
     },
     "metadata": {},
     "output_type": "display_data"
    },
    {
     "name": "stderr",
     "output_type": "stream",
     "text": [
      "wandb: Agent Starting Run: 82ny0ukq with config:\n",
      "wandb: \tmax_depth: None\n",
      "wandb: \tmin_samples_split: 8\n",
      "wandb: \tn_estimators: 16\n",
      "wandb: WARNING Ignoring project 'Truck Delay Classification' when running a sweep.\n"
     ]
    },
    {
     "data": {
      "text/html": [
       "Tracking run with wandb version 0.19.1"
      ],
      "text/plain": [
       "<IPython.core.display.HTML object>"
      ]
     },
     "metadata": {},
     "output_type": "display_data"
    },
    {
     "data": {
      "text/html": [
       "Run data is saved locally in <code>C:\\Users\\ahuja\\wandb\\run-20241229_172123-82ny0ukq</code>"
      ],
      "text/plain": [
       "<IPython.core.display.HTML object>"
      ]
     },
     "metadata": {},
     "output_type": "display_data"
    },
    {
     "data": {
      "text/html": [
       "Syncing run <strong><a href='https://wandb.ai/ahujavaibhav2001-st-lawrence-college/Truck%20Delay%20Classification/runs/82ny0ukq' target=\"_blank\">light-sweep-11</a></strong> to <a href='https://wandb.ai/ahujavaibhav2001-st-lawrence-college/Truck%20Delay%20Classification' target=\"_blank\">Weights & Biases</a> (<a href='https://wandb.me/developer-guide' target=\"_blank\">docs</a>)<br>Sweep page: <a href='https://wandb.ai/ahujavaibhav2001-st-lawrence-college/Truck%20Delay%20Classification/sweeps/9mnowi7x' target=\"_blank\">https://wandb.ai/ahujavaibhav2001-st-lawrence-college/Truck%20Delay%20Classification/sweeps/9mnowi7x</a>"
      ],
      "text/plain": [
       "<IPython.core.display.HTML object>"
      ]
     },
     "metadata": {},
     "output_type": "display_data"
    },
    {
     "data": {
      "text/html": [
       " View project at <a href='https://wandb.ai/ahujavaibhav2001-st-lawrence-college/Truck%20Delay%20Classification' target=\"_blank\">https://wandb.ai/ahujavaibhav2001-st-lawrence-college/Truck%20Delay%20Classification</a>"
      ],
      "text/plain": [
       "<IPython.core.display.HTML object>"
      ]
     },
     "metadata": {},
     "output_type": "display_data"
    },
    {
     "data": {
      "text/html": [
       " View sweep at <a href='https://wandb.ai/ahujavaibhav2001-st-lawrence-college/Truck%20Delay%20Classification/sweeps/9mnowi7x' target=\"_blank\">https://wandb.ai/ahujavaibhav2001-st-lawrence-college/Truck%20Delay%20Classification/sweeps/9mnowi7x</a>"
      ],
      "text/plain": [
       "<IPython.core.display.HTML object>"
      ]
     },
     "metadata": {},
     "output_type": "display_data"
    },
    {
     "data": {
      "text/html": [
       " View run at <a href='https://wandb.ai/ahujavaibhav2001-st-lawrence-college/Truck%20Delay%20Classification/runs/82ny0ukq' target=\"_blank\">https://wandb.ai/ahujavaibhav2001-st-lawrence-college/Truck%20Delay%20Classification/runs/82ny0ukq</a>"
      ],
      "text/plain": [
       "<IPython.core.display.HTML object>"
      ]
     },
     "metadata": {},
     "output_type": "display_data"
    },
    {
     "name": "stdout",
     "output_type": "stream",
     "text": [
      "F1_score Train: 0.9585\n",
      "F1_score Valid: 0.5949\n",
      "F1_score Test: 0.6965\n"
     ]
    },
    {
     "name": "stderr",
     "output_type": "stream",
     "text": [
      "wandb: \n",
      "wandb: Plotting RandomForestClassifier.\n",
      "UserWarning: X does not have valid feature names, but RandomForestClassifier was fitted with feature names\n",
      "wandb: Logged feature importances.\n",
      "wandb: Logged confusion matrix.\n",
      "UserWarning: X does not have valid feature names, but RandomForestClassifier was fitted with feature names\n",
      "wandb: Logged summary metrics.\n",
      "wandb: Logged class proportions.\n",
      "UserWarning: X does not have valid feature names, but RandomForestClassifier was fitted with feature names\n",
      "ConvergenceWarning: lbfgs failed to converge (status=1):\n",
      "STOP: TOTAL NO. of ITERATIONS REACHED LIMIT.\n",
      "\n",
      "Increase the number of iterations (max_iter) or scale the data as shown in:\n",
      "    https://scikit-learn.org/stable/modules/preprocessing.html\n",
      "Please also refer to the documentation for alternative solver options:\n",
      "    https://scikit-learn.org/stable/modules/linear_model.html#logistic-regression\n",
      "wandb: Logged calibration curve.\n",
      "wandb: Logged roc curve.\n",
      "wandb: Logged precision-recall curve.\n"
     ]
    },
    {
     "data": {
      "text/html": [],
      "text/plain": [
       "<IPython.core.display.HTML object>"
      ]
     },
     "metadata": {},
     "output_type": "display_data"
    },
    {
     "data": {
      "text/html": [
       "<br>    <style><br>        .wandb-row {<br>            display: flex;<br>            flex-direction: row;<br>            flex-wrap: wrap;<br>            justify-content: flex-start;<br>            width: 100%;<br>        }<br>        .wandb-col {<br>            display: flex;<br>            flex-direction: column;<br>            flex-basis: 100%;<br>            flex: 1;<br>            padding: 10px;<br>        }<br>    </style><br><div class=\"wandb-row\"><div class=\"wandb-col\"><h3>Run history:</h3><br/><table class=\"wandb\"><tr><td>f1_score</td><td>▁</td></tr><tr><td>f1_score_train</td><td>▁</td></tr><tr><td>f1_score_valid</td><td>▁</td></tr></table><br/></div><div class=\"wandb-col\"><h3>Run summary:</h3><br/><table class=\"wandb\"><tr><td>f1_score</td><td>0.69647</td></tr><tr><td>f1_score_train</td><td>0.95848</td></tr><tr><td>f1_score_valid</td><td>0.59495</td></tr></table><br/></div></div>"
      ],
      "text/plain": [
       "<IPython.core.display.HTML object>"
      ]
     },
     "metadata": {},
     "output_type": "display_data"
    },
    {
     "data": {
      "text/html": [
       " View run <strong style=\"color:#cdcd00\">light-sweep-11</strong> at: <a href='https://wandb.ai/ahujavaibhav2001-st-lawrence-college/Truck%20Delay%20Classification/runs/82ny0ukq' target=\"_blank\">https://wandb.ai/ahujavaibhav2001-st-lawrence-college/Truck%20Delay%20Classification/runs/82ny0ukq</a><br> View project at: <a href='https://wandb.ai/ahujavaibhav2001-st-lawrence-college/Truck%20Delay%20Classification' target=\"_blank\">https://wandb.ai/ahujavaibhav2001-st-lawrence-college/Truck%20Delay%20Classification</a><br>Synced 5 W&B file(s), 0 media file(s), 16 artifact file(s) and 7 other file(s)"
      ],
      "text/plain": [
       "<IPython.core.display.HTML object>"
      ]
     },
     "metadata": {},
     "output_type": "display_data"
    },
    {
     "data": {
      "text/html": [
       "Find logs at: <code>.\\wandb\\run-20241229_172123-82ny0ukq\\logs</code>"
      ],
      "text/plain": [
       "<IPython.core.display.HTML object>"
      ]
     },
     "metadata": {},
     "output_type": "display_data"
    },
    {
     "name": "stderr",
     "output_type": "stream",
     "text": [
      "wandb: Agent Starting Run: 2oqeunna with config:\n",
      "wandb: \tmax_depth: None\n",
      "wandb: \tmin_samples_split: 8\n",
      "wandb: \tn_estimators: 20\n",
      "wandb: WARNING Ignoring project 'Truck Delay Classification' when running a sweep.\n"
     ]
    },
    {
     "data": {
      "text/html": [
       "Tracking run with wandb version 0.19.1"
      ],
      "text/plain": [
       "<IPython.core.display.HTML object>"
      ]
     },
     "metadata": {},
     "output_type": "display_data"
    },
    {
     "data": {
      "text/html": [
       "Run data is saved locally in <code>C:\\Users\\ahuja\\wandb\\run-20241229_172134-2oqeunna</code>"
      ],
      "text/plain": [
       "<IPython.core.display.HTML object>"
      ]
     },
     "metadata": {},
     "output_type": "display_data"
    },
    {
     "data": {
      "text/html": [
       "Syncing run <strong><a href='https://wandb.ai/ahujavaibhav2001-st-lawrence-college/Truck%20Delay%20Classification/runs/2oqeunna' target=\"_blank\">comic-sweep-12</a></strong> to <a href='https://wandb.ai/ahujavaibhav2001-st-lawrence-college/Truck%20Delay%20Classification' target=\"_blank\">Weights & Biases</a> (<a href='https://wandb.me/developer-guide' target=\"_blank\">docs</a>)<br>Sweep page: <a href='https://wandb.ai/ahujavaibhav2001-st-lawrence-college/Truck%20Delay%20Classification/sweeps/9mnowi7x' target=\"_blank\">https://wandb.ai/ahujavaibhav2001-st-lawrence-college/Truck%20Delay%20Classification/sweeps/9mnowi7x</a>"
      ],
      "text/plain": [
       "<IPython.core.display.HTML object>"
      ]
     },
     "metadata": {},
     "output_type": "display_data"
    },
    {
     "data": {
      "text/html": [
       " View project at <a href='https://wandb.ai/ahujavaibhav2001-st-lawrence-college/Truck%20Delay%20Classification' target=\"_blank\">https://wandb.ai/ahujavaibhav2001-st-lawrence-college/Truck%20Delay%20Classification</a>"
      ],
      "text/plain": [
       "<IPython.core.display.HTML object>"
      ]
     },
     "metadata": {},
     "output_type": "display_data"
    },
    {
     "data": {
      "text/html": [
       " View sweep at <a href='https://wandb.ai/ahujavaibhav2001-st-lawrence-college/Truck%20Delay%20Classification/sweeps/9mnowi7x' target=\"_blank\">https://wandb.ai/ahujavaibhav2001-st-lawrence-college/Truck%20Delay%20Classification/sweeps/9mnowi7x</a>"
      ],
      "text/plain": [
       "<IPython.core.display.HTML object>"
      ]
     },
     "metadata": {},
     "output_type": "display_data"
    },
    {
     "data": {
      "text/html": [
       " View run at <a href='https://wandb.ai/ahujavaibhav2001-st-lawrence-college/Truck%20Delay%20Classification/runs/2oqeunna' target=\"_blank\">https://wandb.ai/ahujavaibhav2001-st-lawrence-college/Truck%20Delay%20Classification/runs/2oqeunna</a>"
      ],
      "text/plain": [
       "<IPython.core.display.HTML object>"
      ]
     },
     "metadata": {},
     "output_type": "display_data"
    },
    {
     "name": "stdout",
     "output_type": "stream",
     "text": [
      "F1_score Train: 0.9665\n",
      "F1_score Valid: 0.6103\n",
      "F1_score Test: 0.6976\n"
     ]
    },
    {
     "name": "stderr",
     "output_type": "stream",
     "text": [
      "wandb: \n",
      "wandb: Plotting RandomForestClassifier.\n",
      "UserWarning: X does not have valid feature names, but RandomForestClassifier was fitted with feature names\n",
      "wandb: Logged feature importances.\n",
      "wandb: Logged confusion matrix.\n",
      "UserWarning: X does not have valid feature names, but RandomForestClassifier was fitted with feature names\n",
      "wandb: Logged summary metrics.\n",
      "wandb: Logged class proportions.\n",
      "UserWarning: X does not have valid feature names, but RandomForestClassifier was fitted with feature names\n",
      "ConvergenceWarning: lbfgs failed to converge (status=1):\n",
      "STOP: TOTAL NO. of ITERATIONS REACHED LIMIT.\n",
      "\n",
      "Increase the number of iterations (max_iter) or scale the data as shown in:\n",
      "    https://scikit-learn.org/stable/modules/preprocessing.html\n",
      "Please also refer to the documentation for alternative solver options:\n",
      "    https://scikit-learn.org/stable/modules/linear_model.html#logistic-regression\n",
      "wandb: Logged calibration curve.\n",
      "wandb: Logged roc curve.\n",
      "wandb: Logged precision-recall curve.\n"
     ]
    },
    {
     "data": {
      "text/html": [],
      "text/plain": [
       "<IPython.core.display.HTML object>"
      ]
     },
     "metadata": {},
     "output_type": "display_data"
    },
    {
     "data": {
      "text/html": [
       "<br>    <style><br>        .wandb-row {<br>            display: flex;<br>            flex-direction: row;<br>            flex-wrap: wrap;<br>            justify-content: flex-start;<br>            width: 100%;<br>        }<br>        .wandb-col {<br>            display: flex;<br>            flex-direction: column;<br>            flex-basis: 100%;<br>            flex: 1;<br>            padding: 10px;<br>        }<br>    </style><br><div class=\"wandb-row\"><div class=\"wandb-col\"><h3>Run history:</h3><br/><table class=\"wandb\"><tr><td>f1_score</td><td>▁</td></tr><tr><td>f1_score_train</td><td>▁</td></tr><tr><td>f1_score_valid</td><td>▁</td></tr></table><br/></div><div class=\"wandb-col\"><h3>Run summary:</h3><br/><table class=\"wandb\"><tr><td>f1_score</td><td>0.69761</td></tr><tr><td>f1_score_train</td><td>0.96646</td></tr><tr><td>f1_score_valid</td><td>0.61032</td></tr></table><br/></div></div>"
      ],
      "text/plain": [
       "<IPython.core.display.HTML object>"
      ]
     },
     "metadata": {},
     "output_type": "display_data"
    },
    {
     "data": {
      "text/html": [
       " View run <strong style=\"color:#cdcd00\">comic-sweep-12</strong> at: <a href='https://wandb.ai/ahujavaibhav2001-st-lawrence-college/Truck%20Delay%20Classification/runs/2oqeunna' target=\"_blank\">https://wandb.ai/ahujavaibhav2001-st-lawrence-college/Truck%20Delay%20Classification/runs/2oqeunna</a><br> View project at: <a href='https://wandb.ai/ahujavaibhav2001-st-lawrence-college/Truck%20Delay%20Classification' target=\"_blank\">https://wandb.ai/ahujavaibhav2001-st-lawrence-college/Truck%20Delay%20Classification</a><br>Synced 5 W&B file(s), 0 media file(s), 16 artifact file(s) and 7 other file(s)"
      ],
      "text/plain": [
       "<IPython.core.display.HTML object>"
      ]
     },
     "metadata": {},
     "output_type": "display_data"
    },
    {
     "data": {
      "text/html": [
       "Find logs at: <code>.\\wandb\\run-20241229_172134-2oqeunna\\logs</code>"
      ],
      "text/plain": [
       "<IPython.core.display.HTML object>"
      ]
     },
     "metadata": {},
     "output_type": "display_data"
    },
    {
     "name": "stderr",
     "output_type": "stream",
     "text": [
      "wandb: Agent Starting Run: 6zlcqz86 with config:\n",
      "wandb: \tmax_depth: None\n",
      "wandb: \tmin_samples_split: 12\n",
      "wandb: \tn_estimators: 8\n",
      "wandb: WARNING Ignoring project 'Truck Delay Classification' when running a sweep.\n"
     ]
    },
    {
     "data": {
      "text/html": [
       "Tracking run with wandb version 0.19.1"
      ],
      "text/plain": [
       "<IPython.core.display.HTML object>"
      ]
     },
     "metadata": {},
     "output_type": "display_data"
    },
    {
     "data": {
      "text/html": [
       "Run data is saved locally in <code>C:\\Users\\ahuja\\wandb\\run-20241229_172144-6zlcqz86</code>"
      ],
      "text/plain": [
       "<IPython.core.display.HTML object>"
      ]
     },
     "metadata": {},
     "output_type": "display_data"
    },
    {
     "data": {
      "text/html": [
       "Syncing run <strong><a href='https://wandb.ai/ahujavaibhav2001-st-lawrence-college/Truck%20Delay%20Classification/runs/6zlcqz86' target=\"_blank\">confused-sweep-13</a></strong> to <a href='https://wandb.ai/ahujavaibhav2001-st-lawrence-college/Truck%20Delay%20Classification' target=\"_blank\">Weights & Biases</a> (<a href='https://wandb.me/developer-guide' target=\"_blank\">docs</a>)<br>Sweep page: <a href='https://wandb.ai/ahujavaibhav2001-st-lawrence-college/Truck%20Delay%20Classification/sweeps/9mnowi7x' target=\"_blank\">https://wandb.ai/ahujavaibhav2001-st-lawrence-college/Truck%20Delay%20Classification/sweeps/9mnowi7x</a>"
      ],
      "text/plain": [
       "<IPython.core.display.HTML object>"
      ]
     },
     "metadata": {},
     "output_type": "display_data"
    },
    {
     "data": {
      "text/html": [
       " View project at <a href='https://wandb.ai/ahujavaibhav2001-st-lawrence-college/Truck%20Delay%20Classification' target=\"_blank\">https://wandb.ai/ahujavaibhav2001-st-lawrence-college/Truck%20Delay%20Classification</a>"
      ],
      "text/plain": [
       "<IPython.core.display.HTML object>"
      ]
     },
     "metadata": {},
     "output_type": "display_data"
    },
    {
     "data": {
      "text/html": [
       " View sweep at <a href='https://wandb.ai/ahujavaibhav2001-st-lawrence-college/Truck%20Delay%20Classification/sweeps/9mnowi7x' target=\"_blank\">https://wandb.ai/ahujavaibhav2001-st-lawrence-college/Truck%20Delay%20Classification/sweeps/9mnowi7x</a>"
      ],
      "text/plain": [
       "<IPython.core.display.HTML object>"
      ]
     },
     "metadata": {},
     "output_type": "display_data"
    },
    {
     "data": {
      "text/html": [
       " View run at <a href='https://wandb.ai/ahujavaibhav2001-st-lawrence-college/Truck%20Delay%20Classification/runs/6zlcqz86' target=\"_blank\">https://wandb.ai/ahujavaibhav2001-st-lawrence-college/Truck%20Delay%20Classification/runs/6zlcqz86</a>"
      ],
      "text/plain": [
       "<IPython.core.display.HTML object>"
      ]
     },
     "metadata": {},
     "output_type": "display_data"
    },
    {
     "name": "stdout",
     "output_type": "stream",
     "text": [
      "F1_score Train: 0.8946\n",
      "F1_score Valid: 0.6086\n",
      "F1_score Test: 0.6764\n"
     ]
    },
    {
     "name": "stderr",
     "output_type": "stream",
     "text": [
      "wandb: \n",
      "wandb: Plotting RandomForestClassifier.\n",
      "UserWarning: X does not have valid feature names, but RandomForestClassifier was fitted with feature names\n",
      "wandb: Logged feature importances.\n",
      "wandb: Logged confusion matrix.\n",
      "UserWarning: X does not have valid feature names, but RandomForestClassifier was fitted with feature names\n",
      "wandb: Logged summary metrics.\n",
      "wandb: Logged class proportions.\n",
      "UserWarning: X does not have valid feature names, but RandomForestClassifier was fitted with feature names\n",
      "ConvergenceWarning: lbfgs failed to converge (status=1):\n",
      "STOP: TOTAL NO. of ITERATIONS REACHED LIMIT.\n",
      "\n",
      "Increase the number of iterations (max_iter) or scale the data as shown in:\n",
      "    https://scikit-learn.org/stable/modules/preprocessing.html\n",
      "Please also refer to the documentation for alternative solver options:\n",
      "    https://scikit-learn.org/stable/modules/linear_model.html#logistic-regression\n",
      "wandb: Logged calibration curve.\n",
      "wandb: Logged roc curve.\n",
      "wandb: Logged precision-recall curve.\n"
     ]
    },
    {
     "data": {
      "text/html": [],
      "text/plain": [
       "<IPython.core.display.HTML object>"
      ]
     },
     "metadata": {},
     "output_type": "display_data"
    },
    {
     "data": {
      "text/html": [
       "<br>    <style><br>        .wandb-row {<br>            display: flex;<br>            flex-direction: row;<br>            flex-wrap: wrap;<br>            justify-content: flex-start;<br>            width: 100%;<br>        }<br>        .wandb-col {<br>            display: flex;<br>            flex-direction: column;<br>            flex-basis: 100%;<br>            flex: 1;<br>            padding: 10px;<br>        }<br>    </style><br><div class=\"wandb-row\"><div class=\"wandb-col\"><h3>Run history:</h3><br/><table class=\"wandb\"><tr><td>f1_score</td><td>▁</td></tr><tr><td>f1_score_train</td><td>▁</td></tr><tr><td>f1_score_valid</td><td>▁</td></tr></table><br/></div><div class=\"wandb-col\"><h3>Run summary:</h3><br/><table class=\"wandb\"><tr><td>f1_score</td><td>0.67641</td></tr><tr><td>f1_score_train</td><td>0.89463</td></tr><tr><td>f1_score_valid</td><td>0.60864</td></tr></table><br/></div></div>"
      ],
      "text/plain": [
       "<IPython.core.display.HTML object>"
      ]
     },
     "metadata": {},
     "output_type": "display_data"
    },
    {
     "data": {
      "text/html": [
       " View run <strong style=\"color:#cdcd00\">confused-sweep-13</strong> at: <a href='https://wandb.ai/ahujavaibhav2001-st-lawrence-college/Truck%20Delay%20Classification/runs/6zlcqz86' target=\"_blank\">https://wandb.ai/ahujavaibhav2001-st-lawrence-college/Truck%20Delay%20Classification/runs/6zlcqz86</a><br> View project at: <a href='https://wandb.ai/ahujavaibhav2001-st-lawrence-college/Truck%20Delay%20Classification' target=\"_blank\">https://wandb.ai/ahujavaibhav2001-st-lawrence-college/Truck%20Delay%20Classification</a><br>Synced 5 W&B file(s), 0 media file(s), 16 artifact file(s) and 7 other file(s)"
      ],
      "text/plain": [
       "<IPython.core.display.HTML object>"
      ]
     },
     "metadata": {},
     "output_type": "display_data"
    },
    {
     "data": {
      "text/html": [
       "Find logs at: <code>.\\wandb\\run-20241229_172144-6zlcqz86\\logs</code>"
      ],
      "text/plain": [
       "<IPython.core.display.HTML object>"
      ]
     },
     "metadata": {},
     "output_type": "display_data"
    },
    {
     "name": "stderr",
     "output_type": "stream",
     "text": [
      "wandb: Agent Starting Run: n927x0hg with config:\n",
      "wandb: \tmax_depth: None\n",
      "wandb: \tmin_samples_split: 12\n",
      "wandb: \tn_estimators: 12\n",
      "wandb: WARNING Ignoring project 'Truck Delay Classification' when running a sweep.\n"
     ]
    },
    {
     "data": {
      "text/html": [
       "Tracking run with wandb version 0.19.1"
      ],
      "text/plain": [
       "<IPython.core.display.HTML object>"
      ]
     },
     "metadata": {},
     "output_type": "display_data"
    },
    {
     "data": {
      "text/html": [
       "Run data is saved locally in <code>C:\\Users\\ahuja\\wandb\\run-20241229_172154-n927x0hg</code>"
      ],
      "text/plain": [
       "<IPython.core.display.HTML object>"
      ]
     },
     "metadata": {},
     "output_type": "display_data"
    },
    {
     "data": {
      "text/html": [
       "Syncing run <strong><a href='https://wandb.ai/ahujavaibhav2001-st-lawrence-college/Truck%20Delay%20Classification/runs/n927x0hg' target=\"_blank\">sweepy-sweep-14</a></strong> to <a href='https://wandb.ai/ahujavaibhav2001-st-lawrence-college/Truck%20Delay%20Classification' target=\"_blank\">Weights & Biases</a> (<a href='https://wandb.me/developer-guide' target=\"_blank\">docs</a>)<br>Sweep page: <a href='https://wandb.ai/ahujavaibhav2001-st-lawrence-college/Truck%20Delay%20Classification/sweeps/9mnowi7x' target=\"_blank\">https://wandb.ai/ahujavaibhav2001-st-lawrence-college/Truck%20Delay%20Classification/sweeps/9mnowi7x</a>"
      ],
      "text/plain": [
       "<IPython.core.display.HTML object>"
      ]
     },
     "metadata": {},
     "output_type": "display_data"
    },
    {
     "data": {
      "text/html": [
       " View project at <a href='https://wandb.ai/ahujavaibhav2001-st-lawrence-college/Truck%20Delay%20Classification' target=\"_blank\">https://wandb.ai/ahujavaibhav2001-st-lawrence-college/Truck%20Delay%20Classification</a>"
      ],
      "text/plain": [
       "<IPython.core.display.HTML object>"
      ]
     },
     "metadata": {},
     "output_type": "display_data"
    },
    {
     "data": {
      "text/html": [
       " View sweep at <a href='https://wandb.ai/ahujavaibhav2001-st-lawrence-college/Truck%20Delay%20Classification/sweeps/9mnowi7x' target=\"_blank\">https://wandb.ai/ahujavaibhav2001-st-lawrence-college/Truck%20Delay%20Classification/sweeps/9mnowi7x</a>"
      ],
      "text/plain": [
       "<IPython.core.display.HTML object>"
      ]
     },
     "metadata": {},
     "output_type": "display_data"
    },
    {
     "data": {
      "text/html": [
       " View run at <a href='https://wandb.ai/ahujavaibhav2001-st-lawrence-college/Truck%20Delay%20Classification/runs/n927x0hg' target=\"_blank\">https://wandb.ai/ahujavaibhav2001-st-lawrence-college/Truck%20Delay%20Classification/runs/n927x0hg</a>"
      ],
      "text/plain": [
       "<IPython.core.display.HTML object>"
      ]
     },
     "metadata": {},
     "output_type": "display_data"
    },
    {
     "name": "stdout",
     "output_type": "stream",
     "text": [
      "F1_score Train: 0.9097\n",
      "F1_score Valid: 0.6214\n",
      "F1_score Test: 0.6903\n"
     ]
    },
    {
     "name": "stderr",
     "output_type": "stream",
     "text": [
      "wandb: \n",
      "wandb: Plotting RandomForestClassifier.\n",
      "UserWarning: X does not have valid feature names, but RandomForestClassifier was fitted with feature names\n",
      "wandb: Logged feature importances.\n",
      "wandb: Logged confusion matrix.\n",
      "UserWarning: X does not have valid feature names, but RandomForestClassifier was fitted with feature names\n",
      "wandb: Logged summary metrics.\n",
      "wandb: Logged class proportions.\n",
      "UserWarning: X does not have valid feature names, but RandomForestClassifier was fitted with feature names\n",
      "ConvergenceWarning: lbfgs failed to converge (status=1):\n",
      "STOP: TOTAL NO. of ITERATIONS REACHED LIMIT.\n",
      "\n",
      "Increase the number of iterations (max_iter) or scale the data as shown in:\n",
      "    https://scikit-learn.org/stable/modules/preprocessing.html\n",
      "Please also refer to the documentation for alternative solver options:\n",
      "    https://scikit-learn.org/stable/modules/linear_model.html#logistic-regression\n",
      "wandb: Logged calibration curve.\n",
      "wandb: Logged roc curve.\n",
      "wandb: Logged precision-recall curve.\n"
     ]
    },
    {
     "data": {
      "text/html": [],
      "text/plain": [
       "<IPython.core.display.HTML object>"
      ]
     },
     "metadata": {},
     "output_type": "display_data"
    },
    {
     "data": {
      "text/html": [
       "<br>    <style><br>        .wandb-row {<br>            display: flex;<br>            flex-direction: row;<br>            flex-wrap: wrap;<br>            justify-content: flex-start;<br>            width: 100%;<br>        }<br>        .wandb-col {<br>            display: flex;<br>            flex-direction: column;<br>            flex-basis: 100%;<br>            flex: 1;<br>            padding: 10px;<br>        }<br>    </style><br><div class=\"wandb-row\"><div class=\"wandb-col\"><h3>Run history:</h3><br/><table class=\"wandb\"><tr><td>f1_score</td><td>▁</td></tr><tr><td>f1_score_train</td><td>▁</td></tr><tr><td>f1_score_valid</td><td>▁</td></tr></table><br/></div><div class=\"wandb-col\"><h3>Run summary:</h3><br/><table class=\"wandb\"><tr><td>f1_score</td><td>0.69034</td></tr><tr><td>f1_score_train</td><td>0.90973</td></tr><tr><td>f1_score_valid</td><td>0.62144</td></tr></table><br/></div></div>"
      ],
      "text/plain": [
       "<IPython.core.display.HTML object>"
      ]
     },
     "metadata": {},
     "output_type": "display_data"
    },
    {
     "data": {
      "text/html": [
       " View run <strong style=\"color:#cdcd00\">sweepy-sweep-14</strong> at: <a href='https://wandb.ai/ahujavaibhav2001-st-lawrence-college/Truck%20Delay%20Classification/runs/n927x0hg' target=\"_blank\">https://wandb.ai/ahujavaibhav2001-st-lawrence-college/Truck%20Delay%20Classification/runs/n927x0hg</a><br> View project at: <a href='https://wandb.ai/ahujavaibhav2001-st-lawrence-college/Truck%20Delay%20Classification' target=\"_blank\">https://wandb.ai/ahujavaibhav2001-st-lawrence-college/Truck%20Delay%20Classification</a><br>Synced 5 W&B file(s), 0 media file(s), 16 artifact file(s) and 7 other file(s)"
      ],
      "text/plain": [
       "<IPython.core.display.HTML object>"
      ]
     },
     "metadata": {},
     "output_type": "display_data"
    },
    {
     "data": {
      "text/html": [
       "Find logs at: <code>.\\wandb\\run-20241229_172154-n927x0hg\\logs</code>"
      ],
      "text/plain": [
       "<IPython.core.display.HTML object>"
      ]
     },
     "metadata": {},
     "output_type": "display_data"
    },
    {
     "name": "stderr",
     "output_type": "stream",
     "text": [
      "wandb: Agent Starting Run: 4qoekrjt with config:\n",
      "wandb: \tmax_depth: None\n",
      "wandb: \tmin_samples_split: 12\n",
      "wandb: \tn_estimators: 16\n",
      "wandb: WARNING Ignoring project 'Truck Delay Classification' when running a sweep.\n"
     ]
    },
    {
     "data": {
      "text/html": [
       "Tracking run with wandb version 0.19.1"
      ],
      "text/plain": [
       "<IPython.core.display.HTML object>"
      ]
     },
     "metadata": {},
     "output_type": "display_data"
    },
    {
     "data": {
      "text/html": [
       "Run data is saved locally in <code>C:\\Users\\ahuja\\wandb\\run-20241229_172204-4qoekrjt</code>"
      ],
      "text/plain": [
       "<IPython.core.display.HTML object>"
      ]
     },
     "metadata": {},
     "output_type": "display_data"
    },
    {
     "data": {
      "text/html": [
       "Syncing run <strong><a href='https://wandb.ai/ahujavaibhav2001-st-lawrence-college/Truck%20Delay%20Classification/runs/4qoekrjt' target=\"_blank\">helpful-sweep-15</a></strong> to <a href='https://wandb.ai/ahujavaibhav2001-st-lawrence-college/Truck%20Delay%20Classification' target=\"_blank\">Weights & Biases</a> (<a href='https://wandb.me/developer-guide' target=\"_blank\">docs</a>)<br>Sweep page: <a href='https://wandb.ai/ahujavaibhav2001-st-lawrence-college/Truck%20Delay%20Classification/sweeps/9mnowi7x' target=\"_blank\">https://wandb.ai/ahujavaibhav2001-st-lawrence-college/Truck%20Delay%20Classification/sweeps/9mnowi7x</a>"
      ],
      "text/plain": [
       "<IPython.core.display.HTML object>"
      ]
     },
     "metadata": {},
     "output_type": "display_data"
    },
    {
     "data": {
      "text/html": [
       " View project at <a href='https://wandb.ai/ahujavaibhav2001-st-lawrence-college/Truck%20Delay%20Classification' target=\"_blank\">https://wandb.ai/ahujavaibhav2001-st-lawrence-college/Truck%20Delay%20Classification</a>"
      ],
      "text/plain": [
       "<IPython.core.display.HTML object>"
      ]
     },
     "metadata": {},
     "output_type": "display_data"
    },
    {
     "data": {
      "text/html": [
       " View sweep at <a href='https://wandb.ai/ahujavaibhav2001-st-lawrence-college/Truck%20Delay%20Classification/sweeps/9mnowi7x' target=\"_blank\">https://wandb.ai/ahujavaibhav2001-st-lawrence-college/Truck%20Delay%20Classification/sweeps/9mnowi7x</a>"
      ],
      "text/plain": [
       "<IPython.core.display.HTML object>"
      ]
     },
     "metadata": {},
     "output_type": "display_data"
    },
    {
     "data": {
      "text/html": [
       " View run at <a href='https://wandb.ai/ahujavaibhav2001-st-lawrence-college/Truck%20Delay%20Classification/runs/4qoekrjt' target=\"_blank\">https://wandb.ai/ahujavaibhav2001-st-lawrence-college/Truck%20Delay%20Classification/runs/4qoekrjt</a>"
      ],
      "text/plain": [
       "<IPython.core.display.HTML object>"
      ]
     },
     "metadata": {},
     "output_type": "display_data"
    },
    {
     "name": "stdout",
     "output_type": "stream",
     "text": [
      "F1_score Train: 0.9156\n",
      "F1_score Valid: 0.6284\n",
      "F1_score Test: 0.7087\n"
     ]
    },
    {
     "name": "stderr",
     "output_type": "stream",
     "text": [
      "wandb: \n",
      "wandb: Plotting RandomForestClassifier.\n",
      "UserWarning: X does not have valid feature names, but RandomForestClassifier was fitted with feature names\n",
      "wandb: Logged feature importances.\n",
      "wandb: Logged confusion matrix.\n",
      "UserWarning: X does not have valid feature names, but RandomForestClassifier was fitted with feature names\n",
      "wandb: Logged summary metrics.\n",
      "wandb: Logged class proportions.\n",
      "UserWarning: X does not have valid feature names, but RandomForestClassifier was fitted with feature names\n",
      "ConvergenceWarning: lbfgs failed to converge (status=1):\n",
      "STOP: TOTAL NO. of ITERATIONS REACHED LIMIT.\n",
      "\n",
      "Increase the number of iterations (max_iter) or scale the data as shown in:\n",
      "    https://scikit-learn.org/stable/modules/preprocessing.html\n",
      "Please also refer to the documentation for alternative solver options:\n",
      "    https://scikit-learn.org/stable/modules/linear_model.html#logistic-regression\n",
      "wandb: Logged calibration curve.\n",
      "wandb: Logged roc curve.\n",
      "wandb: Logged precision-recall curve.\n"
     ]
    },
    {
     "data": {
      "text/html": [],
      "text/plain": [
       "<IPython.core.display.HTML object>"
      ]
     },
     "metadata": {},
     "output_type": "display_data"
    },
    {
     "data": {
      "text/html": [
       "<br>    <style><br>        .wandb-row {<br>            display: flex;<br>            flex-direction: row;<br>            flex-wrap: wrap;<br>            justify-content: flex-start;<br>            width: 100%;<br>        }<br>        .wandb-col {<br>            display: flex;<br>            flex-direction: column;<br>            flex-basis: 100%;<br>            flex: 1;<br>            padding: 10px;<br>        }<br>    </style><br><div class=\"wandb-row\"><div class=\"wandb-col\"><h3>Run history:</h3><br/><table class=\"wandb\"><tr><td>f1_score</td><td>▁</td></tr><tr><td>f1_score_train</td><td>▁</td></tr><tr><td>f1_score_valid</td><td>▁</td></tr></table><br/></div><div class=\"wandb-col\"><h3>Run summary:</h3><br/><table class=\"wandb\"><tr><td>f1_score</td><td>0.70872</td></tr><tr><td>f1_score_train</td><td>0.91561</td></tr><tr><td>f1_score_valid</td><td>0.62842</td></tr></table><br/></div></div>"
      ],
      "text/plain": [
       "<IPython.core.display.HTML object>"
      ]
     },
     "metadata": {},
     "output_type": "display_data"
    },
    {
     "data": {
      "text/html": [
       " View run <strong style=\"color:#cdcd00\">helpful-sweep-15</strong> at: <a href='https://wandb.ai/ahujavaibhav2001-st-lawrence-college/Truck%20Delay%20Classification/runs/4qoekrjt' target=\"_blank\">https://wandb.ai/ahujavaibhav2001-st-lawrence-college/Truck%20Delay%20Classification/runs/4qoekrjt</a><br> View project at: <a href='https://wandb.ai/ahujavaibhav2001-st-lawrence-college/Truck%20Delay%20Classification' target=\"_blank\">https://wandb.ai/ahujavaibhav2001-st-lawrence-college/Truck%20Delay%20Classification</a><br>Synced 5 W&B file(s), 0 media file(s), 16 artifact file(s) and 7 other file(s)"
      ],
      "text/plain": [
       "<IPython.core.display.HTML object>"
      ]
     },
     "metadata": {},
     "output_type": "display_data"
    },
    {
     "data": {
      "text/html": [
       "Find logs at: <code>.\\wandb\\run-20241229_172204-4qoekrjt\\logs</code>"
      ],
      "text/plain": [
       "<IPython.core.display.HTML object>"
      ]
     },
     "metadata": {},
     "output_type": "display_data"
    },
    {
     "name": "stderr",
     "output_type": "stream",
     "text": [
      "wandb: Agent Starting Run: 977m2ybo with config:\n",
      "wandb: \tmax_depth: None\n",
      "wandb: \tmin_samples_split: 12\n",
      "wandb: \tn_estimators: 20\n",
      "wandb: WARNING Ignoring project 'Truck Delay Classification' when running a sweep.\n"
     ]
    },
    {
     "data": {
      "text/html": [
       "Tracking run with wandb version 0.19.1"
      ],
      "text/plain": [
       "<IPython.core.display.HTML object>"
      ]
     },
     "metadata": {},
     "output_type": "display_data"
    },
    {
     "data": {
      "text/html": [
       "Run data is saved locally in <code>C:\\Users\\ahuja\\wandb\\run-20241229_172215-977m2ybo</code>"
      ],
      "text/plain": [
       "<IPython.core.display.HTML object>"
      ]
     },
     "metadata": {},
     "output_type": "display_data"
    },
    {
     "data": {
      "text/html": [
       "Syncing run <strong><a href='https://wandb.ai/ahujavaibhav2001-st-lawrence-college/Truck%20Delay%20Classification/runs/977m2ybo' target=\"_blank\">electric-sweep-16</a></strong> to <a href='https://wandb.ai/ahujavaibhav2001-st-lawrence-college/Truck%20Delay%20Classification' target=\"_blank\">Weights & Biases</a> (<a href='https://wandb.me/developer-guide' target=\"_blank\">docs</a>)<br>Sweep page: <a href='https://wandb.ai/ahujavaibhav2001-st-lawrence-college/Truck%20Delay%20Classification/sweeps/9mnowi7x' target=\"_blank\">https://wandb.ai/ahujavaibhav2001-st-lawrence-college/Truck%20Delay%20Classification/sweeps/9mnowi7x</a>"
      ],
      "text/plain": [
       "<IPython.core.display.HTML object>"
      ]
     },
     "metadata": {},
     "output_type": "display_data"
    },
    {
     "data": {
      "text/html": [
       " View project at <a href='https://wandb.ai/ahujavaibhav2001-st-lawrence-college/Truck%20Delay%20Classification' target=\"_blank\">https://wandb.ai/ahujavaibhav2001-st-lawrence-college/Truck%20Delay%20Classification</a>"
      ],
      "text/plain": [
       "<IPython.core.display.HTML object>"
      ]
     },
     "metadata": {},
     "output_type": "display_data"
    },
    {
     "data": {
      "text/html": [
       " View sweep at <a href='https://wandb.ai/ahujavaibhav2001-st-lawrence-college/Truck%20Delay%20Classification/sweeps/9mnowi7x' target=\"_blank\">https://wandb.ai/ahujavaibhav2001-st-lawrence-college/Truck%20Delay%20Classification/sweeps/9mnowi7x</a>"
      ],
      "text/plain": [
       "<IPython.core.display.HTML object>"
      ]
     },
     "metadata": {},
     "output_type": "display_data"
    },
    {
     "data": {
      "text/html": [
       " View run at <a href='https://wandb.ai/ahujavaibhav2001-st-lawrence-college/Truck%20Delay%20Classification/runs/977m2ybo' target=\"_blank\">https://wandb.ai/ahujavaibhav2001-st-lawrence-college/Truck%20Delay%20Classification/runs/977m2ybo</a>"
      ],
      "text/plain": [
       "<IPython.core.display.HTML object>"
      ]
     },
     "metadata": {},
     "output_type": "display_data"
    },
    {
     "name": "stdout",
     "output_type": "stream",
     "text": [
      "F1_score Train: 0.9239\n",
      "F1_score Valid: 0.6349\n",
      "F1_score Test: 0.7085\n"
     ]
    },
    {
     "name": "stderr",
     "output_type": "stream",
     "text": [
      "wandb: \n",
      "wandb: Plotting RandomForestClassifier.\n",
      "UserWarning: X does not have valid feature names, but RandomForestClassifier was fitted with feature names\n",
      "wandb: Logged feature importances.\n",
      "wandb: Logged confusion matrix.\n",
      "UserWarning: X does not have valid feature names, but RandomForestClassifier was fitted with feature names\n",
      "wandb: Logged summary metrics.\n",
      "wandb: Logged class proportions.\n",
      "UserWarning: X does not have valid feature names, but RandomForestClassifier was fitted with feature names\n",
      "ConvergenceWarning: lbfgs failed to converge (status=1):\n",
      "STOP: TOTAL NO. of ITERATIONS REACHED LIMIT.\n",
      "\n",
      "Increase the number of iterations (max_iter) or scale the data as shown in:\n",
      "    https://scikit-learn.org/stable/modules/preprocessing.html\n",
      "Please also refer to the documentation for alternative solver options:\n",
      "    https://scikit-learn.org/stable/modules/linear_model.html#logistic-regression\n",
      "wandb: Logged calibration curve.\n",
      "wandb: Logged roc curve.\n",
      "wandb: Logged precision-recall curve.\n"
     ]
    },
    {
     "data": {
      "text/html": [],
      "text/plain": [
       "<IPython.core.display.HTML object>"
      ]
     },
     "metadata": {},
     "output_type": "display_data"
    },
    {
     "data": {
      "text/html": [
       "<br>    <style><br>        .wandb-row {<br>            display: flex;<br>            flex-direction: row;<br>            flex-wrap: wrap;<br>            justify-content: flex-start;<br>            width: 100%;<br>        }<br>        .wandb-col {<br>            display: flex;<br>            flex-direction: column;<br>            flex-basis: 100%;<br>            flex: 1;<br>            padding: 10px;<br>        }<br>    </style><br><div class=\"wandb-row\"><div class=\"wandb-col\"><h3>Run history:</h3><br/><table class=\"wandb\"><tr><td>f1_score</td><td>▁</td></tr><tr><td>f1_score_train</td><td>▁</td></tr><tr><td>f1_score_valid</td><td>▁</td></tr></table><br/></div><div class=\"wandb-col\"><h3>Run summary:</h3><br/><table class=\"wandb\"><tr><td>f1_score</td><td>0.70848</td></tr><tr><td>f1_score_train</td><td>0.92385</td></tr><tr><td>f1_score_valid</td><td>0.63485</td></tr></table><br/></div></div>"
      ],
      "text/plain": [
       "<IPython.core.display.HTML object>"
      ]
     },
     "metadata": {},
     "output_type": "display_data"
    },
    {
     "data": {
      "text/html": [
       " View run <strong style=\"color:#cdcd00\">electric-sweep-16</strong> at: <a href='https://wandb.ai/ahujavaibhav2001-st-lawrence-college/Truck%20Delay%20Classification/runs/977m2ybo' target=\"_blank\">https://wandb.ai/ahujavaibhav2001-st-lawrence-college/Truck%20Delay%20Classification/runs/977m2ybo</a><br> View project at: <a href='https://wandb.ai/ahujavaibhav2001-st-lawrence-college/Truck%20Delay%20Classification' target=\"_blank\">https://wandb.ai/ahujavaibhav2001-st-lawrence-college/Truck%20Delay%20Classification</a><br>Synced 5 W&B file(s), 0 media file(s), 16 artifact file(s) and 7 other file(s)"
      ],
      "text/plain": [
       "<IPython.core.display.HTML object>"
      ]
     },
     "metadata": {},
     "output_type": "display_data"
    },
    {
     "data": {
      "text/html": [
       "Find logs at: <code>.\\wandb\\run-20241229_172215-977m2ybo\\logs</code>"
      ],
      "text/plain": [
       "<IPython.core.display.HTML object>"
      ]
     },
     "metadata": {},
     "output_type": "display_data"
    },
    {
     "name": "stderr",
     "output_type": "stream",
     "text": [
      "wandb: Agent Starting Run: ekibddlm with config:\n",
      "wandb: \tmax_depth: 5\n",
      "wandb: \tmin_samples_split: 2\n",
      "wandb: \tn_estimators: 8\n",
      "wandb: WARNING Ignoring project 'Truck Delay Classification' when running a sweep.\n"
     ]
    },
    {
     "data": {
      "text/html": [
       "Tracking run with wandb version 0.19.1"
      ],
      "text/plain": [
       "<IPython.core.display.HTML object>"
      ]
     },
     "metadata": {},
     "output_type": "display_data"
    },
    {
     "data": {
      "text/html": [
       "Run data is saved locally in <code>C:\\Users\\ahuja\\wandb\\run-20241229_172225-ekibddlm</code>"
      ],
      "text/plain": [
       "<IPython.core.display.HTML object>"
      ]
     },
     "metadata": {},
     "output_type": "display_data"
    },
    {
     "data": {
      "text/html": [
       "Syncing run <strong><a href='https://wandb.ai/ahujavaibhav2001-st-lawrence-college/Truck%20Delay%20Classification/runs/ekibddlm' target=\"_blank\">fancy-sweep-17</a></strong> to <a href='https://wandb.ai/ahujavaibhav2001-st-lawrence-college/Truck%20Delay%20Classification' target=\"_blank\">Weights & Biases</a> (<a href='https://wandb.me/developer-guide' target=\"_blank\">docs</a>)<br>Sweep page: <a href='https://wandb.ai/ahujavaibhav2001-st-lawrence-college/Truck%20Delay%20Classification/sweeps/9mnowi7x' target=\"_blank\">https://wandb.ai/ahujavaibhav2001-st-lawrence-college/Truck%20Delay%20Classification/sweeps/9mnowi7x</a>"
      ],
      "text/plain": [
       "<IPython.core.display.HTML object>"
      ]
     },
     "metadata": {},
     "output_type": "display_data"
    },
    {
     "data": {
      "text/html": [
       " View project at <a href='https://wandb.ai/ahujavaibhav2001-st-lawrence-college/Truck%20Delay%20Classification' target=\"_blank\">https://wandb.ai/ahujavaibhav2001-st-lawrence-college/Truck%20Delay%20Classification</a>"
      ],
      "text/plain": [
       "<IPython.core.display.HTML object>"
      ]
     },
     "metadata": {},
     "output_type": "display_data"
    },
    {
     "data": {
      "text/html": [
       " View sweep at <a href='https://wandb.ai/ahujavaibhav2001-st-lawrence-college/Truck%20Delay%20Classification/sweeps/9mnowi7x' target=\"_blank\">https://wandb.ai/ahujavaibhav2001-st-lawrence-college/Truck%20Delay%20Classification/sweeps/9mnowi7x</a>"
      ],
      "text/plain": [
       "<IPython.core.display.HTML object>"
      ]
     },
     "metadata": {},
     "output_type": "display_data"
    },
    {
     "data": {
      "text/html": [
       " View run at <a href='https://wandb.ai/ahujavaibhav2001-st-lawrence-college/Truck%20Delay%20Classification/runs/ekibddlm' target=\"_blank\">https://wandb.ai/ahujavaibhav2001-st-lawrence-college/Truck%20Delay%20Classification/runs/ekibddlm</a>"
      ],
      "text/plain": [
       "<IPython.core.display.HTML object>"
      ]
     },
     "metadata": {},
     "output_type": "display_data"
    },
    {
     "name": "stdout",
     "output_type": "stream",
     "text": [
      "F1_score Train: 0.584\n",
      "F1_score Valid: 0.6621\n",
      "F1_score Test: 0.7371\n"
     ]
    },
    {
     "name": "stderr",
     "output_type": "stream",
     "text": [
      "wandb: \n",
      "wandb: Plotting RandomForestClassifier.\n",
      "UserWarning: X does not have valid feature names, but RandomForestClassifier was fitted with feature names\n",
      "wandb: Logged feature importances.\n",
      "wandb: Logged confusion matrix.\n",
      "UserWarning: X does not have valid feature names, but RandomForestClassifier was fitted with feature names\n",
      "wandb: Logged summary metrics.\n",
      "wandb: Logged class proportions.\n",
      "UserWarning: X does not have valid feature names, but RandomForestClassifier was fitted with feature names\n",
      "ConvergenceWarning: lbfgs failed to converge (status=1):\n",
      "STOP: TOTAL NO. of ITERATIONS REACHED LIMIT.\n",
      "\n",
      "Increase the number of iterations (max_iter) or scale the data as shown in:\n",
      "    https://scikit-learn.org/stable/modules/preprocessing.html\n",
      "Please also refer to the documentation for alternative solver options:\n",
      "    https://scikit-learn.org/stable/modules/linear_model.html#logistic-regression\n",
      "wandb: Logged calibration curve.\n",
      "wandb: Logged roc curve.\n",
      "wandb: Logged precision-recall curve.\n"
     ]
    },
    {
     "data": {
      "text/html": [],
      "text/plain": [
       "<IPython.core.display.HTML object>"
      ]
     },
     "metadata": {},
     "output_type": "display_data"
    },
    {
     "data": {
      "text/html": [
       "<br>    <style><br>        .wandb-row {<br>            display: flex;<br>            flex-direction: row;<br>            flex-wrap: wrap;<br>            justify-content: flex-start;<br>            width: 100%;<br>        }<br>        .wandb-col {<br>            display: flex;<br>            flex-direction: column;<br>            flex-basis: 100%;<br>            flex: 1;<br>            padding: 10px;<br>        }<br>    </style><br><div class=\"wandb-row\"><div class=\"wandb-col\"><h3>Run history:</h3><br/><table class=\"wandb\"><tr><td>f1_score</td><td>▁</td></tr><tr><td>f1_score_train</td><td>▁</td></tr><tr><td>f1_score_valid</td><td>▁</td></tr></table><br/></div><div class=\"wandb-col\"><h3>Run summary:</h3><br/><table class=\"wandb\"><tr><td>f1_score</td><td>0.73711</td></tr><tr><td>f1_score_train</td><td>0.58399</td></tr><tr><td>f1_score_valid</td><td>0.66215</td></tr></table><br/></div></div>"
      ],
      "text/plain": [
       "<IPython.core.display.HTML object>"
      ]
     },
     "metadata": {},
     "output_type": "display_data"
    },
    {
     "data": {
      "text/html": [
       " View run <strong style=\"color:#cdcd00\">fancy-sweep-17</strong> at: <a href='https://wandb.ai/ahujavaibhav2001-st-lawrence-college/Truck%20Delay%20Classification/runs/ekibddlm' target=\"_blank\">https://wandb.ai/ahujavaibhav2001-st-lawrence-college/Truck%20Delay%20Classification/runs/ekibddlm</a><br> View project at: <a href='https://wandb.ai/ahujavaibhav2001-st-lawrence-college/Truck%20Delay%20Classification' target=\"_blank\">https://wandb.ai/ahujavaibhav2001-st-lawrence-college/Truck%20Delay%20Classification</a><br>Synced 5 W&B file(s), 0 media file(s), 16 artifact file(s) and 7 other file(s)"
      ],
      "text/plain": [
       "<IPython.core.display.HTML object>"
      ]
     },
     "metadata": {},
     "output_type": "display_data"
    },
    {
     "data": {
      "text/html": [
       "Find logs at: <code>.\\wandb\\run-20241229_172225-ekibddlm\\logs</code>"
      ],
      "text/plain": [
       "<IPython.core.display.HTML object>"
      ]
     },
     "metadata": {},
     "output_type": "display_data"
    },
    {
     "name": "stderr",
     "output_type": "stream",
     "text": [
      "wandb: Agent Starting Run: dlkxkgxq with config:\n",
      "wandb: \tmax_depth: 5\n",
      "wandb: \tmin_samples_split: 2\n",
      "wandb: \tn_estimators: 12\n",
      "wandb: WARNING Ignoring project 'Truck Delay Classification' when running a sweep.\n"
     ]
    },
    {
     "data": {
      "text/html": [
       "Tracking run with wandb version 0.19.1"
      ],
      "text/plain": [
       "<IPython.core.display.HTML object>"
      ]
     },
     "metadata": {},
     "output_type": "display_data"
    },
    {
     "data": {
      "text/html": [
       "Run data is saved locally in <code>C:\\Users\\ahuja\\wandb\\run-20241229_172235-dlkxkgxq</code>"
      ],
      "text/plain": [
       "<IPython.core.display.HTML object>"
      ]
     },
     "metadata": {},
     "output_type": "display_data"
    },
    {
     "data": {
      "text/html": [
       "Syncing run <strong><a href='https://wandb.ai/ahujavaibhav2001-st-lawrence-college/Truck%20Delay%20Classification/runs/dlkxkgxq' target=\"_blank\">easy-sweep-18</a></strong> to <a href='https://wandb.ai/ahujavaibhav2001-st-lawrence-college/Truck%20Delay%20Classification' target=\"_blank\">Weights & Biases</a> (<a href='https://wandb.me/developer-guide' target=\"_blank\">docs</a>)<br>Sweep page: <a href='https://wandb.ai/ahujavaibhav2001-st-lawrence-college/Truck%20Delay%20Classification/sweeps/9mnowi7x' target=\"_blank\">https://wandb.ai/ahujavaibhav2001-st-lawrence-college/Truck%20Delay%20Classification/sweeps/9mnowi7x</a>"
      ],
      "text/plain": [
       "<IPython.core.display.HTML object>"
      ]
     },
     "metadata": {},
     "output_type": "display_data"
    },
    {
     "data": {
      "text/html": [
       " View project at <a href='https://wandb.ai/ahujavaibhav2001-st-lawrence-college/Truck%20Delay%20Classification' target=\"_blank\">https://wandb.ai/ahujavaibhav2001-st-lawrence-college/Truck%20Delay%20Classification</a>"
      ],
      "text/plain": [
       "<IPython.core.display.HTML object>"
      ]
     },
     "metadata": {},
     "output_type": "display_data"
    },
    {
     "data": {
      "text/html": [
       " View sweep at <a href='https://wandb.ai/ahujavaibhav2001-st-lawrence-college/Truck%20Delay%20Classification/sweeps/9mnowi7x' target=\"_blank\">https://wandb.ai/ahujavaibhav2001-st-lawrence-college/Truck%20Delay%20Classification/sweeps/9mnowi7x</a>"
      ],
      "text/plain": [
       "<IPython.core.display.HTML object>"
      ]
     },
     "metadata": {},
     "output_type": "display_data"
    },
    {
     "data": {
      "text/html": [
       " View run at <a href='https://wandb.ai/ahujavaibhav2001-st-lawrence-college/Truck%20Delay%20Classification/runs/dlkxkgxq' target=\"_blank\">https://wandb.ai/ahujavaibhav2001-st-lawrence-college/Truck%20Delay%20Classification/runs/dlkxkgxq</a>"
      ],
      "text/plain": [
       "<IPython.core.display.HTML object>"
      ]
     },
     "metadata": {},
     "output_type": "display_data"
    },
    {
     "name": "stdout",
     "output_type": "stream",
     "text": [
      "F1_score Train: 0.5845\n",
      "F1_score Valid: 0.6644\n",
      "F1_score Test: 0.7396\n"
     ]
    },
    {
     "name": "stderr",
     "output_type": "stream",
     "text": [
      "wandb: \n",
      "wandb: Plotting RandomForestClassifier.\n",
      "UserWarning: X does not have valid feature names, but RandomForestClassifier was fitted with feature names\n",
      "wandb: Logged feature importances.\n",
      "wandb: Logged confusion matrix.\n",
      "UserWarning: X does not have valid feature names, but RandomForestClassifier was fitted with feature names\n",
      "wandb: Logged summary metrics.\n",
      "wandb: Logged class proportions.\n",
      "UserWarning: X does not have valid feature names, but RandomForestClassifier was fitted with feature names\n",
      "ConvergenceWarning: lbfgs failed to converge (status=1):\n",
      "STOP: TOTAL NO. of ITERATIONS REACHED LIMIT.\n",
      "\n",
      "Increase the number of iterations (max_iter) or scale the data as shown in:\n",
      "    https://scikit-learn.org/stable/modules/preprocessing.html\n",
      "Please also refer to the documentation for alternative solver options:\n",
      "    https://scikit-learn.org/stable/modules/linear_model.html#logistic-regression\n",
      "wandb: Logged calibration curve.\n",
      "wandb: Logged roc curve.\n",
      "wandb: Logged precision-recall curve.\n"
     ]
    },
    {
     "data": {
      "text/html": [],
      "text/plain": [
       "<IPython.core.display.HTML object>"
      ]
     },
     "metadata": {},
     "output_type": "display_data"
    },
    {
     "data": {
      "text/html": [
       "<br>    <style><br>        .wandb-row {<br>            display: flex;<br>            flex-direction: row;<br>            flex-wrap: wrap;<br>            justify-content: flex-start;<br>            width: 100%;<br>        }<br>        .wandb-col {<br>            display: flex;<br>            flex-direction: column;<br>            flex-basis: 100%;<br>            flex: 1;<br>            padding: 10px;<br>        }<br>    </style><br><div class=\"wandb-row\"><div class=\"wandb-col\"><h3>Run history:</h3><br/><table class=\"wandb\"><tr><td>f1_score</td><td>▁</td></tr><tr><td>f1_score_train</td><td>▁</td></tr><tr><td>f1_score_valid</td><td>▁</td></tr></table><br/></div><div class=\"wandb-col\"><h3>Run summary:</h3><br/><table class=\"wandb\"><tr><td>f1_score</td><td>0.7396</td></tr><tr><td>f1_score_train</td><td>0.58455</td></tr><tr><td>f1_score_valid</td><td>0.66439</td></tr></table><br/></div></div>"
      ],
      "text/plain": [
       "<IPython.core.display.HTML object>"
      ]
     },
     "metadata": {},
     "output_type": "display_data"
    },
    {
     "data": {
      "text/html": [
       " View run <strong style=\"color:#cdcd00\">easy-sweep-18</strong> at: <a href='https://wandb.ai/ahujavaibhav2001-st-lawrence-college/Truck%20Delay%20Classification/runs/dlkxkgxq' target=\"_blank\">https://wandb.ai/ahujavaibhav2001-st-lawrence-college/Truck%20Delay%20Classification/runs/dlkxkgxq</a><br> View project at: <a href='https://wandb.ai/ahujavaibhav2001-st-lawrence-college/Truck%20Delay%20Classification' target=\"_blank\">https://wandb.ai/ahujavaibhav2001-st-lawrence-college/Truck%20Delay%20Classification</a><br>Synced 5 W&B file(s), 0 media file(s), 16 artifact file(s) and 7 other file(s)"
      ],
      "text/plain": [
       "<IPython.core.display.HTML object>"
      ]
     },
     "metadata": {},
     "output_type": "display_data"
    },
    {
     "data": {
      "text/html": [
       "Find logs at: <code>.\\wandb\\run-20241229_172235-dlkxkgxq\\logs</code>"
      ],
      "text/plain": [
       "<IPython.core.display.HTML object>"
      ]
     },
     "metadata": {},
     "output_type": "display_data"
    },
    {
     "name": "stderr",
     "output_type": "stream",
     "text": [
      "wandb: Agent Starting Run: 5xzwufxf with config:\n",
      "wandb: \tmax_depth: 5\n",
      "wandb: \tmin_samples_split: 2\n",
      "wandb: \tn_estimators: 16\n",
      "wandb: WARNING Ignoring project 'Truck Delay Classification' when running a sweep.\n"
     ]
    },
    {
     "data": {
      "text/html": [
       "Tracking run with wandb version 0.19.1"
      ],
      "text/plain": [
       "<IPython.core.display.HTML object>"
      ]
     },
     "metadata": {},
     "output_type": "display_data"
    },
    {
     "data": {
      "text/html": [
       "Run data is saved locally in <code>C:\\Users\\ahuja\\wandb\\run-20241229_172245-5xzwufxf</code>"
      ],
      "text/plain": [
       "<IPython.core.display.HTML object>"
      ]
     },
     "metadata": {},
     "output_type": "display_data"
    },
    {
     "data": {
      "text/html": [
       "Syncing run <strong><a href='https://wandb.ai/ahujavaibhav2001-st-lawrence-college/Truck%20Delay%20Classification/runs/5xzwufxf' target=\"_blank\">sweet-sweep-19</a></strong> to <a href='https://wandb.ai/ahujavaibhav2001-st-lawrence-college/Truck%20Delay%20Classification' target=\"_blank\">Weights & Biases</a> (<a href='https://wandb.me/developer-guide' target=\"_blank\">docs</a>)<br>Sweep page: <a href='https://wandb.ai/ahujavaibhav2001-st-lawrence-college/Truck%20Delay%20Classification/sweeps/9mnowi7x' target=\"_blank\">https://wandb.ai/ahujavaibhav2001-st-lawrence-college/Truck%20Delay%20Classification/sweeps/9mnowi7x</a>"
      ],
      "text/plain": [
       "<IPython.core.display.HTML object>"
      ]
     },
     "metadata": {},
     "output_type": "display_data"
    },
    {
     "data": {
      "text/html": [
       " View project at <a href='https://wandb.ai/ahujavaibhav2001-st-lawrence-college/Truck%20Delay%20Classification' target=\"_blank\">https://wandb.ai/ahujavaibhav2001-st-lawrence-college/Truck%20Delay%20Classification</a>"
      ],
      "text/plain": [
       "<IPython.core.display.HTML object>"
      ]
     },
     "metadata": {},
     "output_type": "display_data"
    },
    {
     "data": {
      "text/html": [
       " View sweep at <a href='https://wandb.ai/ahujavaibhav2001-st-lawrence-college/Truck%20Delay%20Classification/sweeps/9mnowi7x' target=\"_blank\">https://wandb.ai/ahujavaibhav2001-st-lawrence-college/Truck%20Delay%20Classification/sweeps/9mnowi7x</a>"
      ],
      "text/plain": [
       "<IPython.core.display.HTML object>"
      ]
     },
     "metadata": {},
     "output_type": "display_data"
    },
    {
     "data": {
      "text/html": [
       " View run at <a href='https://wandb.ai/ahujavaibhav2001-st-lawrence-college/Truck%20Delay%20Classification/runs/5xzwufxf' target=\"_blank\">https://wandb.ai/ahujavaibhav2001-st-lawrence-college/Truck%20Delay%20Classification/runs/5xzwufxf</a>"
      ],
      "text/plain": [
       "<IPython.core.display.HTML object>"
      ]
     },
     "metadata": {},
     "output_type": "display_data"
    },
    {
     "name": "stdout",
     "output_type": "stream",
     "text": [
      "F1_score Train: 0.5846\n",
      "F1_score Valid: 0.6644\n",
      "F1_score Test: 0.742\n"
     ]
    },
    {
     "name": "stderr",
     "output_type": "stream",
     "text": [
      "wandb: \n",
      "wandb: Plotting RandomForestClassifier.\n",
      "UserWarning: X does not have valid feature names, but RandomForestClassifier was fitted with feature names\n",
      "wandb: Logged feature importances.\n",
      "wandb: Logged confusion matrix.\n",
      "UserWarning: X does not have valid feature names, but RandomForestClassifier was fitted with feature names\n",
      "wandb: Logged summary metrics.\n",
      "wandb: Logged class proportions.\n",
      "UserWarning: X does not have valid feature names, but RandomForestClassifier was fitted with feature names\n",
      "ConvergenceWarning: lbfgs failed to converge (status=1):\n",
      "STOP: TOTAL NO. of ITERATIONS REACHED LIMIT.\n",
      "\n",
      "Increase the number of iterations (max_iter) or scale the data as shown in:\n",
      "    https://scikit-learn.org/stable/modules/preprocessing.html\n",
      "Please also refer to the documentation for alternative solver options:\n",
      "    https://scikit-learn.org/stable/modules/linear_model.html#logistic-regression\n",
      "wandb: Logged calibration curve.\n",
      "wandb: Logged roc curve.\n",
      "wandb: Logged precision-recall curve.\n"
     ]
    },
    {
     "data": {
      "text/html": [],
      "text/plain": [
       "<IPython.core.display.HTML object>"
      ]
     },
     "metadata": {},
     "output_type": "display_data"
    },
    {
     "data": {
      "text/html": [
       "<br>    <style><br>        .wandb-row {<br>            display: flex;<br>            flex-direction: row;<br>            flex-wrap: wrap;<br>            justify-content: flex-start;<br>            width: 100%;<br>        }<br>        .wandb-col {<br>            display: flex;<br>            flex-direction: column;<br>            flex-basis: 100%;<br>            flex: 1;<br>            padding: 10px;<br>        }<br>    </style><br><div class=\"wandb-row\"><div class=\"wandb-col\"><h3>Run history:</h3><br/><table class=\"wandb\"><tr><td>f1_score</td><td>▁</td></tr><tr><td>f1_score_train</td><td>▁</td></tr><tr><td>f1_score_valid</td><td>▁</td></tr></table><br/></div><div class=\"wandb-col\"><h3>Run summary:</h3><br/><table class=\"wandb\"><tr><td>f1_score</td><td>0.74198</td></tr><tr><td>f1_score_train</td><td>0.58462</td></tr><tr><td>f1_score_valid</td><td>0.66441</td></tr></table><br/></div></div>"
      ],
      "text/plain": [
       "<IPython.core.display.HTML object>"
      ]
     },
     "metadata": {},
     "output_type": "display_data"
    },
    {
     "data": {
      "text/html": [
       " View run <strong style=\"color:#cdcd00\">sweet-sweep-19</strong> at: <a href='https://wandb.ai/ahujavaibhav2001-st-lawrence-college/Truck%20Delay%20Classification/runs/5xzwufxf' target=\"_blank\">https://wandb.ai/ahujavaibhav2001-st-lawrence-college/Truck%20Delay%20Classification/runs/5xzwufxf</a><br> View project at: <a href='https://wandb.ai/ahujavaibhav2001-st-lawrence-college/Truck%20Delay%20Classification' target=\"_blank\">https://wandb.ai/ahujavaibhav2001-st-lawrence-college/Truck%20Delay%20Classification</a><br>Synced 5 W&B file(s), 0 media file(s), 16 artifact file(s) and 7 other file(s)"
      ],
      "text/plain": [
       "<IPython.core.display.HTML object>"
      ]
     },
     "metadata": {},
     "output_type": "display_data"
    },
    {
     "data": {
      "text/html": [
       "Find logs at: <code>.\\wandb\\run-20241229_172245-5xzwufxf\\logs</code>"
      ],
      "text/plain": [
       "<IPython.core.display.HTML object>"
      ]
     },
     "metadata": {},
     "output_type": "display_data"
    },
    {
     "name": "stderr",
     "output_type": "stream",
     "text": [
      "wandb: Agent Starting Run: xrqdlx6a with config:\n",
      "wandb: \tmax_depth: 5\n",
      "wandb: \tmin_samples_split: 2\n",
      "wandb: \tn_estimators: 20\n",
      "wandb: WARNING Ignoring project 'Truck Delay Classification' when running a sweep.\n"
     ]
    },
    {
     "data": {
      "text/html": [
       "Tracking run with wandb version 0.19.1"
      ],
      "text/plain": [
       "<IPython.core.display.HTML object>"
      ]
     },
     "metadata": {},
     "output_type": "display_data"
    },
    {
     "data": {
      "text/html": [
       "Run data is saved locally in <code>C:\\Users\\ahuja\\wandb\\run-20241229_172256-xrqdlx6a</code>"
      ],
      "text/plain": [
       "<IPython.core.display.HTML object>"
      ]
     },
     "metadata": {},
     "output_type": "display_data"
    },
    {
     "data": {
      "text/html": [
       "Syncing run <strong><a href='https://wandb.ai/ahujavaibhav2001-st-lawrence-college/Truck%20Delay%20Classification/runs/xrqdlx6a' target=\"_blank\">avid-sweep-20</a></strong> to <a href='https://wandb.ai/ahujavaibhav2001-st-lawrence-college/Truck%20Delay%20Classification' target=\"_blank\">Weights & Biases</a> (<a href='https://wandb.me/developer-guide' target=\"_blank\">docs</a>)<br>Sweep page: <a href='https://wandb.ai/ahujavaibhav2001-st-lawrence-college/Truck%20Delay%20Classification/sweeps/9mnowi7x' target=\"_blank\">https://wandb.ai/ahujavaibhav2001-st-lawrence-college/Truck%20Delay%20Classification/sweeps/9mnowi7x</a>"
      ],
      "text/plain": [
       "<IPython.core.display.HTML object>"
      ]
     },
     "metadata": {},
     "output_type": "display_data"
    },
    {
     "data": {
      "text/html": [
       " View project at <a href='https://wandb.ai/ahujavaibhav2001-st-lawrence-college/Truck%20Delay%20Classification' target=\"_blank\">https://wandb.ai/ahujavaibhav2001-st-lawrence-college/Truck%20Delay%20Classification</a>"
      ],
      "text/plain": [
       "<IPython.core.display.HTML object>"
      ]
     },
     "metadata": {},
     "output_type": "display_data"
    },
    {
     "data": {
      "text/html": [
       " View sweep at <a href='https://wandb.ai/ahujavaibhav2001-st-lawrence-college/Truck%20Delay%20Classification/sweeps/9mnowi7x' target=\"_blank\">https://wandb.ai/ahujavaibhav2001-st-lawrence-college/Truck%20Delay%20Classification/sweeps/9mnowi7x</a>"
      ],
      "text/plain": [
       "<IPython.core.display.HTML object>"
      ]
     },
     "metadata": {},
     "output_type": "display_data"
    },
    {
     "data": {
      "text/html": [
       " View run at <a href='https://wandb.ai/ahujavaibhav2001-st-lawrence-college/Truck%20Delay%20Classification/runs/xrqdlx6a' target=\"_blank\">https://wandb.ai/ahujavaibhav2001-st-lawrence-college/Truck%20Delay%20Classification/runs/xrqdlx6a</a>"
      ],
      "text/plain": [
       "<IPython.core.display.HTML object>"
      ]
     },
     "metadata": {},
     "output_type": "display_data"
    },
    {
     "name": "stdout",
     "output_type": "stream",
     "text": [
      "F1_score Train: 0.5801\n",
      "F1_score Valid: 0.6659\n",
      "F1_score Test: 0.7495\n"
     ]
    },
    {
     "name": "stderr",
     "output_type": "stream",
     "text": [
      "wandb: \n",
      "wandb: Plotting RandomForestClassifier.\n",
      "UserWarning: X does not have valid feature names, but RandomForestClassifier was fitted with feature names\n",
      "wandb: Logged feature importances.\n",
      "wandb: Logged confusion matrix.\n",
      "UserWarning: X does not have valid feature names, but RandomForestClassifier was fitted with feature names\n",
      "wandb: Logged summary metrics.\n",
      "wandb: Logged class proportions.\n",
      "UserWarning: X does not have valid feature names, but RandomForestClassifier was fitted with feature names\n",
      "ConvergenceWarning: lbfgs failed to converge (status=1):\n",
      "STOP: TOTAL NO. of ITERATIONS REACHED LIMIT.\n",
      "\n",
      "Increase the number of iterations (max_iter) or scale the data as shown in:\n",
      "    https://scikit-learn.org/stable/modules/preprocessing.html\n",
      "Please also refer to the documentation for alternative solver options:\n",
      "    https://scikit-learn.org/stable/modules/linear_model.html#logistic-regression\n",
      "wandb: Logged calibration curve.\n",
      "wandb: Logged roc curve.\n",
      "wandb: Logged precision-recall curve.\n"
     ]
    },
    {
     "data": {
      "text/html": [],
      "text/plain": [
       "<IPython.core.display.HTML object>"
      ]
     },
     "metadata": {},
     "output_type": "display_data"
    },
    {
     "data": {
      "text/html": [
       "<br>    <style><br>        .wandb-row {<br>            display: flex;<br>            flex-direction: row;<br>            flex-wrap: wrap;<br>            justify-content: flex-start;<br>            width: 100%;<br>        }<br>        .wandb-col {<br>            display: flex;<br>            flex-direction: column;<br>            flex-basis: 100%;<br>            flex: 1;<br>            padding: 10px;<br>        }<br>    </style><br><div class=\"wandb-row\"><div class=\"wandb-col\"><h3>Run history:</h3><br/><table class=\"wandb\"><tr><td>f1_score</td><td>▁</td></tr><tr><td>f1_score_train</td><td>▁</td></tr><tr><td>f1_score_valid</td><td>▁</td></tr></table><br/></div><div class=\"wandb-col\"><h3>Run summary:</h3><br/><table class=\"wandb\"><tr><td>f1_score</td><td>0.74953</td></tr><tr><td>f1_score_train</td><td>0.58014</td></tr><tr><td>f1_score_valid</td><td>0.66592</td></tr></table><br/></div></div>"
      ],
      "text/plain": [
       "<IPython.core.display.HTML object>"
      ]
     },
     "metadata": {},
     "output_type": "display_data"
    },
    {
     "data": {
      "text/html": [
       " View run <strong style=\"color:#cdcd00\">avid-sweep-20</strong> at: <a href='https://wandb.ai/ahujavaibhav2001-st-lawrence-college/Truck%20Delay%20Classification/runs/xrqdlx6a' target=\"_blank\">https://wandb.ai/ahujavaibhav2001-st-lawrence-college/Truck%20Delay%20Classification/runs/xrqdlx6a</a><br> View project at: <a href='https://wandb.ai/ahujavaibhav2001-st-lawrence-college/Truck%20Delay%20Classification' target=\"_blank\">https://wandb.ai/ahujavaibhav2001-st-lawrence-college/Truck%20Delay%20Classification</a><br>Synced 5 W&B file(s), 0 media file(s), 16 artifact file(s) and 7 other file(s)"
      ],
      "text/plain": [
       "<IPython.core.display.HTML object>"
      ]
     },
     "metadata": {},
     "output_type": "display_data"
    },
    {
     "data": {
      "text/html": [
       "Find logs at: <code>.\\wandb\\run-20241229_172256-xrqdlx6a\\logs</code>"
      ],
      "text/plain": [
       "<IPython.core.display.HTML object>"
      ]
     },
     "metadata": {},
     "output_type": "display_data"
    },
    {
     "name": "stderr",
     "output_type": "stream",
     "text": [
      "wandb: Agent Starting Run: ocqt31hk with config:\n",
      "wandb: \tmax_depth: 5\n",
      "wandb: \tmin_samples_split: 4\n",
      "wandb: \tn_estimators: 8\n",
      "wandb: WARNING Ignoring project 'Truck Delay Classification' when running a sweep.\n"
     ]
    },
    {
     "data": {
      "text/html": [
       "Tracking run with wandb version 0.19.1"
      ],
      "text/plain": [
       "<IPython.core.display.HTML object>"
      ]
     },
     "metadata": {},
     "output_type": "display_data"
    },
    {
     "data": {
      "text/html": [
       "Run data is saved locally in <code>C:\\Users\\ahuja\\wandb\\run-20241229_172306-ocqt31hk</code>"
      ],
      "text/plain": [
       "<IPython.core.display.HTML object>"
      ]
     },
     "metadata": {},
     "output_type": "display_data"
    },
    {
     "data": {
      "text/html": [
       "Syncing run <strong><a href='https://wandb.ai/ahujavaibhav2001-st-lawrence-college/Truck%20Delay%20Classification/runs/ocqt31hk' target=\"_blank\">avid-sweep-21</a></strong> to <a href='https://wandb.ai/ahujavaibhav2001-st-lawrence-college/Truck%20Delay%20Classification' target=\"_blank\">Weights & Biases</a> (<a href='https://wandb.me/developer-guide' target=\"_blank\">docs</a>)<br>Sweep page: <a href='https://wandb.ai/ahujavaibhav2001-st-lawrence-college/Truck%20Delay%20Classification/sweeps/9mnowi7x' target=\"_blank\">https://wandb.ai/ahujavaibhav2001-st-lawrence-college/Truck%20Delay%20Classification/sweeps/9mnowi7x</a>"
      ],
      "text/plain": [
       "<IPython.core.display.HTML object>"
      ]
     },
     "metadata": {},
     "output_type": "display_data"
    },
    {
     "data": {
      "text/html": [
       " View project at <a href='https://wandb.ai/ahujavaibhav2001-st-lawrence-college/Truck%20Delay%20Classification' target=\"_blank\">https://wandb.ai/ahujavaibhav2001-st-lawrence-college/Truck%20Delay%20Classification</a>"
      ],
      "text/plain": [
       "<IPython.core.display.HTML object>"
      ]
     },
     "metadata": {},
     "output_type": "display_data"
    },
    {
     "data": {
      "text/html": [
       " View sweep at <a href='https://wandb.ai/ahujavaibhav2001-st-lawrence-college/Truck%20Delay%20Classification/sweeps/9mnowi7x' target=\"_blank\">https://wandb.ai/ahujavaibhav2001-st-lawrence-college/Truck%20Delay%20Classification/sweeps/9mnowi7x</a>"
      ],
      "text/plain": [
       "<IPython.core.display.HTML object>"
      ]
     },
     "metadata": {},
     "output_type": "display_data"
    },
    {
     "data": {
      "text/html": [
       " View run at <a href='https://wandb.ai/ahujavaibhav2001-st-lawrence-college/Truck%20Delay%20Classification/runs/ocqt31hk' target=\"_blank\">https://wandb.ai/ahujavaibhav2001-st-lawrence-college/Truck%20Delay%20Classification/runs/ocqt31hk</a>"
      ],
      "text/plain": [
       "<IPython.core.display.HTML object>"
      ]
     },
     "metadata": {},
     "output_type": "display_data"
    },
    {
     "name": "stdout",
     "output_type": "stream",
     "text": [
      "F1_score Train: 0.584\n",
      "F1_score Valid: 0.6621\n",
      "F1_score Test: 0.7371\n"
     ]
    },
    {
     "name": "stderr",
     "output_type": "stream",
     "text": [
      "wandb: \n",
      "wandb: Plotting RandomForestClassifier.\n",
      "UserWarning: X does not have valid feature names, but RandomForestClassifier was fitted with feature names\n",
      "wandb: Logged feature importances.\n",
      "wandb: Logged confusion matrix.\n",
      "UserWarning: X does not have valid feature names, but RandomForestClassifier was fitted with feature names\n",
      "wandb: Logged summary metrics.\n",
      "wandb: Logged class proportions.\n",
      "UserWarning: X does not have valid feature names, but RandomForestClassifier was fitted with feature names\n",
      "ConvergenceWarning: lbfgs failed to converge (status=1):\n",
      "STOP: TOTAL NO. of ITERATIONS REACHED LIMIT.\n",
      "\n",
      "Increase the number of iterations (max_iter) or scale the data as shown in:\n",
      "    https://scikit-learn.org/stable/modules/preprocessing.html\n",
      "Please also refer to the documentation for alternative solver options:\n",
      "    https://scikit-learn.org/stable/modules/linear_model.html#logistic-regression\n",
      "wandb: Logged calibration curve.\n",
      "wandb: Logged roc curve.\n",
      "wandb: Logged precision-recall curve.\n"
     ]
    },
    {
     "data": {
      "text/html": [],
      "text/plain": [
       "<IPython.core.display.HTML object>"
      ]
     },
     "metadata": {},
     "output_type": "display_data"
    },
    {
     "data": {
      "text/html": [
       "<br>    <style><br>        .wandb-row {<br>            display: flex;<br>            flex-direction: row;<br>            flex-wrap: wrap;<br>            justify-content: flex-start;<br>            width: 100%;<br>        }<br>        .wandb-col {<br>            display: flex;<br>            flex-direction: column;<br>            flex-basis: 100%;<br>            flex: 1;<br>            padding: 10px;<br>        }<br>    </style><br><div class=\"wandb-row\"><div class=\"wandb-col\"><h3>Run history:</h3><br/><table class=\"wandb\"><tr><td>f1_score</td><td>▁</td></tr><tr><td>f1_score_train</td><td>▁</td></tr><tr><td>f1_score_valid</td><td>▁</td></tr></table><br/></div><div class=\"wandb-col\"><h3>Run summary:</h3><br/><table class=\"wandb\"><tr><td>f1_score</td><td>0.73711</td></tr><tr><td>f1_score_train</td><td>0.58399</td></tr><tr><td>f1_score_valid</td><td>0.66215</td></tr></table><br/></div></div>"
      ],
      "text/plain": [
       "<IPython.core.display.HTML object>"
      ]
     },
     "metadata": {},
     "output_type": "display_data"
    },
    {
     "data": {
      "text/html": [
       " View run <strong style=\"color:#cdcd00\">avid-sweep-21</strong> at: <a href='https://wandb.ai/ahujavaibhav2001-st-lawrence-college/Truck%20Delay%20Classification/runs/ocqt31hk' target=\"_blank\">https://wandb.ai/ahujavaibhav2001-st-lawrence-college/Truck%20Delay%20Classification/runs/ocqt31hk</a><br> View project at: <a href='https://wandb.ai/ahujavaibhav2001-st-lawrence-college/Truck%20Delay%20Classification' target=\"_blank\">https://wandb.ai/ahujavaibhav2001-st-lawrence-college/Truck%20Delay%20Classification</a><br>Synced 5 W&B file(s), 0 media file(s), 16 artifact file(s) and 7 other file(s)"
      ],
      "text/plain": [
       "<IPython.core.display.HTML object>"
      ]
     },
     "metadata": {},
     "output_type": "display_data"
    },
    {
     "data": {
      "text/html": [
       "Find logs at: <code>.\\wandb\\run-20241229_172306-ocqt31hk\\logs</code>"
      ],
      "text/plain": [
       "<IPython.core.display.HTML object>"
      ]
     },
     "metadata": {},
     "output_type": "display_data"
    },
    {
     "name": "stderr",
     "output_type": "stream",
     "text": [
      "wandb: Agent Starting Run: nkgqsl69 with config:\n",
      "wandb: \tmax_depth: 5\n",
      "wandb: \tmin_samples_split: 4\n",
      "wandb: \tn_estimators: 12\n",
      "wandb: WARNING Ignoring project 'Truck Delay Classification' when running a sweep.\n"
     ]
    },
    {
     "data": {
      "text/html": [
       "Tracking run with wandb version 0.19.1"
      ],
      "text/plain": [
       "<IPython.core.display.HTML object>"
      ]
     },
     "metadata": {},
     "output_type": "display_data"
    },
    {
     "data": {
      "text/html": [
       "Run data is saved locally in <code>C:\\Users\\ahuja\\wandb\\run-20241229_172316-nkgqsl69</code>"
      ],
      "text/plain": [
       "<IPython.core.display.HTML object>"
      ]
     },
     "metadata": {},
     "output_type": "display_data"
    },
    {
     "data": {
      "text/html": [
       "Syncing run <strong><a href='https://wandb.ai/ahujavaibhav2001-st-lawrence-college/Truck%20Delay%20Classification/runs/nkgqsl69' target=\"_blank\">jolly-sweep-22</a></strong> to <a href='https://wandb.ai/ahujavaibhav2001-st-lawrence-college/Truck%20Delay%20Classification' target=\"_blank\">Weights & Biases</a> (<a href='https://wandb.me/developer-guide' target=\"_blank\">docs</a>)<br>Sweep page: <a href='https://wandb.ai/ahujavaibhav2001-st-lawrence-college/Truck%20Delay%20Classification/sweeps/9mnowi7x' target=\"_blank\">https://wandb.ai/ahujavaibhav2001-st-lawrence-college/Truck%20Delay%20Classification/sweeps/9mnowi7x</a>"
      ],
      "text/plain": [
       "<IPython.core.display.HTML object>"
      ]
     },
     "metadata": {},
     "output_type": "display_data"
    },
    {
     "data": {
      "text/html": [
       " View project at <a href='https://wandb.ai/ahujavaibhav2001-st-lawrence-college/Truck%20Delay%20Classification' target=\"_blank\">https://wandb.ai/ahujavaibhav2001-st-lawrence-college/Truck%20Delay%20Classification</a>"
      ],
      "text/plain": [
       "<IPython.core.display.HTML object>"
      ]
     },
     "metadata": {},
     "output_type": "display_data"
    },
    {
     "data": {
      "text/html": [
       " View sweep at <a href='https://wandb.ai/ahujavaibhav2001-st-lawrence-college/Truck%20Delay%20Classification/sweeps/9mnowi7x' target=\"_blank\">https://wandb.ai/ahujavaibhav2001-st-lawrence-college/Truck%20Delay%20Classification/sweeps/9mnowi7x</a>"
      ],
      "text/plain": [
       "<IPython.core.display.HTML object>"
      ]
     },
     "metadata": {},
     "output_type": "display_data"
    },
    {
     "data": {
      "text/html": [
       " View run at <a href='https://wandb.ai/ahujavaibhav2001-st-lawrence-college/Truck%20Delay%20Classification/runs/nkgqsl69' target=\"_blank\">https://wandb.ai/ahujavaibhav2001-st-lawrence-college/Truck%20Delay%20Classification/runs/nkgqsl69</a>"
      ],
      "text/plain": [
       "<IPython.core.display.HTML object>"
      ]
     },
     "metadata": {},
     "output_type": "display_data"
    },
    {
     "name": "stdout",
     "output_type": "stream",
     "text": [
      "F1_score Train: 0.5845\n",
      "F1_score Valid: 0.6644\n",
      "F1_score Test: 0.7396\n"
     ]
    },
    {
     "name": "stderr",
     "output_type": "stream",
     "text": [
      "wandb: \n",
      "wandb: Plotting RandomForestClassifier.\n",
      "UserWarning: X does not have valid feature names, but RandomForestClassifier was fitted with feature names\n",
      "wandb: Logged feature importances.\n",
      "wandb: Logged confusion matrix.\n",
      "UserWarning: X does not have valid feature names, but RandomForestClassifier was fitted with feature names\n",
      "wandb: Logged summary metrics.\n",
      "wandb: Logged class proportions.\n",
      "UserWarning: X does not have valid feature names, but RandomForestClassifier was fitted with feature names\n",
      "ConvergenceWarning: lbfgs failed to converge (status=1):\n",
      "STOP: TOTAL NO. of ITERATIONS REACHED LIMIT.\n",
      "\n",
      "Increase the number of iterations (max_iter) or scale the data as shown in:\n",
      "    https://scikit-learn.org/stable/modules/preprocessing.html\n",
      "Please also refer to the documentation for alternative solver options:\n",
      "    https://scikit-learn.org/stable/modules/linear_model.html#logistic-regression\n",
      "wandb: Logged calibration curve.\n",
      "wandb: Logged roc curve.\n",
      "wandb: Logged precision-recall curve.\n"
     ]
    },
    {
     "data": {
      "text/html": [],
      "text/plain": [
       "<IPython.core.display.HTML object>"
      ]
     },
     "metadata": {},
     "output_type": "display_data"
    },
    {
     "data": {
      "text/html": [
       "<br>    <style><br>        .wandb-row {<br>            display: flex;<br>            flex-direction: row;<br>            flex-wrap: wrap;<br>            justify-content: flex-start;<br>            width: 100%;<br>        }<br>        .wandb-col {<br>            display: flex;<br>            flex-direction: column;<br>            flex-basis: 100%;<br>            flex: 1;<br>            padding: 10px;<br>        }<br>    </style><br><div class=\"wandb-row\"><div class=\"wandb-col\"><h3>Run history:</h3><br/><table class=\"wandb\"><tr><td>f1_score</td><td>▁</td></tr><tr><td>f1_score_train</td><td>▁</td></tr><tr><td>f1_score_valid</td><td>▁</td></tr></table><br/></div><div class=\"wandb-col\"><h3>Run summary:</h3><br/><table class=\"wandb\"><tr><td>f1_score</td><td>0.7396</td></tr><tr><td>f1_score_train</td><td>0.58455</td></tr><tr><td>f1_score_valid</td><td>0.66439</td></tr></table><br/></div></div>"
      ],
      "text/plain": [
       "<IPython.core.display.HTML object>"
      ]
     },
     "metadata": {},
     "output_type": "display_data"
    },
    {
     "data": {
      "text/html": [
       " View run <strong style=\"color:#cdcd00\">jolly-sweep-22</strong> at: <a href='https://wandb.ai/ahujavaibhav2001-st-lawrence-college/Truck%20Delay%20Classification/runs/nkgqsl69' target=\"_blank\">https://wandb.ai/ahujavaibhav2001-st-lawrence-college/Truck%20Delay%20Classification/runs/nkgqsl69</a><br> View project at: <a href='https://wandb.ai/ahujavaibhav2001-st-lawrence-college/Truck%20Delay%20Classification' target=\"_blank\">https://wandb.ai/ahujavaibhav2001-st-lawrence-college/Truck%20Delay%20Classification</a><br>Synced 5 W&B file(s), 0 media file(s), 16 artifact file(s) and 7 other file(s)"
      ],
      "text/plain": [
       "<IPython.core.display.HTML object>"
      ]
     },
     "metadata": {},
     "output_type": "display_data"
    },
    {
     "data": {
      "text/html": [
       "Find logs at: <code>.\\wandb\\run-20241229_172316-nkgqsl69\\logs</code>"
      ],
      "text/plain": [
       "<IPython.core.display.HTML object>"
      ]
     },
     "metadata": {},
     "output_type": "display_data"
    },
    {
     "name": "stderr",
     "output_type": "stream",
     "text": [
      "wandb: Agent Starting Run: q0g1qj5q with config:\n",
      "wandb: \tmax_depth: 5\n",
      "wandb: \tmin_samples_split: 4\n",
      "wandb: \tn_estimators: 16\n",
      "wandb: WARNING Ignoring project 'Truck Delay Classification' when running a sweep.\n"
     ]
    },
    {
     "data": {
      "text/html": [
       "Tracking run with wandb version 0.19.1"
      ],
      "text/plain": [
       "<IPython.core.display.HTML object>"
      ]
     },
     "metadata": {},
     "output_type": "display_data"
    },
    {
     "data": {
      "text/html": [
       "Run data is saved locally in <code>C:\\Users\\ahuja\\wandb\\run-20241229_172326-q0g1qj5q</code>"
      ],
      "text/plain": [
       "<IPython.core.display.HTML object>"
      ]
     },
     "metadata": {},
     "output_type": "display_data"
    },
    {
     "data": {
      "text/html": [
       "Syncing run <strong><a href='https://wandb.ai/ahujavaibhav2001-st-lawrence-college/Truck%20Delay%20Classification/runs/q0g1qj5q' target=\"_blank\">elated-sweep-23</a></strong> to <a href='https://wandb.ai/ahujavaibhav2001-st-lawrence-college/Truck%20Delay%20Classification' target=\"_blank\">Weights & Biases</a> (<a href='https://wandb.me/developer-guide' target=\"_blank\">docs</a>)<br>Sweep page: <a href='https://wandb.ai/ahujavaibhav2001-st-lawrence-college/Truck%20Delay%20Classification/sweeps/9mnowi7x' target=\"_blank\">https://wandb.ai/ahujavaibhav2001-st-lawrence-college/Truck%20Delay%20Classification/sweeps/9mnowi7x</a>"
      ],
      "text/plain": [
       "<IPython.core.display.HTML object>"
      ]
     },
     "metadata": {},
     "output_type": "display_data"
    },
    {
     "data": {
      "text/html": [
       " View project at <a href='https://wandb.ai/ahujavaibhav2001-st-lawrence-college/Truck%20Delay%20Classification' target=\"_blank\">https://wandb.ai/ahujavaibhav2001-st-lawrence-college/Truck%20Delay%20Classification</a>"
      ],
      "text/plain": [
       "<IPython.core.display.HTML object>"
      ]
     },
     "metadata": {},
     "output_type": "display_data"
    },
    {
     "data": {
      "text/html": [
       " View sweep at <a href='https://wandb.ai/ahujavaibhav2001-st-lawrence-college/Truck%20Delay%20Classification/sweeps/9mnowi7x' target=\"_blank\">https://wandb.ai/ahujavaibhav2001-st-lawrence-college/Truck%20Delay%20Classification/sweeps/9mnowi7x</a>"
      ],
      "text/plain": [
       "<IPython.core.display.HTML object>"
      ]
     },
     "metadata": {},
     "output_type": "display_data"
    },
    {
     "data": {
      "text/html": [
       " View run at <a href='https://wandb.ai/ahujavaibhav2001-st-lawrence-college/Truck%20Delay%20Classification/runs/q0g1qj5q' target=\"_blank\">https://wandb.ai/ahujavaibhav2001-st-lawrence-college/Truck%20Delay%20Classification/runs/q0g1qj5q</a>"
      ],
      "text/plain": [
       "<IPython.core.display.HTML object>"
      ]
     },
     "metadata": {},
     "output_type": "display_data"
    },
    {
     "name": "stdout",
     "output_type": "stream",
     "text": [
      "F1_score Train: 0.5833\n",
      "F1_score Valid: 0.6667\n",
      "F1_score Test: 0.746\n"
     ]
    },
    {
     "name": "stderr",
     "output_type": "stream",
     "text": [
      "wandb: \n",
      "wandb: Plotting RandomForestClassifier.\n",
      "UserWarning: X does not have valid feature names, but RandomForestClassifier was fitted with feature names\n",
      "wandb: Logged feature importances.\n",
      "wandb: Logged confusion matrix.\n",
      "UserWarning: X does not have valid feature names, but RandomForestClassifier was fitted with feature names\n",
      "wandb: Logged summary metrics.\n",
      "wandb: Logged class proportions.\n",
      "UserWarning: X does not have valid feature names, but RandomForestClassifier was fitted with feature names\n",
      "ConvergenceWarning: lbfgs failed to converge (status=1):\n",
      "STOP: TOTAL NO. of ITERATIONS REACHED LIMIT.\n",
      "\n",
      "Increase the number of iterations (max_iter) or scale the data as shown in:\n",
      "    https://scikit-learn.org/stable/modules/preprocessing.html\n",
      "Please also refer to the documentation for alternative solver options:\n",
      "    https://scikit-learn.org/stable/modules/linear_model.html#logistic-regression\n",
      "wandb: Logged calibration curve.\n",
      "wandb: Logged roc curve.\n",
      "wandb: Logged precision-recall curve.\n"
     ]
    },
    {
     "data": {
      "text/html": [],
      "text/plain": [
       "<IPython.core.display.HTML object>"
      ]
     },
     "metadata": {},
     "output_type": "display_data"
    },
    {
     "data": {
      "text/html": [
       "<br>    <style><br>        .wandb-row {<br>            display: flex;<br>            flex-direction: row;<br>            flex-wrap: wrap;<br>            justify-content: flex-start;<br>            width: 100%;<br>        }<br>        .wandb-col {<br>            display: flex;<br>            flex-direction: column;<br>            flex-basis: 100%;<br>            flex: 1;<br>            padding: 10px;<br>        }<br>    </style><br><div class=\"wandb-row\"><div class=\"wandb-col\"><h3>Run history:</h3><br/><table class=\"wandb\"><tr><td>f1_score</td><td>▁</td></tr><tr><td>f1_score_train</td><td>▁</td></tr><tr><td>f1_score_valid</td><td>▁</td></tr></table><br/></div><div class=\"wandb-col\"><h3>Run summary:</h3><br/><table class=\"wandb\"><tr><td>f1_score</td><td>0.746</td></tr><tr><td>f1_score_train</td><td>0.58335</td></tr><tr><td>f1_score_valid</td><td>0.66667</td></tr></table><br/></div></div>"
      ],
      "text/plain": [
       "<IPython.core.display.HTML object>"
      ]
     },
     "metadata": {},
     "output_type": "display_data"
    },
    {
     "data": {
      "text/html": [
       " View run <strong style=\"color:#cdcd00\">elated-sweep-23</strong> at: <a href='https://wandb.ai/ahujavaibhav2001-st-lawrence-college/Truck%20Delay%20Classification/runs/q0g1qj5q' target=\"_blank\">https://wandb.ai/ahujavaibhav2001-st-lawrence-college/Truck%20Delay%20Classification/runs/q0g1qj5q</a><br> View project at: <a href='https://wandb.ai/ahujavaibhav2001-st-lawrence-college/Truck%20Delay%20Classification' target=\"_blank\">https://wandb.ai/ahujavaibhav2001-st-lawrence-college/Truck%20Delay%20Classification</a><br>Synced 5 W&B file(s), 0 media file(s), 16 artifact file(s) and 7 other file(s)"
      ],
      "text/plain": [
       "<IPython.core.display.HTML object>"
      ]
     },
     "metadata": {},
     "output_type": "display_data"
    },
    {
     "data": {
      "text/html": [
       "Find logs at: <code>.\\wandb\\run-20241229_172326-q0g1qj5q\\logs</code>"
      ],
      "text/plain": [
       "<IPython.core.display.HTML object>"
      ]
     },
     "metadata": {},
     "output_type": "display_data"
    },
    {
     "name": "stderr",
     "output_type": "stream",
     "text": [
      "wandb: Agent Starting Run: dzvqyebo with config:\n",
      "wandb: \tmax_depth: 5\n",
      "wandb: \tmin_samples_split: 4\n",
      "wandb: \tn_estimators: 20\n",
      "wandb: WARNING Ignoring project 'Truck Delay Classification' when running a sweep.\n"
     ]
    },
    {
     "data": {
      "text/html": [
       "Tracking run with wandb version 0.19.1"
      ],
      "text/plain": [
       "<IPython.core.display.HTML object>"
      ]
     },
     "metadata": {},
     "output_type": "display_data"
    },
    {
     "data": {
      "text/html": [
       "Run data is saved locally in <code>C:\\Users\\ahuja\\wandb\\run-20241229_172337-dzvqyebo</code>"
      ],
      "text/plain": [
       "<IPython.core.display.HTML object>"
      ]
     },
     "metadata": {},
     "output_type": "display_data"
    },
    {
     "data": {
      "text/html": [
       "Syncing run <strong><a href='https://wandb.ai/ahujavaibhav2001-st-lawrence-college/Truck%20Delay%20Classification/runs/dzvqyebo' target=\"_blank\">dazzling-sweep-24</a></strong> to <a href='https://wandb.ai/ahujavaibhav2001-st-lawrence-college/Truck%20Delay%20Classification' target=\"_blank\">Weights & Biases</a> (<a href='https://wandb.me/developer-guide' target=\"_blank\">docs</a>)<br>Sweep page: <a href='https://wandb.ai/ahujavaibhav2001-st-lawrence-college/Truck%20Delay%20Classification/sweeps/9mnowi7x' target=\"_blank\">https://wandb.ai/ahujavaibhav2001-st-lawrence-college/Truck%20Delay%20Classification/sweeps/9mnowi7x</a>"
      ],
      "text/plain": [
       "<IPython.core.display.HTML object>"
      ]
     },
     "metadata": {},
     "output_type": "display_data"
    },
    {
     "data": {
      "text/html": [
       " View project at <a href='https://wandb.ai/ahujavaibhav2001-st-lawrence-college/Truck%20Delay%20Classification' target=\"_blank\">https://wandb.ai/ahujavaibhav2001-st-lawrence-college/Truck%20Delay%20Classification</a>"
      ],
      "text/plain": [
       "<IPython.core.display.HTML object>"
      ]
     },
     "metadata": {},
     "output_type": "display_data"
    },
    {
     "data": {
      "text/html": [
       " View sweep at <a href='https://wandb.ai/ahujavaibhav2001-st-lawrence-college/Truck%20Delay%20Classification/sweeps/9mnowi7x' target=\"_blank\">https://wandb.ai/ahujavaibhav2001-st-lawrence-college/Truck%20Delay%20Classification/sweeps/9mnowi7x</a>"
      ],
      "text/plain": [
       "<IPython.core.display.HTML object>"
      ]
     },
     "metadata": {},
     "output_type": "display_data"
    },
    {
     "data": {
      "text/html": [
       " View run at <a href='https://wandb.ai/ahujavaibhav2001-st-lawrence-college/Truck%20Delay%20Classification/runs/dzvqyebo' target=\"_blank\">https://wandb.ai/ahujavaibhav2001-st-lawrence-college/Truck%20Delay%20Classification/runs/dzvqyebo</a>"
      ],
      "text/plain": [
       "<IPython.core.display.HTML object>"
      ]
     },
     "metadata": {},
     "output_type": "display_data"
    },
    {
     "name": "stdout",
     "output_type": "stream",
     "text": [
      "F1_score Train: 0.5781\n",
      "F1_score Valid: 0.6644\n",
      "F1_score Test: 0.7503\n"
     ]
    },
    {
     "name": "stderr",
     "output_type": "stream",
     "text": [
      "wandb: \n",
      "wandb: Plotting RandomForestClassifier.\n",
      "UserWarning: X does not have valid feature names, but RandomForestClassifier was fitted with feature names\n",
      "wandb: Logged feature importances.\n",
      "wandb: Logged confusion matrix.\n",
      "UserWarning: X does not have valid feature names, but RandomForestClassifier was fitted with feature names\n",
      "wandb: Logged summary metrics.\n",
      "wandb: Logged class proportions.\n",
      "UserWarning: X does not have valid feature names, but RandomForestClassifier was fitted with feature names\n",
      "ConvergenceWarning: lbfgs failed to converge (status=1):\n",
      "STOP: TOTAL NO. of ITERATIONS REACHED LIMIT.\n",
      "\n",
      "Increase the number of iterations (max_iter) or scale the data as shown in:\n",
      "    https://scikit-learn.org/stable/modules/preprocessing.html\n",
      "Please also refer to the documentation for alternative solver options:\n",
      "    https://scikit-learn.org/stable/modules/linear_model.html#logistic-regression\n",
      "wandb: Logged calibration curve.\n",
      "wandb: Logged roc curve.\n",
      "wandb: Logged precision-recall curve.\n"
     ]
    },
    {
     "data": {
      "text/html": [],
      "text/plain": [
       "<IPython.core.display.HTML object>"
      ]
     },
     "metadata": {},
     "output_type": "display_data"
    },
    {
     "data": {
      "text/html": [
       "<br>    <style><br>        .wandb-row {<br>            display: flex;<br>            flex-direction: row;<br>            flex-wrap: wrap;<br>            justify-content: flex-start;<br>            width: 100%;<br>        }<br>        .wandb-col {<br>            display: flex;<br>            flex-direction: column;<br>            flex-basis: 100%;<br>            flex: 1;<br>            padding: 10px;<br>        }<br>    </style><br><div class=\"wandb-row\"><div class=\"wandb-col\"><h3>Run history:</h3><br/><table class=\"wandb\"><tr><td>f1_score</td><td>▁</td></tr><tr><td>f1_score_train</td><td>▁</td></tr><tr><td>f1_score_valid</td><td>▁</td></tr></table><br/></div><div class=\"wandb-col\"><h3>Run summary:</h3><br/><table class=\"wandb\"><tr><td>f1_score</td><td>0.75031</td></tr><tr><td>f1_score_train</td><td>0.57814</td></tr><tr><td>f1_score_valid</td><td>0.66443</td></tr></table><br/></div></div>"
      ],
      "text/plain": [
       "<IPython.core.display.HTML object>"
      ]
     },
     "metadata": {},
     "output_type": "display_data"
    },
    {
     "data": {
      "text/html": [
       " View run <strong style=\"color:#cdcd00\">dazzling-sweep-24</strong> at: <a href='https://wandb.ai/ahujavaibhav2001-st-lawrence-college/Truck%20Delay%20Classification/runs/dzvqyebo' target=\"_blank\">https://wandb.ai/ahujavaibhav2001-st-lawrence-college/Truck%20Delay%20Classification/runs/dzvqyebo</a><br> View project at: <a href='https://wandb.ai/ahujavaibhav2001-st-lawrence-college/Truck%20Delay%20Classification' target=\"_blank\">https://wandb.ai/ahujavaibhav2001-st-lawrence-college/Truck%20Delay%20Classification</a><br>Synced 5 W&B file(s), 0 media file(s), 16 artifact file(s) and 7 other file(s)"
      ],
      "text/plain": [
       "<IPython.core.display.HTML object>"
      ]
     },
     "metadata": {},
     "output_type": "display_data"
    },
    {
     "data": {
      "text/html": [
       "Find logs at: <code>.\\wandb\\run-20241229_172337-dzvqyebo\\logs</code>"
      ],
      "text/plain": [
       "<IPython.core.display.HTML object>"
      ]
     },
     "metadata": {},
     "output_type": "display_data"
    },
    {
     "name": "stderr",
     "output_type": "stream",
     "text": [
      "wandb: Agent Starting Run: 312r7m4i with config:\n",
      "wandb: \tmax_depth: 5\n",
      "wandb: \tmin_samples_split: 8\n",
      "wandb: \tn_estimators: 8\n",
      "wandb: WARNING Ignoring project 'Truck Delay Classification' when running a sweep.\n"
     ]
    },
    {
     "data": {
      "text/html": [
       "Tracking run with wandb version 0.19.1"
      ],
      "text/plain": [
       "<IPython.core.display.HTML object>"
      ]
     },
     "metadata": {},
     "output_type": "display_data"
    },
    {
     "data": {
      "text/html": [
       "Run data is saved locally in <code>C:\\Users\\ahuja\\wandb\\run-20241229_172347-312r7m4i</code>"
      ],
      "text/plain": [
       "<IPython.core.display.HTML object>"
      ]
     },
     "metadata": {},
     "output_type": "display_data"
    },
    {
     "data": {
      "text/html": [
       "Syncing run <strong><a href='https://wandb.ai/ahujavaibhav2001-st-lawrence-college/Truck%20Delay%20Classification/runs/312r7m4i' target=\"_blank\">pleasant-sweep-25</a></strong> to <a href='https://wandb.ai/ahujavaibhav2001-st-lawrence-college/Truck%20Delay%20Classification' target=\"_blank\">Weights & Biases</a> (<a href='https://wandb.me/developer-guide' target=\"_blank\">docs</a>)<br>Sweep page: <a href='https://wandb.ai/ahujavaibhav2001-st-lawrence-college/Truck%20Delay%20Classification/sweeps/9mnowi7x' target=\"_blank\">https://wandb.ai/ahujavaibhav2001-st-lawrence-college/Truck%20Delay%20Classification/sweeps/9mnowi7x</a>"
      ],
      "text/plain": [
       "<IPython.core.display.HTML object>"
      ]
     },
     "metadata": {},
     "output_type": "display_data"
    },
    {
     "data": {
      "text/html": [
       " View project at <a href='https://wandb.ai/ahujavaibhav2001-st-lawrence-college/Truck%20Delay%20Classification' target=\"_blank\">https://wandb.ai/ahujavaibhav2001-st-lawrence-college/Truck%20Delay%20Classification</a>"
      ],
      "text/plain": [
       "<IPython.core.display.HTML object>"
      ]
     },
     "metadata": {},
     "output_type": "display_data"
    },
    {
     "data": {
      "text/html": [
       " View sweep at <a href='https://wandb.ai/ahujavaibhav2001-st-lawrence-college/Truck%20Delay%20Classification/sweeps/9mnowi7x' target=\"_blank\">https://wandb.ai/ahujavaibhav2001-st-lawrence-college/Truck%20Delay%20Classification/sweeps/9mnowi7x</a>"
      ],
      "text/plain": [
       "<IPython.core.display.HTML object>"
      ]
     },
     "metadata": {},
     "output_type": "display_data"
    },
    {
     "data": {
      "text/html": [
       " View run at <a href='https://wandb.ai/ahujavaibhav2001-st-lawrence-college/Truck%20Delay%20Classification/runs/312r7m4i' target=\"_blank\">https://wandb.ai/ahujavaibhav2001-st-lawrence-college/Truck%20Delay%20Classification/runs/312r7m4i</a>"
      ],
      "text/plain": [
       "<IPython.core.display.HTML object>"
      ]
     },
     "metadata": {},
     "output_type": "display_data"
    },
    {
     "name": "stdout",
     "output_type": "stream",
     "text": [
      "F1_score Train: 0.5718\n",
      "F1_score Valid: 0.6637\n",
      "F1_score Test: 0.7588\n"
     ]
    },
    {
     "name": "stderr",
     "output_type": "stream",
     "text": [
      "wandb: \n",
      "wandb: Plotting RandomForestClassifier.\n",
      "UserWarning: X does not have valid feature names, but RandomForestClassifier was fitted with feature names\n",
      "wandb: Logged feature importances.\n",
      "wandb: Logged confusion matrix.\n",
      "UserWarning: X does not have valid feature names, but RandomForestClassifier was fitted with feature names\n",
      "wandb: Logged summary metrics.\n",
      "wandb: Logged class proportions.\n",
      "UserWarning: X does not have valid feature names, but RandomForestClassifier was fitted with feature names\n",
      "ConvergenceWarning: lbfgs failed to converge (status=1):\n",
      "STOP: TOTAL NO. of ITERATIONS REACHED LIMIT.\n",
      "\n",
      "Increase the number of iterations (max_iter) or scale the data as shown in:\n",
      "    https://scikit-learn.org/stable/modules/preprocessing.html\n",
      "Please also refer to the documentation for alternative solver options:\n",
      "    https://scikit-learn.org/stable/modules/linear_model.html#logistic-regression\n",
      "wandb: Logged calibration curve.\n",
      "wandb: Logged roc curve.\n",
      "wandb: Logged precision-recall curve.\n"
     ]
    },
    {
     "data": {
      "text/html": [],
      "text/plain": [
       "<IPython.core.display.HTML object>"
      ]
     },
     "metadata": {},
     "output_type": "display_data"
    },
    {
     "data": {
      "text/html": [
       "<br>    <style><br>        .wandb-row {<br>            display: flex;<br>            flex-direction: row;<br>            flex-wrap: wrap;<br>            justify-content: flex-start;<br>            width: 100%;<br>        }<br>        .wandb-col {<br>            display: flex;<br>            flex-direction: column;<br>            flex-basis: 100%;<br>            flex: 1;<br>            padding: 10px;<br>        }<br>    </style><br><div class=\"wandb-row\"><div class=\"wandb-col\"><h3>Run history:</h3><br/><table class=\"wandb\"><tr><td>f1_score</td><td>▁</td></tr><tr><td>f1_score_train</td><td>▁</td></tr><tr><td>f1_score_valid</td><td>▁</td></tr></table><br/></div><div class=\"wandb-col\"><h3>Run summary:</h3><br/><table class=\"wandb\"><tr><td>f1_score</td><td>0.75883</td></tr><tr><td>f1_score_train</td><td>0.5718</td></tr><tr><td>f1_score_valid</td><td>0.66372</td></tr></table><br/></div></div>"
      ],
      "text/plain": [
       "<IPython.core.display.HTML object>"
      ]
     },
     "metadata": {},
     "output_type": "display_data"
    },
    {
     "data": {
      "text/html": [
       " View run <strong style=\"color:#cdcd00\">pleasant-sweep-25</strong> at: <a href='https://wandb.ai/ahujavaibhav2001-st-lawrence-college/Truck%20Delay%20Classification/runs/312r7m4i' target=\"_blank\">https://wandb.ai/ahujavaibhav2001-st-lawrence-college/Truck%20Delay%20Classification/runs/312r7m4i</a><br> View project at: <a href='https://wandb.ai/ahujavaibhav2001-st-lawrence-college/Truck%20Delay%20Classification' target=\"_blank\">https://wandb.ai/ahujavaibhav2001-st-lawrence-college/Truck%20Delay%20Classification</a><br>Synced 5 W&B file(s), 0 media file(s), 16 artifact file(s) and 7 other file(s)"
      ],
      "text/plain": [
       "<IPython.core.display.HTML object>"
      ]
     },
     "metadata": {},
     "output_type": "display_data"
    },
    {
     "data": {
      "text/html": [
       "Find logs at: <code>.\\wandb\\run-20241229_172347-312r7m4i\\logs</code>"
      ],
      "text/plain": [
       "<IPython.core.display.HTML object>"
      ]
     },
     "metadata": {},
     "output_type": "display_data"
    },
    {
     "name": "stderr",
     "output_type": "stream",
     "text": [
      "wandb: Agent Starting Run: 6ql1nq9b with config:\n",
      "wandb: \tmax_depth: 5\n",
      "wandb: \tmin_samples_split: 8\n",
      "wandb: \tn_estimators: 12\n",
      "wandb: WARNING Ignoring project 'Truck Delay Classification' when running a sweep.\n"
     ]
    },
    {
     "data": {
      "text/html": [
       "Tracking run with wandb version 0.19.1"
      ],
      "text/plain": [
       "<IPython.core.display.HTML object>"
      ]
     },
     "metadata": {},
     "output_type": "display_data"
    },
    {
     "data": {
      "text/html": [
       "Run data is saved locally in <code>C:\\Users\\ahuja\\wandb\\run-20241229_172357-6ql1nq9b</code>"
      ],
      "text/plain": [
       "<IPython.core.display.HTML object>"
      ]
     },
     "metadata": {},
     "output_type": "display_data"
    },
    {
     "data": {
      "text/html": [
       "Syncing run <strong><a href='https://wandb.ai/ahujavaibhav2001-st-lawrence-college/Truck%20Delay%20Classification/runs/6ql1nq9b' target=\"_blank\">upbeat-sweep-26</a></strong> to <a href='https://wandb.ai/ahujavaibhav2001-st-lawrence-college/Truck%20Delay%20Classification' target=\"_blank\">Weights & Biases</a> (<a href='https://wandb.me/developer-guide' target=\"_blank\">docs</a>)<br>Sweep page: <a href='https://wandb.ai/ahujavaibhav2001-st-lawrence-college/Truck%20Delay%20Classification/sweeps/9mnowi7x' target=\"_blank\">https://wandb.ai/ahujavaibhav2001-st-lawrence-college/Truck%20Delay%20Classification/sweeps/9mnowi7x</a>"
      ],
      "text/plain": [
       "<IPython.core.display.HTML object>"
      ]
     },
     "metadata": {},
     "output_type": "display_data"
    },
    {
     "data": {
      "text/html": [
       " View project at <a href='https://wandb.ai/ahujavaibhav2001-st-lawrence-college/Truck%20Delay%20Classification' target=\"_blank\">https://wandb.ai/ahujavaibhav2001-st-lawrence-college/Truck%20Delay%20Classification</a>"
      ],
      "text/plain": [
       "<IPython.core.display.HTML object>"
      ]
     },
     "metadata": {},
     "output_type": "display_data"
    },
    {
     "data": {
      "text/html": [
       " View sweep at <a href='https://wandb.ai/ahujavaibhav2001-st-lawrence-college/Truck%20Delay%20Classification/sweeps/9mnowi7x' target=\"_blank\">https://wandb.ai/ahujavaibhav2001-st-lawrence-college/Truck%20Delay%20Classification/sweeps/9mnowi7x</a>"
      ],
      "text/plain": [
       "<IPython.core.display.HTML object>"
      ]
     },
     "metadata": {},
     "output_type": "display_data"
    },
    {
     "data": {
      "text/html": [
       " View run at <a href='https://wandb.ai/ahujavaibhav2001-st-lawrence-college/Truck%20Delay%20Classification/runs/6ql1nq9b' target=\"_blank\">https://wandb.ai/ahujavaibhav2001-st-lawrence-college/Truck%20Delay%20Classification/runs/6ql1nq9b</a>"
      ],
      "text/plain": [
       "<IPython.core.display.HTML object>"
      ]
     },
     "metadata": {},
     "output_type": "display_data"
    },
    {
     "name": "stdout",
     "output_type": "stream",
     "text": [
      "F1_score Train: 0.5736\n",
      "F1_score Valid: 0.6622\n",
      "F1_score Test: 0.7646\n"
     ]
    },
    {
     "name": "stderr",
     "output_type": "stream",
     "text": [
      "wandb: \n",
      "wandb: Plotting RandomForestClassifier.\n",
      "UserWarning: X does not have valid feature names, but RandomForestClassifier was fitted with feature names\n",
      "wandb: Logged feature importances.\n",
      "wandb: Logged confusion matrix.\n",
      "UserWarning: X does not have valid feature names, but RandomForestClassifier was fitted with feature names\n",
      "wandb: Logged summary metrics.\n",
      "wandb: Logged class proportions.\n",
      "UserWarning: X does not have valid feature names, but RandomForestClassifier was fitted with feature names\n",
      "ConvergenceWarning: lbfgs failed to converge (status=1):\n",
      "STOP: TOTAL NO. of ITERATIONS REACHED LIMIT.\n",
      "\n",
      "Increase the number of iterations (max_iter) or scale the data as shown in:\n",
      "    https://scikit-learn.org/stable/modules/preprocessing.html\n",
      "Please also refer to the documentation for alternative solver options:\n",
      "    https://scikit-learn.org/stable/modules/linear_model.html#logistic-regression\n",
      "wandb: Logged calibration curve.\n",
      "wandb: Logged roc curve.\n",
      "wandb: Logged precision-recall curve.\n"
     ]
    },
    {
     "data": {
      "text/html": [],
      "text/plain": [
       "<IPython.core.display.HTML object>"
      ]
     },
     "metadata": {},
     "output_type": "display_data"
    },
    {
     "data": {
      "text/html": [
       "<br>    <style><br>        .wandb-row {<br>            display: flex;<br>            flex-direction: row;<br>            flex-wrap: wrap;<br>            justify-content: flex-start;<br>            width: 100%;<br>        }<br>        .wandb-col {<br>            display: flex;<br>            flex-direction: column;<br>            flex-basis: 100%;<br>            flex: 1;<br>            padding: 10px;<br>        }<br>    </style><br><div class=\"wandb-row\"><div class=\"wandb-col\"><h3>Run history:</h3><br/><table class=\"wandb\"><tr><td>f1_score</td><td>▁</td></tr><tr><td>f1_score_train</td><td>▁</td></tr><tr><td>f1_score_valid</td><td>▁</td></tr></table><br/></div><div class=\"wandb-col\"><h3>Run summary:</h3><br/><table class=\"wandb\"><tr><td>f1_score</td><td>0.76463</td></tr><tr><td>f1_score_train</td><td>0.5736</td></tr><tr><td>f1_score_valid</td><td>0.6622</td></tr></table><br/></div></div>"
      ],
      "text/plain": [
       "<IPython.core.display.HTML object>"
      ]
     },
     "metadata": {},
     "output_type": "display_data"
    },
    {
     "data": {
      "text/html": [
       " View run <strong style=\"color:#cdcd00\">upbeat-sweep-26</strong> at: <a href='https://wandb.ai/ahujavaibhav2001-st-lawrence-college/Truck%20Delay%20Classification/runs/6ql1nq9b' target=\"_blank\">https://wandb.ai/ahujavaibhav2001-st-lawrence-college/Truck%20Delay%20Classification/runs/6ql1nq9b</a><br> View project at: <a href='https://wandb.ai/ahujavaibhav2001-st-lawrence-college/Truck%20Delay%20Classification' target=\"_blank\">https://wandb.ai/ahujavaibhav2001-st-lawrence-college/Truck%20Delay%20Classification</a><br>Synced 5 W&B file(s), 0 media file(s), 16 artifact file(s) and 7 other file(s)"
      ],
      "text/plain": [
       "<IPython.core.display.HTML object>"
      ]
     },
     "metadata": {},
     "output_type": "display_data"
    },
    {
     "data": {
      "text/html": [
       "Find logs at: <code>.\\wandb\\run-20241229_172357-6ql1nq9b\\logs</code>"
      ],
      "text/plain": [
       "<IPython.core.display.HTML object>"
      ]
     },
     "metadata": {},
     "output_type": "display_data"
    },
    {
     "name": "stderr",
     "output_type": "stream",
     "text": [
      "wandb: Agent Starting Run: v1ywre3x with config:\n",
      "wandb: \tmax_depth: 5\n",
      "wandb: \tmin_samples_split: 8\n",
      "wandb: \tn_estimators: 16\n",
      "wandb: WARNING Ignoring project 'Truck Delay Classification' when running a sweep.\n"
     ]
    },
    {
     "data": {
      "text/html": [
       "Tracking run with wandb version 0.19.1"
      ],
      "text/plain": [
       "<IPython.core.display.HTML object>"
      ]
     },
     "metadata": {},
     "output_type": "display_data"
    },
    {
     "data": {
      "text/html": [
       "Run data is saved locally in <code>C:\\Users\\ahuja\\wandb\\run-20241229_172408-v1ywre3x</code>"
      ],
      "text/plain": [
       "<IPython.core.display.HTML object>"
      ]
     },
     "metadata": {},
     "output_type": "display_data"
    },
    {
     "data": {
      "text/html": [
       "Syncing run <strong><a href='https://wandb.ai/ahujavaibhav2001-st-lawrence-college/Truck%20Delay%20Classification/runs/v1ywre3x' target=\"_blank\">light-sweep-27</a></strong> to <a href='https://wandb.ai/ahujavaibhav2001-st-lawrence-college/Truck%20Delay%20Classification' target=\"_blank\">Weights & Biases</a> (<a href='https://wandb.me/developer-guide' target=\"_blank\">docs</a>)<br>Sweep page: <a href='https://wandb.ai/ahujavaibhav2001-st-lawrence-college/Truck%20Delay%20Classification/sweeps/9mnowi7x' target=\"_blank\">https://wandb.ai/ahujavaibhav2001-st-lawrence-college/Truck%20Delay%20Classification/sweeps/9mnowi7x</a>"
      ],
      "text/plain": [
       "<IPython.core.display.HTML object>"
      ]
     },
     "metadata": {},
     "output_type": "display_data"
    },
    {
     "data": {
      "text/html": [
       " View project at <a href='https://wandb.ai/ahujavaibhav2001-st-lawrence-college/Truck%20Delay%20Classification' target=\"_blank\">https://wandb.ai/ahujavaibhav2001-st-lawrence-college/Truck%20Delay%20Classification</a>"
      ],
      "text/plain": [
       "<IPython.core.display.HTML object>"
      ]
     },
     "metadata": {},
     "output_type": "display_data"
    },
    {
     "data": {
      "text/html": [
       " View sweep at <a href='https://wandb.ai/ahujavaibhav2001-st-lawrence-college/Truck%20Delay%20Classification/sweeps/9mnowi7x' target=\"_blank\">https://wandb.ai/ahujavaibhav2001-st-lawrence-college/Truck%20Delay%20Classification/sweeps/9mnowi7x</a>"
      ],
      "text/plain": [
       "<IPython.core.display.HTML object>"
      ]
     },
     "metadata": {},
     "output_type": "display_data"
    },
    {
     "data": {
      "text/html": [
       " View run at <a href='https://wandb.ai/ahujavaibhav2001-st-lawrence-college/Truck%20Delay%20Classification/runs/v1ywre3x' target=\"_blank\">https://wandb.ai/ahujavaibhav2001-st-lawrence-college/Truck%20Delay%20Classification/runs/v1ywre3x</a>"
      ],
      "text/plain": [
       "<IPython.core.display.HTML object>"
      ]
     },
     "metadata": {},
     "output_type": "display_data"
    },
    {
     "name": "stdout",
     "output_type": "stream",
     "text": [
      "F1_score Train: 0.5749\n",
      "F1_score Valid: 0.6644\n",
      "F1_score Test: 0.7641\n"
     ]
    },
    {
     "name": "stderr",
     "output_type": "stream",
     "text": [
      "wandb: \n",
      "wandb: Plotting RandomForestClassifier.\n",
      "UserWarning: X does not have valid feature names, but RandomForestClassifier was fitted with feature names\n",
      "wandb: Logged feature importances.\n",
      "wandb: Logged confusion matrix.\n",
      "UserWarning: X does not have valid feature names, but RandomForestClassifier was fitted with feature names\n",
      "wandb: Logged summary metrics.\n",
      "wandb: Logged class proportions.\n",
      "UserWarning: X does not have valid feature names, but RandomForestClassifier was fitted with feature names\n",
      "ConvergenceWarning: lbfgs failed to converge (status=1):\n",
      "STOP: TOTAL NO. of ITERATIONS REACHED LIMIT.\n",
      "\n",
      "Increase the number of iterations (max_iter) or scale the data as shown in:\n",
      "    https://scikit-learn.org/stable/modules/preprocessing.html\n",
      "Please also refer to the documentation for alternative solver options:\n",
      "    https://scikit-learn.org/stable/modules/linear_model.html#logistic-regression\n",
      "wandb: Logged calibration curve.\n",
      "wandb: Logged roc curve.\n",
      "wandb: Logged precision-recall curve.\n"
     ]
    },
    {
     "data": {
      "text/html": [],
      "text/plain": [
       "<IPython.core.display.HTML object>"
      ]
     },
     "metadata": {},
     "output_type": "display_data"
    },
    {
     "data": {
      "text/html": [
       "<br>    <style><br>        .wandb-row {<br>            display: flex;<br>            flex-direction: row;<br>            flex-wrap: wrap;<br>            justify-content: flex-start;<br>            width: 100%;<br>        }<br>        .wandb-col {<br>            display: flex;<br>            flex-direction: column;<br>            flex-basis: 100%;<br>            flex: 1;<br>            padding: 10px;<br>        }<br>    </style><br><div class=\"wandb-row\"><div class=\"wandb-col\"><h3>Run history:</h3><br/><table class=\"wandb\"><tr><td>f1_score</td><td>▁</td></tr><tr><td>f1_score_train</td><td>▁</td></tr><tr><td>f1_score_valid</td><td>▁</td></tr></table><br/></div><div class=\"wandb-col\"><h3>Run summary:</h3><br/><table class=\"wandb\"><tr><td>f1_score</td><td>0.76406</td></tr><tr><td>f1_score_train</td><td>0.57485</td></tr><tr><td>f1_score_valid</td><td>0.66444</td></tr></table><br/></div></div>"
      ],
      "text/plain": [
       "<IPython.core.display.HTML object>"
      ]
     },
     "metadata": {},
     "output_type": "display_data"
    },
    {
     "data": {
      "text/html": [
       " View run <strong style=\"color:#cdcd00\">light-sweep-27</strong> at: <a href='https://wandb.ai/ahujavaibhav2001-st-lawrence-college/Truck%20Delay%20Classification/runs/v1ywre3x' target=\"_blank\">https://wandb.ai/ahujavaibhav2001-st-lawrence-college/Truck%20Delay%20Classification/runs/v1ywre3x</a><br> View project at: <a href='https://wandb.ai/ahujavaibhav2001-st-lawrence-college/Truck%20Delay%20Classification' target=\"_blank\">https://wandb.ai/ahujavaibhav2001-st-lawrence-college/Truck%20Delay%20Classification</a><br>Synced 5 W&B file(s), 0 media file(s), 16 artifact file(s) and 7 other file(s)"
      ],
      "text/plain": [
       "<IPython.core.display.HTML object>"
      ]
     },
     "metadata": {},
     "output_type": "display_data"
    },
    {
     "data": {
      "text/html": [
       "Find logs at: <code>.\\wandb\\run-20241229_172408-v1ywre3x\\logs</code>"
      ],
      "text/plain": [
       "<IPython.core.display.HTML object>"
      ]
     },
     "metadata": {},
     "output_type": "display_data"
    },
    {
     "name": "stderr",
     "output_type": "stream",
     "text": [
      "wandb: Agent Starting Run: c272bs20 with config:\n",
      "wandb: \tmax_depth: 5\n",
      "wandb: \tmin_samples_split: 8\n",
      "wandb: \tn_estimators: 20\n",
      "wandb: WARNING Ignoring project 'Truck Delay Classification' when running a sweep.\n"
     ]
    },
    {
     "data": {
      "text/html": [
       "Tracking run with wandb version 0.19.1"
      ],
      "text/plain": [
       "<IPython.core.display.HTML object>"
      ]
     },
     "metadata": {},
     "output_type": "display_data"
    },
    {
     "data": {
      "text/html": [
       "Run data is saved locally in <code>C:\\Users\\ahuja\\wandb\\run-20241229_172418-c272bs20</code>"
      ],
      "text/plain": [
       "<IPython.core.display.HTML object>"
      ]
     },
     "metadata": {},
     "output_type": "display_data"
    },
    {
     "data": {
      "text/html": [
       "Syncing run <strong><a href='https://wandb.ai/ahujavaibhav2001-st-lawrence-college/Truck%20Delay%20Classification/runs/c272bs20' target=\"_blank\">gentle-sweep-28</a></strong> to <a href='https://wandb.ai/ahujavaibhav2001-st-lawrence-college/Truck%20Delay%20Classification' target=\"_blank\">Weights & Biases</a> (<a href='https://wandb.me/developer-guide' target=\"_blank\">docs</a>)<br>Sweep page: <a href='https://wandb.ai/ahujavaibhav2001-st-lawrence-college/Truck%20Delay%20Classification/sweeps/9mnowi7x' target=\"_blank\">https://wandb.ai/ahujavaibhav2001-st-lawrence-college/Truck%20Delay%20Classification/sweeps/9mnowi7x</a>"
      ],
      "text/plain": [
       "<IPython.core.display.HTML object>"
      ]
     },
     "metadata": {},
     "output_type": "display_data"
    },
    {
     "data": {
      "text/html": [
       " View project at <a href='https://wandb.ai/ahujavaibhav2001-st-lawrence-college/Truck%20Delay%20Classification' target=\"_blank\">https://wandb.ai/ahujavaibhav2001-st-lawrence-college/Truck%20Delay%20Classification</a>"
      ],
      "text/plain": [
       "<IPython.core.display.HTML object>"
      ]
     },
     "metadata": {},
     "output_type": "display_data"
    },
    {
     "data": {
      "text/html": [
       " View sweep at <a href='https://wandb.ai/ahujavaibhav2001-st-lawrence-college/Truck%20Delay%20Classification/sweeps/9mnowi7x' target=\"_blank\">https://wandb.ai/ahujavaibhav2001-st-lawrence-college/Truck%20Delay%20Classification/sweeps/9mnowi7x</a>"
      ],
      "text/plain": [
       "<IPython.core.display.HTML object>"
      ]
     },
     "metadata": {},
     "output_type": "display_data"
    },
    {
     "data": {
      "text/html": [
       " View run at <a href='https://wandb.ai/ahujavaibhav2001-st-lawrence-college/Truck%20Delay%20Classification/runs/c272bs20' target=\"_blank\">https://wandb.ai/ahujavaibhav2001-st-lawrence-college/Truck%20Delay%20Classification/runs/c272bs20</a>"
      ],
      "text/plain": [
       "<IPython.core.display.HTML object>"
      ]
     },
     "metadata": {},
     "output_type": "display_data"
    },
    {
     "name": "stdout",
     "output_type": "stream",
     "text": [
      "F1_score Train: 0.5688\n",
      "F1_score Valid: 0.6648\n",
      "F1_score Test: 0.7606\n"
     ]
    },
    {
     "name": "stderr",
     "output_type": "stream",
     "text": [
      "wandb: \n",
      "wandb: Plotting RandomForestClassifier.\n",
      "UserWarning: X does not have valid feature names, but RandomForestClassifier was fitted with feature names\n",
      "wandb: Logged feature importances.\n",
      "wandb: Logged confusion matrix.\n",
      "UserWarning: X does not have valid feature names, but RandomForestClassifier was fitted with feature names\n",
      "wandb: Logged summary metrics.\n",
      "wandb: Logged class proportions.\n",
      "UserWarning: X does not have valid feature names, but RandomForestClassifier was fitted with feature names\n",
      "ConvergenceWarning: lbfgs failed to converge (status=1):\n",
      "STOP: TOTAL NO. of ITERATIONS REACHED LIMIT.\n",
      "\n",
      "Increase the number of iterations (max_iter) or scale the data as shown in:\n",
      "    https://scikit-learn.org/stable/modules/preprocessing.html\n",
      "Please also refer to the documentation for alternative solver options:\n",
      "    https://scikit-learn.org/stable/modules/linear_model.html#logistic-regression\n",
      "wandb: Logged calibration curve.\n",
      "wandb: Logged roc curve.\n",
      "wandb: Logged precision-recall curve.\n"
     ]
    },
    {
     "data": {
      "text/html": [],
      "text/plain": [
       "<IPython.core.display.HTML object>"
      ]
     },
     "metadata": {},
     "output_type": "display_data"
    },
    {
     "data": {
      "text/html": [
       "<br>    <style><br>        .wandb-row {<br>            display: flex;<br>            flex-direction: row;<br>            flex-wrap: wrap;<br>            justify-content: flex-start;<br>            width: 100%;<br>        }<br>        .wandb-col {<br>            display: flex;<br>            flex-direction: column;<br>            flex-basis: 100%;<br>            flex: 1;<br>            padding: 10px;<br>        }<br>    </style><br><div class=\"wandb-row\"><div class=\"wandb-col\"><h3>Run history:</h3><br/><table class=\"wandb\"><tr><td>f1_score</td><td>▁</td></tr><tr><td>f1_score_train</td><td>▁</td></tr><tr><td>f1_score_valid</td><td>▁</td></tr></table><br/></div><div class=\"wandb-col\"><h3>Run summary:</h3><br/><table class=\"wandb\"><tr><td>f1_score</td><td>0.76063</td></tr><tr><td>f1_score_train</td><td>0.56878</td></tr><tr><td>f1_score_valid</td><td>0.66482</td></tr></table><br/></div></div>"
      ],
      "text/plain": [
       "<IPython.core.display.HTML object>"
      ]
     },
     "metadata": {},
     "output_type": "display_data"
    },
    {
     "data": {
      "text/html": [
       " View run <strong style=\"color:#cdcd00\">gentle-sweep-28</strong> at: <a href='https://wandb.ai/ahujavaibhav2001-st-lawrence-college/Truck%20Delay%20Classification/runs/c272bs20' target=\"_blank\">https://wandb.ai/ahujavaibhav2001-st-lawrence-college/Truck%20Delay%20Classification/runs/c272bs20</a><br> View project at: <a href='https://wandb.ai/ahujavaibhav2001-st-lawrence-college/Truck%20Delay%20Classification' target=\"_blank\">https://wandb.ai/ahujavaibhav2001-st-lawrence-college/Truck%20Delay%20Classification</a><br>Synced 5 W&B file(s), 0 media file(s), 16 artifact file(s) and 7 other file(s)"
      ],
      "text/plain": [
       "<IPython.core.display.HTML object>"
      ]
     },
     "metadata": {},
     "output_type": "display_data"
    },
    {
     "data": {
      "text/html": [
       "Find logs at: <code>.\\wandb\\run-20241229_172418-c272bs20\\logs</code>"
      ],
      "text/plain": [
       "<IPython.core.display.HTML object>"
      ]
     },
     "metadata": {},
     "output_type": "display_data"
    },
    {
     "name": "stderr",
     "output_type": "stream",
     "text": [
      "wandb: Agent Starting Run: en3dovn2 with config:\n",
      "wandb: \tmax_depth: 5\n",
      "wandb: \tmin_samples_split: 12\n",
      "wandb: \tn_estimators: 8\n",
      "wandb: WARNING Ignoring project 'Truck Delay Classification' when running a sweep.\n"
     ]
    },
    {
     "data": {
      "text/html": [
       "Tracking run with wandb version 0.19.1"
      ],
      "text/plain": [
       "<IPython.core.display.HTML object>"
      ]
     },
     "metadata": {},
     "output_type": "display_data"
    },
    {
     "data": {
      "text/html": [
       "Run data is saved locally in <code>C:\\Users\\ahuja\\wandb\\run-20241229_172428-en3dovn2</code>"
      ],
      "text/plain": [
       "<IPython.core.display.HTML object>"
      ]
     },
     "metadata": {},
     "output_type": "display_data"
    },
    {
     "data": {
      "text/html": [
       "Syncing run <strong><a href='https://wandb.ai/ahujavaibhav2001-st-lawrence-college/Truck%20Delay%20Classification/runs/en3dovn2' target=\"_blank\">glowing-sweep-29</a></strong> to <a href='https://wandb.ai/ahujavaibhav2001-st-lawrence-college/Truck%20Delay%20Classification' target=\"_blank\">Weights & Biases</a> (<a href='https://wandb.me/developer-guide' target=\"_blank\">docs</a>)<br>Sweep page: <a href='https://wandb.ai/ahujavaibhav2001-st-lawrence-college/Truck%20Delay%20Classification/sweeps/9mnowi7x' target=\"_blank\">https://wandb.ai/ahujavaibhav2001-st-lawrence-college/Truck%20Delay%20Classification/sweeps/9mnowi7x</a>"
      ],
      "text/plain": [
       "<IPython.core.display.HTML object>"
      ]
     },
     "metadata": {},
     "output_type": "display_data"
    },
    {
     "data": {
      "text/html": [
       " View project at <a href='https://wandb.ai/ahujavaibhav2001-st-lawrence-college/Truck%20Delay%20Classification' target=\"_blank\">https://wandb.ai/ahujavaibhav2001-st-lawrence-college/Truck%20Delay%20Classification</a>"
      ],
      "text/plain": [
       "<IPython.core.display.HTML object>"
      ]
     },
     "metadata": {},
     "output_type": "display_data"
    },
    {
     "data": {
      "text/html": [
       " View sweep at <a href='https://wandb.ai/ahujavaibhav2001-st-lawrence-college/Truck%20Delay%20Classification/sweeps/9mnowi7x' target=\"_blank\">https://wandb.ai/ahujavaibhav2001-st-lawrence-college/Truck%20Delay%20Classification/sweeps/9mnowi7x</a>"
      ],
      "text/plain": [
       "<IPython.core.display.HTML object>"
      ]
     },
     "metadata": {},
     "output_type": "display_data"
    },
    {
     "data": {
      "text/html": [
       " View run at <a href='https://wandb.ai/ahujavaibhav2001-st-lawrence-college/Truck%20Delay%20Classification/runs/en3dovn2' target=\"_blank\">https://wandb.ai/ahujavaibhav2001-st-lawrence-college/Truck%20Delay%20Classification/runs/en3dovn2</a>"
      ],
      "text/plain": [
       "<IPython.core.display.HTML object>"
      ]
     },
     "metadata": {},
     "output_type": "display_data"
    },
    {
     "name": "stdout",
     "output_type": "stream",
     "text": [
      "F1_score Train: 0.5716\n",
      "F1_score Valid: 0.6645\n",
      "F1_score Test: 0.7596\n"
     ]
    },
    {
     "name": "stderr",
     "output_type": "stream",
     "text": [
      "wandb: \n",
      "wandb: Plotting RandomForestClassifier.\n",
      "UserWarning: X does not have valid feature names, but RandomForestClassifier was fitted with feature names\n",
      "wandb: Logged feature importances.\n",
      "wandb: Logged confusion matrix.\n",
      "UserWarning: X does not have valid feature names, but RandomForestClassifier was fitted with feature names\n",
      "wandb: Logged summary metrics.\n",
      "wandb: Logged class proportions.\n",
      "UserWarning: X does not have valid feature names, but RandomForestClassifier was fitted with feature names\n",
      "ConvergenceWarning: lbfgs failed to converge (status=1):\n",
      "STOP: TOTAL NO. of ITERATIONS REACHED LIMIT.\n",
      "\n",
      "Increase the number of iterations (max_iter) or scale the data as shown in:\n",
      "    https://scikit-learn.org/stable/modules/preprocessing.html\n",
      "Please also refer to the documentation for alternative solver options:\n",
      "    https://scikit-learn.org/stable/modules/linear_model.html#logistic-regression\n",
      "wandb: Logged calibration curve.\n",
      "wandb: Logged roc curve.\n",
      "wandb: Logged precision-recall curve.\n"
     ]
    },
    {
     "data": {
      "text/html": [],
      "text/plain": [
       "<IPython.core.display.HTML object>"
      ]
     },
     "metadata": {},
     "output_type": "display_data"
    },
    {
     "data": {
      "text/html": [
       "<br>    <style><br>        .wandb-row {<br>            display: flex;<br>            flex-direction: row;<br>            flex-wrap: wrap;<br>            justify-content: flex-start;<br>            width: 100%;<br>        }<br>        .wandb-col {<br>            display: flex;<br>            flex-direction: column;<br>            flex-basis: 100%;<br>            flex: 1;<br>            padding: 10px;<br>        }<br>    </style><br><div class=\"wandb-row\"><div class=\"wandb-col\"><h3>Run history:</h3><br/><table class=\"wandb\"><tr><td>f1_score</td><td>▁</td></tr><tr><td>f1_score_train</td><td>▁</td></tr><tr><td>f1_score_valid</td><td>▁</td></tr></table><br/></div><div class=\"wandb-col\"><h3>Run summary:</h3><br/><table class=\"wandb\"><tr><td>f1_score</td><td>0.75959</td></tr><tr><td>f1_score_train</td><td>0.57161</td></tr><tr><td>f1_score_valid</td><td>0.66445</td></tr></table><br/></div></div>"
      ],
      "text/plain": [
       "<IPython.core.display.HTML object>"
      ]
     },
     "metadata": {},
     "output_type": "display_data"
    },
    {
     "data": {
      "text/html": [
       " View run <strong style=\"color:#cdcd00\">glowing-sweep-29</strong> at: <a href='https://wandb.ai/ahujavaibhav2001-st-lawrence-college/Truck%20Delay%20Classification/runs/en3dovn2' target=\"_blank\">https://wandb.ai/ahujavaibhav2001-st-lawrence-college/Truck%20Delay%20Classification/runs/en3dovn2</a><br> View project at: <a href='https://wandb.ai/ahujavaibhav2001-st-lawrence-college/Truck%20Delay%20Classification' target=\"_blank\">https://wandb.ai/ahujavaibhav2001-st-lawrence-college/Truck%20Delay%20Classification</a><br>Synced 5 W&B file(s), 0 media file(s), 16 artifact file(s) and 7 other file(s)"
      ],
      "text/plain": [
       "<IPython.core.display.HTML object>"
      ]
     },
     "metadata": {},
     "output_type": "display_data"
    },
    {
     "data": {
      "text/html": [
       "Find logs at: <code>.\\wandb\\run-20241229_172428-en3dovn2\\logs</code>"
      ],
      "text/plain": [
       "<IPython.core.display.HTML object>"
      ]
     },
     "metadata": {},
     "output_type": "display_data"
    },
    {
     "name": "stderr",
     "output_type": "stream",
     "text": [
      "wandb: Agent Starting Run: 17i9aft2 with config:\n",
      "wandb: \tmax_depth: 5\n",
      "wandb: \tmin_samples_split: 12\n",
      "wandb: \tn_estimators: 12\n",
      "wandb: WARNING Ignoring project 'Truck Delay Classification' when running a sweep.\n"
     ]
    },
    {
     "data": {
      "text/html": [
       "Tracking run with wandb version 0.19.1"
      ],
      "text/plain": [
       "<IPython.core.display.HTML object>"
      ]
     },
     "metadata": {},
     "output_type": "display_data"
    },
    {
     "data": {
      "text/html": [
       "Run data is saved locally in <code>C:\\Users\\ahuja\\wandb\\run-20241229_172438-17i9aft2</code>"
      ],
      "text/plain": [
       "<IPython.core.display.HTML object>"
      ]
     },
     "metadata": {},
     "output_type": "display_data"
    },
    {
     "data": {
      "text/html": [
       "Syncing run <strong><a href='https://wandb.ai/ahujavaibhav2001-st-lawrence-college/Truck%20Delay%20Classification/runs/17i9aft2' target=\"_blank\">restful-sweep-30</a></strong> to <a href='https://wandb.ai/ahujavaibhav2001-st-lawrence-college/Truck%20Delay%20Classification' target=\"_blank\">Weights & Biases</a> (<a href='https://wandb.me/developer-guide' target=\"_blank\">docs</a>)<br>Sweep page: <a href='https://wandb.ai/ahujavaibhav2001-st-lawrence-college/Truck%20Delay%20Classification/sweeps/9mnowi7x' target=\"_blank\">https://wandb.ai/ahujavaibhav2001-st-lawrence-college/Truck%20Delay%20Classification/sweeps/9mnowi7x</a>"
      ],
      "text/plain": [
       "<IPython.core.display.HTML object>"
      ]
     },
     "metadata": {},
     "output_type": "display_data"
    },
    {
     "data": {
      "text/html": [
       " View project at <a href='https://wandb.ai/ahujavaibhav2001-st-lawrence-college/Truck%20Delay%20Classification' target=\"_blank\">https://wandb.ai/ahujavaibhav2001-st-lawrence-college/Truck%20Delay%20Classification</a>"
      ],
      "text/plain": [
       "<IPython.core.display.HTML object>"
      ]
     },
     "metadata": {},
     "output_type": "display_data"
    },
    {
     "data": {
      "text/html": [
       " View sweep at <a href='https://wandb.ai/ahujavaibhav2001-st-lawrence-college/Truck%20Delay%20Classification/sweeps/9mnowi7x' target=\"_blank\">https://wandb.ai/ahujavaibhav2001-st-lawrence-college/Truck%20Delay%20Classification/sweeps/9mnowi7x</a>"
      ],
      "text/plain": [
       "<IPython.core.display.HTML object>"
      ]
     },
     "metadata": {},
     "output_type": "display_data"
    },
    {
     "data": {
      "text/html": [
       " View run at <a href='https://wandb.ai/ahujavaibhav2001-st-lawrence-college/Truck%20Delay%20Classification/runs/17i9aft2' target=\"_blank\">https://wandb.ai/ahujavaibhav2001-st-lawrence-college/Truck%20Delay%20Classification/runs/17i9aft2</a>"
      ],
      "text/plain": [
       "<IPython.core.display.HTML object>"
      ]
     },
     "metadata": {},
     "output_type": "display_data"
    },
    {
     "name": "stdout",
     "output_type": "stream",
     "text": [
      "F1_score Train: 0.5732\n",
      "F1_score Valid: 0.6663\n",
      "F1_score Test: 0.7641\n"
     ]
    },
    {
     "name": "stderr",
     "output_type": "stream",
     "text": [
      "wandb: \n",
      "wandb: Plotting RandomForestClassifier.\n",
      "UserWarning: X does not have valid feature names, but RandomForestClassifier was fitted with feature names\n",
      "wandb: Logged feature importances.\n",
      "wandb: Logged confusion matrix.\n",
      "UserWarning: X does not have valid feature names, but RandomForestClassifier was fitted with feature names\n",
      "wandb: Logged summary metrics.\n",
      "wandb: Logged class proportions.\n",
      "UserWarning: X does not have valid feature names, but RandomForestClassifier was fitted with feature names\n",
      "ConvergenceWarning: lbfgs failed to converge (status=1):\n",
      "STOP: TOTAL NO. of ITERATIONS REACHED LIMIT.\n",
      "\n",
      "Increase the number of iterations (max_iter) or scale the data as shown in:\n",
      "    https://scikit-learn.org/stable/modules/preprocessing.html\n",
      "Please also refer to the documentation for alternative solver options:\n",
      "    https://scikit-learn.org/stable/modules/linear_model.html#logistic-regression\n",
      "wandb: Logged calibration curve.\n",
      "wandb: Logged roc curve.\n",
      "wandb: Logged precision-recall curve.\n"
     ]
    },
    {
     "data": {
      "text/html": [],
      "text/plain": [
       "<IPython.core.display.HTML object>"
      ]
     },
     "metadata": {},
     "output_type": "display_data"
    },
    {
     "data": {
      "text/html": [
       "<br>    <style><br>        .wandb-row {<br>            display: flex;<br>            flex-direction: row;<br>            flex-wrap: wrap;<br>            justify-content: flex-start;<br>            width: 100%;<br>        }<br>        .wandb-col {<br>            display: flex;<br>            flex-direction: column;<br>            flex-basis: 100%;<br>            flex: 1;<br>            padding: 10px;<br>        }<br>    </style><br><div class=\"wandb-row\"><div class=\"wandb-col\"><h3>Run history:</h3><br/><table class=\"wandb\"><tr><td>f1_score</td><td>▁</td></tr><tr><td>f1_score_train</td><td>▁</td></tr><tr><td>f1_score_valid</td><td>▁</td></tr></table><br/></div><div class=\"wandb-col\"><h3>Run summary:</h3><br/><table class=\"wandb\"><tr><td>f1_score</td><td>0.76406</td></tr><tr><td>f1_score_train</td><td>0.57318</td></tr><tr><td>f1_score_valid</td><td>0.66629</td></tr></table><br/></div></div>"
      ],
      "text/plain": [
       "<IPython.core.display.HTML object>"
      ]
     },
     "metadata": {},
     "output_type": "display_data"
    },
    {
     "data": {
      "text/html": [
       " View run <strong style=\"color:#cdcd00\">restful-sweep-30</strong> at: <a href='https://wandb.ai/ahujavaibhav2001-st-lawrence-college/Truck%20Delay%20Classification/runs/17i9aft2' target=\"_blank\">https://wandb.ai/ahujavaibhav2001-st-lawrence-college/Truck%20Delay%20Classification/runs/17i9aft2</a><br> View project at: <a href='https://wandb.ai/ahujavaibhav2001-st-lawrence-college/Truck%20Delay%20Classification' target=\"_blank\">https://wandb.ai/ahujavaibhav2001-st-lawrence-college/Truck%20Delay%20Classification</a><br>Synced 5 W&B file(s), 0 media file(s), 16 artifact file(s) and 7 other file(s)"
      ],
      "text/plain": [
       "<IPython.core.display.HTML object>"
      ]
     },
     "metadata": {},
     "output_type": "display_data"
    },
    {
     "data": {
      "text/html": [
       "Find logs at: <code>.\\wandb\\run-20241229_172438-17i9aft2\\logs</code>"
      ],
      "text/plain": [
       "<IPython.core.display.HTML object>"
      ]
     },
     "metadata": {},
     "output_type": "display_data"
    },
    {
     "name": "stderr",
     "output_type": "stream",
     "text": [
      "wandb: Sweep Agent: Waiting for job.\n",
      "wandb: Job received.\n",
      "wandb: Agent Starting Run: r79ao9je with config:\n",
      "wandb: \tmax_depth: 5\n",
      "wandb: \tmin_samples_split: 12\n",
      "wandb: \tn_estimators: 16\n",
      "wandb: WARNING Ignoring project 'Truck Delay Classification' when running a sweep.\n"
     ]
    },
    {
     "data": {
      "text/html": [
       "Tracking run with wandb version 0.19.1"
      ],
      "text/plain": [
       "<IPython.core.display.HTML object>"
      ]
     },
     "metadata": {},
     "output_type": "display_data"
    },
    {
     "data": {
      "text/html": [
       "Run data is saved locally in <code>C:\\Users\\ahuja\\wandb\\run-20241229_172509-r79ao9je</code>"
      ],
      "text/plain": [
       "<IPython.core.display.HTML object>"
      ]
     },
     "metadata": {},
     "output_type": "display_data"
    },
    {
     "data": {
      "text/html": [
       "Syncing run <strong><a href='https://wandb.ai/ahujavaibhav2001-st-lawrence-college/Truck%20Delay%20Classification/runs/r79ao9je' target=\"_blank\">fine-sweep-31</a></strong> to <a href='https://wandb.ai/ahujavaibhav2001-st-lawrence-college/Truck%20Delay%20Classification' target=\"_blank\">Weights & Biases</a> (<a href='https://wandb.me/developer-guide' target=\"_blank\">docs</a>)<br>Sweep page: <a href='https://wandb.ai/ahujavaibhav2001-st-lawrence-college/Truck%20Delay%20Classification/sweeps/9mnowi7x' target=\"_blank\">https://wandb.ai/ahujavaibhav2001-st-lawrence-college/Truck%20Delay%20Classification/sweeps/9mnowi7x</a>"
      ],
      "text/plain": [
       "<IPython.core.display.HTML object>"
      ]
     },
     "metadata": {},
     "output_type": "display_data"
    },
    {
     "data": {
      "text/html": [
       " View project at <a href='https://wandb.ai/ahujavaibhav2001-st-lawrence-college/Truck%20Delay%20Classification' target=\"_blank\">https://wandb.ai/ahujavaibhav2001-st-lawrence-college/Truck%20Delay%20Classification</a>"
      ],
      "text/plain": [
       "<IPython.core.display.HTML object>"
      ]
     },
     "metadata": {},
     "output_type": "display_data"
    },
    {
     "data": {
      "text/html": [
       " View sweep at <a href='https://wandb.ai/ahujavaibhav2001-st-lawrence-college/Truck%20Delay%20Classification/sweeps/9mnowi7x' target=\"_blank\">https://wandb.ai/ahujavaibhav2001-st-lawrence-college/Truck%20Delay%20Classification/sweeps/9mnowi7x</a>"
      ],
      "text/plain": [
       "<IPython.core.display.HTML object>"
      ]
     },
     "metadata": {},
     "output_type": "display_data"
    },
    {
     "data": {
      "text/html": [
       " View run at <a href='https://wandb.ai/ahujavaibhav2001-st-lawrence-college/Truck%20Delay%20Classification/runs/r79ao9je' target=\"_blank\">https://wandb.ai/ahujavaibhav2001-st-lawrence-college/Truck%20Delay%20Classification/runs/r79ao9je</a>"
      ],
      "text/plain": [
       "<IPython.core.display.HTML object>"
      ]
     },
     "metadata": {},
     "output_type": "display_data"
    },
    {
     "name": "stdout",
     "output_type": "stream",
     "text": [
      "F1_score Train: 0.5768\n",
      "F1_score Valid: 0.6655\n",
      "F1_score Test: 0.7648\n"
     ]
    },
    {
     "name": "stderr",
     "output_type": "stream",
     "text": [
      "wandb: \n",
      "wandb: Plotting RandomForestClassifier.\n",
      "UserWarning: X does not have valid feature names, but RandomForestClassifier was fitted with feature names\n",
      "wandb: Logged feature importances.\n",
      "wandb: Logged confusion matrix.\n",
      "UserWarning: X does not have valid feature names, but RandomForestClassifier was fitted with feature names\n",
      "wandb: Logged summary metrics.\n",
      "wandb: Logged class proportions.\n",
      "UserWarning: X does not have valid feature names, but RandomForestClassifier was fitted with feature names\n",
      "ConvergenceWarning: lbfgs failed to converge (status=1):\n",
      "STOP: TOTAL NO. of ITERATIONS REACHED LIMIT.\n",
      "\n",
      "Increase the number of iterations (max_iter) or scale the data as shown in:\n",
      "    https://scikit-learn.org/stable/modules/preprocessing.html\n",
      "Please also refer to the documentation for alternative solver options:\n",
      "    https://scikit-learn.org/stable/modules/linear_model.html#logistic-regression\n",
      "wandb: Logged calibration curve.\n",
      "wandb: Logged roc curve.\n",
      "wandb: Logged precision-recall curve.\n"
     ]
    },
    {
     "data": {
      "text/html": [],
      "text/plain": [
       "<IPython.core.display.HTML object>"
      ]
     },
     "metadata": {},
     "output_type": "display_data"
    },
    {
     "data": {
      "text/html": [
       "<br>    <style><br>        .wandb-row {<br>            display: flex;<br>            flex-direction: row;<br>            flex-wrap: wrap;<br>            justify-content: flex-start;<br>            width: 100%;<br>        }<br>        .wandb-col {<br>            display: flex;<br>            flex-direction: column;<br>            flex-basis: 100%;<br>            flex: 1;<br>            padding: 10px;<br>        }<br>    </style><br><div class=\"wandb-row\"><div class=\"wandb-col\"><h3>Run history:</h3><br/><table class=\"wandb\"><tr><td>f1_score</td><td>▁</td></tr><tr><td>f1_score_train</td><td>▁</td></tr><tr><td>f1_score_valid</td><td>▁</td></tr></table><br/></div><div class=\"wandb-col\"><h3>Run summary:</h3><br/><table class=\"wandb\"><tr><td>f1_score</td><td>0.76481</td></tr><tr><td>f1_score_train</td><td>0.57679</td></tr><tr><td>f1_score_valid</td><td>0.66555</td></tr></table><br/></div></div>"
      ],
      "text/plain": [
       "<IPython.core.display.HTML object>"
      ]
     },
     "metadata": {},
     "output_type": "display_data"
    },
    {
     "data": {
      "text/html": [
       " View run <strong style=\"color:#cdcd00\">fine-sweep-31</strong> at: <a href='https://wandb.ai/ahujavaibhav2001-st-lawrence-college/Truck%20Delay%20Classification/runs/r79ao9je' target=\"_blank\">https://wandb.ai/ahujavaibhav2001-st-lawrence-college/Truck%20Delay%20Classification/runs/r79ao9je</a><br> View project at: <a href='https://wandb.ai/ahujavaibhav2001-st-lawrence-college/Truck%20Delay%20Classification' target=\"_blank\">https://wandb.ai/ahujavaibhav2001-st-lawrence-college/Truck%20Delay%20Classification</a><br>Synced 5 W&B file(s), 0 media file(s), 16 artifact file(s) and 7 other file(s)"
      ],
      "text/plain": [
       "<IPython.core.display.HTML object>"
      ]
     },
     "metadata": {},
     "output_type": "display_data"
    },
    {
     "data": {
      "text/html": [
       "Find logs at: <code>.\\wandb\\run-20241229_172509-r79ao9je\\logs</code>"
      ],
      "text/plain": [
       "<IPython.core.display.HTML object>"
      ]
     },
     "metadata": {},
     "output_type": "display_data"
    },
    {
     "name": "stderr",
     "output_type": "stream",
     "text": [
      "wandb: Agent Starting Run: 6f82axmm with config:\n",
      "wandb: \tmax_depth: 5\n",
      "wandb: \tmin_samples_split: 12\n",
      "wandb: \tn_estimators: 20\n",
      "wandb: WARNING Ignoring project 'Truck Delay Classification' when running a sweep.\n"
     ]
    },
    {
     "data": {
      "text/html": [
       "Tracking run with wandb version 0.19.1"
      ],
      "text/plain": [
       "<IPython.core.display.HTML object>"
      ]
     },
     "metadata": {},
     "output_type": "display_data"
    },
    {
     "data": {
      "text/html": [
       "Run data is saved locally in <code>C:\\Users\\ahuja\\wandb\\run-20241229_172519-6f82axmm</code>"
      ],
      "text/plain": [
       "<IPython.core.display.HTML object>"
      ]
     },
     "metadata": {},
     "output_type": "display_data"
    },
    {
     "data": {
      "text/html": [
       "Syncing run <strong><a href='https://wandb.ai/ahujavaibhav2001-st-lawrence-college/Truck%20Delay%20Classification/runs/6f82axmm' target=\"_blank\">crimson-sweep-32</a></strong> to <a href='https://wandb.ai/ahujavaibhav2001-st-lawrence-college/Truck%20Delay%20Classification' target=\"_blank\">Weights & Biases</a> (<a href='https://wandb.me/developer-guide' target=\"_blank\">docs</a>)<br>Sweep page: <a href='https://wandb.ai/ahujavaibhav2001-st-lawrence-college/Truck%20Delay%20Classification/sweeps/9mnowi7x' target=\"_blank\">https://wandb.ai/ahujavaibhav2001-st-lawrence-college/Truck%20Delay%20Classification/sweeps/9mnowi7x</a>"
      ],
      "text/plain": [
       "<IPython.core.display.HTML object>"
      ]
     },
     "metadata": {},
     "output_type": "display_data"
    },
    {
     "data": {
      "text/html": [
       " View project at <a href='https://wandb.ai/ahujavaibhav2001-st-lawrence-college/Truck%20Delay%20Classification' target=\"_blank\">https://wandb.ai/ahujavaibhav2001-st-lawrence-college/Truck%20Delay%20Classification</a>"
      ],
      "text/plain": [
       "<IPython.core.display.HTML object>"
      ]
     },
     "metadata": {},
     "output_type": "display_data"
    },
    {
     "data": {
      "text/html": [
       " View sweep at <a href='https://wandb.ai/ahujavaibhav2001-st-lawrence-college/Truck%20Delay%20Classification/sweeps/9mnowi7x' target=\"_blank\">https://wandb.ai/ahujavaibhav2001-st-lawrence-college/Truck%20Delay%20Classification/sweeps/9mnowi7x</a>"
      ],
      "text/plain": [
       "<IPython.core.display.HTML object>"
      ]
     },
     "metadata": {},
     "output_type": "display_data"
    },
    {
     "data": {
      "text/html": [
       " View run at <a href='https://wandb.ai/ahujavaibhav2001-st-lawrence-college/Truck%20Delay%20Classification/runs/6f82axmm' target=\"_blank\">https://wandb.ai/ahujavaibhav2001-st-lawrence-college/Truck%20Delay%20Classification/runs/6f82axmm</a>"
      ],
      "text/plain": [
       "<IPython.core.display.HTML object>"
      ]
     },
     "metadata": {},
     "output_type": "display_data"
    },
    {
     "name": "stdout",
     "output_type": "stream",
     "text": [
      "F1_score Train: 0.5694\n",
      "F1_score Valid: 0.6644\n",
      "F1_score Test: 0.7623\n"
     ]
    },
    {
     "name": "stderr",
     "output_type": "stream",
     "text": [
      "wandb: \n",
      "wandb: Plotting RandomForestClassifier.\n",
      "UserWarning: X does not have valid feature names, but RandomForestClassifier was fitted with feature names\n",
      "wandb: Logged feature importances.\n",
      "wandb: Logged confusion matrix.\n",
      "UserWarning: X does not have valid feature names, but RandomForestClassifier was fitted with feature names\n",
      "wandb: Logged summary metrics.\n",
      "wandb: Logged class proportions.\n",
      "UserWarning: X does not have valid feature names, but RandomForestClassifier was fitted with feature names\n",
      "ConvergenceWarning: lbfgs failed to converge (status=1):\n",
      "STOP: TOTAL NO. of ITERATIONS REACHED LIMIT.\n",
      "\n",
      "Increase the number of iterations (max_iter) or scale the data as shown in:\n",
      "    https://scikit-learn.org/stable/modules/preprocessing.html\n",
      "Please also refer to the documentation for alternative solver options:\n",
      "    https://scikit-learn.org/stable/modules/linear_model.html#logistic-regression\n",
      "wandb: Logged calibration curve.\n",
      "wandb: Logged roc curve.\n",
      "wandb: Logged precision-recall curve.\n"
     ]
    },
    {
     "data": {
      "text/html": [],
      "text/plain": [
       "<IPython.core.display.HTML object>"
      ]
     },
     "metadata": {},
     "output_type": "display_data"
    },
    {
     "data": {
      "text/html": [
       "<br>    <style><br>        .wandb-row {<br>            display: flex;<br>            flex-direction: row;<br>            flex-wrap: wrap;<br>            justify-content: flex-start;<br>            width: 100%;<br>        }<br>        .wandb-col {<br>            display: flex;<br>            flex-direction: column;<br>            flex-basis: 100%;<br>            flex: 1;<br>            padding: 10px;<br>        }<br>    </style><br><div class=\"wandb-row\"><div class=\"wandb-col\"><h3>Run history:</h3><br/><table class=\"wandb\"><tr><td>f1_score</td><td>▁</td></tr><tr><td>f1_score_train</td><td>▁</td></tr><tr><td>f1_score_valid</td><td>▁</td></tr></table><br/></div><div class=\"wandb-col\"><h3>Run summary:</h3><br/><table class=\"wandb\"><tr><td>f1_score</td><td>0.76231</td></tr><tr><td>f1_score_train</td><td>0.56941</td></tr><tr><td>f1_score_valid</td><td>0.66445</td></tr></table><br/></div></div>"
      ],
      "text/plain": [
       "<IPython.core.display.HTML object>"
      ]
     },
     "metadata": {},
     "output_type": "display_data"
    },
    {
     "data": {
      "text/html": [
       " View run <strong style=\"color:#cdcd00\">crimson-sweep-32</strong> at: <a href='https://wandb.ai/ahujavaibhav2001-st-lawrence-college/Truck%20Delay%20Classification/runs/6f82axmm' target=\"_blank\">https://wandb.ai/ahujavaibhav2001-st-lawrence-college/Truck%20Delay%20Classification/runs/6f82axmm</a><br> View project at: <a href='https://wandb.ai/ahujavaibhav2001-st-lawrence-college/Truck%20Delay%20Classification' target=\"_blank\">https://wandb.ai/ahujavaibhav2001-st-lawrence-college/Truck%20Delay%20Classification</a><br>Synced 5 W&B file(s), 0 media file(s), 16 artifact file(s) and 7 other file(s)"
      ],
      "text/plain": [
       "<IPython.core.display.HTML object>"
      ]
     },
     "metadata": {},
     "output_type": "display_data"
    },
    {
     "data": {
      "text/html": [
       "Find logs at: <code>.\\wandb\\run-20241229_172519-6f82axmm\\logs</code>"
      ],
      "text/plain": [
       "<IPython.core.display.HTML object>"
      ]
     },
     "metadata": {},
     "output_type": "display_data"
    },
    {
     "name": "stderr",
     "output_type": "stream",
     "text": [
      "wandb: Agent Starting Run: h25wwl1x with config:\n",
      "wandb: \tmax_depth: 10\n",
      "wandb: \tmin_samples_split: 2\n",
      "wandb: \tn_estimators: 8\n",
      "wandb: WARNING Ignoring project 'Truck Delay Classification' when running a sweep.\n"
     ]
    },
    {
     "data": {
      "text/html": [
       "Tracking run with wandb version 0.19.1"
      ],
      "text/plain": [
       "<IPython.core.display.HTML object>"
      ]
     },
     "metadata": {},
     "output_type": "display_data"
    },
    {
     "data": {
      "text/html": [
       "Run data is saved locally in <code>C:\\Users\\ahuja\\wandb\\run-20241229_172530-h25wwl1x</code>"
      ],
      "text/plain": [
       "<IPython.core.display.HTML object>"
      ]
     },
     "metadata": {},
     "output_type": "display_data"
    },
    {
     "data": {
      "text/html": [
       "Syncing run <strong><a href='https://wandb.ai/ahujavaibhav2001-st-lawrence-college/Truck%20Delay%20Classification/runs/h25wwl1x' target=\"_blank\">scarlet-sweep-33</a></strong> to <a href='https://wandb.ai/ahujavaibhav2001-st-lawrence-college/Truck%20Delay%20Classification' target=\"_blank\">Weights & Biases</a> (<a href='https://wandb.me/developer-guide' target=\"_blank\">docs</a>)<br>Sweep page: <a href='https://wandb.ai/ahujavaibhav2001-st-lawrence-college/Truck%20Delay%20Classification/sweeps/9mnowi7x' target=\"_blank\">https://wandb.ai/ahujavaibhav2001-st-lawrence-college/Truck%20Delay%20Classification/sweeps/9mnowi7x</a>"
      ],
      "text/plain": [
       "<IPython.core.display.HTML object>"
      ]
     },
     "metadata": {},
     "output_type": "display_data"
    },
    {
     "data": {
      "text/html": [
       " View project at <a href='https://wandb.ai/ahujavaibhav2001-st-lawrence-college/Truck%20Delay%20Classification' target=\"_blank\">https://wandb.ai/ahujavaibhav2001-st-lawrence-college/Truck%20Delay%20Classification</a>"
      ],
      "text/plain": [
       "<IPython.core.display.HTML object>"
      ]
     },
     "metadata": {},
     "output_type": "display_data"
    },
    {
     "data": {
      "text/html": [
       " View sweep at <a href='https://wandb.ai/ahujavaibhav2001-st-lawrence-college/Truck%20Delay%20Classification/sweeps/9mnowi7x' target=\"_blank\">https://wandb.ai/ahujavaibhav2001-st-lawrence-college/Truck%20Delay%20Classification/sweeps/9mnowi7x</a>"
      ],
      "text/plain": [
       "<IPython.core.display.HTML object>"
      ]
     },
     "metadata": {},
     "output_type": "display_data"
    },
    {
     "data": {
      "text/html": [
       " View run at <a href='https://wandb.ai/ahujavaibhav2001-st-lawrence-college/Truck%20Delay%20Classification/runs/h25wwl1x' target=\"_blank\">https://wandb.ai/ahujavaibhav2001-st-lawrence-college/Truck%20Delay%20Classification/runs/h25wwl1x</a>"
      ],
      "text/plain": [
       "<IPython.core.display.HTML object>"
      ]
     },
     "metadata": {},
     "output_type": "display_data"
    },
    {
     "name": "stdout",
     "output_type": "stream",
     "text": [
      "F1_score Train: 0.6871\n",
      "F1_score Valid: 0.6507\n",
      "F1_score Test: 0.7337\n"
     ]
    },
    {
     "name": "stderr",
     "output_type": "stream",
     "text": [
      "wandb: \n",
      "wandb: Plotting RandomForestClassifier.\n",
      "UserWarning: X does not have valid feature names, but RandomForestClassifier was fitted with feature names\n",
      "wandb: Logged feature importances.\n",
      "wandb: Logged confusion matrix.\n",
      "UserWarning: X does not have valid feature names, but RandomForestClassifier was fitted with feature names\n",
      "wandb: Logged summary metrics.\n",
      "wandb: Logged class proportions.\n",
      "UserWarning: X does not have valid feature names, but RandomForestClassifier was fitted with feature names\n",
      "ConvergenceWarning: lbfgs failed to converge (status=1):\n",
      "STOP: TOTAL NO. of ITERATIONS REACHED LIMIT.\n",
      "\n",
      "Increase the number of iterations (max_iter) or scale the data as shown in:\n",
      "    https://scikit-learn.org/stable/modules/preprocessing.html\n",
      "Please also refer to the documentation for alternative solver options:\n",
      "    https://scikit-learn.org/stable/modules/linear_model.html#logistic-regression\n",
      "wandb: Logged calibration curve.\n",
      "wandb: Logged roc curve.\n",
      "wandb: Logged precision-recall curve.\n"
     ]
    },
    {
     "data": {
      "text/html": [],
      "text/plain": [
       "<IPython.core.display.HTML object>"
      ]
     },
     "metadata": {},
     "output_type": "display_data"
    },
    {
     "data": {
      "text/html": [
       "<br>    <style><br>        .wandb-row {<br>            display: flex;<br>            flex-direction: row;<br>            flex-wrap: wrap;<br>            justify-content: flex-start;<br>            width: 100%;<br>        }<br>        .wandb-col {<br>            display: flex;<br>            flex-direction: column;<br>            flex-basis: 100%;<br>            flex: 1;<br>            padding: 10px;<br>        }<br>    </style><br><div class=\"wandb-row\"><div class=\"wandb-col\"><h3>Run history:</h3><br/><table class=\"wandb\"><tr><td>f1_score</td><td>▁</td></tr><tr><td>f1_score_train</td><td>▁</td></tr><tr><td>f1_score_valid</td><td>▁</td></tr></table><br/></div><div class=\"wandb-col\"><h3>Run summary:</h3><br/><table class=\"wandb\"><tr><td>f1_score</td><td>0.73373</td></tr><tr><td>f1_score_train</td><td>0.68709</td></tr><tr><td>f1_score_valid</td><td>0.65066</td></tr></table><br/></div></div>"
      ],
      "text/plain": [
       "<IPython.core.display.HTML object>"
      ]
     },
     "metadata": {},
     "output_type": "display_data"
    },
    {
     "data": {
      "text/html": [
       " View run <strong style=\"color:#cdcd00\">scarlet-sweep-33</strong> at: <a href='https://wandb.ai/ahujavaibhav2001-st-lawrence-college/Truck%20Delay%20Classification/runs/h25wwl1x' target=\"_blank\">https://wandb.ai/ahujavaibhav2001-st-lawrence-college/Truck%20Delay%20Classification/runs/h25wwl1x</a><br> View project at: <a href='https://wandb.ai/ahujavaibhav2001-st-lawrence-college/Truck%20Delay%20Classification' target=\"_blank\">https://wandb.ai/ahujavaibhav2001-st-lawrence-college/Truck%20Delay%20Classification</a><br>Synced 5 W&B file(s), 0 media file(s), 16 artifact file(s) and 7 other file(s)"
      ],
      "text/plain": [
       "<IPython.core.display.HTML object>"
      ]
     },
     "metadata": {},
     "output_type": "display_data"
    },
    {
     "data": {
      "text/html": [
       "Find logs at: <code>.\\wandb\\run-20241229_172530-h25wwl1x\\logs</code>"
      ],
      "text/plain": [
       "<IPython.core.display.HTML object>"
      ]
     },
     "metadata": {},
     "output_type": "display_data"
    },
    {
     "name": "stderr",
     "output_type": "stream",
     "text": [
      "wandb: Agent Starting Run: dcefzft2 with config:\n",
      "wandb: \tmax_depth: 10\n",
      "wandb: \tmin_samples_split: 2\n",
      "wandb: \tn_estimators: 12\n",
      "wandb: WARNING Ignoring project 'Truck Delay Classification' when running a sweep.\n"
     ]
    },
    {
     "data": {
      "text/html": [
       "Tracking run with wandb version 0.19.1"
      ],
      "text/plain": [
       "<IPython.core.display.HTML object>"
      ]
     },
     "metadata": {},
     "output_type": "display_data"
    },
    {
     "data": {
      "text/html": [
       "Run data is saved locally in <code>C:\\Users\\ahuja\\wandb\\run-20241229_172540-dcefzft2</code>"
      ],
      "text/plain": [
       "<IPython.core.display.HTML object>"
      ]
     },
     "metadata": {},
     "output_type": "display_data"
    },
    {
     "data": {
      "text/html": [
       "Syncing run <strong><a href='https://wandb.ai/ahujavaibhav2001-st-lawrence-college/Truck%20Delay%20Classification/runs/dcefzft2' target=\"_blank\">sunny-sweep-34</a></strong> to <a href='https://wandb.ai/ahujavaibhav2001-st-lawrence-college/Truck%20Delay%20Classification' target=\"_blank\">Weights & Biases</a> (<a href='https://wandb.me/developer-guide' target=\"_blank\">docs</a>)<br>Sweep page: <a href='https://wandb.ai/ahujavaibhav2001-st-lawrence-college/Truck%20Delay%20Classification/sweeps/9mnowi7x' target=\"_blank\">https://wandb.ai/ahujavaibhav2001-st-lawrence-college/Truck%20Delay%20Classification/sweeps/9mnowi7x</a>"
      ],
      "text/plain": [
       "<IPython.core.display.HTML object>"
      ]
     },
     "metadata": {},
     "output_type": "display_data"
    },
    {
     "data": {
      "text/html": [
       " View project at <a href='https://wandb.ai/ahujavaibhav2001-st-lawrence-college/Truck%20Delay%20Classification' target=\"_blank\">https://wandb.ai/ahujavaibhav2001-st-lawrence-college/Truck%20Delay%20Classification</a>"
      ],
      "text/plain": [
       "<IPython.core.display.HTML object>"
      ]
     },
     "metadata": {},
     "output_type": "display_data"
    },
    {
     "data": {
      "text/html": [
       " View sweep at <a href='https://wandb.ai/ahujavaibhav2001-st-lawrence-college/Truck%20Delay%20Classification/sweeps/9mnowi7x' target=\"_blank\">https://wandb.ai/ahujavaibhav2001-st-lawrence-college/Truck%20Delay%20Classification/sweeps/9mnowi7x</a>"
      ],
      "text/plain": [
       "<IPython.core.display.HTML object>"
      ]
     },
     "metadata": {},
     "output_type": "display_data"
    },
    {
     "data": {
      "text/html": [
       " View run at <a href='https://wandb.ai/ahujavaibhav2001-st-lawrence-college/Truck%20Delay%20Classification/runs/dcefzft2' target=\"_blank\">https://wandb.ai/ahujavaibhav2001-st-lawrence-college/Truck%20Delay%20Classification/runs/dcefzft2</a>"
      ],
      "text/plain": [
       "<IPython.core.display.HTML object>"
      ]
     },
     "metadata": {},
     "output_type": "display_data"
    },
    {
     "name": "stdout",
     "output_type": "stream",
     "text": [
      "F1_score Train: 0.692\n",
      "F1_score Valid: 0.6546\n",
      "F1_score Test: 0.7497\n"
     ]
    },
    {
     "name": "stderr",
     "output_type": "stream",
     "text": [
      "wandb: \n",
      "wandb: Plotting RandomForestClassifier.\n",
      "UserWarning: X does not have valid feature names, but RandomForestClassifier was fitted with feature names\n",
      "wandb: Logged feature importances.\n",
      "wandb: Logged confusion matrix.\n",
      "UserWarning: X does not have valid feature names, but RandomForestClassifier was fitted with feature names\n",
      "wandb: Logged summary metrics.\n",
      "wandb: Logged class proportions.\n",
      "UserWarning: X does not have valid feature names, but RandomForestClassifier was fitted with feature names\n",
      "ConvergenceWarning: lbfgs failed to converge (status=1):\n",
      "STOP: TOTAL NO. of ITERATIONS REACHED LIMIT.\n",
      "\n",
      "Increase the number of iterations (max_iter) or scale the data as shown in:\n",
      "    https://scikit-learn.org/stable/modules/preprocessing.html\n",
      "Please also refer to the documentation for alternative solver options:\n",
      "    https://scikit-learn.org/stable/modules/linear_model.html#logistic-regression\n",
      "wandb: Logged calibration curve.\n",
      "wandb: Logged roc curve.\n",
      "wandb: Logged precision-recall curve.\n"
     ]
    },
    {
     "data": {
      "text/html": [],
      "text/plain": [
       "<IPython.core.display.HTML object>"
      ]
     },
     "metadata": {},
     "output_type": "display_data"
    },
    {
     "data": {
      "text/html": [
       "<br>    <style><br>        .wandb-row {<br>            display: flex;<br>            flex-direction: row;<br>            flex-wrap: wrap;<br>            justify-content: flex-start;<br>            width: 100%;<br>        }<br>        .wandb-col {<br>            display: flex;<br>            flex-direction: column;<br>            flex-basis: 100%;<br>            flex: 1;<br>            padding: 10px;<br>        }<br>    </style><br><div class=\"wandb-row\"><div class=\"wandb-col\"><h3>Run history:</h3><br/><table class=\"wandb\"><tr><td>f1_score</td><td>▁</td></tr><tr><td>f1_score_train</td><td>▁</td></tr><tr><td>f1_score_valid</td><td>▁</td></tr></table><br/></div><div class=\"wandb-col\"><h3>Run summary:</h3><br/><table class=\"wandb\"><tr><td>f1_score</td><td>0.74967</td></tr><tr><td>f1_score_train</td><td>0.69204</td></tr><tr><td>f1_score_valid</td><td>0.65462</td></tr></table><br/></div></div>"
      ],
      "text/plain": [
       "<IPython.core.display.HTML object>"
      ]
     },
     "metadata": {},
     "output_type": "display_data"
    },
    {
     "data": {
      "text/html": [
       " View run <strong style=\"color:#cdcd00\">sunny-sweep-34</strong> at: <a href='https://wandb.ai/ahujavaibhav2001-st-lawrence-college/Truck%20Delay%20Classification/runs/dcefzft2' target=\"_blank\">https://wandb.ai/ahujavaibhav2001-st-lawrence-college/Truck%20Delay%20Classification/runs/dcefzft2</a><br> View project at: <a href='https://wandb.ai/ahujavaibhav2001-st-lawrence-college/Truck%20Delay%20Classification' target=\"_blank\">https://wandb.ai/ahujavaibhav2001-st-lawrence-college/Truck%20Delay%20Classification</a><br>Synced 5 W&B file(s), 0 media file(s), 16 artifact file(s) and 7 other file(s)"
      ],
      "text/plain": [
       "<IPython.core.display.HTML object>"
      ]
     },
     "metadata": {},
     "output_type": "display_data"
    },
    {
     "data": {
      "text/html": [
       "Find logs at: <code>.\\wandb\\run-20241229_172540-dcefzft2\\logs</code>"
      ],
      "text/plain": [
       "<IPython.core.display.HTML object>"
      ]
     },
     "metadata": {},
     "output_type": "display_data"
    },
    {
     "name": "stderr",
     "output_type": "stream",
     "text": [
      "wandb: Agent Starting Run: 1zqrkaba with config:\n",
      "wandb: \tmax_depth: 10\n",
      "wandb: \tmin_samples_split: 2\n",
      "wandb: \tn_estimators: 16\n",
      "wandb: WARNING Ignoring project 'Truck Delay Classification' when running a sweep.\n"
     ]
    },
    {
     "data": {
      "text/html": [
       "Tracking run with wandb version 0.19.1"
      ],
      "text/plain": [
       "<IPython.core.display.HTML object>"
      ]
     },
     "metadata": {},
     "output_type": "display_data"
    },
    {
     "data": {
      "text/html": [
       "Run data is saved locally in <code>C:\\Users\\ahuja\\wandb\\run-20241229_172550-1zqrkaba</code>"
      ],
      "text/plain": [
       "<IPython.core.display.HTML object>"
      ]
     },
     "metadata": {},
     "output_type": "display_data"
    },
    {
     "data": {
      "text/html": [
       "Syncing run <strong><a href='https://wandb.ai/ahujavaibhav2001-st-lawrence-college/Truck%20Delay%20Classification/runs/1zqrkaba' target=\"_blank\">fancy-sweep-35</a></strong> to <a href='https://wandb.ai/ahujavaibhav2001-st-lawrence-college/Truck%20Delay%20Classification' target=\"_blank\">Weights & Biases</a> (<a href='https://wandb.me/developer-guide' target=\"_blank\">docs</a>)<br>Sweep page: <a href='https://wandb.ai/ahujavaibhav2001-st-lawrence-college/Truck%20Delay%20Classification/sweeps/9mnowi7x' target=\"_blank\">https://wandb.ai/ahujavaibhav2001-st-lawrence-college/Truck%20Delay%20Classification/sweeps/9mnowi7x</a>"
      ],
      "text/plain": [
       "<IPython.core.display.HTML object>"
      ]
     },
     "metadata": {},
     "output_type": "display_data"
    },
    {
     "data": {
      "text/html": [
       " View project at <a href='https://wandb.ai/ahujavaibhav2001-st-lawrence-college/Truck%20Delay%20Classification' target=\"_blank\">https://wandb.ai/ahujavaibhav2001-st-lawrence-college/Truck%20Delay%20Classification</a>"
      ],
      "text/plain": [
       "<IPython.core.display.HTML object>"
      ]
     },
     "metadata": {},
     "output_type": "display_data"
    },
    {
     "data": {
      "text/html": [
       " View sweep at <a href='https://wandb.ai/ahujavaibhav2001-st-lawrence-college/Truck%20Delay%20Classification/sweeps/9mnowi7x' target=\"_blank\">https://wandb.ai/ahujavaibhav2001-st-lawrence-college/Truck%20Delay%20Classification/sweeps/9mnowi7x</a>"
      ],
      "text/plain": [
       "<IPython.core.display.HTML object>"
      ]
     },
     "metadata": {},
     "output_type": "display_data"
    },
    {
     "data": {
      "text/html": [
       " View run at <a href='https://wandb.ai/ahujavaibhav2001-st-lawrence-college/Truck%20Delay%20Classification/runs/1zqrkaba' target=\"_blank\">https://wandb.ai/ahujavaibhav2001-st-lawrence-college/Truck%20Delay%20Classification/runs/1zqrkaba</a>"
      ],
      "text/plain": [
       "<IPython.core.display.HTML object>"
      ]
     },
     "metadata": {},
     "output_type": "display_data"
    },
    {
     "name": "stdout",
     "output_type": "stream",
     "text": [
      "F1_score Train: 0.7008\n",
      "F1_score Valid: 0.6529\n",
      "F1_score Test: 0.7533\n"
     ]
    },
    {
     "name": "stderr",
     "output_type": "stream",
     "text": [
      "wandb: \n",
      "wandb: Plotting RandomForestClassifier.\n",
      "UserWarning: X does not have valid feature names, but RandomForestClassifier was fitted with feature names\n",
      "wandb: Logged feature importances.\n",
      "wandb: Logged confusion matrix.\n",
      "UserWarning: X does not have valid feature names, but RandomForestClassifier was fitted with feature names\n",
      "wandb: Logged summary metrics.\n",
      "wandb: Logged class proportions.\n",
      "UserWarning: X does not have valid feature names, but RandomForestClassifier was fitted with feature names\n",
      "ConvergenceWarning: lbfgs failed to converge (status=1):\n",
      "STOP: TOTAL NO. of ITERATIONS REACHED LIMIT.\n",
      "\n",
      "Increase the number of iterations (max_iter) or scale the data as shown in:\n",
      "    https://scikit-learn.org/stable/modules/preprocessing.html\n",
      "Please also refer to the documentation for alternative solver options:\n",
      "    https://scikit-learn.org/stable/modules/linear_model.html#logistic-regression\n",
      "wandb: Logged calibration curve.\n",
      "wandb: Logged roc curve.\n",
      "wandb: Logged precision-recall curve.\n"
     ]
    },
    {
     "data": {
      "text/html": [],
      "text/plain": [
       "<IPython.core.display.HTML object>"
      ]
     },
     "metadata": {},
     "output_type": "display_data"
    },
    {
     "data": {
      "text/html": [
       "<br>    <style><br>        .wandb-row {<br>            display: flex;<br>            flex-direction: row;<br>            flex-wrap: wrap;<br>            justify-content: flex-start;<br>            width: 100%;<br>        }<br>        .wandb-col {<br>            display: flex;<br>            flex-direction: column;<br>            flex-basis: 100%;<br>            flex: 1;<br>            padding: 10px;<br>        }<br>    </style><br><div class=\"wandb-row\"><div class=\"wandb-col\"><h3>Run history:</h3><br/><table class=\"wandb\"><tr><td>f1_score</td><td>▁</td></tr><tr><td>f1_score_train</td><td>▁</td></tr><tr><td>f1_score_valid</td><td>▁</td></tr></table><br/></div><div class=\"wandb-col\"><h3>Run summary:</h3><br/><table class=\"wandb\"><tr><td>f1_score</td><td>0.75333</td></tr><tr><td>f1_score_train</td><td>0.70085</td></tr><tr><td>f1_score_valid</td><td>0.6529</td></tr></table><br/></div></div>"
      ],
      "text/plain": [
       "<IPython.core.display.HTML object>"
      ]
     },
     "metadata": {},
     "output_type": "display_data"
    },
    {
     "data": {
      "text/html": [
       " View run <strong style=\"color:#cdcd00\">fancy-sweep-35</strong> at: <a href='https://wandb.ai/ahujavaibhav2001-st-lawrence-college/Truck%20Delay%20Classification/runs/1zqrkaba' target=\"_blank\">https://wandb.ai/ahujavaibhav2001-st-lawrence-college/Truck%20Delay%20Classification/runs/1zqrkaba</a><br> View project at: <a href='https://wandb.ai/ahujavaibhav2001-st-lawrence-college/Truck%20Delay%20Classification' target=\"_blank\">https://wandb.ai/ahujavaibhav2001-st-lawrence-college/Truck%20Delay%20Classification</a><br>Synced 5 W&B file(s), 0 media file(s), 16 artifact file(s) and 7 other file(s)"
      ],
      "text/plain": [
       "<IPython.core.display.HTML object>"
      ]
     },
     "metadata": {},
     "output_type": "display_data"
    },
    {
     "data": {
      "text/html": [
       "Find logs at: <code>.\\wandb\\run-20241229_172550-1zqrkaba\\logs</code>"
      ],
      "text/plain": [
       "<IPython.core.display.HTML object>"
      ]
     },
     "metadata": {},
     "output_type": "display_data"
    },
    {
     "name": "stderr",
     "output_type": "stream",
     "text": [
      "wandb: Agent Starting Run: 9xpluibx with config:\n",
      "wandb: \tmax_depth: 10\n",
      "wandb: \tmin_samples_split: 2\n",
      "wandb: \tn_estimators: 20\n",
      "wandb: WARNING Ignoring project 'Truck Delay Classification' when running a sweep.\n"
     ]
    },
    {
     "data": {
      "text/html": [
       "Tracking run with wandb version 0.19.1"
      ],
      "text/plain": [
       "<IPython.core.display.HTML object>"
      ]
     },
     "metadata": {},
     "output_type": "display_data"
    },
    {
     "data": {
      "text/html": [
       "Run data is saved locally in <code>C:\\Users\\ahuja\\wandb\\run-20241229_172600-9xpluibx</code>"
      ],
      "text/plain": [
       "<IPython.core.display.HTML object>"
      ]
     },
     "metadata": {},
     "output_type": "display_data"
    },
    {
     "data": {
      "text/html": [
       "Syncing run <strong><a href='https://wandb.ai/ahujavaibhav2001-st-lawrence-college/Truck%20Delay%20Classification/runs/9xpluibx' target=\"_blank\">lilac-sweep-36</a></strong> to <a href='https://wandb.ai/ahujavaibhav2001-st-lawrence-college/Truck%20Delay%20Classification' target=\"_blank\">Weights & Biases</a> (<a href='https://wandb.me/developer-guide' target=\"_blank\">docs</a>)<br>Sweep page: <a href='https://wandb.ai/ahujavaibhav2001-st-lawrence-college/Truck%20Delay%20Classification/sweeps/9mnowi7x' target=\"_blank\">https://wandb.ai/ahujavaibhav2001-st-lawrence-college/Truck%20Delay%20Classification/sweeps/9mnowi7x</a>"
      ],
      "text/plain": [
       "<IPython.core.display.HTML object>"
      ]
     },
     "metadata": {},
     "output_type": "display_data"
    },
    {
     "data": {
      "text/html": [
       " View project at <a href='https://wandb.ai/ahujavaibhav2001-st-lawrence-college/Truck%20Delay%20Classification' target=\"_blank\">https://wandb.ai/ahujavaibhav2001-st-lawrence-college/Truck%20Delay%20Classification</a>"
      ],
      "text/plain": [
       "<IPython.core.display.HTML object>"
      ]
     },
     "metadata": {},
     "output_type": "display_data"
    },
    {
     "data": {
      "text/html": [
       " View sweep at <a href='https://wandb.ai/ahujavaibhav2001-st-lawrence-college/Truck%20Delay%20Classification/sweeps/9mnowi7x' target=\"_blank\">https://wandb.ai/ahujavaibhav2001-st-lawrence-college/Truck%20Delay%20Classification/sweeps/9mnowi7x</a>"
      ],
      "text/plain": [
       "<IPython.core.display.HTML object>"
      ]
     },
     "metadata": {},
     "output_type": "display_data"
    },
    {
     "data": {
      "text/html": [
       " View run at <a href='https://wandb.ai/ahujavaibhav2001-st-lawrence-college/Truck%20Delay%20Classification/runs/9xpluibx' target=\"_blank\">https://wandb.ai/ahujavaibhav2001-st-lawrence-college/Truck%20Delay%20Classification/runs/9xpluibx</a>"
      ],
      "text/plain": [
       "<IPython.core.display.HTML object>"
      ]
     },
     "metadata": {},
     "output_type": "display_data"
    },
    {
     "name": "stdout",
     "output_type": "stream",
     "text": [
      "F1_score Train: 0.7007\n",
      "F1_score Valid: 0.662\n",
      "F1_score Test: 0.7475\n"
     ]
    },
    {
     "name": "stderr",
     "output_type": "stream",
     "text": [
      "wandb: \n",
      "wandb: Plotting RandomForestClassifier.\n",
      "UserWarning: X does not have valid feature names, but RandomForestClassifier was fitted with feature names\n",
      "wandb: Logged feature importances.\n",
      "wandb: Logged confusion matrix.\n",
      "UserWarning: X does not have valid feature names, but RandomForestClassifier was fitted with feature names\n",
      "wandb: Logged summary metrics.\n",
      "wandb: Logged class proportions.\n",
      "UserWarning: X does not have valid feature names, but RandomForestClassifier was fitted with feature names\n",
      "ConvergenceWarning: lbfgs failed to converge (status=1):\n",
      "STOP: TOTAL NO. of ITERATIONS REACHED LIMIT.\n",
      "\n",
      "Increase the number of iterations (max_iter) or scale the data as shown in:\n",
      "    https://scikit-learn.org/stable/modules/preprocessing.html\n",
      "Please also refer to the documentation for alternative solver options:\n",
      "    https://scikit-learn.org/stable/modules/linear_model.html#logistic-regression\n",
      "wandb: Logged calibration curve.\n",
      "wandb: Logged roc curve.\n",
      "wandb: Logged precision-recall curve.\n"
     ]
    },
    {
     "data": {
      "text/html": [],
      "text/plain": [
       "<IPython.core.display.HTML object>"
      ]
     },
     "metadata": {},
     "output_type": "display_data"
    },
    {
     "data": {
      "text/html": [
       "<br>    <style><br>        .wandb-row {<br>            display: flex;<br>            flex-direction: row;<br>            flex-wrap: wrap;<br>            justify-content: flex-start;<br>            width: 100%;<br>        }<br>        .wandb-col {<br>            display: flex;<br>            flex-direction: column;<br>            flex-basis: 100%;<br>            flex: 1;<br>            padding: 10px;<br>        }<br>    </style><br><div class=\"wandb-row\"><div class=\"wandb-col\"><h3>Run history:</h3><br/><table class=\"wandb\"><tr><td>f1_score</td><td>▁</td></tr><tr><td>f1_score_train</td><td>▁</td></tr><tr><td>f1_score_valid</td><td>▁</td></tr></table><br/></div><div class=\"wandb-col\"><h3>Run summary:</h3><br/><table class=\"wandb\"><tr><td>f1_score</td><td>0.7475</td></tr><tr><td>f1_score_train</td><td>0.70067</td></tr><tr><td>f1_score_valid</td><td>0.66202</td></tr></table><br/></div></div>"
      ],
      "text/plain": [
       "<IPython.core.display.HTML object>"
      ]
     },
     "metadata": {},
     "output_type": "display_data"
    },
    {
     "data": {
      "text/html": [
       " View run <strong style=\"color:#cdcd00\">lilac-sweep-36</strong> at: <a href='https://wandb.ai/ahujavaibhav2001-st-lawrence-college/Truck%20Delay%20Classification/runs/9xpluibx' target=\"_blank\">https://wandb.ai/ahujavaibhav2001-st-lawrence-college/Truck%20Delay%20Classification/runs/9xpluibx</a><br> View project at: <a href='https://wandb.ai/ahujavaibhav2001-st-lawrence-college/Truck%20Delay%20Classification' target=\"_blank\">https://wandb.ai/ahujavaibhav2001-st-lawrence-college/Truck%20Delay%20Classification</a><br>Synced 5 W&B file(s), 0 media file(s), 16 artifact file(s) and 7 other file(s)"
      ],
      "text/plain": [
       "<IPython.core.display.HTML object>"
      ]
     },
     "metadata": {},
     "output_type": "display_data"
    },
    {
     "data": {
      "text/html": [
       "Find logs at: <code>.\\wandb\\run-20241229_172600-9xpluibx\\logs</code>"
      ],
      "text/plain": [
       "<IPython.core.display.HTML object>"
      ]
     },
     "metadata": {},
     "output_type": "display_data"
    },
    {
     "name": "stderr",
     "output_type": "stream",
     "text": [
      "wandb: Agent Starting Run: hn83exbk with config:\n",
      "wandb: \tmax_depth: 10\n",
      "wandb: \tmin_samples_split: 4\n",
      "wandb: \tn_estimators: 8\n",
      "wandb: WARNING Ignoring project 'Truck Delay Classification' when running a sweep.\n"
     ]
    },
    {
     "data": {
      "text/html": [
       "Tracking run with wandb version 0.19.1"
      ],
      "text/plain": [
       "<IPython.core.display.HTML object>"
      ]
     },
     "metadata": {},
     "output_type": "display_data"
    },
    {
     "data": {
      "text/html": [
       "Run data is saved locally in <code>C:\\Users\\ahuja\\wandb\\run-20241229_172611-hn83exbk</code>"
      ],
      "text/plain": [
       "<IPython.core.display.HTML object>"
      ]
     },
     "metadata": {},
     "output_type": "display_data"
    },
    {
     "data": {
      "text/html": [
       "Syncing run <strong><a href='https://wandb.ai/ahujavaibhav2001-st-lawrence-college/Truck%20Delay%20Classification/runs/hn83exbk' target=\"_blank\">polar-sweep-37</a></strong> to <a href='https://wandb.ai/ahujavaibhav2001-st-lawrence-college/Truck%20Delay%20Classification' target=\"_blank\">Weights & Biases</a> (<a href='https://wandb.me/developer-guide' target=\"_blank\">docs</a>)<br>Sweep page: <a href='https://wandb.ai/ahujavaibhav2001-st-lawrence-college/Truck%20Delay%20Classification/sweeps/9mnowi7x' target=\"_blank\">https://wandb.ai/ahujavaibhav2001-st-lawrence-college/Truck%20Delay%20Classification/sweeps/9mnowi7x</a>"
      ],
      "text/plain": [
       "<IPython.core.display.HTML object>"
      ]
     },
     "metadata": {},
     "output_type": "display_data"
    },
    {
     "data": {
      "text/html": [
       " View project at <a href='https://wandb.ai/ahujavaibhav2001-st-lawrence-college/Truck%20Delay%20Classification' target=\"_blank\">https://wandb.ai/ahujavaibhav2001-st-lawrence-college/Truck%20Delay%20Classification</a>"
      ],
      "text/plain": [
       "<IPython.core.display.HTML object>"
      ]
     },
     "metadata": {},
     "output_type": "display_data"
    },
    {
     "data": {
      "text/html": [
       " View sweep at <a href='https://wandb.ai/ahujavaibhav2001-st-lawrence-college/Truck%20Delay%20Classification/sweeps/9mnowi7x' target=\"_blank\">https://wandb.ai/ahujavaibhav2001-st-lawrence-college/Truck%20Delay%20Classification/sweeps/9mnowi7x</a>"
      ],
      "text/plain": [
       "<IPython.core.display.HTML object>"
      ]
     },
     "metadata": {},
     "output_type": "display_data"
    },
    {
     "data": {
      "text/html": [
       " View run at <a href='https://wandb.ai/ahujavaibhav2001-st-lawrence-college/Truck%20Delay%20Classification/runs/hn83exbk' target=\"_blank\">https://wandb.ai/ahujavaibhav2001-st-lawrence-college/Truck%20Delay%20Classification/runs/hn83exbk</a>"
      ],
      "text/plain": [
       "<IPython.core.display.HTML object>"
      ]
     },
     "metadata": {},
     "output_type": "display_data"
    },
    {
     "name": "stdout",
     "output_type": "stream",
     "text": [
      "F1_score Train: 0.6729\n",
      "F1_score Valid: 0.6359\n",
      "F1_score Test: 0.7293\n"
     ]
    },
    {
     "name": "stderr",
     "output_type": "stream",
     "text": [
      "wandb: \n",
      "wandb: Plotting RandomForestClassifier.\n",
      "UserWarning: X does not have valid feature names, but RandomForestClassifier was fitted with feature names\n",
      "wandb: Logged feature importances.\n",
      "wandb: Logged confusion matrix.\n",
      "UserWarning: X does not have valid feature names, but RandomForestClassifier was fitted with feature names\n",
      "wandb: Logged summary metrics.\n",
      "wandb: Logged class proportions.\n",
      "UserWarning: X does not have valid feature names, but RandomForestClassifier was fitted with feature names\n",
      "ConvergenceWarning: lbfgs failed to converge (status=1):\n",
      "STOP: TOTAL NO. of ITERATIONS REACHED LIMIT.\n",
      "\n",
      "Increase the number of iterations (max_iter) or scale the data as shown in:\n",
      "    https://scikit-learn.org/stable/modules/preprocessing.html\n",
      "Please also refer to the documentation for alternative solver options:\n",
      "    https://scikit-learn.org/stable/modules/linear_model.html#logistic-regression\n",
      "wandb: Logged calibration curve.\n",
      "wandb: Logged roc curve.\n",
      "wandb: Logged precision-recall curve.\n"
     ]
    },
    {
     "data": {
      "text/html": [],
      "text/plain": [
       "<IPython.core.display.HTML object>"
      ]
     },
     "metadata": {},
     "output_type": "display_data"
    },
    {
     "data": {
      "text/html": [
       "<br>    <style><br>        .wandb-row {<br>            display: flex;<br>            flex-direction: row;<br>            flex-wrap: wrap;<br>            justify-content: flex-start;<br>            width: 100%;<br>        }<br>        .wandb-col {<br>            display: flex;<br>            flex-direction: column;<br>            flex-basis: 100%;<br>            flex: 1;<br>            padding: 10px;<br>        }<br>    </style><br><div class=\"wandb-row\"><div class=\"wandb-col\"><h3>Run history:</h3><br/><table class=\"wandb\"><tr><td>f1_score</td><td>▁</td></tr><tr><td>f1_score_train</td><td>▁</td></tr><tr><td>f1_score_valid</td><td>▁</td></tr></table><br/></div><div class=\"wandb-col\"><h3>Run summary:</h3><br/><table class=\"wandb\"><tr><td>f1_score</td><td>0.72926</td></tr><tr><td>f1_score_train</td><td>0.67295</td></tr><tr><td>f1_score_valid</td><td>0.63586</td></tr></table><br/></div></div>"
      ],
      "text/plain": [
       "<IPython.core.display.HTML object>"
      ]
     },
     "metadata": {},
     "output_type": "display_data"
    },
    {
     "data": {
      "text/html": [
       " View run <strong style=\"color:#cdcd00\">polar-sweep-37</strong> at: <a href='https://wandb.ai/ahujavaibhav2001-st-lawrence-college/Truck%20Delay%20Classification/runs/hn83exbk' target=\"_blank\">https://wandb.ai/ahujavaibhav2001-st-lawrence-college/Truck%20Delay%20Classification/runs/hn83exbk</a><br> View project at: <a href='https://wandb.ai/ahujavaibhav2001-st-lawrence-college/Truck%20Delay%20Classification' target=\"_blank\">https://wandb.ai/ahujavaibhav2001-st-lawrence-college/Truck%20Delay%20Classification</a><br>Synced 5 W&B file(s), 0 media file(s), 16 artifact file(s) and 7 other file(s)"
      ],
      "text/plain": [
       "<IPython.core.display.HTML object>"
      ]
     },
     "metadata": {},
     "output_type": "display_data"
    },
    {
     "data": {
      "text/html": [
       "Find logs at: <code>.\\wandb\\run-20241229_172611-hn83exbk\\logs</code>"
      ],
      "text/plain": [
       "<IPython.core.display.HTML object>"
      ]
     },
     "metadata": {},
     "output_type": "display_data"
    },
    {
     "name": "stderr",
     "output_type": "stream",
     "text": [
      "wandb: Agent Starting Run: vgx2aepp with config:\n",
      "wandb: \tmax_depth: 10\n",
      "wandb: \tmin_samples_split: 4\n",
      "wandb: \tn_estimators: 12\n",
      "wandb: WARNING Ignoring project 'Truck Delay Classification' when running a sweep.\n"
     ]
    },
    {
     "data": {
      "text/html": [
       "Tracking run with wandb version 0.19.1"
      ],
      "text/plain": [
       "<IPython.core.display.HTML object>"
      ]
     },
     "metadata": {},
     "output_type": "display_data"
    },
    {
     "data": {
      "text/html": [
       "Run data is saved locally in <code>C:\\Users\\ahuja\\wandb\\run-20241229_172621-vgx2aepp</code>"
      ],
      "text/plain": [
       "<IPython.core.display.HTML object>"
      ]
     },
     "metadata": {},
     "output_type": "display_data"
    },
    {
     "data": {
      "text/html": [
       "Syncing run <strong><a href='https://wandb.ai/ahujavaibhav2001-st-lawrence-college/Truck%20Delay%20Classification/runs/vgx2aepp' target=\"_blank\">wise-sweep-38</a></strong> to <a href='https://wandb.ai/ahujavaibhav2001-st-lawrence-college/Truck%20Delay%20Classification' target=\"_blank\">Weights & Biases</a> (<a href='https://wandb.me/developer-guide' target=\"_blank\">docs</a>)<br>Sweep page: <a href='https://wandb.ai/ahujavaibhav2001-st-lawrence-college/Truck%20Delay%20Classification/sweeps/9mnowi7x' target=\"_blank\">https://wandb.ai/ahujavaibhav2001-st-lawrence-college/Truck%20Delay%20Classification/sweeps/9mnowi7x</a>"
      ],
      "text/plain": [
       "<IPython.core.display.HTML object>"
      ]
     },
     "metadata": {},
     "output_type": "display_data"
    },
    {
     "data": {
      "text/html": [
       " View project at <a href='https://wandb.ai/ahujavaibhav2001-st-lawrence-college/Truck%20Delay%20Classification' target=\"_blank\">https://wandb.ai/ahujavaibhav2001-st-lawrence-college/Truck%20Delay%20Classification</a>"
      ],
      "text/plain": [
       "<IPython.core.display.HTML object>"
      ]
     },
     "metadata": {},
     "output_type": "display_data"
    },
    {
     "data": {
      "text/html": [
       " View sweep at <a href='https://wandb.ai/ahujavaibhav2001-st-lawrence-college/Truck%20Delay%20Classification/sweeps/9mnowi7x' target=\"_blank\">https://wandb.ai/ahujavaibhav2001-st-lawrence-college/Truck%20Delay%20Classification/sweeps/9mnowi7x</a>"
      ],
      "text/plain": [
       "<IPython.core.display.HTML object>"
      ]
     },
     "metadata": {},
     "output_type": "display_data"
    },
    {
     "data": {
      "text/html": [
       " View run at <a href='https://wandb.ai/ahujavaibhav2001-st-lawrence-college/Truck%20Delay%20Classification/runs/vgx2aepp' target=\"_blank\">https://wandb.ai/ahujavaibhav2001-st-lawrence-college/Truck%20Delay%20Classification/runs/vgx2aepp</a>"
      ],
      "text/plain": [
       "<IPython.core.display.HTML object>"
      ]
     },
     "metadata": {},
     "output_type": "display_data"
    },
    {
     "name": "stdout",
     "output_type": "stream",
     "text": [
      "F1_score Train: 0.6813\n",
      "F1_score Valid: 0.6556\n",
      "F1_score Test: 0.7505\n"
     ]
    },
    {
     "name": "stderr",
     "output_type": "stream",
     "text": [
      "wandb: \n",
      "wandb: Plotting RandomForestClassifier.\n",
      "UserWarning: X does not have valid feature names, but RandomForestClassifier was fitted with feature names\n",
      "wandb: Logged feature importances.\n",
      "wandb: Logged confusion matrix.\n",
      "UserWarning: X does not have valid feature names, but RandomForestClassifier was fitted with feature names\n",
      "wandb: Logged summary metrics.\n",
      "wandb: Logged class proportions.\n",
      "UserWarning: X does not have valid feature names, but RandomForestClassifier was fitted with feature names\n",
      "ConvergenceWarning: lbfgs failed to converge (status=1):\n",
      "STOP: TOTAL NO. of ITERATIONS REACHED LIMIT.\n",
      "\n",
      "Increase the number of iterations (max_iter) or scale the data as shown in:\n",
      "    https://scikit-learn.org/stable/modules/preprocessing.html\n",
      "Please also refer to the documentation for alternative solver options:\n",
      "    https://scikit-learn.org/stable/modules/linear_model.html#logistic-regression\n",
      "wandb: Logged calibration curve.\n",
      "wandb: Logged roc curve.\n",
      "wandb: Logged precision-recall curve.\n"
     ]
    },
    {
     "data": {
      "text/html": [],
      "text/plain": [
       "<IPython.core.display.HTML object>"
      ]
     },
     "metadata": {},
     "output_type": "display_data"
    },
    {
     "data": {
      "text/html": [
       "<br>    <style><br>        .wandb-row {<br>            display: flex;<br>            flex-direction: row;<br>            flex-wrap: wrap;<br>            justify-content: flex-start;<br>            width: 100%;<br>        }<br>        .wandb-col {<br>            display: flex;<br>            flex-direction: column;<br>            flex-basis: 100%;<br>            flex: 1;<br>            padding: 10px;<br>        }<br>    </style><br><div class=\"wandb-row\"><div class=\"wandb-col\"><h3>Run history:</h3><br/><table class=\"wandb\"><tr><td>f1_score</td><td>▁</td></tr><tr><td>f1_score_train</td><td>▁</td></tr><tr><td>f1_score_valid</td><td>▁</td></tr></table><br/></div><div class=\"wandb-col\"><h3>Run summary:</h3><br/><table class=\"wandb\"><tr><td>f1_score</td><td>0.75049</td></tr><tr><td>f1_score_train</td><td>0.68127</td></tr><tr><td>f1_score_valid</td><td>0.65562</td></tr></table><br/></div></div>"
      ],
      "text/plain": [
       "<IPython.core.display.HTML object>"
      ]
     },
     "metadata": {},
     "output_type": "display_data"
    },
    {
     "data": {
      "text/html": [
       " View run <strong style=\"color:#cdcd00\">wise-sweep-38</strong> at: <a href='https://wandb.ai/ahujavaibhav2001-st-lawrence-college/Truck%20Delay%20Classification/runs/vgx2aepp' target=\"_blank\">https://wandb.ai/ahujavaibhav2001-st-lawrence-college/Truck%20Delay%20Classification/runs/vgx2aepp</a><br> View project at: <a href='https://wandb.ai/ahujavaibhav2001-st-lawrence-college/Truck%20Delay%20Classification' target=\"_blank\">https://wandb.ai/ahujavaibhav2001-st-lawrence-college/Truck%20Delay%20Classification</a><br>Synced 5 W&B file(s), 0 media file(s), 16 artifact file(s) and 7 other file(s)"
      ],
      "text/plain": [
       "<IPython.core.display.HTML object>"
      ]
     },
     "metadata": {},
     "output_type": "display_data"
    },
    {
     "data": {
      "text/html": [
       "Find logs at: <code>.\\wandb\\run-20241229_172621-vgx2aepp\\logs</code>"
      ],
      "text/plain": [
       "<IPython.core.display.HTML object>"
      ]
     },
     "metadata": {},
     "output_type": "display_data"
    },
    {
     "name": "stderr",
     "output_type": "stream",
     "text": [
      "wandb: Agent Starting Run: txd4zsvm with config:\n",
      "wandb: \tmax_depth: 10\n",
      "wandb: \tmin_samples_split: 4\n",
      "wandb: \tn_estimators: 16\n",
      "wandb: WARNING Ignoring project 'Truck Delay Classification' when running a sweep.\n"
     ]
    },
    {
     "data": {
      "text/html": [
       "Tracking run with wandb version 0.19.1"
      ],
      "text/plain": [
       "<IPython.core.display.HTML object>"
      ]
     },
     "metadata": {},
     "output_type": "display_data"
    },
    {
     "data": {
      "text/html": [
       "Run data is saved locally in <code>C:\\Users\\ahuja\\wandb\\run-20241229_172631-txd4zsvm</code>"
      ],
      "text/plain": [
       "<IPython.core.display.HTML object>"
      ]
     },
     "metadata": {},
     "output_type": "display_data"
    },
    {
     "data": {
      "text/html": [
       "Syncing run <strong><a href='https://wandb.ai/ahujavaibhav2001-st-lawrence-college/Truck%20Delay%20Classification/runs/txd4zsvm' target=\"_blank\">glamorous-sweep-39</a></strong> to <a href='https://wandb.ai/ahujavaibhav2001-st-lawrence-college/Truck%20Delay%20Classification' target=\"_blank\">Weights & Biases</a> (<a href='https://wandb.me/developer-guide' target=\"_blank\">docs</a>)<br>Sweep page: <a href='https://wandb.ai/ahujavaibhav2001-st-lawrence-college/Truck%20Delay%20Classification/sweeps/9mnowi7x' target=\"_blank\">https://wandb.ai/ahujavaibhav2001-st-lawrence-college/Truck%20Delay%20Classification/sweeps/9mnowi7x</a>"
      ],
      "text/plain": [
       "<IPython.core.display.HTML object>"
      ]
     },
     "metadata": {},
     "output_type": "display_data"
    },
    {
     "data": {
      "text/html": [
       " View project at <a href='https://wandb.ai/ahujavaibhav2001-st-lawrence-college/Truck%20Delay%20Classification' target=\"_blank\">https://wandb.ai/ahujavaibhav2001-st-lawrence-college/Truck%20Delay%20Classification</a>"
      ],
      "text/plain": [
       "<IPython.core.display.HTML object>"
      ]
     },
     "metadata": {},
     "output_type": "display_data"
    },
    {
     "data": {
      "text/html": [
       " View sweep at <a href='https://wandb.ai/ahujavaibhav2001-st-lawrence-college/Truck%20Delay%20Classification/sweeps/9mnowi7x' target=\"_blank\">https://wandb.ai/ahujavaibhav2001-st-lawrence-college/Truck%20Delay%20Classification/sweeps/9mnowi7x</a>"
      ],
      "text/plain": [
       "<IPython.core.display.HTML object>"
      ]
     },
     "metadata": {},
     "output_type": "display_data"
    },
    {
     "data": {
      "text/html": [
       " View run at <a href='https://wandb.ai/ahujavaibhav2001-st-lawrence-college/Truck%20Delay%20Classification/runs/txd4zsvm' target=\"_blank\">https://wandb.ai/ahujavaibhav2001-st-lawrence-college/Truck%20Delay%20Classification/runs/txd4zsvm</a>"
      ],
      "text/plain": [
       "<IPython.core.display.HTML object>"
      ]
     },
     "metadata": {},
     "output_type": "display_data"
    },
    {
     "name": "stdout",
     "output_type": "stream",
     "text": [
      "F1_score Train: 0.6958\n",
      "F1_score Valid: 0.6524\n",
      "F1_score Test: 0.7541\n"
     ]
    },
    {
     "name": "stderr",
     "output_type": "stream",
     "text": [
      "wandb: \n",
      "wandb: Plotting RandomForestClassifier.\n",
      "UserWarning: X does not have valid feature names, but RandomForestClassifier was fitted with feature names\n",
      "wandb: Logged feature importances.\n",
      "wandb: Logged confusion matrix.\n",
      "UserWarning: X does not have valid feature names, but RandomForestClassifier was fitted with feature names\n",
      "wandb: Logged summary metrics.\n",
      "wandb: Logged class proportions.\n",
      "UserWarning: X does not have valid feature names, but RandomForestClassifier was fitted with feature names\n",
      "ConvergenceWarning: lbfgs failed to converge (status=1):\n",
      "STOP: TOTAL NO. of ITERATIONS REACHED LIMIT.\n",
      "\n",
      "Increase the number of iterations (max_iter) or scale the data as shown in:\n",
      "    https://scikit-learn.org/stable/modules/preprocessing.html\n",
      "Please also refer to the documentation for alternative solver options:\n",
      "    https://scikit-learn.org/stable/modules/linear_model.html#logistic-regression\n",
      "wandb: Logged calibration curve.\n",
      "wandb: Logged roc curve.\n",
      "wandb: Logged precision-recall curve.\n"
     ]
    },
    {
     "data": {
      "text/html": [],
      "text/plain": [
       "<IPython.core.display.HTML object>"
      ]
     },
     "metadata": {},
     "output_type": "display_data"
    },
    {
     "data": {
      "text/html": [
       "<br>    <style><br>        .wandb-row {<br>            display: flex;<br>            flex-direction: row;<br>            flex-wrap: wrap;<br>            justify-content: flex-start;<br>            width: 100%;<br>        }<br>        .wandb-col {<br>            display: flex;<br>            flex-direction: column;<br>            flex-basis: 100%;<br>            flex: 1;<br>            padding: 10px;<br>        }<br>    </style><br><div class=\"wandb-row\"><div class=\"wandb-col\"><h3>Run history:</h3><br/><table class=\"wandb\"><tr><td>f1_score</td><td>▁</td></tr><tr><td>f1_score_train</td><td>▁</td></tr><tr><td>f1_score_valid</td><td>▁</td></tr></table><br/></div><div class=\"wandb-col\"><h3>Run summary:</h3><br/><table class=\"wandb\"><tr><td>f1_score</td><td>0.7541</td></tr><tr><td>f1_score_train</td><td>0.69584</td></tr><tr><td>f1_score_valid</td><td>0.65245</td></tr></table><br/></div></div>"
      ],
      "text/plain": [
       "<IPython.core.display.HTML object>"
      ]
     },
     "metadata": {},
     "output_type": "display_data"
    },
    {
     "data": {
      "text/html": [
       " View run <strong style=\"color:#cdcd00\">glamorous-sweep-39</strong> at: <a href='https://wandb.ai/ahujavaibhav2001-st-lawrence-college/Truck%20Delay%20Classification/runs/txd4zsvm' target=\"_blank\">https://wandb.ai/ahujavaibhav2001-st-lawrence-college/Truck%20Delay%20Classification/runs/txd4zsvm</a><br> View project at: <a href='https://wandb.ai/ahujavaibhav2001-st-lawrence-college/Truck%20Delay%20Classification' target=\"_blank\">https://wandb.ai/ahujavaibhav2001-st-lawrence-college/Truck%20Delay%20Classification</a><br>Synced 5 W&B file(s), 0 media file(s), 16 artifact file(s) and 7 other file(s)"
      ],
      "text/plain": [
       "<IPython.core.display.HTML object>"
      ]
     },
     "metadata": {},
     "output_type": "display_data"
    },
    {
     "data": {
      "text/html": [
       "Find logs at: <code>.\\wandb\\run-20241229_172631-txd4zsvm\\logs</code>"
      ],
      "text/plain": [
       "<IPython.core.display.HTML object>"
      ]
     },
     "metadata": {},
     "output_type": "display_data"
    },
    {
     "name": "stderr",
     "output_type": "stream",
     "text": [
      "wandb: Agent Starting Run: p7fuja46 with config:\n",
      "wandb: \tmax_depth: 10\n",
      "wandb: \tmin_samples_split: 4\n",
      "wandb: \tn_estimators: 20\n",
      "wandb: WARNING Ignoring project 'Truck Delay Classification' when running a sweep.\n"
     ]
    },
    {
     "data": {
      "text/html": [
       "Tracking run with wandb version 0.19.1"
      ],
      "text/plain": [
       "<IPython.core.display.HTML object>"
      ]
     },
     "metadata": {},
     "output_type": "display_data"
    },
    {
     "data": {
      "text/html": [
       "Run data is saved locally in <code>C:\\Users\\ahuja\\wandb\\run-20241229_172641-p7fuja46</code>"
      ],
      "text/plain": [
       "<IPython.core.display.HTML object>"
      ]
     },
     "metadata": {},
     "output_type": "display_data"
    },
    {
     "data": {
      "text/html": [
       "Syncing run <strong><a href='https://wandb.ai/ahujavaibhav2001-st-lawrence-college/Truck%20Delay%20Classification/runs/p7fuja46' target=\"_blank\">swift-sweep-40</a></strong> to <a href='https://wandb.ai/ahujavaibhav2001-st-lawrence-college/Truck%20Delay%20Classification' target=\"_blank\">Weights & Biases</a> (<a href='https://wandb.me/developer-guide' target=\"_blank\">docs</a>)<br>Sweep page: <a href='https://wandb.ai/ahujavaibhav2001-st-lawrence-college/Truck%20Delay%20Classification/sweeps/9mnowi7x' target=\"_blank\">https://wandb.ai/ahujavaibhav2001-st-lawrence-college/Truck%20Delay%20Classification/sweeps/9mnowi7x</a>"
      ],
      "text/plain": [
       "<IPython.core.display.HTML object>"
      ]
     },
     "metadata": {},
     "output_type": "display_data"
    },
    {
     "data": {
      "text/html": [
       " View project at <a href='https://wandb.ai/ahujavaibhav2001-st-lawrence-college/Truck%20Delay%20Classification' target=\"_blank\">https://wandb.ai/ahujavaibhav2001-st-lawrence-college/Truck%20Delay%20Classification</a>"
      ],
      "text/plain": [
       "<IPython.core.display.HTML object>"
      ]
     },
     "metadata": {},
     "output_type": "display_data"
    },
    {
     "data": {
      "text/html": [
       " View sweep at <a href='https://wandb.ai/ahujavaibhav2001-st-lawrence-college/Truck%20Delay%20Classification/sweeps/9mnowi7x' target=\"_blank\">https://wandb.ai/ahujavaibhav2001-st-lawrence-college/Truck%20Delay%20Classification/sweeps/9mnowi7x</a>"
      ],
      "text/plain": [
       "<IPython.core.display.HTML object>"
      ]
     },
     "metadata": {},
     "output_type": "display_data"
    },
    {
     "data": {
      "text/html": [
       " View run at <a href='https://wandb.ai/ahujavaibhav2001-st-lawrence-college/Truck%20Delay%20Classification/runs/p7fuja46' target=\"_blank\">https://wandb.ai/ahujavaibhav2001-st-lawrence-college/Truck%20Delay%20Classification/runs/p7fuja46</a>"
      ],
      "text/plain": [
       "<IPython.core.display.HTML object>"
      ]
     },
     "metadata": {},
     "output_type": "display_data"
    },
    {
     "name": "stdout",
     "output_type": "stream",
     "text": [
      "F1_score Train: 0.6915\n",
      "F1_score Valid: 0.6521\n",
      "F1_score Test: 0.7567\n"
     ]
    },
    {
     "name": "stderr",
     "output_type": "stream",
     "text": [
      "wandb: \n",
      "wandb: Plotting RandomForestClassifier.\n",
      "UserWarning: X does not have valid feature names, but RandomForestClassifier was fitted with feature names\n",
      "wandb: Logged feature importances.\n",
      "wandb: Logged confusion matrix.\n",
      "UserWarning: X does not have valid feature names, but RandomForestClassifier was fitted with feature names\n",
      "wandb: Logged summary metrics.\n",
      "wandb: Logged class proportions.\n",
      "UserWarning: X does not have valid feature names, but RandomForestClassifier was fitted with feature names\n",
      "ConvergenceWarning: lbfgs failed to converge (status=1):\n",
      "STOP: TOTAL NO. of ITERATIONS REACHED LIMIT.\n",
      "\n",
      "Increase the number of iterations (max_iter) or scale the data as shown in:\n",
      "    https://scikit-learn.org/stable/modules/preprocessing.html\n",
      "Please also refer to the documentation for alternative solver options:\n",
      "    https://scikit-learn.org/stable/modules/linear_model.html#logistic-regression\n",
      "wandb: Logged calibration curve.\n",
      "wandb: Logged roc curve.\n",
      "wandb: Logged precision-recall curve.\n"
     ]
    },
    {
     "data": {
      "text/html": [],
      "text/plain": [
       "<IPython.core.display.HTML object>"
      ]
     },
     "metadata": {},
     "output_type": "display_data"
    },
    {
     "data": {
      "text/html": [
       "<br>    <style><br>        .wandb-row {<br>            display: flex;<br>            flex-direction: row;<br>            flex-wrap: wrap;<br>            justify-content: flex-start;<br>            width: 100%;<br>        }<br>        .wandb-col {<br>            display: flex;<br>            flex-direction: column;<br>            flex-basis: 100%;<br>            flex: 1;<br>            padding: 10px;<br>        }<br>    </style><br><div class=\"wandb-row\"><div class=\"wandb-col\"><h3>Run history:</h3><br/><table class=\"wandb\"><tr><td>f1_score</td><td>▁</td></tr><tr><td>f1_score_train</td><td>▁</td></tr><tr><td>f1_score_valid</td><td>▁</td></tr></table><br/></div><div class=\"wandb-col\"><h3>Run summary:</h3><br/><table class=\"wandb\"><tr><td>f1_score</td><td>0.75672</td></tr><tr><td>f1_score_train</td><td>0.69147</td></tr><tr><td>f1_score_valid</td><td>0.65207</td></tr></table><br/></div></div>"
      ],
      "text/plain": [
       "<IPython.core.display.HTML object>"
      ]
     },
     "metadata": {},
     "output_type": "display_data"
    },
    {
     "data": {
      "text/html": [
       " View run <strong style=\"color:#cdcd00\">swift-sweep-40</strong> at: <a href='https://wandb.ai/ahujavaibhav2001-st-lawrence-college/Truck%20Delay%20Classification/runs/p7fuja46' target=\"_blank\">https://wandb.ai/ahujavaibhav2001-st-lawrence-college/Truck%20Delay%20Classification/runs/p7fuja46</a><br> View project at: <a href='https://wandb.ai/ahujavaibhav2001-st-lawrence-college/Truck%20Delay%20Classification' target=\"_blank\">https://wandb.ai/ahujavaibhav2001-st-lawrence-college/Truck%20Delay%20Classification</a><br>Synced 5 W&B file(s), 0 media file(s), 16 artifact file(s) and 7 other file(s)"
      ],
      "text/plain": [
       "<IPython.core.display.HTML object>"
      ]
     },
     "metadata": {},
     "output_type": "display_data"
    },
    {
     "data": {
      "text/html": [
       "Find logs at: <code>.\\wandb\\run-20241229_172641-p7fuja46\\logs</code>"
      ],
      "text/plain": [
       "<IPython.core.display.HTML object>"
      ]
     },
     "metadata": {},
     "output_type": "display_data"
    },
    {
     "name": "stderr",
     "output_type": "stream",
     "text": [
      "wandb: Agent Starting Run: lph9bi7v with config:\n",
      "wandb: \tmax_depth: 10\n",
      "wandb: \tmin_samples_split: 8\n",
      "wandb: \tn_estimators: 8\n",
      "wandb: WARNING Ignoring project 'Truck Delay Classification' when running a sweep.\n"
     ]
    },
    {
     "data": {
      "text/html": [
       "Tracking run with wandb version 0.19.1"
      ],
      "text/plain": [
       "<IPython.core.display.HTML object>"
      ]
     },
     "metadata": {},
     "output_type": "display_data"
    },
    {
     "data": {
      "text/html": [
       "Run data is saved locally in <code>C:\\Users\\ahuja\\wandb\\run-20241229_172652-lph9bi7v</code>"
      ],
      "text/plain": [
       "<IPython.core.display.HTML object>"
      ]
     },
     "metadata": {},
     "output_type": "display_data"
    },
    {
     "data": {
      "text/html": [
       "Syncing run <strong><a href='https://wandb.ai/ahujavaibhav2001-st-lawrence-college/Truck%20Delay%20Classification/runs/lph9bi7v' target=\"_blank\">worthy-sweep-41</a></strong> to <a href='https://wandb.ai/ahujavaibhav2001-st-lawrence-college/Truck%20Delay%20Classification' target=\"_blank\">Weights & Biases</a> (<a href='https://wandb.me/developer-guide' target=\"_blank\">docs</a>)<br>Sweep page: <a href='https://wandb.ai/ahujavaibhav2001-st-lawrence-college/Truck%20Delay%20Classification/sweeps/9mnowi7x' target=\"_blank\">https://wandb.ai/ahujavaibhav2001-st-lawrence-college/Truck%20Delay%20Classification/sweeps/9mnowi7x</a>"
      ],
      "text/plain": [
       "<IPython.core.display.HTML object>"
      ]
     },
     "metadata": {},
     "output_type": "display_data"
    },
    {
     "data": {
      "text/html": [
       " View project at <a href='https://wandb.ai/ahujavaibhav2001-st-lawrence-college/Truck%20Delay%20Classification' target=\"_blank\">https://wandb.ai/ahujavaibhav2001-st-lawrence-college/Truck%20Delay%20Classification</a>"
      ],
      "text/plain": [
       "<IPython.core.display.HTML object>"
      ]
     },
     "metadata": {},
     "output_type": "display_data"
    },
    {
     "data": {
      "text/html": [
       " View sweep at <a href='https://wandb.ai/ahujavaibhav2001-st-lawrence-college/Truck%20Delay%20Classification/sweeps/9mnowi7x' target=\"_blank\">https://wandb.ai/ahujavaibhav2001-st-lawrence-college/Truck%20Delay%20Classification/sweeps/9mnowi7x</a>"
      ],
      "text/plain": [
       "<IPython.core.display.HTML object>"
      ]
     },
     "metadata": {},
     "output_type": "display_data"
    },
    {
     "data": {
      "text/html": [
       " View run at <a href='https://wandb.ai/ahujavaibhav2001-st-lawrence-college/Truck%20Delay%20Classification/runs/lph9bi7v' target=\"_blank\">https://wandb.ai/ahujavaibhav2001-st-lawrence-college/Truck%20Delay%20Classification/runs/lph9bi7v</a>"
      ],
      "text/plain": [
       "<IPython.core.display.HTML object>"
      ]
     },
     "metadata": {},
     "output_type": "display_data"
    },
    {
     "name": "stdout",
     "output_type": "stream",
     "text": [
      "F1_score Train: 0.6842\n",
      "F1_score Valid: 0.6154\n",
      "F1_score Test: 0.7296\n"
     ]
    },
    {
     "name": "stderr",
     "output_type": "stream",
     "text": [
      "wandb: \n",
      "wandb: Plotting RandomForestClassifier.\n",
      "UserWarning: X does not have valid feature names, but RandomForestClassifier was fitted with feature names\n",
      "wandb: Logged feature importances.\n",
      "wandb: Logged confusion matrix.\n",
      "UserWarning: X does not have valid feature names, but RandomForestClassifier was fitted with feature names\n",
      "wandb: Logged summary metrics.\n",
      "wandb: Logged class proportions.\n",
      "UserWarning: X does not have valid feature names, but RandomForestClassifier was fitted with feature names\n",
      "ConvergenceWarning: lbfgs failed to converge (status=1):\n",
      "STOP: TOTAL NO. of ITERATIONS REACHED LIMIT.\n",
      "\n",
      "Increase the number of iterations (max_iter) or scale the data as shown in:\n",
      "    https://scikit-learn.org/stable/modules/preprocessing.html\n",
      "Please also refer to the documentation for alternative solver options:\n",
      "    https://scikit-learn.org/stable/modules/linear_model.html#logistic-regression\n",
      "wandb: Logged calibration curve.\n",
      "wandb: Logged roc curve.\n",
      "wandb: Logged precision-recall curve.\n"
     ]
    },
    {
     "data": {
      "text/html": [],
      "text/plain": [
       "<IPython.core.display.HTML object>"
      ]
     },
     "metadata": {},
     "output_type": "display_data"
    },
    {
     "data": {
      "text/html": [
       "<br>    <style><br>        .wandb-row {<br>            display: flex;<br>            flex-direction: row;<br>            flex-wrap: wrap;<br>            justify-content: flex-start;<br>            width: 100%;<br>        }<br>        .wandb-col {<br>            display: flex;<br>            flex-direction: column;<br>            flex-basis: 100%;<br>            flex: 1;<br>            padding: 10px;<br>        }<br>    </style><br><div class=\"wandb-row\"><div class=\"wandb-col\"><h3>Run history:</h3><br/><table class=\"wandb\"><tr><td>f1_score</td><td>▁</td></tr><tr><td>f1_score_train</td><td>▁</td></tr><tr><td>f1_score_valid</td><td>▁</td></tr></table><br/></div><div class=\"wandb-col\"><h3>Run summary:</h3><br/><table class=\"wandb\"><tr><td>f1_score</td><td>0.72962</td></tr><tr><td>f1_score_train</td><td>0.68417</td></tr><tr><td>f1_score_valid</td><td>0.61538</td></tr></table><br/></div></div>"
      ],
      "text/plain": [
       "<IPython.core.display.HTML object>"
      ]
     },
     "metadata": {},
     "output_type": "display_data"
    },
    {
     "data": {
      "text/html": [
       " View run <strong style=\"color:#cdcd00\">worthy-sweep-41</strong> at: <a href='https://wandb.ai/ahujavaibhav2001-st-lawrence-college/Truck%20Delay%20Classification/runs/lph9bi7v' target=\"_blank\">https://wandb.ai/ahujavaibhav2001-st-lawrence-college/Truck%20Delay%20Classification/runs/lph9bi7v</a><br> View project at: <a href='https://wandb.ai/ahujavaibhav2001-st-lawrence-college/Truck%20Delay%20Classification' target=\"_blank\">https://wandb.ai/ahujavaibhav2001-st-lawrence-college/Truck%20Delay%20Classification</a><br>Synced 5 W&B file(s), 0 media file(s), 16 artifact file(s) and 7 other file(s)"
      ],
      "text/plain": [
       "<IPython.core.display.HTML object>"
      ]
     },
     "metadata": {},
     "output_type": "display_data"
    },
    {
     "data": {
      "text/html": [
       "Find logs at: <code>.\\wandb\\run-20241229_172652-lph9bi7v\\logs</code>"
      ],
      "text/plain": [
       "<IPython.core.display.HTML object>"
      ]
     },
     "metadata": {},
     "output_type": "display_data"
    },
    {
     "name": "stderr",
     "output_type": "stream",
     "text": [
      "wandb: Agent Starting Run: 3smedy6x with config:\n",
      "wandb: \tmax_depth: 10\n",
      "wandb: \tmin_samples_split: 8\n",
      "wandb: \tn_estimators: 12\n",
      "wandb: WARNING Ignoring project 'Truck Delay Classification' when running a sweep.\n"
     ]
    },
    {
     "data": {
      "text/html": [
       "Tracking run with wandb version 0.19.1"
      ],
      "text/plain": [
       "<IPython.core.display.HTML object>"
      ]
     },
     "metadata": {},
     "output_type": "display_data"
    },
    {
     "data": {
      "text/html": [
       "Run data is saved locally in <code>C:\\Users\\ahuja\\wandb\\run-20241229_172702-3smedy6x</code>"
      ],
      "text/plain": [
       "<IPython.core.display.HTML object>"
      ]
     },
     "metadata": {},
     "output_type": "display_data"
    },
    {
     "data": {
      "text/html": [
       "Syncing run <strong><a href='https://wandb.ai/ahujavaibhav2001-st-lawrence-college/Truck%20Delay%20Classification/runs/3smedy6x' target=\"_blank\">blooming-sweep-42</a></strong> to <a href='https://wandb.ai/ahujavaibhav2001-st-lawrence-college/Truck%20Delay%20Classification' target=\"_blank\">Weights & Biases</a> (<a href='https://wandb.me/developer-guide' target=\"_blank\">docs</a>)<br>Sweep page: <a href='https://wandb.ai/ahujavaibhav2001-st-lawrence-college/Truck%20Delay%20Classification/sweeps/9mnowi7x' target=\"_blank\">https://wandb.ai/ahujavaibhav2001-st-lawrence-college/Truck%20Delay%20Classification/sweeps/9mnowi7x</a>"
      ],
      "text/plain": [
       "<IPython.core.display.HTML object>"
      ]
     },
     "metadata": {},
     "output_type": "display_data"
    },
    {
     "data": {
      "text/html": [
       " View project at <a href='https://wandb.ai/ahujavaibhav2001-st-lawrence-college/Truck%20Delay%20Classification' target=\"_blank\">https://wandb.ai/ahujavaibhav2001-st-lawrence-college/Truck%20Delay%20Classification</a>"
      ],
      "text/plain": [
       "<IPython.core.display.HTML object>"
      ]
     },
     "metadata": {},
     "output_type": "display_data"
    },
    {
     "data": {
      "text/html": [
       " View sweep at <a href='https://wandb.ai/ahujavaibhav2001-st-lawrence-college/Truck%20Delay%20Classification/sweeps/9mnowi7x' target=\"_blank\">https://wandb.ai/ahujavaibhav2001-st-lawrence-college/Truck%20Delay%20Classification/sweeps/9mnowi7x</a>"
      ],
      "text/plain": [
       "<IPython.core.display.HTML object>"
      ]
     },
     "metadata": {},
     "output_type": "display_data"
    },
    {
     "data": {
      "text/html": [
       " View run at <a href='https://wandb.ai/ahujavaibhav2001-st-lawrence-college/Truck%20Delay%20Classification/runs/3smedy6x' target=\"_blank\">https://wandb.ai/ahujavaibhav2001-st-lawrence-college/Truck%20Delay%20Classification/runs/3smedy6x</a>"
      ],
      "text/plain": [
       "<IPython.core.display.HTML object>"
      ]
     },
     "metadata": {},
     "output_type": "display_data"
    },
    {
     "name": "stdout",
     "output_type": "stream",
     "text": [
      "F1_score Train: 0.6858\n",
      "F1_score Valid: 0.6393\n",
      "F1_score Test: 0.7294\n"
     ]
    },
    {
     "name": "stderr",
     "output_type": "stream",
     "text": [
      "wandb: \n",
      "wandb: Plotting RandomForestClassifier.\n",
      "UserWarning: X does not have valid feature names, but RandomForestClassifier was fitted with feature names\n",
      "wandb: Logged feature importances.\n",
      "wandb: Logged confusion matrix.\n",
      "UserWarning: X does not have valid feature names, but RandomForestClassifier was fitted with feature names\n",
      "wandb: Logged summary metrics.\n",
      "wandb: Logged class proportions.\n",
      "UserWarning: X does not have valid feature names, but RandomForestClassifier was fitted with feature names\n",
      "ConvergenceWarning: lbfgs failed to converge (status=1):\n",
      "STOP: TOTAL NO. of ITERATIONS REACHED LIMIT.\n",
      "\n",
      "Increase the number of iterations (max_iter) or scale the data as shown in:\n",
      "    https://scikit-learn.org/stable/modules/preprocessing.html\n",
      "Please also refer to the documentation for alternative solver options:\n",
      "    https://scikit-learn.org/stable/modules/linear_model.html#logistic-regression\n",
      "wandb: Logged calibration curve.\n",
      "wandb: Logged roc curve.\n",
      "wandb: Logged precision-recall curve.\n"
     ]
    },
    {
     "data": {
      "text/html": [],
      "text/plain": [
       "<IPython.core.display.HTML object>"
      ]
     },
     "metadata": {},
     "output_type": "display_data"
    },
    {
     "data": {
      "text/html": [
       "<br>    <style><br>        .wandb-row {<br>            display: flex;<br>            flex-direction: row;<br>            flex-wrap: wrap;<br>            justify-content: flex-start;<br>            width: 100%;<br>        }<br>        .wandb-col {<br>            display: flex;<br>            flex-direction: column;<br>            flex-basis: 100%;<br>            flex: 1;<br>            padding: 10px;<br>        }<br>    </style><br><div class=\"wandb-row\"><div class=\"wandb-col\"><h3>Run history:</h3><br/><table class=\"wandb\"><tr><td>f1_score</td><td>▁</td></tr><tr><td>f1_score_train</td><td>▁</td></tr><tr><td>f1_score_valid</td><td>▁</td></tr></table><br/></div><div class=\"wandb-col\"><h3>Run summary:</h3><br/><table class=\"wandb\"><tr><td>f1_score</td><td>0.72936</td></tr><tr><td>f1_score_train</td><td>0.68579</td></tr><tr><td>f1_score_valid</td><td>0.63934</td></tr></table><br/></div></div>"
      ],
      "text/plain": [
       "<IPython.core.display.HTML object>"
      ]
     },
     "metadata": {},
     "output_type": "display_data"
    },
    {
     "data": {
      "text/html": [
       " View run <strong style=\"color:#cdcd00\">blooming-sweep-42</strong> at: <a href='https://wandb.ai/ahujavaibhav2001-st-lawrence-college/Truck%20Delay%20Classification/runs/3smedy6x' target=\"_blank\">https://wandb.ai/ahujavaibhav2001-st-lawrence-college/Truck%20Delay%20Classification/runs/3smedy6x</a><br> View project at: <a href='https://wandb.ai/ahujavaibhav2001-st-lawrence-college/Truck%20Delay%20Classification' target=\"_blank\">https://wandb.ai/ahujavaibhav2001-st-lawrence-college/Truck%20Delay%20Classification</a><br>Synced 5 W&B file(s), 0 media file(s), 16 artifact file(s) and 7 other file(s)"
      ],
      "text/plain": [
       "<IPython.core.display.HTML object>"
      ]
     },
     "metadata": {},
     "output_type": "display_data"
    },
    {
     "data": {
      "text/html": [
       "Find logs at: <code>.\\wandb\\run-20241229_172702-3smedy6x\\logs</code>"
      ],
      "text/plain": [
       "<IPython.core.display.HTML object>"
      ]
     },
     "metadata": {},
     "output_type": "display_data"
    },
    {
     "name": "stderr",
     "output_type": "stream",
     "text": [
      "wandb: Agent Starting Run: aiczqoyk with config:\n",
      "wandb: \tmax_depth: 10\n",
      "wandb: \tmin_samples_split: 8\n",
      "wandb: \tn_estimators: 16\n",
      "wandb: WARNING Ignoring project 'Truck Delay Classification' when running a sweep.\n"
     ]
    },
    {
     "data": {
      "text/html": [
       "Tracking run with wandb version 0.19.1"
      ],
      "text/plain": [
       "<IPython.core.display.HTML object>"
      ]
     },
     "metadata": {},
     "output_type": "display_data"
    },
    {
     "data": {
      "text/html": [
       "Run data is saved locally in <code>C:\\Users\\ahuja\\wandb\\run-20241229_172713-aiczqoyk</code>"
      ],
      "text/plain": [
       "<IPython.core.display.HTML object>"
      ]
     },
     "metadata": {},
     "output_type": "display_data"
    },
    {
     "data": {
      "text/html": [
       "Syncing run <strong><a href='https://wandb.ai/ahujavaibhav2001-st-lawrence-college/Truck%20Delay%20Classification/runs/aiczqoyk' target=\"_blank\">magic-sweep-43</a></strong> to <a href='https://wandb.ai/ahujavaibhav2001-st-lawrence-college/Truck%20Delay%20Classification' target=\"_blank\">Weights & Biases</a> (<a href='https://wandb.me/developer-guide' target=\"_blank\">docs</a>)<br>Sweep page: <a href='https://wandb.ai/ahujavaibhav2001-st-lawrence-college/Truck%20Delay%20Classification/sweeps/9mnowi7x' target=\"_blank\">https://wandb.ai/ahujavaibhav2001-st-lawrence-college/Truck%20Delay%20Classification/sweeps/9mnowi7x</a>"
      ],
      "text/plain": [
       "<IPython.core.display.HTML object>"
      ]
     },
     "metadata": {},
     "output_type": "display_data"
    },
    {
     "data": {
      "text/html": [
       " View project at <a href='https://wandb.ai/ahujavaibhav2001-st-lawrence-college/Truck%20Delay%20Classification' target=\"_blank\">https://wandb.ai/ahujavaibhav2001-st-lawrence-college/Truck%20Delay%20Classification</a>"
      ],
      "text/plain": [
       "<IPython.core.display.HTML object>"
      ]
     },
     "metadata": {},
     "output_type": "display_data"
    },
    {
     "data": {
      "text/html": [
       " View sweep at <a href='https://wandb.ai/ahujavaibhav2001-st-lawrence-college/Truck%20Delay%20Classification/sweeps/9mnowi7x' target=\"_blank\">https://wandb.ai/ahujavaibhav2001-st-lawrence-college/Truck%20Delay%20Classification/sweeps/9mnowi7x</a>"
      ],
      "text/plain": [
       "<IPython.core.display.HTML object>"
      ]
     },
     "metadata": {},
     "output_type": "display_data"
    },
    {
     "data": {
      "text/html": [
       " View run at <a href='https://wandb.ai/ahujavaibhav2001-st-lawrence-college/Truck%20Delay%20Classification/runs/aiczqoyk' target=\"_blank\">https://wandb.ai/ahujavaibhav2001-st-lawrence-college/Truck%20Delay%20Classification/runs/aiczqoyk</a>"
      ],
      "text/plain": [
       "<IPython.core.display.HTML object>"
      ]
     },
     "metadata": {},
     "output_type": "display_data"
    },
    {
     "name": "stdout",
     "output_type": "stream",
     "text": [
      "F1_score Train: 0.6938\n",
      "F1_score Valid: 0.6569\n",
      "F1_score Test: 0.7561\n"
     ]
    },
    {
     "name": "stderr",
     "output_type": "stream",
     "text": [
      "wandb: \n",
      "wandb: Plotting RandomForestClassifier.\n",
      "UserWarning: X does not have valid feature names, but RandomForestClassifier was fitted with feature names\n",
      "wandb: Logged feature importances.\n",
      "wandb: Logged confusion matrix.\n",
      "UserWarning: X does not have valid feature names, but RandomForestClassifier was fitted with feature names\n",
      "wandb: Logged summary metrics.\n",
      "wandb: Logged class proportions.\n",
      "UserWarning: X does not have valid feature names, but RandomForestClassifier was fitted with feature names\n",
      "ConvergenceWarning: lbfgs failed to converge (status=1):\n",
      "STOP: TOTAL NO. of ITERATIONS REACHED LIMIT.\n",
      "\n",
      "Increase the number of iterations (max_iter) or scale the data as shown in:\n",
      "    https://scikit-learn.org/stable/modules/preprocessing.html\n",
      "Please also refer to the documentation for alternative solver options:\n",
      "    https://scikit-learn.org/stable/modules/linear_model.html#logistic-regression\n",
      "wandb: Logged calibration curve.\n",
      "wandb: Logged roc curve.\n",
      "wandb: Logged precision-recall curve.\n"
     ]
    },
    {
     "data": {
      "text/html": [],
      "text/plain": [
       "<IPython.core.display.HTML object>"
      ]
     },
     "metadata": {},
     "output_type": "display_data"
    },
    {
     "data": {
      "text/html": [
       "<br>    <style><br>        .wandb-row {<br>            display: flex;<br>            flex-direction: row;<br>            flex-wrap: wrap;<br>            justify-content: flex-start;<br>            width: 100%;<br>        }<br>        .wandb-col {<br>            display: flex;<br>            flex-direction: column;<br>            flex-basis: 100%;<br>            flex: 1;<br>            padding: 10px;<br>        }<br>    </style><br><div class=\"wandb-row\"><div class=\"wandb-col\"><h3>Run history:</h3><br/><table class=\"wandb\"><tr><td>f1_score</td><td>▁</td></tr><tr><td>f1_score_train</td><td>▁</td></tr><tr><td>f1_score_valid</td><td>▁</td></tr></table><br/></div><div class=\"wandb-col\"><h3>Run summary:</h3><br/><table class=\"wandb\"><tr><td>f1_score</td><td>0.75615</td></tr><tr><td>f1_score_train</td><td>0.69384</td></tr><tr><td>f1_score_valid</td><td>0.65694</td></tr></table><br/></div></div>"
      ],
      "text/plain": [
       "<IPython.core.display.HTML object>"
      ]
     },
     "metadata": {},
     "output_type": "display_data"
    },
    {
     "data": {
      "text/html": [
       " View run <strong style=\"color:#cdcd00\">magic-sweep-43</strong> at: <a href='https://wandb.ai/ahujavaibhav2001-st-lawrence-college/Truck%20Delay%20Classification/runs/aiczqoyk' target=\"_blank\">https://wandb.ai/ahujavaibhav2001-st-lawrence-college/Truck%20Delay%20Classification/runs/aiczqoyk</a><br> View project at: <a href='https://wandb.ai/ahujavaibhav2001-st-lawrence-college/Truck%20Delay%20Classification' target=\"_blank\">https://wandb.ai/ahujavaibhav2001-st-lawrence-college/Truck%20Delay%20Classification</a><br>Synced 5 W&B file(s), 0 media file(s), 16 artifact file(s) and 7 other file(s)"
      ],
      "text/plain": [
       "<IPython.core.display.HTML object>"
      ]
     },
     "metadata": {},
     "output_type": "display_data"
    },
    {
     "data": {
      "text/html": [
       "Find logs at: <code>.\\wandb\\run-20241229_172713-aiczqoyk\\logs</code>"
      ],
      "text/plain": [
       "<IPython.core.display.HTML object>"
      ]
     },
     "metadata": {},
     "output_type": "display_data"
    },
    {
     "name": "stderr",
     "output_type": "stream",
     "text": [
      "wandb: Agent Starting Run: 3k3xfd7w with config:\n",
      "wandb: \tmax_depth: 10\n",
      "wandb: \tmin_samples_split: 8\n",
      "wandb: \tn_estimators: 20\n",
      "wandb: WARNING Ignoring project 'Truck Delay Classification' when running a sweep.\n"
     ]
    },
    {
     "data": {
      "text/html": [
       "Tracking run with wandb version 0.19.1"
      ],
      "text/plain": [
       "<IPython.core.display.HTML object>"
      ]
     },
     "metadata": {},
     "output_type": "display_data"
    },
    {
     "data": {
      "text/html": [
       "Run data is saved locally in <code>C:\\Users\\ahuja\\wandb\\run-20241229_172723-3k3xfd7w</code>"
      ],
      "text/plain": [
       "<IPython.core.display.HTML object>"
      ]
     },
     "metadata": {},
     "output_type": "display_data"
    },
    {
     "data": {
      "text/html": [
       "Syncing run <strong><a href='https://wandb.ai/ahujavaibhav2001-st-lawrence-college/Truck%20Delay%20Classification/runs/3k3xfd7w' target=\"_blank\">floral-sweep-44</a></strong> to <a href='https://wandb.ai/ahujavaibhav2001-st-lawrence-college/Truck%20Delay%20Classification' target=\"_blank\">Weights & Biases</a> (<a href='https://wandb.me/developer-guide' target=\"_blank\">docs</a>)<br>Sweep page: <a href='https://wandb.ai/ahujavaibhav2001-st-lawrence-college/Truck%20Delay%20Classification/sweeps/9mnowi7x' target=\"_blank\">https://wandb.ai/ahujavaibhav2001-st-lawrence-college/Truck%20Delay%20Classification/sweeps/9mnowi7x</a>"
      ],
      "text/plain": [
       "<IPython.core.display.HTML object>"
      ]
     },
     "metadata": {},
     "output_type": "display_data"
    },
    {
     "data": {
      "text/html": [
       " View project at <a href='https://wandb.ai/ahujavaibhav2001-st-lawrence-college/Truck%20Delay%20Classification' target=\"_blank\">https://wandb.ai/ahujavaibhav2001-st-lawrence-college/Truck%20Delay%20Classification</a>"
      ],
      "text/plain": [
       "<IPython.core.display.HTML object>"
      ]
     },
     "metadata": {},
     "output_type": "display_data"
    },
    {
     "data": {
      "text/html": [
       " View sweep at <a href='https://wandb.ai/ahujavaibhav2001-st-lawrence-college/Truck%20Delay%20Classification/sweeps/9mnowi7x' target=\"_blank\">https://wandb.ai/ahujavaibhav2001-st-lawrence-college/Truck%20Delay%20Classification/sweeps/9mnowi7x</a>"
      ],
      "text/plain": [
       "<IPython.core.display.HTML object>"
      ]
     },
     "metadata": {},
     "output_type": "display_data"
    },
    {
     "data": {
      "text/html": [
       " View run at <a href='https://wandb.ai/ahujavaibhav2001-st-lawrence-college/Truck%20Delay%20Classification/runs/3k3xfd7w' target=\"_blank\">https://wandb.ai/ahujavaibhav2001-st-lawrence-college/Truck%20Delay%20Classification/runs/3k3xfd7w</a>"
      ],
      "text/plain": [
       "<IPython.core.display.HTML object>"
      ]
     },
     "metadata": {},
     "output_type": "display_data"
    },
    {
     "name": "stdout",
     "output_type": "stream",
     "text": [
      "F1_score Train: 0.6858\n",
      "F1_score Valid: 0.6496\n",
      "F1_score Test: 0.7588\n"
     ]
    },
    {
     "name": "stderr",
     "output_type": "stream",
     "text": [
      "wandb: \n",
      "wandb: Plotting RandomForestClassifier.\n",
      "UserWarning: X does not have valid feature names, but RandomForestClassifier was fitted with feature names\n",
      "wandb: Logged feature importances.\n",
      "wandb: Logged confusion matrix.\n",
      "UserWarning: X does not have valid feature names, but RandomForestClassifier was fitted with feature names\n",
      "wandb: Logged summary metrics.\n",
      "wandb: Logged class proportions.\n",
      "UserWarning: X does not have valid feature names, but RandomForestClassifier was fitted with feature names\n",
      "ConvergenceWarning: lbfgs failed to converge (status=1):\n",
      "STOP: TOTAL NO. of ITERATIONS REACHED LIMIT.\n",
      "\n",
      "Increase the number of iterations (max_iter) or scale the data as shown in:\n",
      "    https://scikit-learn.org/stable/modules/preprocessing.html\n",
      "Please also refer to the documentation for alternative solver options:\n",
      "    https://scikit-learn.org/stable/modules/linear_model.html#logistic-regression\n",
      "wandb: Logged calibration curve.\n",
      "wandb: Logged roc curve.\n",
      "wandb: Logged precision-recall curve.\n"
     ]
    },
    {
     "data": {
      "text/html": [],
      "text/plain": [
       "<IPython.core.display.HTML object>"
      ]
     },
     "metadata": {},
     "output_type": "display_data"
    },
    {
     "data": {
      "text/html": [
       "<br>    <style><br>        .wandb-row {<br>            display: flex;<br>            flex-direction: row;<br>            flex-wrap: wrap;<br>            justify-content: flex-start;<br>            width: 100%;<br>        }<br>        .wandb-col {<br>            display: flex;<br>            flex-direction: column;<br>            flex-basis: 100%;<br>            flex: 1;<br>            padding: 10px;<br>        }<br>    </style><br><div class=\"wandb-row\"><div class=\"wandb-col\"><h3>Run history:</h3><br/><table class=\"wandb\"><tr><td>f1_score</td><td>▁</td></tr><tr><td>f1_score_train</td><td>▁</td></tr><tr><td>f1_score_valid</td><td>▁</td></tr></table><br/></div><div class=\"wandb-col\"><h3>Run summary:</h3><br/><table class=\"wandb\"><tr><td>f1_score</td><td>0.75885</td></tr><tr><td>f1_score_train</td><td>0.68576</td></tr><tr><td>f1_score_valid</td><td>0.64963</td></tr></table><br/></div></div>"
      ],
      "text/plain": [
       "<IPython.core.display.HTML object>"
      ]
     },
     "metadata": {},
     "output_type": "display_data"
    },
    {
     "data": {
      "text/html": [
       " View run <strong style=\"color:#cdcd00\">floral-sweep-44</strong> at: <a href='https://wandb.ai/ahujavaibhav2001-st-lawrence-college/Truck%20Delay%20Classification/runs/3k3xfd7w' target=\"_blank\">https://wandb.ai/ahujavaibhav2001-st-lawrence-college/Truck%20Delay%20Classification/runs/3k3xfd7w</a><br> View project at: <a href='https://wandb.ai/ahujavaibhav2001-st-lawrence-college/Truck%20Delay%20Classification' target=\"_blank\">https://wandb.ai/ahujavaibhav2001-st-lawrence-college/Truck%20Delay%20Classification</a><br>Synced 5 W&B file(s), 0 media file(s), 16 artifact file(s) and 7 other file(s)"
      ],
      "text/plain": [
       "<IPython.core.display.HTML object>"
      ]
     },
     "metadata": {},
     "output_type": "display_data"
    },
    {
     "data": {
      "text/html": [
       "Find logs at: <code>.\\wandb\\run-20241229_172723-3k3xfd7w\\logs</code>"
      ],
      "text/plain": [
       "<IPython.core.display.HTML object>"
      ]
     },
     "metadata": {},
     "output_type": "display_data"
    },
    {
     "name": "stderr",
     "output_type": "stream",
     "text": [
      "wandb: Agent Starting Run: 1elx8vnv with config:\n",
      "wandb: \tmax_depth: 10\n",
      "wandb: \tmin_samples_split: 12\n",
      "wandb: \tn_estimators: 8\n",
      "wandb: WARNING Ignoring project 'Truck Delay Classification' when running a sweep.\n"
     ]
    },
    {
     "data": {
      "text/html": [
       "Tracking run with wandb version 0.19.1"
      ],
      "text/plain": [
       "<IPython.core.display.HTML object>"
      ]
     },
     "metadata": {},
     "output_type": "display_data"
    },
    {
     "data": {
      "text/html": [
       "Run data is saved locally in <code>C:\\Users\\ahuja\\wandb\\run-20241229_172733-1elx8vnv</code>"
      ],
      "text/plain": [
       "<IPython.core.display.HTML object>"
      ]
     },
     "metadata": {},
     "output_type": "display_data"
    },
    {
     "data": {
      "text/html": [
       "Syncing run <strong><a href='https://wandb.ai/ahujavaibhav2001-st-lawrence-college/Truck%20Delay%20Classification/runs/1elx8vnv' target=\"_blank\">trim-sweep-45</a></strong> to <a href='https://wandb.ai/ahujavaibhav2001-st-lawrence-college/Truck%20Delay%20Classification' target=\"_blank\">Weights & Biases</a> (<a href='https://wandb.me/developer-guide' target=\"_blank\">docs</a>)<br>Sweep page: <a href='https://wandb.ai/ahujavaibhav2001-st-lawrence-college/Truck%20Delay%20Classification/sweeps/9mnowi7x' target=\"_blank\">https://wandb.ai/ahujavaibhav2001-st-lawrence-college/Truck%20Delay%20Classification/sweeps/9mnowi7x</a>"
      ],
      "text/plain": [
       "<IPython.core.display.HTML object>"
      ]
     },
     "metadata": {},
     "output_type": "display_data"
    },
    {
     "data": {
      "text/html": [
       " View project at <a href='https://wandb.ai/ahujavaibhav2001-st-lawrence-college/Truck%20Delay%20Classification' target=\"_blank\">https://wandb.ai/ahujavaibhav2001-st-lawrence-college/Truck%20Delay%20Classification</a>"
      ],
      "text/plain": [
       "<IPython.core.display.HTML object>"
      ]
     },
     "metadata": {},
     "output_type": "display_data"
    },
    {
     "data": {
      "text/html": [
       " View sweep at <a href='https://wandb.ai/ahujavaibhav2001-st-lawrence-college/Truck%20Delay%20Classification/sweeps/9mnowi7x' target=\"_blank\">https://wandb.ai/ahujavaibhav2001-st-lawrence-college/Truck%20Delay%20Classification/sweeps/9mnowi7x</a>"
      ],
      "text/plain": [
       "<IPython.core.display.HTML object>"
      ]
     },
     "metadata": {},
     "output_type": "display_data"
    },
    {
     "data": {
      "text/html": [
       " View run at <a href='https://wandb.ai/ahujavaibhav2001-st-lawrence-college/Truck%20Delay%20Classification/runs/1elx8vnv' target=\"_blank\">https://wandb.ai/ahujavaibhav2001-st-lawrence-college/Truck%20Delay%20Classification/runs/1elx8vnv</a>"
      ],
      "text/plain": [
       "<IPython.core.display.HTML object>"
      ]
     },
     "metadata": {},
     "output_type": "display_data"
    },
    {
     "name": "stdout",
     "output_type": "stream",
     "text": [
      "F1_score Train: 0.6657\n",
      "F1_score Valid: 0.639\n",
      "F1_score Test: 0.7352\n"
     ]
    },
    {
     "name": "stderr",
     "output_type": "stream",
     "text": [
      "wandb: \n",
      "wandb: Plotting RandomForestClassifier.\n",
      "UserWarning: X does not have valid feature names, but RandomForestClassifier was fitted with feature names\n",
      "wandb: Logged feature importances.\n",
      "wandb: Logged confusion matrix.\n",
      "UserWarning: X does not have valid feature names, but RandomForestClassifier was fitted with feature names\n",
      "wandb: Logged summary metrics.\n",
      "wandb: Logged class proportions.\n",
      "UserWarning: X does not have valid feature names, but RandomForestClassifier was fitted with feature names\n",
      "ConvergenceWarning: lbfgs failed to converge (status=1):\n",
      "STOP: TOTAL NO. of ITERATIONS REACHED LIMIT.\n",
      "\n",
      "Increase the number of iterations (max_iter) or scale the data as shown in:\n",
      "    https://scikit-learn.org/stable/modules/preprocessing.html\n",
      "Please also refer to the documentation for alternative solver options:\n",
      "    https://scikit-learn.org/stable/modules/linear_model.html#logistic-regression\n",
      "wandb: Logged calibration curve.\n",
      "wandb: Logged roc curve.\n",
      "wandb: Logged precision-recall curve.\n"
     ]
    },
    {
     "data": {
      "text/html": [],
      "text/plain": [
       "<IPython.core.display.HTML object>"
      ]
     },
     "metadata": {},
     "output_type": "display_data"
    },
    {
     "data": {
      "text/html": [
       "<br>    <style><br>        .wandb-row {<br>            display: flex;<br>            flex-direction: row;<br>            flex-wrap: wrap;<br>            justify-content: flex-start;<br>            width: 100%;<br>        }<br>        .wandb-col {<br>            display: flex;<br>            flex-direction: column;<br>            flex-basis: 100%;<br>            flex: 1;<br>            padding: 10px;<br>        }<br>    </style><br><div class=\"wandb-row\"><div class=\"wandb-col\"><h3>Run history:</h3><br/><table class=\"wandb\"><tr><td>f1_score</td><td>▁</td></tr><tr><td>f1_score_train</td><td>▁</td></tr><tr><td>f1_score_valid</td><td>▁</td></tr></table><br/></div><div class=\"wandb-col\"><h3>Run summary:</h3><br/><table class=\"wandb\"><tr><td>f1_score</td><td>0.7352</td></tr><tr><td>f1_score_train</td><td>0.66565</td></tr><tr><td>f1_score_valid</td><td>0.63896</td></tr></table><br/></div></div>"
      ],
      "text/plain": [
       "<IPython.core.display.HTML object>"
      ]
     },
     "metadata": {},
     "output_type": "display_data"
    },
    {
     "data": {
      "text/html": [
       " View run <strong style=\"color:#cdcd00\">trim-sweep-45</strong> at: <a href='https://wandb.ai/ahujavaibhav2001-st-lawrence-college/Truck%20Delay%20Classification/runs/1elx8vnv' target=\"_blank\">https://wandb.ai/ahujavaibhav2001-st-lawrence-college/Truck%20Delay%20Classification/runs/1elx8vnv</a><br> View project at: <a href='https://wandb.ai/ahujavaibhav2001-st-lawrence-college/Truck%20Delay%20Classification' target=\"_blank\">https://wandb.ai/ahujavaibhav2001-st-lawrence-college/Truck%20Delay%20Classification</a><br>Synced 5 W&B file(s), 0 media file(s), 16 artifact file(s) and 7 other file(s)"
      ],
      "text/plain": [
       "<IPython.core.display.HTML object>"
      ]
     },
     "metadata": {},
     "output_type": "display_data"
    },
    {
     "data": {
      "text/html": [
       "Find logs at: <code>.\\wandb\\run-20241229_172733-1elx8vnv\\logs</code>"
      ],
      "text/plain": [
       "<IPython.core.display.HTML object>"
      ]
     },
     "metadata": {},
     "output_type": "display_data"
    },
    {
     "name": "stderr",
     "output_type": "stream",
     "text": [
      "wandb: Agent Starting Run: 2be8y9tu with config:\n",
      "wandb: \tmax_depth: 10\n",
      "wandb: \tmin_samples_split: 12\n",
      "wandb: \tn_estimators: 12\n",
      "wandb: WARNING Ignoring project 'Truck Delay Classification' when running a sweep.\n"
     ]
    },
    {
     "data": {
      "text/html": [
       "Tracking run with wandb version 0.19.1"
      ],
      "text/plain": [
       "<IPython.core.display.HTML object>"
      ]
     },
     "metadata": {},
     "output_type": "display_data"
    },
    {
     "data": {
      "text/html": [
       "Run data is saved locally in <code>C:\\Users\\ahuja\\wandb\\run-20241229_172744-2be8y9tu</code>"
      ],
      "text/plain": [
       "<IPython.core.display.HTML object>"
      ]
     },
     "metadata": {},
     "output_type": "display_data"
    },
    {
     "data": {
      "text/html": [
       "Syncing run <strong><a href='https://wandb.ai/ahujavaibhav2001-st-lawrence-college/Truck%20Delay%20Classification/runs/2be8y9tu' target=\"_blank\">spring-sweep-46</a></strong> to <a href='https://wandb.ai/ahujavaibhav2001-st-lawrence-college/Truck%20Delay%20Classification' target=\"_blank\">Weights & Biases</a> (<a href='https://wandb.me/developer-guide' target=\"_blank\">docs</a>)<br>Sweep page: <a href='https://wandb.ai/ahujavaibhav2001-st-lawrence-college/Truck%20Delay%20Classification/sweeps/9mnowi7x' target=\"_blank\">https://wandb.ai/ahujavaibhav2001-st-lawrence-college/Truck%20Delay%20Classification/sweeps/9mnowi7x</a>"
      ],
      "text/plain": [
       "<IPython.core.display.HTML object>"
      ]
     },
     "metadata": {},
     "output_type": "display_data"
    },
    {
     "data": {
      "text/html": [
       " View project at <a href='https://wandb.ai/ahujavaibhav2001-st-lawrence-college/Truck%20Delay%20Classification' target=\"_blank\">https://wandb.ai/ahujavaibhav2001-st-lawrence-college/Truck%20Delay%20Classification</a>"
      ],
      "text/plain": [
       "<IPython.core.display.HTML object>"
      ]
     },
     "metadata": {},
     "output_type": "display_data"
    },
    {
     "data": {
      "text/html": [
       " View sweep at <a href='https://wandb.ai/ahujavaibhav2001-st-lawrence-college/Truck%20Delay%20Classification/sweeps/9mnowi7x' target=\"_blank\">https://wandb.ai/ahujavaibhav2001-st-lawrence-college/Truck%20Delay%20Classification/sweeps/9mnowi7x</a>"
      ],
      "text/plain": [
       "<IPython.core.display.HTML object>"
      ]
     },
     "metadata": {},
     "output_type": "display_data"
    },
    {
     "data": {
      "text/html": [
       " View run at <a href='https://wandb.ai/ahujavaibhav2001-st-lawrence-college/Truck%20Delay%20Classification/runs/2be8y9tu' target=\"_blank\">https://wandb.ai/ahujavaibhav2001-st-lawrence-college/Truck%20Delay%20Classification/runs/2be8y9tu</a>"
      ],
      "text/plain": [
       "<IPython.core.display.HTML object>"
      ]
     },
     "metadata": {},
     "output_type": "display_data"
    },
    {
     "name": "stdout",
     "output_type": "stream",
     "text": [
      "F1_score Train: 0.6756\n",
      "F1_score Valid: 0.654\n",
      "F1_score Test: 0.7425\n"
     ]
    },
    {
     "name": "stderr",
     "output_type": "stream",
     "text": [
      "wandb: \n",
      "wandb: Plotting RandomForestClassifier.\n",
      "UserWarning: X does not have valid feature names, but RandomForestClassifier was fitted with feature names\n",
      "wandb: Logged feature importances.\n",
      "wandb: Logged confusion matrix.\n",
      "UserWarning: X does not have valid feature names, but RandomForestClassifier was fitted with feature names\n",
      "wandb: Logged summary metrics.\n",
      "wandb: Logged class proportions.\n",
      "UserWarning: X does not have valid feature names, but RandomForestClassifier was fitted with feature names\n",
      "ConvergenceWarning: lbfgs failed to converge (status=1):\n",
      "STOP: TOTAL NO. of ITERATIONS REACHED LIMIT.\n",
      "\n",
      "Increase the number of iterations (max_iter) or scale the data as shown in:\n",
      "    https://scikit-learn.org/stable/modules/preprocessing.html\n",
      "Please also refer to the documentation for alternative solver options:\n",
      "    https://scikit-learn.org/stable/modules/linear_model.html#logistic-regression\n",
      "wandb: Logged calibration curve.\n",
      "wandb: Logged roc curve.\n",
      "wandb: Logged precision-recall curve.\n"
     ]
    },
    {
     "data": {
      "text/html": [],
      "text/plain": [
       "<IPython.core.display.HTML object>"
      ]
     },
     "metadata": {},
     "output_type": "display_data"
    },
    {
     "data": {
      "text/html": [
       "<br>    <style><br>        .wandb-row {<br>            display: flex;<br>            flex-direction: row;<br>            flex-wrap: wrap;<br>            justify-content: flex-start;<br>            width: 100%;<br>        }<br>        .wandb-col {<br>            display: flex;<br>            flex-direction: column;<br>            flex-basis: 100%;<br>            flex: 1;<br>            padding: 10px;<br>        }<br>    </style><br><div class=\"wandb-row\"><div class=\"wandb-col\"><h3>Run history:</h3><br/><table class=\"wandb\"><tr><td>f1_score</td><td>▁</td></tr><tr><td>f1_score_train</td><td>▁</td></tr><tr><td>f1_score_valid</td><td>▁</td></tr></table><br/></div><div class=\"wandb-col\"><h3>Run summary:</h3><br/><table class=\"wandb\"><tr><td>f1_score</td><td>0.74252</td></tr><tr><td>f1_score_train</td><td>0.67557</td></tr><tr><td>f1_score_valid</td><td>0.65396</td></tr></table><br/></div></div>"
      ],
      "text/plain": [
       "<IPython.core.display.HTML object>"
      ]
     },
     "metadata": {},
     "output_type": "display_data"
    },
    {
     "data": {
      "text/html": [
       " View run <strong style=\"color:#cdcd00\">spring-sweep-46</strong> at: <a href='https://wandb.ai/ahujavaibhav2001-st-lawrence-college/Truck%20Delay%20Classification/runs/2be8y9tu' target=\"_blank\">https://wandb.ai/ahujavaibhav2001-st-lawrence-college/Truck%20Delay%20Classification/runs/2be8y9tu</a><br> View project at: <a href='https://wandb.ai/ahujavaibhav2001-st-lawrence-college/Truck%20Delay%20Classification' target=\"_blank\">https://wandb.ai/ahujavaibhav2001-st-lawrence-college/Truck%20Delay%20Classification</a><br>Synced 5 W&B file(s), 0 media file(s), 16 artifact file(s) and 7 other file(s)"
      ],
      "text/plain": [
       "<IPython.core.display.HTML object>"
      ]
     },
     "metadata": {},
     "output_type": "display_data"
    },
    {
     "data": {
      "text/html": [
       "Find logs at: <code>.\\wandb\\run-20241229_172744-2be8y9tu\\logs</code>"
      ],
      "text/plain": [
       "<IPython.core.display.HTML object>"
      ]
     },
     "metadata": {},
     "output_type": "display_data"
    },
    {
     "name": "stderr",
     "output_type": "stream",
     "text": [
      "wandb: Agent Starting Run: hptp8eiw with config:\n",
      "wandb: \tmax_depth: 10\n",
      "wandb: \tmin_samples_split: 12\n",
      "wandb: \tn_estimators: 16\n",
      "wandb: WARNING Ignoring project 'Truck Delay Classification' when running a sweep.\n"
     ]
    },
    {
     "data": {
      "text/html": [
       "Tracking run with wandb version 0.19.1"
      ],
      "text/plain": [
       "<IPython.core.display.HTML object>"
      ]
     },
     "metadata": {},
     "output_type": "display_data"
    },
    {
     "data": {
      "text/html": [
       "Run data is saved locally in <code>C:\\Users\\ahuja\\wandb\\run-20241229_172754-hptp8eiw</code>"
      ],
      "text/plain": [
       "<IPython.core.display.HTML object>"
      ]
     },
     "metadata": {},
     "output_type": "display_data"
    },
    {
     "data": {
      "text/html": [
       "Syncing run <strong><a href='https://wandb.ai/ahujavaibhav2001-st-lawrence-college/Truck%20Delay%20Classification/runs/hptp8eiw' target=\"_blank\">whole-sweep-47</a></strong> to <a href='https://wandb.ai/ahujavaibhav2001-st-lawrence-college/Truck%20Delay%20Classification' target=\"_blank\">Weights & Biases</a> (<a href='https://wandb.me/developer-guide' target=\"_blank\">docs</a>)<br>Sweep page: <a href='https://wandb.ai/ahujavaibhav2001-st-lawrence-college/Truck%20Delay%20Classification/sweeps/9mnowi7x' target=\"_blank\">https://wandb.ai/ahujavaibhav2001-st-lawrence-college/Truck%20Delay%20Classification/sweeps/9mnowi7x</a>"
      ],
      "text/plain": [
       "<IPython.core.display.HTML object>"
      ]
     },
     "metadata": {},
     "output_type": "display_data"
    },
    {
     "data": {
      "text/html": [
       " View project at <a href='https://wandb.ai/ahujavaibhav2001-st-lawrence-college/Truck%20Delay%20Classification' target=\"_blank\">https://wandb.ai/ahujavaibhav2001-st-lawrence-college/Truck%20Delay%20Classification</a>"
      ],
      "text/plain": [
       "<IPython.core.display.HTML object>"
      ]
     },
     "metadata": {},
     "output_type": "display_data"
    },
    {
     "data": {
      "text/html": [
       " View sweep at <a href='https://wandb.ai/ahujavaibhav2001-st-lawrence-college/Truck%20Delay%20Classification/sweeps/9mnowi7x' target=\"_blank\">https://wandb.ai/ahujavaibhav2001-st-lawrence-college/Truck%20Delay%20Classification/sweeps/9mnowi7x</a>"
      ],
      "text/plain": [
       "<IPython.core.display.HTML object>"
      ]
     },
     "metadata": {},
     "output_type": "display_data"
    },
    {
     "data": {
      "text/html": [
       " View run at <a href='https://wandb.ai/ahujavaibhav2001-st-lawrence-college/Truck%20Delay%20Classification/runs/hptp8eiw' target=\"_blank\">https://wandb.ai/ahujavaibhav2001-st-lawrence-college/Truck%20Delay%20Classification/runs/hptp8eiw</a>"
      ],
      "text/plain": [
       "<IPython.core.display.HTML object>"
      ]
     },
     "metadata": {},
     "output_type": "display_data"
    },
    {
     "name": "stdout",
     "output_type": "stream",
     "text": [
      "F1_score Train: 0.6749\n",
      "F1_score Valid: 0.6483\n",
      "F1_score Test: 0.7623\n"
     ]
    },
    {
     "name": "stderr",
     "output_type": "stream",
     "text": [
      "wandb: \n",
      "wandb: Plotting RandomForestClassifier.\n",
      "UserWarning: X does not have valid feature names, but RandomForestClassifier was fitted with feature names\n",
      "wandb: Logged feature importances.\n",
      "wandb: Logged confusion matrix.\n",
      "UserWarning: X does not have valid feature names, but RandomForestClassifier was fitted with feature names\n",
      "wandb: Logged summary metrics.\n",
      "wandb: Logged class proportions.\n",
      "UserWarning: X does not have valid feature names, but RandomForestClassifier was fitted with feature names\n",
      "ConvergenceWarning: lbfgs failed to converge (status=1):\n",
      "STOP: TOTAL NO. of ITERATIONS REACHED LIMIT.\n",
      "\n",
      "Increase the number of iterations (max_iter) or scale the data as shown in:\n",
      "    https://scikit-learn.org/stable/modules/preprocessing.html\n",
      "Please also refer to the documentation for alternative solver options:\n",
      "    https://scikit-learn.org/stable/modules/linear_model.html#logistic-regression\n",
      "wandb: Logged calibration curve.\n",
      "wandb: Logged roc curve.\n",
      "wandb: Logged precision-recall curve.\n"
     ]
    },
    {
     "data": {
      "text/html": [],
      "text/plain": [
       "<IPython.core.display.HTML object>"
      ]
     },
     "metadata": {},
     "output_type": "display_data"
    },
    {
     "data": {
      "text/html": [
       "<br>    <style><br>        .wandb-row {<br>            display: flex;<br>            flex-direction: row;<br>            flex-wrap: wrap;<br>            justify-content: flex-start;<br>            width: 100%;<br>        }<br>        .wandb-col {<br>            display: flex;<br>            flex-direction: column;<br>            flex-basis: 100%;<br>            flex: 1;<br>            padding: 10px;<br>        }<br>    </style><br><div class=\"wandb-row\"><div class=\"wandb-col\"><h3>Run history:</h3><br/><table class=\"wandb\"><tr><td>f1_score</td><td>▁</td></tr><tr><td>f1_score_train</td><td>▁</td></tr><tr><td>f1_score_valid</td><td>▁</td></tr></table><br/></div><div class=\"wandb-col\"><h3>Run summary:</h3><br/><table class=\"wandb\"><tr><td>f1_score</td><td>0.76234</td></tr><tr><td>f1_score_train</td><td>0.67488</td></tr><tr><td>f1_score_valid</td><td>0.64834</td></tr></table><br/></div></div>"
      ],
      "text/plain": [
       "<IPython.core.display.HTML object>"
      ]
     },
     "metadata": {},
     "output_type": "display_data"
    },
    {
     "data": {
      "text/html": [
       " View run <strong style=\"color:#cdcd00\">whole-sweep-47</strong> at: <a href='https://wandb.ai/ahujavaibhav2001-st-lawrence-college/Truck%20Delay%20Classification/runs/hptp8eiw' target=\"_blank\">https://wandb.ai/ahujavaibhav2001-st-lawrence-college/Truck%20Delay%20Classification/runs/hptp8eiw</a><br> View project at: <a href='https://wandb.ai/ahujavaibhav2001-st-lawrence-college/Truck%20Delay%20Classification' target=\"_blank\">https://wandb.ai/ahujavaibhav2001-st-lawrence-college/Truck%20Delay%20Classification</a><br>Synced 5 W&B file(s), 0 media file(s), 16 artifact file(s) and 7 other file(s)"
      ],
      "text/plain": [
       "<IPython.core.display.HTML object>"
      ]
     },
     "metadata": {},
     "output_type": "display_data"
    },
    {
     "data": {
      "text/html": [
       "Find logs at: <code>.\\wandb\\run-20241229_172754-hptp8eiw\\logs</code>"
      ],
      "text/plain": [
       "<IPython.core.display.HTML object>"
      ]
     },
     "metadata": {},
     "output_type": "display_data"
    },
    {
     "name": "stderr",
     "output_type": "stream",
     "text": [
      "wandb: Agent Starting Run: uqjisrx0 with config:\n",
      "wandb: \tmax_depth: 10\n",
      "wandb: \tmin_samples_split: 12\n",
      "wandb: \tn_estimators: 20\n",
      "wandb: WARNING Ignoring project 'Truck Delay Classification' when running a sweep.\n"
     ]
    },
    {
     "data": {
      "text/html": [
       "Tracking run with wandb version 0.19.1"
      ],
      "text/plain": [
       "<IPython.core.display.HTML object>"
      ]
     },
     "metadata": {},
     "output_type": "display_data"
    },
    {
     "data": {
      "text/html": [
       "Run data is saved locally in <code>C:\\Users\\ahuja\\wandb\\run-20241229_172804-uqjisrx0</code>"
      ],
      "text/plain": [
       "<IPython.core.display.HTML object>"
      ]
     },
     "metadata": {},
     "output_type": "display_data"
    },
    {
     "data": {
      "text/html": [
       "Syncing run <strong><a href='https://wandb.ai/ahujavaibhav2001-st-lawrence-college/Truck%20Delay%20Classification/runs/uqjisrx0' target=\"_blank\">dark-sweep-48</a></strong> to <a href='https://wandb.ai/ahujavaibhav2001-st-lawrence-college/Truck%20Delay%20Classification' target=\"_blank\">Weights & Biases</a> (<a href='https://wandb.me/developer-guide' target=\"_blank\">docs</a>)<br>Sweep page: <a href='https://wandb.ai/ahujavaibhav2001-st-lawrence-college/Truck%20Delay%20Classification/sweeps/9mnowi7x' target=\"_blank\">https://wandb.ai/ahujavaibhav2001-st-lawrence-college/Truck%20Delay%20Classification/sweeps/9mnowi7x</a>"
      ],
      "text/plain": [
       "<IPython.core.display.HTML object>"
      ]
     },
     "metadata": {},
     "output_type": "display_data"
    },
    {
     "data": {
      "text/html": [
       " View project at <a href='https://wandb.ai/ahujavaibhav2001-st-lawrence-college/Truck%20Delay%20Classification' target=\"_blank\">https://wandb.ai/ahujavaibhav2001-st-lawrence-college/Truck%20Delay%20Classification</a>"
      ],
      "text/plain": [
       "<IPython.core.display.HTML object>"
      ]
     },
     "metadata": {},
     "output_type": "display_data"
    },
    {
     "data": {
      "text/html": [
       " View sweep at <a href='https://wandb.ai/ahujavaibhav2001-st-lawrence-college/Truck%20Delay%20Classification/sweeps/9mnowi7x' target=\"_blank\">https://wandb.ai/ahujavaibhav2001-st-lawrence-college/Truck%20Delay%20Classification/sweeps/9mnowi7x</a>"
      ],
      "text/plain": [
       "<IPython.core.display.HTML object>"
      ]
     },
     "metadata": {},
     "output_type": "display_data"
    },
    {
     "data": {
      "text/html": [
       " View run at <a href='https://wandb.ai/ahujavaibhav2001-st-lawrence-college/Truck%20Delay%20Classification/runs/uqjisrx0' target=\"_blank\">https://wandb.ai/ahujavaibhav2001-st-lawrence-college/Truck%20Delay%20Classification/runs/uqjisrx0</a>"
      ],
      "text/plain": [
       "<IPython.core.display.HTML object>"
      ]
     },
     "metadata": {},
     "output_type": "display_data"
    },
    {
     "name": "stdout",
     "output_type": "stream",
     "text": [
      "F1_score Train: 0.6728\n",
      "F1_score Valid: 0.6506\n",
      "F1_score Test: 0.7622\n"
     ]
    },
    {
     "name": "stderr",
     "output_type": "stream",
     "text": [
      "wandb: \n",
      "wandb: Plotting RandomForestClassifier.\n",
      "UserWarning: X does not have valid feature names, but RandomForestClassifier was fitted with feature names\n",
      "wandb: Logged feature importances.\n",
      "wandb: Logged confusion matrix.\n",
      "UserWarning: X does not have valid feature names, but RandomForestClassifier was fitted with feature names\n",
      "wandb: Logged summary metrics.\n",
      "wandb: Logged class proportions.\n",
      "UserWarning: X does not have valid feature names, but RandomForestClassifier was fitted with feature names\n",
      "ConvergenceWarning: lbfgs failed to converge (status=1):\n",
      "STOP: TOTAL NO. of ITERATIONS REACHED LIMIT.\n",
      "\n",
      "Increase the number of iterations (max_iter) or scale the data as shown in:\n",
      "    https://scikit-learn.org/stable/modules/preprocessing.html\n",
      "Please also refer to the documentation for alternative solver options:\n",
      "    https://scikit-learn.org/stable/modules/linear_model.html#logistic-regression\n",
      "wandb: Logged calibration curve.\n",
      "wandb: Logged roc curve.\n",
      "wandb: Logged precision-recall curve.\n"
     ]
    },
    {
     "data": {
      "text/html": [],
      "text/plain": [
       "<IPython.core.display.HTML object>"
      ]
     },
     "metadata": {},
     "output_type": "display_data"
    },
    {
     "data": {
      "text/html": [
       "<br>    <style><br>        .wandb-row {<br>            display: flex;<br>            flex-direction: row;<br>            flex-wrap: wrap;<br>            justify-content: flex-start;<br>            width: 100%;<br>        }<br>        .wandb-col {<br>            display: flex;<br>            flex-direction: column;<br>            flex-basis: 100%;<br>            flex: 1;<br>            padding: 10px;<br>        }<br>    </style><br><div class=\"wandb-row\"><div class=\"wandb-col\"><h3>Run history:</h3><br/><table class=\"wandb\"><tr><td>f1_score</td><td>▁</td></tr><tr><td>f1_score_train</td><td>▁</td></tr><tr><td>f1_score_valid</td><td>▁</td></tr></table><br/></div><div class=\"wandb-col\"><h3>Run summary:</h3><br/><table class=\"wandb\"><tr><td>f1_score</td><td>0.76215</td></tr><tr><td>f1_score_train</td><td>0.67281</td></tr><tr><td>f1_score_valid</td><td>0.65056</td></tr></table><br/></div></div>"
      ],
      "text/plain": [
       "<IPython.core.display.HTML object>"
      ]
     },
     "metadata": {},
     "output_type": "display_data"
    },
    {
     "data": {
      "text/html": [
       " View run <strong style=\"color:#cdcd00\">dark-sweep-48</strong> at: <a href='https://wandb.ai/ahujavaibhav2001-st-lawrence-college/Truck%20Delay%20Classification/runs/uqjisrx0' target=\"_blank\">https://wandb.ai/ahujavaibhav2001-st-lawrence-college/Truck%20Delay%20Classification/runs/uqjisrx0</a><br> View project at: <a href='https://wandb.ai/ahujavaibhav2001-st-lawrence-college/Truck%20Delay%20Classification' target=\"_blank\">https://wandb.ai/ahujavaibhav2001-st-lawrence-college/Truck%20Delay%20Classification</a><br>Synced 5 W&B file(s), 0 media file(s), 16 artifact file(s) and 7 other file(s)"
      ],
      "text/plain": [
       "<IPython.core.display.HTML object>"
      ]
     },
     "metadata": {},
     "output_type": "display_data"
    },
    {
     "data": {
      "text/html": [
       "Find logs at: <code>.\\wandb\\run-20241229_172804-uqjisrx0\\logs</code>"
      ],
      "text/plain": [
       "<IPython.core.display.HTML object>"
      ]
     },
     "metadata": {},
     "output_type": "display_data"
    },
    {
     "name": "stderr",
     "output_type": "stream",
     "text": [
      "wandb: Sweep Agent: Waiting for job.\n",
      "wandb: Job received.\n",
      "wandb: Agent Starting Run: rbzihoj0 with config:\n",
      "wandb: \tmax_depth: 15\n",
      "wandb: \tmin_samples_split: 2\n",
      "wandb: \tn_estimators: 12\n",
      "wandb: WARNING Ignoring project 'Truck Delay Classification' when running a sweep.\n"
     ]
    },
    {
     "data": {
      "text/html": [
       "Tracking run with wandb version 0.19.1"
      ],
      "text/plain": [
       "<IPython.core.display.HTML object>"
      ]
     },
     "metadata": {},
     "output_type": "display_data"
    },
    {
     "data": {
      "text/html": [
       "Run data is saved locally in <code>C:\\Users\\ahuja\\wandb\\run-20241229_174154-rbzihoj0</code>"
      ],
      "text/plain": [
       "<IPython.core.display.HTML object>"
      ]
     },
     "metadata": {},
     "output_type": "display_data"
    },
    {
     "data": {
      "text/html": [
       "Syncing run <strong><a href='https://wandb.ai/ahujavaibhav2001-st-lawrence-college/Truck%20Delay%20Classification/runs/rbzihoj0' target=\"_blank\">sunny-sweep-50</a></strong> to <a href='https://wandb.ai/ahujavaibhav2001-st-lawrence-college/Truck%20Delay%20Classification' target=\"_blank\">Weights & Biases</a> (<a href='https://wandb.me/developer-guide' target=\"_blank\">docs</a>)<br>Sweep page: <a href='https://wandb.ai/ahujavaibhav2001-st-lawrence-college/Truck%20Delay%20Classification/sweeps/9mnowi7x' target=\"_blank\">https://wandb.ai/ahujavaibhav2001-st-lawrence-college/Truck%20Delay%20Classification/sweeps/9mnowi7x</a>"
      ],
      "text/plain": [
       "<IPython.core.display.HTML object>"
      ]
     },
     "metadata": {},
     "output_type": "display_data"
    },
    {
     "data": {
      "text/html": [
       " View project at <a href='https://wandb.ai/ahujavaibhav2001-st-lawrence-college/Truck%20Delay%20Classification' target=\"_blank\">https://wandb.ai/ahujavaibhav2001-st-lawrence-college/Truck%20Delay%20Classification</a>"
      ],
      "text/plain": [
       "<IPython.core.display.HTML object>"
      ]
     },
     "metadata": {},
     "output_type": "display_data"
    },
    {
     "data": {
      "text/html": [
       " View sweep at <a href='https://wandb.ai/ahujavaibhav2001-st-lawrence-college/Truck%20Delay%20Classification/sweeps/9mnowi7x' target=\"_blank\">https://wandb.ai/ahujavaibhav2001-st-lawrence-college/Truck%20Delay%20Classification/sweeps/9mnowi7x</a>"
      ],
      "text/plain": [
       "<IPython.core.display.HTML object>"
      ]
     },
     "metadata": {},
     "output_type": "display_data"
    },
    {
     "data": {
      "text/html": [
       " View run at <a href='https://wandb.ai/ahujavaibhav2001-st-lawrence-college/Truck%20Delay%20Classification/runs/rbzihoj0' target=\"_blank\">https://wandb.ai/ahujavaibhav2001-st-lawrence-college/Truck%20Delay%20Classification/runs/rbzihoj0</a>"
      ],
      "text/plain": [
       "<IPython.core.display.HTML object>"
      ]
     },
     "metadata": {},
     "output_type": "display_data"
    },
    {
     "name": "stdout",
     "output_type": "stream",
     "text": [
      "F1_score Train: 0.8799\n",
      "F1_score Valid: 0.5954\n",
      "F1_score Test: 0.7048\n"
     ]
    },
    {
     "name": "stderr",
     "output_type": "stream",
     "text": [
      "wandb: \n",
      "wandb: Plotting RandomForestClassifier.\n",
      "UserWarning: X does not have valid feature names, but RandomForestClassifier was fitted with feature names\n",
      "wandb: Logged feature importances.\n",
      "wandb: Logged confusion matrix.\n",
      "UserWarning: X does not have valid feature names, but RandomForestClassifier was fitted with feature names\n",
      "wandb: Logged summary metrics.\n",
      "wandb: Logged class proportions.\n",
      "UserWarning: X does not have valid feature names, but RandomForestClassifier was fitted with feature names\n",
      "ConvergenceWarning: lbfgs failed to converge (status=1):\n",
      "STOP: TOTAL NO. of ITERATIONS REACHED LIMIT.\n",
      "\n",
      "Increase the number of iterations (max_iter) or scale the data as shown in:\n",
      "    https://scikit-learn.org/stable/modules/preprocessing.html\n",
      "Please also refer to the documentation for alternative solver options:\n",
      "    https://scikit-learn.org/stable/modules/linear_model.html#logistic-regression\n",
      "wandb: Logged calibration curve.\n",
      "wandb: Logged roc curve.\n",
      "wandb: Logged precision-recall curve.\n"
     ]
    },
    {
     "data": {
      "text/html": [],
      "text/plain": [
       "<IPython.core.display.HTML object>"
      ]
     },
     "metadata": {},
     "output_type": "display_data"
    },
    {
     "data": {
      "text/html": [
       "<br>    <style><br>        .wandb-row {<br>            display: flex;<br>            flex-direction: row;<br>            flex-wrap: wrap;<br>            justify-content: flex-start;<br>            width: 100%;<br>        }<br>        .wandb-col {<br>            display: flex;<br>            flex-direction: column;<br>            flex-basis: 100%;<br>            flex: 1;<br>            padding: 10px;<br>        }<br>    </style><br><div class=\"wandb-row\"><div class=\"wandb-col\"><h3>Run history:</h3><br/><table class=\"wandb\"><tr><td>f1_score</td><td>▁</td></tr><tr><td>f1_score_train</td><td>▁</td></tr><tr><td>f1_score_valid</td><td>▁</td></tr></table><br/></div><div class=\"wandb-col\"><h3>Run summary:</h3><br/><table class=\"wandb\"><tr><td>f1_score</td><td>0.70479</td></tr><tr><td>f1_score_train</td><td>0.87985</td></tr><tr><td>f1_score_valid</td><td>0.59542</td></tr></table><br/></div></div>"
      ],
      "text/plain": [
       "<IPython.core.display.HTML object>"
      ]
     },
     "metadata": {},
     "output_type": "display_data"
    },
    {
     "data": {
      "text/html": [
       " View run <strong style=\"color:#cdcd00\">sunny-sweep-50</strong> at: <a href='https://wandb.ai/ahujavaibhav2001-st-lawrence-college/Truck%20Delay%20Classification/runs/rbzihoj0' target=\"_blank\">https://wandb.ai/ahujavaibhav2001-st-lawrence-college/Truck%20Delay%20Classification/runs/rbzihoj0</a><br> View project at: <a href='https://wandb.ai/ahujavaibhav2001-st-lawrence-college/Truck%20Delay%20Classification' target=\"_blank\">https://wandb.ai/ahujavaibhav2001-st-lawrence-college/Truck%20Delay%20Classification</a><br>Synced 5 W&B file(s), 0 media file(s), 16 artifact file(s) and 7 other file(s)"
      ],
      "text/plain": [
       "<IPython.core.display.HTML object>"
      ]
     },
     "metadata": {},
     "output_type": "display_data"
    },
    {
     "data": {
      "text/html": [
       "Find logs at: <code>.\\wandb\\run-20241229_174154-rbzihoj0\\logs</code>"
      ],
      "text/plain": [
       "<IPython.core.display.HTML object>"
      ]
     },
     "metadata": {},
     "output_type": "display_data"
    },
    {
     "name": "stderr",
     "output_type": "stream",
     "text": [
      "wandb: Agent Starting Run: 6cmse08o with config:\n",
      "wandb: \tmax_depth: 15\n",
      "wandb: \tmin_samples_split: 2\n",
      "wandb: \tn_estimators: 16\n",
      "wandb: WARNING Ignoring project 'Truck Delay Classification' when running a sweep.\n"
     ]
    },
    {
     "data": {
      "text/html": [
       "Tracking run with wandb version 0.19.1"
      ],
      "text/plain": [
       "<IPython.core.display.HTML object>"
      ]
     },
     "metadata": {},
     "output_type": "display_data"
    },
    {
     "data": {
      "text/html": [
       "Run data is saved locally in <code>C:\\Users\\ahuja\\wandb\\run-20241229_174205-6cmse08o</code>"
      ],
      "text/plain": [
       "<IPython.core.display.HTML object>"
      ]
     },
     "metadata": {},
     "output_type": "display_data"
    },
    {
     "data": {
      "text/html": [
       "Syncing run <strong><a href='https://wandb.ai/ahujavaibhav2001-st-lawrence-college/Truck%20Delay%20Classification/runs/6cmse08o' target=\"_blank\">devoted-sweep-51</a></strong> to <a href='https://wandb.ai/ahujavaibhav2001-st-lawrence-college/Truck%20Delay%20Classification' target=\"_blank\">Weights & Biases</a> (<a href='https://wandb.me/developer-guide' target=\"_blank\">docs</a>)<br>Sweep page: <a href='https://wandb.ai/ahujavaibhav2001-st-lawrence-college/Truck%20Delay%20Classification/sweeps/9mnowi7x' target=\"_blank\">https://wandb.ai/ahujavaibhav2001-st-lawrence-college/Truck%20Delay%20Classification/sweeps/9mnowi7x</a>"
      ],
      "text/plain": [
       "<IPython.core.display.HTML object>"
      ]
     },
     "metadata": {},
     "output_type": "display_data"
    },
    {
     "data": {
      "text/html": [
       " View project at <a href='https://wandb.ai/ahujavaibhav2001-st-lawrence-college/Truck%20Delay%20Classification' target=\"_blank\">https://wandb.ai/ahujavaibhav2001-st-lawrence-college/Truck%20Delay%20Classification</a>"
      ],
      "text/plain": [
       "<IPython.core.display.HTML object>"
      ]
     },
     "metadata": {},
     "output_type": "display_data"
    },
    {
     "data": {
      "text/html": [
       " View sweep at <a href='https://wandb.ai/ahujavaibhav2001-st-lawrence-college/Truck%20Delay%20Classification/sweeps/9mnowi7x' target=\"_blank\">https://wandb.ai/ahujavaibhav2001-st-lawrence-college/Truck%20Delay%20Classification/sweeps/9mnowi7x</a>"
      ],
      "text/plain": [
       "<IPython.core.display.HTML object>"
      ]
     },
     "metadata": {},
     "output_type": "display_data"
    },
    {
     "data": {
      "text/html": [
       " View run at <a href='https://wandb.ai/ahujavaibhav2001-st-lawrence-college/Truck%20Delay%20Classification/runs/6cmse08o' target=\"_blank\">https://wandb.ai/ahujavaibhav2001-st-lawrence-college/Truck%20Delay%20Classification/runs/6cmse08o</a>"
      ],
      "text/plain": [
       "<IPython.core.display.HTML object>"
      ]
     },
     "metadata": {},
     "output_type": "display_data"
    },
    {
     "name": "stdout",
     "output_type": "stream",
     "text": [
      "F1_score Train: 0.896\n",
      "F1_score Valid: 0.5967\n",
      "F1_score Test: 0.7221\n"
     ]
    },
    {
     "name": "stderr",
     "output_type": "stream",
     "text": [
      "wandb: \n",
      "wandb: Plotting RandomForestClassifier.\n",
      "UserWarning: X does not have valid feature names, but RandomForestClassifier was fitted with feature names\n",
      "wandb: Logged feature importances.\n",
      "wandb: Logged confusion matrix.\n",
      "UserWarning: X does not have valid feature names, but RandomForestClassifier was fitted with feature names\n",
      "wandb: Logged summary metrics.\n",
      "wandb: Logged class proportions.\n",
      "UserWarning: X does not have valid feature names, but RandomForestClassifier was fitted with feature names\n",
      "ConvergenceWarning: lbfgs failed to converge (status=1):\n",
      "STOP: TOTAL NO. of ITERATIONS REACHED LIMIT.\n",
      "\n",
      "Increase the number of iterations (max_iter) or scale the data as shown in:\n",
      "    https://scikit-learn.org/stable/modules/preprocessing.html\n",
      "Please also refer to the documentation for alternative solver options:\n",
      "    https://scikit-learn.org/stable/modules/linear_model.html#logistic-regression\n",
      "wandb: Logged calibration curve.\n",
      "wandb: Logged roc curve.\n",
      "wandb: Logged precision-recall curve.\n"
     ]
    },
    {
     "data": {
      "text/html": [],
      "text/plain": [
       "<IPython.core.display.HTML object>"
      ]
     },
     "metadata": {},
     "output_type": "display_data"
    },
    {
     "data": {
      "text/html": [
       "<br>    <style><br>        .wandb-row {<br>            display: flex;<br>            flex-direction: row;<br>            flex-wrap: wrap;<br>            justify-content: flex-start;<br>            width: 100%;<br>        }<br>        .wandb-col {<br>            display: flex;<br>            flex-direction: column;<br>            flex-basis: 100%;<br>            flex: 1;<br>            padding: 10px;<br>        }<br>    </style><br><div class=\"wandb-row\"><div class=\"wandb-col\"><h3>Run history:</h3><br/><table class=\"wandb\"><tr><td>f1_score</td><td>▁</td></tr><tr><td>f1_score_train</td><td>▁</td></tr><tr><td>f1_score_valid</td><td>▁</td></tr></table><br/></div><div class=\"wandb-col\"><h3>Run summary:</h3><br/><table class=\"wandb\"><tr><td>f1_score</td><td>0.7221</td></tr><tr><td>f1_score_train</td><td>0.89604</td></tr><tr><td>f1_score_valid</td><td>0.59666</td></tr></table><br/></div></div>"
      ],
      "text/plain": [
       "<IPython.core.display.HTML object>"
      ]
     },
     "metadata": {},
     "output_type": "display_data"
    },
    {
     "data": {
      "text/html": [
       " View run <strong style=\"color:#cdcd00\">devoted-sweep-51</strong> at: <a href='https://wandb.ai/ahujavaibhav2001-st-lawrence-college/Truck%20Delay%20Classification/runs/6cmse08o' target=\"_blank\">https://wandb.ai/ahujavaibhav2001-st-lawrence-college/Truck%20Delay%20Classification/runs/6cmse08o</a><br> View project at: <a href='https://wandb.ai/ahujavaibhav2001-st-lawrence-college/Truck%20Delay%20Classification' target=\"_blank\">https://wandb.ai/ahujavaibhav2001-st-lawrence-college/Truck%20Delay%20Classification</a><br>Synced 5 W&B file(s), 0 media file(s), 16 artifact file(s) and 7 other file(s)"
      ],
      "text/plain": [
       "<IPython.core.display.HTML object>"
      ]
     },
     "metadata": {},
     "output_type": "display_data"
    },
    {
     "data": {
      "text/html": [
       "Find logs at: <code>.\\wandb\\run-20241229_174205-6cmse08o\\logs</code>"
      ],
      "text/plain": [
       "<IPython.core.display.HTML object>"
      ]
     },
     "metadata": {},
     "output_type": "display_data"
    },
    {
     "name": "stderr",
     "output_type": "stream",
     "text": [
      "wandb: Agent Starting Run: n6olf1qv with config:\n",
      "wandb: \tmax_depth: 15\n",
      "wandb: \tmin_samples_split: 2\n",
      "wandb: \tn_estimators: 20\n",
      "wandb: WARNING Ignoring project 'Truck Delay Classification' when running a sweep.\n"
     ]
    },
    {
     "data": {
      "text/html": [
       "Tracking run with wandb version 0.19.1"
      ],
      "text/plain": [
       "<IPython.core.display.HTML object>"
      ]
     },
     "metadata": {},
     "output_type": "display_data"
    },
    {
     "data": {
      "text/html": [
       "Run data is saved locally in <code>C:\\Users\\ahuja\\wandb\\run-20241229_174215-n6olf1qv</code>"
      ],
      "text/plain": [
       "<IPython.core.display.HTML object>"
      ]
     },
     "metadata": {},
     "output_type": "display_data"
    },
    {
     "data": {
      "text/html": [
       "Syncing run <strong><a href='https://wandb.ai/ahujavaibhav2001-st-lawrence-college/Truck%20Delay%20Classification/runs/n6olf1qv' target=\"_blank\">upbeat-sweep-52</a></strong> to <a href='https://wandb.ai/ahujavaibhav2001-st-lawrence-college/Truck%20Delay%20Classification' target=\"_blank\">Weights & Biases</a> (<a href='https://wandb.me/developer-guide' target=\"_blank\">docs</a>)<br>Sweep page: <a href='https://wandb.ai/ahujavaibhav2001-st-lawrence-college/Truck%20Delay%20Classification/sweeps/9mnowi7x' target=\"_blank\">https://wandb.ai/ahujavaibhav2001-st-lawrence-college/Truck%20Delay%20Classification/sweeps/9mnowi7x</a>"
      ],
      "text/plain": [
       "<IPython.core.display.HTML object>"
      ]
     },
     "metadata": {},
     "output_type": "display_data"
    },
    {
     "data": {
      "text/html": [
       " View project at <a href='https://wandb.ai/ahujavaibhav2001-st-lawrence-college/Truck%20Delay%20Classification' target=\"_blank\">https://wandb.ai/ahujavaibhav2001-st-lawrence-college/Truck%20Delay%20Classification</a>"
      ],
      "text/plain": [
       "<IPython.core.display.HTML object>"
      ]
     },
     "metadata": {},
     "output_type": "display_data"
    },
    {
     "data": {
      "text/html": [
       " View sweep at <a href='https://wandb.ai/ahujavaibhav2001-st-lawrence-college/Truck%20Delay%20Classification/sweeps/9mnowi7x' target=\"_blank\">https://wandb.ai/ahujavaibhav2001-st-lawrence-college/Truck%20Delay%20Classification/sweeps/9mnowi7x</a>"
      ],
      "text/plain": [
       "<IPython.core.display.HTML object>"
      ]
     },
     "metadata": {},
     "output_type": "display_data"
    },
    {
     "data": {
      "text/html": [
       " View run at <a href='https://wandb.ai/ahujavaibhav2001-st-lawrence-college/Truck%20Delay%20Classification/runs/n6olf1qv' target=\"_blank\">https://wandb.ai/ahujavaibhav2001-st-lawrence-college/Truck%20Delay%20Classification/runs/n6olf1qv</a>"
      ],
      "text/plain": [
       "<IPython.core.display.HTML object>"
      ]
     },
     "metadata": {},
     "output_type": "display_data"
    },
    {
     "name": "stdout",
     "output_type": "stream",
     "text": [
      "F1_score Train: 0.8975\n",
      "F1_score Valid: 0.5992\n",
      "F1_score Test: 0.7222\n"
     ]
    },
    {
     "name": "stderr",
     "output_type": "stream",
     "text": [
      "wandb: \n",
      "wandb: Plotting RandomForestClassifier.\n",
      "UserWarning: X does not have valid feature names, but RandomForestClassifier was fitted with feature names\n",
      "wandb: Logged feature importances.\n",
      "wandb: Logged confusion matrix.\n",
      "UserWarning: X does not have valid feature names, but RandomForestClassifier was fitted with feature names\n",
      "wandb: Logged summary metrics.\n",
      "wandb: Logged class proportions.\n",
      "UserWarning: X does not have valid feature names, but RandomForestClassifier was fitted with feature names\n",
      "ConvergenceWarning: lbfgs failed to converge (status=1):\n",
      "STOP: TOTAL NO. of ITERATIONS REACHED LIMIT.\n",
      "\n",
      "Increase the number of iterations (max_iter) or scale the data as shown in:\n",
      "    https://scikit-learn.org/stable/modules/preprocessing.html\n",
      "Please also refer to the documentation for alternative solver options:\n",
      "    https://scikit-learn.org/stable/modules/linear_model.html#logistic-regression\n",
      "wandb: Logged calibration curve.\n",
      "wandb: Logged roc curve.\n",
      "wandb: Logged precision-recall curve.\n"
     ]
    },
    {
     "data": {
      "text/html": [],
      "text/plain": [
       "<IPython.core.display.HTML object>"
      ]
     },
     "metadata": {},
     "output_type": "display_data"
    },
    {
     "data": {
      "text/html": [
       "<br>    <style><br>        .wandb-row {<br>            display: flex;<br>            flex-direction: row;<br>            flex-wrap: wrap;<br>            justify-content: flex-start;<br>            width: 100%;<br>        }<br>        .wandb-col {<br>            display: flex;<br>            flex-direction: column;<br>            flex-basis: 100%;<br>            flex: 1;<br>            padding: 10px;<br>        }<br>    </style><br><div class=\"wandb-row\"><div class=\"wandb-col\"><h3>Run history:</h3><br/><table class=\"wandb\"><tr><td>f1_score</td><td>▁</td></tr><tr><td>f1_score_train</td><td>▁</td></tr><tr><td>f1_score_valid</td><td>▁</td></tr></table><br/></div><div class=\"wandb-col\"><h3>Run summary:</h3><br/><table class=\"wandb\"><tr><td>f1_score</td><td>0.72222</td></tr><tr><td>f1_score_train</td><td>0.89751</td></tr><tr><td>f1_score_valid</td><td>0.59916</td></tr></table><br/></div></div>"
      ],
      "text/plain": [
       "<IPython.core.display.HTML object>"
      ]
     },
     "metadata": {},
     "output_type": "display_data"
    },
    {
     "data": {
      "text/html": [
       " View run <strong style=\"color:#cdcd00\">upbeat-sweep-52</strong> at: <a href='https://wandb.ai/ahujavaibhav2001-st-lawrence-college/Truck%20Delay%20Classification/runs/n6olf1qv' target=\"_blank\">https://wandb.ai/ahujavaibhav2001-st-lawrence-college/Truck%20Delay%20Classification/runs/n6olf1qv</a><br> View project at: <a href='https://wandb.ai/ahujavaibhav2001-st-lawrence-college/Truck%20Delay%20Classification' target=\"_blank\">https://wandb.ai/ahujavaibhav2001-st-lawrence-college/Truck%20Delay%20Classification</a><br>Synced 5 W&B file(s), 0 media file(s), 16 artifact file(s) and 7 other file(s)"
      ],
      "text/plain": [
       "<IPython.core.display.HTML object>"
      ]
     },
     "metadata": {},
     "output_type": "display_data"
    },
    {
     "data": {
      "text/html": [
       "Find logs at: <code>.\\wandb\\run-20241229_174215-n6olf1qv\\logs</code>"
      ],
      "text/plain": [
       "<IPython.core.display.HTML object>"
      ]
     },
     "metadata": {},
     "output_type": "display_data"
    },
    {
     "name": "stderr",
     "output_type": "stream",
     "text": [
      "wandb: Agent Starting Run: 9pr93eng with config:\n",
      "wandb: \tmax_depth: 15\n",
      "wandb: \tmin_samples_split: 4\n",
      "wandb: \tn_estimators: 8\n",
      "wandb: WARNING Ignoring project 'Truck Delay Classification' when running a sweep.\n"
     ]
    },
    {
     "data": {
      "text/html": [
       "Tracking run with wandb version 0.19.1"
      ],
      "text/plain": [
       "<IPython.core.display.HTML object>"
      ]
     },
     "metadata": {},
     "output_type": "display_data"
    },
    {
     "data": {
      "text/html": [
       "Run data is saved locally in <code>C:\\Users\\ahuja\\wandb\\run-20241229_174225-9pr93eng</code>"
      ],
      "text/plain": [
       "<IPython.core.display.HTML object>"
      ]
     },
     "metadata": {},
     "output_type": "display_data"
    },
    {
     "data": {
      "text/html": [
       "Syncing run <strong><a href='https://wandb.ai/ahujavaibhav2001-st-lawrence-college/Truck%20Delay%20Classification/runs/9pr93eng' target=\"_blank\">major-sweep-53</a></strong> to <a href='https://wandb.ai/ahujavaibhav2001-st-lawrence-college/Truck%20Delay%20Classification' target=\"_blank\">Weights & Biases</a> (<a href='https://wandb.me/developer-guide' target=\"_blank\">docs</a>)<br>Sweep page: <a href='https://wandb.ai/ahujavaibhav2001-st-lawrence-college/Truck%20Delay%20Classification/sweeps/9mnowi7x' target=\"_blank\">https://wandb.ai/ahujavaibhav2001-st-lawrence-college/Truck%20Delay%20Classification/sweeps/9mnowi7x</a>"
      ],
      "text/plain": [
       "<IPython.core.display.HTML object>"
      ]
     },
     "metadata": {},
     "output_type": "display_data"
    },
    {
     "data": {
      "text/html": [
       " View project at <a href='https://wandb.ai/ahujavaibhav2001-st-lawrence-college/Truck%20Delay%20Classification' target=\"_blank\">https://wandb.ai/ahujavaibhav2001-st-lawrence-college/Truck%20Delay%20Classification</a>"
      ],
      "text/plain": [
       "<IPython.core.display.HTML object>"
      ]
     },
     "metadata": {},
     "output_type": "display_data"
    },
    {
     "data": {
      "text/html": [
       " View sweep at <a href='https://wandb.ai/ahujavaibhav2001-st-lawrence-college/Truck%20Delay%20Classification/sweeps/9mnowi7x' target=\"_blank\">https://wandb.ai/ahujavaibhav2001-st-lawrence-college/Truck%20Delay%20Classification/sweeps/9mnowi7x</a>"
      ],
      "text/plain": [
       "<IPython.core.display.HTML object>"
      ]
     },
     "metadata": {},
     "output_type": "display_data"
    },
    {
     "data": {
      "text/html": [
       " View run at <a href='https://wandb.ai/ahujavaibhav2001-st-lawrence-college/Truck%20Delay%20Classification/runs/9pr93eng' target=\"_blank\">https://wandb.ai/ahujavaibhav2001-st-lawrence-college/Truck%20Delay%20Classification/runs/9pr93eng</a>"
      ],
      "text/plain": [
       "<IPython.core.display.HTML object>"
      ]
     },
     "metadata": {},
     "output_type": "display_data"
    },
    {
     "name": "stdout",
     "output_type": "stream",
     "text": [
      "F1_score Train: 0.8388\n",
      "F1_score Valid: 0.5394\n",
      "F1_score Test: 0.6855\n"
     ]
    },
    {
     "name": "stderr",
     "output_type": "stream",
     "text": [
      "wandb: \n",
      "wandb: Plotting RandomForestClassifier.\n",
      "UserWarning: X does not have valid feature names, but RandomForestClassifier was fitted with feature names\n",
      "wandb: Logged feature importances.\n",
      "wandb: Logged confusion matrix.\n",
      "UserWarning: X does not have valid feature names, but RandomForestClassifier was fitted with feature names\n",
      "wandb: Logged summary metrics.\n",
      "wandb: Logged class proportions.\n",
      "UserWarning: X does not have valid feature names, but RandomForestClassifier was fitted with feature names\n",
      "ConvergenceWarning: lbfgs failed to converge (status=1):\n",
      "STOP: TOTAL NO. of ITERATIONS REACHED LIMIT.\n",
      "\n",
      "Increase the number of iterations (max_iter) or scale the data as shown in:\n",
      "    https://scikit-learn.org/stable/modules/preprocessing.html\n",
      "Please also refer to the documentation for alternative solver options:\n",
      "    https://scikit-learn.org/stable/modules/linear_model.html#logistic-regression\n",
      "wandb: Logged calibration curve.\n",
      "wandb: Logged roc curve.\n",
      "wandb: Logged precision-recall curve.\n"
     ]
    },
    {
     "data": {
      "text/html": [],
      "text/plain": [
       "<IPython.core.display.HTML object>"
      ]
     },
     "metadata": {},
     "output_type": "display_data"
    },
    {
     "data": {
      "text/html": [
       "<br>    <style><br>        .wandb-row {<br>            display: flex;<br>            flex-direction: row;<br>            flex-wrap: wrap;<br>            justify-content: flex-start;<br>            width: 100%;<br>        }<br>        .wandb-col {<br>            display: flex;<br>            flex-direction: column;<br>            flex-basis: 100%;<br>            flex: 1;<br>            padding: 10px;<br>        }<br>    </style><br><div class=\"wandb-row\"><div class=\"wandb-col\"><h3>Run history:</h3><br/><table class=\"wandb\"><tr><td>f1_score</td><td>▁</td></tr><tr><td>f1_score_train</td><td>▁</td></tr><tr><td>f1_score_valid</td><td>▁</td></tr></table><br/></div><div class=\"wandb-col\"><h3>Run summary:</h3><br/><table class=\"wandb\"><tr><td>f1_score</td><td>0.68551</td></tr><tr><td>f1_score_train</td><td>0.83881</td></tr><tr><td>f1_score_valid</td><td>0.53944</td></tr></table><br/></div></div>"
      ],
      "text/plain": [
       "<IPython.core.display.HTML object>"
      ]
     },
     "metadata": {},
     "output_type": "display_data"
    },
    {
     "data": {
      "text/html": [
       " View run <strong style=\"color:#cdcd00\">major-sweep-53</strong> at: <a href='https://wandb.ai/ahujavaibhav2001-st-lawrence-college/Truck%20Delay%20Classification/runs/9pr93eng' target=\"_blank\">https://wandb.ai/ahujavaibhav2001-st-lawrence-college/Truck%20Delay%20Classification/runs/9pr93eng</a><br> View project at: <a href='https://wandb.ai/ahujavaibhav2001-st-lawrence-college/Truck%20Delay%20Classification' target=\"_blank\">https://wandb.ai/ahujavaibhav2001-st-lawrence-college/Truck%20Delay%20Classification</a><br>Synced 5 W&B file(s), 0 media file(s), 16 artifact file(s) and 7 other file(s)"
      ],
      "text/plain": [
       "<IPython.core.display.HTML object>"
      ]
     },
     "metadata": {},
     "output_type": "display_data"
    },
    {
     "data": {
      "text/html": [
       "Find logs at: <code>.\\wandb\\run-20241229_174225-9pr93eng\\logs</code>"
      ],
      "text/plain": [
       "<IPython.core.display.HTML object>"
      ]
     },
     "metadata": {},
     "output_type": "display_data"
    },
    {
     "name": "stderr",
     "output_type": "stream",
     "text": [
      "wandb: Agent Starting Run: vumj9m23 with config:\n",
      "wandb: \tmax_depth: 15\n",
      "wandb: \tmin_samples_split: 4\n",
      "wandb: \tn_estimators: 12\n",
      "wandb: WARNING Ignoring project 'Truck Delay Classification' when running a sweep.\n"
     ]
    },
    {
     "data": {
      "text/html": [
       "Tracking run with wandb version 0.19.1"
      ],
      "text/plain": [
       "<IPython.core.display.HTML object>"
      ]
     },
     "metadata": {},
     "output_type": "display_data"
    },
    {
     "data": {
      "text/html": [
       "Run data is saved locally in <code>C:\\Users\\ahuja\\wandb\\run-20241229_174235-vumj9m23</code>"
      ],
      "text/plain": [
       "<IPython.core.display.HTML object>"
      ]
     },
     "metadata": {},
     "output_type": "display_data"
    },
    {
     "data": {
      "text/html": [
       "Syncing run <strong><a href='https://wandb.ai/ahujavaibhav2001-st-lawrence-college/Truck%20Delay%20Classification/runs/vumj9m23' target=\"_blank\">snowy-sweep-54</a></strong> to <a href='https://wandb.ai/ahujavaibhav2001-st-lawrence-college/Truck%20Delay%20Classification' target=\"_blank\">Weights & Biases</a> (<a href='https://wandb.me/developer-guide' target=\"_blank\">docs</a>)<br>Sweep page: <a href='https://wandb.ai/ahujavaibhav2001-st-lawrence-college/Truck%20Delay%20Classification/sweeps/9mnowi7x' target=\"_blank\">https://wandb.ai/ahujavaibhav2001-st-lawrence-college/Truck%20Delay%20Classification/sweeps/9mnowi7x</a>"
      ],
      "text/plain": [
       "<IPython.core.display.HTML object>"
      ]
     },
     "metadata": {},
     "output_type": "display_data"
    },
    {
     "data": {
      "text/html": [
       " View project at <a href='https://wandb.ai/ahujavaibhav2001-st-lawrence-college/Truck%20Delay%20Classification' target=\"_blank\">https://wandb.ai/ahujavaibhav2001-st-lawrence-college/Truck%20Delay%20Classification</a>"
      ],
      "text/plain": [
       "<IPython.core.display.HTML object>"
      ]
     },
     "metadata": {},
     "output_type": "display_data"
    },
    {
     "data": {
      "text/html": [
       " View sweep at <a href='https://wandb.ai/ahujavaibhav2001-st-lawrence-college/Truck%20Delay%20Classification/sweeps/9mnowi7x' target=\"_blank\">https://wandb.ai/ahujavaibhav2001-st-lawrence-college/Truck%20Delay%20Classification/sweeps/9mnowi7x</a>"
      ],
      "text/plain": [
       "<IPython.core.display.HTML object>"
      ]
     },
     "metadata": {},
     "output_type": "display_data"
    },
    {
     "data": {
      "text/html": [
       " View run at <a href='https://wandb.ai/ahujavaibhav2001-st-lawrence-college/Truck%20Delay%20Classification/runs/vumj9m23' target=\"_blank\">https://wandb.ai/ahujavaibhav2001-st-lawrence-college/Truck%20Delay%20Classification/runs/vumj9m23</a>"
      ],
      "text/plain": [
       "<IPython.core.display.HTML object>"
      ]
     },
     "metadata": {},
     "output_type": "display_data"
    },
    {
     "name": "stdout",
     "output_type": "stream",
     "text": [
      "F1_score Train: 0.8519\n",
      "F1_score Valid: 0.5725\n",
      "F1_score Test: 0.7069\n"
     ]
    },
    {
     "name": "stderr",
     "output_type": "stream",
     "text": [
      "wandb: \n",
      "wandb: Plotting RandomForestClassifier.\n",
      "UserWarning: X does not have valid feature names, but RandomForestClassifier was fitted with feature names\n",
      "wandb: Logged feature importances.\n",
      "wandb: Logged confusion matrix.\n",
      "UserWarning: X does not have valid feature names, but RandomForestClassifier was fitted with feature names\n",
      "wandb: Logged summary metrics.\n",
      "wandb: Logged class proportions.\n",
      "UserWarning: X does not have valid feature names, but RandomForestClassifier was fitted with feature names\n",
      "ConvergenceWarning: lbfgs failed to converge (status=1):\n",
      "STOP: TOTAL NO. of ITERATIONS REACHED LIMIT.\n",
      "\n",
      "Increase the number of iterations (max_iter) or scale the data as shown in:\n",
      "    https://scikit-learn.org/stable/modules/preprocessing.html\n",
      "Please also refer to the documentation for alternative solver options:\n",
      "    https://scikit-learn.org/stable/modules/linear_model.html#logistic-regression\n",
      "wandb: Logged calibration curve.\n",
      "wandb: Logged roc curve.\n",
      "wandb: Logged precision-recall curve.\n"
     ]
    },
    {
     "data": {
      "text/html": [],
      "text/plain": [
       "<IPython.core.display.HTML object>"
      ]
     },
     "metadata": {},
     "output_type": "display_data"
    },
    {
     "data": {
      "text/html": [
       "<br>    <style><br>        .wandb-row {<br>            display: flex;<br>            flex-direction: row;<br>            flex-wrap: wrap;<br>            justify-content: flex-start;<br>            width: 100%;<br>        }<br>        .wandb-col {<br>            display: flex;<br>            flex-direction: column;<br>            flex-basis: 100%;<br>            flex: 1;<br>            padding: 10px;<br>        }<br>    </style><br><div class=\"wandb-row\"><div class=\"wandb-col\"><h3>Run history:</h3><br/><table class=\"wandb\"><tr><td>f1_score</td><td>▁</td></tr><tr><td>f1_score_train</td><td>▁</td></tr><tr><td>f1_score_valid</td><td>▁</td></tr></table><br/></div><div class=\"wandb-col\"><h3>Run summary:</h3><br/><table class=\"wandb\"><tr><td>f1_score</td><td>0.70688</td></tr><tr><td>f1_score_train</td><td>0.8519</td></tr><tr><td>f1_score_valid</td><td>0.57245</td></tr></table><br/></div></div>"
      ],
      "text/plain": [
       "<IPython.core.display.HTML object>"
      ]
     },
     "metadata": {},
     "output_type": "display_data"
    },
    {
     "data": {
      "text/html": [
       " View run <strong style=\"color:#cdcd00\">snowy-sweep-54</strong> at: <a href='https://wandb.ai/ahujavaibhav2001-st-lawrence-college/Truck%20Delay%20Classification/runs/vumj9m23' target=\"_blank\">https://wandb.ai/ahujavaibhav2001-st-lawrence-college/Truck%20Delay%20Classification/runs/vumj9m23</a><br> View project at: <a href='https://wandb.ai/ahujavaibhav2001-st-lawrence-college/Truck%20Delay%20Classification' target=\"_blank\">https://wandb.ai/ahujavaibhav2001-st-lawrence-college/Truck%20Delay%20Classification</a><br>Synced 5 W&B file(s), 0 media file(s), 16 artifact file(s) and 7 other file(s)"
      ],
      "text/plain": [
       "<IPython.core.display.HTML object>"
      ]
     },
     "metadata": {},
     "output_type": "display_data"
    },
    {
     "data": {
      "text/html": [
       "Find logs at: <code>.\\wandb\\run-20241229_174235-vumj9m23\\logs</code>"
      ],
      "text/plain": [
       "<IPython.core.display.HTML object>"
      ]
     },
     "metadata": {},
     "output_type": "display_data"
    },
    {
     "name": "stderr",
     "output_type": "stream",
     "text": [
      "wandb: Agent Starting Run: 12fnmmj6 with config:\n",
      "wandb: \tmax_depth: 15\n",
      "wandb: \tmin_samples_split: 4\n",
      "wandb: \tn_estimators: 16\n",
      "wandb: WARNING Ignoring project 'Truck Delay Classification' when running a sweep.\n"
     ]
    },
    {
     "data": {
      "text/html": [
       "Tracking run with wandb version 0.19.1"
      ],
      "text/plain": [
       "<IPython.core.display.HTML object>"
      ]
     },
     "metadata": {},
     "output_type": "display_data"
    },
    {
     "data": {
      "text/html": [
       "Run data is saved locally in <code>C:\\Users\\ahuja\\wandb\\run-20241229_174246-12fnmmj6</code>"
      ],
      "text/plain": [
       "<IPython.core.display.HTML object>"
      ]
     },
     "metadata": {},
     "output_type": "display_data"
    },
    {
     "data": {
      "text/html": [
       "Syncing run <strong><a href='https://wandb.ai/ahujavaibhav2001-st-lawrence-college/Truck%20Delay%20Classification/runs/12fnmmj6' target=\"_blank\">worthy-sweep-55</a></strong> to <a href='https://wandb.ai/ahujavaibhav2001-st-lawrence-college/Truck%20Delay%20Classification' target=\"_blank\">Weights & Biases</a> (<a href='https://wandb.me/developer-guide' target=\"_blank\">docs</a>)<br>Sweep page: <a href='https://wandb.ai/ahujavaibhav2001-st-lawrence-college/Truck%20Delay%20Classification/sweeps/9mnowi7x' target=\"_blank\">https://wandb.ai/ahujavaibhav2001-st-lawrence-college/Truck%20Delay%20Classification/sweeps/9mnowi7x</a>"
      ],
      "text/plain": [
       "<IPython.core.display.HTML object>"
      ]
     },
     "metadata": {},
     "output_type": "display_data"
    },
    {
     "data": {
      "text/html": [
       " View project at <a href='https://wandb.ai/ahujavaibhav2001-st-lawrence-college/Truck%20Delay%20Classification' target=\"_blank\">https://wandb.ai/ahujavaibhav2001-st-lawrence-college/Truck%20Delay%20Classification</a>"
      ],
      "text/plain": [
       "<IPython.core.display.HTML object>"
      ]
     },
     "metadata": {},
     "output_type": "display_data"
    },
    {
     "data": {
      "text/html": [
       " View sweep at <a href='https://wandb.ai/ahujavaibhav2001-st-lawrence-college/Truck%20Delay%20Classification/sweeps/9mnowi7x' target=\"_blank\">https://wandb.ai/ahujavaibhav2001-st-lawrence-college/Truck%20Delay%20Classification/sweeps/9mnowi7x</a>"
      ],
      "text/plain": [
       "<IPython.core.display.HTML object>"
      ]
     },
     "metadata": {},
     "output_type": "display_data"
    },
    {
     "data": {
      "text/html": [
       " View run at <a href='https://wandb.ai/ahujavaibhav2001-st-lawrence-college/Truck%20Delay%20Classification/runs/12fnmmj6' target=\"_blank\">https://wandb.ai/ahujavaibhav2001-st-lawrence-college/Truck%20Delay%20Classification/runs/12fnmmj6</a>"
      ],
      "text/plain": [
       "<IPython.core.display.HTML object>"
      ]
     },
     "metadata": {},
     "output_type": "display_data"
    },
    {
     "name": "stdout",
     "output_type": "stream",
     "text": [
      "F1_score Train: 0.8624\n",
      "F1_score Valid: 0.5994\n",
      "F1_score Test: 0.7204\n"
     ]
    },
    {
     "name": "stderr",
     "output_type": "stream",
     "text": [
      "wandb: \n",
      "wandb: Plotting RandomForestClassifier.\n",
      "UserWarning: X does not have valid feature names, but RandomForestClassifier was fitted with feature names\n",
      "wandb: Logged feature importances.\n",
      "wandb: Logged confusion matrix.\n",
      "UserWarning: X does not have valid feature names, but RandomForestClassifier was fitted with feature names\n",
      "wandb: Logged summary metrics.\n",
      "wandb: Logged class proportions.\n",
      "UserWarning: X does not have valid feature names, but RandomForestClassifier was fitted with feature names\n",
      "ConvergenceWarning: lbfgs failed to converge (status=1):\n",
      "STOP: TOTAL NO. of ITERATIONS REACHED LIMIT.\n",
      "\n",
      "Increase the number of iterations (max_iter) or scale the data as shown in:\n",
      "    https://scikit-learn.org/stable/modules/preprocessing.html\n",
      "Please also refer to the documentation for alternative solver options:\n",
      "    https://scikit-learn.org/stable/modules/linear_model.html#logistic-regression\n",
      "wandb: Logged calibration curve.\n",
      "wandb: Logged roc curve.\n",
      "wandb: Logged precision-recall curve.\n"
     ]
    },
    {
     "data": {
      "text/html": [],
      "text/plain": [
       "<IPython.core.display.HTML object>"
      ]
     },
     "metadata": {},
     "output_type": "display_data"
    },
    {
     "data": {
      "text/html": [
       "<br>    <style><br>        .wandb-row {<br>            display: flex;<br>            flex-direction: row;<br>            flex-wrap: wrap;<br>            justify-content: flex-start;<br>            width: 100%;<br>        }<br>        .wandb-col {<br>            display: flex;<br>            flex-direction: column;<br>            flex-basis: 100%;<br>            flex: 1;<br>            padding: 10px;<br>        }<br>    </style><br><div class=\"wandb-row\"><div class=\"wandb-col\"><h3>Run history:</h3><br/><table class=\"wandb\"><tr><td>f1_score</td><td>▁</td></tr><tr><td>f1_score_train</td><td>▁</td></tr><tr><td>f1_score_valid</td><td>▁</td></tr></table><br/></div><div class=\"wandb-col\"><h3>Run summary:</h3><br/><table class=\"wandb\"><tr><td>f1_score</td><td>0.7204</td></tr><tr><td>f1_score_train</td><td>0.8624</td></tr><tr><td>f1_score_valid</td><td>0.59943</td></tr></table><br/></div></div>"
      ],
      "text/plain": [
       "<IPython.core.display.HTML object>"
      ]
     },
     "metadata": {},
     "output_type": "display_data"
    },
    {
     "data": {
      "text/html": [
       " View run <strong style=\"color:#cdcd00\">worthy-sweep-55</strong> at: <a href='https://wandb.ai/ahujavaibhav2001-st-lawrence-college/Truck%20Delay%20Classification/runs/12fnmmj6' target=\"_blank\">https://wandb.ai/ahujavaibhav2001-st-lawrence-college/Truck%20Delay%20Classification/runs/12fnmmj6</a><br> View project at: <a href='https://wandb.ai/ahujavaibhav2001-st-lawrence-college/Truck%20Delay%20Classification' target=\"_blank\">https://wandb.ai/ahujavaibhav2001-st-lawrence-college/Truck%20Delay%20Classification</a><br>Synced 5 W&B file(s), 0 media file(s), 16 artifact file(s) and 7 other file(s)"
      ],
      "text/plain": [
       "<IPython.core.display.HTML object>"
      ]
     },
     "metadata": {},
     "output_type": "display_data"
    },
    {
     "data": {
      "text/html": [
       "Find logs at: <code>.\\wandb\\run-20241229_174246-12fnmmj6\\logs</code>"
      ],
      "text/plain": [
       "<IPython.core.display.HTML object>"
      ]
     },
     "metadata": {},
     "output_type": "display_data"
    },
    {
     "name": "stderr",
     "output_type": "stream",
     "text": [
      "wandb: Agent Starting Run: 54zcxkj5 with config:\n",
      "wandb: \tmax_depth: 15\n",
      "wandb: \tmin_samples_split: 4\n",
      "wandb: \tn_estimators: 20\n",
      "wandb: WARNING Ignoring project 'Truck Delay Classification' when running a sweep.\n"
     ]
    },
    {
     "data": {
      "text/html": [
       "Tracking run with wandb version 0.19.1"
      ],
      "text/plain": [
       "<IPython.core.display.HTML object>"
      ]
     },
     "metadata": {},
     "output_type": "display_data"
    },
    {
     "data": {
      "text/html": [
       "Run data is saved locally in <code>C:\\Users\\ahuja\\wandb\\run-20241229_174256-54zcxkj5</code>"
      ],
      "text/plain": [
       "<IPython.core.display.HTML object>"
      ]
     },
     "metadata": {},
     "output_type": "display_data"
    },
    {
     "data": {
      "text/html": [
       "Syncing run <strong><a href='https://wandb.ai/ahujavaibhav2001-st-lawrence-college/Truck%20Delay%20Classification/runs/54zcxkj5' target=\"_blank\">glad-sweep-56</a></strong> to <a href='https://wandb.ai/ahujavaibhav2001-st-lawrence-college/Truck%20Delay%20Classification' target=\"_blank\">Weights & Biases</a> (<a href='https://wandb.me/developer-guide' target=\"_blank\">docs</a>)<br>Sweep page: <a href='https://wandb.ai/ahujavaibhav2001-st-lawrence-college/Truck%20Delay%20Classification/sweeps/9mnowi7x' target=\"_blank\">https://wandb.ai/ahujavaibhav2001-st-lawrence-college/Truck%20Delay%20Classification/sweeps/9mnowi7x</a>"
      ],
      "text/plain": [
       "<IPython.core.display.HTML object>"
      ]
     },
     "metadata": {},
     "output_type": "display_data"
    },
    {
     "data": {
      "text/html": [
       " View project at <a href='https://wandb.ai/ahujavaibhav2001-st-lawrence-college/Truck%20Delay%20Classification' target=\"_blank\">https://wandb.ai/ahujavaibhav2001-st-lawrence-college/Truck%20Delay%20Classification</a>"
      ],
      "text/plain": [
       "<IPython.core.display.HTML object>"
      ]
     },
     "metadata": {},
     "output_type": "display_data"
    },
    {
     "data": {
      "text/html": [
       " View sweep at <a href='https://wandb.ai/ahujavaibhav2001-st-lawrence-college/Truck%20Delay%20Classification/sweeps/9mnowi7x' target=\"_blank\">https://wandb.ai/ahujavaibhav2001-st-lawrence-college/Truck%20Delay%20Classification/sweeps/9mnowi7x</a>"
      ],
      "text/plain": [
       "<IPython.core.display.HTML object>"
      ]
     },
     "metadata": {},
     "output_type": "display_data"
    },
    {
     "data": {
      "text/html": [
       " View run at <a href='https://wandb.ai/ahujavaibhav2001-st-lawrence-college/Truck%20Delay%20Classification/runs/54zcxkj5' target=\"_blank\">https://wandb.ai/ahujavaibhav2001-st-lawrence-college/Truck%20Delay%20Classification/runs/54zcxkj5</a>"
      ],
      "text/plain": [
       "<IPython.core.display.HTML object>"
      ]
     },
     "metadata": {},
     "output_type": "display_data"
    },
    {
     "name": "stdout",
     "output_type": "stream",
     "text": [
      "F1_score Train: 0.8601\n",
      "F1_score Valid: 0.6213\n",
      "F1_score Test: 0.723\n"
     ]
    },
    {
     "name": "stderr",
     "output_type": "stream",
     "text": [
      "wandb: \n",
      "wandb: Plotting RandomForestClassifier.\n",
      "UserWarning: X does not have valid feature names, but RandomForestClassifier was fitted with feature names\n",
      "wandb: Logged feature importances.\n",
      "wandb: Logged confusion matrix.\n",
      "UserWarning: X does not have valid feature names, but RandomForestClassifier was fitted with feature names\n",
      "wandb: Logged summary metrics.\n",
      "wandb: Logged class proportions.\n",
      "UserWarning: X does not have valid feature names, but RandomForestClassifier was fitted with feature names\n",
      "ConvergenceWarning: lbfgs failed to converge (status=1):\n",
      "STOP: TOTAL NO. of ITERATIONS REACHED LIMIT.\n",
      "\n",
      "Increase the number of iterations (max_iter) or scale the data as shown in:\n",
      "    https://scikit-learn.org/stable/modules/preprocessing.html\n",
      "Please also refer to the documentation for alternative solver options:\n",
      "    https://scikit-learn.org/stable/modules/linear_model.html#logistic-regression\n",
      "wandb: Logged calibration curve.\n",
      "wandb: Logged roc curve.\n",
      "wandb: Logged precision-recall curve.\n"
     ]
    },
    {
     "data": {
      "text/html": [],
      "text/plain": [
       "<IPython.core.display.HTML object>"
      ]
     },
     "metadata": {},
     "output_type": "display_data"
    },
    {
     "data": {
      "text/html": [
       "<br>    <style><br>        .wandb-row {<br>            display: flex;<br>            flex-direction: row;<br>            flex-wrap: wrap;<br>            justify-content: flex-start;<br>            width: 100%;<br>        }<br>        .wandb-col {<br>            display: flex;<br>            flex-direction: column;<br>            flex-basis: 100%;<br>            flex: 1;<br>            padding: 10px;<br>        }<br>    </style><br><div class=\"wandb-row\"><div class=\"wandb-col\"><h3>Run history:</h3><br/><table class=\"wandb\"><tr><td>f1_score</td><td>▁</td></tr><tr><td>f1_score_train</td><td>▁</td></tr><tr><td>f1_score_valid</td><td>▁</td></tr></table><br/></div><div class=\"wandb-col\"><h3>Run summary:</h3><br/><table class=\"wandb\"><tr><td>f1_score</td><td>0.72304</td></tr><tr><td>f1_score_train</td><td>0.86012</td></tr><tr><td>f1_score_valid</td><td>0.62132</td></tr></table><br/></div></div>"
      ],
      "text/plain": [
       "<IPython.core.display.HTML object>"
      ]
     },
     "metadata": {},
     "output_type": "display_data"
    },
    {
     "data": {
      "text/html": [
       " View run <strong style=\"color:#cdcd00\">glad-sweep-56</strong> at: <a href='https://wandb.ai/ahujavaibhav2001-st-lawrence-college/Truck%20Delay%20Classification/runs/54zcxkj5' target=\"_blank\">https://wandb.ai/ahujavaibhav2001-st-lawrence-college/Truck%20Delay%20Classification/runs/54zcxkj5</a><br> View project at: <a href='https://wandb.ai/ahujavaibhav2001-st-lawrence-college/Truck%20Delay%20Classification' target=\"_blank\">https://wandb.ai/ahujavaibhav2001-st-lawrence-college/Truck%20Delay%20Classification</a><br>Synced 5 W&B file(s), 0 media file(s), 16 artifact file(s) and 7 other file(s)"
      ],
      "text/plain": [
       "<IPython.core.display.HTML object>"
      ]
     },
     "metadata": {},
     "output_type": "display_data"
    },
    {
     "data": {
      "text/html": [
       "Find logs at: <code>.\\wandb\\run-20241229_174256-54zcxkj5\\logs</code>"
      ],
      "text/plain": [
       "<IPython.core.display.HTML object>"
      ]
     },
     "metadata": {},
     "output_type": "display_data"
    },
    {
     "name": "stderr",
     "output_type": "stream",
     "text": [
      "wandb: Agent Starting Run: umhk3sam with config:\n",
      "wandb: \tmax_depth: 15\n",
      "wandb: \tmin_samples_split: 8\n",
      "wandb: \tn_estimators: 8\n",
      "wandb: WARNING Ignoring project 'Truck Delay Classification' when running a sweep.\n"
     ]
    },
    {
     "data": {
      "text/html": [
       "Tracking run with wandb version 0.19.1"
      ],
      "text/plain": [
       "<IPython.core.display.HTML object>"
      ]
     },
     "metadata": {},
     "output_type": "display_data"
    },
    {
     "data": {
      "text/html": [
       "Run data is saved locally in <code>C:\\Users\\ahuja\\wandb\\run-20241229_174306-umhk3sam</code>"
      ],
      "text/plain": [
       "<IPython.core.display.HTML object>"
      ]
     },
     "metadata": {},
     "output_type": "display_data"
    },
    {
     "data": {
      "text/html": [
       "Syncing run <strong><a href='https://wandb.ai/ahujavaibhav2001-st-lawrence-college/Truck%20Delay%20Classification/runs/umhk3sam' target=\"_blank\">serene-sweep-57</a></strong> to <a href='https://wandb.ai/ahujavaibhav2001-st-lawrence-college/Truck%20Delay%20Classification' target=\"_blank\">Weights & Biases</a> (<a href='https://wandb.me/developer-guide' target=\"_blank\">docs</a>)<br>Sweep page: <a href='https://wandb.ai/ahujavaibhav2001-st-lawrence-college/Truck%20Delay%20Classification/sweeps/9mnowi7x' target=\"_blank\">https://wandb.ai/ahujavaibhav2001-st-lawrence-college/Truck%20Delay%20Classification/sweeps/9mnowi7x</a>"
      ],
      "text/plain": [
       "<IPython.core.display.HTML object>"
      ]
     },
     "metadata": {},
     "output_type": "display_data"
    },
    {
     "data": {
      "text/html": [
       " View project at <a href='https://wandb.ai/ahujavaibhav2001-st-lawrence-college/Truck%20Delay%20Classification' target=\"_blank\">https://wandb.ai/ahujavaibhav2001-st-lawrence-college/Truck%20Delay%20Classification</a>"
      ],
      "text/plain": [
       "<IPython.core.display.HTML object>"
      ]
     },
     "metadata": {},
     "output_type": "display_data"
    },
    {
     "data": {
      "text/html": [
       " View sweep at <a href='https://wandb.ai/ahujavaibhav2001-st-lawrence-college/Truck%20Delay%20Classification/sweeps/9mnowi7x' target=\"_blank\">https://wandb.ai/ahujavaibhav2001-st-lawrence-college/Truck%20Delay%20Classification/sweeps/9mnowi7x</a>"
      ],
      "text/plain": [
       "<IPython.core.display.HTML object>"
      ]
     },
     "metadata": {},
     "output_type": "display_data"
    },
    {
     "data": {
      "text/html": [
       " View run at <a href='https://wandb.ai/ahujavaibhav2001-st-lawrence-college/Truck%20Delay%20Classification/runs/umhk3sam' target=\"_blank\">https://wandb.ai/ahujavaibhav2001-st-lawrence-college/Truck%20Delay%20Classification/runs/umhk3sam</a>"
      ],
      "text/plain": [
       "<IPython.core.display.HTML object>"
      ]
     },
     "metadata": {},
     "output_type": "display_data"
    },
    {
     "name": "stdout",
     "output_type": "stream",
     "text": [
      "F1_score Train: 0.7989\n",
      "F1_score Valid: 0.5889\n",
      "F1_score Test: 0.6872\n"
     ]
    },
    {
     "name": "stderr",
     "output_type": "stream",
     "text": [
      "wandb: \n",
      "wandb: Plotting RandomForestClassifier.\n",
      "UserWarning: X does not have valid feature names, but RandomForestClassifier was fitted with feature names\n",
      "wandb: Logged feature importances.\n",
      "wandb: Logged confusion matrix.\n",
      "UserWarning: X does not have valid feature names, but RandomForestClassifier was fitted with feature names\n",
      "wandb: Logged summary metrics.\n",
      "wandb: Logged class proportions.\n",
      "UserWarning: X does not have valid feature names, but RandomForestClassifier was fitted with feature names\n",
      "ConvergenceWarning: lbfgs failed to converge (status=1):\n",
      "STOP: TOTAL NO. of ITERATIONS REACHED LIMIT.\n",
      "\n",
      "Increase the number of iterations (max_iter) or scale the data as shown in:\n",
      "    https://scikit-learn.org/stable/modules/preprocessing.html\n",
      "Please also refer to the documentation for alternative solver options:\n",
      "    https://scikit-learn.org/stable/modules/linear_model.html#logistic-regression\n",
      "wandb: Logged calibration curve.\n",
      "wandb: Logged roc curve.\n",
      "wandb: Logged precision-recall curve.\n"
     ]
    },
    {
     "data": {
      "text/html": [],
      "text/plain": [
       "<IPython.core.display.HTML object>"
      ]
     },
     "metadata": {},
     "output_type": "display_data"
    },
    {
     "data": {
      "text/html": [
       "<br>    <style><br>        .wandb-row {<br>            display: flex;<br>            flex-direction: row;<br>            flex-wrap: wrap;<br>            justify-content: flex-start;<br>            width: 100%;<br>        }<br>        .wandb-col {<br>            display: flex;<br>            flex-direction: column;<br>            flex-basis: 100%;<br>            flex: 1;<br>            padding: 10px;<br>        }<br>    </style><br><div class=\"wandb-row\"><div class=\"wandb-col\"><h3>Run history:</h3><br/><table class=\"wandb\"><tr><td>f1_score</td><td>▁</td></tr><tr><td>f1_score_train</td><td>▁</td></tr><tr><td>f1_score_valid</td><td>▁</td></tr></table><br/></div><div class=\"wandb-col\"><h3>Run summary:</h3><br/><table class=\"wandb\"><tr><td>f1_score</td><td>0.68724</td></tr><tr><td>f1_score_train</td><td>0.79886</td></tr><tr><td>f1_score_valid</td><td>0.58894</td></tr></table><br/></div></div>"
      ],
      "text/plain": [
       "<IPython.core.display.HTML object>"
      ]
     },
     "metadata": {},
     "output_type": "display_data"
    },
    {
     "data": {
      "text/html": [
       " View run <strong style=\"color:#cdcd00\">serene-sweep-57</strong> at: <a href='https://wandb.ai/ahujavaibhav2001-st-lawrence-college/Truck%20Delay%20Classification/runs/umhk3sam' target=\"_blank\">https://wandb.ai/ahujavaibhav2001-st-lawrence-college/Truck%20Delay%20Classification/runs/umhk3sam</a><br> View project at: <a href='https://wandb.ai/ahujavaibhav2001-st-lawrence-college/Truck%20Delay%20Classification' target=\"_blank\">https://wandb.ai/ahujavaibhav2001-st-lawrence-college/Truck%20Delay%20Classification</a><br>Synced 5 W&B file(s), 0 media file(s), 16 artifact file(s) and 7 other file(s)"
      ],
      "text/plain": [
       "<IPython.core.display.HTML object>"
      ]
     },
     "metadata": {},
     "output_type": "display_data"
    },
    {
     "data": {
      "text/html": [
       "Find logs at: <code>.\\wandb\\run-20241229_174306-umhk3sam\\logs</code>"
      ],
      "text/plain": [
       "<IPython.core.display.HTML object>"
      ]
     },
     "metadata": {},
     "output_type": "display_data"
    },
    {
     "name": "stderr",
     "output_type": "stream",
     "text": [
      "wandb: Agent Starting Run: l92le2ae with config:\n",
      "wandb: \tmax_depth: 15\n",
      "wandb: \tmin_samples_split: 8\n",
      "wandb: \tn_estimators: 12\n",
      "wandb: WARNING Ignoring project 'Truck Delay Classification' when running a sweep.\n"
     ]
    },
    {
     "data": {
      "text/html": [
       "Tracking run with wandb version 0.19.1"
      ],
      "text/plain": [
       "<IPython.core.display.HTML object>"
      ]
     },
     "metadata": {},
     "output_type": "display_data"
    },
    {
     "data": {
      "text/html": [
       "Run data is saved locally in <code>C:\\Users\\ahuja\\wandb\\run-20241229_174316-l92le2ae</code>"
      ],
      "text/plain": [
       "<IPython.core.display.HTML object>"
      ]
     },
     "metadata": {},
     "output_type": "display_data"
    },
    {
     "data": {
      "text/html": [
       "Syncing run <strong><a href='https://wandb.ai/ahujavaibhav2001-st-lawrence-college/Truck%20Delay%20Classification/runs/l92le2ae' target=\"_blank\">leafy-sweep-58</a></strong> to <a href='https://wandb.ai/ahujavaibhav2001-st-lawrence-college/Truck%20Delay%20Classification' target=\"_blank\">Weights & Biases</a> (<a href='https://wandb.me/developer-guide' target=\"_blank\">docs</a>)<br>Sweep page: <a href='https://wandb.ai/ahujavaibhav2001-st-lawrence-college/Truck%20Delay%20Classification/sweeps/9mnowi7x' target=\"_blank\">https://wandb.ai/ahujavaibhav2001-st-lawrence-college/Truck%20Delay%20Classification/sweeps/9mnowi7x</a>"
      ],
      "text/plain": [
       "<IPython.core.display.HTML object>"
      ]
     },
     "metadata": {},
     "output_type": "display_data"
    },
    {
     "data": {
      "text/html": [
       " View project at <a href='https://wandb.ai/ahujavaibhav2001-st-lawrence-college/Truck%20Delay%20Classification' target=\"_blank\">https://wandb.ai/ahujavaibhav2001-st-lawrence-college/Truck%20Delay%20Classification</a>"
      ],
      "text/plain": [
       "<IPython.core.display.HTML object>"
      ]
     },
     "metadata": {},
     "output_type": "display_data"
    },
    {
     "data": {
      "text/html": [
       " View sweep at <a href='https://wandb.ai/ahujavaibhav2001-st-lawrence-college/Truck%20Delay%20Classification/sweeps/9mnowi7x' target=\"_blank\">https://wandb.ai/ahujavaibhav2001-st-lawrence-college/Truck%20Delay%20Classification/sweeps/9mnowi7x</a>"
      ],
      "text/plain": [
       "<IPython.core.display.HTML object>"
      ]
     },
     "metadata": {},
     "output_type": "display_data"
    },
    {
     "data": {
      "text/html": [
       " View run at <a href='https://wandb.ai/ahujavaibhav2001-st-lawrence-college/Truck%20Delay%20Classification/runs/l92le2ae' target=\"_blank\">https://wandb.ai/ahujavaibhav2001-st-lawrence-college/Truck%20Delay%20Classification/runs/l92le2ae</a>"
      ],
      "text/plain": [
       "<IPython.core.display.HTML object>"
      ]
     },
     "metadata": {},
     "output_type": "display_data"
    },
    {
     "name": "stdout",
     "output_type": "stream",
     "text": [
      "F1_score Train: 0.8182\n",
      "F1_score Valid: 0.621\n",
      "F1_score Test: 0.7126\n"
     ]
    },
    {
     "name": "stderr",
     "output_type": "stream",
     "text": [
      "wandb: \n",
      "wandb: Plotting RandomForestClassifier.\n",
      "UserWarning: X does not have valid feature names, but RandomForestClassifier was fitted with feature names\n",
      "wandb: Logged feature importances.\n",
      "wandb: Logged confusion matrix.\n",
      "UserWarning: X does not have valid feature names, but RandomForestClassifier was fitted with feature names\n",
      "wandb: Logged summary metrics.\n",
      "wandb: Logged class proportions.\n",
      "UserWarning: X does not have valid feature names, but RandomForestClassifier was fitted with feature names\n",
      "ConvergenceWarning: lbfgs failed to converge (status=1):\n",
      "STOP: TOTAL NO. of ITERATIONS REACHED LIMIT.\n",
      "\n",
      "Increase the number of iterations (max_iter) or scale the data as shown in:\n",
      "    https://scikit-learn.org/stable/modules/preprocessing.html\n",
      "Please also refer to the documentation for alternative solver options:\n",
      "    https://scikit-learn.org/stable/modules/linear_model.html#logistic-regression\n",
      "wandb: Logged calibration curve.\n",
      "wandb: Logged roc curve.\n",
      "wandb: Logged precision-recall curve.\n"
     ]
    },
    {
     "data": {
      "text/html": [],
      "text/plain": [
       "<IPython.core.display.HTML object>"
      ]
     },
     "metadata": {},
     "output_type": "display_data"
    },
    {
     "data": {
      "text/html": [
       "<br>    <style><br>        .wandb-row {<br>            display: flex;<br>            flex-direction: row;<br>            flex-wrap: wrap;<br>            justify-content: flex-start;<br>            width: 100%;<br>        }<br>        .wandb-col {<br>            display: flex;<br>            flex-direction: column;<br>            flex-basis: 100%;<br>            flex: 1;<br>            padding: 10px;<br>        }<br>    </style><br><div class=\"wandb-row\"><div class=\"wandb-col\"><h3>Run history:</h3><br/><table class=\"wandb\"><tr><td>f1_score</td><td>▁</td></tr><tr><td>f1_score_train</td><td>▁</td></tr><tr><td>f1_score_valid</td><td>▁</td></tr></table><br/></div><div class=\"wandb-col\"><h3>Run summary:</h3><br/><table class=\"wandb\"><tr><td>f1_score</td><td>0.71258</td></tr><tr><td>f1_score_train</td><td>0.81824</td></tr><tr><td>f1_score_valid</td><td>0.62097</td></tr></table><br/></div></div>"
      ],
      "text/plain": [
       "<IPython.core.display.HTML object>"
      ]
     },
     "metadata": {},
     "output_type": "display_data"
    },
    {
     "data": {
      "text/html": [
       " View run <strong style=\"color:#cdcd00\">leafy-sweep-58</strong> at: <a href='https://wandb.ai/ahujavaibhav2001-st-lawrence-college/Truck%20Delay%20Classification/runs/l92le2ae' target=\"_blank\">https://wandb.ai/ahujavaibhav2001-st-lawrence-college/Truck%20Delay%20Classification/runs/l92le2ae</a><br> View project at: <a href='https://wandb.ai/ahujavaibhav2001-st-lawrence-college/Truck%20Delay%20Classification' target=\"_blank\">https://wandb.ai/ahujavaibhav2001-st-lawrence-college/Truck%20Delay%20Classification</a><br>Synced 5 W&B file(s), 0 media file(s), 16 artifact file(s) and 7 other file(s)"
      ],
      "text/plain": [
       "<IPython.core.display.HTML object>"
      ]
     },
     "metadata": {},
     "output_type": "display_data"
    },
    {
     "data": {
      "text/html": [
       "Find logs at: <code>.\\wandb\\run-20241229_174316-l92le2ae\\logs</code>"
      ],
      "text/plain": [
       "<IPython.core.display.HTML object>"
      ]
     },
     "metadata": {},
     "output_type": "display_data"
    },
    {
     "name": "stderr",
     "output_type": "stream",
     "text": [
      "wandb: Agent Starting Run: i17w6kzi with config:\n",
      "wandb: \tmax_depth: 15\n",
      "wandb: \tmin_samples_split: 8\n",
      "wandb: \tn_estimators: 16\n",
      "wandb: WARNING Ignoring project 'Truck Delay Classification' when running a sweep.\n"
     ]
    },
    {
     "data": {
      "text/html": [
       "Tracking run with wandb version 0.19.1"
      ],
      "text/plain": [
       "<IPython.core.display.HTML object>"
      ]
     },
     "metadata": {},
     "output_type": "display_data"
    },
    {
     "data": {
      "text/html": [
       "Run data is saved locally in <code>C:\\Users\\ahuja\\wandb\\run-20241229_174327-i17w6kzi</code>"
      ],
      "text/plain": [
       "<IPython.core.display.HTML object>"
      ]
     },
     "metadata": {},
     "output_type": "display_data"
    },
    {
     "data": {
      "text/html": [
       "Syncing run <strong><a href='https://wandb.ai/ahujavaibhav2001-st-lawrence-college/Truck%20Delay%20Classification/runs/i17w6kzi' target=\"_blank\">apricot-sweep-59</a></strong> to <a href='https://wandb.ai/ahujavaibhav2001-st-lawrence-college/Truck%20Delay%20Classification' target=\"_blank\">Weights & Biases</a> (<a href='https://wandb.me/developer-guide' target=\"_blank\">docs</a>)<br>Sweep page: <a href='https://wandb.ai/ahujavaibhav2001-st-lawrence-college/Truck%20Delay%20Classification/sweeps/9mnowi7x' target=\"_blank\">https://wandb.ai/ahujavaibhav2001-st-lawrence-college/Truck%20Delay%20Classification/sweeps/9mnowi7x</a>"
      ],
      "text/plain": [
       "<IPython.core.display.HTML object>"
      ]
     },
     "metadata": {},
     "output_type": "display_data"
    },
    {
     "data": {
      "text/html": [
       " View project at <a href='https://wandb.ai/ahujavaibhav2001-st-lawrence-college/Truck%20Delay%20Classification' target=\"_blank\">https://wandb.ai/ahujavaibhav2001-st-lawrence-college/Truck%20Delay%20Classification</a>"
      ],
      "text/plain": [
       "<IPython.core.display.HTML object>"
      ]
     },
     "metadata": {},
     "output_type": "display_data"
    },
    {
     "data": {
      "text/html": [
       " View sweep at <a href='https://wandb.ai/ahujavaibhav2001-st-lawrence-college/Truck%20Delay%20Classification/sweeps/9mnowi7x' target=\"_blank\">https://wandb.ai/ahujavaibhav2001-st-lawrence-college/Truck%20Delay%20Classification/sweeps/9mnowi7x</a>"
      ],
      "text/plain": [
       "<IPython.core.display.HTML object>"
      ]
     },
     "metadata": {},
     "output_type": "display_data"
    },
    {
     "data": {
      "text/html": [
       " View run at <a href='https://wandb.ai/ahujavaibhav2001-st-lawrence-college/Truck%20Delay%20Classification/runs/i17w6kzi' target=\"_blank\">https://wandb.ai/ahujavaibhav2001-st-lawrence-college/Truck%20Delay%20Classification/runs/i17w6kzi</a>"
      ],
      "text/plain": [
       "<IPython.core.display.HTML object>"
      ]
     },
     "metadata": {},
     "output_type": "display_data"
    },
    {
     "name": "stdout",
     "output_type": "stream",
     "text": [
      "F1_score Train: 0.8232\n",
      "F1_score Valid: 0.6255\n",
      "F1_score Test: 0.7089\n"
     ]
    },
    {
     "name": "stderr",
     "output_type": "stream",
     "text": [
      "wandb: \n",
      "wandb: Plotting RandomForestClassifier.\n",
      "UserWarning: X does not have valid feature names, but RandomForestClassifier was fitted with feature names\n",
      "wandb: Logged feature importances.\n",
      "wandb: Logged confusion matrix.\n",
      "UserWarning: X does not have valid feature names, but RandomForestClassifier was fitted with feature names\n",
      "wandb: Logged summary metrics.\n",
      "wandb: Logged class proportions.\n",
      "UserWarning: X does not have valid feature names, but RandomForestClassifier was fitted with feature names\n",
      "ConvergenceWarning: lbfgs failed to converge (status=1):\n",
      "STOP: TOTAL NO. of ITERATIONS REACHED LIMIT.\n",
      "\n",
      "Increase the number of iterations (max_iter) or scale the data as shown in:\n",
      "    https://scikit-learn.org/stable/modules/preprocessing.html\n",
      "Please also refer to the documentation for alternative solver options:\n",
      "    https://scikit-learn.org/stable/modules/linear_model.html#logistic-regression\n",
      "wandb: Logged calibration curve.\n",
      "wandb: Logged roc curve.\n",
      "wandb: Logged precision-recall curve.\n"
     ]
    },
    {
     "data": {
      "text/html": [],
      "text/plain": [
       "<IPython.core.display.HTML object>"
      ]
     },
     "metadata": {},
     "output_type": "display_data"
    },
    {
     "data": {
      "text/html": [
       "<br>    <style><br>        .wandb-row {<br>            display: flex;<br>            flex-direction: row;<br>            flex-wrap: wrap;<br>            justify-content: flex-start;<br>            width: 100%;<br>        }<br>        .wandb-col {<br>            display: flex;<br>            flex-direction: column;<br>            flex-basis: 100%;<br>            flex: 1;<br>            padding: 10px;<br>        }<br>    </style><br><div class=\"wandb-row\"><div class=\"wandb-col\"><h3>Run history:</h3><br/><table class=\"wandb\"><tr><td>f1_score</td><td>▁</td></tr><tr><td>f1_score_train</td><td>▁</td></tr><tr><td>f1_score_valid</td><td>▁</td></tr></table><br/></div><div class=\"wandb-col\"><h3>Run summary:</h3><br/><table class=\"wandb\"><tr><td>f1_score</td><td>0.70895</td></tr><tr><td>f1_score_train</td><td>0.82319</td></tr><tr><td>f1_score_valid</td><td>0.62551</td></tr></table><br/></div></div>"
      ],
      "text/plain": [
       "<IPython.core.display.HTML object>"
      ]
     },
     "metadata": {},
     "output_type": "display_data"
    },
    {
     "data": {
      "text/html": [
       " View run <strong style=\"color:#cdcd00\">apricot-sweep-59</strong> at: <a href='https://wandb.ai/ahujavaibhav2001-st-lawrence-college/Truck%20Delay%20Classification/runs/i17w6kzi' target=\"_blank\">https://wandb.ai/ahujavaibhav2001-st-lawrence-college/Truck%20Delay%20Classification/runs/i17w6kzi</a><br> View project at: <a href='https://wandb.ai/ahujavaibhav2001-st-lawrence-college/Truck%20Delay%20Classification' target=\"_blank\">https://wandb.ai/ahujavaibhav2001-st-lawrence-college/Truck%20Delay%20Classification</a><br>Synced 5 W&B file(s), 0 media file(s), 16 artifact file(s) and 7 other file(s)"
      ],
      "text/plain": [
       "<IPython.core.display.HTML object>"
      ]
     },
     "metadata": {},
     "output_type": "display_data"
    },
    {
     "data": {
      "text/html": [
       "Find logs at: <code>.\\wandb\\run-20241229_174327-i17w6kzi\\logs</code>"
      ],
      "text/plain": [
       "<IPython.core.display.HTML object>"
      ]
     },
     "metadata": {},
     "output_type": "display_data"
    },
    {
     "name": "stderr",
     "output_type": "stream",
     "text": [
      "wandb: Agent Starting Run: jxz61mxg with config:\n",
      "wandb: \tmax_depth: 15\n",
      "wandb: \tmin_samples_split: 8\n",
      "wandb: \tn_estimators: 20\n",
      "wandb: WARNING Ignoring project 'Truck Delay Classification' when running a sweep.\n"
     ]
    },
    {
     "data": {
      "text/html": [
       "Tracking run with wandb version 0.19.1"
      ],
      "text/plain": [
       "<IPython.core.display.HTML object>"
      ]
     },
     "metadata": {},
     "output_type": "display_data"
    },
    {
     "data": {
      "text/html": [
       "Run data is saved locally in <code>C:\\Users\\ahuja\\wandb\\run-20241229_174337-jxz61mxg</code>"
      ],
      "text/plain": [
       "<IPython.core.display.HTML object>"
      ]
     },
     "metadata": {},
     "output_type": "display_data"
    },
    {
     "data": {
      "text/html": [
       "Syncing run <strong><a href='https://wandb.ai/ahujavaibhav2001-st-lawrence-college/Truck%20Delay%20Classification/runs/jxz61mxg' target=\"_blank\">driven-sweep-60</a></strong> to <a href='https://wandb.ai/ahujavaibhav2001-st-lawrence-college/Truck%20Delay%20Classification' target=\"_blank\">Weights & Biases</a> (<a href='https://wandb.me/developer-guide' target=\"_blank\">docs</a>)<br>Sweep page: <a href='https://wandb.ai/ahujavaibhav2001-st-lawrence-college/Truck%20Delay%20Classification/sweeps/9mnowi7x' target=\"_blank\">https://wandb.ai/ahujavaibhav2001-st-lawrence-college/Truck%20Delay%20Classification/sweeps/9mnowi7x</a>"
      ],
      "text/plain": [
       "<IPython.core.display.HTML object>"
      ]
     },
     "metadata": {},
     "output_type": "display_data"
    },
    {
     "data": {
      "text/html": [
       " View project at <a href='https://wandb.ai/ahujavaibhav2001-st-lawrence-college/Truck%20Delay%20Classification' target=\"_blank\">https://wandb.ai/ahujavaibhav2001-st-lawrence-college/Truck%20Delay%20Classification</a>"
      ],
      "text/plain": [
       "<IPython.core.display.HTML object>"
      ]
     },
     "metadata": {},
     "output_type": "display_data"
    },
    {
     "data": {
      "text/html": [
       " View sweep at <a href='https://wandb.ai/ahujavaibhav2001-st-lawrence-college/Truck%20Delay%20Classification/sweeps/9mnowi7x' target=\"_blank\">https://wandb.ai/ahujavaibhav2001-st-lawrence-college/Truck%20Delay%20Classification/sweeps/9mnowi7x</a>"
      ],
      "text/plain": [
       "<IPython.core.display.HTML object>"
      ]
     },
     "metadata": {},
     "output_type": "display_data"
    },
    {
     "data": {
      "text/html": [
       " View run at <a href='https://wandb.ai/ahujavaibhav2001-st-lawrence-college/Truck%20Delay%20Classification/runs/jxz61mxg' target=\"_blank\">https://wandb.ai/ahujavaibhav2001-st-lawrence-college/Truck%20Delay%20Classification/runs/jxz61mxg</a>"
      ],
      "text/plain": [
       "<IPython.core.display.HTML object>"
      ]
     },
     "metadata": {},
     "output_type": "display_data"
    },
    {
     "name": "stdout",
     "output_type": "stream",
     "text": [
      "F1_score Train: 0.8271\n",
      "F1_score Valid: 0.6236\n",
      "F1_score Test: 0.7041\n"
     ]
    },
    {
     "name": "stderr",
     "output_type": "stream",
     "text": [
      "wandb: \n",
      "wandb: Plotting RandomForestClassifier.\n",
      "UserWarning: X does not have valid feature names, but RandomForestClassifier was fitted with feature names\n",
      "wandb: Logged feature importances.\n",
      "wandb: Logged confusion matrix.\n",
      "UserWarning: X does not have valid feature names, but RandomForestClassifier was fitted with feature names\n",
      "wandb: Logged summary metrics.\n",
      "wandb: Logged class proportions.\n",
      "UserWarning: X does not have valid feature names, but RandomForestClassifier was fitted with feature names\n",
      "ConvergenceWarning: lbfgs failed to converge (status=1):\n",
      "STOP: TOTAL NO. of ITERATIONS REACHED LIMIT.\n",
      "\n",
      "Increase the number of iterations (max_iter) or scale the data as shown in:\n",
      "    https://scikit-learn.org/stable/modules/preprocessing.html\n",
      "Please also refer to the documentation for alternative solver options:\n",
      "    https://scikit-learn.org/stable/modules/linear_model.html#logistic-regression\n",
      "wandb: Logged calibration curve.\n",
      "wandb: Logged roc curve.\n",
      "wandb: Logged precision-recall curve.\n"
     ]
    },
    {
     "data": {
      "text/html": [],
      "text/plain": [
       "<IPython.core.display.HTML object>"
      ]
     },
     "metadata": {},
     "output_type": "display_data"
    },
    {
     "data": {
      "text/html": [
       "<br>    <style><br>        .wandb-row {<br>            display: flex;<br>            flex-direction: row;<br>            flex-wrap: wrap;<br>            justify-content: flex-start;<br>            width: 100%;<br>        }<br>        .wandb-col {<br>            display: flex;<br>            flex-direction: column;<br>            flex-basis: 100%;<br>            flex: 1;<br>            padding: 10px;<br>        }<br>    </style><br><div class=\"wandb-row\"><div class=\"wandb-col\"><h3>Run history:</h3><br/><table class=\"wandb\"><tr><td>f1_score</td><td>▁</td></tr><tr><td>f1_score_train</td><td>▁</td></tr><tr><td>f1_score_valid</td><td>▁</td></tr></table><br/></div><div class=\"wandb-col\"><h3>Run summary:</h3><br/><table class=\"wandb\"><tr><td>f1_score</td><td>0.70413</td></tr><tr><td>f1_score_train</td><td>0.82712</td></tr><tr><td>f1_score_valid</td><td>0.62355</td></tr></table><br/></div></div>"
      ],
      "text/plain": [
       "<IPython.core.display.HTML object>"
      ]
     },
     "metadata": {},
     "output_type": "display_data"
    },
    {
     "data": {
      "text/html": [
       " View run <strong style=\"color:#cdcd00\">driven-sweep-60</strong> at: <a href='https://wandb.ai/ahujavaibhav2001-st-lawrence-college/Truck%20Delay%20Classification/runs/jxz61mxg' target=\"_blank\">https://wandb.ai/ahujavaibhav2001-st-lawrence-college/Truck%20Delay%20Classification/runs/jxz61mxg</a><br> View project at: <a href='https://wandb.ai/ahujavaibhav2001-st-lawrence-college/Truck%20Delay%20Classification' target=\"_blank\">https://wandb.ai/ahujavaibhav2001-st-lawrence-college/Truck%20Delay%20Classification</a><br>Synced 5 W&B file(s), 0 media file(s), 16 artifact file(s) and 7 other file(s)"
      ],
      "text/plain": [
       "<IPython.core.display.HTML object>"
      ]
     },
     "metadata": {},
     "output_type": "display_data"
    },
    {
     "data": {
      "text/html": [
       "Find logs at: <code>.\\wandb\\run-20241229_174337-jxz61mxg\\logs</code>"
      ],
      "text/plain": [
       "<IPython.core.display.HTML object>"
      ]
     },
     "metadata": {},
     "output_type": "display_data"
    },
    {
     "name": "stderr",
     "output_type": "stream",
     "text": [
      "wandb: Agent Starting Run: j1a6xhbn with config:\n",
      "wandb: \tmax_depth: 15\n",
      "wandb: \tmin_samples_split: 12\n",
      "wandb: \tn_estimators: 8\n",
      "wandb: WARNING Ignoring project 'Truck Delay Classification' when running a sweep.\n"
     ]
    },
    {
     "data": {
      "text/html": [
       "Tracking run with wandb version 0.19.1"
      ],
      "text/plain": [
       "<IPython.core.display.HTML object>"
      ]
     },
     "metadata": {},
     "output_type": "display_data"
    },
    {
     "data": {
      "text/html": [
       "Run data is saved locally in <code>C:\\Users\\ahuja\\wandb\\run-20241229_174347-j1a6xhbn</code>"
      ],
      "text/plain": [
       "<IPython.core.display.HTML object>"
      ]
     },
     "metadata": {},
     "output_type": "display_data"
    },
    {
     "data": {
      "text/html": [
       "Syncing run <strong><a href='https://wandb.ai/ahujavaibhav2001-st-lawrence-college/Truck%20Delay%20Classification/runs/j1a6xhbn' target=\"_blank\">ancient-sweep-61</a></strong> to <a href='https://wandb.ai/ahujavaibhav2001-st-lawrence-college/Truck%20Delay%20Classification' target=\"_blank\">Weights & Biases</a> (<a href='https://wandb.me/developer-guide' target=\"_blank\">docs</a>)<br>Sweep page: <a href='https://wandb.ai/ahujavaibhav2001-st-lawrence-college/Truck%20Delay%20Classification/sweeps/9mnowi7x' target=\"_blank\">https://wandb.ai/ahujavaibhav2001-st-lawrence-college/Truck%20Delay%20Classification/sweeps/9mnowi7x</a>"
      ],
      "text/plain": [
       "<IPython.core.display.HTML object>"
      ]
     },
     "metadata": {},
     "output_type": "display_data"
    },
    {
     "data": {
      "text/html": [
       " View project at <a href='https://wandb.ai/ahujavaibhav2001-st-lawrence-college/Truck%20Delay%20Classification' target=\"_blank\">https://wandb.ai/ahujavaibhav2001-st-lawrence-college/Truck%20Delay%20Classification</a>"
      ],
      "text/plain": [
       "<IPython.core.display.HTML object>"
      ]
     },
     "metadata": {},
     "output_type": "display_data"
    },
    {
     "data": {
      "text/html": [
       " View sweep at <a href='https://wandb.ai/ahujavaibhav2001-st-lawrence-college/Truck%20Delay%20Classification/sweeps/9mnowi7x' target=\"_blank\">https://wandb.ai/ahujavaibhav2001-st-lawrence-college/Truck%20Delay%20Classification/sweeps/9mnowi7x</a>"
      ],
      "text/plain": [
       "<IPython.core.display.HTML object>"
      ]
     },
     "metadata": {},
     "output_type": "display_data"
    },
    {
     "data": {
      "text/html": [
       " View run at <a href='https://wandb.ai/ahujavaibhav2001-st-lawrence-college/Truck%20Delay%20Classification/runs/j1a6xhbn' target=\"_blank\">https://wandb.ai/ahujavaibhav2001-st-lawrence-college/Truck%20Delay%20Classification/runs/j1a6xhbn</a>"
      ],
      "text/plain": [
       "<IPython.core.display.HTML object>"
      ]
     },
     "metadata": {},
     "output_type": "display_data"
    },
    {
     "name": "stdout",
     "output_type": "stream",
     "text": [
      "F1_score Train: 0.7851\n",
      "F1_score Valid: 0.6216\n",
      "F1_score Test: 0.7011\n"
     ]
    },
    {
     "name": "stderr",
     "output_type": "stream",
     "text": [
      "wandb: \n",
      "wandb: Plotting RandomForestClassifier.\n",
      "UserWarning: X does not have valid feature names, but RandomForestClassifier was fitted with feature names\n",
      "wandb: Logged feature importances.\n",
      "wandb: Logged confusion matrix.\n",
      "UserWarning: X does not have valid feature names, but RandomForestClassifier was fitted with feature names\n",
      "wandb: Logged summary metrics.\n",
      "wandb: Logged class proportions.\n",
      "UserWarning: X does not have valid feature names, but RandomForestClassifier was fitted with feature names\n",
      "ConvergenceWarning: lbfgs failed to converge (status=1):\n",
      "STOP: TOTAL NO. of ITERATIONS REACHED LIMIT.\n",
      "\n",
      "Increase the number of iterations (max_iter) or scale the data as shown in:\n",
      "    https://scikit-learn.org/stable/modules/preprocessing.html\n",
      "Please also refer to the documentation for alternative solver options:\n",
      "    https://scikit-learn.org/stable/modules/linear_model.html#logistic-regression\n",
      "wandb: Logged calibration curve.\n",
      "wandb: Logged roc curve.\n",
      "wandb: Logged precision-recall curve.\n"
     ]
    },
    {
     "data": {
      "text/html": [],
      "text/plain": [
       "<IPython.core.display.HTML object>"
      ]
     },
     "metadata": {},
     "output_type": "display_data"
    },
    {
     "data": {
      "text/html": [
       "<br>    <style><br>        .wandb-row {<br>            display: flex;<br>            flex-direction: row;<br>            flex-wrap: wrap;<br>            justify-content: flex-start;<br>            width: 100%;<br>        }<br>        .wandb-col {<br>            display: flex;<br>            flex-direction: column;<br>            flex-basis: 100%;<br>            flex: 1;<br>            padding: 10px;<br>        }<br>    </style><br><div class=\"wandb-row\"><div class=\"wandb-col\"><h3>Run history:</h3><br/><table class=\"wandb\"><tr><td>f1_score</td><td>▁</td></tr><tr><td>f1_score_train</td><td>▁</td></tr><tr><td>f1_score_valid</td><td>▁</td></tr></table><br/></div><div class=\"wandb-col\"><h3>Run summary:</h3><br/><table class=\"wandb\"><tr><td>f1_score</td><td>0.70113</td></tr><tr><td>f1_score_train</td><td>0.78511</td></tr><tr><td>f1_score_valid</td><td>0.62159</td></tr></table><br/></div></div>"
      ],
      "text/plain": [
       "<IPython.core.display.HTML object>"
      ]
     },
     "metadata": {},
     "output_type": "display_data"
    },
    {
     "data": {
      "text/html": [
       " View run <strong style=\"color:#cdcd00\">ancient-sweep-61</strong> at: <a href='https://wandb.ai/ahujavaibhav2001-st-lawrence-college/Truck%20Delay%20Classification/runs/j1a6xhbn' target=\"_blank\">https://wandb.ai/ahujavaibhav2001-st-lawrence-college/Truck%20Delay%20Classification/runs/j1a6xhbn</a><br> View project at: <a href='https://wandb.ai/ahujavaibhav2001-st-lawrence-college/Truck%20Delay%20Classification' target=\"_blank\">https://wandb.ai/ahujavaibhav2001-st-lawrence-college/Truck%20Delay%20Classification</a><br>Synced 5 W&B file(s), 0 media file(s), 16 artifact file(s) and 7 other file(s)"
      ],
      "text/plain": [
       "<IPython.core.display.HTML object>"
      ]
     },
     "metadata": {},
     "output_type": "display_data"
    },
    {
     "data": {
      "text/html": [
       "Find logs at: <code>.\\wandb\\run-20241229_174347-j1a6xhbn\\logs</code>"
      ],
      "text/plain": [
       "<IPython.core.display.HTML object>"
      ]
     },
     "metadata": {},
     "output_type": "display_data"
    },
    {
     "name": "stderr",
     "output_type": "stream",
     "text": [
      "wandb: Agent Starting Run: xa1fjdzv with config:\n",
      "wandb: \tmax_depth: 15\n",
      "wandb: \tmin_samples_split: 12\n",
      "wandb: \tn_estimators: 12\n",
      "wandb: WARNING Ignoring project 'Truck Delay Classification' when running a sweep.\n"
     ]
    },
    {
     "data": {
      "text/html": [
       "Tracking run with wandb version 0.19.1"
      ],
      "text/plain": [
       "<IPython.core.display.HTML object>"
      ]
     },
     "metadata": {},
     "output_type": "display_data"
    },
    {
     "data": {
      "text/html": [
       "Run data is saved locally in <code>C:\\Users\\ahuja\\wandb\\run-20241229_174358-xa1fjdzv</code>"
      ],
      "text/plain": [
       "<IPython.core.display.HTML object>"
      ]
     },
     "metadata": {},
     "output_type": "display_data"
    },
    {
     "data": {
      "text/html": [
       "Syncing run <strong><a href='https://wandb.ai/ahujavaibhav2001-st-lawrence-college/Truck%20Delay%20Classification/runs/xa1fjdzv' target=\"_blank\">fragrant-sweep-62</a></strong> to <a href='https://wandb.ai/ahujavaibhav2001-st-lawrence-college/Truck%20Delay%20Classification' target=\"_blank\">Weights & Biases</a> (<a href='https://wandb.me/developer-guide' target=\"_blank\">docs</a>)<br>Sweep page: <a href='https://wandb.ai/ahujavaibhav2001-st-lawrence-college/Truck%20Delay%20Classification/sweeps/9mnowi7x' target=\"_blank\">https://wandb.ai/ahujavaibhav2001-st-lawrence-college/Truck%20Delay%20Classification/sweeps/9mnowi7x</a>"
      ],
      "text/plain": [
       "<IPython.core.display.HTML object>"
      ]
     },
     "metadata": {},
     "output_type": "display_data"
    },
    {
     "data": {
      "text/html": [
       " View project at <a href='https://wandb.ai/ahujavaibhav2001-st-lawrence-college/Truck%20Delay%20Classification' target=\"_blank\">https://wandb.ai/ahujavaibhav2001-st-lawrence-college/Truck%20Delay%20Classification</a>"
      ],
      "text/plain": [
       "<IPython.core.display.HTML object>"
      ]
     },
     "metadata": {},
     "output_type": "display_data"
    },
    {
     "data": {
      "text/html": [
       " View sweep at <a href='https://wandb.ai/ahujavaibhav2001-st-lawrence-college/Truck%20Delay%20Classification/sweeps/9mnowi7x' target=\"_blank\">https://wandb.ai/ahujavaibhav2001-st-lawrence-college/Truck%20Delay%20Classification/sweeps/9mnowi7x</a>"
      ],
      "text/plain": [
       "<IPython.core.display.HTML object>"
      ]
     },
     "metadata": {},
     "output_type": "display_data"
    },
    {
     "data": {
      "text/html": [
       " View run at <a href='https://wandb.ai/ahujavaibhav2001-st-lawrence-college/Truck%20Delay%20Classification/runs/xa1fjdzv' target=\"_blank\">https://wandb.ai/ahujavaibhav2001-st-lawrence-college/Truck%20Delay%20Classification/runs/xa1fjdzv</a>"
      ],
      "text/plain": [
       "<IPython.core.display.HTML object>"
      ]
     },
     "metadata": {},
     "output_type": "display_data"
    },
    {
     "name": "stdout",
     "output_type": "stream",
     "text": [
      "F1_score Train: 0.788\n",
      "F1_score Valid: 0.6399\n",
      "F1_score Test: 0.723\n"
     ]
    },
    {
     "name": "stderr",
     "output_type": "stream",
     "text": [
      "wandb: \n",
      "wandb: Plotting RandomForestClassifier.\n",
      "UserWarning: X does not have valid feature names, but RandomForestClassifier was fitted with feature names\n",
      "wandb: Logged feature importances.\n",
      "wandb: Logged confusion matrix.\n",
      "UserWarning: X does not have valid feature names, but RandomForestClassifier was fitted with feature names\n",
      "wandb: Logged summary metrics.\n",
      "wandb: Logged class proportions.\n",
      "UserWarning: X does not have valid feature names, but RandomForestClassifier was fitted with feature names\n",
      "ConvergenceWarning: lbfgs failed to converge (status=1):\n",
      "STOP: TOTAL NO. of ITERATIONS REACHED LIMIT.\n",
      "\n",
      "Increase the number of iterations (max_iter) or scale the data as shown in:\n",
      "    https://scikit-learn.org/stable/modules/preprocessing.html\n",
      "Please also refer to the documentation for alternative solver options:\n",
      "    https://scikit-learn.org/stable/modules/linear_model.html#logistic-regression\n",
      "wandb: Logged calibration curve.\n",
      "wandb: Logged roc curve.\n",
      "wandb: Logged precision-recall curve.\n"
     ]
    },
    {
     "data": {
      "text/html": [],
      "text/plain": [
       "<IPython.core.display.HTML object>"
      ]
     },
     "metadata": {},
     "output_type": "display_data"
    },
    {
     "data": {
      "text/html": [
       "<br>    <style><br>        .wandb-row {<br>            display: flex;<br>            flex-direction: row;<br>            flex-wrap: wrap;<br>            justify-content: flex-start;<br>            width: 100%;<br>        }<br>        .wandb-col {<br>            display: flex;<br>            flex-direction: column;<br>            flex-basis: 100%;<br>            flex: 1;<br>            padding: 10px;<br>        }<br>    </style><br><div class=\"wandb-row\"><div class=\"wandb-col\"><h3>Run history:</h3><br/><table class=\"wandb\"><tr><td>f1_score</td><td>▁</td></tr><tr><td>f1_score_train</td><td>▁</td></tr><tr><td>f1_score_valid</td><td>▁</td></tr></table><br/></div><div class=\"wandb-col\"><h3>Run summary:</h3><br/><table class=\"wandb\"><tr><td>f1_score</td><td>0.72299</td></tr><tr><td>f1_score_train</td><td>0.78798</td></tr><tr><td>f1_score_valid</td><td>0.63989</td></tr></table><br/></div></div>"
      ],
      "text/plain": [
       "<IPython.core.display.HTML object>"
      ]
     },
     "metadata": {},
     "output_type": "display_data"
    },
    {
     "data": {
      "text/html": [
       " View run <strong style=\"color:#cdcd00\">fragrant-sweep-62</strong> at: <a href='https://wandb.ai/ahujavaibhav2001-st-lawrence-college/Truck%20Delay%20Classification/runs/xa1fjdzv' target=\"_blank\">https://wandb.ai/ahujavaibhav2001-st-lawrence-college/Truck%20Delay%20Classification/runs/xa1fjdzv</a><br> View project at: <a href='https://wandb.ai/ahujavaibhav2001-st-lawrence-college/Truck%20Delay%20Classification' target=\"_blank\">https://wandb.ai/ahujavaibhav2001-st-lawrence-college/Truck%20Delay%20Classification</a><br>Synced 5 W&B file(s), 0 media file(s), 16 artifact file(s) and 7 other file(s)"
      ],
      "text/plain": [
       "<IPython.core.display.HTML object>"
      ]
     },
     "metadata": {},
     "output_type": "display_data"
    },
    {
     "data": {
      "text/html": [
       "Find logs at: <code>.\\wandb\\run-20241229_174358-xa1fjdzv\\logs</code>"
      ],
      "text/plain": [
       "<IPython.core.display.HTML object>"
      ]
     },
     "metadata": {},
     "output_type": "display_data"
    },
    {
     "name": "stderr",
     "output_type": "stream",
     "text": [
      "wandb: Agent Starting Run: q2udy4n8 with config:\n",
      "wandb: \tmax_depth: 15\n",
      "wandb: \tmin_samples_split: 12\n",
      "wandb: \tn_estimators: 16\n",
      "wandb: WARNING Ignoring project 'Truck Delay Classification' when running a sweep.\n"
     ]
    },
    {
     "data": {
      "text/html": [
       "Tracking run with wandb version 0.19.1"
      ],
      "text/plain": [
       "<IPython.core.display.HTML object>"
      ]
     },
     "metadata": {},
     "output_type": "display_data"
    },
    {
     "data": {
      "text/html": [
       "Run data is saved locally in <code>C:\\Users\\ahuja\\wandb\\run-20241229_174408-q2udy4n8</code>"
      ],
      "text/plain": [
       "<IPython.core.display.HTML object>"
      ]
     },
     "metadata": {},
     "output_type": "display_data"
    },
    {
     "data": {
      "text/html": [
       "Syncing run <strong><a href='https://wandb.ai/ahujavaibhav2001-st-lawrence-college/Truck%20Delay%20Classification/runs/q2udy4n8' target=\"_blank\">leafy-sweep-63</a></strong> to <a href='https://wandb.ai/ahujavaibhav2001-st-lawrence-college/Truck%20Delay%20Classification' target=\"_blank\">Weights & Biases</a> (<a href='https://wandb.me/developer-guide' target=\"_blank\">docs</a>)<br>Sweep page: <a href='https://wandb.ai/ahujavaibhav2001-st-lawrence-college/Truck%20Delay%20Classification/sweeps/9mnowi7x' target=\"_blank\">https://wandb.ai/ahujavaibhav2001-st-lawrence-college/Truck%20Delay%20Classification/sweeps/9mnowi7x</a>"
      ],
      "text/plain": [
       "<IPython.core.display.HTML object>"
      ]
     },
     "metadata": {},
     "output_type": "display_data"
    },
    {
     "data": {
      "text/html": [
       " View project at <a href='https://wandb.ai/ahujavaibhav2001-st-lawrence-college/Truck%20Delay%20Classification' target=\"_blank\">https://wandb.ai/ahujavaibhav2001-st-lawrence-college/Truck%20Delay%20Classification</a>"
      ],
      "text/plain": [
       "<IPython.core.display.HTML object>"
      ]
     },
     "metadata": {},
     "output_type": "display_data"
    },
    {
     "data": {
      "text/html": [
       " View sweep at <a href='https://wandb.ai/ahujavaibhav2001-st-lawrence-college/Truck%20Delay%20Classification/sweeps/9mnowi7x' target=\"_blank\">https://wandb.ai/ahujavaibhav2001-st-lawrence-college/Truck%20Delay%20Classification/sweeps/9mnowi7x</a>"
      ],
      "text/plain": [
       "<IPython.core.display.HTML object>"
      ]
     },
     "metadata": {},
     "output_type": "display_data"
    },
    {
     "data": {
      "text/html": [
       " View run at <a href='https://wandb.ai/ahujavaibhav2001-st-lawrence-college/Truck%20Delay%20Classification/runs/q2udy4n8' target=\"_blank\">https://wandb.ai/ahujavaibhav2001-st-lawrence-college/Truck%20Delay%20Classification/runs/q2udy4n8</a>"
      ],
      "text/plain": [
       "<IPython.core.display.HTML object>"
      ]
     },
     "metadata": {},
     "output_type": "display_data"
    },
    {
     "name": "stdout",
     "output_type": "stream",
     "text": [
      "F1_score Train: 0.7946\n",
      "F1_score Valid: 0.6396\n",
      "F1_score Test: 0.7237\n"
     ]
    },
    {
     "name": "stderr",
     "output_type": "stream",
     "text": [
      "wandb: \n",
      "wandb: Plotting RandomForestClassifier.\n",
      "UserWarning: X does not have valid feature names, but RandomForestClassifier was fitted with feature names\n",
      "wandb: Logged feature importances.\n",
      "wandb: Logged confusion matrix.\n",
      "UserWarning: X does not have valid feature names, but RandomForestClassifier was fitted with feature names\n",
      "wandb: Logged summary metrics.\n",
      "wandb: Logged class proportions.\n",
      "UserWarning: X does not have valid feature names, but RandomForestClassifier was fitted with feature names\n",
      "ConvergenceWarning: lbfgs failed to converge (status=1):\n",
      "STOP: TOTAL NO. of ITERATIONS REACHED LIMIT.\n",
      "\n",
      "Increase the number of iterations (max_iter) or scale the data as shown in:\n",
      "    https://scikit-learn.org/stable/modules/preprocessing.html\n",
      "Please also refer to the documentation for alternative solver options:\n",
      "    https://scikit-learn.org/stable/modules/linear_model.html#logistic-regression\n",
      "wandb: Logged calibration curve.\n",
      "wandb: Logged roc curve.\n",
      "wandb: Logged precision-recall curve.\n"
     ]
    },
    {
     "data": {
      "text/html": [],
      "text/plain": [
       "<IPython.core.display.HTML object>"
      ]
     },
     "metadata": {},
     "output_type": "display_data"
    },
    {
     "data": {
      "text/html": [
       "<br>    <style><br>        .wandb-row {<br>            display: flex;<br>            flex-direction: row;<br>            flex-wrap: wrap;<br>            justify-content: flex-start;<br>            width: 100%;<br>        }<br>        .wandb-col {<br>            display: flex;<br>            flex-direction: column;<br>            flex-basis: 100%;<br>            flex: 1;<br>            padding: 10px;<br>        }<br>    </style><br><div class=\"wandb-row\"><div class=\"wandb-col\"><h3>Run history:</h3><br/><table class=\"wandb\"><tr><td>f1_score</td><td>▁</td></tr><tr><td>f1_score_train</td><td>▁</td></tr><tr><td>f1_score_valid</td><td>▁</td></tr></table><br/></div><div class=\"wandb-col\"><h3>Run summary:</h3><br/><table class=\"wandb\"><tr><td>f1_score</td><td>0.7237</td></tr><tr><td>f1_score_train</td><td>0.79458</td></tr><tr><td>f1_score_valid</td><td>0.63957</td></tr></table><br/></div></div>"
      ],
      "text/plain": [
       "<IPython.core.display.HTML object>"
      ]
     },
     "metadata": {},
     "output_type": "display_data"
    },
    {
     "data": {
      "text/html": [
       " View run <strong style=\"color:#cdcd00\">leafy-sweep-63</strong> at: <a href='https://wandb.ai/ahujavaibhav2001-st-lawrence-college/Truck%20Delay%20Classification/runs/q2udy4n8' target=\"_blank\">https://wandb.ai/ahujavaibhav2001-st-lawrence-college/Truck%20Delay%20Classification/runs/q2udy4n8</a><br> View project at: <a href='https://wandb.ai/ahujavaibhav2001-st-lawrence-college/Truck%20Delay%20Classification' target=\"_blank\">https://wandb.ai/ahujavaibhav2001-st-lawrence-college/Truck%20Delay%20Classification</a><br>Synced 5 W&B file(s), 0 media file(s), 16 artifact file(s) and 7 other file(s)"
      ],
      "text/plain": [
       "<IPython.core.display.HTML object>"
      ]
     },
     "metadata": {},
     "output_type": "display_data"
    },
    {
     "data": {
      "text/html": [
       "Find logs at: <code>.\\wandb\\run-20241229_174408-q2udy4n8\\logs</code>"
      ],
      "text/plain": [
       "<IPython.core.display.HTML object>"
      ]
     },
     "metadata": {},
     "output_type": "display_data"
    },
    {
     "name": "stderr",
     "output_type": "stream",
     "text": [
      "wandb: Agent Starting Run: 6lms02sy with config:\n",
      "wandb: \tmax_depth: 15\n",
      "wandb: \tmin_samples_split: 12\n",
      "wandb: \tn_estimators: 20\n",
      "wandb: WARNING Ignoring project 'Truck Delay Classification' when running a sweep.\n"
     ]
    },
    {
     "data": {
      "text/html": [
       "Tracking run with wandb version 0.19.1"
      ],
      "text/plain": [
       "<IPython.core.display.HTML object>"
      ]
     },
     "metadata": {},
     "output_type": "display_data"
    },
    {
     "data": {
      "text/html": [
       "Run data is saved locally in <code>C:\\Users\\ahuja\\wandb\\run-20241229_174418-6lms02sy</code>"
      ],
      "text/plain": [
       "<IPython.core.display.HTML object>"
      ]
     },
     "metadata": {},
     "output_type": "display_data"
    },
    {
     "data": {
      "text/html": [
       "Syncing run <strong><a href='https://wandb.ai/ahujavaibhav2001-st-lawrence-college/Truck%20Delay%20Classification/runs/6lms02sy' target=\"_blank\">jumping-sweep-64</a></strong> to <a href='https://wandb.ai/ahujavaibhav2001-st-lawrence-college/Truck%20Delay%20Classification' target=\"_blank\">Weights & Biases</a> (<a href='https://wandb.me/developer-guide' target=\"_blank\">docs</a>)<br>Sweep page: <a href='https://wandb.ai/ahujavaibhav2001-st-lawrence-college/Truck%20Delay%20Classification/sweeps/9mnowi7x' target=\"_blank\">https://wandb.ai/ahujavaibhav2001-st-lawrence-college/Truck%20Delay%20Classification/sweeps/9mnowi7x</a>"
      ],
      "text/plain": [
       "<IPython.core.display.HTML object>"
      ]
     },
     "metadata": {},
     "output_type": "display_data"
    },
    {
     "data": {
      "text/html": [
       " View project at <a href='https://wandb.ai/ahujavaibhav2001-st-lawrence-college/Truck%20Delay%20Classification' target=\"_blank\">https://wandb.ai/ahujavaibhav2001-st-lawrence-college/Truck%20Delay%20Classification</a>"
      ],
      "text/plain": [
       "<IPython.core.display.HTML object>"
      ]
     },
     "metadata": {},
     "output_type": "display_data"
    },
    {
     "data": {
      "text/html": [
       " View sweep at <a href='https://wandb.ai/ahujavaibhav2001-st-lawrence-college/Truck%20Delay%20Classification/sweeps/9mnowi7x' target=\"_blank\">https://wandb.ai/ahujavaibhav2001-st-lawrence-college/Truck%20Delay%20Classification/sweeps/9mnowi7x</a>"
      ],
      "text/plain": [
       "<IPython.core.display.HTML object>"
      ]
     },
     "metadata": {},
     "output_type": "display_data"
    },
    {
     "data": {
      "text/html": [
       " View run at <a href='https://wandb.ai/ahujavaibhav2001-st-lawrence-college/Truck%20Delay%20Classification/runs/6lms02sy' target=\"_blank\">https://wandb.ai/ahujavaibhav2001-st-lawrence-college/Truck%20Delay%20Classification/runs/6lms02sy</a>"
      ],
      "text/plain": [
       "<IPython.core.display.HTML object>"
      ]
     },
     "metadata": {},
     "output_type": "display_data"
    },
    {
     "name": "stdout",
     "output_type": "stream",
     "text": [
      "F1_score Train: 0.8002\n",
      "F1_score Valid: 0.6386\n",
      "F1_score Test: 0.7196\n"
     ]
    },
    {
     "name": "stderr",
     "output_type": "stream",
     "text": [
      "wandb: \n",
      "wandb: Plotting RandomForestClassifier.\n",
      "UserWarning: X does not have valid feature names, but RandomForestClassifier was fitted with feature names\n",
      "wandb: Logged feature importances.\n",
      "wandb: Logged confusion matrix.\n",
      "UserWarning: X does not have valid feature names, but RandomForestClassifier was fitted with feature names\n",
      "wandb: Logged summary metrics.\n",
      "wandb: Logged class proportions.\n",
      "UserWarning: X does not have valid feature names, but RandomForestClassifier was fitted with feature names\n",
      "ConvergenceWarning: lbfgs failed to converge (status=1):\n",
      "STOP: TOTAL NO. of ITERATIONS REACHED LIMIT.\n",
      "\n",
      "Increase the number of iterations (max_iter) or scale the data as shown in:\n",
      "    https://scikit-learn.org/stable/modules/preprocessing.html\n",
      "Please also refer to the documentation for alternative solver options:\n",
      "    https://scikit-learn.org/stable/modules/linear_model.html#logistic-regression\n",
      "wandb: Logged calibration curve.\n",
      "wandb: Logged roc curve.\n",
      "wandb: Logged precision-recall curve.\n"
     ]
    },
    {
     "data": {
      "text/html": [],
      "text/plain": [
       "<IPython.core.display.HTML object>"
      ]
     },
     "metadata": {},
     "output_type": "display_data"
    },
    {
     "data": {
      "text/html": [
       "<br>    <style><br>        .wandb-row {<br>            display: flex;<br>            flex-direction: row;<br>            flex-wrap: wrap;<br>            justify-content: flex-start;<br>            width: 100%;<br>        }<br>        .wandb-col {<br>            display: flex;<br>            flex-direction: column;<br>            flex-basis: 100%;<br>            flex: 1;<br>            padding: 10px;<br>        }<br>    </style><br><div class=\"wandb-row\"><div class=\"wandb-col\"><h3>Run history:</h3><br/><table class=\"wandb\"><tr><td>f1_score</td><td>▁</td></tr><tr><td>f1_score_train</td><td>▁</td></tr><tr><td>f1_score_valid</td><td>▁</td></tr></table><br/></div><div class=\"wandb-col\"><h3>Run summary:</h3><br/><table class=\"wandb\"><tr><td>f1_score</td><td>0.71961</td></tr><tr><td>f1_score_train</td><td>0.80025</td></tr><tr><td>f1_score_valid</td><td>0.63861</td></tr></table><br/></div></div>"
      ],
      "text/plain": [
       "<IPython.core.display.HTML object>"
      ]
     },
     "metadata": {},
     "output_type": "display_data"
    },
    {
     "data": {
      "text/html": [
       " View run <strong style=\"color:#cdcd00\">jumping-sweep-64</strong> at: <a href='https://wandb.ai/ahujavaibhav2001-st-lawrence-college/Truck%20Delay%20Classification/runs/6lms02sy' target=\"_blank\">https://wandb.ai/ahujavaibhav2001-st-lawrence-college/Truck%20Delay%20Classification/runs/6lms02sy</a><br> View project at: <a href='https://wandb.ai/ahujavaibhav2001-st-lawrence-college/Truck%20Delay%20Classification' target=\"_blank\">https://wandb.ai/ahujavaibhav2001-st-lawrence-college/Truck%20Delay%20Classification</a><br>Synced 5 W&B file(s), 0 media file(s), 16 artifact file(s) and 7 other file(s)"
      ],
      "text/plain": [
       "<IPython.core.display.HTML object>"
      ]
     },
     "metadata": {},
     "output_type": "display_data"
    },
    {
     "data": {
      "text/html": [
       "Find logs at: <code>.\\wandb\\run-20241229_174418-6lms02sy\\logs</code>"
      ],
      "text/plain": [
       "<IPython.core.display.HTML object>"
      ]
     },
     "metadata": {},
     "output_type": "display_data"
    },
    {
     "name": "stderr",
     "output_type": "stream",
     "text": [
      "wandb: Agent Starting Run: 2phxpj7n with config:\n",
      "wandb: \tmax_depth: 20\n",
      "wandb: \tmin_samples_split: 2\n",
      "wandb: \tn_estimators: 8\n",
      "wandb: WARNING Ignoring project 'Truck Delay Classification' when running a sweep.\n"
     ]
    },
    {
     "data": {
      "text/html": [
       "Tracking run with wandb version 0.19.1"
      ],
      "text/plain": [
       "<IPython.core.display.HTML object>"
      ]
     },
     "metadata": {},
     "output_type": "display_data"
    },
    {
     "data": {
      "text/html": [
       "Run data is saved locally in <code>C:\\Users\\ahuja\\wandb\\run-20241229_174434-2phxpj7n</code>"
      ],
      "text/plain": [
       "<IPython.core.display.HTML object>"
      ]
     },
     "metadata": {},
     "output_type": "display_data"
    },
    {
     "data": {
      "text/html": [
       "Syncing run <strong><a href='https://wandb.ai/ahujavaibhav2001-st-lawrence-college/Truck%20Delay%20Classification/runs/2phxpj7n' target=\"_blank\">blooming-sweep-65</a></strong> to <a href='https://wandb.ai/ahujavaibhav2001-st-lawrence-college/Truck%20Delay%20Classification' target=\"_blank\">Weights & Biases</a> (<a href='https://wandb.me/developer-guide' target=\"_blank\">docs</a>)<br>Sweep page: <a href='https://wandb.ai/ahujavaibhav2001-st-lawrence-college/Truck%20Delay%20Classification/sweeps/9mnowi7x' target=\"_blank\">https://wandb.ai/ahujavaibhav2001-st-lawrence-college/Truck%20Delay%20Classification/sweeps/9mnowi7x</a>"
      ],
      "text/plain": [
       "<IPython.core.display.HTML object>"
      ]
     },
     "metadata": {},
     "output_type": "display_data"
    },
    {
     "data": {
      "text/html": [
       " View project at <a href='https://wandb.ai/ahujavaibhav2001-st-lawrence-college/Truck%20Delay%20Classification' target=\"_blank\">https://wandb.ai/ahujavaibhav2001-st-lawrence-college/Truck%20Delay%20Classification</a>"
      ],
      "text/plain": [
       "<IPython.core.display.HTML object>"
      ]
     },
     "metadata": {},
     "output_type": "display_data"
    },
    {
     "data": {
      "text/html": [
       " View sweep at <a href='https://wandb.ai/ahujavaibhav2001-st-lawrence-college/Truck%20Delay%20Classification/sweeps/9mnowi7x' target=\"_blank\">https://wandb.ai/ahujavaibhav2001-st-lawrence-college/Truck%20Delay%20Classification/sweeps/9mnowi7x</a>"
      ],
      "text/plain": [
       "<IPython.core.display.HTML object>"
      ]
     },
     "metadata": {},
     "output_type": "display_data"
    },
    {
     "data": {
      "text/html": [
       " View run at <a href='https://wandb.ai/ahujavaibhav2001-st-lawrence-college/Truck%20Delay%20Classification/runs/2phxpj7n' target=\"_blank\">https://wandb.ai/ahujavaibhav2001-st-lawrence-college/Truck%20Delay%20Classification/runs/2phxpj7n</a>"
      ],
      "text/plain": [
       "<IPython.core.display.HTML object>"
      ]
     },
     "metadata": {},
     "output_type": "display_data"
    },
    {
     "name": "stdout",
     "output_type": "stream",
     "text": [
      "F1_score Train: 0.9382\n",
      "F1_score Valid: 0.5175\n",
      "F1_score Test: 0.606\n"
     ]
    },
    {
     "name": "stderr",
     "output_type": "stream",
     "text": [
      "wandb: \n",
      "wandb: Plotting RandomForestClassifier.\n",
      "UserWarning: X does not have valid feature names, but RandomForestClassifier was fitted with feature names\n",
      "wandb: Logged feature importances.\n",
      "wandb: Logged confusion matrix.\n",
      "UserWarning: X does not have valid feature names, but RandomForestClassifier was fitted with feature names\n",
      "wandb: Logged summary metrics.\n",
      "wandb: Logged class proportions.\n",
      "UserWarning: X does not have valid feature names, but RandomForestClassifier was fitted with feature names\n",
      "ConvergenceWarning: lbfgs failed to converge (status=1):\n",
      "STOP: TOTAL NO. of ITERATIONS REACHED LIMIT.\n",
      "\n",
      "Increase the number of iterations (max_iter) or scale the data as shown in:\n",
      "    https://scikit-learn.org/stable/modules/preprocessing.html\n",
      "Please also refer to the documentation for alternative solver options:\n",
      "    https://scikit-learn.org/stable/modules/linear_model.html#logistic-regression\n",
      "wandb: Logged calibration curve.\n",
      "wandb: Logged roc curve.\n",
      "wandb: Logged precision-recall curve.\n"
     ]
    },
    {
     "data": {
      "text/html": [],
      "text/plain": [
       "<IPython.core.display.HTML object>"
      ]
     },
     "metadata": {},
     "output_type": "display_data"
    },
    {
     "data": {
      "text/html": [
       "<br>    <style><br>        .wandb-row {<br>            display: flex;<br>            flex-direction: row;<br>            flex-wrap: wrap;<br>            justify-content: flex-start;<br>            width: 100%;<br>        }<br>        .wandb-col {<br>            display: flex;<br>            flex-direction: column;<br>            flex-basis: 100%;<br>            flex: 1;<br>            padding: 10px;<br>        }<br>    </style><br><div class=\"wandb-row\"><div class=\"wandb-col\"><h3>Run history:</h3><br/><table class=\"wandb\"><tr><td>f1_score</td><td>▁</td></tr><tr><td>f1_score_train</td><td>▁</td></tr><tr><td>f1_score_valid</td><td>▁</td></tr></table><br/></div><div class=\"wandb-col\"><h3>Run summary:</h3><br/><table class=\"wandb\"><tr><td>f1_score</td><td>0.60601</td></tr><tr><td>f1_score_train</td><td>0.93817</td></tr><tr><td>f1_score_valid</td><td>0.51752</td></tr></table><br/></div></div>"
      ],
      "text/plain": [
       "<IPython.core.display.HTML object>"
      ]
     },
     "metadata": {},
     "output_type": "display_data"
    },
    {
     "data": {
      "text/html": [
       " View run <strong style=\"color:#cdcd00\">blooming-sweep-65</strong> at: <a href='https://wandb.ai/ahujavaibhav2001-st-lawrence-college/Truck%20Delay%20Classification/runs/2phxpj7n' target=\"_blank\">https://wandb.ai/ahujavaibhav2001-st-lawrence-college/Truck%20Delay%20Classification/runs/2phxpj7n</a><br> View project at: <a href='https://wandb.ai/ahujavaibhav2001-st-lawrence-college/Truck%20Delay%20Classification' target=\"_blank\">https://wandb.ai/ahujavaibhav2001-st-lawrence-college/Truck%20Delay%20Classification</a><br>Synced 5 W&B file(s), 0 media file(s), 16 artifact file(s) and 7 other file(s)"
      ],
      "text/plain": [
       "<IPython.core.display.HTML object>"
      ]
     },
     "metadata": {},
     "output_type": "display_data"
    },
    {
     "data": {
      "text/html": [
       "Find logs at: <code>.\\wandb\\run-20241229_174434-2phxpj7n\\logs</code>"
      ],
      "text/plain": [
       "<IPython.core.display.HTML object>"
      ]
     },
     "metadata": {},
     "output_type": "display_data"
    },
    {
     "name": "stderr",
     "output_type": "stream",
     "text": [
      "wandb: Agent Starting Run: pja8ou2v with config:\n",
      "wandb: \tmax_depth: 20\n",
      "wandb: \tmin_samples_split: 2\n",
      "wandb: \tn_estimators: 12\n",
      "wandb: WARNING Ignoring project 'Truck Delay Classification' when running a sweep.\n"
     ]
    },
    {
     "data": {
      "text/html": [
       "Tracking run with wandb version 0.19.1"
      ],
      "text/plain": [
       "<IPython.core.display.HTML object>"
      ]
     },
     "metadata": {},
     "output_type": "display_data"
    },
    {
     "data": {
      "text/html": [
       "Run data is saved locally in <code>C:\\Users\\ahuja\\wandb\\run-20241229_174450-pja8ou2v</code>"
      ],
      "text/plain": [
       "<IPython.core.display.HTML object>"
      ]
     },
     "metadata": {},
     "output_type": "display_data"
    },
    {
     "data": {
      "text/html": [
       "Syncing run <strong><a href='https://wandb.ai/ahujavaibhav2001-st-lawrence-college/Truck%20Delay%20Classification/runs/pja8ou2v' target=\"_blank\">wobbly-sweep-66</a></strong> to <a href='https://wandb.ai/ahujavaibhav2001-st-lawrence-college/Truck%20Delay%20Classification' target=\"_blank\">Weights & Biases</a> (<a href='https://wandb.me/developer-guide' target=\"_blank\">docs</a>)<br>Sweep page: <a href='https://wandb.ai/ahujavaibhav2001-st-lawrence-college/Truck%20Delay%20Classification/sweeps/9mnowi7x' target=\"_blank\">https://wandb.ai/ahujavaibhav2001-st-lawrence-college/Truck%20Delay%20Classification/sweeps/9mnowi7x</a>"
      ],
      "text/plain": [
       "<IPython.core.display.HTML object>"
      ]
     },
     "metadata": {},
     "output_type": "display_data"
    },
    {
     "data": {
      "text/html": [
       " View project at <a href='https://wandb.ai/ahujavaibhav2001-st-lawrence-college/Truck%20Delay%20Classification' target=\"_blank\">https://wandb.ai/ahujavaibhav2001-st-lawrence-college/Truck%20Delay%20Classification</a>"
      ],
      "text/plain": [
       "<IPython.core.display.HTML object>"
      ]
     },
     "metadata": {},
     "output_type": "display_data"
    },
    {
     "data": {
      "text/html": [
       " View sweep at <a href='https://wandb.ai/ahujavaibhav2001-st-lawrence-college/Truck%20Delay%20Classification/sweeps/9mnowi7x' target=\"_blank\">https://wandb.ai/ahujavaibhav2001-st-lawrence-college/Truck%20Delay%20Classification/sweeps/9mnowi7x</a>"
      ],
      "text/plain": [
       "<IPython.core.display.HTML object>"
      ]
     },
     "metadata": {},
     "output_type": "display_data"
    },
    {
     "data": {
      "text/html": [
       " View run at <a href='https://wandb.ai/ahujavaibhav2001-st-lawrence-college/Truck%20Delay%20Classification/runs/pja8ou2v' target=\"_blank\">https://wandb.ai/ahujavaibhav2001-st-lawrence-college/Truck%20Delay%20Classification/runs/pja8ou2v</a>"
      ],
      "text/plain": [
       "<IPython.core.display.HTML object>"
      ]
     },
     "metadata": {},
     "output_type": "display_data"
    },
    {
     "name": "stdout",
     "output_type": "stream",
     "text": [
      "F1_score Train: 0.9516\n",
      "F1_score Valid: 0.5526\n",
      "F1_score Test: 0.6285\n"
     ]
    },
    {
     "name": "stderr",
     "output_type": "stream",
     "text": [
      "wandb: \n",
      "wandb: Plotting RandomForestClassifier.\n",
      "UserWarning: X does not have valid feature names, but RandomForestClassifier was fitted with feature names\n",
      "wandb: Logged feature importances.\n",
      "wandb: Logged confusion matrix.\n",
      "UserWarning: X does not have valid feature names, but RandomForestClassifier was fitted with feature names\n",
      "wandb: Logged summary metrics.\n",
      "wandb: Logged class proportions.\n",
      "UserWarning: X does not have valid feature names, but RandomForestClassifier was fitted with feature names\n",
      "ConvergenceWarning: lbfgs failed to converge (status=1):\n",
      "STOP: TOTAL NO. of ITERATIONS REACHED LIMIT.\n",
      "\n",
      "Increase the number of iterations (max_iter) or scale the data as shown in:\n",
      "    https://scikit-learn.org/stable/modules/preprocessing.html\n",
      "Please also refer to the documentation for alternative solver options:\n",
      "    https://scikit-learn.org/stable/modules/linear_model.html#logistic-regression\n",
      "wandb: Logged calibration curve.\n",
      "wandb: Logged roc curve.\n",
      "wandb: Logged precision-recall curve.\n"
     ]
    },
    {
     "data": {
      "text/html": [],
      "text/plain": [
       "<IPython.core.display.HTML object>"
      ]
     },
     "metadata": {},
     "output_type": "display_data"
    },
    {
     "data": {
      "text/html": [
       "<br>    <style><br>        .wandb-row {<br>            display: flex;<br>            flex-direction: row;<br>            flex-wrap: wrap;<br>            justify-content: flex-start;<br>            width: 100%;<br>        }<br>        .wandb-col {<br>            display: flex;<br>            flex-direction: column;<br>            flex-basis: 100%;<br>            flex: 1;<br>            padding: 10px;<br>        }<br>    </style><br><div class=\"wandb-row\"><div class=\"wandb-col\"><h3>Run history:</h3><br/><table class=\"wandb\"><tr><td>f1_score</td><td>▁</td></tr><tr><td>f1_score_train</td><td>▁</td></tr><tr><td>f1_score_valid</td><td>▁</td></tr></table><br/></div><div class=\"wandb-col\"><h3>Run summary:</h3><br/><table class=\"wandb\"><tr><td>f1_score</td><td>0.62848</td></tr><tr><td>f1_score_train</td><td>0.95156</td></tr><tr><td>f1_score_valid</td><td>0.55255</td></tr></table><br/></div></div>"
      ],
      "text/plain": [
       "<IPython.core.display.HTML object>"
      ]
     },
     "metadata": {},
     "output_type": "display_data"
    },
    {
     "data": {
      "text/html": [
       " View run <strong style=\"color:#cdcd00\">wobbly-sweep-66</strong> at: <a href='https://wandb.ai/ahujavaibhav2001-st-lawrence-college/Truck%20Delay%20Classification/runs/pja8ou2v' target=\"_blank\">https://wandb.ai/ahujavaibhav2001-st-lawrence-college/Truck%20Delay%20Classification/runs/pja8ou2v</a><br> View project at: <a href='https://wandb.ai/ahujavaibhav2001-st-lawrence-college/Truck%20Delay%20Classification' target=\"_blank\">https://wandb.ai/ahujavaibhav2001-st-lawrence-college/Truck%20Delay%20Classification</a><br>Synced 5 W&B file(s), 0 media file(s), 16 artifact file(s) and 7 other file(s)"
      ],
      "text/plain": [
       "<IPython.core.display.HTML object>"
      ]
     },
     "metadata": {},
     "output_type": "display_data"
    },
    {
     "data": {
      "text/html": [
       "Find logs at: <code>.\\wandb\\run-20241229_174450-pja8ou2v\\logs</code>"
      ],
      "text/plain": [
       "<IPython.core.display.HTML object>"
      ]
     },
     "metadata": {},
     "output_type": "display_data"
    },
    {
     "name": "stderr",
     "output_type": "stream",
     "text": [
      "wandb: Agent Starting Run: uxergbcr with config:\n",
      "wandb: \tmax_depth: 20\n",
      "wandb: \tmin_samples_split: 2\n",
      "wandb: \tn_estimators: 16\n",
      "wandb: WARNING Ignoring project 'Truck Delay Classification' when running a sweep.\n"
     ]
    },
    {
     "data": {
      "text/html": [
       "Tracking run with wandb version 0.19.1"
      ],
      "text/plain": [
       "<IPython.core.display.HTML object>"
      ]
     },
     "metadata": {},
     "output_type": "display_data"
    },
    {
     "data": {
      "text/html": [
       "Run data is saved locally in <code>C:\\Users\\ahuja\\wandb\\run-20241229_174506-uxergbcr</code>"
      ],
      "text/plain": [
       "<IPython.core.display.HTML object>"
      ]
     },
     "metadata": {},
     "output_type": "display_data"
    },
    {
     "data": {
      "text/html": [
       "Syncing run <strong><a href='https://wandb.ai/ahujavaibhav2001-st-lawrence-college/Truck%20Delay%20Classification/runs/uxergbcr' target=\"_blank\">olive-sweep-67</a></strong> to <a href='https://wandb.ai/ahujavaibhav2001-st-lawrence-college/Truck%20Delay%20Classification' target=\"_blank\">Weights & Biases</a> (<a href='https://wandb.me/developer-guide' target=\"_blank\">docs</a>)<br>Sweep page: <a href='https://wandb.ai/ahujavaibhav2001-st-lawrence-college/Truck%20Delay%20Classification/sweeps/9mnowi7x' target=\"_blank\">https://wandb.ai/ahujavaibhav2001-st-lawrence-college/Truck%20Delay%20Classification/sweeps/9mnowi7x</a>"
      ],
      "text/plain": [
       "<IPython.core.display.HTML object>"
      ]
     },
     "metadata": {},
     "output_type": "display_data"
    },
    {
     "data": {
      "text/html": [
       " View project at <a href='https://wandb.ai/ahujavaibhav2001-st-lawrence-college/Truck%20Delay%20Classification' target=\"_blank\">https://wandb.ai/ahujavaibhav2001-st-lawrence-college/Truck%20Delay%20Classification</a>"
      ],
      "text/plain": [
       "<IPython.core.display.HTML object>"
      ]
     },
     "metadata": {},
     "output_type": "display_data"
    },
    {
     "data": {
      "text/html": [
       " View sweep at <a href='https://wandb.ai/ahujavaibhav2001-st-lawrence-college/Truck%20Delay%20Classification/sweeps/9mnowi7x' target=\"_blank\">https://wandb.ai/ahujavaibhav2001-st-lawrence-college/Truck%20Delay%20Classification/sweeps/9mnowi7x</a>"
      ],
      "text/plain": [
       "<IPython.core.display.HTML object>"
      ]
     },
     "metadata": {},
     "output_type": "display_data"
    },
    {
     "data": {
      "text/html": [
       " View run at <a href='https://wandb.ai/ahujavaibhav2001-st-lawrence-college/Truck%20Delay%20Classification/runs/uxergbcr' target=\"_blank\">https://wandb.ai/ahujavaibhav2001-st-lawrence-college/Truck%20Delay%20Classification/runs/uxergbcr</a>"
      ],
      "text/plain": [
       "<IPython.core.display.HTML object>"
      ]
     },
     "metadata": {},
     "output_type": "display_data"
    },
    {
     "name": "stdout",
     "output_type": "stream",
     "text": [
      "F1_score Train: 0.9641\n",
      "F1_score Valid: 0.558\n",
      "F1_score Test: 0.6591\n"
     ]
    },
    {
     "name": "stderr",
     "output_type": "stream",
     "text": [
      "wandb: \n",
      "wandb: Plotting RandomForestClassifier.\n",
      "UserWarning: X does not have valid feature names, but RandomForestClassifier was fitted with feature names\n",
      "wandb: Logged feature importances.\n",
      "wandb: Logged confusion matrix.\n",
      "UserWarning: X does not have valid feature names, but RandomForestClassifier was fitted with feature names\n",
      "wandb: Logged summary metrics.\n",
      "wandb: Logged class proportions.\n",
      "UserWarning: X does not have valid feature names, but RandomForestClassifier was fitted with feature names\n",
      "ConvergenceWarning: lbfgs failed to converge (status=1):\n",
      "STOP: TOTAL NO. of ITERATIONS REACHED LIMIT.\n",
      "\n",
      "Increase the number of iterations (max_iter) or scale the data as shown in:\n",
      "    https://scikit-learn.org/stable/modules/preprocessing.html\n",
      "Please also refer to the documentation for alternative solver options:\n",
      "    https://scikit-learn.org/stable/modules/linear_model.html#logistic-regression\n",
      "wandb: Logged calibration curve.\n",
      "wandb: Logged roc curve.\n",
      "wandb: Logged precision-recall curve.\n"
     ]
    },
    {
     "data": {
      "text/html": [],
      "text/plain": [
       "<IPython.core.display.HTML object>"
      ]
     },
     "metadata": {},
     "output_type": "display_data"
    },
    {
     "data": {
      "text/html": [
       "<br>    <style><br>        .wandb-row {<br>            display: flex;<br>            flex-direction: row;<br>            flex-wrap: wrap;<br>            justify-content: flex-start;<br>            width: 100%;<br>        }<br>        .wandb-col {<br>            display: flex;<br>            flex-direction: column;<br>            flex-basis: 100%;<br>            flex: 1;<br>            padding: 10px;<br>        }<br>    </style><br><div class=\"wandb-row\"><div class=\"wandb-col\"><h3>Run history:</h3><br/><table class=\"wandb\"><tr><td>f1_score</td><td>▁</td></tr><tr><td>f1_score_train</td><td>▁</td></tr><tr><td>f1_score_valid</td><td>▁</td></tr></table><br/></div><div class=\"wandb-col\"><h3>Run summary:</h3><br/><table class=\"wandb\"><tr><td>f1_score</td><td>0.65906</td></tr><tr><td>f1_score_train</td><td>0.9641</td></tr><tr><td>f1_score_valid</td><td>0.55797</td></tr></table><br/></div></div>"
      ],
      "text/plain": [
       "<IPython.core.display.HTML object>"
      ]
     },
     "metadata": {},
     "output_type": "display_data"
    },
    {
     "data": {
      "text/html": [
       " View run <strong style=\"color:#cdcd00\">olive-sweep-67</strong> at: <a href='https://wandb.ai/ahujavaibhav2001-st-lawrence-college/Truck%20Delay%20Classification/runs/uxergbcr' target=\"_blank\">https://wandb.ai/ahujavaibhav2001-st-lawrence-college/Truck%20Delay%20Classification/runs/uxergbcr</a><br> View project at: <a href='https://wandb.ai/ahujavaibhav2001-st-lawrence-college/Truck%20Delay%20Classification' target=\"_blank\">https://wandb.ai/ahujavaibhav2001-st-lawrence-college/Truck%20Delay%20Classification</a><br>Synced 5 W&B file(s), 0 media file(s), 16 artifact file(s) and 7 other file(s)"
      ],
      "text/plain": [
       "<IPython.core.display.HTML object>"
      ]
     },
     "metadata": {},
     "output_type": "display_data"
    },
    {
     "data": {
      "text/html": [
       "Find logs at: <code>.\\wandb\\run-20241229_174506-uxergbcr\\logs</code>"
      ],
      "text/plain": [
       "<IPython.core.display.HTML object>"
      ]
     },
     "metadata": {},
     "output_type": "display_data"
    },
    {
     "name": "stderr",
     "output_type": "stream",
     "text": [
      "wandb: Agent Starting Run: tg6289u3 with config:\n",
      "wandb: \tmax_depth: 20\n",
      "wandb: \tmin_samples_split: 2\n",
      "wandb: \tn_estimators: 20\n",
      "wandb: WARNING Ignoring project 'Truck Delay Classification' when running a sweep.\n"
     ]
    },
    {
     "data": {
      "text/html": [
       "Tracking run with wandb version 0.19.1"
      ],
      "text/plain": [
       "<IPython.core.display.HTML object>"
      ]
     },
     "metadata": {},
     "output_type": "display_data"
    },
    {
     "data": {
      "text/html": [
       "Run data is saved locally in <code>C:\\Users\\ahuja\\wandb\\run-20241229_174521-tg6289u3</code>"
      ],
      "text/plain": [
       "<IPython.core.display.HTML object>"
      ]
     },
     "metadata": {},
     "output_type": "display_data"
    },
    {
     "data": {
      "text/html": [
       "Syncing run <strong><a href='https://wandb.ai/ahujavaibhav2001-st-lawrence-college/Truck%20Delay%20Classification/runs/tg6289u3' target=\"_blank\">stilted-sweep-68</a></strong> to <a href='https://wandb.ai/ahujavaibhav2001-st-lawrence-college/Truck%20Delay%20Classification' target=\"_blank\">Weights & Biases</a> (<a href='https://wandb.me/developer-guide' target=\"_blank\">docs</a>)<br>Sweep page: <a href='https://wandb.ai/ahujavaibhav2001-st-lawrence-college/Truck%20Delay%20Classification/sweeps/9mnowi7x' target=\"_blank\">https://wandb.ai/ahujavaibhav2001-st-lawrence-college/Truck%20Delay%20Classification/sweeps/9mnowi7x</a>"
      ],
      "text/plain": [
       "<IPython.core.display.HTML object>"
      ]
     },
     "metadata": {},
     "output_type": "display_data"
    },
    {
     "data": {
      "text/html": [
       " View project at <a href='https://wandb.ai/ahujavaibhav2001-st-lawrence-college/Truck%20Delay%20Classification' target=\"_blank\">https://wandb.ai/ahujavaibhav2001-st-lawrence-college/Truck%20Delay%20Classification</a>"
      ],
      "text/plain": [
       "<IPython.core.display.HTML object>"
      ]
     },
     "metadata": {},
     "output_type": "display_data"
    },
    {
     "data": {
      "text/html": [
       " View sweep at <a href='https://wandb.ai/ahujavaibhav2001-st-lawrence-college/Truck%20Delay%20Classification/sweeps/9mnowi7x' target=\"_blank\">https://wandb.ai/ahujavaibhav2001-st-lawrence-college/Truck%20Delay%20Classification/sweeps/9mnowi7x</a>"
      ],
      "text/plain": [
       "<IPython.core.display.HTML object>"
      ]
     },
     "metadata": {},
     "output_type": "display_data"
    },
    {
     "data": {
      "text/html": [
       " View run at <a href='https://wandb.ai/ahujavaibhav2001-st-lawrence-college/Truck%20Delay%20Classification/runs/tg6289u3' target=\"_blank\">https://wandb.ai/ahujavaibhav2001-st-lawrence-college/Truck%20Delay%20Classification/runs/tg6289u3</a>"
      ],
      "text/plain": [
       "<IPython.core.display.HTML object>"
      ]
     },
     "metadata": {},
     "output_type": "display_data"
    },
    {
     "name": "stdout",
     "output_type": "stream",
     "text": [
      "F1_score Train: 0.9721\n",
      "F1_score Valid: 0.5706\n",
      "F1_score Test: 0.6621\n"
     ]
    },
    {
     "name": "stderr",
     "output_type": "stream",
     "text": [
      "wandb: \n",
      "wandb: Plotting RandomForestClassifier.\n",
      "UserWarning: X does not have valid feature names, but RandomForestClassifier was fitted with feature names\n",
      "wandb: Logged feature importances.\n",
      "wandb: Logged confusion matrix.\n",
      "UserWarning: X does not have valid feature names, but RandomForestClassifier was fitted with feature names\n",
      "wandb: Logged summary metrics.\n",
      "wandb: Logged class proportions.\n",
      "UserWarning: X does not have valid feature names, but RandomForestClassifier was fitted with feature names\n",
      "ConvergenceWarning: lbfgs failed to converge (status=1):\n",
      "STOP: TOTAL NO. of ITERATIONS REACHED LIMIT.\n",
      "\n",
      "Increase the number of iterations (max_iter) or scale the data as shown in:\n",
      "    https://scikit-learn.org/stable/modules/preprocessing.html\n",
      "Please also refer to the documentation for alternative solver options:\n",
      "    https://scikit-learn.org/stable/modules/linear_model.html#logistic-regression\n",
      "wandb: Logged calibration curve.\n",
      "wandb: Logged roc curve.\n",
      "wandb: Logged precision-recall curve.\n"
     ]
    },
    {
     "data": {
      "text/html": [],
      "text/plain": [
       "<IPython.core.display.HTML object>"
      ]
     },
     "metadata": {},
     "output_type": "display_data"
    },
    {
     "data": {
      "text/html": [
       "<br>    <style><br>        .wandb-row {<br>            display: flex;<br>            flex-direction: row;<br>            flex-wrap: wrap;<br>            justify-content: flex-start;<br>            width: 100%;<br>        }<br>        .wandb-col {<br>            display: flex;<br>            flex-direction: column;<br>            flex-basis: 100%;<br>            flex: 1;<br>            padding: 10px;<br>        }<br>    </style><br><div class=\"wandb-row\"><div class=\"wandb-col\"><h3>Run history:</h3><br/><table class=\"wandb\"><tr><td>f1_score</td><td>▁</td></tr><tr><td>f1_score_train</td><td>▁</td></tr><tr><td>f1_score_valid</td><td>▁</td></tr></table><br/></div><div class=\"wandb-col\"><h3>Run summary:</h3><br/><table class=\"wandb\"><tr><td>f1_score</td><td>0.66209</td></tr><tr><td>f1_score_train</td><td>0.97213</td></tr><tr><td>f1_score_valid</td><td>0.57057</td></tr></table><br/></div></div>"
      ],
      "text/plain": [
       "<IPython.core.display.HTML object>"
      ]
     },
     "metadata": {},
     "output_type": "display_data"
    },
    {
     "data": {
      "text/html": [
       " View run <strong style=\"color:#cdcd00\">stilted-sweep-68</strong> at: <a href='https://wandb.ai/ahujavaibhav2001-st-lawrence-college/Truck%20Delay%20Classification/runs/tg6289u3' target=\"_blank\">https://wandb.ai/ahujavaibhav2001-st-lawrence-college/Truck%20Delay%20Classification/runs/tg6289u3</a><br> View project at: <a href='https://wandb.ai/ahujavaibhav2001-st-lawrence-college/Truck%20Delay%20Classification' target=\"_blank\">https://wandb.ai/ahujavaibhav2001-st-lawrence-college/Truck%20Delay%20Classification</a><br>Synced 5 W&B file(s), 0 media file(s), 16 artifact file(s) and 7 other file(s)"
      ],
      "text/plain": [
       "<IPython.core.display.HTML object>"
      ]
     },
     "metadata": {},
     "output_type": "display_data"
    },
    {
     "data": {
      "text/html": [
       "Find logs at: <code>.\\wandb\\run-20241229_174521-tg6289u3\\logs</code>"
      ],
      "text/plain": [
       "<IPython.core.display.HTML object>"
      ]
     },
     "metadata": {},
     "output_type": "display_data"
    },
    {
     "name": "stderr",
     "output_type": "stream",
     "text": [
      "wandb: Agent Starting Run: r24wokmt with config:\n",
      "wandb: \tmax_depth: 20\n",
      "wandb: \tmin_samples_split: 4\n",
      "wandb: \tn_estimators: 8\n",
      "wandb: WARNING Ignoring project 'Truck Delay Classification' when running a sweep.\n"
     ]
    },
    {
     "data": {
      "text/html": [
       "Tracking run with wandb version 0.19.1"
      ],
      "text/plain": [
       "<IPython.core.display.HTML object>"
      ]
     },
     "metadata": {},
     "output_type": "display_data"
    },
    {
     "data": {
      "text/html": [
       "Run data is saved locally in <code>C:\\Users\\ahuja\\wandb\\run-20241229_174531-r24wokmt</code>"
      ],
      "text/plain": [
       "<IPython.core.display.HTML object>"
      ]
     },
     "metadata": {},
     "output_type": "display_data"
    },
    {
     "data": {
      "text/html": [
       "Syncing run <strong><a href='https://wandb.ai/ahujavaibhav2001-st-lawrence-college/Truck%20Delay%20Classification/runs/r24wokmt' target=\"_blank\">glamorous-sweep-69</a></strong> to <a href='https://wandb.ai/ahujavaibhav2001-st-lawrence-college/Truck%20Delay%20Classification' target=\"_blank\">Weights & Biases</a> (<a href='https://wandb.me/developer-guide' target=\"_blank\">docs</a>)<br>Sweep page: <a href='https://wandb.ai/ahujavaibhav2001-st-lawrence-college/Truck%20Delay%20Classification/sweeps/9mnowi7x' target=\"_blank\">https://wandb.ai/ahujavaibhav2001-st-lawrence-college/Truck%20Delay%20Classification/sweeps/9mnowi7x</a>"
      ],
      "text/plain": [
       "<IPython.core.display.HTML object>"
      ]
     },
     "metadata": {},
     "output_type": "display_data"
    },
    {
     "data": {
      "text/html": [
       " View project at <a href='https://wandb.ai/ahujavaibhav2001-st-lawrence-college/Truck%20Delay%20Classification' target=\"_blank\">https://wandb.ai/ahujavaibhav2001-st-lawrence-college/Truck%20Delay%20Classification</a>"
      ],
      "text/plain": [
       "<IPython.core.display.HTML object>"
      ]
     },
     "metadata": {},
     "output_type": "display_data"
    },
    {
     "data": {
      "text/html": [
       " View sweep at <a href='https://wandb.ai/ahujavaibhav2001-st-lawrence-college/Truck%20Delay%20Classification/sweeps/9mnowi7x' target=\"_blank\">https://wandb.ai/ahujavaibhav2001-st-lawrence-college/Truck%20Delay%20Classification/sweeps/9mnowi7x</a>"
      ],
      "text/plain": [
       "<IPython.core.display.HTML object>"
      ]
     },
     "metadata": {},
     "output_type": "display_data"
    },
    {
     "data": {
      "text/html": [
       " View run at <a href='https://wandb.ai/ahujavaibhav2001-st-lawrence-college/Truck%20Delay%20Classification/runs/r24wokmt' target=\"_blank\">https://wandb.ai/ahujavaibhav2001-st-lawrence-college/Truck%20Delay%20Classification/runs/r24wokmt</a>"
      ],
      "text/plain": [
       "<IPython.core.display.HTML object>"
      ]
     },
     "metadata": {},
     "output_type": "display_data"
    },
    {
     "name": "stdout",
     "output_type": "stream",
     "text": [
      "F1_score Train: 0.9197\n",
      "F1_score Valid: 0.5568\n",
      "F1_score Test: 0.5902\n"
     ]
    },
    {
     "name": "stderr",
     "output_type": "stream",
     "text": [
      "wandb: \n",
      "wandb: Plotting RandomForestClassifier.\n",
      "UserWarning: X does not have valid feature names, but RandomForestClassifier was fitted with feature names\n",
      "wandb: Logged feature importances.\n",
      "wandb: Logged confusion matrix.\n",
      "UserWarning: X does not have valid feature names, but RandomForestClassifier was fitted with feature names\n",
      "wandb: Logged summary metrics.\n",
      "wandb: Logged class proportions.\n",
      "UserWarning: X does not have valid feature names, but RandomForestClassifier was fitted with feature names\n",
      "ConvergenceWarning: lbfgs failed to converge (status=1):\n",
      "STOP: TOTAL NO. of ITERATIONS REACHED LIMIT.\n",
      "\n",
      "Increase the number of iterations (max_iter) or scale the data as shown in:\n",
      "    https://scikit-learn.org/stable/modules/preprocessing.html\n",
      "Please also refer to the documentation for alternative solver options:\n",
      "    https://scikit-learn.org/stable/modules/linear_model.html#logistic-regression\n",
      "wandb: Logged calibration curve.\n",
      "wandb: Logged roc curve.\n",
      "wandb: Logged precision-recall curve.\n"
     ]
    },
    {
     "data": {
      "text/html": [],
      "text/plain": [
       "<IPython.core.display.HTML object>"
      ]
     },
     "metadata": {},
     "output_type": "display_data"
    },
    {
     "data": {
      "text/html": [
       "<br>    <style><br>        .wandb-row {<br>            display: flex;<br>            flex-direction: row;<br>            flex-wrap: wrap;<br>            justify-content: flex-start;<br>            width: 100%;<br>        }<br>        .wandb-col {<br>            display: flex;<br>            flex-direction: column;<br>            flex-basis: 100%;<br>            flex: 1;<br>            padding: 10px;<br>        }<br>    </style><br><div class=\"wandb-row\"><div class=\"wandb-col\"><h3>Run history:</h3><br/><table class=\"wandb\"><tr><td>f1_score</td><td>▁</td></tr><tr><td>f1_score_train</td><td>▁</td></tr><tr><td>f1_score_valid</td><td>▁</td></tr></table><br/></div><div class=\"wandb-col\"><h3>Run summary:</h3><br/><table class=\"wandb\"><tr><td>f1_score</td><td>0.59024</td></tr><tr><td>f1_score_train</td><td>0.91975</td></tr><tr><td>f1_score_valid</td><td>0.5568</td></tr></table><br/></div></div>"
      ],
      "text/plain": [
       "<IPython.core.display.HTML object>"
      ]
     },
     "metadata": {},
     "output_type": "display_data"
    },
    {
     "data": {
      "text/html": [
       " View run <strong style=\"color:#cdcd00\">glamorous-sweep-69</strong> at: <a href='https://wandb.ai/ahujavaibhav2001-st-lawrence-college/Truck%20Delay%20Classification/runs/r24wokmt' target=\"_blank\">https://wandb.ai/ahujavaibhav2001-st-lawrence-college/Truck%20Delay%20Classification/runs/r24wokmt</a><br> View project at: <a href='https://wandb.ai/ahujavaibhav2001-st-lawrence-college/Truck%20Delay%20Classification' target=\"_blank\">https://wandb.ai/ahujavaibhav2001-st-lawrence-college/Truck%20Delay%20Classification</a><br>Synced 5 W&B file(s), 0 media file(s), 16 artifact file(s) and 7 other file(s)"
      ],
      "text/plain": [
       "<IPython.core.display.HTML object>"
      ]
     },
     "metadata": {},
     "output_type": "display_data"
    },
    {
     "data": {
      "text/html": [
       "Find logs at: <code>.\\wandb\\run-20241229_174531-r24wokmt\\logs</code>"
      ],
      "text/plain": [
       "<IPython.core.display.HTML object>"
      ]
     },
     "metadata": {},
     "output_type": "display_data"
    },
    {
     "name": "stderr",
     "output_type": "stream",
     "text": [
      "wandb: Agent Starting Run: duied6bt with config:\n",
      "wandb: \tmax_depth: 20\n",
      "wandb: \tmin_samples_split: 4\n",
      "wandb: \tn_estimators: 12\n",
      "wandb: WARNING Ignoring project 'Truck Delay Classification' when running a sweep.\n"
     ]
    },
    {
     "data": {
      "text/html": [
       "Tracking run with wandb version 0.19.1"
      ],
      "text/plain": [
       "<IPython.core.display.HTML object>"
      ]
     },
     "metadata": {},
     "output_type": "display_data"
    },
    {
     "data": {
      "text/html": [
       "Run data is saved locally in <code>C:\\Users\\ahuja\\wandb\\run-20241229_174541-duied6bt</code>"
      ],
      "text/plain": [
       "<IPython.core.display.HTML object>"
      ]
     },
     "metadata": {},
     "output_type": "display_data"
    },
    {
     "data": {
      "text/html": [
       "Syncing run <strong><a href='https://wandb.ai/ahujavaibhav2001-st-lawrence-college/Truck%20Delay%20Classification/runs/duied6bt' target=\"_blank\">dark-sweep-70</a></strong> to <a href='https://wandb.ai/ahujavaibhav2001-st-lawrence-college/Truck%20Delay%20Classification' target=\"_blank\">Weights & Biases</a> (<a href='https://wandb.me/developer-guide' target=\"_blank\">docs</a>)<br>Sweep page: <a href='https://wandb.ai/ahujavaibhav2001-st-lawrence-college/Truck%20Delay%20Classification/sweeps/9mnowi7x' target=\"_blank\">https://wandb.ai/ahujavaibhav2001-st-lawrence-college/Truck%20Delay%20Classification/sweeps/9mnowi7x</a>"
      ],
      "text/plain": [
       "<IPython.core.display.HTML object>"
      ]
     },
     "metadata": {},
     "output_type": "display_data"
    },
    {
     "data": {
      "text/html": [
       " View project at <a href='https://wandb.ai/ahujavaibhav2001-st-lawrence-college/Truck%20Delay%20Classification' target=\"_blank\">https://wandb.ai/ahujavaibhav2001-st-lawrence-college/Truck%20Delay%20Classification</a>"
      ],
      "text/plain": [
       "<IPython.core.display.HTML object>"
      ]
     },
     "metadata": {},
     "output_type": "display_data"
    },
    {
     "data": {
      "text/html": [
       " View sweep at <a href='https://wandb.ai/ahujavaibhav2001-st-lawrence-college/Truck%20Delay%20Classification/sweeps/9mnowi7x' target=\"_blank\">https://wandb.ai/ahujavaibhav2001-st-lawrence-college/Truck%20Delay%20Classification/sweeps/9mnowi7x</a>"
      ],
      "text/plain": [
       "<IPython.core.display.HTML object>"
      ]
     },
     "metadata": {},
     "output_type": "display_data"
    },
    {
     "data": {
      "text/html": [
       " View run at <a href='https://wandb.ai/ahujavaibhav2001-st-lawrence-college/Truck%20Delay%20Classification/runs/duied6bt' target=\"_blank\">https://wandb.ai/ahujavaibhav2001-st-lawrence-college/Truck%20Delay%20Classification/runs/duied6bt</a>"
      ],
      "text/plain": [
       "<IPython.core.display.HTML object>"
      ]
     },
     "metadata": {},
     "output_type": "display_data"
    },
    {
     "name": "stdout",
     "output_type": "stream",
     "text": [
      "F1_score Train: 0.933\n",
      "F1_score Valid: 0.5918\n",
      "F1_score Test: 0.6409\n"
     ]
    },
    {
     "name": "stderr",
     "output_type": "stream",
     "text": [
      "wandb: \n",
      "wandb: Plotting RandomForestClassifier.\n",
      "UserWarning: X does not have valid feature names, but RandomForestClassifier was fitted with feature names\n",
      "wandb: Logged feature importances.\n",
      "wandb: Logged confusion matrix.\n",
      "UserWarning: X does not have valid feature names, but RandomForestClassifier was fitted with feature names\n",
      "wandb: Logged summary metrics.\n",
      "wandb: Logged class proportions.\n",
      "UserWarning: X does not have valid feature names, but RandomForestClassifier was fitted with feature names\n",
      "ConvergenceWarning: lbfgs failed to converge (status=1):\n",
      "STOP: TOTAL NO. of ITERATIONS REACHED LIMIT.\n",
      "\n",
      "Increase the number of iterations (max_iter) or scale the data as shown in:\n",
      "    https://scikit-learn.org/stable/modules/preprocessing.html\n",
      "Please also refer to the documentation for alternative solver options:\n",
      "    https://scikit-learn.org/stable/modules/linear_model.html#logistic-regression\n",
      "wandb: Logged calibration curve.\n",
      "wandb: Logged roc curve.\n",
      "wandb: Logged precision-recall curve.\n"
     ]
    },
    {
     "data": {
      "text/html": [],
      "text/plain": [
       "<IPython.core.display.HTML object>"
      ]
     },
     "metadata": {},
     "output_type": "display_data"
    },
    {
     "data": {
      "text/html": [
       "<br>    <style><br>        .wandb-row {<br>            display: flex;<br>            flex-direction: row;<br>            flex-wrap: wrap;<br>            justify-content: flex-start;<br>            width: 100%;<br>        }<br>        .wandb-col {<br>            display: flex;<br>            flex-direction: column;<br>            flex-basis: 100%;<br>            flex: 1;<br>            padding: 10px;<br>        }<br>    </style><br><div class=\"wandb-row\"><div class=\"wandb-col\"><h3>Run history:</h3><br/><table class=\"wandb\"><tr><td>f1_score</td><td>▁</td></tr><tr><td>f1_score_train</td><td>▁</td></tr><tr><td>f1_score_valid</td><td>▁</td></tr></table><br/></div><div class=\"wandb-col\"><h3>Run summary:</h3><br/><table class=\"wandb\"><tr><td>f1_score</td><td>0.64085</td></tr><tr><td>f1_score_train</td><td>0.93299</td></tr><tr><td>f1_score_valid</td><td>0.59182</td></tr></table><br/></div></div>"
      ],
      "text/plain": [
       "<IPython.core.display.HTML object>"
      ]
     },
     "metadata": {},
     "output_type": "display_data"
    },
    {
     "data": {
      "text/html": [
       " View run <strong style=\"color:#cdcd00\">dark-sweep-70</strong> at: <a href='https://wandb.ai/ahujavaibhav2001-st-lawrence-college/Truck%20Delay%20Classification/runs/duied6bt' target=\"_blank\">https://wandb.ai/ahujavaibhav2001-st-lawrence-college/Truck%20Delay%20Classification/runs/duied6bt</a><br> View project at: <a href='https://wandb.ai/ahujavaibhav2001-st-lawrence-college/Truck%20Delay%20Classification' target=\"_blank\">https://wandb.ai/ahujavaibhav2001-st-lawrence-college/Truck%20Delay%20Classification</a><br>Synced 5 W&B file(s), 0 media file(s), 16 artifact file(s) and 7 other file(s)"
      ],
      "text/plain": [
       "<IPython.core.display.HTML object>"
      ]
     },
     "metadata": {},
     "output_type": "display_data"
    },
    {
     "data": {
      "text/html": [
       "Find logs at: <code>.\\wandb\\run-20241229_174541-duied6bt\\logs</code>"
      ],
      "text/plain": [
       "<IPython.core.display.HTML object>"
      ]
     },
     "metadata": {},
     "output_type": "display_data"
    },
    {
     "name": "stderr",
     "output_type": "stream",
     "text": [
      "wandb: Agent Starting Run: 5a11f8r7 with config:\n",
      "wandb: \tmax_depth: 20\n",
      "wandb: \tmin_samples_split: 4\n",
      "wandb: \tn_estimators: 16\n",
      "wandb: WARNING Ignoring project 'Truck Delay Classification' when running a sweep.\n"
     ]
    },
    {
     "data": {
      "text/html": [
       "Tracking run with wandb version 0.19.1"
      ],
      "text/plain": [
       "<IPython.core.display.HTML object>"
      ]
     },
     "metadata": {},
     "output_type": "display_data"
    },
    {
     "data": {
      "text/html": [
       "Run data is saved locally in <code>C:\\Users\\ahuja\\wandb\\run-20241229_174552-5a11f8r7</code>"
      ],
      "text/plain": [
       "<IPython.core.display.HTML object>"
      ]
     },
     "metadata": {},
     "output_type": "display_data"
    },
    {
     "data": {
      "text/html": [
       "Syncing run <strong><a href='https://wandb.ai/ahujavaibhav2001-st-lawrence-college/Truck%20Delay%20Classification/runs/5a11f8r7' target=\"_blank\">summer-sweep-71</a></strong> to <a href='https://wandb.ai/ahujavaibhav2001-st-lawrence-college/Truck%20Delay%20Classification' target=\"_blank\">Weights & Biases</a> (<a href='https://wandb.me/developer-guide' target=\"_blank\">docs</a>)<br>Sweep page: <a href='https://wandb.ai/ahujavaibhav2001-st-lawrence-college/Truck%20Delay%20Classification/sweeps/9mnowi7x' target=\"_blank\">https://wandb.ai/ahujavaibhav2001-st-lawrence-college/Truck%20Delay%20Classification/sweeps/9mnowi7x</a>"
      ],
      "text/plain": [
       "<IPython.core.display.HTML object>"
      ]
     },
     "metadata": {},
     "output_type": "display_data"
    },
    {
     "data": {
      "text/html": [
       " View project at <a href='https://wandb.ai/ahujavaibhav2001-st-lawrence-college/Truck%20Delay%20Classification' target=\"_blank\">https://wandb.ai/ahujavaibhav2001-st-lawrence-college/Truck%20Delay%20Classification</a>"
      ],
      "text/plain": [
       "<IPython.core.display.HTML object>"
      ]
     },
     "metadata": {},
     "output_type": "display_data"
    },
    {
     "data": {
      "text/html": [
       " View sweep at <a href='https://wandb.ai/ahujavaibhav2001-st-lawrence-college/Truck%20Delay%20Classification/sweeps/9mnowi7x' target=\"_blank\">https://wandb.ai/ahujavaibhav2001-st-lawrence-college/Truck%20Delay%20Classification/sweeps/9mnowi7x</a>"
      ],
      "text/plain": [
       "<IPython.core.display.HTML object>"
      ]
     },
     "metadata": {},
     "output_type": "display_data"
    },
    {
     "data": {
      "text/html": [
       " View run at <a href='https://wandb.ai/ahujavaibhav2001-st-lawrence-college/Truck%20Delay%20Classification/runs/5a11f8r7' target=\"_blank\">https://wandb.ai/ahujavaibhav2001-st-lawrence-college/Truck%20Delay%20Classification/runs/5a11f8r7</a>"
      ],
      "text/plain": [
       "<IPython.core.display.HTML object>"
      ]
     },
     "metadata": {},
     "output_type": "display_data"
    },
    {
     "name": "stdout",
     "output_type": "stream",
     "text": [
      "F1_score Train: 0.9482\n",
      "F1_score Valid: 0.6011\n",
      "F1_score Test: 0.6612\n"
     ]
    },
    {
     "name": "stderr",
     "output_type": "stream",
     "text": [
      "wandb: \n",
      "wandb: Plotting RandomForestClassifier.\n",
      "UserWarning: X does not have valid feature names, but RandomForestClassifier was fitted with feature names\n",
      "wandb: Logged feature importances.\n",
      "wandb: Logged confusion matrix.\n",
      "UserWarning: X does not have valid feature names, but RandomForestClassifier was fitted with feature names\n",
      "wandb: Logged summary metrics.\n",
      "wandb: Logged class proportions.\n",
      "UserWarning: X does not have valid feature names, but RandomForestClassifier was fitted with feature names\n",
      "ConvergenceWarning: lbfgs failed to converge (status=1):\n",
      "STOP: TOTAL NO. of ITERATIONS REACHED LIMIT.\n",
      "\n",
      "Increase the number of iterations (max_iter) or scale the data as shown in:\n",
      "    https://scikit-learn.org/stable/modules/preprocessing.html\n",
      "Please also refer to the documentation for alternative solver options:\n",
      "    https://scikit-learn.org/stable/modules/linear_model.html#logistic-regression\n",
      "wandb: Logged calibration curve.\n",
      "wandb: Logged roc curve.\n",
      "wandb: Logged precision-recall curve.\n"
     ]
    },
    {
     "data": {
      "text/html": [],
      "text/plain": [
       "<IPython.core.display.HTML object>"
      ]
     },
     "metadata": {},
     "output_type": "display_data"
    },
    {
     "data": {
      "text/html": [
       "<br>    <style><br>        .wandb-row {<br>            display: flex;<br>            flex-direction: row;<br>            flex-wrap: wrap;<br>            justify-content: flex-start;<br>            width: 100%;<br>        }<br>        .wandb-col {<br>            display: flex;<br>            flex-direction: column;<br>            flex-basis: 100%;<br>            flex: 1;<br>            padding: 10px;<br>        }<br>    </style><br><div class=\"wandb-row\"><div class=\"wandb-col\"><h3>Run history:</h3><br/><table class=\"wandb\"><tr><td>f1_score</td><td>▁</td></tr><tr><td>f1_score_train</td><td>▁</td></tr><tr><td>f1_score_valid</td><td>▁</td></tr></table><br/></div><div class=\"wandb-col\"><h3>Run summary:</h3><br/><table class=\"wandb\"><tr><td>f1_score</td><td>0.66116</td></tr><tr><td>f1_score_train</td><td>0.94821</td></tr><tr><td>f1_score_valid</td><td>0.60113</td></tr></table><br/></div></div>"
      ],
      "text/plain": [
       "<IPython.core.display.HTML object>"
      ]
     },
     "metadata": {},
     "output_type": "display_data"
    },
    {
     "data": {
      "text/html": [
       " View run <strong style=\"color:#cdcd00\">summer-sweep-71</strong> at: <a href='https://wandb.ai/ahujavaibhav2001-st-lawrence-college/Truck%20Delay%20Classification/runs/5a11f8r7' target=\"_blank\">https://wandb.ai/ahujavaibhav2001-st-lawrence-college/Truck%20Delay%20Classification/runs/5a11f8r7</a><br> View project at: <a href='https://wandb.ai/ahujavaibhav2001-st-lawrence-college/Truck%20Delay%20Classification' target=\"_blank\">https://wandb.ai/ahujavaibhav2001-st-lawrence-college/Truck%20Delay%20Classification</a><br>Synced 5 W&B file(s), 0 media file(s), 16 artifact file(s) and 7 other file(s)"
      ],
      "text/plain": [
       "<IPython.core.display.HTML object>"
      ]
     },
     "metadata": {},
     "output_type": "display_data"
    },
    {
     "data": {
      "text/html": [
       "Find logs at: <code>.\\wandb\\run-20241229_174552-5a11f8r7\\logs</code>"
      ],
      "text/plain": [
       "<IPython.core.display.HTML object>"
      ]
     },
     "metadata": {},
     "output_type": "display_data"
    },
    {
     "name": "stderr",
     "output_type": "stream",
     "text": [
      "wandb: Agent Starting Run: ne9fsc95 with config:\n",
      "wandb: \tmax_depth: 20\n",
      "wandb: \tmin_samples_split: 4\n",
      "wandb: \tn_estimators: 20\n",
      "wandb: WARNING Ignoring project 'Truck Delay Classification' when running a sweep.\n"
     ]
    },
    {
     "data": {
      "text/html": [
       "Tracking run with wandb version 0.19.1"
      ],
      "text/plain": [
       "<IPython.core.display.HTML object>"
      ]
     },
     "metadata": {},
     "output_type": "display_data"
    },
    {
     "data": {
      "text/html": [
       "Run data is saved locally in <code>C:\\Users\\ahuja\\wandb\\run-20241229_174607-ne9fsc95</code>"
      ],
      "text/plain": [
       "<IPython.core.display.HTML object>"
      ]
     },
     "metadata": {},
     "output_type": "display_data"
    },
    {
     "data": {
      "text/html": [
       "Syncing run <strong><a href='https://wandb.ai/ahujavaibhav2001-st-lawrence-college/Truck%20Delay%20Classification/runs/ne9fsc95' target=\"_blank\">crimson-sweep-72</a></strong> to <a href='https://wandb.ai/ahujavaibhav2001-st-lawrence-college/Truck%20Delay%20Classification' target=\"_blank\">Weights & Biases</a> (<a href='https://wandb.me/developer-guide' target=\"_blank\">docs</a>)<br>Sweep page: <a href='https://wandb.ai/ahujavaibhav2001-st-lawrence-college/Truck%20Delay%20Classification/sweeps/9mnowi7x' target=\"_blank\">https://wandb.ai/ahujavaibhav2001-st-lawrence-college/Truck%20Delay%20Classification/sweeps/9mnowi7x</a>"
      ],
      "text/plain": [
       "<IPython.core.display.HTML object>"
      ]
     },
     "metadata": {},
     "output_type": "display_data"
    },
    {
     "data": {
      "text/html": [
       " View project at <a href='https://wandb.ai/ahujavaibhav2001-st-lawrence-college/Truck%20Delay%20Classification' target=\"_blank\">https://wandb.ai/ahujavaibhav2001-st-lawrence-college/Truck%20Delay%20Classification</a>"
      ],
      "text/plain": [
       "<IPython.core.display.HTML object>"
      ]
     },
     "metadata": {},
     "output_type": "display_data"
    },
    {
     "data": {
      "text/html": [
       " View sweep at <a href='https://wandb.ai/ahujavaibhav2001-st-lawrence-college/Truck%20Delay%20Classification/sweeps/9mnowi7x' target=\"_blank\">https://wandb.ai/ahujavaibhav2001-st-lawrence-college/Truck%20Delay%20Classification/sweeps/9mnowi7x</a>"
      ],
      "text/plain": [
       "<IPython.core.display.HTML object>"
      ]
     },
     "metadata": {},
     "output_type": "display_data"
    },
    {
     "data": {
      "text/html": [
       " View run at <a href='https://wandb.ai/ahujavaibhav2001-st-lawrence-college/Truck%20Delay%20Classification/runs/ne9fsc95' target=\"_blank\">https://wandb.ai/ahujavaibhav2001-st-lawrence-college/Truck%20Delay%20Classification/runs/ne9fsc95</a>"
      ],
      "text/plain": [
       "<IPython.core.display.HTML object>"
      ]
     },
     "metadata": {},
     "output_type": "display_data"
    },
    {
     "name": "stdout",
     "output_type": "stream",
     "text": [
      "F1_score Train: 0.9561\n",
      "F1_score Valid: 0.6147\n",
      "F1_score Test: 0.6751\n"
     ]
    },
    {
     "name": "stderr",
     "output_type": "stream",
     "text": [
      "wandb: \n",
      "wandb: Plotting RandomForestClassifier.\n",
      "UserWarning: X does not have valid feature names, but RandomForestClassifier was fitted with feature names\n",
      "wandb: Logged feature importances.\n",
      "wandb: Logged confusion matrix.\n",
      "UserWarning: X does not have valid feature names, but RandomForestClassifier was fitted with feature names\n",
      "wandb: Logged summary metrics.\n",
      "wandb: Logged class proportions.\n",
      "UserWarning: X does not have valid feature names, but RandomForestClassifier was fitted with feature names\n",
      "ConvergenceWarning: lbfgs failed to converge (status=1):\n",
      "STOP: TOTAL NO. of ITERATIONS REACHED LIMIT.\n",
      "\n",
      "Increase the number of iterations (max_iter) or scale the data as shown in:\n",
      "    https://scikit-learn.org/stable/modules/preprocessing.html\n",
      "Please also refer to the documentation for alternative solver options:\n",
      "    https://scikit-learn.org/stable/modules/linear_model.html#logistic-regression\n",
      "wandb: Logged calibration curve.\n",
      "wandb: Logged roc curve.\n",
      "wandb: Logged precision-recall curve.\n"
     ]
    },
    {
     "data": {
      "text/html": [],
      "text/plain": [
       "<IPython.core.display.HTML object>"
      ]
     },
     "metadata": {},
     "output_type": "display_data"
    },
    {
     "data": {
      "text/html": [
       "<br>    <style><br>        .wandb-row {<br>            display: flex;<br>            flex-direction: row;<br>            flex-wrap: wrap;<br>            justify-content: flex-start;<br>            width: 100%;<br>        }<br>        .wandb-col {<br>            display: flex;<br>            flex-direction: column;<br>            flex-basis: 100%;<br>            flex: 1;<br>            padding: 10px;<br>        }<br>    </style><br><div class=\"wandb-row\"><div class=\"wandb-col\"><h3>Run history:</h3><br/><table class=\"wandb\"><tr><td>f1_score</td><td>▁</td></tr><tr><td>f1_score_train</td><td>▁</td></tr><tr><td>f1_score_valid</td><td>▁</td></tr></table><br/></div><div class=\"wandb-col\"><h3>Run summary:</h3><br/><table class=\"wandb\"><tr><td>f1_score</td><td>0.67509</td></tr><tr><td>f1_score_train</td><td>0.95613</td></tr><tr><td>f1_score_valid</td><td>0.61473</td></tr></table><br/></div></div>"
      ],
      "text/plain": [
       "<IPython.core.display.HTML object>"
      ]
     },
     "metadata": {},
     "output_type": "display_data"
    },
    {
     "data": {
      "text/html": [
       " View run <strong style=\"color:#cdcd00\">crimson-sweep-72</strong> at: <a href='https://wandb.ai/ahujavaibhav2001-st-lawrence-college/Truck%20Delay%20Classification/runs/ne9fsc95' target=\"_blank\">https://wandb.ai/ahujavaibhav2001-st-lawrence-college/Truck%20Delay%20Classification/runs/ne9fsc95</a><br> View project at: <a href='https://wandb.ai/ahujavaibhav2001-st-lawrence-college/Truck%20Delay%20Classification' target=\"_blank\">https://wandb.ai/ahujavaibhav2001-st-lawrence-college/Truck%20Delay%20Classification</a><br>Synced 5 W&B file(s), 0 media file(s), 16 artifact file(s) and 7 other file(s)"
      ],
      "text/plain": [
       "<IPython.core.display.HTML object>"
      ]
     },
     "metadata": {},
     "output_type": "display_data"
    },
    {
     "data": {
      "text/html": [
       "Find logs at: <code>.\\wandb\\run-20241229_174607-ne9fsc95\\logs</code>"
      ],
      "text/plain": [
       "<IPython.core.display.HTML object>"
      ]
     },
     "metadata": {},
     "output_type": "display_data"
    },
    {
     "name": "stderr",
     "output_type": "stream",
     "text": [
      "wandb: Sweep Agent: Waiting for job.\n",
      "wandb: Job received.\n",
      "wandb: Agent Starting Run: 8b2bbhub with config:\n",
      "wandb: \tmax_depth: 20\n",
      "wandb: \tmin_samples_split: 8\n",
      "wandb: \tn_estimators: 8\n",
      "wandb: WARNING Ignoring project 'Truck Delay Classification' when running a sweep.\n"
     ]
    },
    {
     "data": {
      "text/html": [
       "Tracking run with wandb version 0.19.1"
      ],
      "text/plain": [
       "<IPython.core.display.HTML object>"
      ]
     },
     "metadata": {},
     "output_type": "display_data"
    },
    {
     "data": {
      "text/html": [
       "Run data is saved locally in <code>C:\\Users\\ahuja\\wandb\\run-20241229_174627-8b2bbhub</code>"
      ],
      "text/plain": [
       "<IPython.core.display.HTML object>"
      ]
     },
     "metadata": {},
     "output_type": "display_data"
    },
    {
     "data": {
      "text/html": [
       "Syncing run <strong><a href='https://wandb.ai/ahujavaibhav2001-st-lawrence-college/Truck%20Delay%20Classification/runs/8b2bbhub' target=\"_blank\">gallant-sweep-73</a></strong> to <a href='https://wandb.ai/ahujavaibhav2001-st-lawrence-college/Truck%20Delay%20Classification' target=\"_blank\">Weights & Biases</a> (<a href='https://wandb.me/developer-guide' target=\"_blank\">docs</a>)<br>Sweep page: <a href='https://wandb.ai/ahujavaibhav2001-st-lawrence-college/Truck%20Delay%20Classification/sweeps/9mnowi7x' target=\"_blank\">https://wandb.ai/ahujavaibhav2001-st-lawrence-college/Truck%20Delay%20Classification/sweeps/9mnowi7x</a>"
      ],
      "text/plain": [
       "<IPython.core.display.HTML object>"
      ]
     },
     "metadata": {},
     "output_type": "display_data"
    },
    {
     "data": {
      "text/html": [
       " View project at <a href='https://wandb.ai/ahujavaibhav2001-st-lawrence-college/Truck%20Delay%20Classification' target=\"_blank\">https://wandb.ai/ahujavaibhav2001-st-lawrence-college/Truck%20Delay%20Classification</a>"
      ],
      "text/plain": [
       "<IPython.core.display.HTML object>"
      ]
     },
     "metadata": {},
     "output_type": "display_data"
    },
    {
     "data": {
      "text/html": [
       " View sweep at <a href='https://wandb.ai/ahujavaibhav2001-st-lawrence-college/Truck%20Delay%20Classification/sweeps/9mnowi7x' target=\"_blank\">https://wandb.ai/ahujavaibhav2001-st-lawrence-college/Truck%20Delay%20Classification/sweeps/9mnowi7x</a>"
      ],
      "text/plain": [
       "<IPython.core.display.HTML object>"
      ]
     },
     "metadata": {},
     "output_type": "display_data"
    },
    {
     "data": {
      "text/html": [
       " View run at <a href='https://wandb.ai/ahujavaibhav2001-st-lawrence-college/Truck%20Delay%20Classification/runs/8b2bbhub' target=\"_blank\">https://wandb.ai/ahujavaibhav2001-st-lawrence-college/Truck%20Delay%20Classification/runs/8b2bbhub</a>"
      ],
      "text/plain": [
       "<IPython.core.display.HTML object>"
      ]
     },
     "metadata": {},
     "output_type": "display_data"
    },
    {
     "name": "stdout",
     "output_type": "stream",
     "text": [
      "F1_score Train: 0.883\n",
      "F1_score Valid: 0.5923\n",
      "F1_score Test: 0.6585\n"
     ]
    },
    {
     "name": "stderr",
     "output_type": "stream",
     "text": [
      "wandb: \n",
      "wandb: Plotting RandomForestClassifier.\n",
      "UserWarning: X does not have valid feature names, but RandomForestClassifier was fitted with feature names\n",
      "wandb: Logged feature importances.\n",
      "wandb: Logged confusion matrix.\n",
      "UserWarning: X does not have valid feature names, but RandomForestClassifier was fitted with feature names\n",
      "wandb: Logged summary metrics.\n",
      "wandb: Logged class proportions.\n",
      "UserWarning: X does not have valid feature names, but RandomForestClassifier was fitted with feature names\n",
      "ConvergenceWarning: lbfgs failed to converge (status=1):\n",
      "STOP: TOTAL NO. of ITERATIONS REACHED LIMIT.\n",
      "\n",
      "Increase the number of iterations (max_iter) or scale the data as shown in:\n",
      "    https://scikit-learn.org/stable/modules/preprocessing.html\n",
      "Please also refer to the documentation for alternative solver options:\n",
      "    https://scikit-learn.org/stable/modules/linear_model.html#logistic-regression\n",
      "wandb: Logged calibration curve.\n",
      "wandb: Logged roc curve.\n",
      "wandb: Logged precision-recall curve.\n"
     ]
    },
    {
     "data": {
      "text/html": [],
      "text/plain": [
       "<IPython.core.display.HTML object>"
      ]
     },
     "metadata": {},
     "output_type": "display_data"
    },
    {
     "data": {
      "text/html": [
       "<br>    <style><br>        .wandb-row {<br>            display: flex;<br>            flex-direction: row;<br>            flex-wrap: wrap;<br>            justify-content: flex-start;<br>            width: 100%;<br>        }<br>        .wandb-col {<br>            display: flex;<br>            flex-direction: column;<br>            flex-basis: 100%;<br>            flex: 1;<br>            padding: 10px;<br>        }<br>    </style><br><div class=\"wandb-row\"><div class=\"wandb-col\"><h3>Run history:</h3><br/><table class=\"wandb\"><tr><td>f1_score</td><td>▁</td></tr><tr><td>f1_score_train</td><td>▁</td></tr><tr><td>f1_score_valid</td><td>▁</td></tr></table><br/></div><div class=\"wandb-col\"><h3>Run summary:</h3><br/><table class=\"wandb\"><tr><td>f1_score</td><td>0.65847</td></tr><tr><td>f1_score_train</td><td>0.88296</td></tr><tr><td>f1_score_valid</td><td>0.59229</td></tr></table><br/></div></div>"
      ],
      "text/plain": [
       "<IPython.core.display.HTML object>"
      ]
     },
     "metadata": {},
     "output_type": "display_data"
    },
    {
     "data": {
      "text/html": [
       " View run <strong style=\"color:#cdcd00\">gallant-sweep-73</strong> at: <a href='https://wandb.ai/ahujavaibhav2001-st-lawrence-college/Truck%20Delay%20Classification/runs/8b2bbhub' target=\"_blank\">https://wandb.ai/ahujavaibhav2001-st-lawrence-college/Truck%20Delay%20Classification/runs/8b2bbhub</a><br> View project at: <a href='https://wandb.ai/ahujavaibhav2001-st-lawrence-college/Truck%20Delay%20Classification' target=\"_blank\">https://wandb.ai/ahujavaibhav2001-st-lawrence-college/Truck%20Delay%20Classification</a><br>Synced 5 W&B file(s), 0 media file(s), 16 artifact file(s) and 7 other file(s)"
      ],
      "text/plain": [
       "<IPython.core.display.HTML object>"
      ]
     },
     "metadata": {},
     "output_type": "display_data"
    },
    {
     "data": {
      "text/html": [
       "Find logs at: <code>.\\wandb\\run-20241229_174627-8b2bbhub\\logs</code>"
      ],
      "text/plain": [
       "<IPython.core.display.HTML object>"
      ]
     },
     "metadata": {},
     "output_type": "display_data"
    },
    {
     "name": "stderr",
     "output_type": "stream",
     "text": [
      "wandb: Agent Starting Run: q8psr2ca with config:\n",
      "wandb: \tmax_depth: 20\n",
      "wandb: \tmin_samples_split: 8\n",
      "wandb: \tn_estimators: 12\n",
      "wandb: WARNING Ignoring project 'Truck Delay Classification' when running a sweep.\n"
     ]
    },
    {
     "data": {
      "text/html": [
       "Tracking run with wandb version 0.19.1"
      ],
      "text/plain": [
       "<IPython.core.display.HTML object>"
      ]
     },
     "metadata": {},
     "output_type": "display_data"
    },
    {
     "data": {
      "text/html": [
       "Run data is saved locally in <code>C:\\Users\\ahuja\\wandb\\run-20241229_174638-q8psr2ca</code>"
      ],
      "text/plain": [
       "<IPython.core.display.HTML object>"
      ]
     },
     "metadata": {},
     "output_type": "display_data"
    },
    {
     "data": {
      "text/html": [
       "Syncing run <strong><a href='https://wandb.ai/ahujavaibhav2001-st-lawrence-college/Truck%20Delay%20Classification/runs/q8psr2ca' target=\"_blank\">vague-sweep-74</a></strong> to <a href='https://wandb.ai/ahujavaibhav2001-st-lawrence-college/Truck%20Delay%20Classification' target=\"_blank\">Weights & Biases</a> (<a href='https://wandb.me/developer-guide' target=\"_blank\">docs</a>)<br>Sweep page: <a href='https://wandb.ai/ahujavaibhav2001-st-lawrence-college/Truck%20Delay%20Classification/sweeps/9mnowi7x' target=\"_blank\">https://wandb.ai/ahujavaibhav2001-st-lawrence-college/Truck%20Delay%20Classification/sweeps/9mnowi7x</a>"
      ],
      "text/plain": [
       "<IPython.core.display.HTML object>"
      ]
     },
     "metadata": {},
     "output_type": "display_data"
    },
    {
     "data": {
      "text/html": [
       " View project at <a href='https://wandb.ai/ahujavaibhav2001-st-lawrence-college/Truck%20Delay%20Classification' target=\"_blank\">https://wandb.ai/ahujavaibhav2001-st-lawrence-college/Truck%20Delay%20Classification</a>"
      ],
      "text/plain": [
       "<IPython.core.display.HTML object>"
      ]
     },
     "metadata": {},
     "output_type": "display_data"
    },
    {
     "data": {
      "text/html": [
       " View sweep at <a href='https://wandb.ai/ahujavaibhav2001-st-lawrence-college/Truck%20Delay%20Classification/sweeps/9mnowi7x' target=\"_blank\">https://wandb.ai/ahujavaibhav2001-st-lawrence-college/Truck%20Delay%20Classification/sweeps/9mnowi7x</a>"
      ],
      "text/plain": [
       "<IPython.core.display.HTML object>"
      ]
     },
     "metadata": {},
     "output_type": "display_data"
    },
    {
     "data": {
      "text/html": [
       " View run at <a href='https://wandb.ai/ahujavaibhav2001-st-lawrence-college/Truck%20Delay%20Classification/runs/q8psr2ca' target=\"_blank\">https://wandb.ai/ahujavaibhav2001-st-lawrence-college/Truck%20Delay%20Classification/runs/q8psr2ca</a>"
      ],
      "text/plain": [
       "<IPython.core.display.HTML object>"
      ]
     },
     "metadata": {},
     "output_type": "display_data"
    },
    {
     "name": "stdout",
     "output_type": "stream",
     "text": [
      "F1_score Train: 0.9004\n",
      "F1_score Valid: 0.6129\n",
      "F1_score Test: 0.6667\n"
     ]
    },
    {
     "name": "stderr",
     "output_type": "stream",
     "text": [
      "wandb: \n",
      "wandb: Plotting RandomForestClassifier.\n",
      "UserWarning: X does not have valid feature names, but RandomForestClassifier was fitted with feature names\n",
      "wandb: Logged feature importances.\n",
      "wandb: Logged confusion matrix.\n",
      "UserWarning: X does not have valid feature names, but RandomForestClassifier was fitted with feature names\n",
      "wandb: Logged summary metrics.\n",
      "wandb: Logged class proportions.\n",
      "UserWarning: X does not have valid feature names, but RandomForestClassifier was fitted with feature names\n",
      "ConvergenceWarning: lbfgs failed to converge (status=1):\n",
      "STOP: TOTAL NO. of ITERATIONS REACHED LIMIT.\n",
      "\n",
      "Increase the number of iterations (max_iter) or scale the data as shown in:\n",
      "    https://scikit-learn.org/stable/modules/preprocessing.html\n",
      "Please also refer to the documentation for alternative solver options:\n",
      "    https://scikit-learn.org/stable/modules/linear_model.html#logistic-regression\n",
      "wandb: Logged calibration curve.\n",
      "wandb: Logged roc curve.\n",
      "wandb: Logged precision-recall curve.\n"
     ]
    },
    {
     "data": {
      "text/html": [],
      "text/plain": [
       "<IPython.core.display.HTML object>"
      ]
     },
     "metadata": {},
     "output_type": "display_data"
    },
    {
     "data": {
      "text/html": [
       "<br>    <style><br>        .wandb-row {<br>            display: flex;<br>            flex-direction: row;<br>            flex-wrap: wrap;<br>            justify-content: flex-start;<br>            width: 100%;<br>        }<br>        .wandb-col {<br>            display: flex;<br>            flex-direction: column;<br>            flex-basis: 100%;<br>            flex: 1;<br>            padding: 10px;<br>        }<br>    </style><br><div class=\"wandb-row\"><div class=\"wandb-col\"><h3>Run history:</h3><br/><table class=\"wandb\"><tr><td>f1_score</td><td>▁</td></tr><tr><td>f1_score_train</td><td>▁</td></tr><tr><td>f1_score_valid</td><td>▁</td></tr></table><br/></div><div class=\"wandb-col\"><h3>Run summary:</h3><br/><table class=\"wandb\"><tr><td>f1_score</td><td>0.66667</td></tr><tr><td>f1_score_train</td><td>0.90038</td></tr><tr><td>f1_score_valid</td><td>0.61293</td></tr></table><br/></div></div>"
      ],
      "text/plain": [
       "<IPython.core.display.HTML object>"
      ]
     },
     "metadata": {},
     "output_type": "display_data"
    },
    {
     "data": {
      "text/html": [
       " View run <strong style=\"color:#cdcd00\">vague-sweep-74</strong> at: <a href='https://wandb.ai/ahujavaibhav2001-st-lawrence-college/Truck%20Delay%20Classification/runs/q8psr2ca' target=\"_blank\">https://wandb.ai/ahujavaibhav2001-st-lawrence-college/Truck%20Delay%20Classification/runs/q8psr2ca</a><br> View project at: <a href='https://wandb.ai/ahujavaibhav2001-st-lawrence-college/Truck%20Delay%20Classification' target=\"_blank\">https://wandb.ai/ahujavaibhav2001-st-lawrence-college/Truck%20Delay%20Classification</a><br>Synced 5 W&B file(s), 0 media file(s), 16 artifact file(s) and 7 other file(s)"
      ],
      "text/plain": [
       "<IPython.core.display.HTML object>"
      ]
     },
     "metadata": {},
     "output_type": "display_data"
    },
    {
     "data": {
      "text/html": [
       "Find logs at: <code>.\\wandb\\run-20241229_174638-q8psr2ca\\logs</code>"
      ],
      "text/plain": [
       "<IPython.core.display.HTML object>"
      ]
     },
     "metadata": {},
     "output_type": "display_data"
    },
    {
     "name": "stderr",
     "output_type": "stream",
     "text": [
      "wandb: Agent Starting Run: fcq19scy with config:\n",
      "wandb: \tmax_depth: 20\n",
      "wandb: \tmin_samples_split: 8\n",
      "wandb: \tn_estimators: 16\n",
      "wandb: WARNING Ignoring project 'Truck Delay Classification' when running a sweep.\n"
     ]
    },
    {
     "data": {
      "text/html": [
       "Tracking run with wandb version 0.19.1"
      ],
      "text/plain": [
       "<IPython.core.display.HTML object>"
      ]
     },
     "metadata": {},
     "output_type": "display_data"
    },
    {
     "data": {
      "text/html": [
       "Run data is saved locally in <code>C:\\Users\\ahuja\\wandb\\run-20241229_174648-fcq19scy</code>"
      ],
      "text/plain": [
       "<IPython.core.display.HTML object>"
      ]
     },
     "metadata": {},
     "output_type": "display_data"
    },
    {
     "data": {
      "text/html": [
       "Syncing run <strong><a href='https://wandb.ai/ahujavaibhav2001-st-lawrence-college/Truck%20Delay%20Classification/runs/fcq19scy' target=\"_blank\">sleek-sweep-75</a></strong> to <a href='https://wandb.ai/ahujavaibhav2001-st-lawrence-college/Truck%20Delay%20Classification' target=\"_blank\">Weights & Biases</a> (<a href='https://wandb.me/developer-guide' target=\"_blank\">docs</a>)<br>Sweep page: <a href='https://wandb.ai/ahujavaibhav2001-st-lawrence-college/Truck%20Delay%20Classification/sweeps/9mnowi7x' target=\"_blank\">https://wandb.ai/ahujavaibhav2001-st-lawrence-college/Truck%20Delay%20Classification/sweeps/9mnowi7x</a>"
      ],
      "text/plain": [
       "<IPython.core.display.HTML object>"
      ]
     },
     "metadata": {},
     "output_type": "display_data"
    },
    {
     "data": {
      "text/html": [
       " View project at <a href='https://wandb.ai/ahujavaibhav2001-st-lawrence-college/Truck%20Delay%20Classification' target=\"_blank\">https://wandb.ai/ahujavaibhav2001-st-lawrence-college/Truck%20Delay%20Classification</a>"
      ],
      "text/plain": [
       "<IPython.core.display.HTML object>"
      ]
     },
     "metadata": {},
     "output_type": "display_data"
    },
    {
     "data": {
      "text/html": [
       " View sweep at <a href='https://wandb.ai/ahujavaibhav2001-st-lawrence-college/Truck%20Delay%20Classification/sweeps/9mnowi7x' target=\"_blank\">https://wandb.ai/ahujavaibhav2001-st-lawrence-college/Truck%20Delay%20Classification/sweeps/9mnowi7x</a>"
      ],
      "text/plain": [
       "<IPython.core.display.HTML object>"
      ]
     },
     "metadata": {},
     "output_type": "display_data"
    },
    {
     "data": {
      "text/html": [
       " View run at <a href='https://wandb.ai/ahujavaibhav2001-st-lawrence-college/Truck%20Delay%20Classification/runs/fcq19scy' target=\"_blank\">https://wandb.ai/ahujavaibhav2001-st-lawrence-college/Truck%20Delay%20Classification/runs/fcq19scy</a>"
      ],
      "text/plain": [
       "<IPython.core.display.HTML object>"
      ]
     },
     "metadata": {},
     "output_type": "display_data"
    },
    {
     "name": "stdout",
     "output_type": "stream",
     "text": [
      "F1_score Train: 0.9196\n",
      "F1_score Valid: 0.6233\n",
      "F1_score Test: 0.6804\n"
     ]
    },
    {
     "name": "stderr",
     "output_type": "stream",
     "text": [
      "wandb: \n",
      "wandb: Plotting RandomForestClassifier.\n",
      "UserWarning: X does not have valid feature names, but RandomForestClassifier was fitted with feature names\n",
      "wandb: Logged feature importances.\n",
      "wandb: Logged confusion matrix.\n",
      "UserWarning: X does not have valid feature names, but RandomForestClassifier was fitted with feature names\n",
      "wandb: Logged summary metrics.\n",
      "wandb: Logged class proportions.\n",
      "UserWarning: X does not have valid feature names, but RandomForestClassifier was fitted with feature names\n",
      "ConvergenceWarning: lbfgs failed to converge (status=1):\n",
      "STOP: TOTAL NO. of ITERATIONS REACHED LIMIT.\n",
      "\n",
      "Increase the number of iterations (max_iter) or scale the data as shown in:\n",
      "    https://scikit-learn.org/stable/modules/preprocessing.html\n",
      "Please also refer to the documentation for alternative solver options:\n",
      "    https://scikit-learn.org/stable/modules/linear_model.html#logistic-regression\n",
      "wandb: Logged calibration curve.\n",
      "wandb: Logged roc curve.\n",
      "wandb: Logged precision-recall curve.\n"
     ]
    },
    {
     "data": {
      "text/html": [],
      "text/plain": [
       "<IPython.core.display.HTML object>"
      ]
     },
     "metadata": {},
     "output_type": "display_data"
    },
    {
     "data": {
      "text/html": [
       "<br>    <style><br>        .wandb-row {<br>            display: flex;<br>            flex-direction: row;<br>            flex-wrap: wrap;<br>            justify-content: flex-start;<br>            width: 100%;<br>        }<br>        .wandb-col {<br>            display: flex;<br>            flex-direction: column;<br>            flex-basis: 100%;<br>            flex: 1;<br>            padding: 10px;<br>        }<br>    </style><br><div class=\"wandb-row\"><div class=\"wandb-col\"><h3>Run history:</h3><br/><table class=\"wandb\"><tr><td>f1_score</td><td>▁</td></tr><tr><td>f1_score_train</td><td>▁</td></tr><tr><td>f1_score_valid</td><td>▁</td></tr></table><br/></div><div class=\"wandb-col\"><h3>Run summary:</h3><br/><table class=\"wandb\"><tr><td>f1_score</td><td>0.68035</td></tr><tr><td>f1_score_train</td><td>0.91964</td></tr><tr><td>f1_score_valid</td><td>0.62332</td></tr></table><br/></div></div>"
      ],
      "text/plain": [
       "<IPython.core.display.HTML object>"
      ]
     },
     "metadata": {},
     "output_type": "display_data"
    },
    {
     "data": {
      "text/html": [
       " View run <strong style=\"color:#cdcd00\">sleek-sweep-75</strong> at: <a href='https://wandb.ai/ahujavaibhav2001-st-lawrence-college/Truck%20Delay%20Classification/runs/fcq19scy' target=\"_blank\">https://wandb.ai/ahujavaibhav2001-st-lawrence-college/Truck%20Delay%20Classification/runs/fcq19scy</a><br> View project at: <a href='https://wandb.ai/ahujavaibhav2001-st-lawrence-college/Truck%20Delay%20Classification' target=\"_blank\">https://wandb.ai/ahujavaibhav2001-st-lawrence-college/Truck%20Delay%20Classification</a><br>Synced 5 W&B file(s), 0 media file(s), 16 artifact file(s) and 7 other file(s)"
      ],
      "text/plain": [
       "<IPython.core.display.HTML object>"
      ]
     },
     "metadata": {},
     "output_type": "display_data"
    },
    {
     "data": {
      "text/html": [
       "Find logs at: <code>.\\wandb\\run-20241229_174648-fcq19scy\\logs</code>"
      ],
      "text/plain": [
       "<IPython.core.display.HTML object>"
      ]
     },
     "metadata": {},
     "output_type": "display_data"
    },
    {
     "name": "stderr",
     "output_type": "stream",
     "text": [
      "wandb: Agent Starting Run: 8oz3ljmr with config:\n",
      "wandb: \tmax_depth: 20\n",
      "wandb: \tmin_samples_split: 8\n",
      "wandb: \tn_estimators: 20\n",
      "wandb: WARNING Ignoring project 'Truck Delay Classification' when running a sweep.\n"
     ]
    },
    {
     "data": {
      "text/html": [
       "Tracking run with wandb version 0.19.1"
      ],
      "text/plain": [
       "<IPython.core.display.HTML object>"
      ]
     },
     "metadata": {},
     "output_type": "display_data"
    },
    {
     "data": {
      "text/html": [
       "Run data is saved locally in <code>C:\\Users\\ahuja\\wandb\\run-20241229_174703-8oz3ljmr</code>"
      ],
      "text/plain": [
       "<IPython.core.display.HTML object>"
      ]
     },
     "metadata": {},
     "output_type": "display_data"
    },
    {
     "data": {
      "text/html": [
       "Syncing run <strong><a href='https://wandb.ai/ahujavaibhav2001-st-lawrence-college/Truck%20Delay%20Classification/runs/8oz3ljmr' target=\"_blank\">valiant-sweep-76</a></strong> to <a href='https://wandb.ai/ahujavaibhav2001-st-lawrence-college/Truck%20Delay%20Classification' target=\"_blank\">Weights & Biases</a> (<a href='https://wandb.me/developer-guide' target=\"_blank\">docs</a>)<br>Sweep page: <a href='https://wandb.ai/ahujavaibhav2001-st-lawrence-college/Truck%20Delay%20Classification/sweeps/9mnowi7x' target=\"_blank\">https://wandb.ai/ahujavaibhav2001-st-lawrence-college/Truck%20Delay%20Classification/sweeps/9mnowi7x</a>"
      ],
      "text/plain": [
       "<IPython.core.display.HTML object>"
      ]
     },
     "metadata": {},
     "output_type": "display_data"
    },
    {
     "data": {
      "text/html": [
       " View project at <a href='https://wandb.ai/ahujavaibhav2001-st-lawrence-college/Truck%20Delay%20Classification' target=\"_blank\">https://wandb.ai/ahujavaibhav2001-st-lawrence-college/Truck%20Delay%20Classification</a>"
      ],
      "text/plain": [
       "<IPython.core.display.HTML object>"
      ]
     },
     "metadata": {},
     "output_type": "display_data"
    },
    {
     "data": {
      "text/html": [
       " View sweep at <a href='https://wandb.ai/ahujavaibhav2001-st-lawrence-college/Truck%20Delay%20Classification/sweeps/9mnowi7x' target=\"_blank\">https://wandb.ai/ahujavaibhav2001-st-lawrence-college/Truck%20Delay%20Classification/sweeps/9mnowi7x</a>"
      ],
      "text/plain": [
       "<IPython.core.display.HTML object>"
      ]
     },
     "metadata": {},
     "output_type": "display_data"
    },
    {
     "data": {
      "text/html": [
       " View run at <a href='https://wandb.ai/ahujavaibhav2001-st-lawrence-college/Truck%20Delay%20Classification/runs/8oz3ljmr' target=\"_blank\">https://wandb.ai/ahujavaibhav2001-st-lawrence-college/Truck%20Delay%20Classification/runs/8oz3ljmr</a>"
      ],
      "text/plain": [
       "<IPython.core.display.HTML object>"
      ]
     },
     "metadata": {},
     "output_type": "display_data"
    },
    {
     "name": "stdout",
     "output_type": "stream",
     "text": [
      "F1_score Train: 0.9251\n",
      "F1_score Valid: 0.6181\n",
      "F1_score Test: 0.6863\n"
     ]
    },
    {
     "name": "stderr",
     "output_type": "stream",
     "text": [
      "wandb: \n",
      "wandb: Plotting RandomForestClassifier.\n",
      "UserWarning: X does not have valid feature names, but RandomForestClassifier was fitted with feature names\n",
      "wandb: Logged feature importances.\n",
      "wandb: Logged confusion matrix.\n",
      "UserWarning: X does not have valid feature names, but RandomForestClassifier was fitted with feature names\n",
      "wandb: Logged summary metrics.\n",
      "wandb: Logged class proportions.\n",
      "UserWarning: X does not have valid feature names, but RandomForestClassifier was fitted with feature names\n",
      "ConvergenceWarning: lbfgs failed to converge (status=1):\n",
      "STOP: TOTAL NO. of ITERATIONS REACHED LIMIT.\n",
      "\n",
      "Increase the number of iterations (max_iter) or scale the data as shown in:\n",
      "    https://scikit-learn.org/stable/modules/preprocessing.html\n",
      "Please also refer to the documentation for alternative solver options:\n",
      "    https://scikit-learn.org/stable/modules/linear_model.html#logistic-regression\n",
      "wandb: Logged calibration curve.\n",
      "wandb: Logged roc curve.\n",
      "wandb: Logged precision-recall curve.\n"
     ]
    },
    {
     "data": {
      "text/html": [],
      "text/plain": [
       "<IPython.core.display.HTML object>"
      ]
     },
     "metadata": {},
     "output_type": "display_data"
    },
    {
     "data": {
      "text/html": [
       "<br>    <style><br>        .wandb-row {<br>            display: flex;<br>            flex-direction: row;<br>            flex-wrap: wrap;<br>            justify-content: flex-start;<br>            width: 100%;<br>        }<br>        .wandb-col {<br>            display: flex;<br>            flex-direction: column;<br>            flex-basis: 100%;<br>            flex: 1;<br>            padding: 10px;<br>        }<br>    </style><br><div class=\"wandb-row\"><div class=\"wandb-col\"><h3>Run history:</h3><br/><table class=\"wandb\"><tr><td>f1_score</td><td>▁</td></tr><tr><td>f1_score_train</td><td>▁</td></tr><tr><td>f1_score_valid</td><td>▁</td></tr></table><br/></div><div class=\"wandb-col\"><h3>Run summary:</h3><br/><table class=\"wandb\"><tr><td>f1_score</td><td>0.6863</td></tr><tr><td>f1_score_train</td><td>0.92514</td></tr><tr><td>f1_score_valid</td><td>0.61808</td></tr></table><br/></div></div>"
      ],
      "text/plain": [
       "<IPython.core.display.HTML object>"
      ]
     },
     "metadata": {},
     "output_type": "display_data"
    },
    {
     "data": {
      "text/html": [
       " View run <strong style=\"color:#cdcd00\">valiant-sweep-76</strong> at: <a href='https://wandb.ai/ahujavaibhav2001-st-lawrence-college/Truck%20Delay%20Classification/runs/8oz3ljmr' target=\"_blank\">https://wandb.ai/ahujavaibhav2001-st-lawrence-college/Truck%20Delay%20Classification/runs/8oz3ljmr</a><br> View project at: <a href='https://wandb.ai/ahujavaibhav2001-st-lawrence-college/Truck%20Delay%20Classification' target=\"_blank\">https://wandb.ai/ahujavaibhav2001-st-lawrence-college/Truck%20Delay%20Classification</a><br>Synced 5 W&B file(s), 0 media file(s), 16 artifact file(s) and 7 other file(s)"
      ],
      "text/plain": [
       "<IPython.core.display.HTML object>"
      ]
     },
     "metadata": {},
     "output_type": "display_data"
    },
    {
     "data": {
      "text/html": [
       "Find logs at: <code>.\\wandb\\run-20241229_174703-8oz3ljmr\\logs</code>"
      ],
      "text/plain": [
       "<IPython.core.display.HTML object>"
      ]
     },
     "metadata": {},
     "output_type": "display_data"
    },
    {
     "name": "stderr",
     "output_type": "stream",
     "text": [
      "wandb: Agent Starting Run: dcs4nk2u with config:\n",
      "wandb: \tmax_depth: 20\n",
      "wandb: \tmin_samples_split: 12\n",
      "wandb: \tn_estimators: 8\n",
      "wandb: WARNING Ignoring project 'Truck Delay Classification' when running a sweep.\n"
     ]
    },
    {
     "data": {
      "text/html": [
       "Tracking run with wandb version 0.19.1"
      ],
      "text/plain": [
       "<IPython.core.display.HTML object>"
      ]
     },
     "metadata": {},
     "output_type": "display_data"
    },
    {
     "data": {
      "text/html": [
       "Run data is saved locally in <code>C:\\Users\\ahuja\\wandb\\run-20241229_174719-dcs4nk2u</code>"
      ],
      "text/plain": [
       "<IPython.core.display.HTML object>"
      ]
     },
     "metadata": {},
     "output_type": "display_data"
    },
    {
     "data": {
      "text/html": [
       "Syncing run <strong><a href='https://wandb.ai/ahujavaibhav2001-st-lawrence-college/Truck%20Delay%20Classification/runs/dcs4nk2u' target=\"_blank\">rosy-sweep-77</a></strong> to <a href='https://wandb.ai/ahujavaibhav2001-st-lawrence-college/Truck%20Delay%20Classification' target=\"_blank\">Weights & Biases</a> (<a href='https://wandb.me/developer-guide' target=\"_blank\">docs</a>)<br>Sweep page: <a href='https://wandb.ai/ahujavaibhav2001-st-lawrence-college/Truck%20Delay%20Classification/sweeps/9mnowi7x' target=\"_blank\">https://wandb.ai/ahujavaibhav2001-st-lawrence-college/Truck%20Delay%20Classification/sweeps/9mnowi7x</a>"
      ],
      "text/plain": [
       "<IPython.core.display.HTML object>"
      ]
     },
     "metadata": {},
     "output_type": "display_data"
    },
    {
     "data": {
      "text/html": [
       " View project at <a href='https://wandb.ai/ahujavaibhav2001-st-lawrence-college/Truck%20Delay%20Classification' target=\"_blank\">https://wandb.ai/ahujavaibhav2001-st-lawrence-college/Truck%20Delay%20Classification</a>"
      ],
      "text/plain": [
       "<IPython.core.display.HTML object>"
      ]
     },
     "metadata": {},
     "output_type": "display_data"
    },
    {
     "data": {
      "text/html": [
       " View sweep at <a href='https://wandb.ai/ahujavaibhav2001-st-lawrence-college/Truck%20Delay%20Classification/sweeps/9mnowi7x' target=\"_blank\">https://wandb.ai/ahujavaibhav2001-st-lawrence-college/Truck%20Delay%20Classification/sweeps/9mnowi7x</a>"
      ],
      "text/plain": [
       "<IPython.core.display.HTML object>"
      ]
     },
     "metadata": {},
     "output_type": "display_data"
    },
    {
     "data": {
      "text/html": [
       " View run at <a href='https://wandb.ai/ahujavaibhav2001-st-lawrence-college/Truck%20Delay%20Classification/runs/dcs4nk2u' target=\"_blank\">https://wandb.ai/ahujavaibhav2001-st-lawrence-college/Truck%20Delay%20Classification/runs/dcs4nk2u</a>"
      ],
      "text/plain": [
       "<IPython.core.display.HTML object>"
      ]
     },
     "metadata": {},
     "output_type": "display_data"
    },
    {
     "name": "stdout",
     "output_type": "stream",
     "text": [
      "F1_score Train: 0.8545\n",
      "F1_score Valid: 0.5949\n",
      "F1_score Test: 0.6957\n"
     ]
    },
    {
     "name": "stderr",
     "output_type": "stream",
     "text": [
      "wandb: \n",
      "wandb: Plotting RandomForestClassifier.\n",
      "UserWarning: X does not have valid feature names, but RandomForestClassifier was fitted with feature names\n",
      "wandb: Logged feature importances.\n",
      "wandb: Logged confusion matrix.\n",
      "UserWarning: X does not have valid feature names, but RandomForestClassifier was fitted with feature names\n",
      "wandb: Logged summary metrics.\n",
      "wandb: Logged class proportions.\n",
      "UserWarning: X does not have valid feature names, but RandomForestClassifier was fitted with feature names\n",
      "ConvergenceWarning: lbfgs failed to converge (status=1):\n",
      "STOP: TOTAL NO. of ITERATIONS REACHED LIMIT.\n",
      "\n",
      "Increase the number of iterations (max_iter) or scale the data as shown in:\n",
      "    https://scikit-learn.org/stable/modules/preprocessing.html\n",
      "Please also refer to the documentation for alternative solver options:\n",
      "    https://scikit-learn.org/stable/modules/linear_model.html#logistic-regression\n",
      "wandb: Logged calibration curve.\n",
      "wandb: Logged roc curve.\n",
      "wandb: Logged precision-recall curve.\n"
     ]
    },
    {
     "data": {
      "text/html": [],
      "text/plain": [
       "<IPython.core.display.HTML object>"
      ]
     },
     "metadata": {},
     "output_type": "display_data"
    },
    {
     "data": {
      "text/html": [
       "<br>    <style><br>        .wandb-row {<br>            display: flex;<br>            flex-direction: row;<br>            flex-wrap: wrap;<br>            justify-content: flex-start;<br>            width: 100%;<br>        }<br>        .wandb-col {<br>            display: flex;<br>            flex-direction: column;<br>            flex-basis: 100%;<br>            flex: 1;<br>            padding: 10px;<br>        }<br>    </style><br><div class=\"wandb-row\"><div class=\"wandb-col\"><h3>Run history:</h3><br/><table class=\"wandb\"><tr><td>f1_score</td><td>▁</td></tr><tr><td>f1_score_train</td><td>▁</td></tr><tr><td>f1_score_valid</td><td>▁</td></tr></table><br/></div><div class=\"wandb-col\"><h3>Run summary:</h3><br/><table class=\"wandb\"><tr><td>f1_score</td><td>0.69571</td></tr><tr><td>f1_score_train</td><td>0.85454</td></tr><tr><td>f1_score_valid</td><td>0.59485</td></tr></table><br/></div></div>"
      ],
      "text/plain": [
       "<IPython.core.display.HTML object>"
      ]
     },
     "metadata": {},
     "output_type": "display_data"
    },
    {
     "data": {
      "text/html": [
       " View run <strong style=\"color:#cdcd00\">rosy-sweep-77</strong> at: <a href='https://wandb.ai/ahujavaibhav2001-st-lawrence-college/Truck%20Delay%20Classification/runs/dcs4nk2u' target=\"_blank\">https://wandb.ai/ahujavaibhav2001-st-lawrence-college/Truck%20Delay%20Classification/runs/dcs4nk2u</a><br> View project at: <a href='https://wandb.ai/ahujavaibhav2001-st-lawrence-college/Truck%20Delay%20Classification' target=\"_blank\">https://wandb.ai/ahujavaibhav2001-st-lawrence-college/Truck%20Delay%20Classification</a><br>Synced 5 W&B file(s), 0 media file(s), 16 artifact file(s) and 7 other file(s)"
      ],
      "text/plain": [
       "<IPython.core.display.HTML object>"
      ]
     },
     "metadata": {},
     "output_type": "display_data"
    },
    {
     "data": {
      "text/html": [
       "Find logs at: <code>.\\wandb\\run-20241229_174719-dcs4nk2u\\logs</code>"
      ],
      "text/plain": [
       "<IPython.core.display.HTML object>"
      ]
     },
     "metadata": {},
     "output_type": "display_data"
    },
    {
     "name": "stderr",
     "output_type": "stream",
     "text": [
      "wandb: Agent Starting Run: ykxb6i36 with config:\n",
      "wandb: \tmax_depth: 20\n",
      "wandb: \tmin_samples_split: 12\n",
      "wandb: \tn_estimators: 12\n",
      "wandb: WARNING Ignoring project 'Truck Delay Classification' when running a sweep.\n"
     ]
    },
    {
     "data": {
      "text/html": [
       "Tracking run with wandb version 0.19.1"
      ],
      "text/plain": [
       "<IPython.core.display.HTML object>"
      ]
     },
     "metadata": {},
     "output_type": "display_data"
    },
    {
     "data": {
      "text/html": [
       "Run data is saved locally in <code>C:\\Users\\ahuja\\wandb\\run-20241229_174734-ykxb6i36</code>"
      ],
      "text/plain": [
       "<IPython.core.display.HTML object>"
      ]
     },
     "metadata": {},
     "output_type": "display_data"
    },
    {
     "data": {
      "text/html": [
       "Syncing run <strong><a href='https://wandb.ai/ahujavaibhav2001-st-lawrence-college/Truck%20Delay%20Classification/runs/ykxb6i36' target=\"_blank\">eager-sweep-78</a></strong> to <a href='https://wandb.ai/ahujavaibhav2001-st-lawrence-college/Truck%20Delay%20Classification' target=\"_blank\">Weights & Biases</a> (<a href='https://wandb.me/developer-guide' target=\"_blank\">docs</a>)<br>Sweep page: <a href='https://wandb.ai/ahujavaibhav2001-st-lawrence-college/Truck%20Delay%20Classification/sweeps/9mnowi7x' target=\"_blank\">https://wandb.ai/ahujavaibhav2001-st-lawrence-college/Truck%20Delay%20Classification/sweeps/9mnowi7x</a>"
      ],
      "text/plain": [
       "<IPython.core.display.HTML object>"
      ]
     },
     "metadata": {},
     "output_type": "display_data"
    },
    {
     "data": {
      "text/html": [
       " View project at <a href='https://wandb.ai/ahujavaibhav2001-st-lawrence-college/Truck%20Delay%20Classification' target=\"_blank\">https://wandb.ai/ahujavaibhav2001-st-lawrence-college/Truck%20Delay%20Classification</a>"
      ],
      "text/plain": [
       "<IPython.core.display.HTML object>"
      ]
     },
     "metadata": {},
     "output_type": "display_data"
    },
    {
     "data": {
      "text/html": [
       " View sweep at <a href='https://wandb.ai/ahujavaibhav2001-st-lawrence-college/Truck%20Delay%20Classification/sweeps/9mnowi7x' target=\"_blank\">https://wandb.ai/ahujavaibhav2001-st-lawrence-college/Truck%20Delay%20Classification/sweeps/9mnowi7x</a>"
      ],
      "text/plain": [
       "<IPython.core.display.HTML object>"
      ]
     },
     "metadata": {},
     "output_type": "display_data"
    },
    {
     "data": {
      "text/html": [
       " View run at <a href='https://wandb.ai/ahujavaibhav2001-st-lawrence-college/Truck%20Delay%20Classification/runs/ykxb6i36' target=\"_blank\">https://wandb.ai/ahujavaibhav2001-st-lawrence-college/Truck%20Delay%20Classification/runs/ykxb6i36</a>"
      ],
      "text/plain": [
       "<IPython.core.display.HTML object>"
      ]
     },
     "metadata": {},
     "output_type": "display_data"
    },
    {
     "name": "stdout",
     "output_type": "stream",
     "text": [
      "F1_score Train: 0.8655\n",
      "F1_score Valid: 0.6061\n",
      "F1_score Test: 0.6986\n"
     ]
    },
    {
     "name": "stderr",
     "output_type": "stream",
     "text": [
      "wandb: \n",
      "wandb: Plotting RandomForestClassifier.\n",
      "UserWarning: X does not have valid feature names, but RandomForestClassifier was fitted with feature names\n",
      "wandb: Logged feature importances.\n",
      "wandb: Logged confusion matrix.\n",
      "UserWarning: X does not have valid feature names, but RandomForestClassifier was fitted with feature names\n",
      "wandb: Logged summary metrics.\n",
      "wandb: Logged class proportions.\n",
      "UserWarning: X does not have valid feature names, but RandomForestClassifier was fitted with feature names\n",
      "ConvergenceWarning: lbfgs failed to converge (status=1):\n",
      "STOP: TOTAL NO. of ITERATIONS REACHED LIMIT.\n",
      "\n",
      "Increase the number of iterations (max_iter) or scale the data as shown in:\n",
      "    https://scikit-learn.org/stable/modules/preprocessing.html\n",
      "Please also refer to the documentation for alternative solver options:\n",
      "    https://scikit-learn.org/stable/modules/linear_model.html#logistic-regression\n",
      "wandb: Logged calibration curve.\n",
      "wandb: Logged roc curve.\n",
      "wandb: Logged precision-recall curve.\n"
     ]
    },
    {
     "data": {
      "text/html": [],
      "text/plain": [
       "<IPython.core.display.HTML object>"
      ]
     },
     "metadata": {},
     "output_type": "display_data"
    },
    {
     "data": {
      "text/html": [
       "<br>    <style><br>        .wandb-row {<br>            display: flex;<br>            flex-direction: row;<br>            flex-wrap: wrap;<br>            justify-content: flex-start;<br>            width: 100%;<br>        }<br>        .wandb-col {<br>            display: flex;<br>            flex-direction: column;<br>            flex-basis: 100%;<br>            flex: 1;<br>            padding: 10px;<br>        }<br>    </style><br><div class=\"wandb-row\"><div class=\"wandb-col\"><h3>Run history:</h3><br/><table class=\"wandb\"><tr><td>f1_score</td><td>▁</td></tr><tr><td>f1_score_train</td><td>▁</td></tr><tr><td>f1_score_valid</td><td>▁</td></tr></table><br/></div><div class=\"wandb-col\"><h3>Run summary:</h3><br/><table class=\"wandb\"><tr><td>f1_score</td><td>0.69859</td></tr><tr><td>f1_score_train</td><td>0.86555</td></tr><tr><td>f1_score_valid</td><td>0.6061</td></tr></table><br/></div></div>"
      ],
      "text/plain": [
       "<IPython.core.display.HTML object>"
      ]
     },
     "metadata": {},
     "output_type": "display_data"
    },
    {
     "data": {
      "text/html": [
       " View run <strong style=\"color:#cdcd00\">eager-sweep-78</strong> at: <a href='https://wandb.ai/ahujavaibhav2001-st-lawrence-college/Truck%20Delay%20Classification/runs/ykxb6i36' target=\"_blank\">https://wandb.ai/ahujavaibhav2001-st-lawrence-college/Truck%20Delay%20Classification/runs/ykxb6i36</a><br> View project at: <a href='https://wandb.ai/ahujavaibhav2001-st-lawrence-college/Truck%20Delay%20Classification' target=\"_blank\">https://wandb.ai/ahujavaibhav2001-st-lawrence-college/Truck%20Delay%20Classification</a><br>Synced 5 W&B file(s), 0 media file(s), 16 artifact file(s) and 7 other file(s)"
      ],
      "text/plain": [
       "<IPython.core.display.HTML object>"
      ]
     },
     "metadata": {},
     "output_type": "display_data"
    },
    {
     "data": {
      "text/html": [
       "Find logs at: <code>.\\wandb\\run-20241229_174734-ykxb6i36\\logs</code>"
      ],
      "text/plain": [
       "<IPython.core.display.HTML object>"
      ]
     },
     "metadata": {},
     "output_type": "display_data"
    },
    {
     "name": "stderr",
     "output_type": "stream",
     "text": [
      "wandb: Agent Starting Run: acdw0f1z with config:\n",
      "wandb: \tmax_depth: 20\n",
      "wandb: \tmin_samples_split: 12\n",
      "wandb: \tn_estimators: 16\n",
      "wandb: WARNING Ignoring project 'Truck Delay Classification' when running a sweep.\n"
     ]
    },
    {
     "data": {
      "text/html": [
       "Tracking run with wandb version 0.19.1"
      ],
      "text/plain": [
       "<IPython.core.display.HTML object>"
      ]
     },
     "metadata": {},
     "output_type": "display_data"
    },
    {
     "data": {
      "text/html": [
       "Run data is saved locally in <code>C:\\Users\\ahuja\\wandb\\run-20241229_174744-acdw0f1z</code>"
      ],
      "text/plain": [
       "<IPython.core.display.HTML object>"
      ]
     },
     "metadata": {},
     "output_type": "display_data"
    },
    {
     "data": {
      "text/html": [
       "Syncing run <strong><a href='https://wandb.ai/ahujavaibhav2001-st-lawrence-college/Truck%20Delay%20Classification/runs/acdw0f1z' target=\"_blank\">legendary-sweep-79</a></strong> to <a href='https://wandb.ai/ahujavaibhav2001-st-lawrence-college/Truck%20Delay%20Classification' target=\"_blank\">Weights & Biases</a> (<a href='https://wandb.me/developer-guide' target=\"_blank\">docs</a>)<br>Sweep page: <a href='https://wandb.ai/ahujavaibhav2001-st-lawrence-college/Truck%20Delay%20Classification/sweeps/9mnowi7x' target=\"_blank\">https://wandb.ai/ahujavaibhav2001-st-lawrence-college/Truck%20Delay%20Classification/sweeps/9mnowi7x</a>"
      ],
      "text/plain": [
       "<IPython.core.display.HTML object>"
      ]
     },
     "metadata": {},
     "output_type": "display_data"
    },
    {
     "data": {
      "text/html": [
       " View project at <a href='https://wandb.ai/ahujavaibhav2001-st-lawrence-college/Truck%20Delay%20Classification' target=\"_blank\">https://wandb.ai/ahujavaibhav2001-st-lawrence-college/Truck%20Delay%20Classification</a>"
      ],
      "text/plain": [
       "<IPython.core.display.HTML object>"
      ]
     },
     "metadata": {},
     "output_type": "display_data"
    },
    {
     "data": {
      "text/html": [
       " View sweep at <a href='https://wandb.ai/ahujavaibhav2001-st-lawrence-college/Truck%20Delay%20Classification/sweeps/9mnowi7x' target=\"_blank\">https://wandb.ai/ahujavaibhav2001-st-lawrence-college/Truck%20Delay%20Classification/sweeps/9mnowi7x</a>"
      ],
      "text/plain": [
       "<IPython.core.display.HTML object>"
      ]
     },
     "metadata": {},
     "output_type": "display_data"
    },
    {
     "data": {
      "text/html": [
       " View run at <a href='https://wandb.ai/ahujavaibhav2001-st-lawrence-college/Truck%20Delay%20Classification/runs/acdw0f1z' target=\"_blank\">https://wandb.ai/ahujavaibhav2001-st-lawrence-college/Truck%20Delay%20Classification/runs/acdw0f1z</a>"
      ],
      "text/plain": [
       "<IPython.core.display.HTML object>"
      ]
     },
     "metadata": {},
     "output_type": "display_data"
    },
    {
     "name": "stdout",
     "output_type": "stream",
     "text": [
      "F1_score Train: 0.8758\n",
      "F1_score Valid: 0.6169\n",
      "F1_score Test: 0.7043\n"
     ]
    },
    {
     "name": "stderr",
     "output_type": "stream",
     "text": [
      "wandb: \n",
      "wandb: Plotting RandomForestClassifier.\n",
      "UserWarning: X does not have valid feature names, but RandomForestClassifier was fitted with feature names\n",
      "wandb: Logged feature importances.\n",
      "wandb: Logged confusion matrix.\n",
      "UserWarning: X does not have valid feature names, but RandomForestClassifier was fitted with feature names\n",
      "wandb: Logged summary metrics.\n",
      "wandb: Logged class proportions.\n",
      "UserWarning: X does not have valid feature names, but RandomForestClassifier was fitted with feature names\n",
      "ConvergenceWarning: lbfgs failed to converge (status=1):\n",
      "STOP: TOTAL NO. of ITERATIONS REACHED LIMIT.\n",
      "\n",
      "Increase the number of iterations (max_iter) or scale the data as shown in:\n",
      "    https://scikit-learn.org/stable/modules/preprocessing.html\n",
      "Please also refer to the documentation for alternative solver options:\n",
      "    https://scikit-learn.org/stable/modules/linear_model.html#logistic-regression\n",
      "wandb: Logged calibration curve.\n",
      "wandb: Logged roc curve.\n",
      "wandb: Logged precision-recall curve.\n"
     ]
    },
    {
     "data": {
      "text/html": [],
      "text/plain": [
       "<IPython.core.display.HTML object>"
      ]
     },
     "metadata": {},
     "output_type": "display_data"
    },
    {
     "data": {
      "text/html": [
       "<br>    <style><br>        .wandb-row {<br>            display: flex;<br>            flex-direction: row;<br>            flex-wrap: wrap;<br>            justify-content: flex-start;<br>            width: 100%;<br>        }<br>        .wandb-col {<br>            display: flex;<br>            flex-direction: column;<br>            flex-basis: 100%;<br>            flex: 1;<br>            padding: 10px;<br>        }<br>    </style><br><div class=\"wandb-row\"><div class=\"wandb-col\"><h3>Run history:</h3><br/><table class=\"wandb\"><tr><td>f1_score</td><td>▁</td></tr><tr><td>f1_score_train</td><td>▁</td></tr><tr><td>f1_score_valid</td><td>▁</td></tr></table><br/></div><div class=\"wandb-col\"><h3>Run summary:</h3><br/><table class=\"wandb\"><tr><td>f1_score</td><td>0.70429</td></tr><tr><td>f1_score_train</td><td>0.87578</td></tr><tr><td>f1_score_valid</td><td>0.61689</td></tr></table><br/></div></div>"
      ],
      "text/plain": [
       "<IPython.core.display.HTML object>"
      ]
     },
     "metadata": {},
     "output_type": "display_data"
    },
    {
     "data": {
      "text/html": [
       " View run <strong style=\"color:#cdcd00\">legendary-sweep-79</strong> at: <a href='https://wandb.ai/ahujavaibhav2001-st-lawrence-college/Truck%20Delay%20Classification/runs/acdw0f1z' target=\"_blank\">https://wandb.ai/ahujavaibhav2001-st-lawrence-college/Truck%20Delay%20Classification/runs/acdw0f1z</a><br> View project at: <a href='https://wandb.ai/ahujavaibhav2001-st-lawrence-college/Truck%20Delay%20Classification' target=\"_blank\">https://wandb.ai/ahujavaibhav2001-st-lawrence-college/Truck%20Delay%20Classification</a><br>Synced 5 W&B file(s), 0 media file(s), 16 artifact file(s) and 7 other file(s)"
      ],
      "text/plain": [
       "<IPython.core.display.HTML object>"
      ]
     },
     "metadata": {},
     "output_type": "display_data"
    },
    {
     "data": {
      "text/html": [
       "Find logs at: <code>.\\wandb\\run-20241229_174744-acdw0f1z\\logs</code>"
      ],
      "text/plain": [
       "<IPython.core.display.HTML object>"
      ]
     },
     "metadata": {},
     "output_type": "display_data"
    },
    {
     "name": "stderr",
     "output_type": "stream",
     "text": [
      "wandb: Sweep Agent: Waiting for job.\n",
      "wandb: Job received.\n",
      "wandb: Agent Starting Run: rgyx4uez with config:\n",
      "wandb: \tmax_depth: 20\n",
      "wandb: \tmin_samples_split: 12\n",
      "wandb: \tn_estimators: 20\n",
      "wandb: WARNING Ignoring project 'Truck Delay Classification' when running a sweep.\n"
     ]
    },
    {
     "data": {
      "text/html": [
       "Tracking run with wandb version 0.19.1"
      ],
      "text/plain": [
       "<IPython.core.display.HTML object>"
      ]
     },
     "metadata": {},
     "output_type": "display_data"
    },
    {
     "data": {
      "text/html": [
       "Run data is saved locally in <code>C:\\Users\\ahuja\\wandb\\run-20241229_174805-rgyx4uez</code>"
      ],
      "text/plain": [
       "<IPython.core.display.HTML object>"
      ]
     },
     "metadata": {},
     "output_type": "display_data"
    },
    {
     "data": {
      "text/html": [
       "Syncing run <strong><a href='https://wandb.ai/ahujavaibhav2001-st-lawrence-college/Truck%20Delay%20Classification/runs/rgyx4uez' target=\"_blank\">skilled-sweep-80</a></strong> to <a href='https://wandb.ai/ahujavaibhav2001-st-lawrence-college/Truck%20Delay%20Classification' target=\"_blank\">Weights & Biases</a> (<a href='https://wandb.me/developer-guide' target=\"_blank\">docs</a>)<br>Sweep page: <a href='https://wandb.ai/ahujavaibhav2001-st-lawrence-college/Truck%20Delay%20Classification/sweeps/9mnowi7x' target=\"_blank\">https://wandb.ai/ahujavaibhav2001-st-lawrence-college/Truck%20Delay%20Classification/sweeps/9mnowi7x</a>"
      ],
      "text/plain": [
       "<IPython.core.display.HTML object>"
      ]
     },
     "metadata": {},
     "output_type": "display_data"
    },
    {
     "data": {
      "text/html": [
       " View project at <a href='https://wandb.ai/ahujavaibhav2001-st-lawrence-college/Truck%20Delay%20Classification' target=\"_blank\">https://wandb.ai/ahujavaibhav2001-st-lawrence-college/Truck%20Delay%20Classification</a>"
      ],
      "text/plain": [
       "<IPython.core.display.HTML object>"
      ]
     },
     "metadata": {},
     "output_type": "display_data"
    },
    {
     "data": {
      "text/html": [
       " View sweep at <a href='https://wandb.ai/ahujavaibhav2001-st-lawrence-college/Truck%20Delay%20Classification/sweeps/9mnowi7x' target=\"_blank\">https://wandb.ai/ahujavaibhav2001-st-lawrence-college/Truck%20Delay%20Classification/sweeps/9mnowi7x</a>"
      ],
      "text/plain": [
       "<IPython.core.display.HTML object>"
      ]
     },
     "metadata": {},
     "output_type": "display_data"
    },
    {
     "data": {
      "text/html": [
       " View run at <a href='https://wandb.ai/ahujavaibhav2001-st-lawrence-college/Truck%20Delay%20Classification/runs/rgyx4uez' target=\"_blank\">https://wandb.ai/ahujavaibhav2001-st-lawrence-college/Truck%20Delay%20Classification/runs/rgyx4uez</a>"
      ],
      "text/plain": [
       "<IPython.core.display.HTML object>"
      ]
     },
     "metadata": {},
     "output_type": "display_data"
    },
    {
     "name": "stdout",
     "output_type": "stream",
     "text": [
      "F1_score Train: 0.8785\n",
      "F1_score Valid: 0.6319\n",
      "F1_score Test: 0.7145\n"
     ]
    },
    {
     "name": "stderr",
     "output_type": "stream",
     "text": [
      "wandb: \n",
      "wandb: Plotting RandomForestClassifier.\n",
      "UserWarning: X does not have valid feature names, but RandomForestClassifier was fitted with feature names\n",
      "wandb: Logged feature importances.\n",
      "wandb: Logged confusion matrix.\n",
      "UserWarning: X does not have valid feature names, but RandomForestClassifier was fitted with feature names\n",
      "wandb: Logged summary metrics.\n",
      "wandb: Logged class proportions.\n",
      "UserWarning: X does not have valid feature names, but RandomForestClassifier was fitted with feature names\n",
      "ConvergenceWarning: lbfgs failed to converge (status=1):\n",
      "STOP: TOTAL NO. of ITERATIONS REACHED LIMIT.\n",
      "\n",
      "Increase the number of iterations (max_iter) or scale the data as shown in:\n",
      "    https://scikit-learn.org/stable/modules/preprocessing.html\n",
      "Please also refer to the documentation for alternative solver options:\n",
      "    https://scikit-learn.org/stable/modules/linear_model.html#logistic-regression\n",
      "wandb: Logged calibration curve.\n",
      "wandb: Logged roc curve.\n",
      "wandb: Logged precision-recall curve.\n"
     ]
    },
    {
     "data": {
      "text/html": [],
      "text/plain": [
       "<IPython.core.display.HTML object>"
      ]
     },
     "metadata": {},
     "output_type": "display_data"
    },
    {
     "data": {
      "text/html": [
       "<br>    <style><br>        .wandb-row {<br>            display: flex;<br>            flex-direction: row;<br>            flex-wrap: wrap;<br>            justify-content: flex-start;<br>            width: 100%;<br>        }<br>        .wandb-col {<br>            display: flex;<br>            flex-direction: column;<br>            flex-basis: 100%;<br>            flex: 1;<br>            padding: 10px;<br>        }<br>    </style><br><div class=\"wandb-row\"><div class=\"wandb-col\"><h3>Run history:</h3><br/><table class=\"wandb\"><tr><td>f1_score</td><td>▁</td></tr><tr><td>f1_score_train</td><td>▁</td></tr><tr><td>f1_score_valid</td><td>▁</td></tr></table><br/></div><div class=\"wandb-col\"><h3>Run summary:</h3><br/><table class=\"wandb\"><tr><td>f1_score</td><td>0.71449</td></tr><tr><td>f1_score_train</td><td>0.87849</td></tr><tr><td>f1_score_valid</td><td>0.63194</td></tr></table><br/></div></div>"
      ],
      "text/plain": [
       "<IPython.core.display.HTML object>"
      ]
     },
     "metadata": {},
     "output_type": "display_data"
    },
    {
     "data": {
      "text/html": [
       " View run <strong style=\"color:#cdcd00\">skilled-sweep-80</strong> at: <a href='https://wandb.ai/ahujavaibhav2001-st-lawrence-college/Truck%20Delay%20Classification/runs/rgyx4uez' target=\"_blank\">https://wandb.ai/ahujavaibhav2001-st-lawrence-college/Truck%20Delay%20Classification/runs/rgyx4uez</a><br> View project at: <a href='https://wandb.ai/ahujavaibhav2001-st-lawrence-college/Truck%20Delay%20Classification' target=\"_blank\">https://wandb.ai/ahujavaibhav2001-st-lawrence-college/Truck%20Delay%20Classification</a><br>Synced 5 W&B file(s), 0 media file(s), 16 artifact file(s) and 7 other file(s)"
      ],
      "text/plain": [
       "<IPython.core.display.HTML object>"
      ]
     },
     "metadata": {},
     "output_type": "display_data"
    },
    {
     "data": {
      "text/html": [
       "Find logs at: <code>.\\wandb\\run-20241229_174805-rgyx4uez\\logs</code>"
      ],
      "text/plain": [
       "<IPython.core.display.HTML object>"
      ]
     },
     "metadata": {},
     "output_type": "display_data"
    },
    {
     "name": "stderr",
     "output_type": "stream",
     "text": [
      "wandb: Sweep Agent: Waiting for job.\n",
      "wandb: Sweep Agent: Exiting.\n"
     ]
    }
   ],
   "source": [
    "sweep_configs = {\n",
    "    \"method\": \"grid\",\n",
    "    \"metric\": {\n",
    "        \"name\": \"f1_score\",\n",
    "        \"goal\": \"maximize\"\n",
    "    },\n",
    "    \"parameters\": {\n",
    "        \"n_estimators\": {\n",
    "            \"values\": [8, 12, 16,20]\n",
    "        },\n",
    "        \"max_depth\": {\n",
    "            \"values\": [None, 5, 10, 15, 20]\n",
    "        },\n",
    "        \"min_samples_split\": {\n",
    "            \"values\": [2, 4, 8, 12]\n",
    "        }\n",
    "    }\n",
    "}\n",
    "# Then we initialize the sweep and run the sweep agent.\n",
    "\n",
    "sweep_id = wandb.sweep(\n",
    "    sweep=sweep_configs,\n",
    "    project=PROJECT_NAME\n",
    ")\n",
    "\n",
    "\n",
    "\n",
    "wandb.agent(\n",
    "    project=PROJECT_NAME,\n",
    "    sweep_id=sweep_id,\n",
    "    function=train_rf_model\n",
    ")"
   ]
  },
  {
   "cell_type": "code",
   "execution_count": null,
   "id": "2f4c7562-add9-41a6-8e33-6031c075f1e4",
   "metadata": {
    "scrolled": true
   },
   "outputs": [
    {
     "data": {
      "text/html": [
       "Changes to your `wandb` environment variables will be ignored because your `wandb` session has already started. For more information on how to modify your settings with `wandb.init()` arguments, please refer to <a href='https://wandb.me/wandb-init' target=\"_blank\">the W&B docs</a>."
      ],
      "text/plain": [
       "<IPython.core.display.HTML object>"
      ]
     },
     "metadata": {},
     "output_type": "display_data"
    },
    {
     "name": "stderr",
     "output_type": "stream",
     "text": [
      "wandb: WARNING Ignoring project 'Truck Delay Classification' when running a sweep.\n"
     ]
    },
    {
     "data": {
      "text/html": [
       "Tracking run with wandb version 0.19.1"
      ],
      "text/plain": [
       "<IPython.core.display.HTML object>"
      ]
     },
     "metadata": {},
     "output_type": "display_data"
    },
    {
     "data": {
      "text/html": [
       "Run data is saved locally in <code>C:\\Users\\ahuja\\wandb\\run-20241229_174826-rgyx4uez</code>"
      ],
      "text/plain": [
       "<IPython.core.display.HTML object>"
      ]
     },
     "metadata": {},
     "output_type": "display_data"
    },
    {
     "data": {
      "text/html": [
       "Syncing run <strong><a href='https://wandb.ai/ahujavaibhav2001-st-lawrence-college/Truck%20Delay%20Classification/runs/rgyx4uez' target=\"_blank\">skilled-sweep-80</a></strong> to <a href='https://wandb.ai/ahujavaibhav2001-st-lawrence-college/Truck%20Delay%20Classification' target=\"_blank\">Weights & Biases</a> (<a href='https://wandb.me/developer-guide' target=\"_blank\">docs</a>)<br>Sweep page: <a href='https://wandb.ai/ahujavaibhav2001-st-lawrence-college/Truck%20Delay%20Classification/sweeps/9mnowi7x' target=\"_blank\">https://wandb.ai/ahujavaibhav2001-st-lawrence-college/Truck%20Delay%20Classification/sweeps/9mnowi7x</a>"
      ],
      "text/plain": [
       "<IPython.core.display.HTML object>"
      ]
     },
     "metadata": {},
     "output_type": "display_data"
    },
    {
     "data": {
      "text/html": [
       " View project at <a href='https://wandb.ai/ahujavaibhav2001-st-lawrence-college/Truck%20Delay%20Classification' target=\"_blank\">https://wandb.ai/ahujavaibhav2001-st-lawrence-college/Truck%20Delay%20Classification</a>"
      ],
      "text/plain": [
       "<IPython.core.display.HTML object>"
      ]
     },
     "metadata": {},
     "output_type": "display_data"
    },
    {
     "data": {
      "text/html": [
       " View sweep at <a href='https://wandb.ai/ahujavaibhav2001-st-lawrence-college/Truck%20Delay%20Classification/sweeps/9mnowi7x' target=\"_blank\">https://wandb.ai/ahujavaibhav2001-st-lawrence-college/Truck%20Delay%20Classification/sweeps/9mnowi7x</a>"
      ],
      "text/plain": [
       "<IPython.core.display.HTML object>"
      ]
     },
     "metadata": {},
     "output_type": "display_data"
    },
    {
     "data": {
      "text/html": [
       " View run at <a href='https://wandb.ai/ahujavaibhav2001-st-lawrence-college/Truck%20Delay%20Classification/runs/rgyx4uez' target=\"_blank\">https://wandb.ai/ahujavaibhav2001-st-lawrence-college/Truck%20Delay%20Classification/runs/rgyx4uez</a>"
      ],
      "text/plain": [
       "<IPython.core.display.HTML object>"
      ]
     },
     "metadata": {},
     "output_type": "display_data"
    },
    {
     "name": "stdout",
     "output_type": "stream",
     "text": [
      "Fitting 3 folds for each of 1296 candidates, totalling 3888 fits\n"
     ]
    },
    {
     "name": "stderr",
     "output_type": "stream",
     "text": [
      "UserWarning: [18:05:43] WARNING: C:\\buildkite-agent\\builds\\buildkite-windows-cpu-autoscaling-group-i-0c55ff5f71b100e98-1\\xgboost\\xgboost-ci-windows\\src\\learner.cc:740: \n",
      "Parameters: { \"class_weight\" } are not used.\n",
      "\n"
     ]
    },
    {
     "name": "stdout",
     "output_type": "stream",
     "text": [
      "F1_score Train: 0.9772\n",
      "F1_score Valid: 0.6164\n",
      "F1_score Test: 0.6945\n"
     ]
    },
    {
     "name": "stderr",
     "output_type": "stream",
     "text": [
      "wandb: \n",
      "wandb: Plotting XGBoost.\n",
      "wandb: Logged feature importances.\n",
      "wandb: Logged confusion matrix.\n",
      "wandb: Logged summary metrics.\n",
      "wandb: Logged class proportions.\n",
      "ConvergenceWarning: lbfgs failed to converge (status=1):\n",
      "STOP: TOTAL NO. of ITERATIONS REACHED LIMIT.\n",
      "\n",
      "Increase the number of iterations (max_iter) or scale the data as shown in:\n",
      "    https://scikit-learn.org/stable/modules/preprocessing.html\n",
      "Please also refer to the documentation for alternative solver options:\n",
      "    https://scikit-learn.org/stable/modules/linear_model.html#logistic-regression\n",
      "UserWarning: [18:05:48] WARNING: C:\\buildkite-agent\\builds\\buildkite-windows-cpu-autoscaling-group-i-0c55ff5f71b100e98-1\\xgboost\\xgboost-ci-windows\\src\\learner.cc:740: \n",
      "Parameters: { \"class_weight\" } are not used.\n",
      "\n",
      "UserWarning: [18:05:48] WARNING: C:\\buildkite-agent\\builds\\buildkite-windows-cpu-autoscaling-group-i-0c55ff5f71b100e98-1\\xgboost\\xgboost-ci-windows\\src\\learner.cc:740: \n",
      "Parameters: { \"class_weight\" } are not used.\n",
      "\n",
      "UserWarning: [18:05:49] WARNING: C:\\buildkite-agent\\builds\\buildkite-windows-cpu-autoscaling-group-i-0c55ff5f71b100e98-1\\xgboost\\xgboost-ci-windows\\src\\learner.cc:740: \n",
      "Parameters: { \"class_weight\" } are not used.\n",
      "\n",
      "UserWarning: [18:05:50] WARNING: C:\\buildkite-agent\\builds\\buildkite-windows-cpu-autoscaling-group-i-0c55ff5f71b100e98-1\\xgboost\\xgboost-ci-windows\\src\\learner.cc:740: \n",
      "Parameters: { \"class_weight\" } are not used.\n",
      "\n",
      "wandb: Logged calibration curve.\n",
      "wandb: Logged roc curve.\n",
      "wandb: Logged precision-recall curve.\n"
     ]
    },
    {
     "data": {
      "text/html": [],
      "text/plain": [
       "<IPython.core.display.HTML object>"
      ]
     },
     "metadata": {},
     "output_type": "display_data"
    },
    {
     "data": {
      "text/html": [
       "<br>    <style><br>        .wandb-row {<br>            display: flex;<br>            flex-direction: row;<br>            flex-wrap: wrap;<br>            justify-content: flex-start;<br>            width: 100%;<br>        }<br>        .wandb-col {<br>            display: flex;<br>            flex-direction: column;<br>            flex-basis: 100%;<br>            flex: 1;<br>            padding: 10px;<br>        }<br>    </style><br><div class=\"wandb-row\"><div class=\"wandb-col\"><h3>Run history:</h3><br/><table class=\"wandb\"><tr><td>f1_score</td><td>▁</td></tr><tr><td>f1_score_train</td><td>▁</td></tr><tr><td>f1_score_valid</td><td>▁</td></tr></table><br/></div><div class=\"wandb-col\"><h3>Run summary:</h3><br/><table class=\"wandb\"><tr><td>f1_score</td><td>0.69449</td></tr><tr><td>f1_score_train</td><td>0.97724</td></tr><tr><td>f1_score_valid</td><td>0.61641</td></tr></table><br/></div></div>"
      ],
      "text/plain": [
       "<IPython.core.display.HTML object>"
      ]
     },
     "metadata": {},
     "output_type": "display_data"
    },
    {
     "data": {
      "text/html": [
       " View run <strong style=\"color:#cdcd00\">skilled-sweep-80</strong> at: <a href='https://wandb.ai/ahujavaibhav2001-st-lawrence-college/Truck%20Delay%20Classification/runs/rgyx4uez' target=\"_blank\">https://wandb.ai/ahujavaibhav2001-st-lawrence-college/Truck%20Delay%20Classification/runs/rgyx4uez</a><br> View project at: <a href='https://wandb.ai/ahujavaibhav2001-st-lawrence-college/Truck%20Delay%20Classification' target=\"_blank\">https://wandb.ai/ahujavaibhav2001-st-lawrence-college/Truck%20Delay%20Classification</a><br>Synced 5 W&B file(s), 0 media file(s), 14 artifact file(s) and 7 other file(s)"
      ],
      "text/plain": [
       "<IPython.core.display.HTML object>"
      ]
     },
     "metadata": {},
     "output_type": "display_data"
    },
    {
     "data": {
      "text/html": [
       "Find logs at: <code>.\\wandb\\run-20241229_174826-rgyx4uez\\logs</code>"
      ],
      "text/plain": [
       "<IPython.core.display.HTML object>"
      ]
     },
     "metadata": {},
     "output_type": "display_data"
    }
   ],
   "source": [
    "w = {0: weights[0], 1: weights[1]}\n",
    "\n",
    "def train_xgb_model(X_train, y_train, X_valid, y_valid, X_test, y_test):\n",
    "    features = X_train.columns\n",
    "    labels = [\"delay\"]\n",
    "\n",
    "    # Hyperparameter grid for tuning\n",
    "    param_grid = {\n",
    "        'max_depth': [3, 5, 7, 10],\n",
    "        'learning_rate': [0.01, 0.05, 0.1, 0.2],\n",
    "        'n_estimators': [50, 100, 200],\n",
    "        'min_child_weight': [1, 3, 5],\n",
    "        'subsample': [0.6, 0.8, 1.0],\n",
    "        'colsample_bytree': [0.6, 0.8, 1.0]\n",
    "    }\n",
    "\n",
    "    # Initialize WandB run\n",
    "    with wandb.init(project=PROJECT_NAME) as run:\n",
    "        config = wandb.config\n",
    "\n",
    "        # Initialize the XGBoost model\n",
    "        xgbmodel = XGBClassifier(\n",
    "            random_state=7,\n",
    "            class_weight=w\n",
    "        )\n",
    "\n",
    "        # Perform GridSearchCV to find the best hyperparameters\n",
    "        grid_search = GridSearchCV(estimator=xgbmodel, param_grid=param_grid, cv=3, scoring='f1', verbose=1, n_jobs=-1)\n",
    "        grid_search.fit(X_train, y_train)\n",
    "\n",
    "        # Get the best model\n",
    "        best_model = grid_search.best_estimator_\n",
    "\n",
    "        # Train predictions\n",
    "        y_train_pred = best_model.predict(X_train)\n",
    "        train_f1_score = f1_score(y_train, y_train_pred)\n",
    "\n",
    "        # Validation predictions\n",
    "        y_valid_pred = best_model.predict(X_valid)\n",
    "        valid_f1_score = f1_score(y_valid, y_valid_pred)\n",
    "\n",
    "        # Test predictions\n",
    "        y_preds = best_model.predict(X_test)\n",
    "        y_probas = best_model.predict_proba(X_test)\n",
    "        score = f1_score(y_test, y_preds)\n",
    "\n",
    "        print(f\"F1_score Train: {round(train_f1_score, 4)}\")\n",
    "        print(f\"F1_score Valid: {round(valid_f1_score, 4)}\")\n",
    "        print(f\"F1_score Test: {round(score, 4)}\")\n",
    "\n",
    "        # Log the metrics to WandB\n",
    "        wandb.log({\"f1_score_train\": train_f1_score})\n",
    "        wandb.log({\"f1_score_valid\": valid_f1_score})\n",
    "        wandb.log({\"f1_score\": score})\n",
    "\n",
    "        # Plot the classifier\n",
    "        wandb.sklearn.plot_classifier(\n",
    "            best_model, X_train, X_test, y_train, y_test, y_preds, y_probas, labels=None,\n",
    "            model_name='XGBoost', feature_names=features\n",
    "        )\n",
    "\n",
    "        # Log the model artifact\n",
    "        model_artifact = wandb.Artifact(\"XGBoostClassifier\", type=\"model\", metadata=dict(config))\n",
    "        joblib.dump(best_model, \"xgb_tuned_model.pkl\")\n",
    "        model_artifact.add_file(\"xgb_tuned_model.pkl\")\n",
    "        run.log_artifact(model_artifact)\n",
    "\n",
    "# Call the function with your data\n",
    "train_xgb_model(X_train, y_train, X_valid, y_valid, X_test, y_test)"
   ]
  },
  {
   "cell_type": "markdown",
   "id": "a1e26a84-1c77-40f6-b4bc-909322171d49",
   "metadata": {},
   "source": [
    "## **Conclusion**\n",
    "\n",
    "In this phase, we addressed the critical issue of delayed truck shipments in the logistics industry by enhancing our ability to predict delays. Here's a concise summary of our approach:\n",
    "\n",
    "* Leveraged the Hopsworks feature store for efficient data retrieval.\n",
    "* Prepared the data by splitting it into training, validation, and test sets, ensuring robust model performance on unseen data, and handled missing values to maintain prediction accuracy.\n",
    "* Developed and tested logistic regression, random forest, and XGBoost models to identify the most effective solutions.\n",
    "* Applied hyperparameter tuning to optimize model accuracy and performance.\n",
    "* Built a Streamlit application to provide an interactive interface, making insights and predictions easily accessible."
   ]
  }
 ],
 "metadata": {
  "kernelspec": {
   "display_name": "Python 3 (ipykernel)",
   "language": "python",
   "name": "python3"
  },
  "language_info": {
   "codemirror_mode": {
    "name": "ipython",
    "version": 3
   },
   "file_extension": ".py",
   "mimetype": "text/x-python",
   "name": "python",
   "nbconvert_exporter": "python",
   "pygments_lexer": "ipython3",
   "version": "3.12.7"
  }
 },
 "nbformat": 4,
 "nbformat_minor": 5
}
